{
 "cells": [
  {
   "cell_type": "code",
   "execution_count": 73,
   "metadata": {},
   "outputs": [],
   "source": [
    "import numpy as np\n",
    "import matplotlib.pyplot as plt\n",
    "import scipy.stats as stats\n",
    "import seaborn as sns\n",
    "import pandas as pd\n",
    "import os\n",
    "import plotly.graph_objects as go\n",
    "from plotly.subplots import make_subplots\n",
    "import itertools\n"
   ]
  },
  {
   "cell_type": "markdown",
   "metadata": {},
   "source": [
    "### Data exploration\n",
    "['AS14.01', 'AS14.02', 'AS14.03', 'AS14.05', 'AS14.06', 'AS14.07',\n",
    "       'AS14.08', 'AS14.09', 'AS14.12', 'AS14.13', 'AS14.14', 'AS14.15',\n",
    "       'AS14.16', 'AS14.17', 'AS14.19', 'AS14.20', 'AS14.23', 'AS14.24',\n",
    "       'AS14.25', 'AS14.26', 'AS14.27', 'AS14.28', 'AS14.29', 'AS14.30',\n",
    "       'AS14.31', 'AS14.32', 'AS14.33']"
   ]
  },
  {
   "cell_type": "code",
   "execution_count": 74,
   "metadata": {},
   "outputs": [
    {
     "data": {
      "text/plain": [
       "Unnamed: 0      0\n",
       "id              0\n",
       "time            0\n",
       "variable        0\n",
       "value         202\n",
       "dtype: int64"
      ]
     },
     "execution_count": 74,
     "metadata": {},
     "output_type": "execute_result"
    }
   ],
   "source": [
    "df = pd.read_csv('dataset_mood_smartphone.csv')\n",
    "df.head()\n",
    "\n",
    "df.isna().sum()"
   ]
  },
  {
   "cell_type": "code",
   "execution_count": 75,
   "metadata": {},
   "outputs": [
    {
     "name": "stdout",
     "output_type": "stream",
     "text": [
      "[ 1  2  3  5  6  7  8  9 12 13 14 15 16 17 19 20 23 24 25 26 27 28 29 30\n",
      " 31 32 33]\n"
     ]
    }
   ],
   "source": [
    "df[\"id_num\"] = df[\"id\"].apply(lambda x: int(x.split(\".\")[1]))\n",
    "print(df[\"id_num\"].unique())\n",
    "df[\"id\"].unique()\n",
    "\n",
    "# convert time to datetime\n",
    "df[\"time\"] = pd.to_datetime(df[\"time\"])\n"
   ]
  },
  {
   "cell_type": "markdown",
   "metadata": {},
   "source": [
    "## Time ranges"
   ]
  },
  {
   "cell_type": "code",
   "execution_count": 76,
   "metadata": {},
   "outputs": [],
   "source": [
    "def get_time_descriptives(df, participant: int):\n",
    "    \"\"\"\n",
    "    Get time descriptives for a given participant.\n",
    "    \"\"\"\n",
    "    # Filter for the participant\n",
    "    df_person = df[df[\"id_num\"] == participant].copy()\n",
    "\n",
    "    # rename time into datetime\n",
    "    # print(df_person.columns) \n",
    "    \n",
    "    # Group by variable and compute descriptive statistics\n",
    "    stats = df_person.groupby(\"variable\")[\"time\"].agg(\n",
    "        count_non_missing = \"count\",\n",
    "        min_time = \"min\",\n",
    "        max_time = \"max\"\n",
    "    )\n",
    "    # Count missing values per variable\n",
    "    stats[\"n_missing\"] = df_person.groupby(\"variable\")[\"time\"].apply(lambda x: x.isna().sum())\n",
    "    # Calculate the time range (difference between max and min)\n",
    "    stats[\"time_range\"] = stats[\"max_time\"] - stats[\"min_time\"]\n",
    "    \n",
    "    # Optionally, reset the index for a nicer display\n",
    "    stats = stats.reset_index()\n",
    "    return stats\n",
    "\n",
    "\n",
    "def plot_time_ranges(df, participant, save_fig=True, show_plot=True):\n",
    "    \"\"\"\n",
    "    Plot the time range for each variable for a given participant.\n",
    "    \"\"\"\n",
    "    # Get descriptive stats for plotting\n",
    "    stats = get_time_descriptives(df, participant)\n",
    "    \n",
    "    # Create the plot\n",
    "    fig, ax = plt.subplots(figsize=(12, 0.3 * len(stats)))  # Adjust height based on number of variables\n",
    "    \n",
    "    # Loop over each variable to draw its time range as a horizontal line\n",
    "    earliest = stats[\"min_time\"].min()\n",
    "    latest = stats[\"max_time\"].max()\n",
    "    for idx, row in stats.iterrows():\n",
    "        ax.hlines(y=idx, xmin=row[\"min_time\"], xmax=row[\"max_time\"], color='blue', lw=2)\n",
    "\n",
    "        # Optionally, mark the endpoints\n",
    "        if row[\"min_time\"] == earliest:\n",
    "            ax.plot(row[\"min_time\"], idx, \"o\", color='purple')\n",
    "        else:\n",
    "            ax.plot(row[\"min_time\"], idx, \"o\", color='green')\n",
    "        if row[\"max_time\"] == latest:\n",
    "            ax.plot(row[\"max_time\"], idx, \"o\", color='darkred')\n",
    "        else:\n",
    "            ax.plot(row[\"max_time\"], idx, \"o\", color='red')\n",
    "\n",
    "    # higlight background between the earliest and latest time of mood\n",
    "    earliest_mood = stats[stats[\"variable\"] == \"mood\"][\"min_time\"].values[0]\n",
    "    latest_mood = stats[stats[\"variable\"] == \"mood\"][\"max_time\"].values[0]\n",
    "    ax.axvspan(earliest_mood, latest_mood, alpha=0.1, color='yellow')\n",
    "\n",
    "\n",
    "    # get the earliest and latest time and write it to the plot\n",
    "\n",
    "    plt.text(earliest, 5, earliest, color='black', fontsize=12)\n",
    "    plt.text(latest, 5, latest, color='black', fontsize=12)\n",
    "    \n",
    "    # line for earliest and latest time\n",
    "    ax.axvline(earliest, color='black', linestyle='--', lw=1)\n",
    "    ax.axvline(latest, color='black', linestyle='--', lw=1)\n",
    "    \n",
    "    # Customize y-axis with variable names\n",
    "    ax.set_yticks(range(len(stats)))\n",
    "    ax.set_yticklabels(stats[\"variable\"])\n",
    "    ax.set_xlabel(\"Time\")\n",
    "    ax.set_title(\"Time Range per Variable for Participant {}\".format(participant))\n",
    "\n",
    "\n",
    "    plt.tight_layout()\n",
    "\n",
    "\n",
    "    # save figure\n",
    "    if save_fig:\n",
    "        if not os.path.exists(\"figures/time_ranges_per_variable\"):\n",
    "            os.makedirs(\"figures/time_ranges_per_variable\")\n",
    "        plt.savefig(f\"figures/time_ranges_per_variable/time_range_plot_p{participant}.png\")\n",
    "    \n",
    "    # add one legend for all lines\n",
    "\n",
    "    if show_plot:\n",
    "        plt.show()\n",
    "    else:\n",
    "        plt.close()\n",
    "\n",
    "\n",
    "\n",
    "for person in df[\"id_num\"].unique():\n",
    "    # print(f\"Participant {person}\")\n",
    "    stats = get_time_descriptives(df, person)\n",
    "    # print(stats)\n",
    "    plot_time_ranges(df, person, save_fig=True, show_plot=False)\n",
    "\n",
    "\n"
   ]
  },
  {
   "cell_type": "markdown",
   "metadata": {},
   "source": [
    "## Create daily pivot for particiapnt per day"
   ]
  },
  {
   "cell_type": "code",
   "execution_count": 77,
   "metadata": {},
   "outputs": [
    {
     "data": {
      "text/plain": [
       "Index(['id_num', 'day', 'mood', 'mood_count', 'screen', 'screen_count',\n",
       "       'activity', 'activity_count', 'activity_max', 'circumplex.valence',\n",
       "       'circumplex.valence_count', 'circumplex.valence_min',\n",
       "       'circumplex.valence_max', 'circumplex.arousal',\n",
       "       'circumplex.arousal_count', 'circumplex.arousal_min',\n",
       "       'circumplex.arousal_max', 'call', 'call_count', 'sms', 'sms_count',\n",
       "       'appCat.builtin', 'appCat.builtin_count', 'appCat.communication',\n",
       "       'appCat.communication_count', 'appCat.entertainment',\n",
       "       'appCat.entertainment_count', 'appCat.finance', 'appCat.finance_count',\n",
       "       'appCat.game', 'appCat.game_count', 'appCat.office',\n",
       "       'appCat.office_count', 'appCat.other', 'appCat.other_count',\n",
       "       'appCat.social', 'appCat.social_count', 'appCat.travel',\n",
       "       'appCat.travel_count', 'appCat.unknown', 'appCat.unknown_count',\n",
       "       'appCat.utilities', 'appCat.utilities_count', 'appCat.weather',\n",
       "       'appCat.weather_count'],\n",
       "      dtype='object', name='variable')"
      ]
     },
     "execution_count": 77,
     "metadata": {},
     "output_type": "execute_result"
    }
   ],
   "source": [
    "\n",
    "def create_daily_pivot(df, participant=\"all\", return_dict=False, counts=True):\n",
    "    \"\"\"\n",
    "    Create a daily pivot table for a given participant or all participants or list of participants.\n",
    "    \n",
    "    Each row corresponds to a day (from the earliest to the latest day the participant has data),\n",
    "    each column corresponds to a variable, and if multiple datapoints occur on a given day,\n",
    "    the value is aggregated as the mean. Days with no data for a variable are represented as NaN.\n",
    "    \n",
    "    Parameters:\n",
    "        df (pd.DataFrame): DataFrame containing at least the columns 'id_num', 'time', \n",
    "                           'variable', and 'value'. The 'time' column should be in datetime format.\n",
    "        participant: Either \"all\" (to process all participants), a single participant id, or a list of participant ids.\n",
    "        return_dict (bool): If True, returns a dictionary of pivot tables (keyed by participant).\n",
    "                            Otherwise, returns a single DataFrame with 'id_num' and 'day' as columns.\n",
    "        counts (bool): If True, includes a count of the number of values for each variable per day.\n",
    "    \n",
    "    Returns:\n",
    "        Either a dict mapping participant IDs to their daily pivot table or a combined DataFrame.\n",
    "    \"\"\"\n",
    "    # Determine the list of participant IDs to process\n",
    "    if participant == \"all\":\n",
    "        participants = df[\"id_num\"].unique()\n",
    "    elif isinstance(participant, list):\n",
    "        participants = participant\n",
    "    else:\n",
    "        participants = [participant]\n",
    "        \n",
    "    # Ensure the time column is in datetime format\n",
    "    df_copy = df.copy()\n",
    "    if not pd.api.types.is_datetime64_any_dtype(df_copy[\"time\"]):\n",
    "        df_copy[\"time\"] = pd.to_datetime(df_copy[\"time\"])\n",
    "    \n",
    "    # Create a column with just the day (flooring the datetime to day)\n",
    "    df_copy[\"day\"] = df_copy[\"time\"].dt.floor(\"D\")\n",
    "    \n",
    "    pivot_dict = {}\n",
    "    pivot_list = []\n",
    "    \n",
    "    # Process each participant separately\n",
    "    for part in participants:\n",
    "        df_part = df_copy[df_copy[\"id_num\"] == part].copy()\n",
    "\n",
    "        # get a count of the number of values of variable per day\n",
    "        # df_part[\"comprising_of\"] = df_part.groupby([\"day\", \"variable\"])[\"value\"].transform(\"count\")\n",
    "\n",
    "        # select the mean aggregation columns, time values should be aggregated by sum\n",
    "        mean_agg = [\"mood\", \"circumplex.valence\", \"circumplex.arousal\"] # not sure about activity\n",
    "        sum_agg = [col for col in df_part[\"variable\"].unique() if col not in mean_agg + [\"id_num\", \"time\", \"day\"]]\n",
    "        \n",
    "        # Create a new DataFrame with the selected columns\n",
    "        df_part_sum = df_part[df_part[\"variable\"].isin(sum_agg)].copy()\n",
    "        pivot_sum = df_part_sum.pivot_table(index=\"day\",\n",
    "                                            columns=\"variable\", \n",
    "                                            values=\"value\", \n",
    "                                            aggfunc=\"sum\")\n",
    "\n",
    "        # only non-nan values are averaged\n",
    "        df_part_mean = df_part[df_part[\"variable\"].isin(mean_agg)].copy()\n",
    "        pivot_mean = df_part_mean.pivot_table(index=\"day\",\n",
    "                                              columns=\"variable\", \n",
    "                                              values=\"value\", \n",
    "                                              aggfunc=\"mean\")\n",
    "    \n",
    "        # get the count of the number of values comprising the variable per day\n",
    "        pivot_count = df_part.pivot_table(index=\"day\",\n",
    "                                    columns=\"variable\",\n",
    "                                    values=\"value\",\n",
    "                                    aggfunc=\"count\")\n",
    "\n",
    "        # add maximum values in a day\n",
    "        max_agg = [\"activity\", \"circumplex.valence\", \"circumplex.arousal\"]\n",
    "        df_part_max = df_part[df_part[\"variable\"].isin(max_agg)].copy()\n",
    "        pivot_max = df_part_max.pivot_table(index=\"day\",\n",
    "                                        columns=\"variable\",\n",
    "                                        values=\"value\",\n",
    "                                        aggfunc=\"max\")\n",
    "\n",
    "        # add the minimum values in a day\n",
    "        min_agg = [\"circumplex.valence\", \"circumplex.arousal\"]\n",
    "        df_part_min = df_part[df_part[\"variable\"].isin(min_agg)].copy()\n",
    "        pivot_min = df_part_min.pivot_table(index=\"day\",\n",
    "                                        columns=\"variable\",\n",
    "                                        values=\"value\",\n",
    "                                        aggfunc=\"min\")\n",
    "\n",
    "\n",
    "        #nans are 0\n",
    "        pivot_count = pivot_count.fillna(0) # NOT SURE ABOUT THIS\n",
    "        pivot_count = pivot_count.add_suffix(\"_count\")\n",
    "\n",
    "        pivot_max = pivot_max.add_suffix(\"_max\")\n",
    "        pivot_min = pivot_min.add_suffix(\"_min\")\n",
    "\n",
    "\n",
    "\n",
    "        # Combine the two pivot tables\n",
    "        pivot = pd.concat([pivot_sum, pivot_mean, pivot_max, pivot_min], axis=1)\n",
    "        # Pandas aligns the data based on the index (which here represents the days).\n",
    "        # The union of the indices is taken, and any missing data for a particular day in one of the tables is filled with NaN. \n",
    "        # The same applies when you concatenate the count pivot table. \n",
    "        # This means that even if the individual pivot tables have different numbers of rows, the concatenation will produce a DataFrame covering all days from the union of the indices.\n",
    "        if counts:\n",
    "            pivot = pd.concat([pivot, pivot_count], axis=1)\n",
    "                                            \n",
    "        # Create a complete date range from the earliest to the latest day for this participant\n",
    "        full_range = pd.date_range(start=df_part[\"day\"].min(), end=df_part[\"day\"].max(), freq=\"D\")\n",
    "        pivot = pivot.reindex(full_range)\n",
    "        pivot.index.name = \"day\"\n",
    "        \n",
    "        # Convert index to a column and add participant id\n",
    "        pivot = pivot.reset_index()\n",
    "        pivot[\"id_num\"] = part\n",
    "\n",
    "        # reorder the columns\n",
    "        desired_order = [\"id_num\", \"day\", \"mood\", \"screen\", \"activity\", \"circumplex.valence\", \"circumplex.arousal\", \"call\", \"sms\"]\n",
    "        other_columns = [p for p in pivot.columns if p not in desired_order and not p.endswith(\"_count\") and not p.endswith(\"_max\") and not p.endswith(\"_min\")]\n",
    "        new_order = desired_order + other_columns\n",
    "\n",
    "        # add the counts to the new order\n",
    "        final_order = []\n",
    "        for col in new_order:\n",
    "            final_order.append(col)\n",
    "            if col not in [\"id_num\", \"day\"]:\n",
    "                if counts:\n",
    "                    final_order.append(f\"{col}_count\")\n",
    "                if col in [\"circumplex.valence\", \"circumplex.arousal\"]:\n",
    "                    final_order.append(f\"{col}_min\")\n",
    "                if col in [\"activity\", \"circumplex.valence\", \"circumplex.arousal\"]:\n",
    "                    final_order.append(f\"{col}_max\")\n",
    "\n",
    "        pivot = pivot[final_order]\n",
    "        \n",
    "        # print(\"final columns\", pivot.columns)\n",
    "\n",
    "        # rearrange the columns to have the id_num, day, mood, screen, activity, circumplex.valence, circumplex.arousal then the rest\n",
    "\n",
    "        if return_dict:\n",
    "            pivot_dict[part] = pivot\n",
    "        else:\n",
    "            pivot_list.append(pivot)\n",
    "    \n",
    "    if return_dict:\n",
    "        return pivot_dict\n",
    "    else:\n",
    "        # Concatenate the list of dataframes without setting a multi-index so that\n",
    "        # both 'day' and 'id_num' remain as regular columns\n",
    "        combined = pd.concat(pivot_list, ignore_index=True)\n",
    "        # sort by id_num and day\n",
    "        combined = combined.sort_values(by=[\"id_num\", \"day\"])\n",
    "        # save the combined dataframe to a csv file\n",
    "        if not os.path.exists(\"tables/pivot_tables_daily\"):\n",
    "            os.makedirs(\"tables/pivot_tables_daily\")\n",
    "        combined.to_csv(f\"tables/pivot_tables_daily/daily_pivot_table_{participant}.csv\", index=False)\n",
    "        return combined\n",
    "\n",
    "# For a single participant:\n",
    "# single_pivot = create_daily_pivot(df, participant=1)\n",
    "# single_pivot.describe()\n",
    "\n",
    "# For multiple participants combined into one DataFrame:\n",
    "combined_pivot = create_daily_pivot(df, participant=\"all\", return_dict=False)\n",
    "combined_pivot.columns\n",
    "\n",
    "# For a dictionary of separate pivot tables:\n",
    "# pivot_dict = create_daily_pivot(df, participant=[1,2,3], return_dict=True)\n",
    "# print(pivot_dict.values())\n",
    "\n",
    "# combined_pivot.head()\n"
   ]
  },
  {
   "cell_type": "markdown",
   "metadata": {},
   "source": [
    "## Interactive timeseries"
   ]
  },
  {
   "cell_type": "code",
   "execution_count": 78,
   "metadata": {},
   "outputs": [],
   "source": [
    "def plotly_all_participants_timeseries(df_plot, save_html=True, show_plot=True, title=\"time_series_all_participants\"):\n",
    "    \"\"\"\n",
    "    Plot time series for all participants, one line per participant per variable,\n",
    "    with a dropdown toggle to show specific participants.\n",
    "    \n",
    "    The function expects a daily pivot table DataFrame with a column \"day\" (date)\n",
    "    and \"id_num\" (participant identifier) along with other numeric variable columns.\n",
    "    \n",
    "    Parameters:\n",
    "        df_plot (pd.DataFrame): DataFrame that is already a pivot.\n",
    "        save_html (bool): Whether to save the figure as an HTML file.\n",
    "        show_plot (bool): Whether to display the plot.\n",
    "    \"\"\"\n",
    "    # Get the daily pivot table for all participants.\n",
    "    # This function should return a DataFrame with columns \"day\", \"id_num\", and variable columns.\n",
    "    \n",
    "    # df_plot = create_daily_pivot(df, participant=\"all\", return_dict=False)\n",
    "    \n",
    "    # Make sure \"day\" is a column; if it's not, throw an error.\n",
    "    if \"day\" not in df_plot.columns:\n",
    "        raise ValueError(\"Expected a 'day' column in the DataFrame.\")\n",
    "    \n",
    "    # Convert \"day\" to a proper date format and rename as \"date\" for clarity\n",
    "    df_plot[\"date\"] = pd.to_datetime(df_plot[\"day\"]).dt.date\n",
    "\n",
    "    # Check that 'id_num' is present.\n",
    "    if \"id_num\" not in df_plot.columns:\n",
    "        raise ValueError(\"Expected a column 'id_num' to identify participants.\")\n",
    "\n",
    "    if \"next_day\" in df_plot.columns:\n",
    "        print(\"PLOTLY TIMESERIES FUNCTION will delete column next day\")\n",
    "        df_plot = df_plot.drop(\"next_day\", axis=1)\n",
    "    \n",
    "    # Identify numeric columns (i.e. variables)\n",
    "    numeric_cols = df_plot.select_dtypes(include=\"number\").columns.tolist()\n",
    "    # Remove group-by columns if present\n",
    "    group_cols = [\"id_num\", \"day\", \"date\"]\n",
    "    variables = [col for col in df_plot.columns if col not in group_cols]\n",
    "    \n",
    "    # Group by participant and date (if needed, here our pivot table should already be daily)\n",
    "    # In case there are multiple entries per date for a participant (unlikely after pivoting),\n",
    "    # we aggregate them by mean.\n",
    "    grouped = df_plot.groupby([\"id_num\", \"date\"])[variables].mean(numeric_only=True).reset_index()\n",
    "    \n",
    "    participants = grouped[\"id_num\"].unique()\n",
    "\n",
    "    # Create a subplot for each variable, sharing the same x-axis.\n",
    "    fig = make_subplots(\n",
    "        rows=len(variables), cols=1, shared_xaxes=True,\n",
    "        vertical_spacing=0.02, subplot_titles=variables\n",
    "    )\n",
    "\n",
    "    # This list will help map each trace to its participant for the dropdown.\n",
    "    visibility_map = []\n",
    "\n",
    "    # Create one trace per participant per variable.\n",
    "    for row_idx, var in enumerate(variables, 1):\n",
    "        for pid in participants:\n",
    "            pid_data = grouped[grouped[\"id_num\"] == pid]\n",
    "            fig.add_trace(\n",
    "                go.Scatter(\n",
    "                    x=pid_data[\"date\"],\n",
    "                    y=pid_data[var],\n",
    "                    mode=\"lines+markers\",\n",
    "                    name=f\"Participant {pid}\",\n",
    "                    legendgroup=str(pid),\n",
    "                    visible=True if row_idx == 1 else False,  # only show all for first subplot initially\n",
    "                    showlegend=(row_idx == 1)\n",
    "                ),\n",
    "                row=row_idx, col=1\n",
    "            )\n",
    "            visibility_map.append((row_idx, pid))\n",
    "\n",
    "    # Create dropdown buttons to toggle traces by participant.\n",
    "    buttons = []\n",
    "    for pid in participants:\n",
    "        # Build visibility list: each trace is visible only if its participant matches pid.\n",
    "        visible = []\n",
    "        for (row, p) in visibility_map:\n",
    "            visible.append(p == pid)\n",
    "        buttons.append(dict(\n",
    "            label=f\"Participant {pid}\",\n",
    "            method=\"update\",\n",
    "            args=[{\"visible\": visible},\n",
    "                  {\"title\": f\"Time Series - Participant {pid}\"}]\n",
    "        ))\n",
    "\n",
    "    # Add a button to show all participants.\n",
    "    buttons.insert(0, dict(\n",
    "        label=\"Show All\",\n",
    "        method=\"update\",\n",
    "        args=[{\"visible\": [True] * len(visibility_map)},\n",
    "              {\"title\": \"Time Series - All Participants\"}]\n",
    "    ))\n",
    "\n",
    "    fig.update_layout(\n",
    "        height=300 * len(variables),\n",
    "        title=\"Time Series - All Participants\",\n",
    "        updatemenus=[{\n",
    "            \"buttons\": buttons,\n",
    "            \"direction\": \"down\",\n",
    "            \"showactive\": True,\n",
    "            \"x\": 1.02,\n",
    "            \"xanchor\": \"left\",\n",
    "            \"y\": 1,\n",
    "            \"yanchor\": \"top\"\n",
    "        }],\n",
    "        hovermode=\"x unified\"\n",
    "    )\n",
    "\n",
    "    # Optionally save as HTML.\n",
    "    if save_html:\n",
    "        outdir = \"figures/plotly/all_participants\"\n",
    "        os.makedirs(outdir, exist_ok=True)\n",
    "        fig.write_html(os.path.join(outdir, f\"{title}.html\"))\n",
    "\n",
    "    # Show the figure if requested.\n",
    "    if show_plot:\n",
    "        fig.show()\n",
    "\n",
    "pivot_with_counts = create_daily_pivot(df, participant=\"all\", return_dict=False, counts=True)\n",
    "plotly_all_participants_timeseries(pivot_with_counts, save_html=True, show_plot=False)\n"
   ]
  },
  {
   "cell_type": "code",
   "execution_count": null,
   "metadata": {},
   "outputs": [],
   "source": []
  },
  {
   "cell_type": "markdown",
   "metadata": {},
   "source": [
    "## Interactive histograms"
   ]
  },
  {
   "cell_type": "code",
   "execution_count": 79,
   "metadata": {},
   "outputs": [],
   "source": [
    "def plotly_all_participants_histograms(df_plot, save_html=True, show_plot=True, title=\"all_participants_histograms\"):\n",
    "    \"\"\"\n",
    "    Plot histograms for all participants, one histogram per variable,\n",
    "    with a dropdown toggle to show specific participants.\n",
    "    \n",
    "    The function expects a daily pivot table DataFrame with a column \"day\" (date)\n",
    "    and \"id_num\" (participant identifier) along with other numeric variable columns.\n",
    "    \n",
    "    Parameters:\n",
    "        df_plot (pd.DataFrame): DataFrame that is already a pivot.\n",
    "        save_html (bool): Whether to save the figure as an HTML file.\n",
    "        show_plot (bool): Whether to display the plot.\n",
    "    \"\"\"\n",
    "    # Get the daily pivot table for all participants.\n",
    "    # This function should return a DataFrame with columns \"day\", \"id_num\", and variable columns.\n",
    "    # df_plot = create_daily_pivot(df, participant=\"all\", return_dict=False)\n",
    "    \n",
    "    # Make sure \"day\" is a column; if it's not, throw an error.\n",
    "    if \"day\" not in df_plot.columns:\n",
    "        raise ValueError(\"Expected a 'day' column in the DataFrame.\")\n",
    "    \n",
    "    # Convert \"day\" to a proper date format and also create a 'date' column (for clarity)\n",
    "    df_plot[\"date\"] = pd.to_datetime(df_plot[\"day\"]).dt.date\n",
    "\n",
    "    # Check that 'id_num' is present.\n",
    "    if \"id_num\" not in df_plot.columns:\n",
    "        raise ValueError(\"Expected a column 'id_num' to identify participants.\")\n",
    "    \n",
    "    # Identify variable columns by excluding group-by columns.\n",
    "    group_cols = [\"id_num\", \"day\", \"date\"]\n",
    "    variables = [col for col in df_plot.columns if col not in group_cols]\n",
    "    \n",
    "    # Group by participant and date (this should be daily data, but we aggregate if needed)\n",
    "    grouped = df_plot.groupby([\"id_num\", \"date\"])[variables].mean(numeric_only=True).reset_index()\n",
    "    \n",
    "    participants = grouped[\"id_num\"].unique()\n",
    "\n",
    "    # Create a subplot for each variable.\n",
    "    fig = make_subplots(\n",
    "        rows=len(variables), cols=1, shared_xaxes=False,\n",
    "        vertical_spacing=0.02, subplot_titles=variables\n",
    "    )\n",
    "\n",
    "    # Map each trace to its participant for the dropdown toggle.\n",
    "    visibility_map = []\n",
    "\n",
    "    # Create one histogram trace per participant per variable.\n",
    "    for row_idx, var in enumerate(variables, 1):\n",
    "        for pid in participants:\n",
    "            pid_data = grouped[grouped[\"id_num\"] == pid]\n",
    "            fig.add_trace(\n",
    "                go.Histogram(\n",
    "                    x=pid_data[var],\n",
    "                    name=f\"Participant {pid}\",\n",
    "                    legendgroup=str(pid),\n",
    "                    visible=True if row_idx == 1 else False,  # show all traces for the first subplot initially\n",
    "                    showlegend=(row_idx == 1)\n",
    "                ),\n",
    "                row=row_idx, col=1\n",
    "            )\n",
    "            visibility_map.append((row_idx, pid))\n",
    "    \n",
    "    # Create dropdown buttons to toggle traces by participant.\n",
    "    buttons = []\n",
    "    for pid in participants:\n",
    "        # Build visibility list: each trace is visible only if its participant matches pid.\n",
    "        visible = []\n",
    "        for (row, p) in visibility_map:\n",
    "            visible.append(p == pid)\n",
    "        buttons.append(dict(\n",
    "            label=f\"Participant {pid}\",\n",
    "            method=\"update\",\n",
    "            args=[{\"visible\": visible},\n",
    "                  {\"title\": f\"Histograms - Participant {pid}\"}]\n",
    "        ))\n",
    "    \n",
    "    # Add a button to show all participants.\n",
    "    buttons.insert(0, dict(\n",
    "        label=\"Show All\",\n",
    "        method=\"update\",\n",
    "        args=[{\"visible\": [True] * len(visibility_map)},\n",
    "              {\"title\": \"Histograms - All Participants\"}]\n",
    "    ))\n",
    "    \n",
    "    fig.update_layout(\n",
    "        height=300 * len(variables),\n",
    "        title=\"Histograms - All Participants\",\n",
    "        updatemenus=[{\n",
    "            \"buttons\": buttons,\n",
    "            \"direction\": \"down\",\n",
    "            \"showactive\": True,\n",
    "            \"x\": 1.02,\n",
    "            \"xanchor\": \"left\",\n",
    "            \"y\": 1,\n",
    "            \"yanchor\": \"top\"\n",
    "        }],\n",
    "        barmode=\"overlay\",\n",
    "        hovermode=\"x unified\"\n",
    "    )\n",
    "    \n",
    "    # Optionally save the figure as HTML.\n",
    "    if save_html:\n",
    "        outdir = \"figures/plotly/all_participants\"\n",
    "        os.makedirs(outdir, exist_ok=True)\n",
    "        fig.write_html(os.path.join(outdir, f\"{title}.html\"))\n",
    "    \n",
    "    # Show the figure if requested.\n",
    "    if show_plot:\n",
    "        fig.show()\n",
    "\n",
    "pivot_with_counts = create_daily_pivot(df, participant=\"all\", return_dict=False, counts=True)\n",
    "plotly_all_participants_histograms(pivot_with_counts, save_html=True, show_plot=False)"
   ]
  },
  {
   "cell_type": "markdown",
   "metadata": {},
   "source": [
    "## Interactive Correlations"
   ]
  },
  {
   "cell_type": "code",
   "execution_count": 80,
   "metadata": {},
   "outputs": [],
   "source": [
    "def plotly_all_participants_correlations(df, save_html=True, show_plot=True, title=\"all_participants_correlations\"):\n",
    "    \"\"\"\n",
    "    Create an interactive correlation analysis figure.\n",
    "    \n",
    "    For each participant option (either all participants combined or individual participants)\n",
    "    and for each scatter plot variable pair (chosen from the numeric variables), this function creates:\n",
    "    \n",
    "    1. A heatmap correlation matrix (top row) computed on all numeric variables available for that participant.\n",
    "    2. A scatter plot (bottom row) for the selected variable pair.\n",
    "    \n",
    "    A single combined update menu (dropdown) allows the user to select the (participant, variable pair)\n",
    "    combination to display.\n",
    "    \n",
    "    Parameters:\n",
    "      df (pd.DataFrame): DataFrame that will be used to create pivot dictionary.\n",
    "                         Expected to contain at least 'id_num', 'day', and numeric variable columns.\n",
    "      save_html (bool): Whether to save the figure as an HTML file.\n",
    "      show_plot (bool): Whether to display the plot.\n",
    "      \n",
    "    Notes:\n",
    "      - This function handles lots of NaNs by relying on pandas’ .corr() (which computes pairwise correlations).\n",
    "      - It creates separate traces for each combination, and uses an update menu to toggle visibility.\n",
    "    \"\"\"\n",
    "    # Create the daily pivot table for all participants.\n",
    "    # Use return_dict=True to get separate DataFrames for each participant.\n",
    "    pivot_dict = create_daily_pivot(df, participant=\"all\", return_dict=True, counts=False)\n",
    "    \n",
    "    # Also create an \"all\" option by concatenating all participants' data.\n",
    "    df_all = pd.concat(pivot_dict.values(), ignore_index=True)\n",
    "    pivot_dict[\"all\"] = df_all\n",
    "    \n",
    "    # Identify participant options. They will be the keys of pivot_dict.\n",
    "    participant_options = list(pivot_dict.keys())\n",
    "    \n",
    "    # Assume the numeric variables are those not in the grouping columns:\n",
    "    group_cols = [\"id_num\", \"day\"]\n",
    "    sample_df = pivot_dict[participant_options[0]]\n",
    "    all_vars = list(sample_df.columns)\n",
    "    numeric_vars = [col for col in all_vars if col not in group_cols and col != \"date\"]\n",
    "    \n",
    "    # Optionally force a specific order for some variables.\n",
    "    desired_order = [\"mood\", \"screen\", \"activity\", \"circumplex.valence\", \"circumplex.arousal\"]\n",
    "    ordered_vars = [v for v in desired_order if v in numeric_vars] + [v for v in numeric_vars if v not in desired_order]\n",
    "    numeric_vars = ordered_vars\n",
    "\n",
    "    # Create a list of scatter plot pairs. Here we take all unordered pairs.\n",
    "    scatter_pairs = list(itertools.combinations(numeric_vars, 2))\n",
    "    if not scatter_pairs:\n",
    "        raise ValueError(\"Not enough numeric variables to form scatter plot pairs.\")\n",
    "\n",
    "    # Build a figure with 2 rows: row 1 for the heatmap, row 2 for the scatter plot.\n",
    "    fig = make_subplots(\n",
    "        rows=2, cols=1,\n",
    "        row_heights=[0.5, 0.5],\n",
    "        vertical_spacing=0.1,\n",
    "        subplot_titles=(\"Correlation Matrix\", \"Scatter Plot\")\n",
    "    )\n",
    "    \n",
    "    # This list will be used to later update trace visibility.\n",
    "    trace_visibility_defaults = []\n",
    "    # Map (participant, scatter_pair index) to a \"visible\" vector.\n",
    "    visibility_dict = {}\n",
    "    \n",
    "    # --- Create heatmap traces for each participant option.\n",
    "    heatmap_traces = []\n",
    "    for p_idx, p in enumerate(participant_options):\n",
    "        df_p = pivot_dict[p]\n",
    "        # Use only the numeric variables that are actually in df_p.\n",
    "        available_vars = [col for col in numeric_vars if col in df_p.columns]\n",
    "        if available_vars:\n",
    "            df_corr = df_p[available_vars].corr()\n",
    "            heat_trace = go.Heatmap(\n",
    "                z = df_corr.values,\n",
    "                x = df_corr.columns.tolist(),\n",
    "                y = df_corr.index.tolist(),\n",
    "                colorbar=dict(title=\"r\"),\n",
    "                visible=False  # update later\n",
    "            )\n",
    "        else:\n",
    "            # If no variables exist for this participant, create an empty trace.\n",
    "            heat_trace = go.Heatmap(z=[], x=[], y=[], visible=False)\n",
    "        heatmap_traces.append(heat_trace)\n",
    "        fig.add_trace(heat_trace, row=1, col=1)\n",
    "        trace_visibility_defaults.append(False)\n",
    "    \n",
    "    # --- Create scatter plot traces for each participant and each scatter pair.\n",
    "    scatter_traces = []\n",
    "    for p_idx, p in enumerate(participant_options):\n",
    "        df_p = pivot_dict[p]\n",
    "        for sp_idx, (var_x, var_y) in enumerate(scatter_pairs):\n",
    "            # Only use data if both variables exist for the participant.\n",
    "            if var_x in df_p.columns and var_y in df_p.columns:\n",
    "                scatter_trace = go.Scatter(\n",
    "                    x = df_p[var_x],\n",
    "                    y = df_p[var_y],\n",
    "                    mode = \"markers\",\n",
    "                    marker = dict(size=8, opacity=0.7),\n",
    "                    name = f\"{p} - {var_x} vs {var_y}\",\n",
    "                    visible = False  # update later\n",
    "                )\n",
    "            else:\n",
    "                # Create an empty trace if one or both variables are missing.\n",
    "                scatter_trace = go.Scatter(\n",
    "                    x = [],\n",
    "                    y = [],\n",
    "                    mode = \"markers\",\n",
    "                    marker = dict(size=8, opacity=0.7),\n",
    "                    name = f\"{p} - {var_x} vs {var_y}\",\n",
    "                    visible = False\n",
    "                )\n",
    "            scatter_traces.append(scatter_trace)\n",
    "            fig.add_trace(scatter_trace, row=2, col=1)\n",
    "            trace_visibility_defaults.append(False)\n",
    "    \n",
    "    total_traces = len(heatmap_traces) + len(scatter_traces)\n",
    "    \n",
    "    # Build mapping from (participant, scatter_pair index) to a full \"visible\" vector.\n",
    "    for p_idx, p in enumerate(participant_options):\n",
    "        for sp_idx in range(len(scatter_pairs)):\n",
    "            # Create a boolean list (one per trace) initialized to False.\n",
    "            visible = [False] * total_traces\n",
    "            # For the heatmap: only the trace for participant p should be visible.\n",
    "            visible[p_idx] = True\n",
    "            # For scatter traces, they are arranged in blocks per participant.\n",
    "            scatter_trace_index = len(heatmap_traces) + p_idx * len(scatter_pairs) + sp_idx\n",
    "            visible[scatter_trace_index] = True\n",
    "            visibility_dict[(p, sp_idx)] = visible\n",
    "\n",
    "    # Set the default selection: use participant \"all\" and the first scatter pair.\n",
    "    default_key = (\"all\", 0)\n",
    "    default_visible = visibility_dict[default_key]\n",
    "    for i, vis in enumerate(default_visible):\n",
    "        fig.data[i].visible = vis\n",
    "\n",
    "    # --- Create an update menu with one button per (participant, scatter pair) combination.\n",
    "    menu_buttons = []\n",
    "    for p in participant_options:\n",
    "        for sp_idx, (var_x, var_y) in enumerate(scatter_pairs):\n",
    "            label = f\"{'All' if p=='all' else 'Participant '+str(p)}: {var_x} vs {var_y}\"\n",
    "            visible = visibility_dict[(p, sp_idx)]\n",
    "            button = dict(\n",
    "                label = label,\n",
    "                method = \"update\",\n",
    "                args = [\n",
    "                    {\"visible\": visible},\n",
    "                    {\"title\": f\"Correlation Analysis - {'All' if p=='all' else 'Participant '+str(p)}: {var_x} vs {var_y}\"}\n",
    "                ]\n",
    "            )\n",
    "            menu_buttons.append(button)\n",
    "    \n",
    "    # Update the layout with the dropdown menu.\n",
    "    fig.update_layout(\n",
    "        updatemenus=[{\n",
    "            \"buttons\": menu_buttons,\n",
    "            \"direction\": \"down\",\n",
    "            \"showactive\": True,\n",
    "            \"x\": 1.05,\n",
    "            \"xanchor\": \"left\",\n",
    "            \"y\": 1,\n",
    "            \"yanchor\": \"top\"\n",
    "        }],\n",
    "        height=800,\n",
    "        title=\"Correlation Analysis\"\n",
    "    )\n",
    "    \n",
    "    # Optionally save as HTML.\n",
    "    if save_html:\n",
    "        outdir = \"figures/plotly/correlations\"\n",
    "        os.makedirs(outdir, exist_ok=True)\n",
    "        fig.write_html(os.path.join(outdir, f\"{title}.html\"))\n",
    "    \n",
    "    if show_plot:\n",
    "        fig.show()\n",
    "\n",
    "# plotly_all_participants_correlations(df, save_html=True, show_plot=False)"
   ]
  },
  {
   "cell_type": "markdown",
   "metadata": {},
   "source": [
    "## count NANs per variable per participant and for all participants"
   ]
  },
  {
   "cell_type": "code",
   "execution_count": 95,
   "metadata": {},
   "outputs": [
    {
     "data": {
      "text/html": [
       "<div>\n",
       "<style scoped>\n",
       "    .dataframe tbody tr th:only-of-type {\n",
       "        vertical-align: middle;\n",
       "    }\n",
       "\n",
       "    .dataframe tbody tr th {\n",
       "        vertical-align: top;\n",
       "    }\n",
       "\n",
       "    .dataframe thead th {\n",
       "        text-align: right;\n",
       "    }\n",
       "</style>\n",
       "<table border=\"1\" class=\"dataframe\">\n",
       "  <thead>\n",
       "    <tr style=\"text-align: right;\">\n",
       "      <th></th>\n",
       "      <th>variable</th>\n",
       "      <th>nan_percentage</th>\n",
       "      <th>nan_count</th>\n",
       "      <th>unique_values</th>\n",
       "      <th>participant</th>\n",
       "    </tr>\n",
       "  </thead>\n",
       "  <tbody>\n",
       "    <tr>\n",
       "      <th>314</th>\n",
       "      <td>appCat.weather_count</td>\n",
       "      <td>1.0</td>\n",
       "      <td>78</td>\n",
       "      <td>0</td>\n",
       "      <td>8</td>\n",
       "    </tr>\n",
       "    <tr>\n",
       "      <th>571</th>\n",
       "      <td>appCat.office</td>\n",
       "      <td>1.0</td>\n",
       "      <td>78</td>\n",
       "      <td>0</td>\n",
       "      <td>16</td>\n",
       "    </tr>\n",
       "    <tr>\n",
       "      <th>927</th>\n",
       "      <td>appCat.finance</td>\n",
       "      <td>1.0</td>\n",
       "      <td>88</td>\n",
       "      <td>0</td>\n",
       "      <td>27</td>\n",
       "    </tr>\n",
       "    <tr>\n",
       "      <th>928</th>\n",
       "      <td>appCat.finance_count</td>\n",
       "      <td>1.0</td>\n",
       "      <td>88</td>\n",
       "      <td>0</td>\n",
       "      <td>27</td>\n",
       "    </tr>\n",
       "    <tr>\n",
       "      <th>673</th>\n",
       "      <td>appCat.weather</td>\n",
       "      <td>1.0</td>\n",
       "      <td>78</td>\n",
       "      <td>0</td>\n",
       "      <td>19</td>\n",
       "    </tr>\n",
       "    <tr>\n",
       "      <th>...</th>\n",
       "      <td>...</td>\n",
       "      <td>...</td>\n",
       "      <td>...</td>\n",
       "      <td>...</td>\n",
       "      <td>...</td>\n",
       "    </tr>\n",
       "    <tr>\n",
       "      <th>770</th>\n",
       "      <td>screen_count</td>\n",
       "      <td>0.0</td>\n",
       "      <td>0</td>\n",
       "      <td>44</td>\n",
       "      <td>24</td>\n",
       "    </tr>\n",
       "    <tr>\n",
       "      <th>772</th>\n",
       "      <td>activity_count</td>\n",
       "      <td>0.0</td>\n",
       "      <td>0</td>\n",
       "      <td>6</td>\n",
       "      <td>24</td>\n",
       "    </tr>\n",
       "    <tr>\n",
       "      <th>775</th>\n",
       "      <td>circumplex.valence_count</td>\n",
       "      <td>0.0</td>\n",
       "      <td>0</td>\n",
       "      <td>7</td>\n",
       "      <td>24</td>\n",
       "    </tr>\n",
       "    <tr>\n",
       "      <th>779</th>\n",
       "      <td>circumplex.arousal_count</td>\n",
       "      <td>0.0</td>\n",
       "      <td>0</td>\n",
       "      <td>7</td>\n",
       "      <td>24</td>\n",
       "    </tr>\n",
       "    <tr>\n",
       "      <th>630</th>\n",
       "      <td>id_num</td>\n",
       "      <td>0.0</td>\n",
       "      <td>0</td>\n",
       "      <td>1</td>\n",
       "      <td>19</td>\n",
       "    </tr>\n",
       "  </tbody>\n",
       "</table>\n",
       "<p>1260 rows × 5 columns</p>\n",
       "</div>"
      ],
      "text/plain": [
       "                     variable  nan_percentage  nan_count  unique_values  \\\n",
       "314      appCat.weather_count             1.0         78              0   \n",
       "571             appCat.office             1.0         78              0   \n",
       "927            appCat.finance             1.0         88              0   \n",
       "928      appCat.finance_count             1.0         88              0   \n",
       "673            appCat.weather             1.0         78              0   \n",
       "..                        ...             ...        ...            ...   \n",
       "770              screen_count             0.0          0             44   \n",
       "772            activity_count             0.0          0              6   \n",
       "775  circumplex.valence_count             0.0          0              7   \n",
       "779  circumplex.arousal_count             0.0          0              7   \n",
       "630                    id_num             0.0          0              1   \n",
       "\n",
       "    participant  \n",
       "314           8  \n",
       "571          16  \n",
       "927          27  \n",
       "928          27  \n",
       "673          19  \n",
       "..          ...  \n",
       "770          24  \n",
       "772          24  \n",
       "775          24  \n",
       "779          24  \n",
       "630          19  \n",
       "\n",
       "[1260 rows x 5 columns]"
      ]
     },
     "execution_count": 95,
     "metadata": {},
     "output_type": "execute_result"
    }
   ],
   "source": [
    "def nan_exploration(df, pivot=False, title=\"nan_exploration\"):\n",
    "    \"\"\"Create a pd dataframe with the percentage of NaN values for each variable per person, along with the count of unique values per variable\n",
    "    Select pivot=True if the df is already pivoted\n",
    "    also select a title to save the html\n",
    "    \"\"\"\n",
    "\n",
    "\n",
    "    # create a pivot\n",
    "    if pivot==False:\n",
    "        pivot = create_daily_pivot(df, participant=\"all\", return_dict=False)\n",
    "    else:\n",
    "        pivot = df\n",
    "\n",
    "    # get the percentage of NaN values for each variable per person\n",
    "    df_nans_list = []\n",
    "\n",
    "    for participant in df[\"id_num\"].unique():\n",
    "        # get the pivot for the participant\n",
    "        pivot_participant = pivot[pivot[\"id_num\"] == participant]\n",
    "        # get the percentage of NaN values for each variable\n",
    "        nan_percentage = round(pivot_participant.isna().mean(), 3)\n",
    "\n",
    "        nan_count = pivot_participant.isna().sum()\n",
    "        # get the count of unique values per variable\n",
    "        unique_values = pivot_participant.nunique()\n",
    "        # create a dataframe with the results\n",
    "        df_nan = pd.DataFrame({\"nan_percentage\": nan_percentage,\"nan_count\": nan_count, \"unique_values\": unique_values})\n",
    "        df_nan[\"participant\"] = participant\n",
    "        df_nan = df_nan.reset_index()\n",
    "        df_nans_list.append(df_nan)\n",
    "\n",
    "    # all participants\n",
    "    nan_percentage_all = round(pivot.isna().mean(), 3)\n",
    "    nan_count_all = pivot.isna().sum()\n",
    "    unique_values_all = pivot.nunique()\n",
    "    df_nan_all = pd.DataFrame({\"nan_percentage\": nan_percentage_all,\"nan_count\": nan_count_all, \"unique_values\": unique_values_all})\n",
    "    df_nan_all[\"participant\"] = \"all\"\n",
    "    df_nan_all = df_nan_all.reset_index()\n",
    "    df_nans_list.append(df_nan_all)\n",
    "\n",
    "    # concatenate the dataframes\n",
    "    df_nans = pd.concat(df_nans_list, ignore_index=True)\n",
    "\n",
    "    # get overall values for all participants\n",
    "    overall_nan_percentage = df_nans.groupby(\"variable\")[\"nan_percentage\"].mean()\n",
    "    overall_nan_count = df_nans.groupby(\"variable\")[\"nan_count\"].sum()\n",
    "    \n",
    "\n",
    "\n",
    "    # save the dataframe\n",
    "    if not os.path.exists(\"tables/nan_exploration\"):\n",
    "        os.makedirs(\"tables/nan_exploration\")\n",
    "    df_nans.to_csv(f\"tables/nan_exploration/{title}.csv\", index=False)\n",
    "\n",
    "    df_nans = df_nans.sort_values(by=[\"nan_percentage\"], ascending=False)\n",
    "\n",
    "    return df_nans\n",
    "\n",
    "\n",
    "\n",
    "    \n",
    "\n",
    "df_nans = nan_exploration(df, pivot=False)\n",
    "df_nans\n",
    "\n",
    "\n"
   ]
  },
  {
   "cell_type": "markdown",
   "metadata": {},
   "source": [
    "#### Plot nan exploration"
   ]
  },
  {
   "cell_type": "code",
   "execution_count": 94,
   "metadata": {},
   "outputs": [
    {
     "data": {
      "application/vnd.plotly.v1+json": {
       "config": {
        "plotlyServerURL": "https://plot.ly"
       },
       "data": [
        {
         "marker": {
          "color": "steelblue"
         },
         "type": "bar",
         "x": [
          "1",
          "2",
          "3",
          "5",
          "6",
          "7",
          "8",
          "9",
          "12",
          "13",
          "14",
          "15",
          "16",
          "17",
          "19",
          "20",
          "23",
          "24",
          "25",
          "26",
          "27",
          "28",
          "29",
          "30",
          "31",
          "32",
          "33",
          "all"
         ],
         "y": [
          0.077,
          1,
          0.049,
          1,
          0.086,
          1,
          1,
          0.09,
          0.118,
          1,
          1,
          1,
          0.051,
          1,
          1,
          1,
          1,
          1,
          0.074,
          0.029,
          0.091,
          0.284,
          1,
          0.103,
          1,
          0.011,
          1,
          0.58
         ]
        }
       ],
       "layout": {
        "template": {
         "data": {
          "bar": [
           {
            "error_x": {
             "color": "#2a3f5f"
            },
            "error_y": {
             "color": "#2a3f5f"
            },
            "marker": {
             "line": {
              "color": "#E5ECF6",
              "width": 0.5
             },
             "pattern": {
              "fillmode": "overlay",
              "size": 10,
              "solidity": 0.2
             }
            },
            "type": "bar"
           }
          ],
          "barpolar": [
           {
            "marker": {
             "line": {
              "color": "#E5ECF6",
              "width": 0.5
             },
             "pattern": {
              "fillmode": "overlay",
              "size": 10,
              "solidity": 0.2
             }
            },
            "type": "barpolar"
           }
          ],
          "carpet": [
           {
            "aaxis": {
             "endlinecolor": "#2a3f5f",
             "gridcolor": "white",
             "linecolor": "white",
             "minorgridcolor": "white",
             "startlinecolor": "#2a3f5f"
            },
            "baxis": {
             "endlinecolor": "#2a3f5f",
             "gridcolor": "white",
             "linecolor": "white",
             "minorgridcolor": "white",
             "startlinecolor": "#2a3f5f"
            },
            "type": "carpet"
           }
          ],
          "choropleth": [
           {
            "colorbar": {
             "outlinewidth": 0,
             "ticks": ""
            },
            "type": "choropleth"
           }
          ],
          "contour": [
           {
            "colorbar": {
             "outlinewidth": 0,
             "ticks": ""
            },
            "colorscale": [
             [
              0,
              "#0d0887"
             ],
             [
              0.1111111111111111,
              "#46039f"
             ],
             [
              0.2222222222222222,
              "#7201a8"
             ],
             [
              0.3333333333333333,
              "#9c179e"
             ],
             [
              0.4444444444444444,
              "#bd3786"
             ],
             [
              0.5555555555555556,
              "#d8576b"
             ],
             [
              0.6666666666666666,
              "#ed7953"
             ],
             [
              0.7777777777777778,
              "#fb9f3a"
             ],
             [
              0.8888888888888888,
              "#fdca26"
             ],
             [
              1,
              "#f0f921"
             ]
            ],
            "type": "contour"
           }
          ],
          "contourcarpet": [
           {
            "colorbar": {
             "outlinewidth": 0,
             "ticks": ""
            },
            "type": "contourcarpet"
           }
          ],
          "heatmap": [
           {
            "colorbar": {
             "outlinewidth": 0,
             "ticks": ""
            },
            "colorscale": [
             [
              0,
              "#0d0887"
             ],
             [
              0.1111111111111111,
              "#46039f"
             ],
             [
              0.2222222222222222,
              "#7201a8"
             ],
             [
              0.3333333333333333,
              "#9c179e"
             ],
             [
              0.4444444444444444,
              "#bd3786"
             ],
             [
              0.5555555555555556,
              "#d8576b"
             ],
             [
              0.6666666666666666,
              "#ed7953"
             ],
             [
              0.7777777777777778,
              "#fb9f3a"
             ],
             [
              0.8888888888888888,
              "#fdca26"
             ],
             [
              1,
              "#f0f921"
             ]
            ],
            "type": "heatmap"
           }
          ],
          "heatmapgl": [
           {
            "colorbar": {
             "outlinewidth": 0,
             "ticks": ""
            },
            "colorscale": [
             [
              0,
              "#0d0887"
             ],
             [
              0.1111111111111111,
              "#46039f"
             ],
             [
              0.2222222222222222,
              "#7201a8"
             ],
             [
              0.3333333333333333,
              "#9c179e"
             ],
             [
              0.4444444444444444,
              "#bd3786"
             ],
             [
              0.5555555555555556,
              "#d8576b"
             ],
             [
              0.6666666666666666,
              "#ed7953"
             ],
             [
              0.7777777777777778,
              "#fb9f3a"
             ],
             [
              0.8888888888888888,
              "#fdca26"
             ],
             [
              1,
              "#f0f921"
             ]
            ],
            "type": "heatmapgl"
           }
          ],
          "histogram": [
           {
            "marker": {
             "pattern": {
              "fillmode": "overlay",
              "size": 10,
              "solidity": 0.2
             }
            },
            "type": "histogram"
           }
          ],
          "histogram2d": [
           {
            "colorbar": {
             "outlinewidth": 0,
             "ticks": ""
            },
            "colorscale": [
             [
              0,
              "#0d0887"
             ],
             [
              0.1111111111111111,
              "#46039f"
             ],
             [
              0.2222222222222222,
              "#7201a8"
             ],
             [
              0.3333333333333333,
              "#9c179e"
             ],
             [
              0.4444444444444444,
              "#bd3786"
             ],
             [
              0.5555555555555556,
              "#d8576b"
             ],
             [
              0.6666666666666666,
              "#ed7953"
             ],
             [
              0.7777777777777778,
              "#fb9f3a"
             ],
             [
              0.8888888888888888,
              "#fdca26"
             ],
             [
              1,
              "#f0f921"
             ]
            ],
            "type": "histogram2d"
           }
          ],
          "histogram2dcontour": [
           {
            "colorbar": {
             "outlinewidth": 0,
             "ticks": ""
            },
            "colorscale": [
             [
              0,
              "#0d0887"
             ],
             [
              0.1111111111111111,
              "#46039f"
             ],
             [
              0.2222222222222222,
              "#7201a8"
             ],
             [
              0.3333333333333333,
              "#9c179e"
             ],
             [
              0.4444444444444444,
              "#bd3786"
             ],
             [
              0.5555555555555556,
              "#d8576b"
             ],
             [
              0.6666666666666666,
              "#ed7953"
             ],
             [
              0.7777777777777778,
              "#fb9f3a"
             ],
             [
              0.8888888888888888,
              "#fdca26"
             ],
             [
              1,
              "#f0f921"
             ]
            ],
            "type": "histogram2dcontour"
           }
          ],
          "mesh3d": [
           {
            "colorbar": {
             "outlinewidth": 0,
             "ticks": ""
            },
            "type": "mesh3d"
           }
          ],
          "parcoords": [
           {
            "line": {
             "colorbar": {
              "outlinewidth": 0,
              "ticks": ""
             }
            },
            "type": "parcoords"
           }
          ],
          "pie": [
           {
            "automargin": true,
            "type": "pie"
           }
          ],
          "scatter": [
           {
            "fillpattern": {
             "fillmode": "overlay",
             "size": 10,
             "solidity": 0.2
            },
            "type": "scatter"
           }
          ],
          "scatter3d": [
           {
            "line": {
             "colorbar": {
              "outlinewidth": 0,
              "ticks": ""
             }
            },
            "marker": {
             "colorbar": {
              "outlinewidth": 0,
              "ticks": ""
             }
            },
            "type": "scatter3d"
           }
          ],
          "scattercarpet": [
           {
            "marker": {
             "colorbar": {
              "outlinewidth": 0,
              "ticks": ""
             }
            },
            "type": "scattercarpet"
           }
          ],
          "scattergeo": [
           {
            "marker": {
             "colorbar": {
              "outlinewidth": 0,
              "ticks": ""
             }
            },
            "type": "scattergeo"
           }
          ],
          "scattergl": [
           {
            "marker": {
             "colorbar": {
              "outlinewidth": 0,
              "ticks": ""
             }
            },
            "type": "scattergl"
           }
          ],
          "scattermapbox": [
           {
            "marker": {
             "colorbar": {
              "outlinewidth": 0,
              "ticks": ""
             }
            },
            "type": "scattermapbox"
           }
          ],
          "scatterpolar": [
           {
            "marker": {
             "colorbar": {
              "outlinewidth": 0,
              "ticks": ""
             }
            },
            "type": "scatterpolar"
           }
          ],
          "scatterpolargl": [
           {
            "marker": {
             "colorbar": {
              "outlinewidth": 0,
              "ticks": ""
             }
            },
            "type": "scatterpolargl"
           }
          ],
          "scatterternary": [
           {
            "marker": {
             "colorbar": {
              "outlinewidth": 0,
              "ticks": ""
             }
            },
            "type": "scatterternary"
           }
          ],
          "surface": [
           {
            "colorbar": {
             "outlinewidth": 0,
             "ticks": ""
            },
            "colorscale": [
             [
              0,
              "#0d0887"
             ],
             [
              0.1111111111111111,
              "#46039f"
             ],
             [
              0.2222222222222222,
              "#7201a8"
             ],
             [
              0.3333333333333333,
              "#9c179e"
             ],
             [
              0.4444444444444444,
              "#bd3786"
             ],
             [
              0.5555555555555556,
              "#d8576b"
             ],
             [
              0.6666666666666666,
              "#ed7953"
             ],
             [
              0.7777777777777778,
              "#fb9f3a"
             ],
             [
              0.8888888888888888,
              "#fdca26"
             ],
             [
              1,
              "#f0f921"
             ]
            ],
            "type": "surface"
           }
          ],
          "table": [
           {
            "cells": {
             "fill": {
              "color": "#EBF0F8"
             },
             "line": {
              "color": "white"
             }
            },
            "header": {
             "fill": {
              "color": "#C8D4E3"
             },
             "line": {
              "color": "white"
             }
            },
            "type": "table"
           }
          ]
         },
         "layout": {
          "annotationdefaults": {
           "arrowcolor": "#2a3f5f",
           "arrowhead": 0,
           "arrowwidth": 1
          },
          "autotypenumbers": "strict",
          "coloraxis": {
           "colorbar": {
            "outlinewidth": 0,
            "ticks": ""
           }
          },
          "colorscale": {
           "diverging": [
            [
             0,
             "#8e0152"
            ],
            [
             0.1,
             "#c51b7d"
            ],
            [
             0.2,
             "#de77ae"
            ],
            [
             0.3,
             "#f1b6da"
            ],
            [
             0.4,
             "#fde0ef"
            ],
            [
             0.5,
             "#f7f7f7"
            ],
            [
             0.6,
             "#e6f5d0"
            ],
            [
             0.7,
             "#b8e186"
            ],
            [
             0.8,
             "#7fbc41"
            ],
            [
             0.9,
             "#4d9221"
            ],
            [
             1,
             "#276419"
            ]
           ],
           "sequential": [
            [
             0,
             "#0d0887"
            ],
            [
             0.1111111111111111,
             "#46039f"
            ],
            [
             0.2222222222222222,
             "#7201a8"
            ],
            [
             0.3333333333333333,
             "#9c179e"
            ],
            [
             0.4444444444444444,
             "#bd3786"
            ],
            [
             0.5555555555555556,
             "#d8576b"
            ],
            [
             0.6666666666666666,
             "#ed7953"
            ],
            [
             0.7777777777777778,
             "#fb9f3a"
            ],
            [
             0.8888888888888888,
             "#fdca26"
            ],
            [
             1,
             "#f0f921"
            ]
           ],
           "sequentialminus": [
            [
             0,
             "#0d0887"
            ],
            [
             0.1111111111111111,
             "#46039f"
            ],
            [
             0.2222222222222222,
             "#7201a8"
            ],
            [
             0.3333333333333333,
             "#9c179e"
            ],
            [
             0.4444444444444444,
             "#bd3786"
            ],
            [
             0.5555555555555556,
             "#d8576b"
            ],
            [
             0.6666666666666666,
             "#ed7953"
            ],
            [
             0.7777777777777778,
             "#fb9f3a"
            ],
            [
             0.8888888888888888,
             "#fdca26"
            ],
            [
             1,
             "#f0f921"
            ]
           ]
          },
          "colorway": [
           "#636efa",
           "#EF553B",
           "#00cc96",
           "#ab63fa",
           "#FFA15A",
           "#19d3f3",
           "#FF6692",
           "#B6E880",
           "#FF97FF",
           "#FECB52"
          ],
          "font": {
           "color": "#2a3f5f"
          },
          "geo": {
           "bgcolor": "white",
           "lakecolor": "white",
           "landcolor": "#E5ECF6",
           "showlakes": true,
           "showland": true,
           "subunitcolor": "white"
          },
          "hoverlabel": {
           "align": "left"
          },
          "hovermode": "closest",
          "mapbox": {
           "style": "light"
          },
          "paper_bgcolor": "white",
          "plot_bgcolor": "#E5ECF6",
          "polar": {
           "angularaxis": {
            "gridcolor": "white",
            "linecolor": "white",
            "ticks": ""
           },
           "bgcolor": "#E5ECF6",
           "radialaxis": {
            "gridcolor": "white",
            "linecolor": "white",
            "ticks": ""
           }
          },
          "scene": {
           "xaxis": {
            "backgroundcolor": "#E5ECF6",
            "gridcolor": "white",
            "gridwidth": 2,
            "linecolor": "white",
            "showbackground": true,
            "ticks": "",
            "zerolinecolor": "white"
           },
           "yaxis": {
            "backgroundcolor": "#E5ECF6",
            "gridcolor": "white",
            "gridwidth": 2,
            "linecolor": "white",
            "showbackground": true,
            "ticks": "",
            "zerolinecolor": "white"
           },
           "zaxis": {
            "backgroundcolor": "#E5ECF6",
            "gridcolor": "white",
            "gridwidth": 2,
            "linecolor": "white",
            "showbackground": true,
            "ticks": "",
            "zerolinecolor": "white"
           }
          },
          "shapedefaults": {
           "line": {
            "color": "#2a3f5f"
           }
          },
          "ternary": {
           "aaxis": {
            "gridcolor": "white",
            "linecolor": "white",
            "ticks": ""
           },
           "baxis": {
            "gridcolor": "white",
            "linecolor": "white",
            "ticks": ""
           },
           "bgcolor": "#E5ECF6",
           "caxis": {
            "gridcolor": "white",
            "linecolor": "white",
            "ticks": ""
           }
          },
          "title": {
           "x": 0.05
          },
          "xaxis": {
           "automargin": true,
           "gridcolor": "white",
           "linecolor": "white",
           "ticks": "",
           "title": {
            "standoff": 15
           },
           "zerolinecolor": "white",
           "zerolinewidth": 2
          },
          "yaxis": {
           "automargin": true,
           "gridcolor": "white",
           "linecolor": "white",
           "ticks": "",
           "title": {
            "standoff": 15
           },
           "zerolinecolor": "white",
           "zerolinewidth": 2
          }
         }
        },
        "title": {
         "text": "Percentage of Missing Values for Variable: appCat.weather_count"
        },
        "updatemenus": [
         {
          "active": 0,
          "buttons": [
           {
            "args": [
             {
              "x": [
               [
                "1",
                "2",
                "3",
                "5",
                "6",
                "7",
                "8",
                "9",
                "12",
                "13",
                "14",
                "15",
                "16",
                "17",
                "19",
                "20",
                "23",
                "24",
                "25",
                "26",
                "27",
                "28",
                "29",
                "30",
                "31",
                "32",
                "33",
                "all"
               ]
              ],
              "y": [
               [
                0.077,
                1,
                0.049,
                1,
                0.086,
                1,
                1,
                0.09,
                0.118,
                1,
                1,
                1,
                0.051,
                1,
                1,
                1,
                1,
                1,
                0.074,
                0.029,
                0.091,
                0.284,
                1,
                0.103,
                1,
                0.011,
                1,
                0.58
               ]
              ]
             },
             {
              "title": "Percentage of Missing Values for Variable: appCat.weather_count"
             }
            ],
            "label": "appCat.weather_count",
            "method": "update"
           },
           {
            "args": [
             {
              "x": [
               [
                "1",
                "2",
                "3",
                "5",
                "6",
                "7",
                "8",
                "9",
                "12",
                "13",
                "14",
                "15",
                "16",
                "17",
                "19",
                "20",
                "23",
                "24",
                "25",
                "26",
                "27",
                "28",
                "29",
                "30",
                "31",
                "32",
                "33",
                "all"
               ]
              ],
              "y": [
               [
                0.897,
                1,
                0.654,
                0.987,
                0.691,
                1,
                0.923,
                0.808,
                0.737,
                0.831,
                0.962,
                0.877,
                1,
                0.782,
                1,
                1,
                0.844,
                0.855,
                0.765,
                0.99,
                0.989,
                0.988,
                0.511,
                0.808,
                0.744,
                0.954,
                0.981,
                0.872
               ]
              ]
             },
             {
              "title": "Percentage of Missing Values for Variable: appCat.office"
             }
            ],
            "label": "appCat.office",
            "method": "update"
           },
           {
            "args": [
             {
              "x": [
               [
                "1",
                "2",
                "3",
                "5",
                "6",
                "7",
                "8",
                "9",
                "12",
                "13",
                "14",
                "15",
                "16",
                "17",
                "19",
                "20",
                "23",
                "24",
                "25",
                "26",
                "27",
                "28",
                "29",
                "30",
                "31",
                "32",
                "33",
                "all"
               ]
              ],
              "y": [
               [
                0.59,
                1,
                0.691,
                1,
                1,
                1,
                1,
                0.731,
                0.75,
                1,
                0.872,
                0.988,
                0.808,
                0.974,
                1,
                0.974,
                1,
                1,
                0.963,
                1,
                1,
                0.679,
                0.955,
                0.679,
                0.767,
                1,
                0.99,
                0.904
               ]
              ]
             },
             {
              "title": "Percentage of Missing Values for Variable: appCat.finance"
             }
            ],
            "label": "appCat.finance",
            "method": "update"
           },
           {
            "args": [
             {
              "x": [
               [
                "1",
                "2",
                "3",
                "5",
                "6",
                "7",
                "8",
                "9",
                "12",
                "13",
                "14",
                "15",
                "16",
                "17",
                "19",
                "20",
                "23",
                "24",
                "25",
                "26",
                "27",
                "28",
                "29",
                "30",
                "31",
                "32",
                "33",
                "all"
               ]
              ],
              "y": [
               [
                0.077,
                1,
                0.049,
                1,
                1,
                1,
                1,
                0.09,
                0.118,
                1,
                0.077,
                0.025,
                0.051,
                0.038,
                1,
                0.154,
                1,
                1,
                0.074,
                1,
                1,
                0.284,
                0.17,
                0.103,
                0.133,
                1,
                0.029,
                0.486
               ]
              ]
             },
             {
              "title": "Percentage of Missing Values for Variable: appCat.finance_count"
             }
            ],
            "label": "appCat.finance_count",
            "method": "update"
           },
           {
            "args": [
             {
              "x": [
               [
                "1",
                "2",
                "3",
                "5",
                "6",
                "7",
                "8",
                "9",
                "12",
                "13",
                "14",
                "15",
                "16",
                "17",
                "19",
                "20",
                "23",
                "24",
                "25",
                "26",
                "27",
                "28",
                "29",
                "30",
                "31",
                "32",
                "33",
                "all"
               ]
              ],
              "y": [
               [
                0.987,
                1,
                0.975,
                1,
                0.889,
                1,
                1,
                0.872,
                0.961,
                1,
                1,
                1,
                0.974,
                1,
                1,
                1,
                1,
                1,
                0.741,
                0.825,
                0.898,
                0.667,
                1,
                0.872,
                1,
                0.989,
                1,
                0.948
               ]
              ]
             },
             {
              "title": "Percentage of Missing Values for Variable: appCat.weather"
             }
            ],
            "label": "appCat.weather",
            "method": "update"
           },
           {
            "args": [
             {
              "x": [
               [
                "1",
                "2",
                "3",
                "5",
                "6",
                "7",
                "8",
                "9",
                "12",
                "13",
                "14",
                "15",
                "16",
                "17",
                "19",
                "20",
                "23",
                "24",
                "25",
                "26",
                "27",
                "28",
                "29",
                "30",
                "31",
                "32",
                "33",
                "all"
               ]
              ],
              "y": [
               [
                0.077,
                1,
                0.049,
                0.091,
                0.086,
                1,
                0.141,
                0.09,
                0.118,
                0.065,
                0.077,
                0.025,
                1,
                0.038,
                1,
                1,
                0.182,
                0,
                0.074,
                0.029,
                0.091,
                0.284,
                0.17,
                0.103,
                0.133,
                0.011,
                0.029,
                0.238
               ]
              ]
             },
             {
              "title": "Percentage of Missing Values for Variable: appCat.office_count"
             }
            ],
            "label": "appCat.office_count",
            "method": "update"
           },
           {
            "args": [
             {
              "x": [
               [
                "1",
                "2",
                "3",
                "5",
                "6",
                "7",
                "8",
                "9",
                "12",
                "13",
                "14",
                "15",
                "16",
                "17",
                "19",
                "20",
                "23",
                "24",
                "25",
                "26",
                "27",
                "28",
                "29",
                "30",
                "31",
                "32",
                "33",
                "all"
               ]
              ],
              "y": [
               [
                0.077,
                1,
                0.049,
                0.091,
                0.086,
                0,
                0.141,
                0.09,
                0.118,
                0.065,
                0.077,
                0.025,
                0.051,
                0.038,
                0.064,
                0.154,
                0.182,
                0,
                0.074,
                0.029,
                1,
                0.284,
                1,
                0.103,
                0.133,
                1,
                0.029,
                0.227
               ]
              ]
             },
             {
              "title": "Percentage of Missing Values for Variable: appCat.unknown_count"
             }
            ],
            "label": "appCat.unknown_count",
            "method": "update"
           },
           {
            "args": [
             {
              "x": [
               [
                "1",
                "2",
                "3",
                "5",
                "6",
                "7",
                "8",
                "9",
                "12",
                "13",
                "14",
                "15",
                "16",
                "17",
                "19",
                "20",
                "23",
                "24",
                "25",
                "26",
                "27",
                "28",
                "29",
                "30",
                "31",
                "32",
                "33",
                "all"
               ]
              ],
              "y": [
               [
                0.923,
                1,
                0.593,
                0.506,
                0.988,
                0.64,
                0.897,
                0.846,
                0.987,
                0.909,
                0.987,
                0.988,
                0.987,
                0.987,
                0.885,
                0.885,
                0.545,
                0.839,
                0.975,
                0.874,
                1,
                0.753,
                1,
                0.59,
                0.989,
                1,
                0.952,
                0.877
               ]
              ]
             },
             {
              "title": "Percentage of Missing Values for Variable: appCat.unknown"
             }
            ],
            "label": "appCat.unknown",
            "method": "update"
           },
           {
            "args": [
             {
              "x": [
               [
                "1",
                "2",
                "3",
                "5",
                "6",
                "7",
                "8",
                "9",
                "12",
                "13",
                "14",
                "15",
                "16",
                "17",
                "19",
                "20",
                "23",
                "24",
                "25",
                "26",
                "27",
                "28",
                "29",
                "30",
                "31",
                "32",
                "33",
                "all"
               ]
              ],
              "y": [
               [
                0.077,
                1,
                1,
                1,
                0.086,
                0,
                1,
                0.09,
                0.118,
                1,
                0.077,
                1,
                0.051,
                0.038,
                0.064,
                0.154,
                0.182,
                1,
                0.074,
                1,
                0.091,
                0.284,
                1,
                0.103,
                1,
                1,
                1,
                0.517
               ]
              ]
             },
             {
              "title": "Percentage of Missing Values for Variable: appCat.game_count"
             }
            ],
            "label": "appCat.game_count",
            "method": "update"
           },
           {
            "args": [
             {
              "x": [
               [
                "1",
                "2",
                "3",
                "5",
                "6",
                "7",
                "8",
                "9",
                "12",
                "13",
                "14",
                "15",
                "16",
                "17",
                "19",
                "20",
                "23",
                "24",
                "25",
                "26",
                "27",
                "28",
                "29",
                "30",
                "31",
                "32",
                "33",
                "all"
               ]
              ],
              "y": [
               [
                0.91,
                1,
                1,
                1,
                0.901,
                0.98,
                1,
                0.974,
                0.882,
                1,
                0.987,
                1,
                0.987,
                0.974,
                0.974,
                0.795,
                0.636,
                1,
                0.728,
                1,
                0.568,
                0.617,
                1,
                0.679,
                1,
                1,
                1,
                0.91
               ]
              ]
             },
             {
              "title": "Percentage of Missing Values for Variable: appCat.game"
             }
            ],
            "label": "appCat.game",
            "method": "update"
           },
           {
            "args": [
             {
              "x": [
               [
                "1",
                "2",
                "3",
                "5",
                "6",
                "7",
                "8",
                "9",
                "12",
                "13",
                "14",
                "15",
                "16",
                "17",
                "19",
                "20",
                "23",
                "24",
                "25",
                "26",
                "27",
                "28",
                "29",
                "30",
                "31",
                "32",
                "33",
                "all"
               ]
              ],
              "y": [
               [
                0.423,
                0.941,
                0.741,
                0.455,
                1,
                0.86,
                0.603,
                0.731,
                0.737,
                0.922,
                0.987,
                0.975,
                0.974,
                0.718,
                0.974,
                0.987,
                0.792,
                0.565,
                0.988,
                0.893,
                0.966,
                0.679,
                0.864,
                0.436,
                0.644,
                0.954,
                0.712,
                0.799
               ]
              ]
             },
             {
              "title": "Percentage of Missing Values for Variable: appCat.utilities"
             }
            ],
            "label": "appCat.utilities",
            "method": "update"
           },
           {
            "args": [
             {
              "x": [
               [
                "1",
                "2",
                "3",
                "5",
                "6",
                "7",
                "8",
                "9",
                "12",
                "13",
                "14",
                "15",
                "16",
                "17",
                "19",
                "20",
                "23",
                "24",
                "25",
                "26",
                "27",
                "28",
                "29",
                "30",
                "31",
                "32",
                "33",
                "all"
               ]
              ],
              "y": [
               [
                0.077,
                0,
                0.049,
                0.091,
                1,
                0,
                0.141,
                0.09,
                0.118,
                0.065,
                0.077,
                0.025,
                0.051,
                0.038,
                0.064,
                0.154,
                0.182,
                0,
                0.074,
                0.029,
                0.091,
                0.284,
                0.17,
                0.103,
                0.133,
                0.011,
                0.029,
                0.118
               ]
              ]
             },
             {
              "title": "Percentage of Missing Values for Variable: appCat.utilities_count"
             }
            ],
            "label": "appCat.utilities_count",
            "method": "update"
           },
           {
            "args": [
             {
              "x": [
               [
                "1",
                "2",
                "3",
                "5",
                "6",
                "7",
                "8",
                "9",
                "12",
                "13",
                "14",
                "15",
                "16",
                "17",
                "19",
                "20",
                "23",
                "24",
                "25",
                "26",
                "27",
                "28",
                "29",
                "30",
                "31",
                "32",
                "33",
                "all"
               ]
              ],
              "y": [
               [
                0.679,
                0.809,
                0.84,
                0.987,
                0.605,
                0.56,
                0.949,
                0.718,
                0.592,
                0.779,
                0.91,
                0.938,
                0.962,
                0.577,
                0.962,
                0.987,
                0.623,
                0.871,
                0.765,
                0.874,
                0.773,
                0.704,
                0.75,
                0.795,
                0.922,
                0.77,
                0.817,
                0.801
               ]
              ]
             },
             {
              "title": "Percentage of Missing Values for Variable: appCat.travel"
             }
            ],
            "label": "appCat.travel",
            "method": "update"
           },
           {
            "args": [
             {
              "x": [
               [
                "1",
                "2",
                "3",
                "5",
                "6",
                "7",
                "8",
                "9",
                "12",
                "13",
                "14",
                "15",
                "16",
                "17",
                "19",
                "20",
                "23",
                "24",
                "25",
                "26",
                "27",
                "28",
                "29",
                "30",
                "31",
                "32",
                "33",
                "all"
               ]
              ],
              "y": [
               [
                0.397,
                0.529,
                0.407,
                0.312,
                0.432,
                0.1,
                0.603,
                0.526,
                0.474,
                0.597,
                0.897,
                0.938,
                0.667,
                0.474,
                0.923,
                0.731,
                0.455,
                0.694,
                0.852,
                0.66,
                0.977,
                0.58,
                0.716,
                0.41,
                0.667,
                0.494,
                0.577,
                0.605
               ]
              ]
             },
             {
              "title": "Percentage of Missing Values for Variable: appCat.entertainment"
             }
            ],
            "label": "appCat.entertainment",
            "method": "update"
           },
           {
            "args": [
             {
              "x": [
               [
                "1",
                "2",
                "3",
                "5",
                "6",
                "7",
                "8",
                "9",
                "12",
                "13",
                "14",
                "15",
                "16",
                "17",
                "19",
                "20",
                "23",
                "24",
                "25",
                "26",
                "27",
                "28",
                "29",
                "30",
                "31",
                "32",
                "33",
                "all"
               ]
              ],
              "y": [
               [
                0.397,
                0.515,
                0.951,
                0.558,
                0.432,
                0.04,
                0.308,
                0.667,
                0.474,
                0.325,
                0.667,
                0.864,
                0.564,
                0.397,
                0.603,
                0.641,
                0.506,
                0.177,
                0.667,
                0.553,
                0.511,
                0.531,
                0.511,
                0.41,
                0.656,
                0.77,
                0.577,
                0.541
               ]
              ]
             },
             {
              "title": "Percentage of Missing Values for Variable: appCat.social"
             }
            ],
            "label": "appCat.social",
            "method": "update"
           },
           {
            "args": [
             {
              "x": [
               [
                "1",
                "2",
                "3",
                "5",
                "6",
                "7",
                "8",
                "9",
                "12",
                "13",
                "14",
                "15",
                "16",
                "17",
                "19",
                "20",
                "23",
                "24",
                "25",
                "26",
                "27",
                "28",
                "29",
                "30",
                "31",
                "32",
                "33",
                "all"
               ]
              ],
              "y": [
               [
                0.346,
                0.029,
                0.284,
                0.429,
                0.383,
                0.4,
                0.897,
                0.41,
                0.276,
                0.532,
                0.526,
                0.198,
                0.321,
                0.577,
                0.103,
                0.744,
                0.468,
                0.258,
                0.148,
                0.398,
                0.284,
                0.642,
                0.614,
                0.385,
                0.378,
                0.08,
                0.154,
                0.379
               ]
              ]
             },
             {
              "title": "Percentage of Missing Values for Variable: call"
             }
            ],
            "label": "call",
            "method": "update"
           },
           {
            "args": [
             {
              "x": [
               [
                "1",
                "2",
                "3",
                "5",
                "6",
                "7",
                "8",
                "9",
                "12",
                "13",
                "14",
                "15",
                "16",
                "17",
                "19",
                "20",
                "23",
                "24",
                "25",
                "26",
                "27",
                "28",
                "29",
                "30",
                "31",
                "32",
                "33",
                "all"
               ]
              ],
              "y": [
               [
                0.679,
                0.382,
                0.556,
                0.779,
                0.691,
                0.46,
                0.744,
                0.731,
                0.776,
                0.675,
                0.654,
                0.691,
                0.487,
                0.654,
                0.731,
                0.603,
                0.753,
                0.532,
                0.741,
                0.709,
                0.636,
                0.877,
                0.432,
                0.872,
                0.6,
                0.678,
                0.587,
                0.659
               ]
              ]
             },
             {
              "title": "Percentage of Missing Values for Variable: sms"
             }
            ],
            "label": "sms",
            "method": "update"
           },
           {
            "args": [
             {
              "x": [
               [
                "1",
                "2",
                "3",
                "5",
                "6",
                "7",
                "8",
                "9",
                "12",
                "13",
                "14",
                "15",
                "16",
                "17",
                "19",
                "20",
                "23",
                "24",
                "25",
                "26",
                "27",
                "28",
                "29",
                "30",
                "31",
                "32",
                "33",
                "all"
               ]
              ],
              "y": [
               [
                0.41,
                0.544,
                0.42,
                0.312,
                0.457,
                0.04,
                0.308,
                0.551,
                0.474,
                0.338,
                0.436,
                0.691,
                0.628,
                0.397,
                0.423,
                0.692,
                0.481,
                0.113,
                0.617,
                0.553,
                0.511,
                0.531,
                0.534,
                0.41,
                0.622,
                0.552,
                0.577,
                0.48
               ]
              ]
             },
             {
              "title": "Percentage of Missing Values for Variable: appCat.other"
             }
            ],
            "label": "appCat.other",
            "method": "update"
           },
           {
            "args": [
             {
              "x": [
               [
                "1",
                "2",
                "3",
                "5",
                "6",
                "7",
                "8",
                "9",
                "12",
                "13",
                "14",
                "15",
                "16",
                "17",
                "19",
                "20",
                "23",
                "24",
                "25",
                "26",
                "27",
                "28",
                "29",
                "30",
                "31",
                "32",
                "33",
                "all"
               ]
              ],
              "y": [
               [
                0.397,
                0.397,
                0.42,
                0.312,
                0.444,
                0.04,
                0.205,
                0.41,
                0.461,
                0.312,
                0.436,
                0.321,
                0.321,
                0.282,
                0.41,
                0.397,
                0.494,
                0.145,
                0.63,
                0.34,
                0.523,
                0.531,
                0.523,
                0.397,
                0.522,
                0.575,
                0.587,
                0.412
               ]
              ]
             },
             {
              "title": "Percentage of Missing Values for Variable: circumplex.valence"
             }
            ],
            "label": "circumplex.valence",
            "method": "update"
           },
           {
            "args": [
             {
              "x": [
               [
                "1",
                "2",
                "3",
                "5",
                "6",
                "7",
                "8",
                "9",
                "12",
                "13",
                "14",
                "15",
                "16",
                "17",
                "19",
                "20",
                "23",
                "24",
                "25",
                "26",
                "27",
                "28",
                "29",
                "30",
                "31",
                "32",
                "33",
                "all"
               ]
              ],
              "y": [
               [
                0.397,
                0.397,
                0.42,
                0.312,
                0.444,
                0.04,
                0.205,
                0.41,
                0.461,
                0.312,
                0.436,
                0.321,
                0.321,
                0.282,
                0.41,
                0.397,
                0.494,
                0.113,
                0.63,
                0.34,
                0.523,
                0.531,
                0.523,
                0.397,
                0.522,
                0.575,
                0.587,
                0.411
               ]
              ]
             },
             {
              "title": "Percentage of Missing Values for Variable: mood"
             }
            ],
            "label": "mood",
            "method": "update"
           },
           {
            "args": [
             {
              "x": [
               [
                "1",
                "2",
                "3",
                "5",
                "6",
                "7",
                "8",
                "9",
                "12",
                "13",
                "14",
                "15",
                "16",
                "17",
                "19",
                "20",
                "23",
                "24",
                "25",
                "26",
                "27",
                "28",
                "29",
                "30",
                "31",
                "32",
                "33",
                "all"
               ]
              ],
              "y": [
               [
                0.397,
                0.397,
                0.42,
                0.312,
                0.444,
                0.04,
                0.205,
                0.41,
                0.461,
                0.312,
                0.436,
                0.321,
                0.321,
                0.282,
                0.41,
                0.397,
                0.494,
                0.113,
                0.63,
                0.34,
                0.523,
                0.531,
                0.523,
                0.397,
                0.522,
                0.575,
                0.587,
                0.411
               ]
              ]
             },
             {
              "title": "Percentage of Missing Values for Variable: circumplex.arousal_max"
             }
            ],
            "label": "circumplex.arousal_max",
            "method": "update"
           },
           {
            "args": [
             {
              "x": [
               [
                "1",
                "2",
                "3",
                "5",
                "6",
                "7",
                "8",
                "9",
                "12",
                "13",
                "14",
                "15",
                "16",
                "17",
                "19",
                "20",
                "23",
                "24",
                "25",
                "26",
                "27",
                "28",
                "29",
                "30",
                "31",
                "32",
                "33",
                "all"
               ]
              ],
              "y": [
               [
                0.397,
                0.397,
                0.42,
                0.312,
                0.444,
                0.04,
                0.205,
                0.41,
                0.461,
                0.312,
                0.436,
                0.321,
                0.321,
                0.282,
                0.41,
                0.397,
                0.494,
                0.145,
                0.63,
                0.34,
                0.523,
                0.531,
                0.523,
                0.397,
                0.522,
                0.575,
                0.587,
                0.412
               ]
              ]
             },
             {
              "title": "Percentage of Missing Values for Variable: circumplex.valence_max"
             }
            ],
            "label": "circumplex.valence_max",
            "method": "update"
           },
           {
            "args": [
             {
              "x": [
               [
                "1",
                "2",
                "3",
                "5",
                "6",
                "7",
                "8",
                "9",
                "12",
                "13",
                "14",
                "15",
                "16",
                "17",
                "19",
                "20",
                "23",
                "24",
                "25",
                "26",
                "27",
                "28",
                "29",
                "30",
                "31",
                "32",
                "33",
                "all"
               ]
              ],
              "y": [
               [
                0.397,
                0.397,
                0.42,
                0.312,
                0.444,
                0.04,
                0.205,
                0.41,
                0.461,
                0.312,
                0.436,
                0.321,
                0.321,
                0.282,
                0.41,
                0.397,
                0.494,
                0.145,
                0.63,
                0.34,
                0.523,
                0.531,
                0.523,
                0.397,
                0.522,
                0.575,
                0.587,
                0.412
               ]
              ]
             },
             {
              "title": "Percentage of Missing Values for Variable: circumplex.valence_min"
             }
            ],
            "label": "circumplex.valence_min",
            "method": "update"
           },
           {
            "args": [
             {
              "x": [
               [
                "1",
                "2",
                "3",
                "5",
                "6",
                "7",
                "8",
                "9",
                "12",
                "13",
                "14",
                "15",
                "16",
                "17",
                "19",
                "20",
                "23",
                "24",
                "25",
                "26",
                "27",
                "28",
                "29",
                "30",
                "31",
                "32",
                "33",
                "all"
               ]
              ],
              "y": [
               [
                0.397,
                0.397,
                0.42,
                0.312,
                0.444,
                0.04,
                0.205,
                0.41,
                0.461,
                0.312,
                0.436,
                0.321,
                0.321,
                0.282,
                0.41,
                0.397,
                0.494,
                0.113,
                0.63,
                0.34,
                0.523,
                0.531,
                0.523,
                0.397,
                0.522,
                0.575,
                0.587,
                0.411
               ]
              ]
             },
             {
              "title": "Percentage of Missing Values for Variable: circumplex.arousal_min"
             }
            ],
            "label": "circumplex.arousal_min",
            "method": "update"
           },
           {
            "args": [
             {
              "x": [
               [
                "1",
                "2",
                "3",
                "5",
                "6",
                "7",
                "8",
                "9",
                "12",
                "13",
                "14",
                "15",
                "16",
                "17",
                "19",
                "20",
                "23",
                "24",
                "25",
                "26",
                "27",
                "28",
                "29",
                "30",
                "31",
                "32",
                "33",
                "all"
               ]
              ],
              "y": [
               [
                0.397,
                0.397,
                0.42,
                0.312,
                0.444,
                0.04,
                0.205,
                0.41,
                0.461,
                0.312,
                0.436,
                0.321,
                0.321,
                0.282,
                0.41,
                0.397,
                0.494,
                0.113,
                0.63,
                0.34,
                0.523,
                0.531,
                0.523,
                0.397,
                0.522,
                0.575,
                0.587,
                0.411
               ]
              ]
             },
             {
              "title": "Percentage of Missing Values for Variable: circumplex.arousal"
             }
            ],
            "label": "circumplex.arousal",
            "method": "update"
           },
           {
            "args": [
             {
              "x": [
               [
                "1",
                "2",
                "3",
                "5",
                "6",
                "7",
                "8",
                "9",
                "12",
                "13",
                "14",
                "15",
                "16",
                "17",
                "19",
                "20",
                "23",
                "24",
                "25",
                "26",
                "27",
                "28",
                "29",
                "30",
                "31",
                "32",
                "33",
                "all"
               ]
              ],
              "y": [
               [
                0.397,
                0.471,
                0.407,
                0.338,
                0.457,
                0.04,
                0.333,
                0.538,
                0.474,
                0.325,
                0.41,
                0.481,
                0.333,
                0.397,
                0.423,
                0.526,
                0.429,
                0.097,
                0.617,
                0.544,
                0.511,
                0.519,
                0.523,
                0.41,
                0.589,
                0.517,
                0.567,
                0.445
               ]
              ]
             },
             {
              "title": "Percentage of Missing Values for Variable: appCat.builtin"
             }
            ],
            "label": "appCat.builtin",
            "method": "update"
           },
           {
            "args": [
             {
              "x": [
               [
                "1",
                "2",
                "3",
                "5",
                "6",
                "7",
                "8",
                "9",
                "12",
                "13",
                "14",
                "15",
                "16",
                "17",
                "19",
                "20",
                "23",
                "24",
                "25",
                "26",
                "27",
                "28",
                "29",
                "30",
                "31",
                "32",
                "33",
                "all"
               ]
              ],
              "y": [
               [
                0.397,
                0.471,
                0.407,
                0.351,
                0.432,
                0.18,
                0.359,
                0.538,
                0.474,
                0.429,
                0.41,
                0.407,
                0.359,
                0.397,
                0.41,
                0.513,
                0.429,
                0.081,
                0.617,
                0.544,
                0.511,
                0.519,
                0.511,
                0.41,
                0.589,
                0.506,
                0.567,
                0.448
               ]
              ]
             },
             {
              "title": "Percentage of Missing Values for Variable: activity_max"
             }
            ],
            "label": "activity_max",
            "method": "update"
           },
           {
            "args": [
             {
              "x": [
               [
                "1",
                "2",
                "3",
                "5",
                "6",
                "7",
                "8",
                "9",
                "12",
                "13",
                "14",
                "15",
                "16",
                "17",
                "19",
                "20",
                "23",
                "24",
                "25",
                "26",
                "27",
                "28",
                "29",
                "30",
                "31",
                "32",
                "33",
                "all"
               ]
              ],
              "y": [
               [
                0.397,
                0.456,
                0.407,
                0.312,
                0.444,
                0.04,
                0.308,
                0.526,
                0.474,
                0.325,
                0.41,
                0.481,
                0.333,
                0.397,
                0.41,
                0.5,
                0.429,
                0.097,
                0.617,
                0.544,
                0.511,
                0.531,
                0.511,
                0.41,
                0.589,
                0.494,
                0.567,
                0.44
               ]
              ]
             },
             {
              "title": "Percentage of Missing Values for Variable: screen"
             }
            ],
            "label": "screen",
            "method": "update"
           },
           {
            "args": [
             {
              "x": [
               [
                "1",
                "2",
                "3",
                "5",
                "6",
                "7",
                "8",
                "9",
                "12",
                "13",
                "14",
                "15",
                "16",
                "17",
                "19",
                "20",
                "23",
                "24",
                "25",
                "26",
                "27",
                "28",
                "29",
                "30",
                "31",
                "32",
                "33",
                "all"
               ]
              ],
              "y": [
               [
                0.397,
                0.471,
                0.407,
                0.351,
                0.432,
                0.18,
                0.359,
                0.538,
                0.474,
                0.429,
                0.41,
                0.407,
                0.359,
                0.397,
                0.41,
                0.513,
                0.429,
                0.081,
                0.617,
                0.544,
                0.511,
                0.519,
                0.511,
                0.41,
                0.589,
                0.506,
                0.567,
                0.448
               ]
              ]
             },
             {
              "title": "Percentage of Missing Values for Variable: activity"
             }
            ],
            "label": "activity",
            "method": "update"
           },
           {
            "args": [
             {
              "x": [
               [
                "1",
                "2",
                "3",
                "5",
                "6",
                "7",
                "8",
                "9",
                "12",
                "13",
                "14",
                "15",
                "16",
                "17",
                "19",
                "20",
                "23",
                "24",
                "25",
                "26",
                "27",
                "28",
                "29",
                "30",
                "31",
                "32",
                "33",
                "all"
               ]
              ],
              "y": [
               [
                0.397,
                0.485,
                0.407,
                0.312,
                0.432,
                0.04,
                0.308,
                0.526,
                0.474,
                0.325,
                0.462,
                0.556,
                0.397,
                0.397,
                0.41,
                0.59,
                0.429,
                0.097,
                0.617,
                0.544,
                0.511,
                0.519,
                0.511,
                0.41,
                0.6,
                0.494,
                0.577,
                0.451
               ]
              ]
             },
             {
              "title": "Percentage of Missing Values for Variable: appCat.communication"
             }
            ],
            "label": "appCat.communication",
            "method": "update"
           },
           {
            "args": [
             {
              "x": [
               [
                "1",
                "2",
                "3",
                "5",
                "6",
                "7",
                "8",
                "9",
                "12",
                "13",
                "14",
                "15",
                "16",
                "17",
                "19",
                "20",
                "23",
                "24",
                "25",
                "26",
                "27",
                "28",
                "29",
                "30",
                "31",
                "32",
                "33",
                "all"
               ]
              ],
              "y": [
               [
                0.077,
                0,
                0.049,
                0.091,
                0.086,
                0,
                0.141,
                0.09,
                0.118,
                0.065,
                0.077,
                0.025,
                0.051,
                0.038,
                0.064,
                0.154,
                0.182,
                0,
                0.074,
                0.029,
                0.091,
                0.284,
                0.17,
                0.103,
                0.133,
                0.011,
                0.029,
                0.084
               ]
              ]
             },
             {
              "title": "Percentage of Missing Values for Variable: circumplex.valence_count"
             }
            ],
            "label": "circumplex.valence_count",
            "method": "update"
           },
           {
            "args": [
             {
              "x": [
               [
                "1",
                "2",
                "3",
                "5",
                "6",
                "7",
                "8",
                "9",
                "12",
                "13",
                "14",
                "15",
                "16",
                "17",
                "19",
                "20",
                "23",
                "24",
                "25",
                "26",
                "27",
                "28",
                "29",
                "30",
                "31",
                "32",
                "33",
                "all"
               ]
              ],
              "y": [
               [
                0.077,
                0,
                0.049,
                0.091,
                0.086,
                0,
                0.141,
                0.09,
                0.118,
                0.065,
                0.077,
                0.025,
                0.051,
                0.038,
                0.064,
                0.154,
                0.182,
                0,
                0.074,
                0.029,
                0.091,
                0.284,
                0.17,
                0.103,
                0.133,
                0.011,
                0.029,
                0.084
               ]
              ]
             },
             {
              "title": "Percentage of Missing Values for Variable: activity_count"
             }
            ],
            "label": "activity_count",
            "method": "update"
           },
           {
            "args": [
             {
              "x": [
               [
                "1",
                "2",
                "3",
                "5",
                "6",
                "7",
                "8",
                "9",
                "12",
                "13",
                "14",
                "15",
                "16",
                "17",
                "19",
                "20",
                "23",
                "24",
                "25",
                "26",
                "27",
                "28",
                "29",
                "30",
                "31",
                "32",
                "33",
                "all"
               ]
              ],
              "y": [
               [
                0.077,
                0,
                0.049,
                0.091,
                0.086,
                0,
                0.141,
                0.09,
                0.118,
                0.065,
                0.077,
                0.025,
                0.051,
                0.038,
                0.064,
                0.154,
                0.182,
                0,
                0.074,
                0.029,
                0.091,
                0.284,
                0.17,
                0.103,
                0.133,
                0.011,
                0.029,
                0.084
               ]
              ]
             },
             {
              "title": "Percentage of Missing Values for Variable: screen_count"
             }
            ],
            "label": "screen_count",
            "method": "update"
           },
           {
            "args": [
             {
              "x": [
               [
                "1",
                "2",
                "3",
                "5",
                "6",
                "7",
                "8",
                "9",
                "12",
                "13",
                "14",
                "15",
                "16",
                "17",
                "19",
                "20",
                "23",
                "24",
                "25",
                "26",
                "27",
                "28",
                "29",
                "30",
                "31",
                "32",
                "33",
                "all"
               ]
              ],
              "y": [
               [
                0.077,
                0,
                0.049,
                0.091,
                0.086,
                0,
                0.141,
                0.09,
                0.118,
                0.065,
                0.077,
                0.025,
                0.051,
                0.038,
                0.064,
                0.154,
                0.182,
                0,
                0.074,
                0.029,
                0.091,
                0.284,
                0.17,
                0.103,
                0.133,
                0.011,
                0.029,
                0.084
               ]
              ]
             },
             {
              "title": "Percentage of Missing Values for Variable: mood_count"
             }
            ],
            "label": "mood_count",
            "method": "update"
           },
           {
            "args": [
             {
              "x": [
               [
                "1",
                "2",
                "3",
                "5",
                "6",
                "7",
                "8",
                "9",
                "12",
                "13",
                "14",
                "15",
                "16",
                "17",
                "19",
                "20",
                "23",
                "24",
                "25",
                "26",
                "27",
                "28",
                "29",
                "30",
                "31",
                "32",
                "33",
                "all"
               ]
              ],
              "y": [
               [
                0.077,
                0,
                0.049,
                0.091,
                0.086,
                0,
                0.141,
                0.09,
                0.118,
                0.065,
                0.077,
                0.025,
                0.051,
                0.038,
                0.064,
                0.154,
                0.182,
                0,
                0.074,
                0.029,
                0.091,
                0.284,
                0.17,
                0.103,
                0.133,
                0.011,
                0.029,
                0.084
               ]
              ]
             },
             {
              "title": "Percentage of Missing Values for Variable: sms_count"
             }
            ],
            "label": "sms_count",
            "method": "update"
           },
           {
            "args": [
             {
              "x": [
               [
                "1",
                "2",
                "3",
                "5",
                "6",
                "7",
                "8",
                "9",
                "12",
                "13",
                "14",
                "15",
                "16",
                "17",
                "19",
                "20",
                "23",
                "24",
                "25",
                "26",
                "27",
                "28",
                "29",
                "30",
                "31",
                "32",
                "33",
                "all"
               ]
              ],
              "y": [
               [
                0.077,
                0,
                0.049,
                0.091,
                0.086,
                0,
                0.141,
                0.09,
                0.118,
                0.065,
                0.077,
                0.025,
                0.051,
                0.038,
                0.064,
                0.154,
                0.182,
                0,
                0.074,
                0.029,
                0.091,
                0.284,
                0.17,
                0.103,
                0.133,
                0.011,
                0.029,
                0.084
               ]
              ]
             },
             {
              "title": "Percentage of Missing Values for Variable: call_count"
             }
            ],
            "label": "call_count",
            "method": "update"
           },
           {
            "args": [
             {
              "x": [
               [
                "1",
                "2",
                "3",
                "5",
                "6",
                "7",
                "8",
                "9",
                "12",
                "13",
                "14",
                "15",
                "16",
                "17",
                "19",
                "20",
                "23",
                "24",
                "25",
                "26",
                "27",
                "28",
                "29",
                "30",
                "31",
                "32",
                "33",
                "all"
               ]
              ],
              "y": [
               [
                0.077,
                0,
                0.049,
                0.091,
                0.086,
                0,
                0.141,
                0.09,
                0.118,
                0.065,
                0.077,
                0.025,
                0.051,
                0.038,
                0.064,
                0.154,
                0.182,
                0,
                0.074,
                0.029,
                0.091,
                0.284,
                0.17,
                0.103,
                0.133,
                0.011,
                0.029,
                0.084
               ]
              ]
             },
             {
              "title": "Percentage of Missing Values for Variable: circumplex.arousal_count"
             }
            ],
            "label": "circumplex.arousal_count",
            "method": "update"
           },
           {
            "args": [
             {
              "x": [
               [
                "1",
                "2",
                "3",
                "5",
                "6",
                "7",
                "8",
                "9",
                "12",
                "13",
                "14",
                "15",
                "16",
                "17",
                "19",
                "20",
                "23",
                "24",
                "25",
                "26",
                "27",
                "28",
                "29",
                "30",
                "31",
                "32",
                "33",
                "all"
               ]
              ],
              "y": [
               [
                0.077,
                0,
                0.049,
                0.091,
                0.086,
                0,
                0.141,
                0.09,
                0.118,
                0.065,
                0.077,
                0.025,
                0.051,
                0.038,
                0.064,
                0.154,
                0.182,
                0,
                0.074,
                0.029,
                0.091,
                0.284,
                0.17,
                0.103,
                0.133,
                0.011,
                0.029,
                0.084
               ]
              ]
             },
             {
              "title": "Percentage of Missing Values for Variable: appCat.social_count"
             }
            ],
            "label": "appCat.social_count",
            "method": "update"
           },
           {
            "args": [
             {
              "x": [
               [
                "1",
                "2",
                "3",
                "5",
                "6",
                "7",
                "8",
                "9",
                "12",
                "13",
                "14",
                "15",
                "16",
                "17",
                "19",
                "20",
                "23",
                "24",
                "25",
                "26",
                "27",
                "28",
                "29",
                "30",
                "31",
                "32",
                "33",
                "all"
               ]
              ],
              "y": [
               [
                0.077,
                0,
                0.049,
                0.091,
                0.086,
                0,
                0.141,
                0.09,
                0.118,
                0.065,
                0.077,
                0.025,
                0.051,
                0.038,
                0.064,
                0.154,
                0.182,
                0,
                0.074,
                0.029,
                0.091,
                0.284,
                0.17,
                0.103,
                0.133,
                0.011,
                0.029,
                0.084
               ]
              ]
             },
             {
              "title": "Percentage of Missing Values for Variable: appCat.travel_count"
             }
            ],
            "label": "appCat.travel_count",
            "method": "update"
           },
           {
            "args": [
             {
              "x": [
               [
                "1",
                "2",
                "3",
                "5",
                "6",
                "7",
                "8",
                "9",
                "12",
                "13",
                "14",
                "15",
                "16",
                "17",
                "19",
                "20",
                "23",
                "24",
                "25",
                "26",
                "27",
                "28",
                "29",
                "30",
                "31",
                "32",
                "33",
                "all"
               ]
              ],
              "y": [
               [
                0.077,
                0,
                0.049,
                0.091,
                0.086,
                0,
                0.141,
                0.09,
                0.118,
                0.065,
                0.077,
                0.025,
                0.051,
                0.038,
                0.064,
                0.154,
                0.182,
                0,
                0.074,
                0.029,
                0.091,
                0.284,
                0.17,
                0.103,
                0.133,
                0.011,
                0.029,
                0.084
               ]
              ]
             },
             {
              "title": "Percentage of Missing Values for Variable: appCat.builtin_count"
             }
            ],
            "label": "appCat.builtin_count",
            "method": "update"
           },
           {
            "args": [
             {
              "x": [
               [
                "1",
                "2",
                "3",
                "5",
                "6",
                "7",
                "8",
                "9",
                "12",
                "13",
                "14",
                "15",
                "16",
                "17",
                "19",
                "20",
                "23",
                "24",
                "25",
                "26",
                "27",
                "28",
                "29",
                "30",
                "31",
                "32",
                "33",
                "all"
               ]
              ],
              "y": [
               [
                0.077,
                0,
                0.049,
                0.091,
                0.086,
                0,
                0.141,
                0.09,
                0.118,
                0.065,
                0.077,
                0.025,
                0.051,
                0.038,
                0.064,
                0.154,
                0.182,
                0,
                0.074,
                0.029,
                0.091,
                0.284,
                0.17,
                0.103,
                0.133,
                0.011,
                0.029,
                0.084
               ]
              ]
             },
             {
              "title": "Percentage of Missing Values for Variable: appCat.communication_count"
             }
            ],
            "label": "appCat.communication_count",
            "method": "update"
           },
           {
            "args": [
             {
              "x": [
               [
                "1",
                "2",
                "3",
                "5",
                "6",
                "7",
                "8",
                "9",
                "12",
                "13",
                "14",
                "15",
                "16",
                "17",
                "19",
                "20",
                "23",
                "24",
                "25",
                "26",
                "27",
                "28",
                "29",
                "30",
                "31",
                "32",
                "33",
                "all"
               ]
              ],
              "y": [
               [
                0.077,
                0,
                0.049,
                0.091,
                0.086,
                0,
                0.141,
                0.09,
                0.118,
                0.065,
                0.077,
                0.025,
                0.051,
                0.038,
                0.064,
                0.154,
                0.182,
                0,
                0.074,
                0.029,
                0.091,
                0.284,
                0.17,
                0.103,
                0.133,
                0.011,
                0.029,
                0.084
               ]
              ]
             },
             {
              "title": "Percentage of Missing Values for Variable: appCat.other_count"
             }
            ],
            "label": "appCat.other_count",
            "method": "update"
           },
           {
            "args": [
             {
              "x": [
               [
                "1",
                "2",
                "3",
                "5",
                "6",
                "7",
                "8",
                "9",
                "12",
                "13",
                "14",
                "15",
                "16",
                "17",
                "19",
                "20",
                "23",
                "24",
                "25",
                "26",
                "27",
                "28",
                "29",
                "30",
                "31",
                "32",
                "33",
                "all"
               ]
              ],
              "y": [
               [
                0.077,
                0,
                0.049,
                0.091,
                0.086,
                0,
                0.141,
                0.09,
                0.118,
                0.065,
                0.077,
                0.025,
                0.051,
                0.038,
                0.064,
                0.154,
                0.182,
                0,
                0.074,
                0.029,
                0.091,
                0.284,
                0.17,
                0.103,
                0.133,
                0.011,
                0.029,
                0.084
               ]
              ]
             },
             {
              "title": "Percentage of Missing Values for Variable: appCat.entertainment_count"
             }
            ],
            "label": "appCat.entertainment_count",
            "method": "update"
           },
           {
            "args": [
             {
              "x": [
               [
                "1",
                "2",
                "3",
                "5",
                "6",
                "7",
                "8",
                "9",
                "12",
                "13",
                "14",
                "15",
                "16",
                "17",
                "19",
                "20",
                "23",
                "24",
                "25",
                "26",
                "27",
                "28",
                "29",
                "30",
                "31",
                "32",
                "33",
                "all"
               ]
              ],
              "y": [
               [
                0,
                0,
                0,
                0,
                0,
                0,
                0,
                0,
                0,
                0,
                0,
                0,
                0,
                0,
                0,
                0,
                0,
                0,
                0,
                0,
                0,
                0,
                0,
                0,
                0,
                0,
                0,
                0
               ]
              ]
             },
             {
              "title": "Percentage of Missing Values for Variable: id_num"
             }
            ],
            "label": "id_num",
            "method": "update"
           },
           {
            "args": [
             {
              "x": [
               [
                "1",
                "2",
                "3",
                "5",
                "6",
                "7",
                "8",
                "9",
                "12",
                "13",
                "14",
                "15",
                "16",
                "17",
                "19",
                "20",
                "23",
                "24",
                "25",
                "26",
                "27",
                "28",
                "29",
                "30",
                "31",
                "32",
                "33",
                "all"
               ]
              ],
              "y": [
               [
                0,
                0,
                0,
                0,
                0,
                0,
                0,
                0,
                0,
                0,
                0,
                0,
                0,
                0,
                0,
                0,
                0,
                0,
                0,
                0,
                0,
                0,
                0,
                0,
                0,
                0,
                0,
                0
               ]
              ]
             },
             {
              "title": "Percentage of Missing Values for Variable: day"
             }
            ],
            "label": "day",
            "method": "update"
           }
          ],
          "x": 0,
          "xanchor": "left",
          "y": 1.15,
          "yanchor": "top"
         }
        ],
        "xaxis": {
         "title": {
          "text": "Participant"
         },
         "type": "category"
        },
        "yaxis": {
         "title": {
          "text": "Percentage Missing"
         }
        }
       }
      }
     },
     "metadata": {},
     "output_type": "display_data"
    }
   ],
   "source": [
    "def plotly_nan_exploration(df_nans, save_html=True, show_plot=True, title=\"nan_exploration\"):\n",
    "    \"\"\"\n",
    "    Create an interactive Plotly bar chart that shows the percentage of missing values\n",
    "    per participant for a selected variable. A dropdown allows selection of the variable.\n",
    "    \n",
    "    The x-axis labels (participants) are sorted ascendingly. Numeric participant ids are \n",
    "    sorted numerically and non-numeric ones (like \"all\") are placed after.\n",
    "    \n",
    "    Parameters:\n",
    "        df_nans (pd.DataFrame): DataFrame with columns 'variable', 'nan_percentage', \n",
    "                                'participant', etc.\n",
    "        \n",
    "    Returns:\n",
    "        fig (plotly.graph_objects.Figure): Interactive bar chart.\n",
    "    \"\"\"\n",
    "    # Get the list of unique variables\n",
    "    variables = df_nans['variable'].unique()\n",
    "    \n",
    "    # Create a dictionary for each variable containing its sorted x and y data\n",
    "    data_dict = {}\n",
    "    for var in variables:\n",
    "        # Get rows corresponding to the variable and make a copy for sorting\n",
    "        df_var = df_nans[df_nans['variable'] == var].copy()\n",
    "        # Try converting participant to numeric; non-convertible values become NaN.\n",
    "        df_var['sort_key'] = pd.to_numeric(df_var['participant'], errors='coerce')\n",
    "        # Sort: numeric values (lower sort_key) come first; then non-numeric values.\n",
    "        df_var = df_var.sort_values(by=['sort_key', 'participant'])\n",
    "        # Convert participants to string to treat them as categorical labels.\n",
    "        x_labels = df_var['participant'].astype(str).tolist()\n",
    "        data_dict[var] = {\n",
    "            \"x\": x_labels,\n",
    "            \"y\": df_var['nan_percentage'].tolist()\n",
    "        }\n",
    "    \n",
    "    # Create initial plot for the first variable in the list\n",
    "    initial_var = variables[0]\n",
    "    fig = go.Figure(\n",
    "        data=[\n",
    "            go.Bar(\n",
    "                x=data_dict[initial_var][\"x\"],\n",
    "                y=data_dict[initial_var][\"y\"],\n",
    "                marker_color='steelblue'\n",
    "            )\n",
    "        ]\n",
    "    )\n",
    "    \n",
    "    # Define dropdown buttons to update the data based on variable selection\n",
    "    dropdown_buttons = []\n",
    "    for var in variables:\n",
    "        dropdown_buttons.append(\n",
    "            dict(\n",
    "                label=var,\n",
    "                method=\"update\",\n",
    "                args=[\n",
    "                    {\"x\": [data_dict[var][\"x\"]],\n",
    "                     \"y\": [data_dict[var][\"y\"]]\n",
    "                    },\n",
    "                    {\"title\": f\"Percentage of Missing Values for Variable: {var}\"}\n",
    "                ]\n",
    "            )\n",
    "        )\n",
    "    \n",
    "    # Update the layout with title, axis labels, and dropdown menu\n",
    "    fig.update_layout(\n",
    "        title=f\"Percentage of Missing Values for Variable: {initial_var}\",\n",
    "        xaxis_title=\"Participant\",\n",
    "        yaxis_title=\"Percentage Missing\",\n",
    "        updatemenus=[\n",
    "            dict(\n",
    "                active=0,\n",
    "                buttons=dropdown_buttons,\n",
    "                x=0.0,\n",
    "                xanchor=\"left\",\n",
    "                y=1.15,\n",
    "                yanchor=\"top\"\n",
    "            )\n",
    "        ]\n",
    "    )\n",
    "    \n",
    "    # Force the x-axis to treat values as categorical so that all labels are shown\n",
    "    fig.update_xaxes(type='category')\n",
    "    \n",
    "    if save_html:\n",
    "        outdir = \"figures/plotly/nan_exploration\"\n",
    "        os.makedirs(outdir, exist_ok=True)\n",
    "        fig.write_html(os.path.join(outdir, f\"{title}.html\"))\n",
    "    \n",
    "    # Show the figure if requested.\n",
    "    if show_plot:\n",
    "        fig.show()\n",
    "\n",
    "\n",
    "plotly_nan_exploration(df_nans)"
   ]
  },
  {
   "cell_type": "markdown",
   "metadata": {},
   "source": [
    "## unique values"
   ]
  },
  {
   "cell_type": "code",
   "execution_count": null,
   "metadata": {},
   "outputs": [
    {
     "name": "stdout",
     "output_type": "stream",
     "text": [
      "variable\n",
      "id_num                      27\n",
      "day                        113\n",
      "mood                        59\n",
      "screen                    1207\n",
      "activity                  1157\n",
      "activity_max               576\n",
      "circumplex.valence          30\n",
      "circumplex.valence_min       5\n",
      "circumplex.valence_max       4\n",
      "circumplex.arousal          42\n",
      "circumplex.arousal_min       5\n",
      "circumplex.arousal_max       5\n",
      "call                        25\n",
      "sms                         16\n",
      "appCat.builtin            1195\n",
      "appCat.communication      1183\n",
      "appCat.entertainment       849\n",
      "appCat.finance             207\n",
      "appCat.game                191\n",
      "appCat.office              275\n",
      "appCat.other              1116\n",
      "appCat.social              988\n",
      "appCat.travel              428\n",
      "appCat.unknown             264\n",
      "appCat.utilities           424\n",
      "appCat.weather             112\n",
      "dtype: int64\n"
     ]
    }
   ],
   "source": [
    "# get unique values per variable\n",
    "\n",
    "pivot = create_daily_pivot(df, participant=\"all\", return_dict=False, counts=False)\n",
    "# get the unique values per variable\n",
    "unique_values = pivot.nunique()\n",
    "print(unique_values)"
   ]
  },
  {
   "cell_type": "markdown",
   "metadata": {},
   "source": [
    "# IMPUTATION"
   ]
  },
  {
   "cell_type": "markdown",
   "metadata": {},
   "source": [
    "### drop negative values from the OG dataset"
   ]
  },
  {
   "cell_type": "code",
   "execution_count": null,
   "metadata": {},
   "outputs": [
    {
     "name": "stdout",
     "output_type": "stream",
     "text": [
      "Negative value found: -44.689 for variable appCat.builtin at time 2014-03-16 15:46:43.769000\n",
      "Participant: 2, Day: 2014-03-16 15:46:43.769000\n",
      "Dropping row...\n",
      "Negative value found: -82798.871 for variable appCat.builtin at time 2014-04-30 14:18:06.200000\n",
      "Participant: 7, Day: 2014-04-30 14:18:06.200000\n",
      "Dropping row...\n",
      "Negative value found: -1.218 for variable appCat.builtin at time 2014-04-02 16:42:16.523000\n",
      "Participant: 12, Day: 2014-04-02 16:42:16.523000\n",
      "Dropping row...\n",
      "Negative value found: -0.011 for variable appCat.entertainment at time 2014-03-26 21:18:45.144000\n",
      "Participant: 2, Day: 2014-03-26 21:18:45.144000\n",
      "Dropping row...\n"
     ]
    }
   ],
   "source": [
    "def find_negative_values_OG_df(df, drop=False):\n",
    "\n",
    "    exlude_variables = [\"circumplex.valence\", \"circumplex.arousal\"]\n",
    "\n",
    "    for index, row in df.iterrows():\n",
    "        if row[\"value\"] < 0 and row[\"variable\"] not in exlude_variables:\n",
    "            # print(row)\n",
    "            print(f\"Negative value found: {row['value']} for variable {row['variable']} at time {row['time']}\")\n",
    "            print(f\"Participant: {row['id_num']}, Day: {row['time']}\")\n",
    "            if drop:\n",
    "                print(\"Dropping row...\")\n",
    "                df = df.drop(index=index)\n",
    "\n",
    "\n",
    "\n",
    "# DROP NEGATIVE VALUES\n",
    "find_negative_values_OG_df(df, drop=True)\n"
   ]
  },
  {
   "cell_type": "markdown",
   "metadata": {},
   "source": [
    "### drop rows with NaN in the value column\n"
   ]
  },
  {
   "cell_type": "code",
   "execution_count": null,
   "metadata": {},
   "outputs": [
    {
     "name": "stdout",
     "output_type": "stream",
     "text": [
      "nan counts Unnamed: 0    0\n",
      "id            0\n",
      "time          0\n",
      "variable      0\n",
      "value         0\n",
      "id_num        0\n",
      "dtype: int64\n"
     ]
    }
   ],
   "source": [
    "# drop rows with NaN in the value column\n",
    "df_drop_NAN = df.dropna(subset=[\"value\"])\n",
    "\n",
    "\n",
    "\n",
    "# count NANs per variable\n",
    "nan_counts = df_drop_NAN.isna().sum()\n",
    "print(\"nan counts\", nan_counts)"
   ]
  },
  {
   "cell_type": "markdown",
   "metadata": {},
   "source": [
    "### Create pivot for imputation"
   ]
  },
  {
   "cell_type": "code",
   "execution_count": null,
   "metadata": {},
   "outputs": [
    {
     "name": "stdout",
     "output_type": "stream",
     "text": [
      "Index(['id_num', 'day', 'mood', 'screen', 'activity', 'activity_max',\n",
      "       'circumplex.valence', 'circumplex.valence_min',\n",
      "       'circumplex.valence_max', 'circumplex.arousal',\n",
      "       'circumplex.arousal_min', 'circumplex.arousal_max', 'call', 'sms',\n",
      "       'appCat.builtin', 'appCat.communication', 'appCat.entertainment',\n",
      "       'appCat.finance', 'appCat.game', 'appCat.office', 'appCat.other',\n",
      "       'appCat.social', 'appCat.travel', 'appCat.unknown', 'appCat.utilities',\n",
      "       'appCat.weather'],\n",
      "      dtype='object', name='variable')\n"
     ]
    }
   ],
   "source": [
    "\n",
    "pivot_for_imputation = create_daily_pivot(df_drop_NAN, participant=\"all\", return_dict=False, counts=False)\n",
    "# for app categories we assume that NaN means 0\n",
    "for col in pivot_for_imputation.columns:\n",
    "    if col.startswith(\"appCat\"):\n",
    "        pivot_for_imputation[col] = pivot_for_imputation[col].fillna(0)\n",
    "\n",
    "\n",
    "# pivot_for_imputation = pivot_for_imputation.drop(columns=[\"day\"])\n",
    "\n",
    "# save the pivot table\n",
    "if not os.path.exists(\"tables/pivot_tables_daily\"):\n",
    "    os.makedirs(\"tables/pivot_tables_daily\")\n",
    "pivot_for_imputation.to_csv(\"tables/pivot_tables_daily/daily_pivot_table_imputed.csv\", index=False)\n",
    "        \n",
    "\n",
    "print(pivot_for_imputation.columns)"
   ]
  },
  {
   "cell_type": "markdown",
   "metadata": {},
   "source": [
    "#### add next day mood as a column"
   ]
  },
  {
   "cell_type": "code",
   "execution_count": null,
   "metadata": {},
   "outputs": [
    {
     "data": {
      "text/html": [
       "<div>\n",
       "<style scoped>\n",
       "    .dataframe tbody tr th:only-of-type {\n",
       "        vertical-align: middle;\n",
       "    }\n",
       "\n",
       "    .dataframe tbody tr th {\n",
       "        vertical-align: top;\n",
       "    }\n",
       "\n",
       "    .dataframe thead th {\n",
       "        text-align: right;\n",
       "    }\n",
       "</style>\n",
       "<table border=\"1\" class=\"dataframe\">\n",
       "  <thead>\n",
       "    <tr style=\"text-align: right;\">\n",
       "      <th>variable</th>\n",
       "      <th>id_num</th>\n",
       "      <th>mood</th>\n",
       "      <th>screen</th>\n",
       "      <th>activity</th>\n",
       "      <th>activity_max</th>\n",
       "      <th>circumplex.valence</th>\n",
       "      <th>circumplex.valence_min</th>\n",
       "      <th>circumplex.valence_max</th>\n",
       "      <th>circumplex.arousal</th>\n",
       "      <th>circumplex.arousal_min</th>\n",
       "      <th>...</th>\n",
       "      <th>appCat.office</th>\n",
       "      <th>appCat.other</th>\n",
       "      <th>appCat.social</th>\n",
       "      <th>appCat.travel</th>\n",
       "      <th>appCat.unknown</th>\n",
       "      <th>appCat.utilities</th>\n",
       "      <th>appCat.weather</th>\n",
       "      <th>day</th>\n",
       "      <th>next_day</th>\n",
       "      <th>next_day_mood</th>\n",
       "    </tr>\n",
       "  </thead>\n",
       "  <tbody>\n",
       "    <tr>\n",
       "      <th>0</th>\n",
       "      <td>1</td>\n",
       "      <td>NaN</td>\n",
       "      <td>NaN</td>\n",
       "      <td>NaN</td>\n",
       "      <td>NaN</td>\n",
       "      <td>NaN</td>\n",
       "      <td>NaN</td>\n",
       "      <td>NaN</td>\n",
       "      <td>NaN</td>\n",
       "      <td>NaN</td>\n",
       "      <td>...</td>\n",
       "      <td>0.0</td>\n",
       "      <td>0.0</td>\n",
       "      <td>0.0</td>\n",
       "      <td>0.0</td>\n",
       "      <td>0.0</td>\n",
       "      <td>0.0</td>\n",
       "      <td>0.0</td>\n",
       "      <td>2014-02-17</td>\n",
       "      <td>2014-02-18</td>\n",
       "      <td>NaN</td>\n",
       "    </tr>\n",
       "    <tr>\n",
       "      <th>1</th>\n",
       "      <td>1</td>\n",
       "      <td>NaN</td>\n",
       "      <td>NaN</td>\n",
       "      <td>NaN</td>\n",
       "      <td>NaN</td>\n",
       "      <td>NaN</td>\n",
       "      <td>NaN</td>\n",
       "      <td>NaN</td>\n",
       "      <td>NaN</td>\n",
       "      <td>NaN</td>\n",
       "      <td>...</td>\n",
       "      <td>0.0</td>\n",
       "      <td>0.0</td>\n",
       "      <td>0.0</td>\n",
       "      <td>0.0</td>\n",
       "      <td>0.0</td>\n",
       "      <td>0.0</td>\n",
       "      <td>0.0</td>\n",
       "      <td>2014-02-18</td>\n",
       "      <td>2014-02-19</td>\n",
       "      <td>NaN</td>\n",
       "    </tr>\n",
       "    <tr>\n",
       "      <th>2</th>\n",
       "      <td>1</td>\n",
       "      <td>NaN</td>\n",
       "      <td>NaN</td>\n",
       "      <td>NaN</td>\n",
       "      <td>NaN</td>\n",
       "      <td>NaN</td>\n",
       "      <td>NaN</td>\n",
       "      <td>NaN</td>\n",
       "      <td>NaN</td>\n",
       "      <td>NaN</td>\n",
       "      <td>...</td>\n",
       "      <td>0.0</td>\n",
       "      <td>0.0</td>\n",
       "      <td>0.0</td>\n",
       "      <td>0.0</td>\n",
       "      <td>0.0</td>\n",
       "      <td>0.0</td>\n",
       "      <td>0.0</td>\n",
       "      <td>2014-02-19</td>\n",
       "      <td>2014-02-20</td>\n",
       "      <td>NaN</td>\n",
       "    </tr>\n",
       "    <tr>\n",
       "      <th>3</th>\n",
       "      <td>1</td>\n",
       "      <td>NaN</td>\n",
       "      <td>NaN</td>\n",
       "      <td>NaN</td>\n",
       "      <td>NaN</td>\n",
       "      <td>NaN</td>\n",
       "      <td>NaN</td>\n",
       "      <td>NaN</td>\n",
       "      <td>NaN</td>\n",
       "      <td>NaN</td>\n",
       "      <td>...</td>\n",
       "      <td>0.0</td>\n",
       "      <td>0.0</td>\n",
       "      <td>0.0</td>\n",
       "      <td>0.0</td>\n",
       "      <td>0.0</td>\n",
       "      <td>0.0</td>\n",
       "      <td>0.0</td>\n",
       "      <td>2014-02-20</td>\n",
       "      <td>2014-02-21</td>\n",
       "      <td>NaN</td>\n",
       "    </tr>\n",
       "    <tr>\n",
       "      <th>4</th>\n",
       "      <td>1</td>\n",
       "      <td>NaN</td>\n",
       "      <td>NaN</td>\n",
       "      <td>NaN</td>\n",
       "      <td>NaN</td>\n",
       "      <td>NaN</td>\n",
       "      <td>NaN</td>\n",
       "      <td>NaN</td>\n",
       "      <td>NaN</td>\n",
       "      <td>NaN</td>\n",
       "      <td>...</td>\n",
       "      <td>0.0</td>\n",
       "      <td>0.0</td>\n",
       "      <td>0.0</td>\n",
       "      <td>0.0</td>\n",
       "      <td>0.0</td>\n",
       "      <td>0.0</td>\n",
       "      <td>0.0</td>\n",
       "      <td>2014-02-21</td>\n",
       "      <td>2014-02-22</td>\n",
       "      <td>NaN</td>\n",
       "    </tr>\n",
       "  </tbody>\n",
       "</table>\n",
       "<p>5 rows × 28 columns</p>\n",
       "</div>"
      ],
      "text/plain": [
       "variable  id_num  mood  screen  activity  activity_max  circumplex.valence  \\\n",
       "0              1   NaN     NaN       NaN           NaN                 NaN   \n",
       "1              1   NaN     NaN       NaN           NaN                 NaN   \n",
       "2              1   NaN     NaN       NaN           NaN                 NaN   \n",
       "3              1   NaN     NaN       NaN           NaN                 NaN   \n",
       "4              1   NaN     NaN       NaN           NaN                 NaN   \n",
       "\n",
       "variable  circumplex.valence_min  circumplex.valence_max  circumplex.arousal  \\\n",
       "0                            NaN                     NaN                 NaN   \n",
       "1                            NaN                     NaN                 NaN   \n",
       "2                            NaN                     NaN                 NaN   \n",
       "3                            NaN                     NaN                 NaN   \n",
       "4                            NaN                     NaN                 NaN   \n",
       "\n",
       "variable  circumplex.arousal_min  ...  appCat.office  appCat.other  \\\n",
       "0                            NaN  ...            0.0           0.0   \n",
       "1                            NaN  ...            0.0           0.0   \n",
       "2                            NaN  ...            0.0           0.0   \n",
       "3                            NaN  ...            0.0           0.0   \n",
       "4                            NaN  ...            0.0           0.0   \n",
       "\n",
       "variable  appCat.social  appCat.travel  appCat.unknown  appCat.utilities  \\\n",
       "0                   0.0            0.0             0.0               0.0   \n",
       "1                   0.0            0.0             0.0               0.0   \n",
       "2                   0.0            0.0             0.0               0.0   \n",
       "3                   0.0            0.0             0.0               0.0   \n",
       "4                   0.0            0.0             0.0               0.0   \n",
       "\n",
       "variable  appCat.weather        day   next_day  next_day_mood  \n",
       "0                    0.0 2014-02-17 2014-02-18            NaN  \n",
       "1                    0.0 2014-02-18 2014-02-19            NaN  \n",
       "2                    0.0 2014-02-19 2014-02-20            NaN  \n",
       "3                    0.0 2014-02-20 2014-02-21            NaN  \n",
       "4                    0.0 2014-02-21 2014-02-22            NaN  \n",
       "\n",
       "[5 rows x 28 columns]"
      ]
     },
     "execution_count": 64,
     "metadata": {},
     "output_type": "execute_result"
    }
   ],
   "source": [
    "# add next day values into next_day_mood column\n",
    "def add_next_day_values(df):\n",
    "    \"\"\"\n",
    "    Add next day values into next_day_mood column\n",
    "    \"\"\"\n",
    "    # create a new column with the next day mood\n",
    "    df[\"next_day_mood\"] = df.groupby(\"id_num\")[\"mood\"].shift(-1)\n",
    "    # create a new column with the next day date\n",
    "    df[\"next_day\"] = df.groupby(\"id_num\")[\"day\"].shift(-1)\n",
    "\n",
    "    # get day column moved to the 3rd last position\n",
    "    cols = df.columns.tolist()\n",
    "    cols.insert(-2, cols.pop(cols.index(\"day\")))\n",
    "    cols.insert(-1, cols.pop(cols.index(\"next_day\")))\n",
    "    df = df[cols]\n",
    "    return df\n",
    "\n",
    "df_next_day = add_next_day_values(pivot_for_imputation)\n",
    "df_next_day.head()\n",
    "# save the dataframe\n",
    "if not os.path.exists(\"tables/pivot_tables_daily\"):\n",
    "    os.makedirs(\"tables/pivot_tables_daily/\")\n",
    "df_next_day.to_csv(\"tables/pivot_tables_daily/daily_pivot_table_next_day.csv\", index=False)\n",
    "\n",
    "\n",
    "df_next_day.columns\n",
    "\n",
    "\n",
    "df_next_day.head()\n"
   ]
  },
  {
   "cell_type": "markdown",
   "metadata": {},
   "source": [
    "### correlate everything with next_day_mood"
   ]
  },
  {
   "cell_type": "code",
   "execution_count": null,
   "metadata": {},
   "outputs": [
    {
     "data": {
      "text/html": [
       "<div>\n",
       "<style scoped>\n",
       "    .dataframe tbody tr th:only-of-type {\n",
       "        vertical-align: middle;\n",
       "    }\n",
       "\n",
       "    .dataframe tbody tr th {\n",
       "        vertical-align: top;\n",
       "    }\n",
       "\n",
       "    .dataframe thead th {\n",
       "        text-align: right;\n",
       "    }\n",
       "</style>\n",
       "<table border=\"1\" class=\"dataframe\">\n",
       "  <thead>\n",
       "    <tr style=\"text-align: right;\">\n",
       "      <th></th>\n",
       "      <th>variable</th>\n",
       "      <th>correlation</th>\n",
       "    </tr>\n",
       "  </thead>\n",
       "  <tbody>\n",
       "    <tr>\n",
       "      <th>0</th>\n",
       "      <td>mood</td>\n",
       "      <td>0.472047</td>\n",
       "    </tr>\n",
       "    <tr>\n",
       "      <th>1</th>\n",
       "      <td>circumplex.valence</td>\n",
       "      <td>0.273340</td>\n",
       "    </tr>\n",
       "    <tr>\n",
       "      <th>2</th>\n",
       "      <td>circumplex.valence_min</td>\n",
       "      <td>0.214183</td>\n",
       "    </tr>\n",
       "    <tr>\n",
       "      <th>3</th>\n",
       "      <td>circumplex.valence_max</td>\n",
       "      <td>0.171983</td>\n",
       "    </tr>\n",
       "    <tr>\n",
       "      <th>4</th>\n",
       "      <td>activity_max</td>\n",
       "      <td>0.126540</td>\n",
       "    </tr>\n",
       "    <tr>\n",
       "      <th>5</th>\n",
       "      <td>activity</td>\n",
       "      <td>0.111211</td>\n",
       "    </tr>\n",
       "    <tr>\n",
       "      <th>6</th>\n",
       "      <td>appCat.entertainment</td>\n",
       "      <td>0.104093</td>\n",
       "    </tr>\n",
       "    <tr>\n",
       "      <th>7</th>\n",
       "      <td>circumplex.arousal_max</td>\n",
       "      <td>0.084588</td>\n",
       "    </tr>\n",
       "    <tr>\n",
       "      <th>8</th>\n",
       "      <td>circumplex.arousal</td>\n",
       "      <td>0.082142</td>\n",
       "    </tr>\n",
       "    <tr>\n",
       "      <th>9</th>\n",
       "      <td>circumplex.arousal_min</td>\n",
       "      <td>0.067503</td>\n",
       "    </tr>\n",
       "    <tr>\n",
       "      <th>10</th>\n",
       "      <td>appCat.office</td>\n",
       "      <td>0.058794</td>\n",
       "    </tr>\n",
       "    <tr>\n",
       "      <th>11</th>\n",
       "      <td>appCat.builtin</td>\n",
       "      <td>0.056550</td>\n",
       "    </tr>\n",
       "    <tr>\n",
       "      <th>12</th>\n",
       "      <td>appCat.communication</td>\n",
       "      <td>0.055053</td>\n",
       "    </tr>\n",
       "    <tr>\n",
       "      <th>13</th>\n",
       "      <td>appCat.weather</td>\n",
       "      <td>0.049003</td>\n",
       "    </tr>\n",
       "    <tr>\n",
       "      <th>14</th>\n",
       "      <td>appCat.game</td>\n",
       "      <td>0.048300</td>\n",
       "    </tr>\n",
       "    <tr>\n",
       "      <th>15</th>\n",
       "      <td>appCat.other</td>\n",
       "      <td>0.037565</td>\n",
       "    </tr>\n",
       "    <tr>\n",
       "      <th>16</th>\n",
       "      <td>screen</td>\n",
       "      <td>0.033697</td>\n",
       "    </tr>\n",
       "    <tr>\n",
       "      <th>17</th>\n",
       "      <td>appCat.utilities</td>\n",
       "      <td>0.033581</td>\n",
       "    </tr>\n",
       "    <tr>\n",
       "      <th>18</th>\n",
       "      <td>appCat.travel</td>\n",
       "      <td>0.032772</td>\n",
       "    </tr>\n",
       "    <tr>\n",
       "      <th>19</th>\n",
       "      <td>appCat.unknown</td>\n",
       "      <td>0.015852</td>\n",
       "    </tr>\n",
       "    <tr>\n",
       "      <th>20</th>\n",
       "      <td>appCat.finance</td>\n",
       "      <td>0.014024</td>\n",
       "    </tr>\n",
       "    <tr>\n",
       "      <th>21</th>\n",
       "      <td>sms</td>\n",
       "      <td>-0.023898</td>\n",
       "    </tr>\n",
       "    <tr>\n",
       "      <th>22</th>\n",
       "      <td>call</td>\n",
       "      <td>-0.025648</td>\n",
       "    </tr>\n",
       "    <tr>\n",
       "      <th>23</th>\n",
       "      <td>appCat.social</td>\n",
       "      <td>-0.052625</td>\n",
       "    </tr>\n",
       "  </tbody>\n",
       "</table>\n",
       "</div>"
      ],
      "text/plain": [
       "                  variable  correlation\n",
       "0                     mood     0.472047\n",
       "1       circumplex.valence     0.273340\n",
       "2   circumplex.valence_min     0.214183\n",
       "3   circumplex.valence_max     0.171983\n",
       "4             activity_max     0.126540\n",
       "5                 activity     0.111211\n",
       "6     appCat.entertainment     0.104093\n",
       "7   circumplex.arousal_max     0.084588\n",
       "8       circumplex.arousal     0.082142\n",
       "9   circumplex.arousal_min     0.067503\n",
       "10           appCat.office     0.058794\n",
       "11          appCat.builtin     0.056550\n",
       "12    appCat.communication     0.055053\n",
       "13          appCat.weather     0.049003\n",
       "14             appCat.game     0.048300\n",
       "15            appCat.other     0.037565\n",
       "16                  screen     0.033697\n",
       "17        appCat.utilities     0.033581\n",
       "18           appCat.travel     0.032772\n",
       "19          appCat.unknown     0.015852\n",
       "20          appCat.finance     0.014024\n",
       "21                     sms    -0.023898\n",
       "22                    call    -0.025648\n",
       "23           appCat.social    -0.052625"
      ]
     },
     "execution_count": 65,
     "metadata": {},
     "output_type": "execute_result"
    }
   ],
   "source": [
    "# correlate everything with next_day_mood\n",
    "\n",
    "def correlate_with_next_day_mood(df):\n",
    "    \"\"\"\n",
    "    Correlate all variables with next_day_mood\n",
    "    \"\"\"\n",
    "    # get the columns to correlate\n",
    "    cols = df.columns.tolist()\n",
    "    cols.remove(\"id_num\")\n",
    "    cols.remove(\"day\")\n",
    "    cols.remove(\"next_day\")\n",
    "    cols.remove(\"next_day_mood\")\n",
    "    \n",
    "    # create a new dataframe with the correlations\n",
    "    df_corr = pd.DataFrame(columns=[\"variable\", \"correlation\"])\n",
    "    \n",
    "    corrs = []\n",
    "    for col in cols:\n",
    "        corr = df[col].corr(df[\"next_day_mood\"])\n",
    "        corrs.append(corr)\n",
    "    \n",
    "    df_corr = pd.DataFrame({\"variable\": cols, \"correlation\": corrs})\n",
    "    \n",
    "    # sort the dataframe by correlation\n",
    "    df_corr = df_corr.sort_values(by=[\"correlation\"], ascending=False)\n",
    "\n",
    "    df_corr.reset_index(drop=True, inplace=True)\n",
    "    \n",
    "    return df_corr\n",
    "\n",
    "correlate_with_next_day_mood(df_next_day)\n"
   ]
  },
  {
   "cell_type": "markdown",
   "metadata": {},
   "source": []
  },
  {
   "cell_type": "code",
   "execution_count": null,
   "metadata": {},
   "outputs": [],
   "source": [
    "# for each participant, select a range based on dates\n",
    "\n",
    "# 1(2), 12 (1), 3 6 14 15 16 23 24, 25 26 27 28 29 (needs imputation for 1 day interval at most), 15 (needs imputation), 17 needs 4 days of imputation, 32 33 needs 2 days at most but multiple times "
   ]
  },
  {
   "cell_type": "markdown",
   "metadata": {},
   "source": [
    "### given that participant 1 and 12 have a portion of the data which is completely detatched, cut that"
   ]
  },
  {
   "cell_type": "code",
   "execution_count": 99,
   "metadata": {},
   "outputs": [
    {
     "name": "stdout",
     "output_type": "stream",
     "text": [
      "PLOTLY TIMESERIES FUNCTION will delete column next day\n"
     ]
    }
   ],
   "source": [
    "# for participant 1, remove everything before 2014-03-21\n",
    "\n",
    "def remove_dates(df, participant=None, start_date=None, end_date=None):\n",
    "    \"\"\"\n",
    "    Remove dates from the dataframe. If start and end date aren't provided, \n",
    "    it will take the first and the last non-NaN mood value as the cutoffs.\n",
    "    \"\"\"\n",
    "    \n",
    "    # if no participant provided, then do it for all participants\n",
    "    if participant is None:\n",
    "        participant_ids = df[\"id_num\"].unique().tolist()\n",
    "    else:\n",
    "        participant_ids = [participant]\n",
    "\n",
    "    for specific_id in participant_ids:\n",
    "        # df for an individual with mood values present\n",
    "        mood_not_nan = df[(df['id_num'] == specific_id) & (df['mood'].notna())]\n",
    "\n",
    "        # Compute local start and end dates for this participant\n",
    "        local_start_date = pd.to_datetime(start_date) if start_date is not None else mood_not_nan['day'].min()\n",
    "        local_end_date = pd.to_datetime(end_date) if end_date is not None else mood_not_nan[\"day\"].max()\n",
    "    \n",
    "        # boolean mask: either not the specific id OR rows between local_start_date and local_end_date\n",
    "        mask = (df['id_num'] != specific_id) | (\n",
    "            (df['id_num'] == specific_id) & \n",
    "            (df['day'] >= local_start_date) & \n",
    "            (df['day'] <= local_end_date)\n",
    "        )\n",
    "        df = df[mask]\n",
    "    \n",
    "    return df\n",
    "\n",
    "\n",
    "df_next_day_range = remove_dates(df_next_day)\n",
    "# slice way the weird little day patch for participant 1 and 12\n",
    "df_next_day_range = remove_dates(df_next_day_range, 1, \"2014-03-21\", \"2014-05-04\")\n",
    "df_next_day_range = remove_dates(df_next_day_range, 12, \"2014-03-27\", \"2014-05-05\")\n",
    "\n",
    "plotly_all_participants_timeseries(df_next_day_range, title=\"between_ranges\", show_plot=False)\n"
   ]
  },
  {
   "cell_type": "markdown",
   "metadata": {},
   "source": [
    "### NAN exploration with removed non-mood days"
   ]
  },
  {
   "cell_type": "code",
   "execution_count": 102,
   "metadata": {},
   "outputs": [
    {
     "data": {
      "application/vnd.plotly.v1+json": {
       "config": {
        "plotlyServerURL": "https://plot.ly"
       },
       "data": [
        {
         "marker": {
          "color": "steelblue"
         },
         "type": "bar",
         "x": [
          "1",
          "2",
          "3",
          "5",
          "6",
          "7",
          "8",
          "9",
          "12",
          "13",
          "14",
          "15",
          "16",
          "17",
          "19",
          "20",
          "23",
          "24",
          "25",
          "26",
          "27",
          "28",
          "29",
          "30",
          "31",
          "32",
          "33",
          "all"
         ],
         "y": [
          0.311,
          0.049,
          0.312,
          0.491,
          0.283,
          0.396,
          0.887,
          0.5,
          0.225,
          0.66,
          0.681,
          0.232,
          0.37,
          0.587,
          0.043,
          0.787,
          0.375,
          0.25,
          0.129,
          0.507,
          0.279,
          0.718,
          0.636,
          0.447,
          0.386,
          0.071,
          0.239,
          0.417
         ]
        }
       ],
       "layout": {
        "template": {
         "data": {
          "bar": [
           {
            "error_x": {
             "color": "#2a3f5f"
            },
            "error_y": {
             "color": "#2a3f5f"
            },
            "marker": {
             "line": {
              "color": "#E5ECF6",
              "width": 0.5
             },
             "pattern": {
              "fillmode": "overlay",
              "size": 10,
              "solidity": 0.2
             }
            },
            "type": "bar"
           }
          ],
          "barpolar": [
           {
            "marker": {
             "line": {
              "color": "#E5ECF6",
              "width": 0.5
             },
             "pattern": {
              "fillmode": "overlay",
              "size": 10,
              "solidity": 0.2
             }
            },
            "type": "barpolar"
           }
          ],
          "carpet": [
           {
            "aaxis": {
             "endlinecolor": "#2a3f5f",
             "gridcolor": "white",
             "linecolor": "white",
             "minorgridcolor": "white",
             "startlinecolor": "#2a3f5f"
            },
            "baxis": {
             "endlinecolor": "#2a3f5f",
             "gridcolor": "white",
             "linecolor": "white",
             "minorgridcolor": "white",
             "startlinecolor": "#2a3f5f"
            },
            "type": "carpet"
           }
          ],
          "choropleth": [
           {
            "colorbar": {
             "outlinewidth": 0,
             "ticks": ""
            },
            "type": "choropleth"
           }
          ],
          "contour": [
           {
            "colorbar": {
             "outlinewidth": 0,
             "ticks": ""
            },
            "colorscale": [
             [
              0,
              "#0d0887"
             ],
             [
              0.1111111111111111,
              "#46039f"
             ],
             [
              0.2222222222222222,
              "#7201a8"
             ],
             [
              0.3333333333333333,
              "#9c179e"
             ],
             [
              0.4444444444444444,
              "#bd3786"
             ],
             [
              0.5555555555555556,
              "#d8576b"
             ],
             [
              0.6666666666666666,
              "#ed7953"
             ],
             [
              0.7777777777777778,
              "#fb9f3a"
             ],
             [
              0.8888888888888888,
              "#fdca26"
             ],
             [
              1,
              "#f0f921"
             ]
            ],
            "type": "contour"
           }
          ],
          "contourcarpet": [
           {
            "colorbar": {
             "outlinewidth": 0,
             "ticks": ""
            },
            "type": "contourcarpet"
           }
          ],
          "heatmap": [
           {
            "colorbar": {
             "outlinewidth": 0,
             "ticks": ""
            },
            "colorscale": [
             [
              0,
              "#0d0887"
             ],
             [
              0.1111111111111111,
              "#46039f"
             ],
             [
              0.2222222222222222,
              "#7201a8"
             ],
             [
              0.3333333333333333,
              "#9c179e"
             ],
             [
              0.4444444444444444,
              "#bd3786"
             ],
             [
              0.5555555555555556,
              "#d8576b"
             ],
             [
              0.6666666666666666,
              "#ed7953"
             ],
             [
              0.7777777777777778,
              "#fb9f3a"
             ],
             [
              0.8888888888888888,
              "#fdca26"
             ],
             [
              1,
              "#f0f921"
             ]
            ],
            "type": "heatmap"
           }
          ],
          "heatmapgl": [
           {
            "colorbar": {
             "outlinewidth": 0,
             "ticks": ""
            },
            "colorscale": [
             [
              0,
              "#0d0887"
             ],
             [
              0.1111111111111111,
              "#46039f"
             ],
             [
              0.2222222222222222,
              "#7201a8"
             ],
             [
              0.3333333333333333,
              "#9c179e"
             ],
             [
              0.4444444444444444,
              "#bd3786"
             ],
             [
              0.5555555555555556,
              "#d8576b"
             ],
             [
              0.6666666666666666,
              "#ed7953"
             ],
             [
              0.7777777777777778,
              "#fb9f3a"
             ],
             [
              0.8888888888888888,
              "#fdca26"
             ],
             [
              1,
              "#f0f921"
             ]
            ],
            "type": "heatmapgl"
           }
          ],
          "histogram": [
           {
            "marker": {
             "pattern": {
              "fillmode": "overlay",
              "size": 10,
              "solidity": 0.2
             }
            },
            "type": "histogram"
           }
          ],
          "histogram2d": [
           {
            "colorbar": {
             "outlinewidth": 0,
             "ticks": ""
            },
            "colorscale": [
             [
              0,
              "#0d0887"
             ],
             [
              0.1111111111111111,
              "#46039f"
             ],
             [
              0.2222222222222222,
              "#7201a8"
             ],
             [
              0.3333333333333333,
              "#9c179e"
             ],
             [
              0.4444444444444444,
              "#bd3786"
             ],
             [
              0.5555555555555556,
              "#d8576b"
             ],
             [
              0.6666666666666666,
              "#ed7953"
             ],
             [
              0.7777777777777778,
              "#fb9f3a"
             ],
             [
              0.8888888888888888,
              "#fdca26"
             ],
             [
              1,
              "#f0f921"
             ]
            ],
            "type": "histogram2d"
           }
          ],
          "histogram2dcontour": [
           {
            "colorbar": {
             "outlinewidth": 0,
             "ticks": ""
            },
            "colorscale": [
             [
              0,
              "#0d0887"
             ],
             [
              0.1111111111111111,
              "#46039f"
             ],
             [
              0.2222222222222222,
              "#7201a8"
             ],
             [
              0.3333333333333333,
              "#9c179e"
             ],
             [
              0.4444444444444444,
              "#bd3786"
             ],
             [
              0.5555555555555556,
              "#d8576b"
             ],
             [
              0.6666666666666666,
              "#ed7953"
             ],
             [
              0.7777777777777778,
              "#fb9f3a"
             ],
             [
              0.8888888888888888,
              "#fdca26"
             ],
             [
              1,
              "#f0f921"
             ]
            ],
            "type": "histogram2dcontour"
           }
          ],
          "mesh3d": [
           {
            "colorbar": {
             "outlinewidth": 0,
             "ticks": ""
            },
            "type": "mesh3d"
           }
          ],
          "parcoords": [
           {
            "line": {
             "colorbar": {
              "outlinewidth": 0,
              "ticks": ""
             }
            },
            "type": "parcoords"
           }
          ],
          "pie": [
           {
            "automargin": true,
            "type": "pie"
           }
          ],
          "scatter": [
           {
            "fillpattern": {
             "fillmode": "overlay",
             "size": 10,
             "solidity": 0.2
            },
            "type": "scatter"
           }
          ],
          "scatter3d": [
           {
            "line": {
             "colorbar": {
              "outlinewidth": 0,
              "ticks": ""
             }
            },
            "marker": {
             "colorbar": {
              "outlinewidth": 0,
              "ticks": ""
             }
            },
            "type": "scatter3d"
           }
          ],
          "scattercarpet": [
           {
            "marker": {
             "colorbar": {
              "outlinewidth": 0,
              "ticks": ""
             }
            },
            "type": "scattercarpet"
           }
          ],
          "scattergeo": [
           {
            "marker": {
             "colorbar": {
              "outlinewidth": 0,
              "ticks": ""
             }
            },
            "type": "scattergeo"
           }
          ],
          "scattergl": [
           {
            "marker": {
             "colorbar": {
              "outlinewidth": 0,
              "ticks": ""
             }
            },
            "type": "scattergl"
           }
          ],
          "scattermapbox": [
           {
            "marker": {
             "colorbar": {
              "outlinewidth": 0,
              "ticks": ""
             }
            },
            "type": "scattermapbox"
           }
          ],
          "scatterpolar": [
           {
            "marker": {
             "colorbar": {
              "outlinewidth": 0,
              "ticks": ""
             }
            },
            "type": "scatterpolar"
           }
          ],
          "scatterpolargl": [
           {
            "marker": {
             "colorbar": {
              "outlinewidth": 0,
              "ticks": ""
             }
            },
            "type": "scatterpolargl"
           }
          ],
          "scatterternary": [
           {
            "marker": {
             "colorbar": {
              "outlinewidth": 0,
              "ticks": ""
             }
            },
            "type": "scatterternary"
           }
          ],
          "surface": [
           {
            "colorbar": {
             "outlinewidth": 0,
             "ticks": ""
            },
            "colorscale": [
             [
              0,
              "#0d0887"
             ],
             [
              0.1111111111111111,
              "#46039f"
             ],
             [
              0.2222222222222222,
              "#7201a8"
             ],
             [
              0.3333333333333333,
              "#9c179e"
             ],
             [
              0.4444444444444444,
              "#bd3786"
             ],
             [
              0.5555555555555556,
              "#d8576b"
             ],
             [
              0.6666666666666666,
              "#ed7953"
             ],
             [
              0.7777777777777778,
              "#fb9f3a"
             ],
             [
              0.8888888888888888,
              "#fdca26"
             ],
             [
              1,
              "#f0f921"
             ]
            ],
            "type": "surface"
           }
          ],
          "table": [
           {
            "cells": {
             "fill": {
              "color": "#EBF0F8"
             },
             "line": {
              "color": "white"
             }
            },
            "header": {
             "fill": {
              "color": "#C8D4E3"
             },
             "line": {
              "color": "white"
             }
            },
            "type": "table"
           }
          ]
         },
         "layout": {
          "annotationdefaults": {
           "arrowcolor": "#2a3f5f",
           "arrowhead": 0,
           "arrowwidth": 1
          },
          "autotypenumbers": "strict",
          "coloraxis": {
           "colorbar": {
            "outlinewidth": 0,
            "ticks": ""
           }
          },
          "colorscale": {
           "diverging": [
            [
             0,
             "#8e0152"
            ],
            [
             0.1,
             "#c51b7d"
            ],
            [
             0.2,
             "#de77ae"
            ],
            [
             0.3,
             "#f1b6da"
            ],
            [
             0.4,
             "#fde0ef"
            ],
            [
             0.5,
             "#f7f7f7"
            ],
            [
             0.6,
             "#e6f5d0"
            ],
            [
             0.7,
             "#b8e186"
            ],
            [
             0.8,
             "#7fbc41"
            ],
            [
             0.9,
             "#4d9221"
            ],
            [
             1,
             "#276419"
            ]
           ],
           "sequential": [
            [
             0,
             "#0d0887"
            ],
            [
             0.1111111111111111,
             "#46039f"
            ],
            [
             0.2222222222222222,
             "#7201a8"
            ],
            [
             0.3333333333333333,
             "#9c179e"
            ],
            [
             0.4444444444444444,
             "#bd3786"
            ],
            [
             0.5555555555555556,
             "#d8576b"
            ],
            [
             0.6666666666666666,
             "#ed7953"
            ],
            [
             0.7777777777777778,
             "#fb9f3a"
            ],
            [
             0.8888888888888888,
             "#fdca26"
            ],
            [
             1,
             "#f0f921"
            ]
           ],
           "sequentialminus": [
            [
             0,
             "#0d0887"
            ],
            [
             0.1111111111111111,
             "#46039f"
            ],
            [
             0.2222222222222222,
             "#7201a8"
            ],
            [
             0.3333333333333333,
             "#9c179e"
            ],
            [
             0.4444444444444444,
             "#bd3786"
            ],
            [
             0.5555555555555556,
             "#d8576b"
            ],
            [
             0.6666666666666666,
             "#ed7953"
            ],
            [
             0.7777777777777778,
             "#fb9f3a"
            ],
            [
             0.8888888888888888,
             "#fdca26"
            ],
            [
             1,
             "#f0f921"
            ]
           ]
          },
          "colorway": [
           "#636efa",
           "#EF553B",
           "#00cc96",
           "#ab63fa",
           "#FFA15A",
           "#19d3f3",
           "#FF6692",
           "#B6E880",
           "#FF97FF",
           "#FECB52"
          ],
          "font": {
           "color": "#2a3f5f"
          },
          "geo": {
           "bgcolor": "white",
           "lakecolor": "white",
           "landcolor": "#E5ECF6",
           "showlakes": true,
           "showland": true,
           "subunitcolor": "white"
          },
          "hoverlabel": {
           "align": "left"
          },
          "hovermode": "closest",
          "mapbox": {
           "style": "light"
          },
          "paper_bgcolor": "white",
          "plot_bgcolor": "#E5ECF6",
          "polar": {
           "angularaxis": {
            "gridcolor": "white",
            "linecolor": "white",
            "ticks": ""
           },
           "bgcolor": "#E5ECF6",
           "radialaxis": {
            "gridcolor": "white",
            "linecolor": "white",
            "ticks": ""
           }
          },
          "scene": {
           "xaxis": {
            "backgroundcolor": "#E5ECF6",
            "gridcolor": "white",
            "gridwidth": 2,
            "linecolor": "white",
            "showbackground": true,
            "ticks": "",
            "zerolinecolor": "white"
           },
           "yaxis": {
            "backgroundcolor": "#E5ECF6",
            "gridcolor": "white",
            "gridwidth": 2,
            "linecolor": "white",
            "showbackground": true,
            "ticks": "",
            "zerolinecolor": "white"
           },
           "zaxis": {
            "backgroundcolor": "#E5ECF6",
            "gridcolor": "white",
            "gridwidth": 2,
            "linecolor": "white",
            "showbackground": true,
            "ticks": "",
            "zerolinecolor": "white"
           }
          },
          "shapedefaults": {
           "line": {
            "color": "#2a3f5f"
           }
          },
          "ternary": {
           "aaxis": {
            "gridcolor": "white",
            "linecolor": "white",
            "ticks": ""
           },
           "baxis": {
            "gridcolor": "white",
            "linecolor": "white",
            "ticks": ""
           },
           "bgcolor": "#E5ECF6",
           "caxis": {
            "gridcolor": "white",
            "linecolor": "white",
            "ticks": ""
           }
          },
          "title": {
           "x": 0.05
          },
          "xaxis": {
           "automargin": true,
           "gridcolor": "white",
           "linecolor": "white",
           "ticks": "",
           "title": {
            "standoff": 15
           },
           "zerolinecolor": "white",
           "zerolinewidth": 2
          },
          "yaxis": {
           "automargin": true,
           "gridcolor": "white",
           "linecolor": "white",
           "ticks": "",
           "title": {
            "standoff": 15
           },
           "zerolinecolor": "white",
           "zerolinewidth": 2
          }
         }
        },
        "title": {
         "text": "Percentage of Missing Values for Variable: call"
        },
        "updatemenus": [
         {
          "active": 0,
          "buttons": [
           {
            "args": [
             {
              "x": [
               [
                "1",
                "2",
                "3",
                "5",
                "6",
                "7",
                "8",
                "9",
                "12",
                "13",
                "14",
                "15",
                "16",
                "17",
                "19",
                "20",
                "23",
                "24",
                "25",
                "26",
                "27",
                "28",
                "29",
                "30",
                "31",
                "32",
                "33",
                "all"
               ]
              ],
              "y": [
               [
                0.311,
                0.049,
                0.312,
                0.491,
                0.283,
                0.396,
                0.887,
                0.5,
                0.225,
                0.66,
                0.681,
                0.232,
                0.37,
                0.587,
                0.043,
                0.787,
                0.375,
                0.25,
                0.129,
                0.507,
                0.279,
                0.718,
                0.636,
                0.447,
                0.386,
                0.071,
                0.239,
                0.417
               ]
              ]
             },
             {
              "title": "Percentage of Missing Values for Variable: call"
             }
            ],
            "label": "call",
            "method": "update"
           },
           {
            "args": [
             {
              "x": [
               [
                "1",
                "2",
                "3",
                "5",
                "6",
                "7",
                "8",
                "9",
                "12",
                "13",
                "14",
                "15",
                "16",
                "17",
                "19",
                "20",
                "23",
                "24",
                "25",
                "26",
                "27",
                "28",
                "29",
                "30",
                "31",
                "32",
                "33",
                "all"
               ]
              ],
              "y": [
               [
                0.711,
                0.415,
                0.604,
                0.698,
                0.804,
                0.458,
                0.742,
                0.739,
                0.8,
                0.698,
                0.787,
                0.732,
                0.426,
                0.667,
                0.739,
                0.617,
                0.775,
                0.536,
                0.484,
                0.754,
                0.721,
                0.872,
                0.409,
                0.851,
                0.705,
                0.643,
                0.522,
                0.665
               ]
              ]
             },
             {
              "title": "Percentage of Missing Values for Variable: sms"
             }
            ],
            "label": "sms",
            "method": "update"
           },
           {
            "args": [
             {
              "x": [
               [
                "1",
                "2",
                "3",
                "5",
                "6",
                "7",
                "8",
                "9",
                "12",
                "13",
                "14",
                "15",
                "16",
                "17",
                "19",
                "20",
                "23",
                "24",
                "25",
                "26",
                "27",
                "28",
                "29",
                "30",
                "31",
                "32",
                "33",
                "all"
               ]
              ],
              "y": [
               [
                0,
                0.122,
                0.021,
                0.057,
                0,
                0.146,
                0.194,
                0.217,
                0,
                0.17,
                0.021,
                0.143,
                0.074,
                0.254,
                0,
                0.191,
                0,
                0,
                0,
                0.319,
                0.023,
                0,
                0.023,
                0.021,
                0.205,
                0.024,
                0.022,
                0.093
               ]
              ]
             },
             {
              "title": "Percentage of Missing Values for Variable: activity_max"
             }
            ],
            "label": "activity_max",
            "method": "update"
           },
           {
            "args": [
             {
              "x": [
               [
                "1",
                "2",
                "3",
                "5",
                "6",
                "7",
                "8",
                "9",
                "12",
                "13",
                "14",
                "15",
                "16",
                "17",
                "19",
                "20",
                "23",
                "24",
                "25",
                "26",
                "27",
                "28",
                "29",
                "30",
                "31",
                "32",
                "33",
                "all"
               ]
              ],
              "y": [
               [
                0,
                0.146,
                0,
                0,
                0.022,
                0.021,
                0.129,
                0.196,
                0,
                0.019,
                0.021,
                0.25,
                0.037,
                0.254,
                0,
                0.17,
                0,
                0,
                0,
                0.319,
                0.023,
                0.026,
                0.023,
                0.021,
                0.205,
                0,
                0.022,
                0.079
               ]
              ]
             },
             {
              "title": "Percentage of Missing Values for Variable: screen"
             }
            ],
            "label": "screen",
            "method": "update"
           },
           {
            "args": [
             {
              "x": [
               [
                "1",
                "2",
                "3",
                "5",
                "6",
                "7",
                "8",
                "9",
                "12",
                "13",
                "14",
                "15",
                "16",
                "17",
                "19",
                "20",
                "23",
                "24",
                "25",
                "26",
                "27",
                "28",
                "29",
                "30",
                "31",
                "32",
                "33",
                "all"
               ]
              ],
              "y": [
               [
                0,
                0.122,
                0.021,
                0.057,
                0,
                0.146,
                0.194,
                0.217,
                0,
                0.17,
                0.021,
                0.143,
                0.074,
                0.254,
                0,
                0.191,
                0,
                0,
                0,
                0.319,
                0.023,
                0,
                0.023,
                0.021,
                0.205,
                0.024,
                0.022,
                0.093
               ]
              ]
             },
             {
              "title": "Percentage of Missing Values for Variable: activity"
             }
            ],
            "label": "activity",
            "method": "update"
           },
           {
            "args": [
             {
              "x": [
               [
                "1",
                "2",
                "3",
                "5",
                "6",
                "7",
                "8",
                "9",
                "12",
                "13",
                "14",
                "15",
                "16",
                "17",
                "19",
                "20",
                "23",
                "24",
                "25",
                "26",
                "27",
                "28",
                "29",
                "30",
                "31",
                "32",
                "33",
                "all"
               ]
              ],
              "y": [
               [
                0.022,
                0.024,
                0.042,
                0.019,
                0.043,
                0.021,
                0.016,
                0.022,
                0.025,
                0.019,
                0.085,
                0.036,
                0.037,
                0.127,
                0.022,
                0.021,
                0.05,
                0.036,
                0.065,
                0.029,
                0.047,
                0.051,
                0.068,
                0.021,
                0.045,
                0.143,
                0.087,
                0.045
               ]
              ]
             },
             {
              "title": "Percentage of Missing Values for Variable: next_day_mood"
             }
            ],
            "label": "next_day_mood",
            "method": "update"
           },
           {
            "args": [
             {
              "x": [
               [
                "1",
                "2",
                "3",
                "5",
                "6",
                "7",
                "8",
                "9",
                "12",
                "13",
                "14",
                "15",
                "16",
                "17",
                "19",
                "20",
                "23",
                "24",
                "25",
                "26",
                "27",
                "28",
                "29",
                "30",
                "31",
                "32",
                "33",
                "all"
               ]
              ],
              "y": [
               [
                0,
                0,
                0.021,
                0,
                0.022,
                0,
                0,
                0,
                0,
                0,
                0.064,
                0.018,
                0.019,
                0.111,
                0,
                0,
                0.025,
                0.054,
                0.032,
                0.014,
                0.023,
                0.026,
                0.045,
                0,
                0.023,
                0.119,
                0.065,
                0.025
               ]
              ]
             },
             {
              "title": "Percentage of Missing Values for Variable: circumplex.valence_max"
             }
            ],
            "label": "circumplex.valence_max",
            "method": "update"
           },
           {
            "args": [
             {
              "x": [
               [
                "1",
                "2",
                "3",
                "5",
                "6",
                "7",
                "8",
                "9",
                "12",
                "13",
                "14",
                "15",
                "16",
                "17",
                "19",
                "20",
                "23",
                "24",
                "25",
                "26",
                "27",
                "28",
                "29",
                "30",
                "31",
                "32",
                "33",
                "all"
               ]
              ],
              "y": [
               [
                0,
                0,
                0.021,
                0,
                0.022,
                0,
                0,
                0,
                0,
                0,
                0.064,
                0.018,
                0.019,
                0.111,
                0,
                0,
                0.025,
                0.018,
                0.032,
                0.014,
                0.023,
                0.026,
                0.045,
                0,
                0.023,
                0.119,
                0.065,
                0.024
               ]
              ]
             },
             {
              "title": "Percentage of Missing Values for Variable: circumplex.arousal"
             }
            ],
            "label": "circumplex.arousal",
            "method": "update"
           },
           {
            "args": [
             {
              "x": [
               [
                "1",
                "2",
                "3",
                "5",
                "6",
                "7",
                "8",
                "9",
                "12",
                "13",
                "14",
                "15",
                "16",
                "17",
                "19",
                "20",
                "23",
                "24",
                "25",
                "26",
                "27",
                "28",
                "29",
                "30",
                "31",
                "32",
                "33",
                "all"
               ]
              ],
              "y": [
               [
                0,
                0,
                0.021,
                0,
                0.022,
                0,
                0,
                0,
                0,
                0,
                0.064,
                0.018,
                0.019,
                0.111,
                0,
                0,
                0.025,
                0.018,
                0.032,
                0.014,
                0.023,
                0.026,
                0.045,
                0,
                0.023,
                0.119,
                0.065,
                0.024
               ]
              ]
             },
             {
              "title": "Percentage of Missing Values for Variable: circumplex.arousal_min"
             }
            ],
            "label": "circumplex.arousal_min",
            "method": "update"
           },
           {
            "args": [
             {
              "x": [
               [
                "1",
                "2",
                "3",
                "5",
                "6",
                "7",
                "8",
                "9",
                "12",
                "13",
                "14",
                "15",
                "16",
                "17",
                "19",
                "20",
                "23",
                "24",
                "25",
                "26",
                "27",
                "28",
                "29",
                "30",
                "31",
                "32",
                "33",
                "all"
               ]
              ],
              "y": [
               [
                0,
                0,
                0.021,
                0,
                0.022,
                0,
                0,
                0,
                0,
                0,
                0.064,
                0.018,
                0.019,
                0.111,
                0,
                0,
                0.025,
                0.018,
                0.032,
                0.014,
                0.023,
                0.026,
                0.045,
                0,
                0.023,
                0.119,
                0.065,
                0.024
               ]
              ]
             },
             {
              "title": "Percentage of Missing Values for Variable: circumplex.arousal_max"
             }
            ],
            "label": "circumplex.arousal_max",
            "method": "update"
           },
           {
            "args": [
             {
              "x": [
               [
                "1",
                "2",
                "3",
                "5",
                "6",
                "7",
                "8",
                "9",
                "12",
                "13",
                "14",
                "15",
                "16",
                "17",
                "19",
                "20",
                "23",
                "24",
                "25",
                "26",
                "27",
                "28",
                "29",
                "30",
                "31",
                "32",
                "33",
                "all"
               ]
              ],
              "y": [
               [
                0,
                0,
                0.021,
                0,
                0.022,
                0,
                0,
                0,
                0,
                0,
                0.064,
                0.018,
                0.019,
                0.111,
                0,
                0,
                0.025,
                0.054,
                0.032,
                0.014,
                0.023,
                0.026,
                0.045,
                0,
                0.023,
                0.119,
                0.065,
                0.025
               ]
              ]
             },
             {
              "title": "Percentage of Missing Values for Variable: circumplex.valence"
             }
            ],
            "label": "circumplex.valence",
            "method": "update"
           },
           {
            "args": [
             {
              "x": [
               [
                "1",
                "2",
                "3",
                "5",
                "6",
                "7",
                "8",
                "9",
                "12",
                "13",
                "14",
                "15",
                "16",
                "17",
                "19",
                "20",
                "23",
                "24",
                "25",
                "26",
                "27",
                "28",
                "29",
                "30",
                "31",
                "32",
                "33",
                "all"
               ]
              ],
              "y": [
               [
                0,
                0,
                0.021,
                0,
                0.022,
                0,
                0,
                0,
                0,
                0,
                0.064,
                0.018,
                0.019,
                0.111,
                0,
                0,
                0.025,
                0.054,
                0.032,
                0.014,
                0.023,
                0.026,
                0.045,
                0,
                0.023,
                0.119,
                0.065,
                0.025
               ]
              ]
             },
             {
              "title": "Percentage of Missing Values for Variable: circumplex.valence_min"
             }
            ],
            "label": "circumplex.valence_min",
            "method": "update"
           },
           {
            "args": [
             {
              "x": [
               [
                "1",
                "2",
                "3",
                "5",
                "6",
                "7",
                "8",
                "9",
                "12",
                "13",
                "14",
                "15",
                "16",
                "17",
                "19",
                "20",
                "23",
                "24",
                "25",
                "26",
                "27",
                "28",
                "29",
                "30",
                "31",
                "32",
                "33",
                "all"
               ]
              ],
              "y": [
               [
                0,
                0,
                0.021,
                0,
                0.022,
                0,
                0,
                0,
                0,
                0,
                0.064,
                0.018,
                0.019,
                0.111,
                0,
                0,
                0.025,
                0.018,
                0.032,
                0.014,
                0.023,
                0.026,
                0.045,
                0,
                0.023,
                0.119,
                0.065,
                0.024
               ]
              ]
             },
             {
              "title": "Percentage of Missing Values for Variable: mood"
             }
            ],
            "label": "mood",
            "method": "update"
           },
           {
            "args": [
             {
              "x": [
               [
                "1",
                "2",
                "3",
                "5",
                "6",
                "7",
                "8",
                "9",
                "12",
                "13",
                "14",
                "15",
                "16",
                "17",
                "19",
                "20",
                "23",
                "24",
                "25",
                "26",
                "27",
                "28",
                "29",
                "30",
                "31",
                "32",
                "33",
                "all"
               ]
              ],
              "y": [
               [
                0,
                0.024,
                0,
                0.019,
                0.022,
                0.021,
                0.016,
                0.022,
                0.025,
                0.019,
                0.021,
                0.018,
                0.019,
                0.016,
                0.022,
                0.021,
                0,
                0,
                0.032,
                0.014,
                0.023,
                0.026,
                0.023,
                0.021,
                0,
                0,
                0.022,
                0.016
               ]
              ]
             },
             {
              "title": "Percentage of Missing Values for Variable: next_day"
             }
            ],
            "label": "next_day",
            "method": "update"
           },
           {
            "args": [
             {
              "x": [
               [
                "1",
                "2",
                "3",
                "5",
                "6",
                "7",
                "8",
                "9",
                "12",
                "13",
                "14",
                "15",
                "16",
                "17",
                "19",
                "20",
                "23",
                "24",
                "25",
                "26",
                "27",
                "28",
                "29",
                "30",
                "31",
                "32",
                "33",
                "all"
               ]
              ],
              "y": [
               [
                0,
                0,
                0,
                0,
                0,
                0,
                0,
                0,
                0,
                0,
                0,
                0,
                0,
                0,
                0,
                0,
                0,
                0,
                0,
                0,
                0,
                0,
                0,
                0,
                0,
                0,
                0,
                0
               ]
              ]
             },
             {
              "title": "Percentage of Missing Values for Variable: appCat.builtin"
             }
            ],
            "label": "appCat.builtin",
            "method": "update"
           },
           {
            "args": [
             {
              "x": [
               [
                "1",
                "2",
                "3",
                "5",
                "6",
                "7",
                "8",
                "9",
                "12",
                "13",
                "14",
                "15",
                "16",
                "17",
                "19",
                "20",
                "23",
                "24",
                "25",
                "26",
                "27",
                "28",
                "29",
                "30",
                "31",
                "32",
                "33",
                "all"
               ]
              ],
              "y": [
               [
                0,
                0,
                0,
                0,
                0,
                0,
                0,
                0,
                0,
                0,
                0,
                0,
                0,
                0,
                0,
                0,
                0,
                0,
                0,
                0,
                0,
                0,
                0,
                0,
                0,
                0,
                0,
                0
               ]
              ]
             },
             {
              "title": "Percentage of Missing Values for Variable: appCat.entertainment"
             }
            ],
            "label": "appCat.entertainment",
            "method": "update"
           },
           {
            "args": [
             {
              "x": [
               [
                "1",
                "2",
                "3",
                "5",
                "6",
                "7",
                "8",
                "9",
                "12",
                "13",
                "14",
                "15",
                "16",
                "17",
                "19",
                "20",
                "23",
                "24",
                "25",
                "26",
                "27",
                "28",
                "29",
                "30",
                "31",
                "32",
                "33",
                "all"
               ]
              ],
              "y": [
               [
                0,
                0,
                0,
                0,
                0,
                0,
                0,
                0,
                0,
                0,
                0,
                0,
                0,
                0,
                0,
                0,
                0,
                0,
                0,
                0,
                0,
                0,
                0,
                0,
                0,
                0,
                0,
                0
               ]
              ]
             },
             {
              "title": "Percentage of Missing Values for Variable: appCat.communication"
             }
            ],
            "label": "appCat.communication",
            "method": "update"
           },
           {
            "args": [
             {
              "x": [
               [
                "1",
                "2",
                "3",
                "5",
                "6",
                "7",
                "8",
                "9",
                "12",
                "13",
                "14",
                "15",
                "16",
                "17",
                "19",
                "20",
                "23",
                "24",
                "25",
                "26",
                "27",
                "28",
                "29",
                "30",
                "31",
                "32",
                "33",
                "all"
               ]
              ],
              "y": [
               [
                0,
                0,
                0,
                0,
                0,
                0,
                0,
                0,
                0,
                0,
                0,
                0,
                0,
                0,
                0,
                0,
                0,
                0,
                0,
                0,
                0,
                0,
                0,
                0,
                0,
                0,
                0,
                0
               ]
              ]
             },
             {
              "title": "Percentage of Missing Values for Variable: appCat.finance"
             }
            ],
            "label": "appCat.finance",
            "method": "update"
           },
           {
            "args": [
             {
              "x": [
               [
                "1",
                "2",
                "3",
                "5",
                "6",
                "7",
                "8",
                "9",
                "12",
                "13",
                "14",
                "15",
                "16",
                "17",
                "19",
                "20",
                "23",
                "24",
                "25",
                "26",
                "27",
                "28",
                "29",
                "30",
                "31",
                "32",
                "33",
                "all"
               ]
              ],
              "y": [
               [
                0,
                0,
                0,
                0,
                0,
                0,
                0,
                0,
                0,
                0,
                0,
                0,
                0,
                0,
                0,
                0,
                0,
                0,
                0,
                0,
                0,
                0,
                0,
                0,
                0,
                0,
                0,
                0
               ]
              ]
             },
             {
              "title": "Percentage of Missing Values for Variable: appCat.game"
             }
            ],
            "label": "appCat.game",
            "method": "update"
           },
           {
            "args": [
             {
              "x": [
               [
                "1",
                "2",
                "3",
                "5",
                "6",
                "7",
                "8",
                "9",
                "12",
                "13",
                "14",
                "15",
                "16",
                "17",
                "19",
                "20",
                "23",
                "24",
                "25",
                "26",
                "27",
                "28",
                "29",
                "30",
                "31",
                "32",
                "33",
                "all"
               ]
              ],
              "y": [
               [
                0,
                0,
                0,
                0,
                0,
                0,
                0,
                0,
                0,
                0,
                0,
                0,
                0,
                0,
                0,
                0,
                0,
                0,
                0,
                0,
                0,
                0,
                0,
                0,
                0,
                0,
                0,
                0
               ]
              ]
             },
             {
              "title": "Percentage of Missing Values for Variable: id_num"
             }
            ],
            "label": "id_num",
            "method": "update"
           },
           {
            "args": [
             {
              "x": [
               [
                "1",
                "2",
                "3",
                "5",
                "6",
                "7",
                "8",
                "9",
                "12",
                "13",
                "14",
                "15",
                "16",
                "17",
                "19",
                "20",
                "23",
                "24",
                "25",
                "26",
                "27",
                "28",
                "29",
                "30",
                "31",
                "32",
                "33",
                "all"
               ]
              ],
              "y": [
               [
                0,
                0,
                0,
                0,
                0,
                0,
                0,
                0,
                0,
                0,
                0,
                0,
                0,
                0,
                0,
                0,
                0,
                0,
                0,
                0,
                0,
                0,
                0,
                0,
                0,
                0,
                0,
                0
               ]
              ]
             },
             {
              "title": "Percentage of Missing Values for Variable: appCat.social"
             }
            ],
            "label": "appCat.social",
            "method": "update"
           },
           {
            "args": [
             {
              "x": [
               [
                "1",
                "2",
                "3",
                "5",
                "6",
                "7",
                "8",
                "9",
                "12",
                "13",
                "14",
                "15",
                "16",
                "17",
                "19",
                "20",
                "23",
                "24",
                "25",
                "26",
                "27",
                "28",
                "29",
                "30",
                "31",
                "32",
                "33",
                "all"
               ]
              ],
              "y": [
               [
                0,
                0,
                0,
                0,
                0,
                0,
                0,
                0,
                0,
                0,
                0,
                0,
                0,
                0,
                0,
                0,
                0,
                0,
                0,
                0,
                0,
                0,
                0,
                0,
                0,
                0,
                0,
                0
               ]
              ]
             },
             {
              "title": "Percentage of Missing Values for Variable: appCat.other"
             }
            ],
            "label": "appCat.other",
            "method": "update"
           },
           {
            "args": [
             {
              "x": [
               [
                "1",
                "2",
                "3",
                "5",
                "6",
                "7",
                "8",
                "9",
                "12",
                "13",
                "14",
                "15",
                "16",
                "17",
                "19",
                "20",
                "23",
                "24",
                "25",
                "26",
                "27",
                "28",
                "29",
                "30",
                "31",
                "32",
                "33",
                "all"
               ]
              ],
              "y": [
               [
                0,
                0,
                0,
                0,
                0,
                0,
                0,
                0,
                0,
                0,
                0,
                0,
                0,
                0,
                0,
                0,
                0,
                0,
                0,
                0,
                0,
                0,
                0,
                0,
                0,
                0,
                0,
                0
               ]
              ]
             },
             {
              "title": "Percentage of Missing Values for Variable: appCat.office"
             }
            ],
            "label": "appCat.office",
            "method": "update"
           },
           {
            "args": [
             {
              "x": [
               [
                "1",
                "2",
                "3",
                "5",
                "6",
                "7",
                "8",
                "9",
                "12",
                "13",
                "14",
                "15",
                "16",
                "17",
                "19",
                "20",
                "23",
                "24",
                "25",
                "26",
                "27",
                "28",
                "29",
                "30",
                "31",
                "32",
                "33",
                "all"
               ]
              ],
              "y": [
               [
                0,
                0,
                0,
                0,
                0,
                0,
                0,
                0,
                0,
                0,
                0,
                0,
                0,
                0,
                0,
                0,
                0,
                0,
                0,
                0,
                0,
                0,
                0,
                0,
                0,
                0,
                0,
                0
               ]
              ]
             },
             {
              "title": "Percentage of Missing Values for Variable: date"
             }
            ],
            "label": "date",
            "method": "update"
           },
           {
            "args": [
             {
              "x": [
               [
                "1",
                "2",
                "3",
                "5",
                "6",
                "7",
                "8",
                "9",
                "12",
                "13",
                "14",
                "15",
                "16",
                "17",
                "19",
                "20",
                "23",
                "24",
                "25",
                "26",
                "27",
                "28",
                "29",
                "30",
                "31",
                "32",
                "33",
                "all"
               ]
              ],
              "y": [
               [
                0,
                0,
                0,
                0,
                0,
                0,
                0,
                0,
                0,
                0,
                0,
                0,
                0,
                0,
                0,
                0,
                0,
                0,
                0,
                0,
                0,
                0,
                0,
                0,
                0,
                0,
                0,
                0
               ]
              ]
             },
             {
              "title": "Percentage of Missing Values for Variable: day"
             }
            ],
            "label": "day",
            "method": "update"
           },
           {
            "args": [
             {
              "x": [
               [
                "1",
                "2",
                "3",
                "5",
                "6",
                "7",
                "8",
                "9",
                "12",
                "13",
                "14",
                "15",
                "16",
                "17",
                "19",
                "20",
                "23",
                "24",
                "25",
                "26",
                "27",
                "28",
                "29",
                "30",
                "31",
                "32",
                "33",
                "all"
               ]
              ],
              "y": [
               [
                0,
                0,
                0,
                0,
                0,
                0,
                0,
                0,
                0,
                0,
                0,
                0,
                0,
                0,
                0,
                0,
                0,
                0,
                0,
                0,
                0,
                0,
                0,
                0,
                0,
                0,
                0,
                0
               ]
              ]
             },
             {
              "title": "Percentage of Missing Values for Variable: appCat.weather"
             }
            ],
            "label": "appCat.weather",
            "method": "update"
           },
           {
            "args": [
             {
              "x": [
               [
                "1",
                "2",
                "3",
                "5",
                "6",
                "7",
                "8",
                "9",
                "12",
                "13",
                "14",
                "15",
                "16",
                "17",
                "19",
                "20",
                "23",
                "24",
                "25",
                "26",
                "27",
                "28",
                "29",
                "30",
                "31",
                "32",
                "33",
                "all"
               ]
              ],
              "y": [
               [
                0,
                0,
                0,
                0,
                0,
                0,
                0,
                0,
                0,
                0,
                0,
                0,
                0,
                0,
                0,
                0,
                0,
                0,
                0,
                0,
                0,
                0,
                0,
                0,
                0,
                0,
                0,
                0
               ]
              ]
             },
             {
              "title": "Percentage of Missing Values for Variable: appCat.utilities"
             }
            ],
            "label": "appCat.utilities",
            "method": "update"
           },
           {
            "args": [
             {
              "x": [
               [
                "1",
                "2",
                "3",
                "5",
                "6",
                "7",
                "8",
                "9",
                "12",
                "13",
                "14",
                "15",
                "16",
                "17",
                "19",
                "20",
                "23",
                "24",
                "25",
                "26",
                "27",
                "28",
                "29",
                "30",
                "31",
                "32",
                "33",
                "all"
               ]
              ],
              "y": [
               [
                0,
                0,
                0,
                0,
                0,
                0,
                0,
                0,
                0,
                0,
                0,
                0,
                0,
                0,
                0,
                0,
                0,
                0,
                0,
                0,
                0,
                0,
                0,
                0,
                0,
                0,
                0,
                0
               ]
              ]
             },
             {
              "title": "Percentage of Missing Values for Variable: appCat.unknown"
             }
            ],
            "label": "appCat.unknown",
            "method": "update"
           },
           {
            "args": [
             {
              "x": [
               [
                "1",
                "2",
                "3",
                "5",
                "6",
                "7",
                "8",
                "9",
                "12",
                "13",
                "14",
                "15",
                "16",
                "17",
                "19",
                "20",
                "23",
                "24",
                "25",
                "26",
                "27",
                "28",
                "29",
                "30",
                "31",
                "32",
                "33",
                "all"
               ]
              ],
              "y": [
               [
                0,
                0,
                0,
                0,
                0,
                0,
                0,
                0,
                0,
                0,
                0,
                0,
                0,
                0,
                0,
                0,
                0,
                0,
                0,
                0,
                0,
                0,
                0,
                0,
                0,
                0,
                0,
                0
               ]
              ]
             },
             {
              "title": "Percentage of Missing Values for Variable: appCat.travel"
             }
            ],
            "label": "appCat.travel",
            "method": "update"
           }
          ],
          "x": 0,
          "xanchor": "left",
          "y": 1.15,
          "yanchor": "top"
         }
        ],
        "xaxis": {
         "title": {
          "text": "Participant"
         },
         "type": "category"
        },
        "yaxis": {
         "title": {
          "text": "Percentage Missing"
         }
        }
       }
      }
     },
     "metadata": {},
     "output_type": "display_data"
    }
   ],
   "source": [
    "df_nans_range = nan_exploration(df_next_day_range, pivot=True, title=\"selected_range\")\n",
    "plotly_nan_exploration(df_nans_range, save_html=True, show_plot=True, title=\"selected_range\")\n"
   ]
  },
  {
   "cell_type": "code",
   "execution_count": null,
   "metadata": {},
   "outputs": [],
   "source": []
  },
  {
   "cell_type": "code",
   "execution_count": null,
   "metadata": {},
   "outputs": [],
   "source": []
  },
  {
   "cell_type": "code",
   "execution_count": null,
   "metadata": {},
   "outputs": [],
   "source": []
  },
  {
   "cell_type": "code",
   "execution_count": null,
   "metadata": {},
   "outputs": [],
   "source": []
  },
  {
   "cell_type": "code",
   "execution_count": null,
   "metadata": {},
   "outputs": [],
   "source": []
  },
  {
   "cell_type": "code",
   "execution_count": null,
   "metadata": {},
   "outputs": [],
   "source": []
  },
  {
   "cell_type": "code",
   "execution_count": null,
   "metadata": {},
   "outputs": [],
   "source": []
  },
  {
   "cell_type": "code",
   "execution_count": null,
   "metadata": {},
   "outputs": [],
   "source": []
  },
  {
   "cell_type": "code",
   "execution_count": null,
   "metadata": {},
   "outputs": [],
   "source": []
  },
  {
   "cell_type": "code",
   "execution_count": null,
   "metadata": {},
   "outputs": [],
   "source": []
  },
  {
   "cell_type": "code",
   "execution_count": null,
   "metadata": {},
   "outputs": [],
   "source": []
  }
 ],
 "metadata": {
  "kernelspec": {
   "display_name": "datascience",
   "language": "python",
   "name": "python3"
  },
  "language_info": {
   "codemirror_mode": {
    "name": "ipython",
    "version": 3
   },
   "file_extension": ".py",
   "mimetype": "text/x-python",
   "name": "python",
   "nbconvert_exporter": "python",
   "pygments_lexer": "ipython3",
   "version": "3.10.16"
  }
 },
 "nbformat": 4,
 "nbformat_minor": 2
}
