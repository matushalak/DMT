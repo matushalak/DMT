{
 "cells": [
  {
   "cell_type": "code",
   "execution_count": null,
   "metadata": {},
   "outputs": [],
   "source": [
    "import numpy as np\n",
    "import matplotlib.pyplot as plt\n",
    "import scipy.stats as stats\n",
    "import seaborn as sns\n",
    "import pandas as pd\n",
    "import os\n",
    "import plotly.graph_objects as go\n",
    "from plotly.subplots import make_subplots\n",
    "import itertools\n",
    "from DMT_functions import *\n",
    "from utility_functions import *\n"
   ]
  },
  {
   "cell_type": "code",
   "execution_count": null,
   "metadata": {},
   "outputs": [],
   "source": [
    "df = pd.read_csv('tables/preprocessed/non_imputed.csv')\n",
    "df = df.drop(columns=[\"date\"])\n",
    "\n",
    "nans_preview = nan_exploration(df, create_pivot=False)\n",
    "nans_preview\n"
   ]
  },
  {
   "cell_type": "markdown",
   "metadata": {},
   "source": [
    "### Transformations"
   ]
  },
  {
   "cell_type": "code",
   "execution_count": null,
   "metadata": {},
   "outputs": [],
   "source": [
    "\n",
    "numerical_df = df.select_dtypes(include=[np.number])\n",
    "plot_skewness_pyplot(numerical_df=numerical_df)\n",
    "\n",
    "# function to plot the original and transformed data side by side\n",
    "\n",
    "\n",
    "plot_original_vs_transformed(data=df, column_name='appCat.office')\n",
    "plot_original_vs_transformed(data=df, column_name='appCat.travel')\n",
    "plot_original_vs_transformed(data=df, column_name='appCat.entertainment')\n",
    "plot_original_vs_transformed(data=df, column_name='appCat.game')\n",
    "plot_original_vs_transformed(data=df, column_name='appCat.builtin')\n",
    "plot_original_vs_transformed(data=df, column_name='appCat.other')\n",
    "plot_original_vs_transformed(data=df, column_name='appCat.social')\n",
    "plot_original_vs_transformed(data=df, column_name='appCat.unknown')\n",
    "plot_original_vs_transformed(data=df, column_name='appCat.utilities')\n",
    "plot_original_vs_transformed(data=df, column_name='appCat.finance')\n",
    "plot_original_vs_transformed(data=df, column_name='appCat.weather')\n",
    "plot_original_vs_transformed(data=df, column_name='sms')\n",
    "plot_original_vs_transformed(data=df, column_name='call')\n"
   ]
  },
  {
   "cell_type": "code",
   "execution_count": null,
   "metadata": {},
   "outputs": [],
   "source": [
    "appCat_columns = [c for c in df.columns if c.startswith('appCat')]\n",
    "\n",
    "# sum all appCat columns\n",
    "df['app_usage'] = df[appCat_columns].sum(axis=1, min_count=1) # min count is for nans\n",
    "# plot the distribution of the new column\n",
    "\n",
    "numerical_df = df.select_dtypes(include=[np.number])\n",
    "plot_skewness_pyplot(numerical_df)\n",
    "# transform the data\n",
    "plot_original_vs_transformed(data=df, column_name='app_usage')\n",
    "\n",
    "nan_exploration(df, create_pivot=False, title=\"combined_app_usage\")\n",
    "\n",
    "# count zeros for all appCat columns\n",
    "def count_zeros(df, columns):\n",
    "    zero_counts = {}\n",
    "    for col in columns:\n",
    "        zero_counts[col] = int((df[col] == 0).sum())\n",
    "    return zero_counts\n",
    "count_zeros(numerical_df, appCat_columns + ['app_usage'])\n",
    "\n",
    "\n"
   ]
  },
  {
   "cell_type": "code",
   "execution_count": null,
   "metadata": {},
   "outputs": [],
   "source": [
    "# correlate all_apps and screen time\n",
    "\n",
    "numerical_df.corr()\n",
    "\n",
    "# plot app_usage vs screen time\n",
    "plt.figure(figsize=(10, 6))\n",
    "sns.scatterplot(data=df, x='app_usage', y='screen')\n",
    "plt.title('App Usage vs Screen Time')\n"
   ]
  },
  {
   "cell_type": "code",
   "execution_count": null,
   "metadata": {},
   "outputs": [],
   "source": [
    "# drop appCat columns\n",
    "df = df.drop(columns=appCat_columns)\n",
    "\n",
    "numerical_df = df.select_dtypes(include=[np.number])\n",
    "\n",
    "plot_skewness_pyplot(numerical_df=numerical_df)\n",
    "\n",
    "\n",
    "plot_original_vs_transformed(data=df, column_name='sms')\n",
    "plot_original_vs_transformed(data=df, column_name='call')\n",
    "plot_original_vs_transformed(data=df, column_name='screen')\n",
    "plot_original_vs_transformed(data=df, column_name='app_usage')\n",
    "\n"
   ]
  },
  {
   "cell_type": "code",
   "execution_count": null,
   "metadata": {},
   "outputs": [],
   "source": [
    "# assume nans in app_usage and screen and call and sms is 0\n",
    "df['app_usage'] = df['app_usage'].fillna(0)\n",
    "df['screen'] = df['screen'].fillna(0)\n",
    "df['call'] = df['call'].fillna(0)\n",
    "df['sms'] = df['sms'].fillna(0)\n",
    "\n"
   ]
  },
  {
   "cell_type": "code",
   "execution_count": null,
   "metadata": {},
   "outputs": [],
   "source": [
    "# check for nans\n",
    "nans_preview = nan_exploration(df, create_pivot=False)\n",
    "nans_preview"
   ]
  },
  {
   "cell_type": "code",
   "execution_count": null,
   "metadata": {},
   "outputs": [],
   "source": [
    "# drop missing next day mood instances\n",
    "df = df.dropna(subset=['next_day_mood'], axis=0)\n",
    "# check for nans\n",
    "df.isna().sum()"
   ]
  },
  {
   "cell_type": "code",
   "execution_count": null,
   "metadata": {},
   "outputs": [],
   "source": [
    "# mean imputation\n",
    "df.isna().sum()\n",
    "\n",
    "\n",
    "# plot histograms with sns in subplots for all columns\n",
    "def plot_histograms(df, columns):\n",
    "\n",
    "    cols_with_nans = df[columns].isna().sum()\n",
    "    cols_with_nans = cols_with_nans[cols_with_nans > 0].index.tolist()\n",
    "    n = len(columns)\n",
    "    ncols = 3\n",
    "    nrows = (n + ncols - 1) // ncols\n",
    "    fig, axes = plt.subplots(nrows=nrows, ncols=ncols, figsize=(15, 5 * nrows))\n",
    "    axes = axes.flatten()\n",
    "    for i, col in enumerate(cols_with_nans):\n",
    "        sns.histplot(df[col], ax=axes[i], kde=True)\n",
    "        axes[i].set_title(col)\n",
    "        axes[i].set_xlabel('')\n",
    "        axes[i].set_ylabel('')\n",
    "    for j in range(i + 1, len(axes)):\n",
    "        fig.delaxes(axes[j])\n",
    "    plt.tight_layout()\n",
    "    plt.show()\n",
    "plot_histograms(df, df.columns)\n",
    "\n"
   ]
  },
  {
   "cell_type": "code",
   "execution_count": null,
   "metadata": {},
   "outputs": [],
   "source": [
    "# impute everything ending with min or max with mode\n",
    "def impute_mode_groupped(df, columns):\n",
    "    for col in columns:\n",
    "        df[col] = df.groupby(['id_num'])[col].transform(lambda x: x.fillna(x.mode()[0]) if not x.mode().empty else x)\n",
    "    return df\n",
    "\n",
    "df = impute_mode(df, df.columns[df.columns.str.endswith('min') | df.columns.str.endswith('max')])\n"
   ]
  },
  {
   "cell_type": "code",
   "execution_count": null,
   "metadata": {},
   "outputs": [],
   "source": [
    "# impute everything ending with mean grouped by num_id\n",
    "\n",
    "def impute_mean_grouped(df, columns):\n",
    "    for col in columns:\n",
    "        df[col] = df.groupby('id_num')[col].transform(lambda x: x.fillna(x.mean()))\n",
    "    return df\n",
    "\n",
    "# numeric column names\n",
    "\n",
    "numeric_columns = df.select_dtypes(include=[np.number]).columns.tolist()\n",
    "print(numeric_columns)\n",
    "df = impute_mean_grouped(df, numeric_columns)\n",
    "# check for nans\n",
    "df.isna().sum()\n",
    "\n",
    "\n",
    "df.to_csv('tables/preprocessed/mean_mode_imputation_combinedAppCat.csv', index=False)"
   ]
  },
  {
   "cell_type": "code",
   "execution_count": null,
   "metadata": {},
   "outputs": [],
   "source": [
    "plotly_all_participants_timeseries(df, show_plot=True, title=\"mean_mode_imputation\")"
   ]
  }
 ],
 "metadata": {
  "kernelspec": {
   "display_name": "datascience",
   "language": "python",
   "name": "python3"
  },
  "language_info": {
   "codemirror_mode": {
    "name": "ipython",
    "version": 3
   },
   "file_extension": ".py",
   "mimetype": "text/x-python",
   "name": "python",
   "nbconvert_exporter": "python",
   "pygments_lexer": "ipython3",
   "version": "3.10.16"
  }
 },
 "nbformat": 4,
 "nbformat_minor": 2
}
