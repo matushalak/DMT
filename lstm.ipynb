{
 "cells": [
  {
   "cell_type": "markdown",
   "metadata": {},
   "source": [
    "# MODELING"
   ]
  },
  {
   "cell_type": "code",
   "execution_count": 335,
   "metadata": {},
   "outputs": [],
   "source": [
    "import numpy as np\n",
    "import matplotlib.pyplot as plt\n",
    "import scipy.stats as stats\n",
    "import seaborn as sns\n",
    "import pandas as pd\n",
    "import os\n",
    "import plotly.graph_objects as go\n",
    "from plotly.subplots import make_subplots\n",
    "import itertools\n",
    "\n",
    "from sklearn.metrics import r2_score, mean_absolute_error, mean_squared_error\n",
    "\n",
    "import torch\n",
    "from torch.utils.data import DataLoader, Dataset\n",
    "from sklearn.model_selection import train_test_split\n",
    "from sklearn.preprocessing import StandardScaler, MinMaxScaler\n",
    "from torch import nn\n",
    "import torch.optim as optim\n",
    "import time"
   ]
  },
  {
   "cell_type": "markdown",
   "metadata": {},
   "source": [
    "#### Add Mac acceleration"
   ]
  },
  {
   "cell_type": "code",
   "execution_count": 325,
   "metadata": {},
   "outputs": [
    {
     "name": "stdout",
     "output_type": "stream",
     "text": [
      "tensor([1.], device='mps:0')\n"
     ]
    }
   ],
   "source": [
    "if torch.backends.mps.is_available():\n",
    "    mps_device = torch.device(\"mps\")\n",
    "    x = torch.ones(1, device=mps_device)\n",
    "    print (x)\n",
    "else:\n",
    "    print (\"MPS device not found.\")"
   ]
  },
  {
   "cell_type": "markdown",
   "metadata": {},
   "source": [
    "### Dataset class"
   ]
  },
  {
   "cell_type": "code",
   "execution_count": 326,
   "metadata": {},
   "outputs": [],
   "source": [
    "class MultiParticipantDataset(Dataset):\n",
    "    def __init__(self, df, seq_length, target_col='mood', id_col='id_num', include_target_in_features=True):\n",
    "        \"\"\"\n",
    "        df: pandas DataFrame sorted by time.\n",
    "        seq_length: number of time steps in each sample.\n",
    "        target_col: the column we want to predict.\n",
    "        \"\"\"\n",
    "        df = df.drop(columns=[\"next_day\", \"next_day_mood\", \"date\"])\n",
    "        \n",
    "        self.seq_length = seq_length\n",
    "        self.target_col = target_col\n",
    "        self.id_col = id_col\n",
    "        \n",
    "        df.sort_values(by=[id_col, 'day'], inplace=True)\n",
    "        self.data = df.reset_index(drop=True)\n",
    "\n",
    "        if include_target_in_features:\n",
    "            self.features = [col for col in self.data.columns if col not in [target_col, \"day\"]]\n",
    "        else:\n",
    "            self.features = [col for col in self.data.columns if col not in [target_col, id_col, \"day\"]]\n",
    "\n",
    "        # Precompute valid indices where the sequence is within the same participant.\n",
    "        self.valid_indices = []\n",
    "        for i in range(len(self.data) - self.seq_length):\n",
    "            participant_id = self.data.iloc[i][self.id_col]\n",
    "            if all(self.data.iloc[i:i+self.seq_length][self.id_col] == participant_id):\n",
    "                self.valid_indices.append(i)\n",
    "\n",
    "    def __len__(self):\n",
    "        return len(self.valid_indices)\n",
    "\n",
    "    def __getitem__(self, idx):\n",
    "        # Use precomputed valid index.\n",
    "        real_idx = self.valid_indices[idx]\n",
    "        row = self.data.iloc[real_idx]\n",
    "        participant_id = row[self.id_col]\n",
    "        \n",
    "        x_features = self.data.iloc[real_idx:real_idx+self.seq_length][self.features].values.astype(np.float32)\n",
    "        x_id = np.array([participant_id] * self.seq_length, dtype=np.int64)\n",
    "        \n",
    "        # The target is the next time step's mood\n",
    "        y = self.data.iloc[real_idx+self.seq_length][self.target_col]\n",
    "        \n",
    "        return torch.tensor(x_features),torch.tensor(x_id), torch.tensor(y).float()\n"
   ]
  },
  {
   "cell_type": "markdown",
   "metadata": {},
   "source": [
    "### Load df"
   ]
  },
  {
   "cell_type": "code",
   "execution_count": 327,
   "metadata": {},
   "outputs": [],
   "source": [
    "df = pd.read_csv(\"tables/preprocessed/df_interpolated.csv\")\n",
    "\n",
    "dataset_name = \"df_interpolated\"\n",
    "dropped_vars = [\"\"]\n",
    "imputation = \"linear interpolation\"\n",
    "\n",
    "# df = pd.read_csv(\"tables/preprocessed/df_drop_appCat.csv\")\n",
    "\n",
    "# dataset_name = \"df_drop_appCat\"\n",
    "# dropped_vars = [\"appCat\", \"sms\", \"call\"]\n",
    "# imputation = \"drop appCat\""
   ]
  },
  {
   "cell_type": "markdown",
   "metadata": {},
   "source": [
    "### Train test split"
   ]
  },
  {
   "cell_type": "code",
   "execution_count": 328,
   "metadata": {},
   "outputs": [
    {
     "name": "stdout",
     "output_type": "stream",
     "text": [
      "Train mood descriptives\n",
      "count    1024.000000\n",
      "mean        6.994181\n",
      "std         0.731078\n",
      "min         3.000000\n",
      "25%         6.600000\n",
      "50%         7.000000\n",
      "75%         7.500000\n",
      "max         9.333333\n",
      "Name: mood, dtype: float64\n",
      "Test mood descriptives\n",
      "count    272.000000\n",
      "mean       7.014920\n",
      "std        0.733379\n",
      "min        4.800000\n",
      "25%        6.666667\n",
      "50%        7.000000\n",
      "75%        7.500000\n",
      "max        9.000000\n",
      "Name: mood, dtype: float64\n"
     ]
    }
   ],
   "source": [
    "\n",
    "dfs_train = []\n",
    "dfs_test = []\n",
    "proportion_train = 0.8\n",
    "for participant, group in df.groupby('id_num'):\n",
    "    group = group.sort_values(by='day')\n",
    "    split_idx = int(len(group) * proportion_train)\n",
    "    dfs_train.append(group.iloc[:split_idx])\n",
    "    dfs_test.append(group.iloc[split_idx:])\n",
    "    \n",
    "train_df = pd.concat(dfs_train)\n",
    "test_df = pd.concat(dfs_test)\n",
    "\n",
    "# get mood descriptives\n",
    "print(\"Train mood descriptives\")\n",
    "print(train_df[\"mood\"].describe())\n",
    "print(\"Test mood descriptives\")\n",
    "print(test_df[\"mood\"].describe())\n",
    "\n",
    "# get the start end end dates per participant per df\n",
    "train_start_dates = train_df.groupby('id_num')['day'].min()\n",
    "train_end_dates = train_df.groupby('id_num')['day'].max()\n",
    "test_start_dates = test_df.groupby('id_num')['day'].min()\n",
    "test_end_dates = test_df.groupby('id_num')['day'].max()\n",
    "\n",
    "# put in a dataframe with participant train start end and test start end\n",
    "dates_df = pd.DataFrame({\n",
    "    \"participant\": train_start_dates.index,\n",
    "    \"train_start\": train_start_dates.values,\n",
    "    \"train_end\": train_end_dates.values,\n",
    "    \"test_start\": test_start_dates.values,\n",
    "    \"test_end\": test_end_dates.values,\n",
    "})\n",
    "\n",
    "dates_df.to_csv(\"tables/training_dates_split.csv\", index=False)"
   ]
  },
  {
   "cell_type": "markdown",
   "metadata": {},
   "source": [
    "### Normalize"
   ]
  },
  {
   "cell_type": "code",
   "execution_count": 329,
   "metadata": {},
   "outputs": [
    {
     "name": "stdout",
     "output_type": "stream",
     "text": [
      "scaler properties:\n",
      "[ 5.97508941e+03  2.17998976e+00  4.77820414e-01  6.85131836e-01\n",
      "  1.11328125e-01  1.11230469e+00 -8.08919271e-02 -1.02832031e+00\n",
      "  7.98828125e-01  2.34863281e+00  8.75000000e-01  1.41761180e+03\n",
      "  2.53955939e+03  8.45391844e+02  1.39798105e+01  8.16168516e+01\n",
      "  1.01784652e+02  1.61473696e+02  1.10097662e+03  9.78292783e+01\n",
      "  3.15853369e+01  3.92597549e+01  3.77339746e+00]\n",
      "[4.71505001e+03 1.80426501e+00 2.54159866e-01 4.32938718e-01\n",
      " 7.95207088e-01 4.75673938e-01 6.45692285e-01 8.19734266e-01\n",
      " 7.69038405e-01 3.35970755e+00 1.87968166e+00 3.10509126e+03\n",
      " 2.51437596e+03 1.78311100e+03 5.24553513e+01 5.10066578e+02\n",
      " 1.09958741e+03 4.00434878e+02 1.92136532e+03 3.53818536e+02\n",
      " 1.52380268e+02 1.55808691e+02 1.87929124e+01]\n",
      "scaler properties:\n",
      "[ 5.07375363e+03  1.91955730e+00  4.73908702e-01  7.01654412e-01\n",
      "  3.06985294e-01  1.00367647e+00 -1.72855392e-01 -9.63235294e-01\n",
      "  6.15808824e-01  2.00367647e+00  6.28676471e-01  8.60836287e+02\n",
      "  2.15794448e+03  5.43449349e+02  2.24737316e+01  7.64953199e+01\n",
      "  7.38366140e+01  1.16033154e+02  9.44444051e+02  1.08331015e+02\n",
      "  3.72130000e+01  2.00313750e+01  4.68368750e+00]\n",
      "[4.23640564e+03 1.56450981e+00 2.79736958e-01 4.27738104e-01\n",
      " 7.63642413e-01 3.95267610e-01 7.27282226e-01 8.78364488e-01\n",
      " 8.73637641e-01 3.32271390e+00 1.61050814e+00 5.38187935e+03\n",
      " 2.26011782e+03 1.01386822e+03 1.18797929e+02 4.06694078e+02\n",
      " 4.05701692e+02 2.33959840e+02 1.43273861e+03 6.65184755e+02\n",
      " 1.73734415e+02 8.45872190e+01 2.49529089e+01]\n",
      "Train shape: (1024, 29), Test shape: (272, 29)\n"
     ]
    }
   ],
   "source": [
    "def normalize(df, scaler=None, scaler_target=None, transform_target=False, scaler_type=\"StandardScaler\"):\n",
    "    df = df.copy()\n",
    "    features = [col for col in df.columns if col not in ['id_num', 'day', \"date\", \"next_day_mood\", \"next_day\", \"mood\"]]\n",
    "    \n",
    "    if scaler is None:\n",
    "        if scaler_type == \"StandardScaler\":\n",
    "            scaler = StandardScaler()\n",
    "        elif scaler_type == \"MinMaxScaler\":\n",
    "            scaler = MinMaxScaler()\n",
    "    \n",
    "    # Scale the features\n",
    "    df[features] = scaler.fit_transform(df[features])\n",
    "    \n",
    "    if transform_target:\n",
    "        if scaler_target is None:\n",
    "            if scaler_type == \"StandardScaler\":\n",
    "                scaler_target = StandardScaler()\n",
    "            elif scaler_type == \"MinMaxScaler\":\n",
    "                scaler_target = MinMaxScaler()\n",
    "\n",
    "        # Scale only the target column \"mood\"\n",
    "        df[\"mood\"] = scaler_target.fit_transform(df[[\"mood\"]])\n",
    "\n",
    "        # print(\"scaler properties:\")\n",
    "        # print(scaler.mean_)\n",
    "        # print(scaler.scale_)\n",
    "        if scaler_type == \"StandardScaler\":\n",
    "            print(\"scaler properties:\")\n",
    "            print(scaler.mean_)\n",
    "            print(scaler.scale_)\n",
    "        \n",
    "        return df, scaler, scaler_target\n",
    "    else:\n",
    "        return df, scaler, None\n",
    "\n",
    "# def denormalize(df, scaler, scaler_target=None):\n",
    "\n",
    "#     features = [col for col in df.columns if col not in ['id_num', 'day', \"date\", \"next_day_mood\", \"next_day\", \"mood\"]]\n",
    "    \n",
    "#     # Inverse transform the features\n",
    "#     df[features] = scaler.inverse_transform(df[features])\n",
    "    \n",
    "#     if scaler_target is not None:\n",
    "#         # Inverse transform the target column \"mood\"\n",
    "#         df[\"mood\"] = scaler_target.inverse_transform(df[[\"mood\"]])\n",
    "    \n",
    "    # return df\n",
    "\n",
    "TRANSFORM_TARGET = True\n",
    "SCALER_TYPE = \"StandardScaler\"\n",
    "# Normalize the training and test data\n",
    "train_df_normalized, scaler, scaler_target = normalize(train_df, scaler=None, scaler_target=None, transform_target=TRANSFORM_TARGET, scaler_type=SCALER_TYPE)\n",
    "test_df_normalized, _, _ = normalize(test_df, scaler=scaler, scaler_target=scaler_target, transform_target=TRANSFORM_TARGET, scaler_type=SCALER_TYPE)\n",
    "\n",
    "print(f\"Train shape: {train_df_normalized.shape}, Test shape: {test_df_normalized.shape}\") # Train shape: (1230, 24), Test shape: (307, 24)\n",
    "\n"
   ]
  },
  {
   "cell_type": "markdown",
   "metadata": {},
   "source": [
    "### Create dataset"
   ]
  },
  {
   "cell_type": "code",
   "execution_count": 330,
   "metadata": {},
   "outputs": [
    {
     "name": "stdout",
     "output_type": "stream",
     "text": [
      "Number of batches in train_loader: 15\n",
      "Number of batches in test_loader: 3\n",
      "x shape: torch.Size([64, 5, 24]), x_id shape: torch.Size([64, 5]), y shape: torch.Size([64])\n"
     ]
    }
   ],
   "source": [
    "\n",
    "# Create the dataset\n",
    "seq_length = 5\n",
    "batch_size = 64\n",
    "train_dataset = MultiParticipantDataset(train_df_normalized, seq_length=seq_length)\n",
    "test_dataset = MultiParticipantDataset(test_df_normalized, seq_length=seq_length)\n",
    "\n",
    "# Create DataLoader\n",
    "train_loader = DataLoader(train_dataset, batch_size=batch_size, shuffle=False)\n",
    "test_loader = DataLoader(test_dataset, batch_size=batch_size, shuffle=False)\n",
    "\n",
    "# Check the shape of the data\n",
    "print(f\"Number of batches in train_loader: {len(train_loader)}\")\n",
    "print(f\"Number of batches in test_loader: {len(test_loader)}\")\n",
    "for x, x_id, y in train_loader:\n",
    "    print(f\"x shape: {x.shape}, x_id shape: {x_id.shape}, y shape: {y.shape}\")\n",
    "    break\n",
    "# 32 sequences in a batch, each with 5 time steps and 24 features\n"
   ]
  },
  {
   "cell_type": "markdown",
   "metadata": {},
   "source": [
    "### define lstm model"
   ]
  },
  {
   "cell_type": "code",
   "execution_count": 331,
   "metadata": {},
   "outputs": [],
   "source": [
    "class LSTMModel(nn.Module):\n",
    "    def __init__(self, input_dim, hidden_dim, num_layers, output_dim):\n",
    "        super(LSTMModel, self).__init__()\n",
    "        self.hidden_dim = hidden_dim\n",
    "        self.num_layers = num_layers\n",
    "        \n",
    "        # LSTM layer; batch_first=True expects input shape: (batch, seq, feature)\n",
    "        self.lstm = nn.LSTM(input_dim, hidden_dim, num_layers, batch_first=True)\n",
    "        \n",
    "        # Fully-connected layer to output the final prediction\n",
    "        self.fc = nn.Linear(hidden_dim, output_dim)\n",
    "        \n",
    "    def forward(self, x):\n",
    "        # x: [batch_size, seq_length, input_dim]\n",
    "        # Initialize hidden and cell states with zeros\n",
    "        h0 = torch.zeros(self.num_layers, x.size(0), self.hidden_dim).to(x.device)\n",
    "        c0 = torch.zeros(self.num_layers, x.size(0), self.hidden_dim).to(x.device)\n",
    "        \n",
    "        # Forward propagate LSTM\n",
    "        out, _ = self.lstm(x, (h0, c0))\n",
    "        \n",
    "        # Use the last time step's output for prediction\n",
    "        out = self.fc(out[:, -1, :])\n",
    "        return out"
   ]
  },
  {
   "cell_type": "markdown",
   "metadata": {},
   "source": [
    "### Train loop"
   ]
  },
  {
   "cell_type": "code",
   "execution_count": 332,
   "metadata": {},
   "outputs": [
    {
     "name": "stdout",
     "output_type": "stream",
     "text": [
      "Epoch [1/50], Train Loss: 1.1505, Eval Loss: 1.0462\n",
      "Epoch [2/50], Train Loss: 1.0999, Eval Loss: 0.9968\n",
      "Epoch [3/50], Train Loss: 1.0512, Eval Loss: 0.9815\n",
      "Epoch [4/50], Train Loss: 1.0101, Eval Loss: 0.9237\n",
      "Epoch [5/50], Train Loss: 0.9633, Eval Loss: 0.9462\n",
      "Epoch [6/50], Train Loss: 0.9232, Eval Loss: 0.8616\n",
      "Epoch [7/50], Train Loss: 0.9015, Eval Loss: 0.8589\n",
      "Epoch [8/50], Train Loss: 0.8524, Eval Loss: 0.8805\n",
      "Epoch [9/50], Train Loss: 0.8081, Eval Loss: 0.8434\n",
      "Epoch [10/50], Train Loss: 0.8037, Eval Loss: 0.8750\n",
      "Epoch [11/50], Train Loss: 0.7987, Eval Loss: 0.9223\n",
      "Epoch [12/50], Train Loss: 0.7571, Eval Loss: 0.8436\n",
      "Epoch [13/50], Train Loss: 0.7480, Eval Loss: 0.8726\n",
      "Epoch [14/50], Train Loss: 0.7484, Eval Loss: 0.9563\n",
      "Epoch [15/50], Train Loss: 0.7279, Eval Loss: 0.8461\n",
      "Epoch [16/50], Train Loss: 0.7530, Eval Loss: 0.9073\n",
      "Epoch [17/50], Train Loss: 0.6976, Eval Loss: 0.9460\n",
      "Epoch [18/50], Train Loss: 0.6704, Eval Loss: 0.7932\n",
      "Epoch [19/50], Train Loss: 0.7045, Eval Loss: 0.8965\n",
      "Epoch [20/50], Train Loss: 0.6784, Eval Loss: 0.8978\n",
      "Epoch [21/50], Train Loss: 0.6463, Eval Loss: 0.7562\n",
      "Epoch [22/50], Train Loss: 0.6272, Eval Loss: 0.8461\n",
      "Epoch [23/50], Train Loss: 0.5592, Eval Loss: 0.8112\n",
      "Epoch [24/50], Train Loss: 0.5485, Eval Loss: 0.9512\n",
      "Epoch [25/50], Train Loss: 0.5302, Eval Loss: 0.8293\n",
      "Epoch [26/50], Train Loss: 0.4622, Eval Loss: 0.9600\n",
      "Epoch [27/50], Train Loss: 0.4212, Eval Loss: 0.8547\n",
      "Epoch [28/50], Train Loss: 0.4180, Eval Loss: 0.8606\n",
      "Epoch [29/50], Train Loss: 0.3611, Eval Loss: 0.9493\n",
      "Epoch [30/50], Train Loss: 0.3267, Eval Loss: 0.9314\n",
      "Epoch [31/50], Train Loss: 0.3314, Eval Loss: 0.8998\n",
      "Epoch [32/50], Train Loss: 0.3246, Eval Loss: 1.1227\n",
      "Epoch [33/50], Train Loss: 0.3265, Eval Loss: 0.8566\n",
      "Epoch [34/50], Train Loss: 0.3608, Eval Loss: 0.8633\n",
      "Epoch [35/50], Train Loss: 0.2926, Eval Loss: 0.9809\n",
      "Epoch [36/50], Train Loss: 0.2988, Eval Loss: 0.8935\n",
      "Epoch [37/50], Train Loss: 0.2557, Eval Loss: 0.9962\n",
      "Epoch [38/50], Train Loss: 0.2076, Eval Loss: 0.9742\n",
      "Epoch [39/50], Train Loss: 0.1879, Eval Loss: 0.9669\n",
      "Epoch [40/50], Train Loss: 0.1618, Eval Loss: 0.9990\n",
      "Epoch [41/50], Train Loss: 0.1488, Eval Loss: 0.9717\n",
      "Epoch [42/50], Train Loss: 0.1345, Eval Loss: 1.0303\n",
      "Epoch [43/50], Train Loss: 0.1181, Eval Loss: 0.9917\n",
      "Epoch [44/50], Train Loss: 0.0966, Eval Loss: 0.9948\n",
      "Epoch [45/50], Train Loss: 0.0890, Eval Loss: 1.0703\n",
      "Epoch [46/50], Train Loss: 0.0733, Eval Loss: 1.0329\n",
      "Epoch [47/50], Train Loss: 0.0704, Eval Loss: 0.9951\n",
      "Epoch [48/50], Train Loss: 0.0901, Eval Loss: 1.0445\n",
      "Epoch [49/50], Train Loss: 0.1526, Eval Loss: 1.0210\n",
      "Epoch [50/50], Train Loss: 0.1640, Eval Loss: 1.0050\n"
     ]
    },
    {
     "data": {
      "image/png": "[encoded data removed]",
      "text/plain": [
       "<Figure size 1200x600 with 1 Axes>"
      ]
     },
     "metadata": {},
     "output_type": "display_data"
    },
    {
     "data": {
      "image/png": "[encoded data removed]",
      "text/plain": [
       "<Figure size 1200x600 with 1 Axes>"
      ]
     },
     "metadata": {},
     "output_type": "display_data"
    },
    {
     "name": "stdout",
     "output_type": "stream",
     "text": [
      "{'dataset': 'df_interpolated', 'dropped_vars': [''], 'imputation': 'linear interpolation', 'model': 'LSTM', 'sequence_length': 5, 'scaler': 'StandardScaler', 'scaler_target': True, 'batch_size': 64, 'input_dim': 24, 'hidden_dim': 256, 'num_layers': 2, 'output_dim': 1, 'num_epochs': 50, 'learning_rate': 0.001, 'train_loss': 0.1640498787164688, 'eval_loss': 1.0049538016319275, 'Features': ['id_num', 'screen', 'activity', 'activity_max', 'circumplex.valence', 'circumplex.valence_min', 'circumplex.valence_max', 'circumplex.arousal', 'circumplex.arousal_min', 'circumplex.arousal_max', 'call', 'sms', 'appCat.builtin', 'appCat.communication', 'appCat.entertainment', 'appCat.finance', 'appCat.game', 'appCat.office', 'appCat.other', 'appCat.social', 'appCat.travel', 'appCat.unknown', 'appCat.utilities', 'appCat.weather'], 'timestamp': '2025-04-05 17:41:43'}\n"
     ]
    }
   ],
   "source": [
    "# Hyperparameters\n",
    "input_dim = len(train_dataset.features)  # e.g., 24\n",
    "hidden_dim = 256             # Number of LSTM units\n",
    "num_layers = 2\n",
    "output_dim = 1                   # For regression (predicting a single value)\n",
    "num_epochs = 50\n",
    "learning_rate = 0.001\n",
    "\n",
    "# Initialize model, loss function, and optimizer\n",
    "model = LSTMModel(input_dim, hidden_dim, num_layers, output_dim)\n",
    "criterion = nn.MSELoss()\n",
    "optimizer = optim.Adam(model.parameters(), lr=learning_rate, weight_decay=1e-5)\n",
    "\n",
    "# Prepare lists to store loss values for plotting\n",
    "train_epoch_losses = []\n",
    "eval_epoch_losses = []\n",
    "batch_losses = []\n",
    "\n",
    "# Training and evaluation loop\n",
    "for epoch in range(num_epochs):\n",
    "    model.train()\n",
    "    train_loss_epoch = 0.0\n",
    "\n",
    "    # --- Training ---\n",
    "    for batch in train_loader:\n",
    "        x_features, x_id, y = batch  # x_features: [batch, seq_length, input_dim]\n",
    "        \n",
    "        # Forward pass\n",
    "        outputs = model(x_features)  # outputs shape: [batch, output_dim]\n",
    "        loss = criterion(outputs.squeeze(), y)\n",
    "\n",
    "        batch_losses.append(loss.item())\n",
    "        \n",
    "        # Backprop and optimization\n",
    "        optimizer.zero_grad()\n",
    "        loss.backward()\n",
    "        optimizer.step()\n",
    "        \n",
    "        train_loss_epoch += loss.item()\n",
    "    \n",
    "    avg_train_loss = train_loss_epoch / len(train_loader)\n",
    "    train_epoch_losses.append(avg_train_loss)\n",
    "    \n",
    "    # --- Evaluation ---\n",
    "    model.eval()\n",
    "    eval_loss_epoch = 0.0\n",
    "    with torch.no_grad():\n",
    "        for batch in test_loader:\n",
    "            x_features, x_id, y = batch\n",
    "            outputs = model(x_features)\n",
    "            loss = criterion(outputs.squeeze(), y)\n",
    "            eval_loss_epoch += loss.item()\n",
    "    \n",
    "    avg_eval_loss = eval_loss_epoch / len(test_loader)\n",
    "    eval_epoch_losses.append(avg_eval_loss)\n",
    "    \n",
    "    print(f\"Epoch [{epoch+1}/{num_epochs}], Train Loss: {avg_train_loss:.4f}, Eval Loss: {avg_eval_loss:.4f}\")\n",
    "\n",
    "# Plot the training and evaluation loss curves\n",
    "sns.set(style=\"whitegrid\")\n",
    "plt.figure(figsize=(12, 6))\n",
    "plt.plot(range(1, num_epochs+1), train_epoch_losses, label='Train Loss', marker='o')\n",
    "plt.plot(range(1, num_epochs+1), eval_epoch_losses, label='Eval Loss', marker='o')\n",
    "plt.xlabel(\"Epoch\")\n",
    "plt.ylabel(\"Loss (MSE)\")\n",
    "plt.title(\"Training and Evaluation Loss Over Epochs\")\n",
    "plt.legend()\n",
    "plt.show()\n",
    "\n",
    "# plot batch losses\n",
    "plt.figure(figsize=(12, 6))\n",
    "plt.plot(batch_losses, label='Batch Loss')\n",
    "plt.xlabel(\"Batch\")\n",
    "plt.ylabel(\"Loss (MSE)\")\n",
    "plt.title(\"Batch Loss Over Training\")\n",
    "plt.legend()\n",
    "plt.show()\n",
    "\n",
    "\n",
    "\n",
    "# append the csv with hyperparameters and losses\n",
    "hyperparameters = {\n",
    "    \"dataset\": dataset_name,\n",
    "    \"dropped_vars\": dropped_vars,\n",
    "    \"imputation\": imputation,\n",
    "    \"model\": \"LSTM\",\n",
    "    \"sequence_length\": seq_length,\n",
    "    \"scaler\": SCALER_TYPE,\n",
    "    \"scaler_target\": TRANSFORM_TARGET,\n",
    "    \"batch_size\": batch_size,\n",
    "    \"input_dim\": input_dim,\n",
    "    \"hidden_dim\": hidden_dim,\n",
    "    \"num_layers\": num_layers,\n",
    "    \"output_dim\": output_dim,\n",
    "    \"num_epochs\": num_epochs,\n",
    "    \"learning_rate\": learning_rate,\n",
    "    \"train_loss\": train_epoch_losses[-1],\n",
    "    \"eval_loss\": eval_epoch_losses[-1],\n",
    "    \"Features\": train_dataset.features,\n",
    "    \"timestamp\": time.strftime(\"%Y-%m-%d %H:%M:%S\"),\n",
    "}\n",
    "print(hyperparameters)\n",
    "hyperparameters_df = pd.DataFrame([hyperparameters])\n",
    "if not os.path.exists(\"tables/hyperparameters.csv\"):\n",
    "    # create the csv with the hyperparameters\n",
    "    hyperparameters_df.to_csv(\"tables/hyperparameters.csv\", index=False)\n",
    "hyperparameters_df = pd.DataFrame([hyperparameters])\n",
    "hyperparameters_df.to_csv(\"tables/hyperparameters.csv\", mode='a', header=False, index=False)\n"
   ]
  },
  {
   "cell_type": "markdown",
   "metadata": {},
   "source": [
    "### Predict and plot function"
   ]
  },
  {
   "cell_type": "code",
   "execution_count": 344,
   "metadata": {},
   "outputs": [],
   "source": [
    "\n",
    "def predict_and_plot(model, data_loader, test_dataset, target_scaler=None, show_plot=True, save_html=True, title=\"predictions\", scaler_type=SCALER_TYPE):\n",
    "    \"\"\"\n",
    "    Runs predictions on the data_loader using model, builds a results DataFrame using the\n",
    "    test_dataset's original data (which includes the 'day' and 'id_num' columns), and then plots\n",
    "    real vs predicted values with Plotly using the 'day' column for the x-axis and a dropdown\n",
    "    to select different participants.\n",
    "\n",
    "    Parameters:\n",
    "        model: Trained PyTorch model.\n",
    "        data_loader: DataLoader for the dataset to predict on.\n",
    "        test_dataset: The dataset instance (e.g., MultiParticipantDataset) used to create data_loader.\n",
    "                      It must have a 'data' attribute containing the original DataFrame with a 'day' column.\n",
    "        target_scaler: (Optional) Scaler used to normalize the target data.\n",
    "    \"\"\"\n",
    "    model.eval()\n",
    "    all_predictions = []\n",
    "    all_targets = []\n",
    "    \n",
    "    # Run model predictions over the data_loader\n",
    "    with torch.no_grad():\n",
    "        for batch in data_loader:\n",
    "            x_features, x_id, y = batch\n",
    "            outputs = model(x_features)\n",
    "            all_predictions.append(outputs.cpu().numpy())\n",
    "            all_targets.append(y.cpu().numpy())\n",
    "    \n",
    "    # Concatenate all predictions and targets into arrays.\n",
    "    all_predictions = np.concatenate(all_predictions)\n",
    "    all_targets = np.concatenate(all_targets)\n",
    "\n",
    "    \n",
    "    # Inverse transform if a target scaler is provided.\n",
    "    if target_scaler is not None:\n",
    "        if scaler_type == \"StandardScaler\":\n",
    "            print(\"Target scaler mean:\", target_scaler.mean_)\n",
    "            print(\"Target scaler scale:\", target_scaler.scale_)\n",
    "        all_predictions = target_scaler.inverse_transform(all_predictions)\n",
    "        all_targets = target_scaler.inverse_transform(all_targets.reshape(-1, 1))\n",
    "    \n",
    "\n",
    "    # Compute the correct slice of the original DataFrame.\n",
    "    # The i-th prediction corresponds to data row at index (i + seq_length)\n",
    "    start_idx = test_dataset.seq_length\n",
    "    end_idx = start_idx + len(test_dataset)\n",
    "    df_results = test_dataset.data.iloc[start_idx:end_idx].copy().reset_index(drop=True)\n",
    "\n",
    "    # Add prediction and target columns to the results DataFrame.\n",
    "    df_results['Real'] = all_targets.reshape(-1)\n",
    "    df_results['Predicted'] = all_predictions.reshape(-1)\n",
    "    \n",
    "    # Get unique participant IDs from the results DataFrame.\n",
    "    participant_col = test_dataset.id_col  # e.g., 'id_num'\n",
    "    participants = df_results[participant_col].unique()\n",
    "    \n",
    "    # Build Plotly traces for each participant: two traces (real & predicted) per participant.\n",
    "    traces = []\n",
    "    for p in participants:\n",
    "        df_p = df_results[df_results[participant_col] == p]\n",
    "        traces.append(go.Scatter(\n",
    "            x=df_p['day'],\n",
    "            y=df_p['Real'],\n",
    "            mode='lines',\n",
    "            name=f'Real ({p})',\n",
    "            visible=False  # We'll control visibility via the dropdown.\n",
    "        ))\n",
    "        traces.append(go.Scatter(\n",
    "            x=df_p['day'],\n",
    "            y=df_p['Predicted'],\n",
    "            mode='lines',\n",
    "            name=f'Predicted ({p})',\n",
    "            visible=False\n",
    "        ))\n",
    "    \n",
    "    total_traces = len(traces)  # Should be 2 * number of participants.\n",
    "    \n",
    "    # Create dropdown buttons. Each button sets visibility so that only the two traces for one participant are shown.\n",
    "    dropdown_buttons = []\n",
    "    for i, p in enumerate(participants):\n",
    "        visibility = [False] * total_traces\n",
    "        # For participant p, set traces at indices 2*i and 2*i+1 to True.\n",
    "        visibility[2*i] = True\n",
    "        visibility[2*i+1] = True\n",
    "        button = dict(\n",
    "            label=str(p),\n",
    "            method=\"update\",\n",
    "            args=[{\"visible\": visibility},\n",
    "                  {\"title\": f\"Real vs Predicted Mood Values for Participant {p}\",\n",
    "                   \"xaxis\": {\"title\": \"Day\"},\n",
    "                   \"yaxis\": {\"title\": \"Mood Value\"}}]\n",
    "        )\n",
    "        dropdown_buttons.append(button)\n",
    "    \n",
    "    # Set the initial visibility: show the first participant.\n",
    "    initial_visibility = [False] * total_traces\n",
    "    initial_visibility[0] = True\n",
    "    initial_visibility[1] = True\n",
    "    for i in range(total_traces):\n",
    "        traces[i].visible = initial_visibility[i]\n",
    "    \n",
    "    # Build the figure with all traces and add the dropdown menu.\n",
    "    fig = go.Figure(data=traces)\n",
    "    fig.update_layout(\n",
    "        updatemenus=[\n",
    "            dict(\n",
    "                active=0,\n",
    "                buttons=dropdown_buttons,\n",
    "                x=1.1,\n",
    "                y=1.0,\n",
    "                showactive=True\n",
    "            )\n",
    "        ],\n",
    "        title=f\"Real vs Predicted Mood Values for Participant {participants[0]}\",\n",
    "        xaxis_title=\"Day\",\n",
    "        yaxis_title=\"Mood Value\"\n",
    "    )\n",
    "    \n",
    "    if show_plot:\n",
    "        fig.show()\n",
    "    if save_html:\n",
    "        outdir = \"figures/plotly/predictions\"\n",
    "        os.makedirs(outdir, exist_ok=True)\n",
    "        fig.write_html(os.path.join(outdir, f\"predictions_{title}.html\"))\n",
    "\n",
    "    # MAE RMSE R2\n",
    "    mae = mean_absolute_error(all_targets, all_predictions)\n",
    "    rmse = np.sqrt(mean_squared_error(all_targets, all_predictions))\n",
    "    r2 = r2_score(all_targets, all_predictions)\n",
    "    print(f\"MAE: {mae}, RMSE: {rmse}, R2: {r2}\")\n",
    "    return df_results, mae, rmse, r2\n",
    "    \n",
    "    \n",
    "\n"
   ]
  },
  {
   "cell_type": "markdown",
   "metadata": {},
   "source": [
    "### Plot predictions"
   ]
  },
  {
   "cell_type": "code",
   "execution_count": 345,
   "metadata": {},
   "outputs": [
    {
     "name": "stdout",
     "output_type": "stream",
     "text": [
      "Target scaler mean: [7.01492034]\n",
      "Target scaler scale: [0.73202915]\n"
     ]
    },
    {
     "data": {
      "application/vnd.plotly.v1+json": {
       "config": {
        "plotlyServerURL": "https://plot.ly"
       },
       "data": [
        {
         "mode": "lines",
         "name": "Real (1)",
         "type": "scatter",
         "visible": true,
         "x": [
          "2014-05-01",
          "2014-05-02",
          "2014-05-03",
          "2014-05-04"
         ],
         "y": [
          8,
          7.599999904632568,
          8,
          8
         ]
        },
        {
         "mode": "lines",
         "name": "Predicted (1)",
         "type": "scatter",
         "visible": true,
         "x": [
          "2014-05-01",
          "2014-05-02",
          "2014-05-03",
          "2014-05-04"
         ],
         "y": [
          6.8514556884765625,
          6.891864776611328,
          6.893158912658691,
          6.9518890380859375
         ]
        },
        {
         "mode": "lines",
         "name": "Real (2)",
         "type": "scatter",
         "visible": false,
         "x": [
          "2014-04-17",
          "2014-04-18",
          "2014-04-19",
          "2014-04-20",
          "2014-04-21",
          "2014-04-22",
          "2014-04-23",
          "2014-04-24",
          "2014-04-25"
         ],
         "y": [
          6.5,
          5.666666507720947,
          5.5,
          7,
          9,
          7,
          7.75,
          7.400000095367432,
          7.25
         ]
        },
        {
         "mode": "lines",
         "name": "Predicted (2)",
         "type": "scatter",
         "visible": false,
         "x": [
          "2014-04-17",
          "2014-04-18",
          "2014-04-19",
          "2014-04-20",
          "2014-04-21",
          "2014-04-22",
          "2014-04-23",
          "2014-04-24",
          "2014-04-25"
         ],
         "y": [
          7.103404998779297,
          5.929448127746582,
          6.576970100402832,
          5.829096794128418,
          7.257374286651611,
          6.066656589508057,
          7.823439121246338,
          7.351431369781494,
          7.439797878265381
         ]
        },
        {
         "mode": "lines",
         "name": "Real (3)",
         "type": "scatter",
         "visible": false,
         "x": [
          "2014-04-28",
          "2014-04-29",
          "2014-04-30",
          "2014-05-01",
          "2014-05-02",
          "2014-05-03",
          "2014-05-04",
          "2014-05-05",
          "2014-05-06",
          "2014-05-07"
         ],
         "y": [
          7.458333492279053,
          7.666666507720947,
          7.199999809265137,
          7,
          6.800000190734863,
          7,
          6.75,
          7,
          6.333333492279053,
          7.25
         ]
        },
        {
         "mode": "lines",
         "name": "Predicted (3)",
         "type": "scatter",
         "visible": false,
         "x": [
          "2014-04-28",
          "2014-04-29",
          "2014-04-30",
          "2014-05-01",
          "2014-05-02",
          "2014-05-03",
          "2014-05-04",
          "2014-05-05",
          "2014-05-06",
          "2014-05-07"
         ],
         "y": [
          7.401042938232422,
          7.312005996704102,
          7.100255966186523,
          6.571078777313232,
          7.028803825378418,
          6.351612091064453,
          6.291228771209717,
          6.693966865539551,
          6.810458183288574,
          6.5248541831970215
         ]
        },
        {
         "mode": "lines",
         "name": "Real (5)",
         "type": "scatter",
         "visible": false,
         "x": [
          "2014-04-25",
          "2014-04-26",
          "2014-04-27",
          "2014-04-28",
          "2014-04-29",
          "2014-04-30",
          "2014-05-01",
          "2014-05-02",
          "2014-05-03",
          "2014-05-04",
          "2014-05-05"
         ],
         "y": [
          7.599999904632568,
          7,
          6.875,
          6.75,
          7,
          5.400000095367432,
          5,
          6.199999809265137,
          5.666666507720947,
          8,
          5.5
         ]
        },
        {
         "mode": "lines",
         "name": "Predicted (5)",
         "type": "scatter",
         "visible": false,
         "x": [
          "2014-04-25",
          "2014-04-26",
          "2014-04-27",
          "2014-04-28",
          "2014-04-29",
          "2014-04-30",
          "2014-05-01",
          "2014-05-02",
          "2014-05-03",
          "2014-05-04",
          "2014-05-05"
         ],
         "y": [
          7.0926361083984375,
          6.815253257751465,
          6.406001567840576,
          6.9241814613342285,
          6.598768711090088,
          6.14716911315918,
          5.588074207305908,
          6.709687232971191,
          4.597980499267578,
          5.894311904907227,
          6.475536346435547
         ]
        },
        {
         "mode": "lines",
         "name": "Real (6)",
         "type": "scatter",
         "visible": false,
         "x": [
          "2014-04-29",
          "2014-04-30",
          "2014-05-01",
          "2014-05-02",
          "2014-05-03",
          "2014-05-04",
          "2014-05-05",
          "2014-05-06",
          "2014-05-07",
          "2014-05-08"
         ],
         "y": [
          5.599999904632568,
          5.799999713897705,
          5.75,
          6.666666507720947,
          7,
          7.199999809265137,
          7.400000095367432,
          6.800000190734863,
          6.666666507720947,
          8
         ]
        },
        {
         "mode": "lines",
         "name": "Predicted (6)",
         "type": "scatter",
         "visible": false,
         "x": [
          "2014-04-29",
          "2014-04-30",
          "2014-05-01",
          "2014-05-02",
          "2014-05-03",
          "2014-05-04",
          "2014-05-05",
          "2014-05-06",
          "2014-05-07",
          "2014-05-08"
         ],
         "y": [
          6.085029602050781,
          5.200651168823242,
          6.091649532318115,
          6.626669406890869,
          5.838902950286865,
          7.085982322692871,
          6.531345844268799,
          6.54270076751709,
          7.2715301513671875,
          6.797730922698975
         ]
        },
        {
         "mode": "lines",
         "name": "Real (7)",
         "type": "scatter",
         "visible": false,
         "x": [
          "2014-04-26",
          "2014-04-27",
          "2014-04-28",
          "2014-04-29",
          "2014-04-30",
          "2014-05-01",
          "2014-05-02",
          "2014-05-03",
          "2014-05-04",
          "2014-05-05"
         ],
         "y": [
          7.5,
          7.599999904632568,
          7.75,
          6.599999904632568,
          6,
          6.599999904632568,
          5.599999904632568,
          4.800000190734863,
          6,
          7.666666507720947
         ]
        },
        {
         "mode": "lines",
         "name": "Predicted (7)",
         "type": "scatter",
         "visible": false,
         "x": [
          "2014-04-26",
          "2014-04-27",
          "2014-04-28",
          "2014-04-29",
          "2014-04-30",
          "2014-05-01",
          "2014-05-02",
          "2014-05-03",
          "2014-05-04",
          "2014-05-05"
         ],
         "y": [
          5.590348243713379,
          6.142670631408691,
          6.489799976348877,
          6.110334396362305,
          6.394453525543213,
          6.517021179199219,
          6.145066738128662,
          6.122940540313721,
          5.951400279998779,
          6.636557102203369
         ]
        },
        {
         "mode": "lines",
         "name": "Real (8)",
         "type": "scatter",
         "visible": false,
         "x": [
          "2014-04-23",
          "2014-04-24",
          "2014-04-25",
          "2014-04-26",
          "2014-04-27",
          "2014-04-28",
          "2014-04-29",
          "2014-04-30",
          "2014-05-01",
          "2014-05-02",
          "2014-05-03",
          "2014-05-04",
          "2014-05-05"
         ],
         "y": [
          8.5,
          7.833333492279053,
          8.333333015441895,
          8,
          7.25,
          8,
          8,
          6,
          6.666666507720947,
          6.800000190734863,
          6.800000190734863,
          7,
          7
         ]
        },
        {
         "mode": "lines",
         "name": "Predicted (8)",
         "type": "scatter",
         "visible": false,
         "x": [
          "2014-04-23",
          "2014-04-24",
          "2014-04-25",
          "2014-04-26",
          "2014-04-27",
          "2014-04-28",
          "2014-04-29",
          "2014-04-30",
          "2014-05-01",
          "2014-05-02",
          "2014-05-03",
          "2014-05-04",
          "2014-05-05"
         ],
         "y": [
          6.6240434646606445,
          7.4059247970581055,
          6.864424705505371,
          6.761868000030518,
          7.630603313446045,
          6.913955211639404,
          6.618135929107666,
          6.722007751464844,
          6.828738689422607,
          6.8032546043396,
          6.92002534866333,
          6.652827739715576,
          6.487790584564209
         ]
        },
        {
         "mode": "lines",
         "name": "Real (9)",
         "type": "scatter",
         "visible": false,
         "x": [
          "2014-04-26",
          "2014-04-27",
          "2014-04-28",
          "2014-04-29",
          "2014-04-30",
          "2014-05-01",
          "2014-05-02",
          "2014-05-03",
          "2014-05-04",
          "2014-05-05"
         ],
         "y": [
          7,
          6.800000190734863,
          7,
          7,
          7,
          7,
          7,
          7.199999809265137,
          7,
          7
         ]
        },
        {
         "mode": "lines",
         "name": "Predicted (9)",
         "type": "scatter",
         "visible": false,
         "x": [
          "2014-04-26",
          "2014-04-27",
          "2014-04-28",
          "2014-04-29",
          "2014-04-30",
          "2014-05-01",
          "2014-05-02",
          "2014-05-03",
          "2014-05-04",
          "2014-05-05"
         ],
         "y": [
          5.950938701629639,
          6.788540840148926,
          6.790471076965332,
          6.698579788208008,
          6.873504638671875,
          6.990448474884033,
          6.57968282699585,
          6.86327600479126,
          6.632528781890869,
          6.652632236480713
         ]
        },
        {
         "mode": "lines",
         "name": "Real (12)",
         "type": "scatter",
         "visible": false,
         "x": [
          "2014-04-28",
          "2014-04-29",
          "2014-04-30",
          "2014-05-01",
          "2014-05-02",
          "2014-05-03",
          "2014-05-04",
          "2014-05-05"
         ],
         "y": [
          8,
          7.5,
          7,
          7.333333492279053,
          7.25,
          6.75,
          7,
          7
         ]
        },
        {
         "mode": "lines",
         "name": "Predicted (12)",
         "type": "scatter",
         "visible": false,
         "x": [
          "2014-04-28",
          "2014-04-29",
          "2014-04-30",
          "2014-05-01",
          "2014-05-02",
          "2014-05-03",
          "2014-05-04",
          "2014-05-05"
         ],
         "y": [
          6.825145721435547,
          6.86459493637085,
          6.889828681945801,
          6.918025493621826,
          6.698081970214844,
          6.730793476104736,
          6.892972469329834,
          6.339050769805908
         ]
        },
        {
         "mode": "lines",
         "name": "Real (13)",
         "type": "scatter",
         "visible": false,
         "x": [
          "2014-04-24",
          "2014-04-25",
          "2014-04-26",
          "2014-04-27",
          "2014-04-28",
          "2014-04-29",
          "2014-04-30",
          "2014-05-01",
          "2014-05-02",
          "2014-05-03",
          "2014-05-04"
         ],
         "y": [
          8,
          7,
          7.25,
          7.375,
          7.5,
          7.75,
          6.800000190734863,
          7.799999713897705,
          7.400000095367432,
          6.599999904632568,
          7
         ]
        },
        {
         "mode": "lines",
         "name": "Predicted (13)",
         "type": "scatter",
         "visible": false,
         "x": [
          "2014-04-24",
          "2014-04-25",
          "2014-04-26",
          "2014-04-27",
          "2014-04-28",
          "2014-04-29",
          "2014-04-30",
          "2014-05-01",
          "2014-05-02",
          "2014-05-03",
          "2014-05-04"
         ],
         "y": [
          6.725217342376709,
          6.7711615562438965,
          7.346963405609131,
          7.408101558685303,
          6.835212230682373,
          6.393204689025879,
          6.62233829498291,
          7.084357738494873,
          7.01249361038208,
          6.921164512634277,
          6.84641695022583
         ]
        },
        {
         "mode": "lines",
         "name": "Real (14)",
         "type": "scatter",
         "visible": false,
         "x": [
          "2014-04-26",
          "2014-04-27",
          "2014-04-28",
          "2014-04-29",
          "2014-04-30",
          "2014-05-01",
          "2014-05-02",
          "2014-05-03",
          "2014-05-04",
          "2014-05-05"
         ],
         "y": [
          7,
          7,
          7.199999809265137,
          6.75,
          7.333333492279053,
          7,
          7,
          7.599999904632568,
          7.400000095367432,
          9
         ]
        },
        {
         "mode": "lines",
         "name": "Predicted (14)",
         "type": "scatter",
         "visible": false,
         "x": [
          "2014-04-26",
          "2014-04-27",
          "2014-04-28",
          "2014-04-29",
          "2014-04-30",
          "2014-05-01",
          "2014-05-02",
          "2014-05-03",
          "2014-05-04",
          "2014-05-05"
         ],
         "y": [
          6.33899450302124,
          6.9726080894470215,
          6.377828121185303,
          6.392930507659912,
          6.404282569885254,
          6.583390235900879,
          6.527545928955078,
          7.7914605140686035,
          7.538540363311768,
          7.518894195556641
         ]
        },
        {
         "mode": "lines",
         "name": "Real (15)",
         "type": "scatter",
         "visible": false,
         "x": [
          "2014-04-27",
          "2014-04-28",
          "2014-04-29",
          "2014-04-30",
          "2014-05-01",
          "2014-05-02",
          "2014-05-03",
          "2014-05-04",
          "2014-05-05",
          "2014-05-06",
          "2014-05-07",
          "2014-05-08"
         ],
         "y": [
          6.599999904632568,
          6.75,
          7.799999713897705,
          7,
          7,
          7.5,
          8,
          6.5,
          6.5,
          6.800000190734863,
          7,
          7.400000095367432
         ]
        },
        {
         "mode": "lines",
         "name": "Predicted (15)",
         "type": "scatter",
         "visible": false,
         "x": [
          "2014-04-27",
          "2014-04-28",
          "2014-04-29",
          "2014-04-30",
          "2014-05-01",
          "2014-05-02",
          "2014-05-03",
          "2014-05-04",
          "2014-05-05",
          "2014-05-06",
          "2014-05-07",
          "2014-05-08"
         ],
         "y": [
          7.538963794708252,
          6.876617431640625,
          6.601923942565918,
          7.1232523918151855,
          6.805639266967773,
          7.1805806159973145,
          7.429742336273193,
          6.511532783508301,
          6.6083269119262695,
          6.148604869842529,
          7.2672929763793945,
          7.256015300750732
         ]
        },
        {
         "mode": "lines",
         "name": "Real (16)",
         "type": "scatter",
         "visible": false,
         "x": [
          "2014-04-25",
          "2014-04-26",
          "2014-04-27",
          "2014-04-28",
          "2014-04-29",
          "2014-04-30",
          "2014-05-01",
          "2014-05-02",
          "2014-05-03",
          "2014-05-04",
          "2014-05-05"
         ],
         "y": [
          6.599999904632568,
          6.199999809265137,
          7.599999904632568,
          8,
          7.199999809265137,
          5.799999713897705,
          5.400000095367432,
          7.400000095367432,
          6.400000095367432,
          7.799999713897705,
          7.799999713897705
         ]
        },
        {
         "mode": "lines",
         "name": "Predicted (16)",
         "type": "scatter",
         "visible": false,
         "x": [
          "2014-04-25",
          "2014-04-26",
          "2014-04-27",
          "2014-04-28",
          "2014-04-29",
          "2014-04-30",
          "2014-05-01",
          "2014-05-02",
          "2014-05-03",
          "2014-05-04",
          "2014-05-05"
         ],
         "y": [
          6.4726057052612305,
          6.825611114501953,
          6.9912590980529785,
          6.85615873336792,
          7.200940132141113,
          7.262956619262695,
          7.164029121398926,
          6.943915367126465,
          6.144157409667969,
          5.749670505523682,
          7.803458213806152
         ]
        },
        {
         "mode": "lines",
         "name": "Real (17)",
         "type": "scatter",
         "visible": false,
         "x": [
          "2014-04-23",
          "2014-04-24",
          "2014-04-25",
          "2014-04-26",
          "2014-04-27",
          "2014-04-28",
          "2014-04-29",
          "2014-04-30",
          "2014-05-01",
          "2014-05-02",
          "2014-05-03",
          "2014-05-04",
          "2014-05-05"
         ],
         "y": [
          6.800000190734863,
          7.5,
          7,
          6.400000095367432,
          6.666666507720947,
          6.333333492279053,
          6.5,
          7.799999713897705,
          7.599999904632568,
          8.199999809265137,
          7.599999904632568,
          6,
          7.799999713897705
         ]
        },
        {
         "mode": "lines",
         "name": "Predicted (17)",
         "type": "scatter",
         "visible": false,
         "x": [
          "2014-04-23",
          "2014-04-24",
          "2014-04-25",
          "2014-04-26",
          "2014-04-27",
          "2014-04-28",
          "2014-04-29",
          "2014-04-30",
          "2014-05-01",
          "2014-05-02",
          "2014-05-03",
          "2014-05-04",
          "2014-05-05"
         ],
         "y": [
          7.27549934387207,
          7.171370029449463,
          7.354892730712891,
          7.07157039642334,
          7.609740734100342,
          7.001769542694092,
          6.57733678817749,
          7.231364727020264,
          7.963382244110107,
          7.667734146118164,
          8.111687660217285,
          7.14362907409668,
          6.618631839752197
         ]
        },
        {
         "mode": "lines",
         "name": "Real (19)",
         "type": "scatter",
         "visible": false,
         "x": [
          "2014-04-26",
          "2014-04-27",
          "2014-04-28",
          "2014-04-29",
          "2014-04-30",
          "2014-05-01",
          "2014-05-02",
          "2014-05-03",
          "2014-05-04",
          "2014-05-05"
         ],
         "y": [
          8.199999809265137,
          8,
          7.799999713897705,
          7.799999713897705,
          8,
          6.75,
          7,
          7,
          7,
          7
         ]
        },
        {
         "mode": "lines",
         "name": "Predicted (19)",
         "type": "scatter",
         "visible": false,
         "x": [
          "2014-04-26",
          "2014-04-27",
          "2014-04-28",
          "2014-04-29",
          "2014-04-30",
          "2014-05-01",
          "2014-05-02",
          "2014-05-03",
          "2014-05-04",
          "2014-05-05"
         ],
         "y": [
          7.846616744995117,
          7.980682849884033,
          7.804934978485107,
          7.73210334777832,
          7.77942419052124,
          7.781946659088135,
          7.176476955413818,
          7.25981330871582,
          7.114277362823486,
          7.264127254486084
         ]
        },
        {
         "mode": "lines",
         "name": "Real (20)",
         "type": "scatter",
         "visible": false,
         "x": [
          "2014-04-26",
          "2014-04-27",
          "2014-04-28",
          "2014-04-29",
          "2014-04-30",
          "2014-05-01",
          "2014-05-02",
          "2014-05-03",
          "2014-05-04",
          "2014-05-05"
         ],
         "y": [
          8.666666984558105,
          7.75,
          7.25,
          7.199999809265137,
          7.199999809265137,
          5.75,
          6.199999809265137,
          8.199999809265137,
          7,
          6.800000190734863
         ]
        },
        {
         "mode": "lines",
         "name": "Predicted (20)",
         "type": "scatter",
         "visible": false,
         "x": [
          "2014-04-26",
          "2014-04-27",
          "2014-04-28",
          "2014-04-29",
          "2014-04-30",
          "2014-05-01",
          "2014-05-02",
          "2014-05-03",
          "2014-05-04",
          "2014-05-05"
         ],
         "y": [
          7.094281196594238,
          7.239501953125,
          7.785157203674316,
          8.229745864868164,
          7.548941135406494,
          6.863043308258057,
          6.2668914794921875,
          7.144132614135742,
          6.788206100463867,
          6.6219611167907715
         ]
        },
        {
         "mode": "lines",
         "name": "Real (23)",
         "type": "scatter",
         "visible": false,
         "x": [
          "2014-04-23"
         ],
         "y": [
          7
         ]
        },
        {
         "mode": "lines",
         "name": "Predicted (23)",
         "type": "scatter",
         "visible": false,
         "x": [
          "2014-04-23"
         ],
         "y": [
          7.2179646492004395
         ]
        }
       ],
       "layout": {
        "template": {
         "data": {
          "bar": [
           {
            "error_x": {
             "color": "#2a3f5f"
            },
            "error_y": {
             "color": "#2a3f5f"
            },
            "marker": {
             "line": {
              "color": "#E5ECF6",
              "width": 0.5
             },
             "pattern": {
              "fillmode": "overlay",
              "size": 10,
              "solidity": 0.2
             }
            },
            "type": "bar"
           }
          ],
          "barpolar": [
           {
            "marker": {
             "line": {
              "color": "#E5ECF6",
              "width": 0.5
             },
             "pattern": {
              "fillmode": "overlay",
              "size": 10,
              "solidity": 0.2
             }
            },
            "type": "barpolar"
           }
          ],
          "carpet": [
           {
            "aaxis": {
             "endlinecolor": "#2a3f5f",
             "gridcolor": "white",
             "linecolor": "white",
             "minorgridcolor": "white",
             "startlinecolor": "#2a3f5f"
            },
            "baxis": {
             "endlinecolor": "#2a3f5f",
             "gridcolor": "white",
             "linecolor": "white",
             "minorgridcolor": "white",
             "startlinecolor": "#2a3f5f"
            },
            "type": "carpet"
           }
          ],
          "choropleth": [
           {
            "colorbar": {
             "outlinewidth": 0,
             "ticks": ""
            },
            "type": "choropleth"
           }
          ],
          "contour": [
           {
            "colorbar": {
             "outlinewidth": 0,
             "ticks": ""
            },
            "colorscale": [
             [
              0,
              "#0d0887"
             ],
             [
              0.1111111111111111,
              "#46039f"
             ],
             [
              0.2222222222222222,
              "#7201a8"
             ],
             [
              0.3333333333333333,
              "#9c179e"
             ],
             [
              0.4444444444444444,
              "#bd3786"
             ],
             [
              0.5555555555555556,
              "#d8576b"
             ],
             [
              0.6666666666666666,
              "#ed7953"
             ],
             [
              0.7777777777777778,
              "#fb9f3a"
             ],
             [
              0.8888888888888888,
              "#fdca26"
             ],
             [
              1,
              "#f0f921"
             ]
            ],
            "type": "contour"
           }
          ],
          "contourcarpet": [
           {
            "colorbar": {
             "outlinewidth": 0,
             "ticks": ""
            },
            "type": "contourcarpet"
           }
          ],
          "heatmap": [
           {
            "colorbar": {
             "outlinewidth": 0,
             "ticks": ""
            },
            "colorscale": [
             [
              0,
              "#0d0887"
             ],
             [
              0.1111111111111111,
              "#46039f"
             ],
             [
              0.2222222222222222,
              "#7201a8"
             ],
             [
              0.3333333333333333,
              "#9c179e"
             ],
             [
              0.4444444444444444,
              "#bd3786"
             ],
             [
              0.5555555555555556,
              "#d8576b"
             ],
             [
              0.6666666666666666,
              "#ed7953"
             ],
             [
              0.7777777777777778,
              "#fb9f3a"
             ],
             [
              0.8888888888888888,
              "#fdca26"
             ],
             [
              1,
              "#f0f921"
             ]
            ],
            "type": "heatmap"
           }
          ],
          "heatmapgl": [
           {
            "colorbar": {
             "outlinewidth": 0,
             "ticks": ""
            },
            "colorscale": [
             [
              0,
              "#0d0887"
             ],
             [
              0.1111111111111111,
              "#46039f"
             ],
             [
              0.2222222222222222,
              "#7201a8"
             ],
             [
              0.3333333333333333,
              "#9c179e"
             ],
             [
              0.4444444444444444,
              "#bd3786"
             ],
             [
              0.5555555555555556,
              "#d8576b"
             ],
             [
              0.6666666666666666,
              "#ed7953"
             ],
             [
              0.7777777777777778,
              "#fb9f3a"
             ],
             [
              0.8888888888888888,
              "#fdca26"
             ],
             [
              1,
              "#f0f921"
             ]
            ],
            "type": "heatmapgl"
           }
          ],
          "histogram": [
           {
            "marker": {
             "pattern": {
              "fillmode": "overlay",
              "size": 10,
              "solidity": 0.2
             }
            },
            "type": "histogram"
           }
          ],
          "histogram2d": [
           {
            "colorbar": {
             "outlinewidth": 0,
             "ticks": ""
            },
            "colorscale": [
             [
              0,
              "#0d0887"
             ],
             [
              0.1111111111111111,
              "#46039f"
             ],
             [
              0.2222222222222222,
              "#7201a8"
             ],
             [
              0.3333333333333333,
              "#9c179e"
             ],
             [
              0.4444444444444444,
              "#bd3786"
             ],
             [
              0.5555555555555556,
              "#d8576b"
             ],
             [
              0.6666666666666666,
              "#ed7953"
             ],
             [
              0.7777777777777778,
              "#fb9f3a"
             ],
             [
              0.8888888888888888,
              "#fdca26"
             ],
             [
              1,
              "#f0f921"
             ]
            ],
            "type": "histogram2d"
           }
          ],
          "histogram2dcontour": [
           {
            "colorbar": {
             "outlinewidth": 0,
             "ticks": ""
            },
            "colorscale": [
             [
              0,
              "#0d0887"
             ],
             [
              0.1111111111111111,
              "#46039f"
             ],
             [
              0.2222222222222222,
              "#7201a8"
             ],
             [
              0.3333333333333333,
              "#9c179e"
             ],
             [
              0.4444444444444444,
              "#bd3786"
             ],
             [
              0.5555555555555556,
              "#d8576b"
             ],
             [
              0.6666666666666666,
              "#ed7953"
             ],
             [
              0.7777777777777778,
              "#fb9f3a"
             ],
             [
              0.8888888888888888,
              "#fdca26"
             ],
             [
              1,
              "#f0f921"
             ]
            ],
            "type": "histogram2dcontour"
           }
          ],
          "mesh3d": [
           {
            "colorbar": {
             "outlinewidth": 0,
             "ticks": ""
            },
            "type": "mesh3d"
           }
          ],
          "parcoords": [
           {
            "line": {
             "colorbar": {
              "outlinewidth": 0,
              "ticks": ""
             }
            },
            "type": "parcoords"
           }
          ],
          "pie": [
           {
            "automargin": true,
            "type": "pie"
           }
          ],
          "scatter": [
           {
            "fillpattern": {
             "fillmode": "overlay",
             "size": 10,
             "solidity": 0.2
            },
            "type": "scatter"
           }
          ],
          "scatter3d": [
           {
            "line": {
             "colorbar": {
              "outlinewidth": 0,
              "ticks": ""
             }
            },
            "marker": {
             "colorbar": {
              "outlinewidth": 0,
              "ticks": ""
             }
            },
            "type": "scatter3d"
           }
          ],
          "scattercarpet": [
           {
            "marker": {
             "colorbar": {
              "outlinewidth": 0,
              "ticks": ""
             }
            },
            "type": "scattercarpet"
           }
          ],
          "scattergeo": [
           {
            "marker": {
             "colorbar": {
              "outlinewidth": 0,
              "ticks": ""
             }
            },
            "type": "scattergeo"
           }
          ],
          "scattergl": [
           {
            "marker": {
             "colorbar": {
              "outlinewidth": 0,
              "ticks": ""
             }
            },
            "type": "scattergl"
           }
          ],
          "scattermapbox": [
           {
            "marker": {
             "colorbar": {
              "outlinewidth": 0,
              "ticks": ""
             }
            },
            "type": "scattermapbox"
           }
          ],
          "scatterpolar": [
           {
            "marker": {
             "colorbar": {
              "outlinewidth": 0,
              "ticks": ""
             }
            },
            "type": "scatterpolar"
           }
          ],
          "scatterpolargl": [
           {
            "marker": {
             "colorbar": {
              "outlinewidth": 0,
              "ticks": ""
             }
            },
            "type": "scatterpolargl"
           }
          ],
          "scatterternary": [
           {
            "marker": {
             "colorbar": {
              "outlinewidth": 0,
              "ticks": ""
             }
            },
            "type": "scatterternary"
           }
          ],
          "surface": [
           {
            "colorbar": {
             "outlinewidth": 0,
             "ticks": ""
            },
            "colorscale": [
             [
              0,
              "#0d0887"
             ],
             [
              0.1111111111111111,
              "#46039f"
             ],
             [
              0.2222222222222222,
              "#7201a8"
             ],
             [
              0.3333333333333333,
              "#9c179e"
             ],
             [
              0.4444444444444444,
              "#bd3786"
             ],
             [
              0.5555555555555556,
              "#d8576b"
             ],
             [
              0.6666666666666666,
              "#ed7953"
             ],
             [
              0.7777777777777778,
              "#fb9f3a"
             ],
             [
              0.8888888888888888,
              "#fdca26"
             ],
             [
              1,
              "#f0f921"
             ]
            ],
            "type": "surface"
           }
          ],
          "table": [
           {
            "cells": {
             "fill": {
              "color": "#EBF0F8"
             },
             "line": {
              "color": "white"
             }
            },
            "header": {
             "fill": {
              "color": "#C8D4E3"
             },
             "line": {
              "color": "white"
             }
            },
            "type": "table"
           }
          ]
         },
         "layout": {
          "annotationdefaults": {
           "arrowcolor": "#2a3f5f",
           "arrowhead": 0,
           "arrowwidth": 1
          },
          "autotypenumbers": "strict",
          "coloraxis": {
           "colorbar": {
            "outlinewidth": 0,
            "ticks": ""
           }
          },
          "colorscale": {
           "diverging": [
            [
             0,
             "#8e0152"
            ],
            [
             0.1,
             "#c51b7d"
            ],
            [
             0.2,
             "#de77ae"
            ],
            [
             0.3,
             "#f1b6da"
            ],
            [
             0.4,
             "#fde0ef"
            ],
            [
             0.5,
             "#f7f7f7"
            ],
            [
             0.6,
             "#e6f5d0"
            ],
            [
             0.7,
             "#b8e186"
            ],
            [
             0.8,
             "#7fbc41"
            ],
            [
             0.9,
             "#4d9221"
            ],
            [
             1,
             "#276419"
            ]
           ],
           "sequential": [
            [
             0,
             "#0d0887"
            ],
            [
             0.1111111111111111,
             "#46039f"
            ],
            [
             0.2222222222222222,
             "#7201a8"
            ],
            [
             0.3333333333333333,
             "#9c179e"
            ],
            [
             0.4444444444444444,
             "#bd3786"
            ],
            [
             0.5555555555555556,
             "#d8576b"
            ],
            [
             0.6666666666666666,
             "#ed7953"
            ],
            [
             0.7777777777777778,
             "#fb9f3a"
            ],
            [
             0.8888888888888888,
             "#fdca26"
            ],
            [
             1,
             "#f0f921"
            ]
           ],
           "sequentialminus": [
            [
             0,
             "#0d0887"
            ],
            [
             0.1111111111111111,
             "#46039f"
            ],
            [
             0.2222222222222222,
             "#7201a8"
            ],
            [
             0.3333333333333333,
             "#9c179e"
            ],
            [
             0.4444444444444444,
             "#bd3786"
            ],
            [
             0.5555555555555556,
             "#d8576b"
            ],
            [
             0.6666666666666666,
             "#ed7953"
            ],
            [
             0.7777777777777778,
             "#fb9f3a"
            ],
            [
             0.8888888888888888,
             "#fdca26"
            ],
            [
             1,
             "#f0f921"
            ]
           ]
          },
          "colorway": [
           "#636efa",
           "#EF553B",
           "#00cc96",
           "#ab63fa",
           "#FFA15A",
           "#19d3f3",
           "#FF6692",
           "#B6E880",
           "#FF97FF",
           "#FECB52"
          ],
          "font": {
           "color": "#2a3f5f"
          },
          "geo": {
           "bgcolor": "white",
           "lakecolor": "white",
           "landcolor": "#E5ECF6",
           "showlakes": true,
           "showland": true,
           "subunitcolor": "white"
          },
          "hoverlabel": {
           "align": "left"
          },
          "hovermode": "closest",
          "mapbox": {
           "style": "light"
          },
          "paper_bgcolor": "white",
          "plot_bgcolor": "#E5ECF6",
          "polar": {
           "angularaxis": {
            "gridcolor": "white",
            "linecolor": "white",
            "ticks": ""
           },
           "bgcolor": "#E5ECF6",
           "radialaxis": {
            "gridcolor": "white",
            "linecolor": "white",
            "ticks": ""
           }
          },
          "scene": {
           "xaxis": {
            "backgroundcolor": "#E5ECF6",
            "gridcolor": "white",
            "gridwidth": 2,
            "linecolor": "white",
            "showbackground": true,
            "ticks": "",
            "zerolinecolor": "white"
           },
           "yaxis": {
            "backgroundcolor": "#E5ECF6",
            "gridcolor": "white",
            "gridwidth": 2,
            "linecolor": "white",
            "showbackground": true,
            "ticks": "",
            "zerolinecolor": "white"
           },
           "zaxis": {
            "backgroundcolor": "#E5ECF6",
            "gridcolor": "white",
            "gridwidth": 2,
            "linecolor": "white",
            "showbackground": true,
            "ticks": "",
            "zerolinecolor": "white"
           }
          },
          "shapedefaults": {
           "line": {
            "color": "#2a3f5f"
           }
          },
          "ternary": {
           "aaxis": {
            "gridcolor": "white",
            "linecolor": "white",
            "ticks": ""
           },
           "baxis": {
            "gridcolor": "white",
            "linecolor": "white",
            "ticks": ""
           },
           "bgcolor": "#E5ECF6",
           "caxis": {
            "gridcolor": "white",
            "linecolor": "white",
            "ticks": ""
           }
          },
          "title": {
           "x": 0.05
          },
          "xaxis": {
           "automargin": true,
           "gridcolor": "white",
           "linecolor": "white",
           "ticks": "",
           "title": {
            "standoff": 15
           },
           "zerolinecolor": "white",
           "zerolinewidth": 2
          },
          "yaxis": {
           "automargin": true,
           "gridcolor": "white",
           "linecolor": "white",
           "ticks": "",
           "title": {
            "standoff": 15
           },
           "zerolinecolor": "white",
           "zerolinewidth": 2
          }
         }
        },
        "title": {
         "text": "Real vs Predicted Mood Values for Participant 1"
        },
        "updatemenus": [
         {
          "active": 0,
          "buttons": [
           {
            "args": [
             {
              "visible": [
               true,
               true,
               false,
               false,
               false,
               false,
               false,
               false,
               false,
               false,
               false,
               false,
               false,
               false,
               false,
               false,
               false,
               false,
               false,
               false,
               false,
               false,
               false,
               false,
               false,
               false,
               false,
               false,
               false,
               false,
               false,
               false,
               false,
               false
              ]
             },
             {
              "title": "Real vs Predicted Mood Values for Participant 1",
              "xaxis": {
               "title": "Day"
              },
              "yaxis": {
               "title": "Mood Value"
              }
             }
            ],
            "label": "1",
            "method": "update"
           },
           {
            "args": [
             {
              "visible": [
               false,
               false,
               true,
               true,
               false,
               false,
               false,
               false,
               false,
               false,
               false,
               false,
               false,
               false,
               false,
               false,
               false,
               false,
               false,
               false,
               false,
               false,
               false,
               false,
               false,
               false,
               false,
               false,
               false,
               false,
               false,
               false,
               false,
               false
              ]
             },
             {
              "title": "Real vs Predicted Mood Values for Participant 2",
              "xaxis": {
               "title": "Day"
              },
              "yaxis": {
               "title": "Mood Value"
              }
             }
            ],
            "label": "2",
            "method": "update"
           },
           {
            "args": [
             {
              "visible": [
               false,
               false,
               false,
               false,
               true,
               true,
               false,
               false,
               false,
               false,
               false,
               false,
               false,
               false,
               false,
               false,
               false,
               false,
               false,
               false,
               false,
               false,
               false,
               false,
               false,
               false,
               false,
               false,
               false,
               false,
               false,
               false,
               false,
               false
              ]
             },
             {
              "title": "Real vs Predicted Mood Values for Participant 3",
              "xaxis": {
               "title": "Day"
              },
              "yaxis": {
               "title": "Mood Value"
              }
             }
            ],
            "label": "3",
            "method": "update"
           },
           {
            "args": [
             {
              "visible": [
               false,
               false,
               false,
               false,
               false,
               false,
               true,
               true,
               false,
               false,
               false,
               false,
               false,
               false,
               false,
               false,
               false,
               false,
               false,
               false,
               false,
               false,
               false,
               false,
               false,
               false,
               false,
               false,
               false,
               false,
               false,
               false,
               false,
               false
              ]
             },
             {
              "title": "Real vs Predicted Mood Values for Participant 5",
              "xaxis": {
               "title": "Day"
              },
              "yaxis": {
               "title": "Mood Value"
              }
             }
            ],
            "label": "5",
            "method": "update"
           },
           {
            "args": [
             {
              "visible": [
               false,
               false,
               false,
               false,
               false,
               false,
               false,
               false,
               true,
               true,
               false,
               false,
               false,
               false,
               false,
               false,
               false,
               false,
               false,
               false,
               false,
               false,
               false,
               false,
               false,
               false,
               false,
               false,
               false,
               false,
               false,
               false,
               false,
               false
              ]
             },
             {
              "title": "Real vs Predicted Mood Values for Participant 6",
              "xaxis": {
               "title": "Day"
              },
              "yaxis": {
               "title": "Mood Value"
              }
             }
            ],
            "label": "6",
            "method": "update"
           },
           {
            "args": [
             {
              "visible": [
               false,
               false,
               false,
               false,
               false,
               false,
               false,
               false,
               false,
               false,
               true,
               true,
               false,
               false,
               false,
               false,
               false,
               false,
               false,
               false,
               false,
               false,
               false,
               false,
               false,
               false,
               false,
               false,
               false,
               false,
               false,
               false,
               false,
               false
              ]
             },
             {
              "title": "Real vs Predicted Mood Values for Participant 7",
              "xaxis": {
               "title": "Day"
              },
              "yaxis": {
               "title": "Mood Value"
              }
             }
            ],
            "label": "7",
            "method": "update"
           },
           {
            "args": [
             {
              "visible": [
               false,
               false,
               false,
               false,
               false,
               false,
               false,
               false,
               false,
               false,
               false,
               false,
               true,
               true,
               false,
               false,
               false,
               false,
               false,
               false,
               false,
               false,
               false,
               false,
               false,
               false,
               false,
               false,
               false,
               false,
               false,
               false,
               false,
               false
              ]
             },
             {
              "title": "Real vs Predicted Mood Values for Participant 8",
              "xaxis": {
               "title": "Day"
              },
              "yaxis": {
               "title": "Mood Value"
              }
             }
            ],
            "label": "8",
            "method": "update"
           },
           {
            "args": [
             {
              "visible": [
               false,
               false,
               false,
               false,
               false,
               false,
               false,
               false,
               false,
               false,
               false,
               false,
               false,
               false,
               true,
               true,
               false,
               false,
               false,
               false,
               false,
               false,
               false,
               false,
               false,
               false,
               false,
               false,
               false,
               false,
               false,
               false,
               false,
               false
              ]
             },
             {
              "title": "Real vs Predicted Mood Values for Participant 9",
              "xaxis": {
               "title": "Day"
              },
              "yaxis": {
               "title": "Mood Value"
              }
             }
            ],
            "label": "9",
            "method": "update"
           },
           {
            "args": [
             {
              "visible": [
               false,
               false,
               false,
               false,
               false,
               false,
               false,
               false,
               false,
               false,
               false,
               false,
               false,
               false,
               false,
               false,
               true,
               true,
               false,
               false,
               false,
               false,
               false,
               false,
               false,
               false,
               false,
               false,
               false,
               false,
               false,
               false,
               false,
               false
              ]
             },
             {
              "title": "Real vs Predicted Mood Values for Participant 12",
              "xaxis": {
               "title": "Day"
              },
              "yaxis": {
               "title": "Mood Value"
              }
             }
            ],
            "label": "12",
            "method": "update"
           },
           {
            "args": [
             {
              "visible": [
               false,
               false,
               false,
               false,
               false,
               false,
               false,
               false,
               false,
               false,
               false,
               false,
               false,
               false,
               false,
               false,
               false,
               false,
               true,
               true,
               false,
               false,
               false,
               false,
               false,
               false,
               false,
               false,
               false,
               false,
               false,
               false,
               false,
               false
              ]
             },
             {
              "title": "Real vs Predicted Mood Values for Participant 13",
              "xaxis": {
               "title": "Day"
              },
              "yaxis": {
               "title": "Mood Value"
              }
             }
            ],
            "label": "13",
            "method": "update"
           },
           {
            "args": [
             {
              "visible": [
               false,
               false,
               false,
               false,
               false,
               false,
               false,
               false,
               false,
               false,
               false,
               false,
               false,
               false,
               false,
               false,
               false,
               false,
               false,
               false,
               true,
               true,
               false,
               false,
               false,
               false,
               false,
               false,
               false,
               false,
               false,
               false,
               false,
               false
              ]
             },
             {
              "title": "Real vs Predicted Mood Values for Participant 14",
              "xaxis": {
               "title": "Day"
              },
              "yaxis": {
               "title": "Mood Value"
              }
             }
            ],
            "label": "14",
            "method": "update"
           },
           {
            "args": [
             {
              "visible": [
               false,
               false,
               false,
               false,
               false,
               false,
               false,
               false,
               false,
               false,
               false,
               false,
               false,
               false,
               false,
               false,
               false,
               false,
               false,
               false,
               false,
               false,
               true,
               true,
               false,
               false,
               false,
               false,
               false,
               false,
               false,
               false,
               false,
               false
              ]
             },
             {
              "title": "Real vs Predicted Mood Values for Participant 15",
              "xaxis": {
               "title": "Day"
              },
              "yaxis": {
               "title": "Mood Value"
              }
             }
            ],
            "label": "15",
            "method": "update"
           },
           {
            "args": [
             {
              "visible": [
               false,
               false,
               false,
               false,
               false,
               false,
               false,
               false,
               false,
               false,
               false,
               false,
               false,
               false,
               false,
               false,
               false,
               false,
               false,
               false,
               false,
               false,
               false,
               false,
               true,
               true,
               false,
               false,
               false,
               false,
               false,
               false,
               false,
               false
              ]
             },
             {
              "title": "Real vs Predicted Mood Values for Participant 16",
              "xaxis": {
               "title": "Day"
              },
              "yaxis": {
               "title": "Mood Value"
              }
             }
            ],
            "label": "16",
            "method": "update"
           },
           {
            "args": [
             {
              "visible": [
               false,
               false,
               false,
               false,
               false,
               false,
               false,
               false,
               false,
               false,
               false,
               false,
               false,
               false,
               false,
               false,
               false,
               false,
               false,
               false,
               false,
               false,
               false,
               false,
               false,
               false,
               true,
               true,
               false,
               false,
               false,
               false,
               false,
               false
              ]
             },
             {
              "title": "Real vs Predicted Mood Values for Participant 17",
              "xaxis": {
               "title": "Day"
              },
              "yaxis": {
               "title": "Mood Value"
              }
             }
            ],
            "label": "17",
            "method": "update"
           },
           {
            "args": [
             {
              "visible": [
               false,
               false,
               false,
               false,
               false,
               false,
               false,
               false,
               false,
               false,
               false,
               false,
               false,
               false,
               false,
               false,
               false,
               false,
               false,
               false,
               false,
               false,
               false,
               false,
               false,
               false,
               false,
               false,
               true,
               true,
               false,
               false,
               false,
               false
              ]
             },
             {
              "title": "Real vs Predicted Mood Values for Participant 19",
              "xaxis": {
               "title": "Day"
              },
              "yaxis": {
               "title": "Mood Value"
              }
             }
            ],
            "label": "19",
            "method": "update"
           },
           {
            "args": [
             {
              "visible": [
               false,
               false,
               false,
               false,
               false,
               false,
               false,
               false,
               false,
               false,
               false,
               false,
               false,
               false,
               false,
               false,
               false,
               false,
               false,
               false,
               false,
               false,
               false,
               false,
               false,
               false,
               false,
               false,
               false,
               false,
               true,
               true,
               false,
               false
              ]
             },
             {
              "title": "Real vs Predicted Mood Values for Participant 20",
              "xaxis": {
               "title": "Day"
              },
              "yaxis": {
               "title": "Mood Value"
              }
             }
            ],
            "label": "20",
            "method": "update"
           },
           {
            "args": [
             {
              "visible": [
               false,
               false,
               false,
               false,
               false,
               false,
               false,
               false,
               false,
               false,
               false,
               false,
               false,
               false,
               false,
               false,
               false,
               false,
               false,
               false,
               false,
               false,
               false,
               false,
               false,
               false,
               false,
               false,
               false,
               false,
               false,
               false,
               true,
               true
              ]
             },
             {
              "title": "Real vs Predicted Mood Values for Participant 23",
              "xaxis": {
               "title": "Day"
              },
              "yaxis": {
               "title": "Mood Value"
              }
             }
            ],
            "label": "23",
            "method": "update"
           }
          ],
          "showactive": true,
          "x": 1.1,
          "y": 1
         }
        ],
        "xaxis": {
         "title": {
          "text": "Day"
         }
        },
        "yaxis": {
         "title": {
          "text": "Mood Value"
         }
        }
       }
      }
     },
     "metadata": {},
     "output_type": "display_data"
    },
    {
     "name": "stdout",
     "output_type": "stream",
     "text": [
      "MAE: 0.5745933055877686, RMSE: 0.7502203458717475, R2: -0.024923086166381836\n"
     ]
    }
   ],
   "source": [
    "# Call the function to predict and plot\n",
    "# predict_and_plot(model, train_loader, train_dataset, target_scaler=scaler_target, show_plot=True, save_html=True, title=\"train\", scaler_type=SCALER_TYPE)\n",
    "df_results, mae, rmse, r2 = predict_and_plot(model, test_loader, test_dataset, target_scaler=scaler_target, show_plot=True, save_html=True, title=\"test\", scaler_type=SCALER_TYPE)"
   ]
  },
  {
   "cell_type": "code",
   "execution_count": null,
   "metadata": {},
   "outputs": [],
   "source": [
    "# calculate R2, MAE, RMSE\n",
    "from sklearn.metrics import r2_score, mean_absolute_error, mean_squared_error\n",
    "def calculate_metrics(y_true, y_pred):\n",
    "    r2 = r2_score(y_true, y_pred)\n",
    "    mae = mean_absolute_error(y_true, y_pred)\n",
    "    rmse = np.sqrt(mean_squared_error(y_true, y_pred))\n",
    "    return r2, mae, rmse\n",
    "calculate_metrics(train_df_normalized[\"mood\"].values, all_predictions)"
   ]
  }
 ],
 "metadata": {
  "kernelspec": {
   "display_name": "datascience",
   "language": "python",
   "name": "python3"
  },
  "language_info": {
   "codemirror_mode": {
    "name": "ipython",
    "version": 3
   },
   "file_extension": ".py",
   "mimetype": "text/x-python",
   "name": "python",
   "nbconvert_exporter": "python",
   "pygments_lexer": "ipython3",
   "version": "3.10.16"
  }
 },
 "nbformat": 4,
 "nbformat_minor": 2
}
