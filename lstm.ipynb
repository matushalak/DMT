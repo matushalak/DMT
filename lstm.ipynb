{
 "cells": [
  {
   "cell_type": "markdown",
   "metadata": {},
   "source": [
    "# MODELING"
   ]
  },
  {
   "cell_type": "code",
   "execution_count": 631,
   "metadata": {},
   "outputs": [],
   "source": [
    "import numpy as np\n",
    "import matplotlib.pyplot as plt\n",
    "import scipy.stats as stats\n",
    "import seaborn as sns\n",
    "import pandas as pd\n",
    "import os\n",
    "import plotly.graph_objects as go\n",
    "from plotly.subplots import make_subplots\n",
    "import itertools\n",
    "\n",
    "from sklearn.metrics import r2_score, mean_absolute_error, mean_squared_error\n",
    "\n",
    "import torch\n",
    "from torch.utils.data import DataLoader, Dataset\n",
    "from sklearn.model_selection import train_test_split\n",
    "from sklearn.preprocessing import StandardScaler, MinMaxScaler\n",
    "from torch import nn\n",
    "import torch.optim as optim\n",
    "import time"
   ]
  },
  {
   "cell_type": "markdown",
   "metadata": {},
   "source": [
    "#### Add Mac acceleration"
   ]
  },
  {
   "cell_type": "code",
   "execution_count": 632,
   "metadata": {},
   "outputs": [
    {
     "name": "stdout",
     "output_type": "stream",
     "text": [
      "tensor([1.], device='mps:0')\n"
     ]
    }
   ],
   "source": [
    "if torch.backends.mps.is_available():\n",
    "    mps_device = torch.device(\"mps\")\n",
    "    x = torch.ones(1, device=mps_device)\n",
    "    print (x)\n",
    "else:\n",
    "    print (\"MPS device not found.\")"
   ]
  },
  {
   "cell_type": "markdown",
   "metadata": {},
   "source": [
    "### Dataset class"
   ]
  },
  {
   "cell_type": "code",
   "execution_count": 633,
   "metadata": {},
   "outputs": [],
   "source": [
    "class MultiParticipantDataset(Dataset):\n",
    "    def __init__(self, df, seq_length, target_col='mood', id_col='id_num', include_target_in_features=True):\n",
    "        \"\"\"\n",
    "        df: pandas DataFrame sorted by time.\n",
    "        seq_length: number of time steps in each sample.\n",
    "        target_col: the column we want to predict.\n",
    "        \"\"\"\n",
    "        df = df.drop(columns=[\"next_day\", \"next_day_mood\", \"date\"])\n",
    "        \n",
    "        self.seq_length = seq_length\n",
    "        self.target_col = target_col\n",
    "        self.id_col = id_col\n",
    "        \n",
    "        df.sort_values(by=[id_col, 'day'], inplace=True)\n",
    "        self.data = df.reset_index(drop=True)\n",
    "\n",
    "        if include_target_in_features:\n",
    "            self.features = [col for col in self.data.columns if col not in [target_col, \"day\"]]\n",
    "        else:\n",
    "            self.features = [col for col in self.data.columns if col not in [target_col, id_col, \"day\"]]\n",
    "\n",
    "        # Precompute valid indices where the sequence is within the same participant.\n",
    "        self.valid_indices = []\n",
    "        for i in range(len(self.data) - self.seq_length):\n",
    "            participant_id = self.data.iloc[i][self.id_col]\n",
    "            if all(self.data.iloc[i:i+self.seq_length][self.id_col] == participant_id):\n",
    "                self.valid_indices.append(i)\n",
    "\n",
    "    def __len__(self):\n",
    "        return len(self.valid_indices)\n",
    "\n",
    "    def __getitem__(self, idx):\n",
    "        # Use precomputed valid index.\n",
    "        real_idx = self.valid_indices[idx]\n",
    "        row = self.data.iloc[real_idx]\n",
    "        participant_id = row[self.id_col]\n",
    "        \n",
    "        x_features = self.data.iloc[real_idx:real_idx+self.seq_length][self.features].values.astype(np.float32)\n",
    "        x_id = np.array([participant_id] * self.seq_length, dtype=np.int64)\n",
    "        \n",
    "        # The target is the next time step's mood\n",
    "        y = self.data.iloc[real_idx+self.seq_length][self.target_col]\n",
    "        \n",
    "        return torch.tensor(x_features),torch.tensor(x_id), torch.tensor(y).float()\n"
   ]
  },
  {
   "cell_type": "markdown",
   "metadata": {},
   "source": [
    "### Load df"
   ]
  },
  {
   "cell_type": "code",
   "execution_count": 634,
   "metadata": {},
   "outputs": [],
   "source": [
    "df = pd.read_csv(\"tables/preprocessed/df_interpolated.csv\")\n",
    "\n",
    "dataset_name = \"df_interpolated\"\n",
    "dropped_vars = [\"\"]\n",
    "imputation = \"linear interpolation\"\n",
    "\n",
    "# df = pd.read_csv(\"tables/preprocessed/df_drop_appCat.csv\")\n",
    "\n",
    "# dataset_name = \"df_drop_appCat\"\n",
    "# dropped_vars = [\"appCat\", \"sms\", \"call\"]\n",
    "# imputation = \"drop appCat\""
   ]
  },
  {
   "cell_type": "markdown",
   "metadata": {},
   "source": [
    "### Train test split"
   ]
  },
  {
   "cell_type": "code",
   "execution_count": 635,
   "metadata": {},
   "outputs": [
    {
     "name": "stdout",
     "output_type": "stream",
     "text": [
      "Train mood descriptives\n",
      "count    1024.000000\n",
      "mean        6.994181\n",
      "std         0.731078\n",
      "min         3.000000\n",
      "25%         6.600000\n",
      "50%         7.000000\n",
      "75%         7.500000\n",
      "max         9.333333\n",
      "Name: mood, dtype: float64\n",
      "Test mood descriptives\n",
      "count    272.000000\n",
      "mean       7.014920\n",
      "std        0.733379\n",
      "min        4.800000\n",
      "25%        6.666667\n",
      "50%        7.000000\n",
      "75%        7.500000\n",
      "max        9.000000\n",
      "Name: mood, dtype: float64\n"
     ]
    }
   ],
   "source": [
    "dfs_train = []\n",
    "dfs_test = []\n",
    "proportion_train = 0.8\n",
    "\n",
    "for participant, group in df.groupby('id_num'):\n",
    "    group = group.sort_values(by='day')\n",
    "    # Calculate the split index based on the proportion\n",
    "    split_idx = int(len(group) * proportion_train)\n",
    "    # Ensure that the test set has at least seq_length + 1 samples\n",
    "    if len(group) - split_idx < seq_length + 1:\n",
    "        # Adjust the split index accordingly\n",
    "        split_idx = len(group) - (seq_length + 1)\n",
    "    if split_idx <= 0:\n",
    "        # Option: Skip this participant if not enough data\n",
    "        continue\n",
    "    dfs_train.append(group.iloc[:split_idx])\n",
    "    dfs_test.append(group.iloc[split_idx:])\n",
    "\n",
    "train_df = pd.concat(dfs_train)\n",
    "test_df = pd.concat(dfs_test)\n",
    "\n",
    "# SPLIT ACROSS PARTICIPANTS\n",
    "\n",
    "# # Extract unique participant IDs\n",
    "# participant_ids = df['id_num'].unique()\n",
    "\n",
    "# # Split participants (e.g., 80% train, 20% test)\n",
    "# train_ids, test_ids = train_test_split(participant_ids, test_size=0.2, random_state=42)\n",
    "# print(f\"Train IDs: {train_ids}\")\n",
    "# print(f\"Test IDs: {test_ids}\")\n",
    "\n",
    "# # Filter the original DataFrame based on these IDs\n",
    "# train_df = df[df['id_num'].isin(train_ids)].copy()\n",
    "# test_df = df[df['id_num'].isin(test_ids)].copy()\n",
    "\n",
    "# # Optional: sort your data by participant and day if not already sorted\n",
    "# train_df.sort_values(by=['id_num', 'day'], inplace=True)\n",
    "# test_df.sort_values(by=['id_num', 'day'], inplace=True)\n",
    "\n",
    "\n",
    "# get mood descriptives\n",
    "print(\"Train mood descriptives\")\n",
    "print(train_df[\"mood\"].describe())\n",
    "print(\"Test mood descriptives\")\n",
    "print(test_df[\"mood\"].describe())\n",
    "\n",
    "# get the start end end dates per participant per df\n",
    "train_start_dates = train_df.groupby('id_num')['day'].min()\n",
    "train_end_dates = train_df.groupby('id_num')['day'].max()\n",
    "test_start_dates = test_df.groupby('id_num')['day'].min()\n",
    "test_end_dates = test_df.groupby('id_num')['day'].max()\n",
    "\n",
    "# put in a dataframe with participant train start end and test start end\n",
    "dates_df = pd.DataFrame({\n",
    "    \"participant\": train_start_dates.index,\n",
    "    \"train_start\": train_start_dates.values,\n",
    "    \"train_end\": train_end_dates.values,\n",
    "    \"test_start\": test_start_dates.values,\n",
    "    \"test_end\": test_end_dates.values,\n",
    "})\n",
    "\n",
    "dates_df.to_csv(\"tables/training_dates_split.csv\", index=False)"
   ]
  },
  {
   "cell_type": "markdown",
   "metadata": {},
   "source": [
    "### Normalize"
   ]
  },
  {
   "cell_type": "code",
   "execution_count": 636,
   "metadata": {},
   "outputs": [
    {
     "name": "stdout",
     "output_type": "stream",
     "text": [
      "Train shape: (1024, 29), Test shape: (272, 29)\n"
     ]
    }
   ],
   "source": [
    "def normalize(df, scaler=None, scaler_target=None, transform_target=False, scaler_type=\"StandardScaler\"):\n",
    "    df = df.copy()\n",
    "    features = [col for col in df.columns if col not in ['id_num', 'day', \"date\", \"next_day_mood\", \"next_day\", \"mood\"]]\n",
    "    \n",
    "    if scaler is None:\n",
    "        if scaler_type == \"StandardScaler\":\n",
    "            scaler = StandardScaler()\n",
    "        elif scaler_type == \"MinMaxScaler\":\n",
    "            scaler = MinMaxScaler()\n",
    "    \n",
    "    # Scale the features\n",
    "    df[features] = scaler.fit_transform(df[features])\n",
    "    \n",
    "    if transform_target:\n",
    "        if scaler_target is None:\n",
    "            if scaler_type == \"StandardScaler\":\n",
    "                scaler_target = StandardScaler()\n",
    "            elif scaler_type == \"MinMaxScaler\":\n",
    "                scaler_target = MinMaxScaler()\n",
    "\n",
    "        # Scale only the target column \"mood\"\n",
    "        df[\"mood\"] = scaler_target.fit_transform(df[[\"mood\"]])\n",
    "\n",
    "        # print(\"scaler properties:\")\n",
    "        # print(scaler.mean_)\n",
    "        # print(scaler.scale_)\n",
    "        if scaler_type == \"StandardScaler\":\n",
    "            print(\"scaler properties:\")\n",
    "            print(scaler.mean_)\n",
    "            print(scaler.scale_)\n",
    "        \n",
    "        return df, scaler, scaler_target\n",
    "    else:\n",
    "        return df, scaler, None\n",
    "\n",
    "# def denormalize(df, scaler, scaler_target=None):\n",
    "\n",
    "#     features = [col for col in df.columns if col not in ['id_num', 'day', \"date\", \"next_day_mood\", \"next_day\", \"mood\"]]\n",
    "    \n",
    "#     # Inverse transform the features\n",
    "#     df[features] = scaler.inverse_transform(df[features])\n",
    "    \n",
    "#     if scaler_target is not None:\n",
    "#         # Inverse transform the target column \"mood\"\n",
    "#         df[\"mood\"] = scaler_target.inverse_transform(df[[\"mood\"]])\n",
    "    \n",
    "    # return df\n",
    "\n",
    "TRANSFORM_TARGET = True\n",
    "SCALER_TYPE = \"MinMaxScaler\"\n",
    "# SCALER_TYPE = \"StandardScaler\"\n",
    "# Normalize the training and test data\n",
    "train_df_normalized, scaler, scaler_target = normalize(train_df, scaler=None, scaler_target=None, transform_target=TRANSFORM_TARGET, scaler_type=SCALER_TYPE)\n",
    "test_df_normalized, _, _ = normalize(test_df, scaler=scaler, scaler_target=scaler_target, transform_target=TRANSFORM_TARGET, scaler_type=SCALER_TYPE)\n",
    "\n",
    "print(f\"Train shape: {train_df_normalized.shape}, Test shape: {test_df_normalized.shape}\") # Train shape: (1230, 24), Test shape: (307, 24)\n",
    "\n"
   ]
  },
  {
   "cell_type": "markdown",
   "metadata": {},
   "source": [
    "### Create dataset"
   ]
  },
  {
   "cell_type": "code",
   "execution_count": 637,
   "metadata": {},
   "outputs": [
    {
     "name": "stdout",
     "output_type": "stream",
     "text": [
      "Number of batches in train_loader: 29\n",
      "Number of batches in test_loader: 6\n",
      "x shape: torch.Size([32, 5, 24]), x_id shape: torch.Size([32, 5]), y shape: torch.Size([32])\n"
     ]
    }
   ],
   "source": [
    "\n",
    "# Create the dataset\n",
    "seq_length = 5\n",
    "batch_size = 32\n",
    "train_dataset = MultiParticipantDataset(train_df_normalized, seq_length=seq_length)\n",
    "test_dataset = MultiParticipantDataset(test_df_normalized, seq_length=seq_length)\n",
    "\n",
    "# Create DataLoader\n",
    "train_loader = DataLoader(train_dataset, batch_size=batch_size, shuffle=True)\n",
    "test_loader = DataLoader(test_dataset, batch_size=batch_size, shuffle=True)\n",
    "\n",
    "# Check the shape of the data\n",
    "print(f\"Number of batches in train_loader: {len(train_loader)}\")\n",
    "print(f\"Number of batches in test_loader: {len(test_loader)}\")\n",
    "for x, x_id, y in train_loader:\n",
    "    print(f\"x shape: {x.shape}, x_id shape: {x_id.shape}, y shape: {y.shape}\")\n",
    "    break\n",
    "# 32 sequences in a batch, each with 5 time steps and 24 features\n"
   ]
  },
  {
   "cell_type": "markdown",
   "metadata": {},
   "source": [
    "### define lstm model"
   ]
  },
  {
   "cell_type": "code",
   "execution_count": 638,
   "metadata": {},
   "outputs": [],
   "source": [
    "class LSTMModel(nn.Module):\n",
    "    def __init__(self, input_dim, hidden_dim, num_layers, output_dim):\n",
    "        super(LSTMModel, self).__init__()\n",
    "        self.hidden_dim = hidden_dim\n",
    "        self.num_layers = num_layers\n",
    "        \n",
    "        # LSTM layer; batch_first=True expects input shape: (batch, seq, feature)\n",
    "        self.lstm = nn.LSTM(input_dim, hidden_dim, num_layers, batch_first=True)\n",
    "        \n",
    "        # Fully-connected layer to output the final prediction\n",
    "        self.fc = nn.Linear(hidden_dim, output_dim)\n",
    "        \n",
    "    def forward(self, x):\n",
    "        # x: [batch_size, seq_length, input_dim]\n",
    "        # Initialize hidden and cell states with zeros\n",
    "        h0 = torch.zeros(self.num_layers, x.size(0), self.hidden_dim).to(x.device)\n",
    "        c0 = torch.zeros(self.num_layers, x.size(0), self.hidden_dim).to(x.device)\n",
    "        \n",
    "        # Forward propagate LSTM\n",
    "        out, _ = self.lstm(x, (h0, c0))\n",
    "        \n",
    "        # Use the last time step's output for prediction\n",
    "        out = self.fc(out[:, -1, :])\n",
    "        return out\n",
    "\n",
    "\n",
    "\n",
    "class LSTMModel2(nn.Module):\n",
    "    def __init__(self, input_dim, hidden_dim=64, num_layers=2, output_dim=1, dropout=0.2):\n",
    "        super(LSTMModel2, self).__init__()\n",
    "        self.hidden_dim = hidden_dim\n",
    "        self.num_layers = num_layers\n",
    "        \n",
    "        # Two-layer LSTM with dropout applied to outputs of each layer (except the last)\n",
    "        self.lstm = nn.LSTM(input_dim, hidden_dim, num_layers, batch_first=True, dropout=dropout)\n",
    "        \n",
    "        # Fully-connected layer to output the final prediction\n",
    "        self.fc = nn.Linear(hidden_dim, output_dim)\n",
    "        \n",
    "    def forward(self, x):\n",
    "        # x: [batch_size, seq_length, input_dim]\n",
    "        batch_size = x.size(0)\n",
    "        \n",
    "        # Initialize hidden and cell states with zeros\n",
    "        h0 = torch.zeros(self.num_layers, batch_size, self.hidden_dim).to(x.device)\n",
    "        c0 = torch.zeros(self.num_layers, batch_size, self.hidden_dim).to(x.device)\n",
    "        \n",
    "        # Forward propagate LSTM; out shape: [batch_size, seq_length, hidden_dim]\n",
    "        out, _ = self.lstm(x, (h0, c0))\n",
    "        \n",
    "        # Use the last time step's output for prediction; shape: [batch_size, hidden_dim]\n",
    "        out = out[:, -1, :]\n",
    "        out = self.fc(out)  # shape: [batch_size, output_dim]\n",
    "        return out\n",
    "\n",
    "class GRUModel(nn.Module):\n",
    "    def __init__(self, input_dim, hidden_dim=64, num_layers=2, output_dim=1, dropout=0.2):\n",
    "        super(GRUModel, self).__init__()\n",
    "        self.hidden_dim = hidden_dim\n",
    "        self.num_layers = num_layers\n",
    "        \n",
    "        # Two-layer GRU with dropout applied between layers (if num_layers > 1)\n",
    "        self.gru = nn.GRU(input_dim, hidden_dim, num_layers, \n",
    "                          batch_first=True, dropout=dropout)\n",
    "        \n",
    "        # Fully-connected output layer\n",
    "        self.fc = nn.Linear(hidden_dim, output_dim)\n",
    "        \n",
    "    def forward(self, x):\n",
    "        # x shape: [batch_size, seq_length, input_dim]\n",
    "        batch_size = x.size(0)\n",
    "        \n",
    "        # Initialize hidden state with zeros\n",
    "        h0 = torch.zeros(self.num_layers, batch_size, self.hidden_dim).to(x.device)\n",
    "        \n",
    "        # Forward propagate through GRU\n",
    "        out, _ = self.gru(x, h0)  # out shape: [batch_size, seq_length, hidden_dim]\n",
    "        \n",
    "        # Use the output from the last time step for prediction\n",
    "        out = out[:, -1, :]  # shape: [batch_size, hidden_dim]\n",
    "        out = self.fc(out)   # shape: [batch_size, output_dim]\n",
    "        return out\n"
   ]
  },
  {
   "cell_type": "markdown",
   "metadata": {},
   "source": [
    "### Train loop"
   ]
  },
  {
   "cell_type": "code",
   "execution_count": 639,
   "metadata": {},
   "outputs": [
    {
     "name": "stdout",
     "output_type": "stream",
     "text": [
      "Epoch [1/20], Train Loss: 0.0350, Eval Loss: 0.0407\n",
      "Epoch [2/20], Train Loss: 0.0138, Eval Loss: 0.0334\n",
      "Epoch [3/20], Train Loss: 0.0134, Eval Loss: 0.0334\n",
      "Epoch [4/20], Train Loss: 0.0129, Eval Loss: 0.0346\n",
      "Epoch [5/20], Train Loss: 0.0130, Eval Loss: 0.0312\n",
      "Epoch [6/20], Train Loss: 0.0127, Eval Loss: 0.0321\n",
      "Epoch [7/20], Train Loss: 0.0127, Eval Loss: 0.0290\n",
      "Epoch [8/20], Train Loss: 0.0129, Eval Loss: 0.0338\n",
      "Epoch [9/20], Train Loss: 0.0123, Eval Loss: 0.0348\n",
      "Epoch [10/20], Train Loss: 0.0121, Eval Loss: 0.0337\n",
      "Epoch [11/20], Train Loss: 0.0123, Eval Loss: 0.0306\n",
      "Epoch [12/20], Train Loss: 0.0127, Eval Loss: 0.0320\n",
      "Epoch [13/20], Train Loss: 0.0124, Eval Loss: 0.0427\n",
      "Epoch [14/20], Train Loss: 0.0121, Eval Loss: 0.0326\n",
      "Epoch [15/20], Train Loss: 0.0122, Eval Loss: 0.0317\n",
      "Epoch [16/20], Train Loss: 0.0123, Eval Loss: 0.0311\n",
      "Epoch [17/20], Train Loss: 0.0116, Eval Loss: 0.0334\n",
      "Epoch [18/20], Train Loss: 0.0120, Eval Loss: 0.0285\n",
      "Epoch [19/20], Train Loss: 0.0117, Eval Loss: 0.0280\n",
      "Epoch [20/20], Train Loss: 0.0118, Eval Loss: 0.0340\n"
     ]
    },
    {
     "data": {
      "image/png": "[encoded data removed]",
      "text/plain": [
       "<Figure size 1200x600 with 1 Axes>"
      ]
     },
     "metadata": {},
     "output_type": "display_data"
    },
    {
     "data": {
      "image/png": "[encoded data removed]",
      "text/plain": [
       "<Figure size 1200x600 with 1 Axes>"
      ]
     },
     "metadata": {},
     "output_type": "display_data"
    },
    {
     "data": {
      "image/png": "[encoded data removed]",
      "text/plain": [
       "<Figure size 1000x500 with 1 Axes>"
      ]
     },
     "metadata": {},
     "output_type": "display_data"
    },
    {
     "name": "stdout",
     "output_type": "stream",
     "text": [
      "{'dataset': 'df_interpolated', 'dropped_vars': [''], 'imputation': 'linear interpolation', 'model': 'GRU', 'sequence_length': 5, 'scaler': 'MinMaxScaler', 'scaler_target': True, 'batch_size': 32, 'input_dim': 24, 'hidden_dim': 64, 'num_layers': 2, 'output_dim': 1, 'dropout': 0.2, 'num_epochs': 20, 'learning_rate': 0.001, 'train_loss': 0.011827934356727477, 'eval_loss': 0.03402904669443766, 'Features': ['id_num', 'screen', 'activity', 'activity_max', 'circumplex.valence', 'circumplex.valence_min', 'circumplex.valence_max', 'circumplex.arousal', 'circumplex.arousal_min', 'circumplex.arousal_max', 'call', 'sms', 'appCat.builtin', 'appCat.communication', 'appCat.entertainment', 'appCat.finance', 'appCat.game', 'appCat.office', 'appCat.other', 'appCat.social', 'appCat.travel', 'appCat.unknown', 'appCat.utilities', 'appCat.weather'], 'timestamp': '2025-04-07 14:51:23'}\n"
     ]
    }
   ],
   "source": [
    "# Hyperparameters\n",
    "input_dim = len(train_dataset.features)  # e.g., 24\n",
    "hidden_dim = 64             # Number of LSTM units\n",
    "num_layers = 2\n",
    "output_dim = 1                   # For regression (predicting a single value)\n",
    "num_epochs = 20\n",
    "learning_rate = 0.001\n",
    "dropout = 0.2\n",
    "\n",
    "# Initialize model, loss function, and optimizer\n",
    "# model = LSTMModel(input_dim, hidden_dim, num_layers, output_dim)\n",
    "model = LSTMModel2(input_dim, hidden_dim, num_layers, output_dim, dropout)\n",
    "# model = GRUModel(input_dim, hidden_dim, num_layers, output_dim, dropout)\n",
    "\n",
    "model = model.to(mps_device)\n",
    "\n",
    "criterion = nn.MSELoss()\n",
    "optimizer = optim.Adam(model.parameters(), lr=learning_rate) # weight_decay=1e-5)\n",
    "\n",
    "# Prepare lists to store loss values for plotting\n",
    "train_epoch_losses = []\n",
    "eval_epoch_losses = []\n",
    "batch_losses = []\n",
    "grad_norms = []  # list to store gradient norms for each batch\n",
    "clipped_grad_norms = []  # list to store clipped gradient norms for each batch\n",
    "\n",
    "\n",
    "# Training and evaluation loop\n",
    "for epoch in range(num_epochs):\n",
    "    model.train()\n",
    "    train_loss_epoch = 0.0\n",
    "\n",
    "    # --- Training ---\n",
    "    for batch in train_loader:\n",
    "        x_features, x_id, y = batch  # x_features: [batch, seq_length, input_dim]\n",
    "        x_features = x_features.to(mps_device)\n",
    "        x_id = x_id.to(mps_device)\n",
    "        y = y.to(mps_device)  # y: [batch, output_dim]\n",
    "        \n",
    "        # Forward pass\n",
    "        outputs = model(x_features)  # outputs shape: [batch, output_dim]\n",
    "        loss = criterion(outputs.squeeze(), y)\n",
    "\n",
    "        batch_losses.append(loss.item())\n",
    "        \n",
    "        # Backprop and optimization\n",
    "        optimizer.zero_grad()\n",
    "        loss.backward()\n",
    "\n",
    "        # Compute total gradient norm\n",
    "        total_norm = 0.0\n",
    "        for p in model.parameters():\n",
    "            if p.grad is not None:\n",
    "                param_norm = p.grad.data.norm(2)\n",
    "                total_norm += param_norm.item() ** 2\n",
    "        total_norm = total_norm ** 0.5\n",
    "        grad_norms.append(total_norm)\n",
    "        # Clip gradients\n",
    "        # torch.nn.utils.clip_grad_norm_(model.parameters(), max_norm=1)  # or another max_norm value\n",
    "\n",
    "        # Compute clipped gradient norm\n",
    "        clipped_grad_norm = 0.0\n",
    "        for p in model.parameters():\n",
    "            if p.grad is not None:\n",
    "                param_norm = p.grad.data.norm(2)\n",
    "                clipped_grad_norm += param_norm.item() ** 2\n",
    "        clipped_grad_norm = clipped_grad_norm ** 0.5\n",
    "        clipped_grad_norms.append(clipped_grad_norm)\n",
    "\n",
    "        optimizer.step()\n",
    "        \n",
    "        train_loss_epoch += loss.item()\n",
    "    \n",
    "    avg_train_loss = train_loss_epoch / len(train_loader)\n",
    "    train_epoch_losses.append(avg_train_loss)\n",
    "    \n",
    "    # --- Evaluation ---\n",
    "    model.eval()\n",
    "    eval_loss_epoch = 0.0\n",
    "    with torch.no_grad():\n",
    "        for batch in test_loader:\n",
    "            x_features, x_id, y = batch\n",
    "            x_features = x_features.to(mps_device)\n",
    "            x_id = x_id.to(mps_device)\n",
    "            y = y.to(mps_device)\n",
    "            outputs = model(x_features)\n",
    "            loss = criterion(outputs.squeeze(), y)\n",
    "            eval_loss_epoch += loss.item()\n",
    "    \n",
    "    avg_eval_loss = eval_loss_epoch / len(test_loader)\n",
    "    eval_epoch_losses.append(avg_eval_loss)\n",
    "    \n",
    "    print(f\"Epoch [{epoch+1}/{num_epochs}], Train Loss: {avg_train_loss:.4f}, Eval Loss: {avg_eval_loss:.4f}\")\n",
    "\n",
    "# Plot the training and evaluation loss curves\n",
    "sns.set(style=\"whitegrid\")\n",
    "plt.figure(figsize=(12, 6))\n",
    "plt.plot(range(1, num_epochs+1), train_epoch_losses, label='Train Loss', marker='o')\n",
    "plt.plot(range(1, num_epochs+1), eval_epoch_losses, label='Eval Loss', marker='o')\n",
    "plt.xlabel(\"Epoch\")\n",
    "plt.ylabel(\"Loss (MSE)\")\n",
    "plt.title(\"Training and Evaluation Loss Over Epochs\")\n",
    "plt.legend()\n",
    "plt.show()\n",
    "\n",
    "# plot batch losses\n",
    "plt.figure(figsize=(12, 6))\n",
    "plt.plot(batch_losses, label='Batch Loss')\n",
    "plt.xlabel(\"Batch\")\n",
    "plt.ylabel(\"Loss (MSE)\")\n",
    "plt.title(\"Batch Loss Over Training\")\n",
    "plt.legend()\n",
    "plt.show()\n",
    "\n",
    "# plot gradient norms\n",
    "plt.figure(figsize=(10, 5))\n",
    "plt.plot(grad_norms)\n",
    "plt.plot(clipped_grad_norms)\n",
    "plt.legend([\"Gradient Norm\", \"Clipped Gradient Norm\"])\n",
    "plt.xlabel(\"Batch iteration\")\n",
    "plt.ylabel(\"Gradient Norm (L2)\")\n",
    "plt.title(\"Gradient Norms during Training\")\n",
    "plt.show()\n",
    "\n",
    "\n",
    "\n",
    "# append the csv with hyperparameters and losses\n",
    "hyperparameters = {\n",
    "    \"dataset\": dataset_name,\n",
    "    \"dropped_vars\": dropped_vars,\n",
    "    \"imputation\": imputation,\n",
    "    \"model\": \"GRU\",\n",
    "    \"sequence_length\": seq_length,\n",
    "    \"scaler\": SCALER_TYPE,\n",
    "    \"scaler_target\": TRANSFORM_TARGET,\n",
    "    \"batch_size\": batch_size,\n",
    "    \"input_dim\": input_dim,\n",
    "    \"hidden_dim\": hidden_dim,\n",
    "    \"num_layers\": num_layers,\n",
    "    \"output_dim\": output_dim,\n",
    "    \"dropout\": dropout,\n",
    "    \"num_epochs\": num_epochs,\n",
    "    \"learning_rate\": learning_rate,\n",
    "    \"train_loss\": train_epoch_losses[-1],\n",
    "    \"eval_loss\": eval_epoch_losses[-1],\n",
    "    \"Features\": train_dataset.features,\n",
    "    \"timestamp\": time.strftime(\"%Y-%m-%d %H:%M:%S\"),\n",
    "}\n",
    "print(hyperparameters)\n",
    "hyperparameters_df = pd.DataFrame([hyperparameters])\n",
    "if not os.path.exists(\"tables/hyperparameters2.csv\"):\n",
    "    # create the csv with the hyperparameters\n",
    "    hyperparameters_df.to_csv(\"tables/hyperparameters2.csv\", index=False, header=True)\n",
    "hyperparameters_df = pd.DataFrame([hyperparameters])\n",
    "hyperparameters_df.to_csv(\"tables/hyperparameters2.csv\", mode='a', header=False, index=False)\n"
   ]
  },
  {
   "cell_type": "markdown",
   "metadata": {},
   "source": [
    "### Predict and plot function"
   ]
  },
  {
   "cell_type": "code",
   "execution_count": 640,
   "metadata": {},
   "outputs": [],
   "source": [
    "\n",
    "def predict_and_plot(model, data_loader, test_dataset, target_scaler=None, show_plot=True, save_html=True, title=\"predictions\", scaler_type=SCALER_TYPE):\n",
    "    \"\"\"\n",
    "    Runs predictions on the data_loader using model, builds a results DataFrame using the\n",
    "    test_dataset's original data (which includes the 'day' and 'id_num' columns), and then plots\n",
    "    real vs predicted values with Plotly using the 'day' column for the x-axis and a dropdown\n",
    "    to select different participants.\n",
    "\n",
    "    Parameters:\n",
    "        model: Trained PyTorch model.\n",
    "        data_loader: DataLoader for the dataset to predict on.\n",
    "        test_dataset: The dataset instance (e.g., MultiParticipantDataset) used to create data_loader.\n",
    "                      It must have a 'data' attribute containing the original DataFrame with a 'day' column.\n",
    "        target_scaler: (Optional) Scaler used to normalize the target data.\n",
    "    \"\"\"\n",
    "    model.eval()\n",
    "    all_predictions = []\n",
    "    all_targets = []\n",
    "\n",
    "    # move everything to cpu\n",
    "    model.to(\"cpu\")\n",
    "\n",
    "    \n",
    "    # Run model predictions over the data_loader\n",
    "    with torch.no_grad():\n",
    "        for batch in data_loader:\n",
    "            x_features, x_id, y = batch\n",
    "            x_features = x_features.to(\"cpu\")\n",
    "            x_id = x_id.to(\"cpu\")\n",
    "            y = y.to(\"cpu\")\n",
    "            outputs = model(x_features)\n",
    "            all_predictions.append(outputs.cpu().numpy())\n",
    "            all_targets.append(y.cpu().numpy())\n",
    "    \n",
    "    # Concatenate all predictions and targets into arrays.\n",
    "    all_predictions = np.concatenate(all_predictions)\n",
    "    all_targets = np.concatenate(all_targets)\n",
    "\n",
    "    # print mean sd, min max of predictions and targets\n",
    "    print(\"Predictions mean:\", np.mean(all_predictions))\n",
    "    print(\"Predictions sd:\", np.std(all_predictions))\n",
    "    print(\"Predictions min:\", np.min(all_predictions))\n",
    "    print(\"Predictions max:\", np.max(all_predictions))\n",
    "    print(\"Targets mean:\", np.mean(all_targets))\n",
    "    print(\"Targets sd:\", np.std(all_targets))\n",
    "    print(\"Targets min:\", np.min(all_targets))\n",
    "    print(\"Targets max:\", np.max(all_targets))\n",
    "\n",
    "    \n",
    "    # Inverse transform if a target scaler is provided.\n",
    "    if target_scaler is not None:\n",
    "        if scaler_type == \"StandardScaler\":\n",
    "            print(\"Target scaler mean:\", target_scaler.mean_)\n",
    "            print(\"Target scaler scale:\", target_scaler.scale_)\n",
    "        all_predictions = target_scaler.inverse_transform(all_predictions)\n",
    "        all_targets = target_scaler.inverse_transform(all_targets.reshape(-1, 1))\n",
    "    \n",
    "\n",
    "    # Compute the correct slice of the original DataFrame.\n",
    "    # The i-th prediction corresponds to data row at index (i + seq_length)\n",
    "    start_idx = test_dataset.seq_length\n",
    "    end_idx = start_idx + len(test_dataset)\n",
    "    df_results = test_dataset.data.iloc[start_idx:end_idx].copy().reset_index(drop=True)\n",
    "\n",
    "    # Add prediction and target columns to the results DataFrame.\n",
    "    df_results['Real'] = all_targets.reshape(-1)\n",
    "    df_results['Predicted'] = all_predictions.reshape(-1)\n",
    "    \n",
    "    # Get unique participant IDs from the results DataFrame.\n",
    "    participant_col = test_dataset.id_col  # e.g., 'id_num'\n",
    "    participants = df_results[participant_col].unique()\n",
    "    \n",
    "    # Build Plotly traces for each participant: two traces (real & predicted) per participant.\n",
    "    traces = []\n",
    "    for p in participants:\n",
    "        df_p = df_results[df_results[participant_col] == p]\n",
    "        traces.append(go.Scatter(\n",
    "            x=df_p['day'],\n",
    "            y=df_p['Real'],\n",
    "            mode='lines',\n",
    "            name=f'Real ({p})',\n",
    "            visible=False  # We'll control visibility via the dropdown.\n",
    "        ))\n",
    "        traces.append(go.Scatter(\n",
    "            x=df_p['day'],\n",
    "            y=df_p['Predicted'],\n",
    "            mode='lines',\n",
    "            name=f'Predicted ({p})',\n",
    "            visible=False\n",
    "        ))\n",
    "    \n",
    "    total_traces = len(traces)  # Should be 2 * number of participants.\n",
    "    \n",
    "    # Create dropdown buttons. Each button sets visibility so that only the two traces for one participant are shown.\n",
    "    dropdown_buttons = []\n",
    "    for i, p in enumerate(participants):\n",
    "        visibility = [False] * total_traces\n",
    "        # For participant p, set traces at indices 2*i and 2*i+1 to True.\n",
    "        visibility[2*i] = True\n",
    "        visibility[2*i+1] = True\n",
    "        button = dict(\n",
    "            label=str(p),\n",
    "            method=\"update\",\n",
    "            args=[{\"visible\": visibility},\n",
    "                  {\"title\": f\"Real vs Predicted Mood Values for Participant {p}\",\n",
    "                   \"xaxis\": {\"title\": \"Day\"},\n",
    "                   \"yaxis\": {\"title\": \"Mood Value\"}}]\n",
    "        )\n",
    "        dropdown_buttons.append(button)\n",
    "    \n",
    "    # Set the initial visibility: show the first participant.\n",
    "    initial_visibility = [False] * total_traces\n",
    "    initial_visibility[0] = True\n",
    "    initial_visibility[1] = True\n",
    "    for i in range(total_traces):\n",
    "        traces[i].visible = initial_visibility[i]\n",
    "    \n",
    "    # Build the figure with all traces and add the dropdown menu.\n",
    "    fig = go.Figure(data=traces)\n",
    "    fig.update_layout(\n",
    "        updatemenus=[\n",
    "            dict(\n",
    "                active=0,\n",
    "                buttons=dropdown_buttons,\n",
    "                x=1.1,\n",
    "                y=1.0,\n",
    "                showactive=True\n",
    "            )\n",
    "        ],\n",
    "        title=f\"Real vs Predicted Mood Values for Participant {participants[0]}\",\n",
    "        xaxis_title=\"Day\",\n",
    "        yaxis_title=\"Mood Value\"\n",
    "    )\n",
    "    \n",
    "    if show_plot:\n",
    "        fig.show()\n",
    "    if save_html:\n",
    "        outdir = \"figures/plotly/predictions\"\n",
    "        os.makedirs(outdir, exist_ok=True)\n",
    "        fig.write_html(os.path.join(outdir, f\"predictions_{title}.html\"))\n",
    "\n",
    "    # MAE RMSE R2\n",
    "    mae = mean_absolute_error(all_targets, all_predictions)\n",
    "    mse = mean_squared_error(all_targets, all_predictions)\n",
    "    rmse = np.sqrt(mse)\n",
    "    r2 = r2_score(all_targets, all_predictions)\n",
    "    print(f\"MAE: {mae}, RMSE: {rmse}, R2: {r2}\")\n",
    "    return df_results, mae, mse, rmse, r2\n",
    "    \n",
    "    \n",
    "\n"
   ]
  },
  {
   "cell_type": "markdown",
   "metadata": {},
   "source": [
    "### Plot predictions"
   ]
  },
  {
   "cell_type": "code",
   "execution_count": 642,
   "metadata": {},
   "outputs": [
    {
     "name": "stdout",
     "output_type": "stream",
     "text": [
      "Predictions mean: 0.37480298\n",
      "Predictions sd: 0.041597687\n",
      "Predictions min: 0.26696205\n",
      "Predictions max: 0.4308566\n",
      "Targets mean: 0.63031495\n",
      "Targets sd: 0.116463415\n",
      "Targets min: 0.0\n",
      "Targets max: 1.0\n"
     ]
    },
    {
     "data": {
      "application/vnd.plotly.v1+json": {
       "config": {
        "plotlyServerURL": "https://plot.ly"
       },
       "data": [
        {
         "mode": "lines",
         "name": "Real (1)",
         "type": "scatter",
         "visible": true,
         "x": [
          "2014-03-26",
          "2014-03-27",
          "2014-03-28",
          "2014-03-29",
          "2014-03-30",
          "2014-03-31",
          "2014-04-01",
          "2014-04-02",
          "2014-04-03",
          "2014-04-04",
          "2014-04-05",
          "2014-04-06",
          "2014-04-07",
          "2014-04-08",
          "2014-04-09",
          "2014-04-10",
          "2014-04-11",
          "2014-04-12",
          "2014-04-13",
          "2014-04-14",
          "2014-04-15",
          "2014-04-16",
          "2014-04-17",
          "2014-04-18",
          "2014-04-19",
          "2014-04-20",
          "2014-04-21",
          "2014-04-22",
          "2014-04-23",
          "2014-04-24",
          "2014-04-25"
         ],
         "y": [
          7.850526332855225,
          7.320000171661377,
          7.054737091064453,
          7.45263147354126,
          7.187368392944336,
          7.45263147354126,
          7.054737091064453,
          7.585263252258301,
          7.717895030975342,
          8.38105297088623,
          7.054737091064453,
          7.45263147354126,
          7.187368392944336,
          6.789474010467529,
          7.45263147354126,
          7.45263147354126,
          7.717895030975342,
          7.45263147354126,
          7.8947367668151855,
          7.983158111572266,
          7.585263252258301,
          6.568420886993408,
          7.054737091064453,
          7.717895030975342,
          5.297368049621582,
          8.115789413452148,
          7.850526332855225,
          6.922105312347412,
          7.45263147354126,
          7.850526332855225,
          6.955263137817383
         ]
        },
        {
         "mode": "lines",
         "name": "Predicted (1)",
         "type": "scatter",
         "visible": true,
         "x": [
          "2014-03-26",
          "2014-03-27",
          "2014-03-28",
          "2014-03-29",
          "2014-03-30",
          "2014-03-31",
          "2014-04-01",
          "2014-04-02",
          "2014-04-03",
          "2014-04-04",
          "2014-04-05",
          "2014-04-06",
          "2014-04-07",
          "2014-04-08",
          "2014-04-09",
          "2014-04-10",
          "2014-04-11",
          "2014-04-12",
          "2014-04-13",
          "2014-04-14",
          "2014-04-15",
          "2014-04-16",
          "2014-04-17",
          "2014-04-18",
          "2014-04-19",
          "2014-04-20",
          "2014-04-21",
          "2014-04-22",
          "2014-04-23",
          "2014-04-24",
          "2014-04-25"
         ],
         "y": [
          6.5392746925354,
          5.995530605316162,
          6.120250225067139,
          6.195866584777832,
          6.15509557723999,
          6.3937578201293945,
          6.497830390930176,
          6.448646068572998,
          6.552532196044922,
          6.587844371795654,
          6.360327243804932,
          6.311397552490234,
          6.299903392791748,
          6.565258026123047,
          6.0011796951293945,
          6.298799991607666,
          6.0474772453308105,
          6.607569694519043,
          6.257801055908203,
          6.5426859855651855,
          6.245551109313965,
          6.320431709289551,
          6.559080123901367,
          6.2035040855407715,
          6.231287956237793,
          6.581741809844971,
          6.25291633605957,
          6.566627502441406,
          6.564023971557617,
          6.245556354522705,
          6.309037208557129
         ]
        },
        {
         "mode": "lines",
         "name": "Real (2)",
         "type": "scatter",
         "visible": false,
         "x": [
          "2014-03-16",
          "2014-03-17",
          "2014-03-18",
          "2014-03-19",
          "2014-03-20",
          "2014-03-21",
          "2014-03-22",
          "2014-03-23",
          "2014-03-24",
          "2014-03-25",
          "2014-03-26",
          "2014-03-27",
          "2014-03-28",
          "2014-03-29",
          "2014-03-30",
          "2014-03-31",
          "2014-04-01",
          "2014-04-02",
          "2014-04-03",
          "2014-04-04",
          "2014-04-05",
          "2014-04-06",
          "2014-04-07",
          "2014-04-08",
          "2014-04-09",
          "2014-04-10",
          "2014-04-11",
          "2014-04-12",
          "2014-04-13",
          "2014-04-14",
          "2014-04-15",
          "2014-04-16"
         ],
         "y": [
          7.585263252258301,
          7.6184210777282715,
          7.187368392944336,
          5.330526351928711,
          7.187368392944336,
          7.983158111572266,
          8.115789413452148,
          6.3915791511535645,
          7.850526332855225,
          7.010526657104492,
          7.320000171661377,
          7.187368392944336,
          7.45263147354126,
          7.187368392944336,
          7.585263252258301,
          7.717895030975342,
          7.717895030975342,
          7.320000171661377,
          8.447368621826172,
          7.320000171661377,
          7.6184210777282715,
          6.789474010467529,
          7.45263147354126,
          7.717895030975342,
          7.585263252258301,
          6.955263137817383,
          7.784210205078125,
          7.45263147354126,
          7.45263147354126,
          7.45263147354126,
          7.45263147354126,
          7.850526332855225
         ]
        },
        {
         "mode": "lines",
         "name": "Predicted (2)",
         "type": "scatter",
         "visible": false,
         "x": [
          "2014-03-16",
          "2014-03-17",
          "2014-03-18",
          "2014-03-19",
          "2014-03-20",
          "2014-03-21",
          "2014-03-22",
          "2014-03-23",
          "2014-03-24",
          "2014-03-25",
          "2014-03-26",
          "2014-03-27",
          "2014-03-28",
          "2014-03-29",
          "2014-03-30",
          "2014-03-31",
          "2014-04-01",
          "2014-04-02",
          "2014-04-03",
          "2014-04-04",
          "2014-04-05",
          "2014-04-06",
          "2014-04-07",
          "2014-04-08",
          "2014-04-09",
          "2014-04-10",
          "2014-04-11",
          "2014-04-12",
          "2014-04-13",
          "2014-04-14",
          "2014-04-15",
          "2014-04-16"
         ],
         "y": [
          6.48402738571167,
          6.405636310577393,
          6.5452880859375,
          6.081403732299805,
          6.302563190460205,
          5.997457981109619,
          6.531102180480957,
          6.147342681884766,
          6.597611427307129,
          6.044290542602539,
          6.184134006500244,
          6.430503845214844,
          6.501558303833008,
          6.237820148468018,
          6.34577751159668,
          6.23564338684082,
          6.275996208190918,
          6.545229911804199,
          6.571092128753662,
          6.463426113128662,
          6.510126113891602,
          6.361850738525391,
          6.343616962432861,
          6.602546691894531,
          6.35740327835083,
          6.272609233856201,
          6.4798903465271,
          6.591672420501709,
          6.33416223526001,
          6.016160011291504,
          6.531402587890625,
          6.202301979064941
         ]
        },
        {
         "mode": "lines",
         "name": "Real (3)",
         "type": "scatter",
         "visible": false,
         "x": [
          "2014-03-21",
          "2014-03-22",
          "2014-03-23",
          "2014-03-24",
          "2014-03-25",
          "2014-03-26",
          "2014-03-27",
          "2014-03-28",
          "2014-03-29",
          "2014-03-30",
          "2014-03-31",
          "2014-04-01",
          "2014-04-02",
          "2014-04-03",
          "2014-04-04",
          "2014-04-05",
          "2014-04-06",
          "2014-04-07",
          "2014-04-08",
          "2014-04-09",
          "2014-04-10",
          "2014-04-11",
          "2014-04-12",
          "2014-04-13",
          "2014-04-14",
          "2014-04-15",
          "2014-04-16",
          "2014-04-17",
          "2014-04-18",
          "2014-04-19",
          "2014-04-20",
          "2014-04-21",
          "2014-04-22",
          "2014-04-23",
          "2014-04-24",
          "2014-04-25",
          "2014-04-26",
          "2014-04-27"
         ],
         "y": [
          7.850526332855225,
          7.45263147354126,
          7.320000171661377,
          7.320000171661377,
          8.38105297088623,
          7.45263147354126,
          7.320000171661377,
          7.320000171661377,
          7.187368392944336,
          7.983158111572266,
          7.1210527420043945,
          7.1210527420043945,
          7.850526332855225,
          7.45263147354126,
          7.585263252258301,
          7.983158111572266,
          7.45263147354126,
          7.585263252258301,
          7.6184210777282715,
          7.45263147354126,
          7.054737091064453,
          7.828421115875244,
          6.65684175491333,
          7.585263252258301,
          7.187368392944336,
          7.45263147354126,
          7.850526332855225,
          8.115789413452148,
          8.28157901763916,
          7.187368392944336,
          7.187368392944336,
          7.45263147354126,
          6.65684175491333,
          7.784210205078125,
          6.922105312347412,
          7.054737091064453,
          7.850526332855225,
          7.320000171661377
         ]
        },
        {
         "mode": "lines",
         "name": "Predicted (3)",
         "type": "scatter",
         "visible": false,
         "x": [
          "2014-03-21",
          "2014-03-22",
          "2014-03-23",
          "2014-03-24",
          "2014-03-25",
          "2014-03-26",
          "2014-03-27",
          "2014-03-28",
          "2014-03-29",
          "2014-03-30",
          "2014-03-31",
          "2014-04-01",
          "2014-04-02",
          "2014-04-03",
          "2014-04-04",
          "2014-04-05",
          "2014-04-06",
          "2014-04-07",
          "2014-04-08",
          "2014-04-09",
          "2014-04-10",
          "2014-04-11",
          "2014-04-12",
          "2014-04-13",
          "2014-04-14",
          "2014-04-15",
          "2014-04-16",
          "2014-04-17",
          "2014-04-18",
          "2014-04-19",
          "2014-04-20",
          "2014-04-21",
          "2014-04-22",
          "2014-04-23",
          "2014-04-24",
          "2014-04-25",
          "2014-04-26",
          "2014-04-27"
         ],
         "y": [
          6.532759666442871,
          6.375005722045898,
          6.467973709106445,
          6.459227085113525,
          6.256493091583252,
          6.5459699630737305,
          6.48370361328125,
          6.450350761413574,
          6.4098029136657715,
          6.573504447937012,
          6.225634574890137,
          6.538689136505127,
          6.552794456481934,
          6.573575019836426,
          6.264235019683838,
          6.552569389343262,
          6.518313407897949,
          6.0513811111450195,
          6.231767177581787,
          6.359100341796875,
          6.203348636627197,
          6.539009094238281,
          6.190664768218994,
          6.4435014724731445,
          6.537192344665527,
          6.601476192474365,
          6.208799839019775,
          5.987392902374268,
          6.562203884124756,
          6.368536949157715,
          6.522476673126221,
          6.514761924743652,
          6.5369791984558105,
          6.241633892059326,
          6.138934135437012,
          6.136723518371582,
          6.518290996551514,
          6.410111904144287
         ]
        },
        {
         "mode": "lines",
         "name": "Real (5)",
         "type": "scatter",
         "visible": false,
         "x": [
          "2014-03-14",
          "2014-03-15",
          "2014-03-16",
          "2014-03-17",
          "2014-03-18",
          "2014-03-19",
          "2014-03-20",
          "2014-03-21",
          "2014-03-22",
          "2014-03-23",
          "2014-03-24",
          "2014-03-25",
          "2014-03-26",
          "2014-03-27",
          "2014-03-28",
          "2014-03-29",
          "2014-03-30",
          "2014-03-31",
          "2014-04-01",
          "2014-04-02",
          "2014-04-03",
          "2014-04-04",
          "2014-04-05",
          "2014-04-06",
          "2014-04-07",
          "2014-04-08",
          "2014-04-09",
          "2014-04-10",
          "2014-04-11",
          "2014-04-12",
          "2014-04-13",
          "2014-04-14",
          "2014-04-15",
          "2014-04-16",
          "2014-04-17",
          "2014-04-18",
          "2014-04-19",
          "2014-04-20",
          "2014-04-21",
          "2014-04-22",
          "2014-04-23",
          "2014-04-24"
         ],
         "y": [
          7.45263147354126,
          8.28157901763916,
          8.002105712890625,
          7.850526332855225,
          7.45263147354126,
          7.45263147354126,
          7.45263147354126,
          6.623684406280518,
          7.601841926574707,
          7.45263147354126,
          7.850526332855225,
          7.45263147354126,
          7.187368392944336,
          7.187368392944336,
          7.320000171661377,
          7.45263147354126,
          7.45263147354126,
          7.850526332855225,
          7.983158111572266,
          7.1210527420043945,
          7.187368392944336,
          6.789474010467529,
          8.115789413452148,
          7.45263147354126,
          7.983158111572266,
          8.513684272766113,
          7.717895030975342,
          7.45263147354126,
          7.054737091064453,
          6.922105312347412,
          7.585263252258301,
          7.585263252258301,
          6.955263137817383,
          7.45263147354126,
          8.115789413452148,
          7.784210205078125,
          7.850526332855225,
          7.187368392944336,
          6.789474010467529,
          7.320000171661377,
          7.717895030975342,
          7.784210205078125
         ]
        },
        {
         "mode": "lines",
         "name": "Predicted (5)",
         "type": "scatter",
         "visible": false,
         "x": [
          "2014-03-14",
          "2014-03-15",
          "2014-03-16",
          "2014-03-17",
          "2014-03-18",
          "2014-03-19",
          "2014-03-20",
          "2014-03-21",
          "2014-03-22",
          "2014-03-23",
          "2014-03-24",
          "2014-03-25",
          "2014-03-26",
          "2014-03-27",
          "2014-03-28",
          "2014-03-29",
          "2014-03-30",
          "2014-03-31",
          "2014-04-01",
          "2014-04-02",
          "2014-04-03",
          "2014-04-04",
          "2014-04-05",
          "2014-04-06",
          "2014-04-07",
          "2014-04-08",
          "2014-04-09",
          "2014-04-10",
          "2014-04-11",
          "2014-04-12",
          "2014-04-13",
          "2014-04-14",
          "2014-04-15",
          "2014-04-16",
          "2014-04-17",
          "2014-04-18",
          "2014-04-19",
          "2014-04-20",
          "2014-04-21",
          "2014-04-22",
          "2014-04-23",
          "2014-04-24"
         ],
         "y": [
          6.245241641998291,
          6.561897277832031,
          6.448989391326904,
          6.542929649353027,
          6.583432197570801,
          6.26300573348999,
          6.243978977203369,
          6.299655914306641,
          6.560732841491699,
          6.372522354125977,
          6.448143005371094,
          6.404915809631348,
          6.028594493865967,
          6.519598007202148,
          6.529819488525391,
          6.183403968811035,
          6.331943035125732,
          6.177674293518066,
          6.275003433227539,
          6.117016792297363,
          6.385210037231445,
          6.584409236907959,
          6.579091548919678,
          6.598351955413818,
          6.559919834136963,
          6.569646835327148,
          6.53417444229126,
          6.441594123840332,
          6.356992721557617,
          6.281458377838135,
          6.436948776245117,
          6.550242900848389,
          6.253843784332275,
          6.359528541564941,
          6.267915725708008,
          6.435823440551758,
          6.522187232971191,
          6.355393409729004,
          6.264700889587402,
          6.392979145050049,
          6.031320095062256,
          6.476827621459961
         ]
        },
        {
         "mode": "lines",
         "name": "Real (6)",
         "type": "scatter",
         "visible": false,
         "x": [
          "2014-03-24",
          "2014-03-25",
          "2014-03-26",
          "2014-03-27",
          "2014-03-28",
          "2014-03-29",
          "2014-03-30",
          "2014-03-31",
          "2014-04-01",
          "2014-04-02",
          "2014-04-03",
          "2014-04-04",
          "2014-04-05",
          "2014-04-06",
          "2014-04-07",
          "2014-04-08",
          "2014-04-09",
          "2014-04-10",
          "2014-04-11",
          "2014-04-12",
          "2014-04-13",
          "2014-04-14",
          "2014-04-15",
          "2014-04-16",
          "2014-04-17",
          "2014-04-18",
          "2014-04-19",
          "2014-04-20",
          "2014-04-21",
          "2014-04-22",
          "2014-04-23",
          "2014-04-24",
          "2014-04-25",
          "2014-04-26",
          "2014-04-27",
          "2014-04-28"
         ],
         "y": [
          7.320000171661377,
          7.585263252258301,
          7.6184210777282715,
          7.320000171661377,
          6.789474010467529,
          6.955263137817383,
          7.45263147354126,
          7.585263252258301,
          7.45263147354126,
          7.717895030975342,
          8.115789413452148,
          7.320000171661377,
          7.673684597015381,
          7.950000286102295,
          6.126316070556641,
          8.115789413452148,
          7.320000171661377,
          7.45263147354126,
          7.850526332855225,
          7.784210205078125,
          7.850526332855225,
          7.45263147354126,
          7.054737091064453,
          7.950000286102295,
          7.45263147354126,
          8.38105297088623,
          7.45263147354126,
          6.922105312347412,
          7.585263252258301,
          7.850526332855225,
          7.45263147354126,
          7.187368392944336,
          7.784210205078125,
          6.789474010467529,
          7.45263147354126,
          7.45263147354126
         ]
        },
        {
         "mode": "lines",
         "name": "Predicted (6)",
         "type": "scatter",
         "visible": false,
         "x": [
          "2014-03-24",
          "2014-03-25",
          "2014-03-26",
          "2014-03-27",
          "2014-03-28",
          "2014-03-29",
          "2014-03-30",
          "2014-03-31",
          "2014-04-01",
          "2014-04-02",
          "2014-04-03",
          "2014-04-04",
          "2014-04-05",
          "2014-04-06",
          "2014-04-07",
          "2014-04-08",
          "2014-04-09",
          "2014-04-10",
          "2014-04-11",
          "2014-04-12",
          "2014-04-13",
          "2014-04-14",
          "2014-04-15",
          "2014-04-16",
          "2014-04-17",
          "2014-04-18",
          "2014-04-19",
          "2014-04-20",
          "2014-04-21",
          "2014-04-22",
          "2014-04-23",
          "2014-04-24",
          "2014-04-25",
          "2014-04-26",
          "2014-04-27",
          "2014-04-28"
         ],
         "y": [
          6.122721195220947,
          6.183278560638428,
          6.423248767852783,
          6.4721808433532715,
          6.0616278648376465,
          5.991208553314209,
          6.566837310791016,
          6.509979248046875,
          6.5000505447387695,
          6.448721408843994,
          6.154026031494141,
          6.5378265380859375,
          6.297662258148193,
          6.599034309387207,
          6.567200660705566,
          6.592383861541748,
          6.5374860763549805,
          6.546329498291016,
          6.548306941986084,
          6.194034576416016,
          6.583505153656006,
          6.460444927215576,
          6.140626907348633,
          6.5225419998168945,
          6.3361101150512695,
          6.599907875061035,
          6.234161376953125,
          5.9755144119262695,
          6.199483871459961,
          6.562377452850342,
          6.320112705230713,
          6.230350494384766,
          6.283744812011719,
          6.482092380523682,
          6.59812068939209,
          6.590898513793945
         ]
        },
        {
         "mode": "lines",
         "name": "Real (7)",
         "type": "scatter",
         "visible": false,
         "x": [
          "2014-03-19",
          "2014-03-20",
          "2014-03-21",
          "2014-03-22",
          "2014-03-23",
          "2014-03-24",
          "2014-03-25",
          "2014-03-26",
          "2014-03-27",
          "2014-03-28",
          "2014-03-29",
          "2014-03-30",
          "2014-03-31",
          "2014-04-01",
          "2014-04-02",
          "2014-04-03",
          "2014-04-04",
          "2014-04-05",
          "2014-04-06",
          "2014-04-07",
          "2014-04-08",
          "2014-04-09",
          "2014-04-10",
          "2014-04-11",
          "2014-04-12",
          "2014-04-13",
          "2014-04-14",
          "2014-04-15",
          "2014-04-16",
          "2014-04-17",
          "2014-04-18",
          "2014-04-19",
          "2014-04-20",
          "2014-04-21",
          "2014-04-22",
          "2014-04-23",
          "2014-04-24",
          "2014-04-25"
         ],
         "y": [
          7.054737091064453,
          7.1210527420043945,
          7.054737091064453,
          6.922105312347412,
          7.45263147354126,
          7.286842346191406,
          7.45263147354126,
          7.45263147354126,
          7.983158111572266,
          7.950000286102295,
          6.922105312347412,
          7.585263252258301,
          7.320000171661377,
          8.115789413452148,
          7.784210205078125,
          7.950000286102295,
          8.613158226013184,
          6.922105312347412,
          6.922105312347412,
          7.585263252258301,
          7.950000286102295,
          7.320000171661377,
          7.45263147354126,
          7.45263147354126,
          8.115789413452148,
          7.585263252258301,
          7.45263147354126,
          7.320000171661377,
          5.9936842918396,
          7.320000171661377,
          7.45263147354126,
          7.784210205078125,
          7.1210527420043945,
          7.950000286102295,
          7.231578826904297,
          7.585263252258301,
          7.717895030975342,
          7.45263147354126
         ]
        },
        {
         "mode": "lines",
         "name": "Predicted (7)",
         "type": "scatter",
         "visible": false,
         "x": [
          "2014-03-19",
          "2014-03-20",
          "2014-03-21",
          "2014-03-22",
          "2014-03-23",
          "2014-03-24",
          "2014-03-25",
          "2014-03-26",
          "2014-03-27",
          "2014-03-28",
          "2014-03-29",
          "2014-03-30",
          "2014-03-31",
          "2014-04-01",
          "2014-04-02",
          "2014-04-03",
          "2014-04-04",
          "2014-04-05",
          "2014-04-06",
          "2014-04-07",
          "2014-04-08",
          "2014-04-09",
          "2014-04-10",
          "2014-04-11",
          "2014-04-12",
          "2014-04-13",
          "2014-04-14",
          "2014-04-15",
          "2014-04-16",
          "2014-04-17",
          "2014-04-18",
          "2014-04-19",
          "2014-04-20",
          "2014-04-21",
          "2014-04-22",
          "2014-04-23",
          "2014-04-24",
          "2014-04-25"
         ],
         "y": [
          6.237484931945801,
          5.9740190505981445,
          6.609592914581299,
          6.386934757232666,
          6.1931657791137695,
          6.383334636688232,
          6.335675239562988,
          6.597792148590088,
          6.227414608001709,
          6.2840423583984375,
          6.175146579742432,
          6.5568766593933105,
          6.257349967956543,
          6.565423965454102,
          6.577322483062744,
          6.554614067077637,
          6.5267333984375,
          6.3367695808410645,
          6.533585548400879,
          6.163242340087891,
          6.254134178161621,
          6.192068099975586,
          6.567122936248779,
          6.177860736846924,
          6.292503833770752,
          6.54449987411499,
          6.41055154800415,
          6.315163612365723,
          6.5500688552856445,
          6.202419281005859,
          6.556698322296143,
          6.348915100097656,
          6.230991840362549,
          6.5958685874938965,
          6.309782981872559,
          6.409752368927002,
          5.991734504699707,
          6.581220626831055
         ]
        },
        {
         "mode": "lines",
         "name": "Real (8)",
         "type": "scatter",
         "visible": false,
         "x": [
          "2014-03-05",
          "2014-03-06",
          "2014-03-07",
          "2014-03-08",
          "2014-03-09",
          "2014-03-10",
          "2014-03-11",
          "2014-03-12",
          "2014-03-13",
          "2014-03-14",
          "2014-03-15",
          "2014-03-16",
          "2014-03-17",
          "2014-03-18",
          "2014-03-19",
          "2014-03-20",
          "2014-03-21",
          "2014-03-22",
          "2014-03-23",
          "2014-03-24",
          "2014-03-25",
          "2014-03-26",
          "2014-03-27",
          "2014-03-28",
          "2014-03-29",
          "2014-03-30",
          "2014-03-31",
          "2014-04-01",
          "2014-04-02",
          "2014-04-03",
          "2014-04-04",
          "2014-04-05",
          "2014-04-06",
          "2014-04-07",
          "2014-04-08",
          "2014-04-09",
          "2014-04-10",
          "2014-04-11",
          "2014-04-12",
          "2014-04-13",
          "2014-04-14",
          "2014-04-15",
          "2014-04-16",
          "2014-04-17",
          "2014-04-18",
          "2014-04-19",
          "2014-04-20",
          "2014-04-21",
          "2014-04-22"
         ],
         "y": [
          7.717895030975342,
          7.717895030975342,
          7.45263147354126,
          7.45263147354126,
          6.789474010467529,
          7.45263147354126,
          8.248420715332031,
          8.115789413452148,
          7.45263147354126,
          7.45263147354126,
          7.784210205078125,
          7.983158111572266,
          7.187368392944336,
          7.983158111572266,
          7.6184210777282715,
          7.717895030975342,
          7.850526332855225,
          7.187368392944336,
          8.778947830200195,
          7.983158111572266,
          6.955263137817383,
          8.38105297088623,
          7.45263147354126,
          7.054737091064453,
          6.955263137817383,
          7.45263147354126,
          7.888421058654785,
          7.320000171661377,
          7.717895030975342,
          8.115789413452148,
          7.054737091064453,
          7.983158111572266,
          7.717895030975342,
          8.115789413452148,
          5.684210300445557,
          7.850526332855225,
          7.054737091064453,
          7.187368392944336,
          7.320000171661377,
          7.45263147354126,
          7.1210527420043945,
          7.45263147354126,
          7.320000171661377,
          6.789474010467529,
          7.054737091064453,
          7.850526332855225,
          7.6184210777282715,
          7.054737091064453,
          7.784210205078125
         ]
        },
        {
         "mode": "lines",
         "name": "Predicted (8)",
         "type": "scatter",
         "visible": false,
         "x": [
          "2014-03-05",
          "2014-03-06",
          "2014-03-07",
          "2014-03-08",
          "2014-03-09",
          "2014-03-10",
          "2014-03-11",
          "2014-03-12",
          "2014-03-13",
          "2014-03-14",
          "2014-03-15",
          "2014-03-16",
          "2014-03-17",
          "2014-03-18",
          "2014-03-19",
          "2014-03-20",
          "2014-03-21",
          "2014-03-22",
          "2014-03-23",
          "2014-03-24",
          "2014-03-25",
          "2014-03-26",
          "2014-03-27",
          "2014-03-28",
          "2014-03-29",
          "2014-03-30",
          "2014-03-31",
          "2014-04-01",
          "2014-04-02",
          "2014-04-03",
          "2014-04-04",
          "2014-04-05",
          "2014-04-06",
          "2014-04-07",
          "2014-04-08",
          "2014-04-09",
          "2014-04-10",
          "2014-04-11",
          "2014-04-12",
          "2014-04-13",
          "2014-04-14",
          "2014-04-15",
          "2014-04-16",
          "2014-04-17",
          "2014-04-18",
          "2014-04-19",
          "2014-04-20",
          "2014-04-21",
          "2014-04-22"
         ],
         "y": [
          6.461434364318848,
          6.55219841003418,
          6.483082294464111,
          6.186606407165527,
          6.458739757537842,
          6.5493879318237305,
          6.215774059295654,
          6.583873748779297,
          6.574373722076416,
          6.53423547744751,
          6.191425800323486,
          6.5787858963012695,
          6.185570240020752,
          6.175963401794434,
          6.444825172424316,
          6.258025169372559,
          6.594233512878418,
          6.518209934234619,
          6.028156280517578,
          6.5614542961120605,
          6.271074295043945,
          6.354024887084961,
          6.586345672607422,
          6.53230619430542,
          6.503607273101807,
          6.419529438018799,
          6.464041709899902,
          6.196140289306641,
          6.26621150970459,
          6.5618414878845215,
          6.05839204788208,
          6.590061664581299,
          6.2917561531066895,
          6.521561622619629,
          6.153534889221191,
          6.222592830657959,
          6.3270158767700195,
          6.525363922119141,
          6.2182698249816895,
          6.578591346740723,
          6.021749496459961,
          6.516721248626709,
          6.313718795776367,
          6.035112380981445,
          6.449097156524658,
          6.550990581512451,
          6.036309719085693,
          6.01605224609375,
          6.497069835662842
         ]
        },
        {
         "mode": "lines",
         "name": "Real (9)",
         "type": "scatter",
         "visible": false,
         "x": [
          "2014-03-21",
          "2014-03-22",
          "2014-03-23",
          "2014-03-24",
          "2014-03-25",
          "2014-03-26",
          "2014-03-27",
          "2014-03-28",
          "2014-03-29",
          "2014-03-30",
          "2014-03-31",
          "2014-04-01",
          "2014-04-02",
          "2014-04-03",
          "2014-04-04",
          "2014-04-05",
          "2014-04-06",
          "2014-04-07",
          "2014-04-08",
          "2014-04-09",
          "2014-04-10",
          "2014-04-11",
          "2014-04-12",
          "2014-04-13",
          "2014-04-14",
          "2014-04-15",
          "2014-04-16",
          "2014-04-17",
          "2014-04-18",
          "2014-04-19",
          "2014-04-20",
          "2014-04-21",
          "2014-04-22",
          "2014-04-23",
          "2014-04-24",
          "2014-04-25"
         ],
         "y": [
          7.585263252258301,
          7.784210205078125,
          7.6184210777282715,
          7.950000286102295,
          6.922105312347412,
          7.784210205078125,
          7.054737091064453,
          7.45263147354126,
          7.054737091064453,
          7.187368392944336,
          7.983158111572266,
          8.248420715332031,
          7.784210205078125,
          7.320000171661377,
          7.1210527420043945,
          7.6184210777282715,
          5.1315789222717285,
          7.983158111572266,
          7.45263147354126,
          7.585263252258301,
          6.789474010467529,
          7.45263147354126,
          7.45263147354126,
          7.45263147354126,
          7.45263147354126,
          8.115789413452148,
          6.922105312347412,
          6.789474010467529,
          7.983158111572266,
          7.45263147354126,
          7.1210527420043945,
          7.585263252258301,
          7.45263147354126,
          7.850526332855225,
          7.717895030975342,
          7.585263252258301
         ]
        },
        {
         "mode": "lines",
         "name": "Predicted (9)",
         "type": "scatter",
         "visible": false,
         "x": [
          "2014-03-21",
          "2014-03-22",
          "2014-03-23",
          "2014-03-24",
          "2014-03-25",
          "2014-03-26",
          "2014-03-27",
          "2014-03-28",
          "2014-03-29",
          "2014-03-30",
          "2014-03-31",
          "2014-04-01",
          "2014-04-02",
          "2014-04-03",
          "2014-04-04",
          "2014-04-05",
          "2014-04-06",
          "2014-04-07",
          "2014-04-08",
          "2014-04-09",
          "2014-04-10",
          "2014-04-11",
          "2014-04-12",
          "2014-04-13",
          "2014-04-14",
          "2014-04-15",
          "2014-04-16",
          "2014-04-17",
          "2014-04-18",
          "2014-04-19",
          "2014-04-20",
          "2014-04-21",
          "2014-04-22",
          "2014-04-23",
          "2014-04-24",
          "2014-04-25"
         ],
         "y": [
          6.2425055503845215,
          6.291996479034424,
          6.47781229019165,
          6.475443363189697,
          6.581528663635254,
          6.228148937225342,
          6.039259910583496,
          6.405611038208008,
          6.202563762664795,
          6.389939785003662,
          6.1834330558776855,
          6.571248531341553,
          6.354676246643066,
          6.351822853088379,
          6.0707268714904785,
          5.989576816558838,
          6.1211981773376465,
          6.5432538986206055,
          6.323824882507324,
          6.350732803344727,
          6.191552639007568,
          6.265855312347412,
          6.4773783683776855,
          6.36047887802124,
          6.251871109008789,
          6.563941478729248,
          6.495385646820068,
          6.077692985534668,
          6.268299579620361,
          6.291810512542725,
          6.484961032867432,
          6.553858280181885,
          6.572423458099365,
          6.54036808013916,
          6.4484710693359375,
          6.334484577178955
         ]
        },
        {
         "mode": "lines",
         "name": "Real (12)",
         "type": "scatter",
         "visible": false,
         "x": [
          "2014-03-27",
          "2014-03-28",
          "2014-03-29",
          "2014-03-30",
          "2014-03-31",
          "2014-04-01",
          "2014-04-02",
          "2014-04-03",
          "2014-04-04",
          "2014-04-05",
          "2014-04-06",
          "2014-04-07",
          "2014-04-08",
          "2014-04-09",
          "2014-04-10",
          "2014-04-11",
          "2014-04-12",
          "2014-04-13",
          "2014-04-14",
          "2014-04-15",
          "2014-04-16",
          "2014-04-17",
          "2014-04-18",
          "2014-04-19",
          "2014-04-20",
          "2014-04-21",
          "2014-04-22",
          "2014-04-23",
          "2014-04-24",
          "2014-04-25",
          "2014-04-26",
          "2014-04-27"
         ],
         "y": [
          7.717895030975342,
          7.6184210777282715,
          8.513684272766113,
          7.717895030975342,
          7.585263252258301,
          7.45263147354126,
          7.717895030975342,
          7.950000286102295,
          7.983158111572266,
          8.115789413452148,
          7.585263252258301,
          7.010526657104492,
          8.115789413452148,
          7.983158111572266,
          6.922105312347412,
          7.320000171661377,
          7.45263147354126,
          7.320000171661377,
          7.45263147354126,
          7.983158111572266,
          7.585263252258301,
          7.717895030975342,
          7.983158111572266,
          7.585263252258301,
          7.585263252258301,
          7.585263252258301,
          7.56315803527832,
          7.585263252258301,
          6.65684175491333,
          6.3915791511535645,
          7.850526332855225,
          7.369736671447754
         ]
        },
        {
         "mode": "lines",
         "name": "Predicted (12)",
         "type": "scatter",
         "visible": false,
         "x": [
          "2014-03-27",
          "2014-03-28",
          "2014-03-29",
          "2014-03-30",
          "2014-03-31",
          "2014-04-01",
          "2014-04-02",
          "2014-04-03",
          "2014-04-04",
          "2014-04-05",
          "2014-04-06",
          "2014-04-07",
          "2014-04-08",
          "2014-04-09",
          "2014-04-10",
          "2014-04-11",
          "2014-04-12",
          "2014-04-13",
          "2014-04-14",
          "2014-04-15",
          "2014-04-16",
          "2014-04-17",
          "2014-04-18",
          "2014-04-19",
          "2014-04-20",
          "2014-04-21",
          "2014-04-22",
          "2014-04-23",
          "2014-04-24",
          "2014-04-25",
          "2014-04-26",
          "2014-04-27"
         ],
         "y": [
          6.425580978393555,
          6.013368606567383,
          6.550623416900635,
          6.394582748413086,
          6.2080607414245605,
          6.528434753417969,
          6.338295936584473,
          6.232662200927734,
          6.286984443664551,
          6.578563213348389,
          6.4351935386657715,
          6.139074325561523,
          6.420054912567139,
          6.383145809173584,
          6.549776077270508,
          6.448819160461426,
          6.046442985534668,
          6.405449390411377,
          6.333810329437256,
          6.586999893188477,
          6.396446228027344,
          6.56455135345459,
          6.164595603942871,
          6.565948963165283,
          6.503458499908447,
          6.205248832702637,
          6.115467071533203,
          6.581182956695557,
          6.277967929840088,
          6.122988224029541,
          6.548305511474609,
          6.607568264007568
         ]
        },
        {
         "mode": "lines",
         "name": "Real (13)",
         "type": "scatter",
         "visible": false,
         "x": [
          "2014-03-13",
          "2014-03-14",
          "2014-03-15",
          "2014-03-16",
          "2014-03-17",
          "2014-03-18",
          "2014-03-19",
          "2014-03-20",
          "2014-03-21",
          "2014-03-22",
          "2014-03-23",
          "2014-03-24",
          "2014-03-25",
          "2014-03-26",
          "2014-03-27",
          "2014-03-28",
          "2014-03-29",
          "2014-03-30",
          "2014-03-31",
          "2014-04-01",
          "2014-04-02",
          "2014-04-03",
          "2014-04-04",
          "2014-04-05",
          "2014-04-06",
          "2014-04-07",
          "2014-04-08",
          "2014-04-09",
          "2014-04-10",
          "2014-04-11",
          "2014-04-12",
          "2014-04-13",
          "2014-04-14",
          "2014-04-15",
          "2014-04-16",
          "2014-04-17",
          "2014-04-18",
          "2014-04-19",
          "2014-04-20",
          "2014-04-21",
          "2014-04-22",
          "2014-04-23"
         ],
         "y": [
          7.850526332855225,
          7.320000171661377,
          7.585263252258301,
          7.320000171661377,
          7.6184210777282715,
          7.717895030975342,
          7.45263147354126,
          7.983158111572266,
          7.187368392944336,
          7.187368392944336,
          7.585263252258301,
          7.286842346191406,
          7.231578826904297,
          7.585263252258301,
          7.585263252258301,
          7.187368392944336,
          7.585263252258301,
          7.45263147354126,
          6.258947372436523,
          7.585263252258301,
          6.789474010467529,
          7.054737091064453,
          8.33684253692627,
          6.922105312347412,
          7.850526332855225,
          6.789474010467529,
          7.054737091064453,
          6.524210453033447,
          7.585263252258301,
          7.6184210777282715,
          7.187368392944336,
          7.1210527420043945,
          7.320000171661377,
          6.955263137817383,
          7.286842346191406,
          7.717895030975342,
          7.45263147354126,
          8.513684272766113,
          6.457894802093506,
          7.054737091064453,
          7.320000171661377,
          8.115789413452148
         ]
        },
        {
         "mode": "lines",
         "name": "Predicted (13)",
         "type": "scatter",
         "visible": false,
         "x": [
          "2014-03-13",
          "2014-03-14",
          "2014-03-15",
          "2014-03-16",
          "2014-03-17",
          "2014-03-18",
          "2014-03-19",
          "2014-03-20",
          "2014-03-21",
          "2014-03-22",
          "2014-03-23",
          "2014-03-24",
          "2014-03-25",
          "2014-03-26",
          "2014-03-27",
          "2014-03-28",
          "2014-03-29",
          "2014-03-30",
          "2014-03-31",
          "2014-04-01",
          "2014-04-02",
          "2014-04-03",
          "2014-04-04",
          "2014-04-05",
          "2014-04-06",
          "2014-04-07",
          "2014-04-08",
          "2014-04-09",
          "2014-04-10",
          "2014-04-11",
          "2014-04-12",
          "2014-04-13",
          "2014-04-14",
          "2014-04-15",
          "2014-04-16",
          "2014-04-17",
          "2014-04-18",
          "2014-04-19",
          "2014-04-20",
          "2014-04-21",
          "2014-04-22",
          "2014-04-23"
         ],
         "y": [
          6.172511100769043,
          6.40688943862915,
          6.452439785003662,
          6.255046367645264,
          6.01177978515625,
          6.251873016357422,
          6.3871049880981445,
          6.534964561462402,
          6.134401798248291,
          6.42164945602417,
          6.1854166984558105,
          6.541130542755127,
          6.464268207550049,
          6.427978515625,
          6.546578407287598,
          6.2569899559021,
          6.401988506317139,
          6.418404579162598,
          6.559091567993164,
          6.051489353179932,
          6.113519191741943,
          6.418886661529541,
          6.5673604011535645,
          6.552286624908447,
          6.012585163116455,
          6.138050556182861,
          6.251033306121826,
          6.246610164642334,
          5.980289459228516,
          6.252249240875244,
          6.528474807739258,
          6.345471382141113,
          6.601889610290527,
          6.217564105987549,
          6.560245513916016,
          6.547397613525391,
          6.576834678649902,
          6.2452263832092285,
          5.92124080657959,
          6.024940013885498,
          6.147014141082764,
          6.561561584472656
         ]
        },
        {
         "mode": "lines",
         "name": "Real (14)",
         "type": "scatter",
         "visible": false,
         "x": [
          "2014-03-20",
          "2014-03-21",
          "2014-03-22",
          "2014-03-23",
          "2014-03-24",
          "2014-03-25",
          "2014-03-26",
          "2014-03-27",
          "2014-03-28",
          "2014-03-29",
          "2014-03-30",
          "2014-03-31",
          "2014-04-01",
          "2014-04-02",
          "2014-04-03",
          "2014-04-04",
          "2014-04-05",
          "2014-04-06",
          "2014-04-07",
          "2014-04-08",
          "2014-04-09",
          "2014-04-10",
          "2014-04-11",
          "2014-04-12",
          "2014-04-13",
          "2014-04-14",
          "2014-04-15",
          "2014-04-16",
          "2014-04-17",
          "2014-04-18",
          "2014-04-19",
          "2014-04-20",
          "2014-04-21",
          "2014-04-22",
          "2014-04-23",
          "2014-04-24",
          "2014-04-25"
         ],
         "y": [
          6.524210453033447,
          7.320000171661377,
          6.3915791511535645,
          7.717895030975342,
          7.6184210777282715,
          7.850526332855225,
          7.320000171661377,
          7.850526332855225,
          7.6184210777282715,
          7.45263147354126,
          7.1210527420043945,
          7.187368392944336,
          6.922105312347412,
          7.45263147354126,
          7.45263147354126,
          7.585263252258301,
          7.6184210777282715,
          7.320000171661377,
          7.8947367668151855,
          8.115789413452148,
          7.45263147354126,
          7.983158111572266,
          8.115789413452148,
          7.673684597015381,
          7.850526332855225,
          7.717895030975342,
          7.45263147354126,
          7.717895030975342,
          7.850526332855225,
          7.45263147354126,
          6.524210453033447,
          6.922105312347412,
          7.187368392944336,
          6.258947372436523,
          7.585263252258301,
          7.6184210777282715,
          7.850526332855225
         ]
        },
        {
         "mode": "lines",
         "name": "Predicted (14)",
         "type": "scatter",
         "visible": false,
         "x": [
          "2014-03-20",
          "2014-03-21",
          "2014-03-22",
          "2014-03-23",
          "2014-03-24",
          "2014-03-25",
          "2014-03-26",
          "2014-03-27",
          "2014-03-28",
          "2014-03-29",
          "2014-03-30",
          "2014-03-31",
          "2014-04-01",
          "2014-04-02",
          "2014-04-03",
          "2014-04-04",
          "2014-04-05",
          "2014-04-06",
          "2014-04-07",
          "2014-04-08",
          "2014-04-09",
          "2014-04-10",
          "2014-04-11",
          "2014-04-12",
          "2014-04-13",
          "2014-04-14",
          "2014-04-15",
          "2014-04-16",
          "2014-04-17",
          "2014-04-18",
          "2014-04-19",
          "2014-04-20",
          "2014-04-21",
          "2014-04-22",
          "2014-04-23",
          "2014-04-24",
          "2014-04-25"
         ],
         "y": [
          6.115396022796631,
          6.236879348754883,
          6.294147491455078,
          6.475215911865234,
          6.579812049865723,
          6.545842170715332,
          6.044370651245117,
          6.366378307342529,
          6.4071245193481445,
          6.568014621734619,
          6.321148872375488,
          6.143699645996094,
          6.31497859954834,
          6.509551048278809,
          6.523567199707031,
          6.31765604019165,
          6.572233200073242,
          5.97745943069458,
          6.563973426818848,
          6.409089088439941,
          6.59506368637085,
          6.545313835144043,
          6.522698402404785,
          6.5603179931640625,
          6.3136887550354,
          6.259209156036377,
          6.2088117599487305,
          5.978470802307129,
          6.434745788574219,
          6.54677677154541,
          6.299835681915283,
          6.318880081176758,
          5.997922897338867,
          6.064212799072266,
          6.148754119873047,
          6.563032150268555,
          6.495088577270508
         ]
        },
        {
         "mode": "lines",
         "name": "Real (15)",
         "type": "scatter",
         "visible": false,
         "x": [
          "2014-03-14",
          "2014-03-15",
          "2014-03-16",
          "2014-03-17",
          "2014-03-18",
          "2014-03-19",
          "2014-03-20",
          "2014-03-21",
          "2014-03-22",
          "2014-03-23",
          "2014-03-24",
          "2014-03-25",
          "2014-03-26",
          "2014-03-27",
          "2014-03-28",
          "2014-03-29",
          "2014-03-30",
          "2014-03-31",
          "2014-04-01",
          "2014-04-02",
          "2014-04-03",
          "2014-04-04",
          "2014-04-05",
          "2014-04-06",
          "2014-04-07",
          "2014-04-08",
          "2014-04-09",
          "2014-04-10",
          "2014-04-11",
          "2014-04-12",
          "2014-04-13",
          "2014-04-14",
          "2014-04-15",
          "2014-04-16",
          "2014-04-17",
          "2014-04-18",
          "2014-04-19",
          "2014-04-20",
          "2014-04-21",
          "2014-04-22",
          "2014-04-23",
          "2014-04-24",
          "2014-04-25",
          "2014-04-26"
         ],
         "y": [
          7.320000171661377,
          7.45263147354126,
          8.115789413452148,
          7.187368392944336,
          7.717895030975342,
          7.784210205078125,
          6.955263137817383,
          7.1210527420043945,
          7.717895030975342,
          5.794736862182617,
          7.45263147354126,
          6.955263137817383,
          7.45263147354126,
          7.45263147354126,
          7.231578826904297,
          7.784210205078125,
          7.850526332855225,
          7.320000171661377,
          7.983158111572266,
          7.054737091064453,
          7.831579208374023,
          6.922105312347412,
          7.784210205078125,
          7.320000171661377,
          7.585263252258301,
          6.65684175491333,
          7.850526332855225,
          7.054737091064453,
          7.784210205078125,
          7.320000171661377,
          7.054737091064453,
          7.187368392944336,
          6.623684406280518,
          8.115789413452148,
          7.45263147354126,
          8.248420715332031,
          7.983158111572266,
          7.585263252258301,
          6.457894802093506,
          8.28157901763916,
          7.45263147354126,
          7.1210527420043945,
          7.850526332855225,
          7.054737091064453
         ]
        },
        {
         "mode": "lines",
         "name": "Predicted (15)",
         "type": "scatter",
         "visible": false,
         "x": [
          "2014-03-14",
          "2014-03-15",
          "2014-03-16",
          "2014-03-17",
          "2014-03-18",
          "2014-03-19",
          "2014-03-20",
          "2014-03-21",
          "2014-03-22",
          "2014-03-23",
          "2014-03-24",
          "2014-03-25",
          "2014-03-26",
          "2014-03-27",
          "2014-03-28",
          "2014-03-29",
          "2014-03-30",
          "2014-03-31",
          "2014-04-01",
          "2014-04-02",
          "2014-04-03",
          "2014-04-04",
          "2014-04-05",
          "2014-04-06",
          "2014-04-07",
          "2014-04-08",
          "2014-04-09",
          "2014-04-10",
          "2014-04-11",
          "2014-04-12",
          "2014-04-13",
          "2014-04-14",
          "2014-04-15",
          "2014-04-16",
          "2014-04-17",
          "2014-04-18",
          "2014-04-19",
          "2014-04-20",
          "2014-04-21",
          "2014-04-22",
          "2014-04-23",
          "2014-04-24",
          "2014-04-25",
          "2014-04-26"
         ],
         "y": [
          6.602883338928223,
          6.299977779388428,
          6.559780597686768,
          6.504981517791748,
          6.385521411895752,
          6.449893951416016,
          6.192737579345703,
          6.060131549835205,
          6.2922492027282715,
          6.049522399902344,
          6.375327110290527,
          6.049624919891357,
          6.422665596008301,
          6.581197738647461,
          6.57958984375,
          6.56488037109375,
          6.394298553466797,
          6.2482147216796875,
          6.55059289932251,
          6.287750720977783,
          6.463424205780029,
          6.181430816650391,
          6.602771759033203,
          6.389012336730957,
          6.5376973152160645,
          6.545121192932129,
          6.420230388641357,
          6.215820789337158,
          6.208840370178223,
          6.557463645935059,
          5.96152925491333,
          6.581767559051514,
          6.043622970581055,
          6.581833839416504,
          6.2894792556762695,
          6.59859037399292,
          6.5623955726623535,
          6.582950592041016,
          6.139006614685059,
          6.280874729156494,
          6.368453025817871,
          6.562903881072998,
          6.30382776260376,
          6.400031089782715
         ]
        },
        {
         "mode": "lines",
         "name": "Real (16)",
         "type": "scatter",
         "visible": false,
         "x": [
          "2014-03-13",
          "2014-03-14",
          "2014-03-15",
          "2014-03-16",
          "2014-03-17",
          "2014-03-18",
          "2014-03-19",
          "2014-03-20",
          "2014-03-21",
          "2014-03-22",
          "2014-03-23",
          "2014-03-24",
          "2014-03-25",
          "2014-03-26",
          "2014-03-27",
          "2014-03-28",
          "2014-03-29",
          "2014-03-30",
          "2014-03-31",
          "2014-04-01",
          "2014-04-02",
          "2014-04-03",
          "2014-04-04",
          "2014-04-05",
          "2014-04-06",
          "2014-04-07",
          "2014-04-08",
          "2014-04-09",
          "2014-04-10",
          "2014-04-11",
          "2014-04-12",
          "2014-04-13",
          "2014-04-14",
          "2014-04-15",
          "2014-04-16",
          "2014-04-17",
          "2014-04-18",
          "2014-04-19",
          "2014-04-20",
          "2014-04-21",
          "2014-04-22",
          "2014-04-23",
          "2014-04-24"
         ],
         "y": [
          8.058947563171387,
          7.320000171661377,
          6.922105312347412,
          7.850526332855225,
          6.65684175491333,
          7.950000286102295,
          7.717895030975342,
          7.784210205078125,
          6.789474010467529,
          6.789474010467529,
          7.717895030975342,
          6.922105312347412,
          7.320000171661377,
          7.784210205078125,
          6.789474010467529,
          6.789474010467529,
          7.9389472007751465,
          7.784210205078125,
          5.297368049621582,
          6.955263137817383,
          7.286842346191406,
          7.320000171661377,
          7.585263252258301,
          7.45263147354126,
          8.115789413452148,
          7.320000171661377,
          7.850526332855225,
          7.983158111572266,
          7.054737091064453,
          7.673684597015381,
          7.054737091064453,
          7.320000171661377,
          7.585263252258301,
          6.789474010467529,
          7.1210527420043945,
          7.45263147354126,
          6.789474010467529,
          7.054737091064453,
          7.320000171661377,
          7.45263147354126,
          7.45263147354126,
          7.585263252258301,
          7.950000286102295
         ]
        },
        {
         "mode": "lines",
         "name": "Predicted (16)",
         "type": "scatter",
         "visible": false,
         "x": [
          "2014-03-13",
          "2014-03-14",
          "2014-03-15",
          "2014-03-16",
          "2014-03-17",
          "2014-03-18",
          "2014-03-19",
          "2014-03-20",
          "2014-03-21",
          "2014-03-22",
          "2014-03-23",
          "2014-03-24",
          "2014-03-25",
          "2014-03-26",
          "2014-03-27",
          "2014-03-28",
          "2014-03-29",
          "2014-03-30",
          "2014-03-31",
          "2014-04-01",
          "2014-04-02",
          "2014-04-03",
          "2014-04-04",
          "2014-04-05",
          "2014-04-06",
          "2014-04-07",
          "2014-04-08",
          "2014-04-09",
          "2014-04-10",
          "2014-04-11",
          "2014-04-12",
          "2014-04-13",
          "2014-04-14",
          "2014-04-15",
          "2014-04-16",
          "2014-04-17",
          "2014-04-18",
          "2014-04-19",
          "2014-04-20",
          "2014-04-21",
          "2014-04-22",
          "2014-04-23",
          "2014-04-24"
         ],
         "y": [
          6.438272953033447,
          6.314382553100586,
          6.0055251121521,
          6.484165668487549,
          6.564057350158691,
          6.5994133949279785,
          6.2799601554870605,
          6.569468975067139,
          6.321365833282471,
          6.479629993438721,
          6.037780284881592,
          6.392388343811035,
          5.981260776519775,
          6.485743045806885,
          6.239462375640869,
          6.380189418792725,
          6.541100978851318,
          6.573050498962402,
          6.019811630249023,
          6.457961559295654,
          6.297645568847656,
          6.471555233001709,
          6.386094093322754,
          6.508028984069824,
          6.549127578735352,
          6.182257175445557,
          6.586148262023926,
          6.305258750915527,
          6.540579319000244,
          6.576138973236084,
          6.242706775665283,
          6.2501606941223145,
          6.158175468444824,
          6.542433261871338,
          6.2664289474487305,
          6.409952640533447,
          6.315733432769775,
          6.215472221374512,
          6.391153335571289,
          6.17720365524292,
          6.217512130737305,
          6.013326644897461,
          6.542972087860107
         ]
        },
        {
         "mode": "lines",
         "name": "Real (17)",
         "type": "scatter",
         "visible": false,
         "x": [
          "2014-03-04",
          "2014-03-05",
          "2014-03-06",
          "2014-03-07",
          "2014-03-08",
          "2014-03-09",
          "2014-03-10",
          "2014-03-11",
          "2014-03-12",
          "2014-03-13",
          "2014-03-14",
          "2014-03-15",
          "2014-03-16",
          "2014-03-17",
          "2014-03-18",
          "2014-03-19",
          "2014-03-20",
          "2014-03-21",
          "2014-03-22",
          "2014-03-23",
          "2014-03-24",
          "2014-03-25",
          "2014-03-26",
          "2014-03-27",
          "2014-03-28",
          "2014-03-29",
          "2014-03-30",
          "2014-03-31",
          "2014-04-01",
          "2014-04-02",
          "2014-04-03",
          "2014-04-04",
          "2014-04-05",
          "2014-04-06",
          "2014-04-07",
          "2014-04-08",
          "2014-04-09",
          "2014-04-10",
          "2014-04-11",
          "2014-04-12",
          "2014-04-13",
          "2014-04-14",
          "2014-04-15",
          "2014-04-16",
          "2014-04-17",
          "2014-04-18",
          "2014-04-19",
          "2014-04-20",
          "2014-04-21",
          "2014-04-22"
         ],
         "y": [
          5.9052629470825195,
          6.789474010467529,
          7.717895030975342,
          7.6184210777282715,
          7.6184210777282715,
          7.286842346191406,
          7.45263147354126,
          7.585263252258301,
          7.45263147354126,
          7.286842346191406,
          7.286842346191406,
          7.585263252258301,
          6.789474010467529,
          7.585263252258301,
          7.950000286102295,
          8.28157901763916,
          7.6184210777282715,
          8.115789413452148,
          7.054737091064453,
          7.717895030975342,
          7.054737091064453,
          7.983158111572266,
          7.187368392944336,
          7.585263252258301,
          6.922105312347412,
          7.320000171661377,
          7.1210527420043945,
          7.585263252258301,
          7.850526332855225,
          7.585263252258301,
          7.784210205078125,
          7.45263147354126,
          6.922105312347412,
          7.187368392944336,
          7.187368392944336,
          7.717895030975342,
          7.1210527420043945,
          7.1210527420043945,
          7.054737091064453,
          6.65684175491333,
          7.585263252258301,
          7.585263252258301,
          7.7747368812561035,
          7.054737091064453,
          7.45263147354126,
          7.585263252258301,
          7.6184210777282715,
          6.789474010467529,
          6.922105312347412,
          7.585263252258301
         ]
        },
        {
         "mode": "lines",
         "name": "Predicted (17)",
         "type": "scatter",
         "visible": false,
         "x": [
          "2014-03-04",
          "2014-03-05",
          "2014-03-06",
          "2014-03-07",
          "2014-03-08",
          "2014-03-09",
          "2014-03-10",
          "2014-03-11",
          "2014-03-12",
          "2014-03-13",
          "2014-03-14",
          "2014-03-15",
          "2014-03-16",
          "2014-03-17",
          "2014-03-18",
          "2014-03-19",
          "2014-03-20",
          "2014-03-21",
          "2014-03-22",
          "2014-03-23",
          "2014-03-24",
          "2014-03-25",
          "2014-03-26",
          "2014-03-27",
          "2014-03-28",
          "2014-03-29",
          "2014-03-30",
          "2014-03-31",
          "2014-04-01",
          "2014-04-02",
          "2014-04-03",
          "2014-04-04",
          "2014-04-05",
          "2014-04-06",
          "2014-04-07",
          "2014-04-08",
          "2014-04-09",
          "2014-04-10",
          "2014-04-11",
          "2014-04-12",
          "2014-04-13",
          "2014-04-14",
          "2014-04-15",
          "2014-04-16",
          "2014-04-17",
          "2014-04-18",
          "2014-04-19",
          "2014-04-20",
          "2014-04-21",
          "2014-04-22"
         ],
         "y": [
          6.422175407409668,
          6.300868988037109,
          6.5330915451049805,
          6.37643575668335,
          6.516317844390869,
          6.167208194732666,
          6.424976348876953,
          6.420194625854492,
          6.29239559173584,
          6.174160957336426,
          6.544064521789551,
          6.444687366485596,
          6.532121181488037,
          6.494167804718018,
          6.588013172149658,
          6.262619972229004,
          6.012849807739258,
          6.5512919425964355,
          6.5207624435424805,
          6.269097805023193,
          6.405453205108643,
          6.536865234375,
          6.23190450668335,
          6.329153060913086,
          6.328617095947266,
          6.522289276123047,
          6.089692115783691,
          6.411900520324707,
          6.242403984069824,
          5.966961860656738,
          6.166617393493652,
          6.598915100097656,
          6.523502826690674,
          6.264662265777588,
          6.3948163986206055,
          6.453351020812988,
          6.272959232330322,
          6.481204032897949,
          6.418758392333984,
          5.950243949890137,
          6.014743804931641,
          6.217642307281494,
          6.4584550857543945,
          6.021847724914551,
          6.365023136138916,
          6.5450334548950195,
          6.2039384841918945,
          6.299410820007324,
          6.220912456512451,
          6.589354038238525
         ]
        },
        {
         "mode": "lines",
         "name": "Real (19)",
         "type": "scatter",
         "visible": false,
         "x": [
          "2014-03-21",
          "2014-03-22",
          "2014-03-23",
          "2014-03-24",
          "2014-03-25",
          "2014-03-26",
          "2014-03-27",
          "2014-03-28",
          "2014-03-29",
          "2014-03-30",
          "2014-03-31",
          "2014-04-01",
          "2014-04-02",
          "2014-04-03",
          "2014-04-04",
          "2014-04-05",
          "2014-04-06",
          "2014-04-07",
          "2014-04-08",
          "2014-04-09",
          "2014-04-10",
          "2014-04-11",
          "2014-04-12",
          "2014-04-13",
          "2014-04-14",
          "2014-04-15",
          "2014-04-16",
          "2014-04-17",
          "2014-04-18",
          "2014-04-19",
          "2014-04-20",
          "2014-04-21",
          "2014-04-22",
          "2014-04-23",
          "2014-04-24",
          "2014-04-25"
         ],
         "y": [
          7.850526332855225,
          7.45263147354126,
          7.784210205078125,
          8.042104721069336,
          6.789474010467529,
          8.28157901763916,
          7.320000171661377,
          7.45263147354126,
          6.789474010467529,
          7.717895030975342,
          7.1210527420043945,
          8.447368621826172,
          7.45263147354126,
          7.850526332855225,
          4.800000190734863,
          7.320000171661377,
          7.45263147354126,
          7.717895030975342,
          7.45263147354126,
          6.789474010467529,
          7.983158111572266,
          7.054737091064453,
          7.717895030975342,
          7.784210205078125,
          7.231578826904297,
          7.585263252258301,
          7.8947367668151855,
          6.457894802093506,
          7.187368392944336,
          7.673684597015381,
          8.115789413452148,
          7.45263147354126,
          7.45263147354126,
          7.45263147354126,
          6.789474010467529,
          7.784210205078125
         ]
        },
        {
         "mode": "lines",
         "name": "Predicted (19)",
         "type": "scatter",
         "visible": false,
         "x": [
          "2014-03-21",
          "2014-03-22",
          "2014-03-23",
          "2014-03-24",
          "2014-03-25",
          "2014-03-26",
          "2014-03-27",
          "2014-03-28",
          "2014-03-29",
          "2014-03-30",
          "2014-03-31",
          "2014-04-01",
          "2014-04-02",
          "2014-04-03",
          "2014-04-04",
          "2014-04-05",
          "2014-04-06",
          "2014-04-07",
          "2014-04-08",
          "2014-04-09",
          "2014-04-10",
          "2014-04-11",
          "2014-04-12",
          "2014-04-13",
          "2014-04-14",
          "2014-04-15",
          "2014-04-16",
          "2014-04-17",
          "2014-04-18",
          "2014-04-19",
          "2014-04-20",
          "2014-04-21",
          "2014-04-22",
          "2014-04-23",
          "2014-04-24",
          "2014-04-25"
         ],
         "y": [
          6.249197483062744,
          6.595688819885254,
          6.093188285827637,
          6.56512975692749,
          6.561271667480469,
          6.154475212097168,
          6.116897106170654,
          6.46330451965332,
          6.297665596008301,
          6.455785274505615,
          6.594629287719727,
          6.587766647338867,
          6.184597969055176,
          6.174249649047852,
          6.066612243652344,
          6.584912300109863,
          6.354786396026611,
          6.523688793182373,
          6.495573997497559,
          6.418718338012695,
          6.192607879638672,
          6.43174934387207,
          6.543352127075195,
          6.581840515136719,
          6.0303497314453125,
          6.525312423706055,
          6.599018096923828,
          6.109332084655762,
          6.377214431762695,
          6.312436103820801,
          6.575882434844971,
          6.533449172973633,
          6.176035404205322,
          6.410243988037109,
          6.574475288391113,
          6.484864711761475
         ]
        },
        {
         "mode": "lines",
         "name": "Real (20)",
         "type": "scatter",
         "visible": false,
         "x": [
          "2014-03-20",
          "2014-03-21",
          "2014-03-22",
          "2014-03-23",
          "2014-03-24",
          "2014-03-25",
          "2014-03-26",
          "2014-03-27",
          "2014-03-28",
          "2014-03-29",
          "2014-03-30",
          "2014-03-31",
          "2014-04-01",
          "2014-04-02",
          "2014-04-03",
          "2014-04-04",
          "2014-04-05",
          "2014-04-06",
          "2014-04-07",
          "2014-04-08",
          "2014-04-09",
          "2014-04-10",
          "2014-04-11",
          "2014-04-12",
          "2014-04-13",
          "2014-04-14",
          "2014-04-15",
          "2014-04-16",
          "2014-04-17",
          "2014-04-18",
          "2014-04-19",
          "2014-04-20",
          "2014-04-21",
          "2014-04-22",
          "2014-04-23",
          "2014-04-24",
          "2014-04-25"
         ],
         "y": [
          7.850526332855225,
          8.115789413452148,
          7.585263252258301,
          7.950000286102295,
          7.187368392944336,
          5.728420734405518,
          7.45263147354126,
          7.1210527420043945,
          6.789474010467529,
          7.1210527420043945,
          7.45263147354126,
          6.789474010467529,
          8.115789413452148,
          7.784210205078125,
          6.623684406280518,
          7.784210205078125,
          7.45263147354126,
          7.342105388641357,
          7.6184210777282715,
          7.286842346191406,
          7.983158111572266,
          7.717895030975342,
          6.789474010467529,
          7.010526657104492,
          7.45263147354126,
          7.1210527420043945,
          6.922105312347412,
          7.45263147354126,
          8.38105297088623,
          6.922105312347412,
          7.983158111572266,
          8.115789413452148,
          7.054737091064453,
          7.850526332855225,
          7.850526332855225,
          7.45263147354126,
          6.922105312347412
         ]
        },
        {
         "mode": "lines",
         "name": "Predicted (20)",
         "type": "scatter",
         "visible": false,
         "x": [
          "2014-03-20",
          "2014-03-21",
          "2014-03-22",
          "2014-03-23",
          "2014-03-24",
          "2014-03-25",
          "2014-03-26",
          "2014-03-27",
          "2014-03-28",
          "2014-03-29",
          "2014-03-30",
          "2014-03-31",
          "2014-04-01",
          "2014-04-02",
          "2014-04-03",
          "2014-04-04",
          "2014-04-05",
          "2014-04-06",
          "2014-04-07",
          "2014-04-08",
          "2014-04-09",
          "2014-04-10",
          "2014-04-11",
          "2014-04-12",
          "2014-04-13",
          "2014-04-14",
          "2014-04-15",
          "2014-04-16",
          "2014-04-17",
          "2014-04-18",
          "2014-04-19",
          "2014-04-20",
          "2014-04-21",
          "2014-04-22",
          "2014-04-23",
          "2014-04-24",
          "2014-04-25"
         ],
         "y": [
          6.408207416534424,
          6.245797157287598,
          6.437735557556152,
          6.214545249938965,
          6.420403957366943,
          6.131962776184082,
          6.401277542114258,
          6.2657036781311035,
          6.357742786407471,
          6.341991901397705,
          6.591371059417725,
          6.327075958251953,
          6.5221662521362305,
          6.566849231719971,
          6.2908806800842285,
          6.576385974884033,
          6.367490768432617,
          6.49141788482666,
          6.229079723358154,
          6.208400249481201,
          6.60056734085083,
          6.296828746795654,
          6.098949909210205,
          6.21169376373291,
          6.218906879425049,
          6.258360862731934,
          6.438320636749268,
          6.422088623046875,
          6.557833671569824,
          6.5806732177734375,
          6.592160224914551,
          5.9999189376831055,
          6.527411460876465,
          6.580440521240234,
          6.267254829406738,
          6.587400436401367,
          6.533135890960693
         ]
        },
        {
         "mode": "lines",
         "name": "Real (23)",
         "type": "scatter",
         "visible": false,
         "x": [
          "2014-03-22",
          "2014-03-23",
          "2014-03-24",
          "2014-03-25",
          "2014-03-26",
          "2014-03-27",
          "2014-03-28",
          "2014-03-29",
          "2014-03-30",
          "2014-03-31",
          "2014-04-01",
          "2014-04-02",
          "2014-04-03",
          "2014-04-04",
          "2014-04-05",
          "2014-04-06",
          "2014-04-07",
          "2014-04-08",
          "2014-04-09",
          "2014-04-10",
          "2014-04-11",
          "2014-04-12",
          "2014-04-13",
          "2014-04-14",
          "2014-04-15",
          "2014-04-16",
          "2014-04-17",
          "2014-04-18",
          "2014-04-19",
          "2014-04-20",
          "2014-04-21",
          "2014-04-22"
         ],
         "y": [
          7.45263147354126,
          7.6184210777282715,
          7.45263147354126,
          7.45263147354126,
          7.585263252258301,
          8.115789413452148,
          7.187368392944336,
          6.955263137817383,
          7.1210527420043945,
          7.585263252258301,
          7.585263252258301,
          7.585263252258301,
          7.45263147354126,
          7.784210205078125,
          7.717895030975342,
          6.258947372436523,
          7.1210527420043945,
          7.983158111572266,
          6.789474010467529,
          6.3915791511535645,
          7.054737091064453,
          7.717895030975342,
          8.115789413452148,
          6.922105312347412,
          5.021052360534668,
          7.187368392944336,
          7.784210205078125,
          6.922105312347412,
          7.010526657104492,
          7.945263385772705,
          7.45263147354126,
          7.45263147354126
         ]
        },
        {
         "mode": "lines",
         "name": "Predicted (23)",
         "type": "scatter",
         "visible": false,
         "x": [
          "2014-03-22",
          "2014-03-23",
          "2014-03-24",
          "2014-03-25",
          "2014-03-26",
          "2014-03-27",
          "2014-03-28",
          "2014-03-29",
          "2014-03-30",
          "2014-03-31",
          "2014-04-01",
          "2014-04-02",
          "2014-04-03",
          "2014-04-04",
          "2014-04-05",
          "2014-04-06",
          "2014-04-07",
          "2014-04-08",
          "2014-04-09",
          "2014-04-10",
          "2014-04-11",
          "2014-04-12",
          "2014-04-13",
          "2014-04-14",
          "2014-04-15",
          "2014-04-16",
          "2014-04-17",
          "2014-04-18",
          "2014-04-19",
          "2014-04-20",
          "2014-04-21",
          "2014-04-22"
         ],
         "y": [
          6.500458240509033,
          6.457777976989746,
          6.560970306396484,
          6.234506607055664,
          6.346463680267334,
          6.605515003204346,
          6.165754318237305,
          6.296719551086426,
          6.284961223602295,
          6.209790229797363,
          6.526829719543457,
          6.546718120574951,
          6.330997467041016,
          6.465522766113281,
          6.485567092895508,
          6.489427089691162,
          6.367075443267822,
          6.558955669403076,
          6.565849304199219,
          6.290897369384766,
          6.527256965637207,
          6.492678642272949,
          6.230703830718994,
          6.222413063049316,
          6.112131118774414,
          5.968054294586182,
          6.042041778564453,
          6.208822250366211,
          6.221611976623535,
          6.459522724151611,
          6.5648956298828125,
          6.2136735916137695
         ]
        },
        {
         "mode": "lines",
         "name": "Real (24)",
         "type": "scatter",
         "visible": false,
         "x": [
          "2014-04-14",
          "2014-04-15",
          "2014-04-16",
          "2014-04-17",
          "2014-04-18",
          "2014-04-19",
          "2014-04-20",
          "2014-04-21",
          "2014-04-22",
          "2014-04-23",
          "2014-04-24",
          "2014-04-25",
          "2014-04-26",
          "2014-04-27",
          "2014-04-28",
          "2014-04-29",
          "2014-04-30",
          "2014-05-01",
          "2014-05-02",
          "2014-05-03",
          "2014-05-04",
          "2014-05-05",
          "2014-05-06",
          "2014-05-07",
          "2014-05-08",
          "2014-05-09",
          "2014-05-10",
          "2014-05-11",
          "2014-05-12",
          "2014-05-13",
          "2014-05-14",
          "2014-05-15",
          "2014-05-16",
          "2014-05-17",
          "2014-05-18",
          "2014-05-19",
          "2014-05-20",
          "2014-05-21",
          "2014-05-22",
          "2014-05-23",
          "2014-05-24",
          "2014-05-25",
          "2014-05-26",
          "2014-05-27"
         ],
         "y": [
          7.187368392944336,
          7.45263147354126,
          7.45263147354126,
          8.115789413452148,
          7.784210205078125,
          8.248420715332031,
          7.286842346191406,
          7.585263252258301,
          7.45263147354126,
          7.950000286102295,
          7.983158111572266,
          7.054737091064453,
          8.28157901763916,
          6.789474010467529,
          6.922105312347412,
          7.45263147354126,
          8.115789413452148,
          7.45263147354126,
          6.347368240356445,
          6.922105312347412,
          7.286842346191406,
          7.054737091064453,
          7.6184210777282715,
          8.248420715332031,
          7.585263252258301,
          5.1315789222717285,
          7.1210527420043945,
          5.960525989532471,
          6.955263137817383,
          8.115789413452148,
          7.717895030975342,
          7.45263147354126,
          7.45263147354126,
          7.747368335723877,
          7.45263147354126,
          8.115789413452148,
          7.320000171661377,
          7.45263147354126,
          7.6184210777282715,
          6.955263137817383,
          7.286842346191406,
          7.320000171661377,
          7.585263252258301,
          7.45263147354126
         ]
        },
        {
         "mode": "lines",
         "name": "Predicted (24)",
         "type": "scatter",
         "visible": false,
         "x": [
          "2014-04-14",
          "2014-04-15",
          "2014-04-16",
          "2014-04-17",
          "2014-04-18",
          "2014-04-19",
          "2014-04-20",
          "2014-04-21",
          "2014-04-22",
          "2014-04-23",
          "2014-04-24",
          "2014-04-25",
          "2014-04-26",
          "2014-04-27",
          "2014-04-28",
          "2014-04-29",
          "2014-04-30",
          "2014-05-01",
          "2014-05-02",
          "2014-05-03",
          "2014-05-04",
          "2014-05-05",
          "2014-05-06",
          "2014-05-07",
          "2014-05-08",
          "2014-05-09",
          "2014-05-10",
          "2014-05-11",
          "2014-05-12",
          "2014-05-13",
          "2014-05-14",
          "2014-05-15",
          "2014-05-16",
          "2014-05-17",
          "2014-05-18",
          "2014-05-19",
          "2014-05-20",
          "2014-05-21",
          "2014-05-22",
          "2014-05-23",
          "2014-05-24",
          "2014-05-25",
          "2014-05-26",
          "2014-05-27"
         ],
         "y": [
          6.282299041748047,
          6.027921199798584,
          6.131467819213867,
          6.56512451171875,
          6.55499792098999,
          6.323704719543457,
          6.4222235679626465,
          6.609597682952881,
          6.537699222564697,
          6.572175025939941,
          6.558760643005371,
          6.319452285766602,
          6.474181652069092,
          6.5879807472229,
          6.496130466461182,
          6.564459323883057,
          6.580526351928711,
          6.543973922729492,
          5.925710678100586,
          6.574418067932129,
          6.439228057861328,
          6.30492639541626,
          6.02421760559082,
          6.527014255523682,
          6.537890911102295,
          6.300460338592529,
          6.544201374053955,
          6.130970478057861,
          6.480775356292725,
          6.503437519073486,
          6.542612552642822,
          6.16187858581543,
          6.3304057121276855,
          6.555484294891357,
          6.395847320556641,
          6.335547924041748,
          6.301835536956787,
          6.165473937988281,
          6.568902969360352,
          6.484494209289551,
          6.353719711303711,
          6.537737846374512,
          6.194377422332764,
          6.593580722808838
         ]
        },
        {
         "mode": "lines",
         "name": "Real (25)",
         "type": "scatter",
         "visible": false,
         "x": [
          "2014-04-08",
          "2014-04-09",
          "2014-04-10",
          "2014-04-11",
          "2014-04-12",
          "2014-04-13",
          "2014-04-14",
          "2014-04-15",
          "2014-04-16",
          "2014-04-17",
          "2014-04-18",
          "2014-04-19",
          "2014-04-20",
          "2014-04-21",
          "2014-04-22",
          "2014-04-23",
          "2014-04-24",
          "2014-04-25",
          "2014-04-26",
          "2014-04-27",
          "2014-04-28",
          "2014-04-29",
          "2014-04-30",
          "2014-05-01"
         ],
         "y": [
          7.45263147354126,
          7.45263147354126,
          8.115789413452148,
          7.45263147354126,
          7.45263147354126,
          7.717895030975342,
          7.983158111572266,
          7.585263252258301,
          7.054737091064453,
          7.054737091064453,
          6.65684175491333,
          7.850526332855225,
          7.8947367668151855,
          8.115789413452148,
          7.054737091064453,
          7.1210527420043945,
          7.45263147354126,
          6.922105312347412,
          7.983158111572266,
          7.983158111572266,
          7.054737091064453,
          7.950000286102295,
          7.320000171661377,
          7.45263147354126
         ]
        },
        {
         "mode": "lines",
         "name": "Predicted (25)",
         "type": "scatter",
         "visible": false,
         "x": [
          "2014-04-08",
          "2014-04-09",
          "2014-04-10",
          "2014-04-11",
          "2014-04-12",
          "2014-04-13",
          "2014-04-14",
          "2014-04-15",
          "2014-04-16",
          "2014-04-17",
          "2014-04-18",
          "2014-04-19",
          "2014-04-20",
          "2014-04-21",
          "2014-04-22",
          "2014-04-23",
          "2014-04-24",
          "2014-04-25",
          "2014-04-26",
          "2014-04-27",
          "2014-04-28",
          "2014-04-29",
          "2014-04-30",
          "2014-05-01"
         ],
         "y": [
          6.291439533233643,
          6.250424385070801,
          6.565810203552246,
          6.3106369972229,
          6.452699184417725,
          6.243362903594971,
          6.4596357345581055,
          6.3898091316223145,
          6.302580833435059,
          6.537446975708008,
          6.284729957580566,
          6.55077600479126,
          6.548523426055908,
          6.539469242095947,
          6.427488327026367,
          6.464262008666992,
          6.493188858032227,
          6.523201942443848,
          6.294774055480957,
          6.573308944702148,
          6.469538688659668,
          6.322670936584473,
          6.525857448577881,
          6.418491363525391
         ]
        },
        {
         "mode": "lines",
         "name": "Real (26)",
         "type": "scatter",
         "visible": false,
         "x": [
          "2014-03-23",
          "2014-03-24",
          "2014-03-25",
          "2014-03-26",
          "2014-03-27",
          "2014-03-28",
          "2014-03-29",
          "2014-03-30",
          "2014-03-31",
          "2014-04-01",
          "2014-04-02",
          "2014-04-03",
          "2014-04-04",
          "2014-04-05",
          "2014-04-06",
          "2014-04-07",
          "2014-04-08",
          "2014-04-09",
          "2014-04-10",
          "2014-04-11",
          "2014-04-12",
          "2014-04-13",
          "2014-04-14",
          "2014-04-15",
          "2014-04-16",
          "2014-04-17",
          "2014-04-18",
          "2014-04-19",
          "2014-04-20",
          "2014-04-21",
          "2014-04-22",
          "2014-04-23",
          "2014-04-24",
          "2014-04-25",
          "2014-04-26",
          "2014-04-27",
          "2014-04-28",
          "2014-04-29",
          "2014-04-30",
          "2014-05-01",
          "2014-05-02",
          "2014-05-03",
          "2014-05-04",
          "2014-05-05",
          "2014-05-06",
          "2014-05-07",
          "2014-05-08",
          "2014-05-09",
          "2014-05-10",
          "2014-05-11",
          "2014-05-12",
          "2014-05-13",
          "2014-05-14",
          "2014-05-15",
          "2014-05-16"
         ],
         "y": [
          7.45263147354126,
          6.955263137817383,
          7.45263147354126,
          7.717895030975342,
          7.45263147354126,
          6.789474010467529,
          7.187368392944336,
          6.789474010467529,
          8.115789413452148,
          6.955263137817383,
          7.45263147354126,
          8.38105297088623,
          7.45263147354126,
          7.784210205078125,
          7.850526332855225,
          7.45263147354126,
          7.45263147354126,
          7.784210205078125,
          7.850526332855225,
          7.45263147354126,
          7.054737091064453,
          7.850526332855225,
          6.922105312347412,
          7.1210527420043945,
          6.65684175491333,
          7.585263252258301,
          7.784210205078125,
          7.320000171661377,
          7.1210527420043945,
          7.1210527420043945,
          7.45263147354126,
          7.717895030975342,
          7.585263252258301,
          7.45263147354126,
          7.585263252258301,
          6.789474010467529,
          7.585263252258301,
          6.789474010467529,
          7.010526657104492,
          6.126316070556641,
          7.054737091064453,
          7.45263147354126,
          6.922105312347412,
          7.983158111572266,
          8.447368621826172,
          8.115789413452148,
          7.054737091064453,
          6.3915791511535645,
          7.45263147354126,
          7.342105388641357,
          6.789474010467529,
          7.850526332855225,
          7.6184210777282715,
          8.248420715332031,
          8.115789413452148
         ]
        },
        {
         "mode": "lines",
         "name": "Predicted (26)",
         "type": "scatter",
         "visible": false,
         "x": [
          "2014-03-23",
          "2014-03-24",
          "2014-03-25",
          "2014-03-26",
          "2014-03-27",
          "2014-03-28",
          "2014-03-29",
          "2014-03-30",
          "2014-03-31",
          "2014-04-01",
          "2014-04-02",
          "2014-04-03",
          "2014-04-04",
          "2014-04-05",
          "2014-04-06",
          "2014-04-07",
          "2014-04-08",
          "2014-04-09",
          "2014-04-10",
          "2014-04-11",
          "2014-04-12",
          "2014-04-13",
          "2014-04-14",
          "2014-04-15",
          "2014-04-16",
          "2014-04-17",
          "2014-04-18",
          "2014-04-19",
          "2014-04-20",
          "2014-04-21",
          "2014-04-22",
          "2014-04-23",
          "2014-04-24",
          "2014-04-25",
          "2014-04-26",
          "2014-04-27",
          "2014-04-28",
          "2014-04-29",
          "2014-04-30",
          "2014-05-01",
          "2014-05-02",
          "2014-05-03",
          "2014-05-04",
          "2014-05-05",
          "2014-05-06",
          "2014-05-07",
          "2014-05-08",
          "2014-05-09",
          "2014-05-10",
          "2014-05-11",
          "2014-05-12",
          "2014-05-13",
          "2014-05-14",
          "2014-05-15",
          "2014-05-16"
         ],
         "y": [
          6.179384708404541,
          6.180316925048828,
          6.471757411956787,
          6.451729774475098,
          6.576315879821777,
          6.262936115264893,
          6.216635704040527,
          6.322865009307861,
          6.522214889526367,
          6.567612648010254,
          6.431279182434082,
          6.4562859535217285,
          6.29050874710083,
          6.36325216293335,
          6.317073345184326,
          6.371943473815918,
          6.566101551055908,
          6.542652606964111,
          6.1502766609191895,
          6.603174686431885,
          6.276939868927002,
          6.049964427947998,
          6.530519008636475,
          6.50170373916626,
          6.270418167114258,
          6.420016288757324,
          6.46648645401001,
          6.5229082107543945,
          6.518320083618164,
          5.975786209106445,
          6.576889991760254,
          6.408661365509033,
          6.197653293609619,
          6.409914970397949,
          6.319138050079346,
          6.52763557434082,
          6.339488506317139,
          6.380941390991211,
          6.486659526824951,
          6.5474748611450195,
          6.115137100219727,
          6.111172199249268,
          6.119716167449951,
          6.596268177032471,
          6.581460952758789,
          6.345259189605713,
          6.078808784484863,
          6.407957553863525,
          6.377596855163574,
          6.579472541809082,
          6.547399520874023,
          6.578275680541992,
          6.59133768081665,
          6.186343669891357,
          6.508586406707764
         ]
        },
        {
         "mode": "lines",
         "name": "Real (27)",
         "type": "scatter",
         "visible": false,
         "x": [
          "2014-04-03",
          "2014-04-04",
          "2014-04-05",
          "2014-04-06",
          "2014-04-07",
          "2014-04-08",
          "2014-04-09",
          "2014-04-10",
          "2014-04-11",
          "2014-04-12",
          "2014-04-13",
          "2014-04-14",
          "2014-04-15",
          "2014-04-16",
          "2014-04-17",
          "2014-04-18",
          "2014-04-19",
          "2014-04-20",
          "2014-04-21",
          "2014-04-22",
          "2014-04-23",
          "2014-04-24",
          "2014-04-25",
          "2014-04-26",
          "2014-04-27",
          "2014-04-28",
          "2014-04-29",
          "2014-04-30",
          "2014-05-01",
          "2014-05-02",
          "2014-05-03",
          "2014-05-04",
          "2014-05-05",
          "2014-05-06"
         ],
         "y": [
          7.983158111572266,
          7.717895030975342,
          6.292105197906494,
          7.6184210777282715,
          8.646316528320312,
          8.115789413452148,
          7.187368392944336,
          7.054737091064453,
          7.320000171661377,
          7.320000171661377,
          6.922105312347412,
          7.983158111572266,
          7.850526332855225,
          7.320000171661377,
          7.054737091064453,
          7.717895030975342,
          7.187368392944336,
          7.187368392944336,
          7.286842346191406,
          7.286842346191406,
          8.115789413452148,
          7.983158111572266,
          9,
          7.850526332855225,
          7.585263252258301,
          7.1210527420043945,
          7.717895030975342,
          7.850526332855225,
          7.45263147354126,
          7.286842346191406,
          7.717895030975342,
          7.717895030975342,
          7.45263147354126,
          7.054737091064453
         ]
        },
        {
         "mode": "lines",
         "name": "Predicted (27)",
         "type": "scatter",
         "visible": false,
         "x": [
          "2014-04-03",
          "2014-04-04",
          "2014-04-05",
          "2014-04-06",
          "2014-04-07",
          "2014-04-08",
          "2014-04-09",
          "2014-04-10",
          "2014-04-11",
          "2014-04-12",
          "2014-04-13",
          "2014-04-14",
          "2014-04-15",
          "2014-04-16",
          "2014-04-17",
          "2014-04-18",
          "2014-04-19",
          "2014-04-20",
          "2014-04-21",
          "2014-04-22",
          "2014-04-23",
          "2014-04-24",
          "2014-04-25",
          "2014-04-26",
          "2014-04-27",
          "2014-04-28",
          "2014-04-29",
          "2014-04-30",
          "2014-05-01",
          "2014-05-02",
          "2014-05-03",
          "2014-05-04",
          "2014-05-05",
          "2014-05-06"
         ],
         "y": [
          6.535919189453125,
          6.511445999145508,
          6.290524959564209,
          6.204366683959961,
          6.436309814453125,
          6.025201320648193,
          6.53708553314209,
          6.544079780578613,
          6.501728057861328,
          6.354071617126465,
          6.293964385986328,
          6.592878818511963,
          6.273073673248291,
          6.204003810882568,
          6.536073207855225,
          6.018277168273926,
          6.025225639343262,
          6.325768947601318,
          6.098188877105713,
          6.5408616065979,
          6.607053756713867,
          6.248894214630127,
          6.5545759201049805,
          6.035372734069824,
          6.517386436462402,
          6.515453815460205,
          6.597341060638428,
          6.542805194854736,
          6.394734859466553,
          6.170249938964844,
          6.299583911895752,
          6.593619346618652,
          6.262475490570068,
          6.213232040405273
         ]
        },
        {
         "mode": "lines",
         "name": "Real (28)",
         "type": "scatter",
         "visible": false,
         "x": [
          "2014-03-31",
          "2014-04-01",
          "2014-04-02",
          "2014-04-03",
          "2014-04-04",
          "2014-04-05",
          "2014-04-06",
          "2014-04-07",
          "2014-04-08",
          "2014-04-09",
          "2014-04-10",
          "2014-04-11",
          "2014-04-12",
          "2014-04-13",
          "2014-04-14",
          "2014-04-15",
          "2014-04-16",
          "2014-04-17",
          "2014-04-18",
          "2014-04-19",
          "2014-04-20",
          "2014-04-21",
          "2014-04-22",
          "2014-04-23",
          "2014-04-24",
          "2014-04-25",
          "2014-04-26",
          "2014-04-27",
          "2014-04-28",
          "2014-04-29",
          "2014-04-30"
         ],
         "y": [
          7.784210205078125,
          7.45263147354126,
          7.45263147354126,
          7.320000171661377,
          7.717895030975342,
          8.115789413452148,
          7.983158111572266,
          7.45263147354126,
          8.115789413452148,
          7.6184210777282715,
          6.922105312347412,
          7.717895030975342,
          7.585263252258301,
          8.115789413452148,
          8.513684272766113,
          7.784210205078125,
          7.286842346191406,
          7.320000171661377,
          7.45263147354126,
          8.115789413452148,
          7.585263252258301,
          7.850526332855225,
          7.850526332855225,
          7.983158111572266,
          7.983158111572266,
          7.784210205078125,
          7.320000171661377,
          8.115789413452148,
          6.789474010467529,
          7.45263147354126,
          7.054737091064453
         ]
        },
        {
         "mode": "lines",
         "name": "Predicted (28)",
         "type": "scatter",
         "visible": false,
         "x": [
          "2014-03-31",
          "2014-04-01",
          "2014-04-02",
          "2014-04-03",
          "2014-04-04",
          "2014-04-05",
          "2014-04-06",
          "2014-04-07",
          "2014-04-08",
          "2014-04-09",
          "2014-04-10",
          "2014-04-11",
          "2014-04-12",
          "2014-04-13",
          "2014-04-14",
          "2014-04-15",
          "2014-04-16",
          "2014-04-17",
          "2014-04-18",
          "2014-04-19",
          "2014-04-20",
          "2014-04-21",
          "2014-04-22",
          "2014-04-23",
          "2014-04-24",
          "2014-04-25",
          "2014-04-26",
          "2014-04-27",
          "2014-04-28",
          "2014-04-29",
          "2014-04-30"
         ],
         "y": [
          6.3001556396484375,
          6.425455570220947,
          6.469277858734131,
          6.518910884857178,
          6.436071872711182,
          6.578741073608398,
          6.370682716369629,
          6.201066017150879,
          6.330498695373535,
          6.57077693939209,
          6.571990489959717,
          6.546539783477783,
          6.5345988273620605,
          6.43361234664917,
          6.547138214111328,
          6.484282493591309,
          6.576479434967041,
          6.441636085510254,
          6.34264612197876,
          6.560538291931152,
          6.167165756225586,
          6.585195064544678,
          6.551357269287109,
          6.555187702178955,
          6.582772254943848,
          6.576138019561768,
          6.167102813720703,
          6.5103559494018555,
          6.482754707336426,
          6.544193267822266,
          6.357831954956055
         ]
        },
        {
         "mode": "lines",
         "name": "Real (29)",
         "type": "scatter",
         "visible": false,
         "x": [
          "2014-04-02",
          "2014-04-03",
          "2014-04-04",
          "2014-04-05",
          "2014-04-06",
          "2014-04-07",
          "2014-04-08",
          "2014-04-09",
          "2014-04-10",
          "2014-04-11",
          "2014-04-12",
          "2014-04-13",
          "2014-04-14",
          "2014-04-15",
          "2014-04-16",
          "2014-04-17",
          "2014-04-18",
          "2014-04-19",
          "2014-04-20",
          "2014-04-21",
          "2014-04-22",
          "2014-04-23",
          "2014-04-24",
          "2014-04-25",
          "2014-04-26",
          "2014-04-27",
          "2014-04-28",
          "2014-04-29",
          "2014-04-30",
          "2014-05-01",
          "2014-05-02",
          "2014-05-03",
          "2014-05-04",
          "2014-05-05",
          "2014-05-06"
         ],
         "y": [
          6.789474010467529,
          8.115789413452148,
          7.45263147354126,
          8.28157901763916,
          7.717895030975342,
          6.789474010467529,
          7.45263147354126,
          7.717895030975342,
          7.6184210777282715,
          7.585263252258301,
          7.585263252258301,
          8.115789413452148,
          7.187368392944336,
          7.320000171661377,
          6.872368335723877,
          6.922105312347412,
          7.45263147354126,
          7.6184210777282715,
          8.115789413452148,
          7.286842346191406,
          7.8947367668151855,
          7.784210205078125,
          7.320000171661377,
          7.45263147354126,
          6.789474010467529,
          7.320000171661377,
          8.248420715332031,
          7.45263147354126,
          7.717895030975342,
          6.922105312347412,
          7.45263147354126,
          7.187368392944336,
          7.187368392944336,
          7.585263252258301,
          7.220526218414307
         ]
        },
        {
         "mode": "lines",
         "name": "Predicted (29)",
         "type": "scatter",
         "visible": false,
         "x": [
          "2014-04-02",
          "2014-04-03",
          "2014-04-04",
          "2014-04-05",
          "2014-04-06",
          "2014-04-07",
          "2014-04-08",
          "2014-04-09",
          "2014-04-10",
          "2014-04-11",
          "2014-04-12",
          "2014-04-13",
          "2014-04-14",
          "2014-04-15",
          "2014-04-16",
          "2014-04-17",
          "2014-04-18",
          "2014-04-19",
          "2014-04-20",
          "2014-04-21",
          "2014-04-22",
          "2014-04-23",
          "2014-04-24",
          "2014-04-25",
          "2014-04-26",
          "2014-04-27",
          "2014-04-28",
          "2014-04-29",
          "2014-04-30",
          "2014-05-01",
          "2014-05-02",
          "2014-05-03",
          "2014-05-04",
          "2014-05-05",
          "2014-05-06"
         ],
         "y": [
          6.197123050689697,
          6.158505916595459,
          6.40640926361084,
          6.558654308319092,
          6.16099739074707,
          6.2830634117126465,
          6.561160087585449,
          6.153297424316406,
          6.423367023468018,
          6.171996593475342,
          6.353652477264404,
          6.5804762840271,
          6.1943440437316895,
          6.385309219360352,
          6.555592060089111,
          6.128787994384766,
          6.489513397216797,
          6.0601019859313965,
          6.221617698669434,
          6.527634620666504,
          6.218252658843994,
          6.169267654418945,
          6.416023254394531,
          6.38820219039917,
          6.147250652313232,
          6.274371147155762,
          6.568316459655762,
          6.422689437866211,
          6.3106818199157715,
          6.538168907165527,
          6.406105995178223,
          6.570918083190918,
          6.228298664093018,
          6.533447742462158,
          6.522426128387451
         ]
        },
        {
         "mode": "lines",
         "name": "Real (30)",
         "type": "scatter",
         "visible": false,
         "x": [
          "2014-03-20",
          "2014-03-21",
          "2014-03-22",
          "2014-03-23",
          "2014-03-24",
          "2014-03-25",
          "2014-03-26",
          "2014-03-27",
          "2014-03-28",
          "2014-03-29",
          "2014-03-30",
          "2014-03-31",
          "2014-04-01",
          "2014-04-02",
          "2014-04-03",
          "2014-04-04",
          "2014-04-05",
          "2014-04-06",
          "2014-04-07",
          "2014-04-08",
          "2014-04-09",
          "2014-04-10",
          "2014-04-11",
          "2014-04-12",
          "2014-04-13",
          "2014-04-14",
          "2014-04-15",
          "2014-04-16",
          "2014-04-17",
          "2014-04-18",
          "2014-04-19",
          "2014-04-20",
          "2014-04-21",
          "2014-04-22",
          "2014-04-23",
          "2014-04-24",
          "2014-04-25"
         ],
         "y": [
          6.623684406280518,
          7.6184210777282715,
          7.187368392944336,
          7.6184210777282715,
          7.45263147354126,
          7.45263147354126,
          6.524210453033447,
          7.45263147354126,
          7.784210205078125,
          7.585263252258301,
          7.45263147354126,
          7.1210527420043945,
          7.45263147354126,
          7.45263147354126,
          7.717895030975342,
          7.784210205078125,
          7.187368392944336,
          7.850526332855225,
          7.784210205078125,
          7.054737091064453,
          7.187368392944336,
          7.673684597015381,
          7.45263147354126,
          7.950000286102295,
          7.054737091064453,
          6.922105312347412,
          7.950000286102295,
          7.286842346191406,
          7.187368392944336,
          7.784210205078125,
          7.320000171661377,
          7.320000171661377,
          7.585263252258301,
          7.45263147354126,
          7.45263147354126,
          7.585263252258301,
          7.320000171661377
         ]
        },
        {
         "mode": "lines",
         "name": "Predicted (30)",
         "type": "scatter",
         "visible": false,
         "x": [
          "2014-03-20",
          "2014-03-21",
          "2014-03-22",
          "2014-03-23",
          "2014-03-24",
          "2014-03-25",
          "2014-03-26",
          "2014-03-27",
          "2014-03-28",
          "2014-03-29",
          "2014-03-30",
          "2014-03-31",
          "2014-04-01",
          "2014-04-02",
          "2014-04-03",
          "2014-04-04",
          "2014-04-05",
          "2014-04-06",
          "2014-04-07",
          "2014-04-08",
          "2014-04-09",
          "2014-04-10",
          "2014-04-11",
          "2014-04-12",
          "2014-04-13",
          "2014-04-14",
          "2014-04-15",
          "2014-04-16",
          "2014-04-17",
          "2014-04-18",
          "2014-04-19",
          "2014-04-20",
          "2014-04-21",
          "2014-04-22",
          "2014-04-23",
          "2014-04-24",
          "2014-04-25"
         ],
         "y": [
          6.54417610168457,
          6.37886381149292,
          6.520524501800537,
          6.401912689208984,
          6.396335124969482,
          6.305433750152588,
          6.329654216766357,
          6.325231552124023,
          6.435110569000244,
          6.195358753204346,
          6.589941501617432,
          6.290105819702148,
          6.4926042556762695,
          6.577197074890137,
          6.351822376251221,
          6.274458885192871,
          6.293015003204346,
          6.580810546875,
          6.240350723266602,
          6.441853046417236,
          6.324558734893799,
          6.445005416870117,
          6.330641269683838,
          6.013139247894287,
          6.2692060470581055,
          6.0544514656066895,
          6.261232376098633,
          6.3136067390441895,
          6.205028057098389,
          6.194101810455322,
          6.359116554260254,
          6.402254104614258,
          6.544573783874512,
          6.282003402709961,
          6.405351638793945,
          6.451339244842529,
          6.582883834838867
         ]
        }
       ],
       "layout": {
        "template": {
         "data": {
          "bar": [
           {
            "error_x": {
             "color": "#2a3f5f"
            },
            "error_y": {
             "color": "#2a3f5f"
            },
            "marker": {
             "line": {
              "color": "#E5ECF6",
              "width": 0.5
             },
             "pattern": {
              "fillmode": "overlay",
              "size": 10,
              "solidity": 0.2
             }
            },
            "type": "bar"
           }
          ],
          "barpolar": [
           {
            "marker": {
             "line": {
              "color": "#E5ECF6",
              "width": 0.5
             },
             "pattern": {
              "fillmode": "overlay",
              "size": 10,
              "solidity": 0.2
             }
            },
            "type": "barpolar"
           }
          ],
          "carpet": [
           {
            "aaxis": {
             "endlinecolor": "#2a3f5f",
             "gridcolor": "white",
             "linecolor": "white",
             "minorgridcolor": "white",
             "startlinecolor": "#2a3f5f"
            },
            "baxis": {
             "endlinecolor": "#2a3f5f",
             "gridcolor": "white",
             "linecolor": "white",
             "minorgridcolor": "white",
             "startlinecolor": "#2a3f5f"
            },
            "type": "carpet"
           }
          ],
          "choropleth": [
           {
            "colorbar": {
             "outlinewidth": 0,
             "ticks": ""
            },
            "type": "choropleth"
           }
          ],
          "contour": [
           {
            "colorbar": {
             "outlinewidth": 0,
             "ticks": ""
            },
            "colorscale": [
             [
              0,
              "#0d0887"
             ],
             [
              0.1111111111111111,
              "#46039f"
             ],
             [
              0.2222222222222222,
              "#7201a8"
             ],
             [
              0.3333333333333333,
              "#9c179e"
             ],
             [
              0.4444444444444444,
              "#bd3786"
             ],
             [
              0.5555555555555556,
              "#d8576b"
             ],
             [
              0.6666666666666666,
              "#ed7953"
             ],
             [
              0.7777777777777778,
              "#fb9f3a"
             ],
             [
              0.8888888888888888,
              "#fdca26"
             ],
             [
              1,
              "#f0f921"
             ]
            ],
            "type": "contour"
           }
          ],
          "contourcarpet": [
           {
            "colorbar": {
             "outlinewidth": 0,
             "ticks": ""
            },
            "type": "contourcarpet"
           }
          ],
          "heatmap": [
           {
            "colorbar": {
             "outlinewidth": 0,
             "ticks": ""
            },
            "colorscale": [
             [
              0,
              "#0d0887"
             ],
             [
              0.1111111111111111,
              "#46039f"
             ],
             [
              0.2222222222222222,
              "#7201a8"
             ],
             [
              0.3333333333333333,
              "#9c179e"
             ],
             [
              0.4444444444444444,
              "#bd3786"
             ],
             [
              0.5555555555555556,
              "#d8576b"
             ],
             [
              0.6666666666666666,
              "#ed7953"
             ],
             [
              0.7777777777777778,
              "#fb9f3a"
             ],
             [
              0.8888888888888888,
              "#fdca26"
             ],
             [
              1,
              "#f0f921"
             ]
            ],
            "type": "heatmap"
           }
          ],
          "heatmapgl": [
           {
            "colorbar": {
             "outlinewidth": 0,
             "ticks": ""
            },
            "colorscale": [
             [
              0,
              "#0d0887"
             ],
             [
              0.1111111111111111,
              "#46039f"
             ],
             [
              0.2222222222222222,
              "#7201a8"
             ],
             [
              0.3333333333333333,
              "#9c179e"
             ],
             [
              0.4444444444444444,
              "#bd3786"
             ],
             [
              0.5555555555555556,
              "#d8576b"
             ],
             [
              0.6666666666666666,
              "#ed7953"
             ],
             [
              0.7777777777777778,
              "#fb9f3a"
             ],
             [
              0.8888888888888888,
              "#fdca26"
             ],
             [
              1,
              "#f0f921"
             ]
            ],
            "type": "heatmapgl"
           }
          ],
          "histogram": [
           {
            "marker": {
             "pattern": {
              "fillmode": "overlay",
              "size": 10,
              "solidity": 0.2
             }
            },
            "type": "histogram"
           }
          ],
          "histogram2d": [
           {
            "colorbar": {
             "outlinewidth": 0,
             "ticks": ""
            },
            "colorscale": [
             [
              0,
              "#0d0887"
             ],
             [
              0.1111111111111111,
              "#46039f"
             ],
             [
              0.2222222222222222,
              "#7201a8"
             ],
             [
              0.3333333333333333,
              "#9c179e"
             ],
             [
              0.4444444444444444,
              "#bd3786"
             ],
             [
              0.5555555555555556,
              "#d8576b"
             ],
             [
              0.6666666666666666,
              "#ed7953"
             ],
             [
              0.7777777777777778,
              "#fb9f3a"
             ],
             [
              0.8888888888888888,
              "#fdca26"
             ],
             [
              1,
              "#f0f921"
             ]
            ],
            "type": "histogram2d"
           }
          ],
          "histogram2dcontour": [
           {
            "colorbar": {
             "outlinewidth": 0,
             "ticks": ""
            },
            "colorscale": [
             [
              0,
              "#0d0887"
             ],
             [
              0.1111111111111111,
              "#46039f"
             ],
             [
              0.2222222222222222,
              "#7201a8"
             ],
             [
              0.3333333333333333,
              "#9c179e"
             ],
             [
              0.4444444444444444,
              "#bd3786"
             ],
             [
              0.5555555555555556,
              "#d8576b"
             ],
             [
              0.6666666666666666,
              "#ed7953"
             ],
             [
              0.7777777777777778,
              "#fb9f3a"
             ],
             [
              0.8888888888888888,
              "#fdca26"
             ],
             [
              1,
              "#f0f921"
             ]
            ],
            "type": "histogram2dcontour"
           }
          ],
          "mesh3d": [
           {
            "colorbar": {
             "outlinewidth": 0,
             "ticks": ""
            },
            "type": "mesh3d"
           }
          ],
          "parcoords": [
           {
            "line": {
             "colorbar": {
              "outlinewidth": 0,
              "ticks": ""
             }
            },
            "type": "parcoords"
           }
          ],
          "pie": [
           {
            "automargin": true,
            "type": "pie"
           }
          ],
          "scatter": [
           {
            "fillpattern": {
             "fillmode": "overlay",
             "size": 10,
             "solidity": 0.2
            },
            "type": "scatter"
           }
          ],
          "scatter3d": [
           {
            "line": {
             "colorbar": {
              "outlinewidth": 0,
              "ticks": ""
             }
            },
            "marker": {
             "colorbar": {
              "outlinewidth": 0,
              "ticks": ""
             }
            },
            "type": "scatter3d"
           }
          ],
          "scattercarpet": [
           {
            "marker": {
             "colorbar": {
              "outlinewidth": 0,
              "ticks": ""
             }
            },
            "type": "scattercarpet"
           }
          ],
          "scattergeo": [
           {
            "marker": {
             "colorbar": {
              "outlinewidth": 0,
              "ticks": ""
             }
            },
            "type": "scattergeo"
           }
          ],
          "scattergl": [
           {
            "marker": {
             "colorbar": {
              "outlinewidth": 0,
              "ticks": ""
             }
            },
            "type": "scattergl"
           }
          ],
          "scattermapbox": [
           {
            "marker": {
             "colorbar": {
              "outlinewidth": 0,
              "ticks": ""
             }
            },
            "type": "scattermapbox"
           }
          ],
          "scatterpolar": [
           {
            "marker": {
             "colorbar": {
              "outlinewidth": 0,
              "ticks": ""
             }
            },
            "type": "scatterpolar"
           }
          ],
          "scatterpolargl": [
           {
            "marker": {
             "colorbar": {
              "outlinewidth": 0,
              "ticks": ""
             }
            },
            "type": "scatterpolargl"
           }
          ],
          "scatterternary": [
           {
            "marker": {
             "colorbar": {
              "outlinewidth": 0,
              "ticks": ""
             }
            },
            "type": "scatterternary"
           }
          ],
          "surface": [
           {
            "colorbar": {
             "outlinewidth": 0,
             "ticks": ""
            },
            "colorscale": [
             [
              0,
              "#0d0887"
             ],
             [
              0.1111111111111111,
              "#46039f"
             ],
             [
              0.2222222222222222,
              "#7201a8"
             ],
             [
              0.3333333333333333,
              "#9c179e"
             ],
             [
              0.4444444444444444,
              "#bd3786"
             ],
             [
              0.5555555555555556,
              "#d8576b"
             ],
             [
              0.6666666666666666,
              "#ed7953"
             ],
             [
              0.7777777777777778,
              "#fb9f3a"
             ],
             [
              0.8888888888888888,
              "#fdca26"
             ],
             [
              1,
              "#f0f921"
             ]
            ],
            "type": "surface"
           }
          ],
          "table": [
           {
            "cells": {
             "fill": {
              "color": "#EBF0F8"
             },
             "line": {
              "color": "white"
             }
            },
            "header": {
             "fill": {
              "color": "#C8D4E3"
             },
             "line": {
              "color": "white"
             }
            },
            "type": "table"
           }
          ]
         },
         "layout": {
          "annotationdefaults": {
           "arrowcolor": "#2a3f5f",
           "arrowhead": 0,
           "arrowwidth": 1
          },
          "autotypenumbers": "strict",
          "coloraxis": {
           "colorbar": {
            "outlinewidth": 0,
            "ticks": ""
           }
          },
          "colorscale": {
           "diverging": [
            [
             0,
             "#8e0152"
            ],
            [
             0.1,
             "#c51b7d"
            ],
            [
             0.2,
             "#de77ae"
            ],
            [
             0.3,
             "#f1b6da"
            ],
            [
             0.4,
             "#fde0ef"
            ],
            [
             0.5,
             "#f7f7f7"
            ],
            [
             0.6,
             "#e6f5d0"
            ],
            [
             0.7,
             "#b8e186"
            ],
            [
             0.8,
             "#7fbc41"
            ],
            [
             0.9,
             "#4d9221"
            ],
            [
             1,
             "#276419"
            ]
           ],
           "sequential": [
            [
             0,
             "#0d0887"
            ],
            [
             0.1111111111111111,
             "#46039f"
            ],
            [
             0.2222222222222222,
             "#7201a8"
            ],
            [
             0.3333333333333333,
             "#9c179e"
            ],
            [
             0.4444444444444444,
             "#bd3786"
            ],
            [
             0.5555555555555556,
             "#d8576b"
            ],
            [
             0.6666666666666666,
             "#ed7953"
            ],
            [
             0.7777777777777778,
             "#fb9f3a"
            ],
            [
             0.8888888888888888,
             "#fdca26"
            ],
            [
             1,
             "#f0f921"
            ]
           ],
           "sequentialminus": [
            [
             0,
             "#0d0887"
            ],
            [
             0.1111111111111111,
             "#46039f"
            ],
            [
             0.2222222222222222,
             "#7201a8"
            ],
            [
             0.3333333333333333,
             "#9c179e"
            ],
            [
             0.4444444444444444,
             "#bd3786"
            ],
            [
             0.5555555555555556,
             "#d8576b"
            ],
            [
             0.6666666666666666,
             "#ed7953"
            ],
            [
             0.7777777777777778,
             "#fb9f3a"
            ],
            [
             0.8888888888888888,
             "#fdca26"
            ],
            [
             1,
             "#f0f921"
            ]
           ]
          },
          "colorway": [
           "#636efa",
           "#EF553B",
           "#00cc96",
           "#ab63fa",
           "#FFA15A",
           "#19d3f3",
           "#FF6692",
           "#B6E880",
           "#FF97FF",
           "#FECB52"
          ],
          "font": {
           "color": "#2a3f5f"
          },
          "geo": {
           "bgcolor": "white",
           "lakecolor": "white",
           "landcolor": "#E5ECF6",
           "showlakes": true,
           "showland": true,
           "subunitcolor": "white"
          },
          "hoverlabel": {
           "align": "left"
          },
          "hovermode": "closest",
          "mapbox": {
           "style": "light"
          },
          "paper_bgcolor": "white",
          "plot_bgcolor": "#E5ECF6",
          "polar": {
           "angularaxis": {
            "gridcolor": "white",
            "linecolor": "white",
            "ticks": ""
           },
           "bgcolor": "#E5ECF6",
           "radialaxis": {
            "gridcolor": "white",
            "linecolor": "white",
            "ticks": ""
           }
          },
          "scene": {
           "xaxis": {
            "backgroundcolor": "#E5ECF6",
            "gridcolor": "white",
            "gridwidth": 2,
            "linecolor": "white",
            "showbackground": true,
            "ticks": "",
            "zerolinecolor": "white"
           },
           "yaxis": {
            "backgroundcolor": "#E5ECF6",
            "gridcolor": "white",
            "gridwidth": 2,
            "linecolor": "white",
            "showbackground": true,
            "ticks": "",
            "zerolinecolor": "white"
           },
           "zaxis": {
            "backgroundcolor": "#E5ECF6",
            "gridcolor": "white",
            "gridwidth": 2,
            "linecolor": "white",
            "showbackground": true,
            "ticks": "",
            "zerolinecolor": "white"
           }
          },
          "shapedefaults": {
           "line": {
            "color": "#2a3f5f"
           }
          },
          "ternary": {
           "aaxis": {
            "gridcolor": "white",
            "linecolor": "white",
            "ticks": ""
           },
           "baxis": {
            "gridcolor": "white",
            "linecolor": "white",
            "ticks": ""
           },
           "bgcolor": "#E5ECF6",
           "caxis": {
            "gridcolor": "white",
            "linecolor": "white",
            "ticks": ""
           }
          },
          "title": {
           "x": 0.05
          },
          "xaxis": {
           "automargin": true,
           "gridcolor": "white",
           "linecolor": "white",
           "ticks": "",
           "title": {
            "standoff": 15
           },
           "zerolinecolor": "white",
           "zerolinewidth": 2
          },
          "yaxis": {
           "automargin": true,
           "gridcolor": "white",
           "linecolor": "white",
           "ticks": "",
           "title": {
            "standoff": 15
           },
           "zerolinecolor": "white",
           "zerolinewidth": 2
          }
         }
        },
        "title": {
         "text": "Real vs Predicted Mood Values for Participant 1"
        },
        "updatemenus": [
         {
          "active": 0,
          "buttons": [
           {
            "args": [
             {
              "visible": [
               true,
               true,
               false,
               false,
               false,
               false,
               false,
               false,
               false,
               false,
               false,
               false,
               false,
               false,
               false,
               false,
               false,
               false,
               false,
               false,
               false,
               false,
               false,
               false,
               false,
               false,
               false,
               false,
               false,
               false,
               false,
               false,
               false,
               false,
               false,
               false,
               false,
               false,
               false,
               false,
               false,
               false,
               false,
               false,
               false,
               false,
               false,
               false
              ]
             },
             {
              "title": "Real vs Predicted Mood Values for Participant 1",
              "xaxis": {
               "title": "Day"
              },
              "yaxis": {
               "title": "Mood Value"
              }
             }
            ],
            "label": "1",
            "method": "update"
           },
           {
            "args": [
             {
              "visible": [
               false,
               false,
               true,
               true,
               false,
               false,
               false,
               false,
               false,
               false,
               false,
               false,
               false,
               false,
               false,
               false,
               false,
               false,
               false,
               false,
               false,
               false,
               false,
               false,
               false,
               false,
               false,
               false,
               false,
               false,
               false,
               false,
               false,
               false,
               false,
               false,
               false,
               false,
               false,
               false,
               false,
               false,
               false,
               false,
               false,
               false,
               false,
               false
              ]
             },
             {
              "title": "Real vs Predicted Mood Values for Participant 2",
              "xaxis": {
               "title": "Day"
              },
              "yaxis": {
               "title": "Mood Value"
              }
             }
            ],
            "label": "2",
            "method": "update"
           },
           {
            "args": [
             {
              "visible": [
               false,
               false,
               false,
               false,
               true,
               true,
               false,
               false,
               false,
               false,
               false,
               false,
               false,
               false,
               false,
               false,
               false,
               false,
               false,
               false,
               false,
               false,
               false,
               false,
               false,
               false,
               false,
               false,
               false,
               false,
               false,
               false,
               false,
               false,
               false,
               false,
               false,
               false,
               false,
               false,
               false,
               false,
               false,
               false,
               false,
               false,
               false,
               false
              ]
             },
             {
              "title": "Real vs Predicted Mood Values for Participant 3",
              "xaxis": {
               "title": "Day"
              },
              "yaxis": {
               "title": "Mood Value"
              }
             }
            ],
            "label": "3",
            "method": "update"
           },
           {
            "args": [
             {
              "visible": [
               false,
               false,
               false,
               false,
               false,
               false,
               true,
               true,
               false,
               false,
               false,
               false,
               false,
               false,
               false,
               false,
               false,
               false,
               false,
               false,
               false,
               false,
               false,
               false,
               false,
               false,
               false,
               false,
               false,
               false,
               false,
               false,
               false,
               false,
               false,
               false,
               false,
               false,
               false,
               false,
               false,
               false,
               false,
               false,
               false,
               false,
               false,
               false
              ]
             },
             {
              "title": "Real vs Predicted Mood Values for Participant 5",
              "xaxis": {
               "title": "Day"
              },
              "yaxis": {
               "title": "Mood Value"
              }
             }
            ],
            "label": "5",
            "method": "update"
           },
           {
            "args": [
             {
              "visible": [
               false,
               false,
               false,
               false,
               false,
               false,
               false,
               false,
               true,
               true,
               false,
               false,
               false,
               false,
               false,
               false,
               false,
               false,
               false,
               false,
               false,
               false,
               false,
               false,
               false,
               false,
               false,
               false,
               false,
               false,
               false,
               false,
               false,
               false,
               false,
               false,
               false,
               false,
               false,
               false,
               false,
               false,
               false,
               false,
               false,
               false,
               false,
               false
              ]
             },
             {
              "title": "Real vs Predicted Mood Values for Participant 6",
              "xaxis": {
               "title": "Day"
              },
              "yaxis": {
               "title": "Mood Value"
              }
             }
            ],
            "label": "6",
            "method": "update"
           },
           {
            "args": [
             {
              "visible": [
               false,
               false,
               false,
               false,
               false,
               false,
               false,
               false,
               false,
               false,
               true,
               true,
               false,
               false,
               false,
               false,
               false,
               false,
               false,
               false,
               false,
               false,
               false,
               false,
               false,
               false,
               false,
               false,
               false,
               false,
               false,
               false,
               false,
               false,
               false,
               false,
               false,
               false,
               false,
               false,
               false,
               false,
               false,
               false,
               false,
               false,
               false,
               false
              ]
             },
             {
              "title": "Real vs Predicted Mood Values for Participant 7",
              "xaxis": {
               "title": "Day"
              },
              "yaxis": {
               "title": "Mood Value"
              }
             }
            ],
            "label": "7",
            "method": "update"
           },
           {
            "args": [
             {
              "visible": [
               false,
               false,
               false,
               false,
               false,
               false,
               false,
               false,
               false,
               false,
               false,
               false,
               true,
               true,
               false,
               false,
               false,
               false,
               false,
               false,
               false,
               false,
               false,
               false,
               false,
               false,
               false,
               false,
               false,
               false,
               false,
               false,
               false,
               false,
               false,
               false,
               false,
               false,
               false,
               false,
               false,
               false,
               false,
               false,
               false,
               false,
               false,
               false
              ]
             },
             {
              "title": "Real vs Predicted Mood Values for Participant 8",
              "xaxis": {
               "title": "Day"
              },
              "yaxis": {
               "title": "Mood Value"
              }
             }
            ],
            "label": "8",
            "method": "update"
           },
           {
            "args": [
             {
              "visible": [
               false,
               false,
               false,
               false,
               false,
               false,
               false,
               false,
               false,
               false,
               false,
               false,
               false,
               false,
               true,
               true,
               false,
               false,
               false,
               false,
               false,
               false,
               false,
               false,
               false,
               false,
               false,
               false,
               false,
               false,
               false,
               false,
               false,
               false,
               false,
               false,
               false,
               false,
               false,
               false,
               false,
               false,
               false,
               false,
               false,
               false,
               false,
               false
              ]
             },
             {
              "title": "Real vs Predicted Mood Values for Participant 9",
              "xaxis": {
               "title": "Day"
              },
              "yaxis": {
               "title": "Mood Value"
              }
             }
            ],
            "label": "9",
            "method": "update"
           },
           {
            "args": [
             {
              "visible": [
               false,
               false,
               false,
               false,
               false,
               false,
               false,
               false,
               false,
               false,
               false,
               false,
               false,
               false,
               false,
               false,
               true,
               true,
               false,
               false,
               false,
               false,
               false,
               false,
               false,
               false,
               false,
               false,
               false,
               false,
               false,
               false,
               false,
               false,
               false,
               false,
               false,
               false,
               false,
               false,
               false,
               false,
               false,
               false,
               false,
               false,
               false,
               false
              ]
             },
             {
              "title": "Real vs Predicted Mood Values for Participant 12",
              "xaxis": {
               "title": "Day"
              },
              "yaxis": {
               "title": "Mood Value"
              }
             }
            ],
            "label": "12",
            "method": "update"
           },
           {
            "args": [
             {
              "visible": [
               false,
               false,
               false,
               false,
               false,
               false,
               false,
               false,
               false,
               false,
               false,
               false,
               false,
               false,
               false,
               false,
               false,
               false,
               true,
               true,
               false,
               false,
               false,
               false,
               false,
               false,
               false,
               false,
               false,
               false,
               false,
               false,
               false,
               false,
               false,
               false,
               false,
               false,
               false,
               false,
               false,
               false,
               false,
               false,
               false,
               false,
               false,
               false
              ]
             },
             {
              "title": "Real vs Predicted Mood Values for Participant 13",
              "xaxis": {
               "title": "Day"
              },
              "yaxis": {
               "title": "Mood Value"
              }
             }
            ],
            "label": "13",
            "method": "update"
           },
           {
            "args": [
             {
              "visible": [
               false,
               false,
               false,
               false,
               false,
               false,
               false,
               false,
               false,
               false,
               false,
               false,
               false,
               false,
               false,
               false,
               false,
               false,
               false,
               false,
               true,
               true,
               false,
               false,
               false,
               false,
               false,
               false,
               false,
               false,
               false,
               false,
               false,
               false,
               false,
               false,
               false,
               false,
               false,
               false,
               false,
               false,
               false,
               false,
               false,
               false,
               false,
               false
              ]
             },
             {
              "title": "Real vs Predicted Mood Values for Participant 14",
              "xaxis": {
               "title": "Day"
              },
              "yaxis": {
               "title": "Mood Value"
              }
             }
            ],
            "label": "14",
            "method": "update"
           },
           {
            "args": [
             {
              "visible": [
               false,
               false,
               false,
               false,
               false,
               false,
               false,
               false,
               false,
               false,
               false,
               false,
               false,
               false,
               false,
               false,
               false,
               false,
               false,
               false,
               false,
               false,
               true,
               true,
               false,
               false,
               false,
               false,
               false,
               false,
               false,
               false,
               false,
               false,
               false,
               false,
               false,
               false,
               false,
               false,
               false,
               false,
               false,
               false,
               false,
               false,
               false,
               false
              ]
             },
             {
              "title": "Real vs Predicted Mood Values for Participant 15",
              "xaxis": {
               "title": "Day"
              },
              "yaxis": {
               "title": "Mood Value"
              }
             }
            ],
            "label": "15",
            "method": "update"
           },
           {
            "args": [
             {
              "visible": [
               false,
               false,
               false,
               false,
               false,
               false,
               false,
               false,
               false,
               false,
               false,
               false,
               false,
               false,
               false,
               false,
               false,
               false,
               false,
               false,
               false,
               false,
               false,
               false,
               true,
               true,
               false,
               false,
               false,
               false,
               false,
               false,
               false,
               false,
               false,
               false,
               false,
               false,
               false,
               false,
               false,
               false,
               false,
               false,
               false,
               false,
               false,
               false
              ]
             },
             {
              "title": "Real vs Predicted Mood Values for Participant 16",
              "xaxis": {
               "title": "Day"
              },
              "yaxis": {
               "title": "Mood Value"
              }
             }
            ],
            "label": "16",
            "method": "update"
           },
           {
            "args": [
             {
              "visible": [
               false,
               false,
               false,
               false,
               false,
               false,
               false,
               false,
               false,
               false,
               false,
               false,
               false,
               false,
               false,
               false,
               false,
               false,
               false,
               false,
               false,
               false,
               false,
               false,
               false,
               false,
               true,
               true,
               false,
               false,
               false,
               false,
               false,
               false,
               false,
               false,
               false,
               false,
               false,
               false,
               false,
               false,
               false,
               false,
               false,
               false,
               false,
               false
              ]
             },
             {
              "title": "Real vs Predicted Mood Values for Participant 17",
              "xaxis": {
               "title": "Day"
              },
              "yaxis": {
               "title": "Mood Value"
              }
             }
            ],
            "label": "17",
            "method": "update"
           },
           {
            "args": [
             {
              "visible": [
               false,
               false,
               false,
               false,
               false,
               false,
               false,
               false,
               false,
               false,
               false,
               false,
               false,
               false,
               false,
               false,
               false,
               false,
               false,
               false,
               false,
               false,
               false,
               false,
               false,
               false,
               false,
               false,
               true,
               true,
               false,
               false,
               false,
               false,
               false,
               false,
               false,
               false,
               false,
               false,
               false,
               false,
               false,
               false,
               false,
               false,
               false,
               false
              ]
             },
             {
              "title": "Real vs Predicted Mood Values for Participant 19",
              "xaxis": {
               "title": "Day"
              },
              "yaxis": {
               "title": "Mood Value"
              }
             }
            ],
            "label": "19",
            "method": "update"
           },
           {
            "args": [
             {
              "visible": [
               false,
               false,
               false,
               false,
               false,
               false,
               false,
               false,
               false,
               false,
               false,
               false,
               false,
               false,
               false,
               false,
               false,
               false,
               false,
               false,
               false,
               false,
               false,
               false,
               false,
               false,
               false,
               false,
               false,
               false,
               true,
               true,
               false,
               false,
               false,
               false,
               false,
               false,
               false,
               false,
               false,
               false,
               false,
               false,
               false,
               false,
               false,
               false
              ]
             },
             {
              "title": "Real vs Predicted Mood Values for Participant 20",
              "xaxis": {
               "title": "Day"
              },
              "yaxis": {
               "title": "Mood Value"
              }
             }
            ],
            "label": "20",
            "method": "update"
           },
           {
            "args": [
             {
              "visible": [
               false,
               false,
               false,
               false,
               false,
               false,
               false,
               false,
               false,
               false,
               false,
               false,
               false,
               false,
               false,
               false,
               false,
               false,
               false,
               false,
               false,
               false,
               false,
               false,
               false,
               false,
               false,
               false,
               false,
               false,
               false,
               false,
               true,
               true,
               false,
               false,
               false,
               false,
               false,
               false,
               false,
               false,
               false,
               false,
               false,
               false,
               false,
               false
              ]
             },
             {
              "title": "Real vs Predicted Mood Values for Participant 23",
              "xaxis": {
               "title": "Day"
              },
              "yaxis": {
               "title": "Mood Value"
              }
             }
            ],
            "label": "23",
            "method": "update"
           },
           {
            "args": [
             {
              "visible": [
               false,
               false,
               false,
               false,
               false,
               false,
               false,
               false,
               false,
               false,
               false,
               false,
               false,
               false,
               false,
               false,
               false,
               false,
               false,
               false,
               false,
               false,
               false,
               false,
               false,
               false,
               false,
               false,
               false,
               false,
               false,
               false,
               false,
               false,
               true,
               true,
               false,
               false,
               false,
               false,
               false,
               false,
               false,
               false,
               false,
               false,
               false,
               false
              ]
             },
             {
              "title": "Real vs Predicted Mood Values for Participant 24",
              "xaxis": {
               "title": "Day"
              },
              "yaxis": {
               "title": "Mood Value"
              }
             }
            ],
            "label": "24",
            "method": "update"
           },
           {
            "args": [
             {
              "visible": [
               false,
               false,
               false,
               false,
               false,
               false,
               false,
               false,
               false,
               false,
               false,
               false,
               false,
               false,
               false,
               false,
               false,
               false,
               false,
               false,
               false,
               false,
               false,
               false,
               false,
               false,
               false,
               false,
               false,
               false,
               false,
               false,
               false,
               false,
               false,
               false,
               true,
               true,
               false,
               false,
               false,
               false,
               false,
               false,
               false,
               false,
               false,
               false
              ]
             },
             {
              "title": "Real vs Predicted Mood Values for Participant 25",
              "xaxis": {
               "title": "Day"
              },
              "yaxis": {
               "title": "Mood Value"
              }
             }
            ],
            "label": "25",
            "method": "update"
           },
           {
            "args": [
             {
              "visible": [
               false,
               false,
               false,
               false,
               false,
               false,
               false,
               false,
               false,
               false,
               false,
               false,
               false,
               false,
               false,
               false,
               false,
               false,
               false,
               false,
               false,
               false,
               false,
               false,
               false,
               false,
               false,
               false,
               false,
               false,
               false,
               false,
               false,
               false,
               false,
               false,
               false,
               false,
               true,
               true,
               false,
               false,
               false,
               false,
               false,
               false,
               false,
               false
              ]
             },
             {
              "title": "Real vs Predicted Mood Values for Participant 26",
              "xaxis": {
               "title": "Day"
              },
              "yaxis": {
               "title": "Mood Value"
              }
             }
            ],
            "label": "26",
            "method": "update"
           },
           {
            "args": [
             {
              "visible": [
               false,
               false,
               false,
               false,
               false,
               false,
               false,
               false,
               false,
               false,
               false,
               false,
               false,
               false,
               false,
               false,
               false,
               false,
               false,
               false,
               false,
               false,
               false,
               false,
               false,
               false,
               false,
               false,
               false,
               false,
               false,
               false,
               false,
               false,
               false,
               false,
               false,
               false,
               false,
               false,
               true,
               true,
               false,
               false,
               false,
               false,
               false,
               false
              ]
             },
             {
              "title": "Real vs Predicted Mood Values for Participant 27",
              "xaxis": {
               "title": "Day"
              },
              "yaxis": {
               "title": "Mood Value"
              }
             }
            ],
            "label": "27",
            "method": "update"
           },
           {
            "args": [
             {
              "visible": [
               false,
               false,
               false,
               false,
               false,
               false,
               false,
               false,
               false,
               false,
               false,
               false,
               false,
               false,
               false,
               false,
               false,
               false,
               false,
               false,
               false,
               false,
               false,
               false,
               false,
               false,
               false,
               false,
               false,
               false,
               false,
               false,
               false,
               false,
               false,
               false,
               false,
               false,
               false,
               false,
               false,
               false,
               true,
               true,
               false,
               false,
               false,
               false
              ]
             },
             {
              "title": "Real vs Predicted Mood Values for Participant 28",
              "xaxis": {
               "title": "Day"
              },
              "yaxis": {
               "title": "Mood Value"
              }
             }
            ],
            "label": "28",
            "method": "update"
           },
           {
            "args": [
             {
              "visible": [
               false,
               false,
               false,
               false,
               false,
               false,
               false,
               false,
               false,
               false,
               false,
               false,
               false,
               false,
               false,
               false,
               false,
               false,
               false,
               false,
               false,
               false,
               false,
               false,
               false,
               false,
               false,
               false,
               false,
               false,
               false,
               false,
               false,
               false,
               false,
               false,
               false,
               false,
               false,
               false,
               false,
               false,
               false,
               false,
               true,
               true,
               false,
               false
              ]
             },
             {
              "title": "Real vs Predicted Mood Values for Participant 29",
              "xaxis": {
               "title": "Day"
              },
              "yaxis": {
               "title": "Mood Value"
              }
             }
            ],
            "label": "29",
            "method": "update"
           },
           {
            "args": [
             {
              "visible": [
               false,
               false,
               false,
               false,
               false,
               false,
               false,
               false,
               false,
               false,
               false,
               false,
               false,
               false,
               false,
               false,
               false,
               false,
               false,
               false,
               false,
               false,
               false,
               false,
               false,
               false,
               false,
               false,
               false,
               false,
               false,
               false,
               false,
               false,
               false,
               false,
               false,
               false,
               false,
               false,
               false,
               false,
               false,
               false,
               false,
               false,
               true,
               true
              ]
             },
             {
              "title": "Real vs Predicted Mood Values for Participant 30",
              "xaxis": {
               "title": "Day"
              },
              "yaxis": {
               "title": "Mood Value"
              }
             }
            ],
            "label": "30",
            "method": "update"
           }
          ],
          "showactive": true,
          "x": 1.1,
          "y": 1
         }
        ],
        "xaxis": {
         "title": {
          "text": "Day"
         }
        },
        "yaxis": {
         "title": {
          "text": "Mood Value"
         }
        }
       }
      }
     },
     "metadata": {},
     "output_type": "display_data"
    },
    {
     "name": "stdout",
     "output_type": "stream",
     "text": [
      "MAE: 1.0965465307235718, RMSE: 1.1741160517265992, R2: -4.761617183685303\n",
      "Predictions mean: 0.3679304\n",
      "Predictions sd: 0.04749042\n",
      "Predictions min: 0.23861691\n",
      "Predictions max: 0.43036556\n",
      "Targets mean: 0.54237264\n",
      "Targets sd: 0.17643873\n",
      "Targets min: 0.0\n",
      "Targets max: 1.0\n"
     ]
    },
    {
     "data": {
      "application/vnd.plotly.v1+json": {
       "config": {
        "plotlyServerURL": "https://plot.ly"
       },
       "data": [
        {
         "mode": "lines",
         "name": "Real (1)",
         "type": "scatter",
         "visible": true,
         "x": [
          "2014-05-01",
          "2014-05-02",
          "2014-05-03",
          "2014-05-04"
         ],
         "y": [
          9,
          7.25,
          7.6666669845581055,
          6.800000190734863
         ]
        },
        {
         "mode": "lines",
         "name": "Predicted (1)",
         "type": "scatter",
         "visible": true,
         "x": [
          "2014-05-01",
          "2014-05-02",
          "2014-05-03",
          "2014-05-04"
         ],
         "y": [
          6.5933685302734375,
          6.155344486236572,
          6.175212860107422,
          6.532090663909912
         ]
        },
        {
         "mode": "lines",
         "name": "Real (2)",
         "type": "scatter",
         "visible": false,
         "x": [
          "2014-04-17",
          "2014-04-18",
          "2014-04-19",
          "2014-04-20",
          "2014-04-21",
          "2014-04-22",
          "2014-04-23",
          "2014-04-24",
          "2014-04-25"
         ],
         "y": [
          8,
          7.25,
          8,
          6.199999809265137,
          8.5,
          7.000000476837158,
          7.000000476837158,
          7.000000476837158,
          7.458333492279053
         ]
        },
        {
         "mode": "lines",
         "name": "Predicted (2)",
         "type": "scatter",
         "visible": false,
         "x": [
          "2014-04-17",
          "2014-04-18",
          "2014-04-19",
          "2014-04-20",
          "2014-04-21",
          "2014-04-22",
          "2014-04-23",
          "2014-04-24",
          "2014-04-25"
         ],
         "y": [
          6.599754333496094,
          6.422743320465088,
          5.973051071166992,
          6.499871730804443,
          6.349664688110352,
          6.604514122009277,
          6.418076992034912,
          6.318902969360352,
          6.14330530166626
         ]
        },
        {
         "mode": "lines",
         "name": "Real (3)",
         "type": "scatter",
         "visible": false,
         "x": [
          "2014-04-28",
          "2014-04-29",
          "2014-04-30",
          "2014-05-01",
          "2014-05-02",
          "2014-05-03",
          "2014-05-04",
          "2014-05-05",
          "2014-05-06",
          "2014-05-07"
         ],
         "y": [
          4.800000190734863,
          6.75,
          7.400000095367432,
          8,
          6.599999904632568,
          6.800000190734863,
          7.800000190734863,
          7.833333492279053,
          7.400000095367432,
          7.5
         ]
        },
        {
         "mode": "lines",
         "name": "Predicted (3)",
         "type": "scatter",
         "visible": false,
         "x": [
          "2014-04-28",
          "2014-04-29",
          "2014-04-30",
          "2014-05-01",
          "2014-05-02",
          "2014-05-03",
          "2014-05-04",
          "2014-05-05",
          "2014-05-06",
          "2014-05-07"
         ],
         "y": [
          6.188222885131836,
          6.589354515075684,
          6.170544624328613,
          6.007543087005615,
          6.413383483886719,
          6.4928741455078125,
          6.568557262420654,
          6.347092151641846,
          6.426032066345215,
          6.5522990226745605
         ]
        },
        {
         "mode": "lines",
         "name": "Real (5)",
         "type": "scatter",
         "visible": false,
         "x": [
          "2014-04-25",
          "2014-04-26",
          "2014-04-27",
          "2014-04-28",
          "2014-04-29",
          "2014-04-30",
          "2014-05-01",
          "2014-05-02",
          "2014-05-03",
          "2014-05-04",
          "2014-05-05"
         ],
         "y": [
          7.000000476837158,
          7.200000286102295,
          7.000000476837158,
          6.800000190734863,
          7.599999904632568,
          7.75,
          7.5,
          7.000000476837158,
          7.000000476837158,
          6,
          7.000000476837158
         ]
        },
        {
         "mode": "lines",
         "name": "Predicted (5)",
         "type": "scatter",
         "visible": false,
         "x": [
          "2014-04-25",
          "2014-04-26",
          "2014-04-27",
          "2014-04-28",
          "2014-04-29",
          "2014-04-30",
          "2014-05-01",
          "2014-05-02",
          "2014-05-03",
          "2014-05-04",
          "2014-05-05"
         ],
         "y": [
          6.5030927658081055,
          6.125102519989014,
          6.415889739990234,
          6.1305317878723145,
          6.503873348236084,
          6.545290470123291,
          6.1761980056762695,
          6.4923882484436035,
          6.602505683898926,
          6.201242446899414,
          6.065365314483643
         ]
        },
        {
         "mode": "lines",
         "name": "Real (6)",
         "type": "scatter",
         "visible": false,
         "x": [
          "2014-04-29",
          "2014-04-30",
          "2014-05-01",
          "2014-05-02",
          "2014-05-03",
          "2014-05-04",
          "2014-05-05",
          "2014-05-06",
          "2014-05-07",
          "2014-05-08"
         ],
         "y": [
          6.5,
          8,
          5.666666507720947,
          6.5,
          6.6666669845581055,
          7.000000476837158,
          7.800000190734863,
          6.800000190734863,
          7.000000476837158,
          8
         ]
        },
        {
         "mode": "lines",
         "name": "Predicted (6)",
         "type": "scatter",
         "visible": false,
         "x": [
          "2014-04-29",
          "2014-04-30",
          "2014-05-01",
          "2014-05-02",
          "2014-05-03",
          "2014-05-04",
          "2014-05-05",
          "2014-05-06",
          "2014-05-07",
          "2014-05-08"
         ],
         "y": [
          6.009810924530029,
          6.424220085144043,
          5.8412699699401855,
          6.467499256134033,
          6.263594627380371,
          6.345963001251221,
          6.405259132385254,
          6.374318599700928,
          6.518434524536133,
          6.48586893081665
         ]
        },
        {
         "mode": "lines",
         "name": "Real (7)",
         "type": "scatter",
         "visible": false,
         "x": [
          "2014-04-26",
          "2014-04-27",
          "2014-04-28",
          "2014-04-29",
          "2014-04-30",
          "2014-05-01",
          "2014-05-02",
          "2014-05-03",
          "2014-05-04",
          "2014-05-05"
         ],
         "y": [
          6.599999904632568,
          7.800000190734863,
          7.000000476837158,
          5.600000381469727,
          7.800000190734863,
          7.000000476837158,
          6.3333330154418945,
          5.400000095367432,
          6.800000190734863,
          7.000000476837158
         ]
        },
        {
         "mode": "lines",
         "name": "Predicted (7)",
         "type": "scatter",
         "visible": false,
         "x": [
          "2014-04-26",
          "2014-04-27",
          "2014-04-28",
          "2014-04-29",
          "2014-04-30",
          "2014-05-01",
          "2014-05-02",
          "2014-05-03",
          "2014-05-04",
          "2014-05-05"
         ],
         "y": [
          6.5009613037109375,
          6.5075578689575195,
          6.334744453430176,
          6.181880950927734,
          6.604856967926025,
          5.840769290924072,
          6.54594612121582,
          6.5125956535339355,
          6.404939651489258,
          6.150197982788086
         ]
        },
        {
         "mode": "lines",
         "name": "Real (8)",
         "type": "scatter",
         "visible": false,
         "x": [
          "2014-04-23",
          "2014-04-24",
          "2014-04-25",
          "2014-04-26",
          "2014-04-27",
          "2014-04-28",
          "2014-04-29",
          "2014-04-30",
          "2014-05-01",
          "2014-05-02",
          "2014-05-03",
          "2014-05-04",
          "2014-05-05"
         ],
         "y": [
          6.3333330154418945,
          7.400000095367432,
          7.200000286102295,
          6.199999809265137,
          7.000000476837158,
          8,
          8,
          8,
          7.800000190734863,
          6,
          7.000000476837158,
          7.000000476837158,
          7.200000286102295
         ]
        },
        {
         "mode": "lines",
         "name": "Predicted (8)",
         "type": "scatter",
         "visible": false,
         "x": [
          "2014-04-23",
          "2014-04-24",
          "2014-04-25",
          "2014-04-26",
          "2014-04-27",
          "2014-04-28",
          "2014-04-29",
          "2014-04-30",
          "2014-05-01",
          "2014-05-02",
          "2014-05-03",
          "2014-05-04",
          "2014-05-05"
         ],
         "y": [
          6.0915398597717285,
          6.544588088989258,
          6.561826229095459,
          6.495922565460205,
          6.394499778747559,
          6.340971946716309,
          6.000685214996338,
          6.341529369354248,
          6.533707141876221,
          6.16718864440918,
          6.406977653503418,
          6.132117748260498,
          6.199476718902588
         ]
        },
        {
         "mode": "lines",
         "name": "Real (9)",
         "type": "scatter",
         "visible": false,
         "x": [
          "2014-04-26",
          "2014-04-27",
          "2014-04-28",
          "2014-04-29",
          "2014-04-30",
          "2014-05-01",
          "2014-05-02",
          "2014-05-03",
          "2014-05-04",
          "2014-05-05"
         ],
         "y": [
          7.599999904632568,
          8.333333969116211,
          7.800000190734863,
          8,
          5.666666507720947,
          8,
          7.000000476837158,
          8,
          5.75,
          5.5
         ]
        },
        {
         "mode": "lines",
         "name": "Predicted (9)",
         "type": "scatter",
         "visible": false,
         "x": [
          "2014-04-26",
          "2014-04-27",
          "2014-04-28",
          "2014-04-29",
          "2014-04-30",
          "2014-05-01",
          "2014-05-02",
          "2014-05-03",
          "2014-05-04",
          "2014-05-05"
         ],
         "y": [
          6.49776029586792,
          6.3276472091674805,
          6.513061046600342,
          6.223064422607422,
          5.998768329620361,
          6.309246063232422,
          6.318057060241699,
          6.302206516265869,
          6.564986705780029,
          5.802190780639648
         ]
        },
        {
         "mode": "lines",
         "name": "Real (12)",
         "type": "scatter",
         "visible": false,
         "x": [
          "2014-04-28",
          "2014-04-29",
          "2014-04-30",
          "2014-05-01",
          "2014-05-02",
          "2014-05-03",
          "2014-05-04",
          "2014-05-05"
         ],
         "y": [
          6.599999904632568,
          7.25,
          6,
          7.599999904632568,
          7.5,
          6.75,
          7.599999904632568,
          7.000000476837158
         ]
        },
        {
         "mode": "lines",
         "name": "Predicted (12)",
         "type": "scatter",
         "visible": false,
         "x": [
          "2014-04-28",
          "2014-04-29",
          "2014-04-30",
          "2014-05-01",
          "2014-05-02",
          "2014-05-03",
          "2014-05-04",
          "2014-05-05"
         ],
         "y": [
          6.18142557144165,
          6.496589183807373,
          6.364286422729492,
          6.170769691467285,
          6.41109561920166,
          6.420336723327637,
          6.168426513671875,
          6.343839645385742
         ]
        },
        {
         "mode": "lines",
         "name": "Real (13)",
         "type": "scatter",
         "visible": false,
         "x": [
          "2014-04-24",
          "2014-04-25",
          "2014-04-26",
          "2014-04-27",
          "2014-04-28",
          "2014-04-29",
          "2014-04-30",
          "2014-05-01",
          "2014-05-02",
          "2014-05-03",
          "2014-05-04"
         ],
         "y": [
          5.799999713897705,
          8.199999809265137,
          6,
          6.400000095367432,
          6.875,
          6.5,
          6.199999809265137,
          7.000000476837158,
          6.6666669845581055,
          7.6666669845581055,
          7.200000286102295
         ]
        },
        {
         "mode": "lines",
         "name": "Predicted (13)",
         "type": "scatter",
         "visible": false,
         "x": [
          "2014-04-24",
          "2014-04-25",
          "2014-04-26",
          "2014-04-27",
          "2014-04-28",
          "2014-04-29",
          "2014-04-30",
          "2014-05-01",
          "2014-05-02",
          "2014-05-03",
          "2014-05-04"
         ],
         "y": [
          6.529707908630371,
          6.506409645080566,
          6.511183261871338,
          6.559942722320557,
          6.141993045806885,
          6.469435214996338,
          5.968241214752197,
          6.409259796142578,
          6.559053421020508,
          6.128875732421875,
          6.514537334442139
         ]
        },
        {
         "mode": "lines",
         "name": "Real (14)",
         "type": "scatter",
         "visible": false,
         "x": [
          "2014-04-26",
          "2014-04-27",
          "2014-04-28",
          "2014-04-29",
          "2014-04-30",
          "2014-05-01",
          "2014-05-02",
          "2014-05-03",
          "2014-05-04",
          "2014-05-05"
         ],
         "y": [
          6.800000190734863,
          7.400000095367432,
          8,
          6.75,
          5.600000381469727,
          7.000000476837158,
          7.200000286102295,
          8,
          6.75,
          7.25
         ]
        },
        {
         "mode": "lines",
         "name": "Predicted (14)",
         "type": "scatter",
         "visible": false,
         "x": [
          "2014-04-26",
          "2014-04-27",
          "2014-04-28",
          "2014-04-29",
          "2014-04-30",
          "2014-05-01",
          "2014-05-02",
          "2014-05-03",
          "2014-05-04",
          "2014-05-05"
         ],
         "y": [
          6.572904109954834,
          6.606651782989502,
          6.011404991149902,
          6.081887245178223,
          6.073545932769775,
          6.607535362243652,
          6.55910587310791,
          6.599993705749512,
          6.4329633712768555,
          6.106637001037598
         ]
        },
        {
         "mode": "lines",
         "name": "Real (15)",
         "type": "scatter",
         "visible": false,
         "x": [
          "2014-04-27",
          "2014-04-28",
          "2014-04-29",
          "2014-04-30",
          "2014-05-01",
          "2014-05-02",
          "2014-05-03",
          "2014-05-04",
          "2014-05-05",
          "2014-05-06",
          "2014-05-07",
          "2014-05-08"
         ],
         "y": [
          7.800000190734863,
          8,
          7.25,
          5.799999713897705,
          8.666666984558105,
          7.000000476837158,
          7.5,
          6.599999904632568,
          7.000000476837158,
          9,
          6.6666669845581055,
          7.400000095367432
         ]
        },
        {
         "mode": "lines",
         "name": "Predicted (15)",
         "type": "scatter",
         "visible": false,
         "x": [
          "2014-04-27",
          "2014-04-28",
          "2014-04-29",
          "2014-04-30",
          "2014-05-01",
          "2014-05-02",
          "2014-05-03",
          "2014-05-04",
          "2014-05-05",
          "2014-05-06",
          "2014-05-07",
          "2014-05-08"
         ],
         "y": [
          6.511634349822998,
          6.5137715339660645,
          6.309531211853027,
          6.166269779205322,
          6.6041412353515625,
          6.497702598571777,
          6.381551265716553,
          6.193366050720215,
          5.893033504486084,
          5.8435821533203125,
          6.373222351074219,
          6.512047290802002
         ]
        },
        {
         "mode": "lines",
         "name": "Real (16)",
         "type": "scatter",
         "visible": false,
         "x": [
          "2014-04-25",
          "2014-04-26",
          "2014-04-27",
          "2014-04-28",
          "2014-04-29",
          "2014-04-30",
          "2014-05-01",
          "2014-05-02",
          "2014-05-03",
          "2014-05-04",
          "2014-05-05"
         ],
         "y": [
          6.800000190734863,
          7.000000476837158,
          7.000000476837158,
          6.400000095367432,
          7.000000476837158,
          7.599999904632568,
          7.75,
          7.800000190734863,
          7.000000476837158,
          7.000000476837158,
          6.75
         ]
        },
        {
         "mode": "lines",
         "name": "Predicted (16)",
         "type": "scatter",
         "visible": false,
         "x": [
          "2014-04-25",
          "2014-04-26",
          "2014-04-27",
          "2014-04-28",
          "2014-04-29",
          "2014-04-30",
          "2014-05-01",
          "2014-05-02",
          "2014-05-03",
          "2014-05-04",
          "2014-05-05"
         ],
         "y": [
          6.325953006744385,
          6.340837001800537,
          6.327365875244141,
          6.517861366271973,
          6.525507926940918,
          5.97892951965332,
          6.423192501068115,
          6.602733612060547,
          6.157415390014648,
          6.522588729858398,
          6.117914199829102
         ]
        },
        {
         "mode": "lines",
         "name": "Real (17)",
         "type": "scatter",
         "visible": false,
         "x": [
          "2014-04-23",
          "2014-04-24",
          "2014-04-25",
          "2014-04-26",
          "2014-04-27",
          "2014-04-28",
          "2014-04-29",
          "2014-04-30",
          "2014-05-01",
          "2014-05-02",
          "2014-05-03",
          "2014-05-04",
          "2014-05-05"
         ],
         "y": [
          7.000000476837158,
          6.599999904632568,
          7.000000476837158,
          8.199999809265137,
          7.200000286102295,
          8.199999809265137,
          7.375,
          6.75,
          5.400000095367432,
          7.75,
          7.000000476837158,
          5.5,
          7.25
         ]
        },
        {
         "mode": "lines",
         "name": "Predicted (17)",
         "type": "scatter",
         "visible": false,
         "x": [
          "2014-04-23",
          "2014-04-24",
          "2014-04-25",
          "2014-04-26",
          "2014-04-27",
          "2014-04-28",
          "2014-04-29",
          "2014-04-30",
          "2014-05-01",
          "2014-05-02",
          "2014-05-03",
          "2014-05-04",
          "2014-05-05"
         ],
         "y": [
          6.121831893920898,
          6.573709487915039,
          6.427309989929199,
          6.578597068786621,
          6.424381732940674,
          6.507625579833984,
          6.449521064758301,
          6.485053539276123,
          6.100002288818359,
          6.153194427490234,
          6.309151649475098,
          6.079205513000488,
          6.554839134216309
         ]
        },
        {
         "mode": "lines",
         "name": "Real (19)",
         "type": "scatter",
         "visible": false,
         "x": [
          "2014-04-26",
          "2014-04-27",
          "2014-04-28",
          "2014-04-29",
          "2014-04-30",
          "2014-05-01",
          "2014-05-02",
          "2014-05-03",
          "2014-05-04",
          "2014-05-05"
         ],
         "y": [
          7.000000476837158,
          7.000000476837158,
          7.000000476837158,
          6.6666669845581055,
          6.800000190734863,
          7.400000095367432,
          6.5,
          7.333333492279053,
          7.000000476837158,
          7.333333492279053
         ]
        },
        {
         "mode": "lines",
         "name": "Predicted (19)",
         "type": "scatter",
         "visible": false,
         "x": [
          "2014-04-26",
          "2014-04-27",
          "2014-04-28",
          "2014-04-29",
          "2014-04-30",
          "2014-05-01",
          "2014-05-02",
          "2014-05-03",
          "2014-05-04",
          "2014-05-05"
         ],
         "y": [
          6.434682369232178,
          6.595180034637451,
          6.098217964172363,
          6.124114036560059,
          6.2642621994018555,
          6.236601829528809,
          6.523734092712402,
          6.4007463455200195,
          6.404904842376709,
          6.425152778625488
         ]
        },
        {
         "mode": "lines",
         "name": "Real (20)",
         "type": "scatter",
         "visible": false,
         "x": [
          "2014-04-26",
          "2014-04-27",
          "2014-04-28",
          "2014-04-29",
          "2014-04-30",
          "2014-05-01",
          "2014-05-02",
          "2014-05-03",
          "2014-05-04",
          "2014-05-05"
         ],
         "y": [
          5.75,
          7.200000286102295,
          7.599999904632568,
          7.000000476837158,
          7.5,
          7.599999904632568,
          7.000000476837158,
          7.75,
          6.800000190734863,
          5
         ]
        },
        {
         "mode": "lines",
         "name": "Predicted (20)",
         "type": "scatter",
         "visible": false,
         "x": [
          "2014-04-26",
          "2014-04-27",
          "2014-04-28",
          "2014-04-29",
          "2014-04-30",
          "2014-05-01",
          "2014-05-02",
          "2014-05-03",
          "2014-05-04",
          "2014-05-05"
         ],
         "y": [
          6.147386074066162,
          6.351356506347656,
          6.51820182800293,
          6.312058925628662,
          6.491632461547852,
          6.546104431152344,
          6.327541828155518,
          6.1720709800720215,
          6.361600875854492,
          5.988784313201904
         ]
        },
        {
         "mode": "lines",
         "name": "Real (23)",
         "type": "scatter",
         "visible": false,
         "x": [
          "2014-04-23"
         ],
         "y": [
          7.000000476837158
         ]
        },
        {
         "mode": "lines",
         "name": "Predicted (23)",
         "type": "scatter",
         "visible": false,
         "x": [
          "2014-04-23"
         ],
         "y": [
          6.556221961975098
         ]
        }
       ],
       "layout": {
        "template": {
         "data": {
          "bar": [
           {
            "error_x": {
             "color": "#2a3f5f"
            },
            "error_y": {
             "color": "#2a3f5f"
            },
            "marker": {
             "line": {
              "color": "#E5ECF6",
              "width": 0.5
             },
             "pattern": {
              "fillmode": "overlay",
              "size": 10,
              "solidity": 0.2
             }
            },
            "type": "bar"
           }
          ],
          "barpolar": [
           {
            "marker": {
             "line": {
              "color": "#E5ECF6",
              "width": 0.5
             },
             "pattern": {
              "fillmode": "overlay",
              "size": 10,
              "solidity": 0.2
             }
            },
            "type": "barpolar"
           }
          ],
          "carpet": [
           {
            "aaxis": {
             "endlinecolor": "#2a3f5f",
             "gridcolor": "white",
             "linecolor": "white",
             "minorgridcolor": "white",
             "startlinecolor": "#2a3f5f"
            },
            "baxis": {
             "endlinecolor": "#2a3f5f",
             "gridcolor": "white",
             "linecolor": "white",
             "minorgridcolor": "white",
             "startlinecolor": "#2a3f5f"
            },
            "type": "carpet"
           }
          ],
          "choropleth": [
           {
            "colorbar": {
             "outlinewidth": 0,
             "ticks": ""
            },
            "type": "choropleth"
           }
          ],
          "contour": [
           {
            "colorbar": {
             "outlinewidth": 0,
             "ticks": ""
            },
            "colorscale": [
             [
              0,
              "#0d0887"
             ],
             [
              0.1111111111111111,
              "#46039f"
             ],
             [
              0.2222222222222222,
              "#7201a8"
             ],
             [
              0.3333333333333333,
              "#9c179e"
             ],
             [
              0.4444444444444444,
              "#bd3786"
             ],
             [
              0.5555555555555556,
              "#d8576b"
             ],
             [
              0.6666666666666666,
              "#ed7953"
             ],
             [
              0.7777777777777778,
              "#fb9f3a"
             ],
             [
              0.8888888888888888,
              "#fdca26"
             ],
             [
              1,
              "#f0f921"
             ]
            ],
            "type": "contour"
           }
          ],
          "contourcarpet": [
           {
            "colorbar": {
             "outlinewidth": 0,
             "ticks": ""
            },
            "type": "contourcarpet"
           }
          ],
          "heatmap": [
           {
            "colorbar": {
             "outlinewidth": 0,
             "ticks": ""
            },
            "colorscale": [
             [
              0,
              "#0d0887"
             ],
             [
              0.1111111111111111,
              "#46039f"
             ],
             [
              0.2222222222222222,
              "#7201a8"
             ],
             [
              0.3333333333333333,
              "#9c179e"
             ],
             [
              0.4444444444444444,
              "#bd3786"
             ],
             [
              0.5555555555555556,
              "#d8576b"
             ],
             [
              0.6666666666666666,
              "#ed7953"
             ],
             [
              0.7777777777777778,
              "#fb9f3a"
             ],
             [
              0.8888888888888888,
              "#fdca26"
             ],
             [
              1,
              "#f0f921"
             ]
            ],
            "type": "heatmap"
           }
          ],
          "heatmapgl": [
           {
            "colorbar": {
             "outlinewidth": 0,
             "ticks": ""
            },
            "colorscale": [
             [
              0,
              "#0d0887"
             ],
             [
              0.1111111111111111,
              "#46039f"
             ],
             [
              0.2222222222222222,
              "#7201a8"
             ],
             [
              0.3333333333333333,
              "#9c179e"
             ],
             [
              0.4444444444444444,
              "#bd3786"
             ],
             [
              0.5555555555555556,
              "#d8576b"
             ],
             [
              0.6666666666666666,
              "#ed7953"
             ],
             [
              0.7777777777777778,
              "#fb9f3a"
             ],
             [
              0.8888888888888888,
              "#fdca26"
             ],
             [
              1,
              "#f0f921"
             ]
            ],
            "type": "heatmapgl"
           }
          ],
          "histogram": [
           {
            "marker": {
             "pattern": {
              "fillmode": "overlay",
              "size": 10,
              "solidity": 0.2
             }
            },
            "type": "histogram"
           }
          ],
          "histogram2d": [
           {
            "colorbar": {
             "outlinewidth": 0,
             "ticks": ""
            },
            "colorscale": [
             [
              0,
              "#0d0887"
             ],
             [
              0.1111111111111111,
              "#46039f"
             ],
             [
              0.2222222222222222,
              "#7201a8"
             ],
             [
              0.3333333333333333,
              "#9c179e"
             ],
             [
              0.4444444444444444,
              "#bd3786"
             ],
             [
              0.5555555555555556,
              "#d8576b"
             ],
             [
              0.6666666666666666,
              "#ed7953"
             ],
             [
              0.7777777777777778,
              "#fb9f3a"
             ],
             [
              0.8888888888888888,
              "#fdca26"
             ],
             [
              1,
              "#f0f921"
             ]
            ],
            "type": "histogram2d"
           }
          ],
          "histogram2dcontour": [
           {
            "colorbar": {
             "outlinewidth": 0,
             "ticks": ""
            },
            "colorscale": [
             [
              0,
              "#0d0887"
             ],
             [
              0.1111111111111111,
              "#46039f"
             ],
             [
              0.2222222222222222,
              "#7201a8"
             ],
             [
              0.3333333333333333,
              "#9c179e"
             ],
             [
              0.4444444444444444,
              "#bd3786"
             ],
             [
              0.5555555555555556,
              "#d8576b"
             ],
             [
              0.6666666666666666,
              "#ed7953"
             ],
             [
              0.7777777777777778,
              "#fb9f3a"
             ],
             [
              0.8888888888888888,
              "#fdca26"
             ],
             [
              1,
              "#f0f921"
             ]
            ],
            "type": "histogram2dcontour"
           }
          ],
          "mesh3d": [
           {
            "colorbar": {
             "outlinewidth": 0,
             "ticks": ""
            },
            "type": "mesh3d"
           }
          ],
          "parcoords": [
           {
            "line": {
             "colorbar": {
              "outlinewidth": 0,
              "ticks": ""
             }
            },
            "type": "parcoords"
           }
          ],
          "pie": [
           {
            "automargin": true,
            "type": "pie"
           }
          ],
          "scatter": [
           {
            "fillpattern": {
             "fillmode": "overlay",
             "size": 10,
             "solidity": 0.2
            },
            "type": "scatter"
           }
          ],
          "scatter3d": [
           {
            "line": {
             "colorbar": {
              "outlinewidth": 0,
              "ticks": ""
             }
            },
            "marker": {
             "colorbar": {
              "outlinewidth": 0,
              "ticks": ""
             }
            },
            "type": "scatter3d"
           }
          ],
          "scattercarpet": [
           {
            "marker": {
             "colorbar": {
              "outlinewidth": 0,
              "ticks": ""
             }
            },
            "type": "scattercarpet"
           }
          ],
          "scattergeo": [
           {
            "marker": {
             "colorbar": {
              "outlinewidth": 0,
              "ticks": ""
             }
            },
            "type": "scattergeo"
           }
          ],
          "scattergl": [
           {
            "marker": {
             "colorbar": {
              "outlinewidth": 0,
              "ticks": ""
             }
            },
            "type": "scattergl"
           }
          ],
          "scattermapbox": [
           {
            "marker": {
             "colorbar": {
              "outlinewidth": 0,
              "ticks": ""
             }
            },
            "type": "scattermapbox"
           }
          ],
          "scatterpolar": [
           {
            "marker": {
             "colorbar": {
              "outlinewidth": 0,
              "ticks": ""
             }
            },
            "type": "scatterpolar"
           }
          ],
          "scatterpolargl": [
           {
            "marker": {
             "colorbar": {
              "outlinewidth": 0,
              "ticks": ""
             }
            },
            "type": "scatterpolargl"
           }
          ],
          "scatterternary": [
           {
            "marker": {
             "colorbar": {
              "outlinewidth": 0,
              "ticks": ""
             }
            },
            "type": "scatterternary"
           }
          ],
          "surface": [
           {
            "colorbar": {
             "outlinewidth": 0,
             "ticks": ""
            },
            "colorscale": [
             [
              0,
              "#0d0887"
             ],
             [
              0.1111111111111111,
              "#46039f"
             ],
             [
              0.2222222222222222,
              "#7201a8"
             ],
             [
              0.3333333333333333,
              "#9c179e"
             ],
             [
              0.4444444444444444,
              "#bd3786"
             ],
             [
              0.5555555555555556,
              "#d8576b"
             ],
             [
              0.6666666666666666,
              "#ed7953"
             ],
             [
              0.7777777777777778,
              "#fb9f3a"
             ],
             [
              0.8888888888888888,
              "#fdca26"
             ],
             [
              1,
              "#f0f921"
             ]
            ],
            "type": "surface"
           }
          ],
          "table": [
           {
            "cells": {
             "fill": {
              "color": "#EBF0F8"
             },
             "line": {
              "color": "white"
             }
            },
            "header": {
             "fill": {
              "color": "#C8D4E3"
             },
             "line": {
              "color": "white"
             }
            },
            "type": "table"
           }
          ]
         },
         "layout": {
          "annotationdefaults": {
           "arrowcolor": "#2a3f5f",
           "arrowhead": 0,
           "arrowwidth": 1
          },
          "autotypenumbers": "strict",
          "coloraxis": {
           "colorbar": {
            "outlinewidth": 0,
            "ticks": ""
           }
          },
          "colorscale": {
           "diverging": [
            [
             0,
             "#8e0152"
            ],
            [
             0.1,
             "#c51b7d"
            ],
            [
             0.2,
             "#de77ae"
            ],
            [
             0.3,
             "#f1b6da"
            ],
            [
             0.4,
             "#fde0ef"
            ],
            [
             0.5,
             "#f7f7f7"
            ],
            [
             0.6,
             "#e6f5d0"
            ],
            [
             0.7,
             "#b8e186"
            ],
            [
             0.8,
             "#7fbc41"
            ],
            [
             0.9,
             "#4d9221"
            ],
            [
             1,
             "#276419"
            ]
           ],
           "sequential": [
            [
             0,
             "#0d0887"
            ],
            [
             0.1111111111111111,
             "#46039f"
            ],
            [
             0.2222222222222222,
             "#7201a8"
            ],
            [
             0.3333333333333333,
             "#9c179e"
            ],
            [
             0.4444444444444444,
             "#bd3786"
            ],
            [
             0.5555555555555556,
             "#d8576b"
            ],
            [
             0.6666666666666666,
             "#ed7953"
            ],
            [
             0.7777777777777778,
             "#fb9f3a"
            ],
            [
             0.8888888888888888,
             "#fdca26"
            ],
            [
             1,
             "#f0f921"
            ]
           ],
           "sequentialminus": [
            [
             0,
             "#0d0887"
            ],
            [
             0.1111111111111111,
             "#46039f"
            ],
            [
             0.2222222222222222,
             "#7201a8"
            ],
            [
             0.3333333333333333,
             "#9c179e"
            ],
            [
             0.4444444444444444,
             "#bd3786"
            ],
            [
             0.5555555555555556,
             "#d8576b"
            ],
            [
             0.6666666666666666,
             "#ed7953"
            ],
            [
             0.7777777777777778,
             "#fb9f3a"
            ],
            [
             0.8888888888888888,
             "#fdca26"
            ],
            [
             1,
             "#f0f921"
            ]
           ]
          },
          "colorway": [
           "#636efa",
           "#EF553B",
           "#00cc96",
           "#ab63fa",
           "#FFA15A",
           "#19d3f3",
           "#FF6692",
           "#B6E880",
           "#FF97FF",
           "#FECB52"
          ],
          "font": {
           "color": "#2a3f5f"
          },
          "geo": {
           "bgcolor": "white",
           "lakecolor": "white",
           "landcolor": "#E5ECF6",
           "showlakes": true,
           "showland": true,
           "subunitcolor": "white"
          },
          "hoverlabel": {
           "align": "left"
          },
          "hovermode": "closest",
          "mapbox": {
           "style": "light"
          },
          "paper_bgcolor": "white",
          "plot_bgcolor": "#E5ECF6",
          "polar": {
           "angularaxis": {
            "gridcolor": "white",
            "linecolor": "white",
            "ticks": ""
           },
           "bgcolor": "#E5ECF6",
           "radialaxis": {
            "gridcolor": "white",
            "linecolor": "white",
            "ticks": ""
           }
          },
          "scene": {
           "xaxis": {
            "backgroundcolor": "#E5ECF6",
            "gridcolor": "white",
            "gridwidth": 2,
            "linecolor": "white",
            "showbackground": true,
            "ticks": "",
            "zerolinecolor": "white"
           },
           "yaxis": {
            "backgroundcolor": "#E5ECF6",
            "gridcolor": "white",
            "gridwidth": 2,
            "linecolor": "white",
            "showbackground": true,
            "ticks": "",
            "zerolinecolor": "white"
           },
           "zaxis": {
            "backgroundcolor": "#E5ECF6",
            "gridcolor": "white",
            "gridwidth": 2,
            "linecolor": "white",
            "showbackground": true,
            "ticks": "",
            "zerolinecolor": "white"
           }
          },
          "shapedefaults": {
           "line": {
            "color": "#2a3f5f"
           }
          },
          "ternary": {
           "aaxis": {
            "gridcolor": "white",
            "linecolor": "white",
            "ticks": ""
           },
           "baxis": {
            "gridcolor": "white",
            "linecolor": "white",
            "ticks": ""
           },
           "bgcolor": "#E5ECF6",
           "caxis": {
            "gridcolor": "white",
            "linecolor": "white",
            "ticks": ""
           }
          },
          "title": {
           "x": 0.05
          },
          "xaxis": {
           "automargin": true,
           "gridcolor": "white",
           "linecolor": "white",
           "ticks": "",
           "title": {
            "standoff": 15
           },
           "zerolinecolor": "white",
           "zerolinewidth": 2
          },
          "yaxis": {
           "automargin": true,
           "gridcolor": "white",
           "linecolor": "white",
           "ticks": "",
           "title": {
            "standoff": 15
           },
           "zerolinecolor": "white",
           "zerolinewidth": 2
          }
         }
        },
        "title": {
         "text": "Real vs Predicted Mood Values for Participant 1"
        },
        "updatemenus": [
         {
          "active": 0,
          "buttons": [
           {
            "args": [
             {
              "visible": [
               true,
               true,
               false,
               false,
               false,
               false,
               false,
               false,
               false,
               false,
               false,
               false,
               false,
               false,
               false,
               false,
               false,
               false,
               false,
               false,
               false,
               false,
               false,
               false,
               false,
               false,
               false,
               false,
               false,
               false,
               false,
               false,
               false,
               false
              ]
             },
             {
              "title": "Real vs Predicted Mood Values for Participant 1",
              "xaxis": {
               "title": "Day"
              },
              "yaxis": {
               "title": "Mood Value"
              }
             }
            ],
            "label": "1",
            "method": "update"
           },
           {
            "args": [
             {
              "visible": [
               false,
               false,
               true,
               true,
               false,
               false,
               false,
               false,
               false,
               false,
               false,
               false,
               false,
               false,
               false,
               false,
               false,
               false,
               false,
               false,
               false,
               false,
               false,
               false,
               false,
               false,
               false,
               false,
               false,
               false,
               false,
               false,
               false,
               false
              ]
             },
             {
              "title": "Real vs Predicted Mood Values for Participant 2",
              "xaxis": {
               "title": "Day"
              },
              "yaxis": {
               "title": "Mood Value"
              }
             }
            ],
            "label": "2",
            "method": "update"
           },
           {
            "args": [
             {
              "visible": [
               false,
               false,
               false,
               false,
               true,
               true,
               false,
               false,
               false,
               false,
               false,
               false,
               false,
               false,
               false,
               false,
               false,
               false,
               false,
               false,
               false,
               false,
               false,
               false,
               false,
               false,
               false,
               false,
               false,
               false,
               false,
               false,
               false,
               false
              ]
             },
             {
              "title": "Real vs Predicted Mood Values for Participant 3",
              "xaxis": {
               "title": "Day"
              },
              "yaxis": {
               "title": "Mood Value"
              }
             }
            ],
            "label": "3",
            "method": "update"
           },
           {
            "args": [
             {
              "visible": [
               false,
               false,
               false,
               false,
               false,
               false,
               true,
               true,
               false,
               false,
               false,
               false,
               false,
               false,
               false,
               false,
               false,
               false,
               false,
               false,
               false,
               false,
               false,
               false,
               false,
               false,
               false,
               false,
               false,
               false,
               false,
               false,
               false,
               false
              ]
             },
             {
              "title": "Real vs Predicted Mood Values for Participant 5",
              "xaxis": {
               "title": "Day"
              },
              "yaxis": {
               "title": "Mood Value"
              }
             }
            ],
            "label": "5",
            "method": "update"
           },
           {
            "args": [
             {
              "visible": [
               false,
               false,
               false,
               false,
               false,
               false,
               false,
               false,
               true,
               true,
               false,
               false,
               false,
               false,
               false,
               false,
               false,
               false,
               false,
               false,
               false,
               false,
               false,
               false,
               false,
               false,
               false,
               false,
               false,
               false,
               false,
               false,
               false,
               false
              ]
             },
             {
              "title": "Real vs Predicted Mood Values for Participant 6",
              "xaxis": {
               "title": "Day"
              },
              "yaxis": {
               "title": "Mood Value"
              }
             }
            ],
            "label": "6",
            "method": "update"
           },
           {
            "args": [
             {
              "visible": [
               false,
               false,
               false,
               false,
               false,
               false,
               false,
               false,
               false,
               false,
               true,
               true,
               false,
               false,
               false,
               false,
               false,
               false,
               false,
               false,
               false,
               false,
               false,
               false,
               false,
               false,
               false,
               false,
               false,
               false,
               false,
               false,
               false,
               false
              ]
             },
             {
              "title": "Real vs Predicted Mood Values for Participant 7",
              "xaxis": {
               "title": "Day"
              },
              "yaxis": {
               "title": "Mood Value"
              }
             }
            ],
            "label": "7",
            "method": "update"
           },
           {
            "args": [
             {
              "visible": [
               false,
               false,
               false,
               false,
               false,
               false,
               false,
               false,
               false,
               false,
               false,
               false,
               true,
               true,
               false,
               false,
               false,
               false,
               false,
               false,
               false,
               false,
               false,
               false,
               false,
               false,
               false,
               false,
               false,
               false,
               false,
               false,
               false,
               false
              ]
             },
             {
              "title": "Real vs Predicted Mood Values for Participant 8",
              "xaxis": {
               "title": "Day"
              },
              "yaxis": {
               "title": "Mood Value"
              }
             }
            ],
            "label": "8",
            "method": "update"
           },
           {
            "args": [
             {
              "visible": [
               false,
               false,
               false,
               false,
               false,
               false,
               false,
               false,
               false,
               false,
               false,
               false,
               false,
               false,
               true,
               true,
               false,
               false,
               false,
               false,
               false,
               false,
               false,
               false,
               false,
               false,
               false,
               false,
               false,
               false,
               false,
               false,
               false,
               false
              ]
             },
             {
              "title": "Real vs Predicted Mood Values for Participant 9",
              "xaxis": {
               "title": "Day"
              },
              "yaxis": {
               "title": "Mood Value"
              }
             }
            ],
            "label": "9",
            "method": "update"
           },
           {
            "args": [
             {
              "visible": [
               false,
               false,
               false,
               false,
               false,
               false,
               false,
               false,
               false,
               false,
               false,
               false,
               false,
               false,
               false,
               false,
               true,
               true,
               false,
               false,
               false,
               false,
               false,
               false,
               false,
               false,
               false,
               false,
               false,
               false,
               false,
               false,
               false,
               false
              ]
             },
             {
              "title": "Real vs Predicted Mood Values for Participant 12",
              "xaxis": {
               "title": "Day"
              },
              "yaxis": {
               "title": "Mood Value"
              }
             }
            ],
            "label": "12",
            "method": "update"
           },
           {
            "args": [
             {
              "visible": [
               false,
               false,
               false,
               false,
               false,
               false,
               false,
               false,
               false,
               false,
               false,
               false,
               false,
               false,
               false,
               false,
               false,
               false,
               true,
               true,
               false,
               false,
               false,
               false,
               false,
               false,
               false,
               false,
               false,
               false,
               false,
               false,
               false,
               false
              ]
             },
             {
              "title": "Real vs Predicted Mood Values for Participant 13",
              "xaxis": {
               "title": "Day"
              },
              "yaxis": {
               "title": "Mood Value"
              }
             }
            ],
            "label": "13",
            "method": "update"
           },
           {
            "args": [
             {
              "visible": [
               false,
               false,
               false,
               false,
               false,
               false,
               false,
               false,
               false,
               false,
               false,
               false,
               false,
               false,
               false,
               false,
               false,
               false,
               false,
               false,
               true,
               true,
               false,
               false,
               false,
               false,
               false,
               false,
               false,
               false,
               false,
               false,
               false,
               false
              ]
             },
             {
              "title": "Real vs Predicted Mood Values for Participant 14",
              "xaxis": {
               "title": "Day"
              },
              "yaxis": {
               "title": "Mood Value"
              }
             }
            ],
            "label": "14",
            "method": "update"
           },
           {
            "args": [
             {
              "visible": [
               false,
               false,
               false,
               false,
               false,
               false,
               false,
               false,
               false,
               false,
               false,
               false,
               false,
               false,
               false,
               false,
               false,
               false,
               false,
               false,
               false,
               false,
               true,
               true,
               false,
               false,
               false,
               false,
               false,
               false,
               false,
               false,
               false,
               false
              ]
             },
             {
              "title": "Real vs Predicted Mood Values for Participant 15",
              "xaxis": {
               "title": "Day"
              },
              "yaxis": {
               "title": "Mood Value"
              }
             }
            ],
            "label": "15",
            "method": "update"
           },
           {
            "args": [
             {
              "visible": [
               false,
               false,
               false,
               false,
               false,
               false,
               false,
               false,
               false,
               false,
               false,
               false,
               false,
               false,
               false,
               false,
               false,
               false,
               false,
               false,
               false,
               false,
               false,
               false,
               true,
               true,
               false,
               false,
               false,
               false,
               false,
               false,
               false,
               false
              ]
             },
             {
              "title": "Real vs Predicted Mood Values for Participant 16",
              "xaxis": {
               "title": "Day"
              },
              "yaxis": {
               "title": "Mood Value"
              }
             }
            ],
            "label": "16",
            "method": "update"
           },
           {
            "args": [
             {
              "visible": [
               false,
               false,
               false,
               false,
               false,
               false,
               false,
               false,
               false,
               false,
               false,
               false,
               false,
               false,
               false,
               false,
               false,
               false,
               false,
               false,
               false,
               false,
               false,
               false,
               false,
               false,
               true,
               true,
               false,
               false,
               false,
               false,
               false,
               false
              ]
             },
             {
              "title": "Real vs Predicted Mood Values for Participant 17",
              "xaxis": {
               "title": "Day"
              },
              "yaxis": {
               "title": "Mood Value"
              }
             }
            ],
            "label": "17",
            "method": "update"
           },
           {
            "args": [
             {
              "visible": [
               false,
               false,
               false,
               false,
               false,
               false,
               false,
               false,
               false,
               false,
               false,
               false,
               false,
               false,
               false,
               false,
               false,
               false,
               false,
               false,
               false,
               false,
               false,
               false,
               false,
               false,
               false,
               false,
               true,
               true,
               false,
               false,
               false,
               false
              ]
             },
             {
              "title": "Real vs Predicted Mood Values for Participant 19",
              "xaxis": {
               "title": "Day"
              },
              "yaxis": {
               "title": "Mood Value"
              }
             }
            ],
            "label": "19",
            "method": "update"
           },
           {
            "args": [
             {
              "visible": [
               false,
               false,
               false,
               false,
               false,
               false,
               false,
               false,
               false,
               false,
               false,
               false,
               false,
               false,
               false,
               false,
               false,
               false,
               false,
               false,
               false,
               false,
               false,
               false,
               false,
               false,
               false,
               false,
               false,
               false,
               true,
               true,
               false,
               false
              ]
             },
             {
              "title": "Real vs Predicted Mood Values for Participant 20",
              "xaxis": {
               "title": "Day"
              },
              "yaxis": {
               "title": "Mood Value"
              }
             }
            ],
            "label": "20",
            "method": "update"
           },
           {
            "args": [
             {
              "visible": [
               false,
               false,
               false,
               false,
               false,
               false,
               false,
               false,
               false,
               false,
               false,
               false,
               false,
               false,
               false,
               false,
               false,
               false,
               false,
               false,
               false,
               false,
               false,
               false,
               false,
               false,
               false,
               false,
               false,
               false,
               false,
               false,
               true,
               true
              ]
             },
             {
              "title": "Real vs Predicted Mood Values for Participant 23",
              "xaxis": {
               "title": "Day"
              },
              "yaxis": {
               "title": "Mood Value"
              }
             }
            ],
            "label": "23",
            "method": "update"
           }
          ],
          "showactive": true,
          "x": 1.1,
          "y": 1
         }
        ],
        "xaxis": {
         "title": {
          "text": "Day"
         }
        },
        "yaxis": {
         "title": {
          "text": "Mood Value"
         }
        }
       }
      }
     },
     "metadata": {},
     "output_type": "display_data"
    },
    {
     "name": "stdout",
     "output_type": "stream",
     "text": [
      "MAE: 0.8712506294250488, RMSE: 1.0313866842604609, R2: -0.9371203184127808\n"
     ]
    }
   ],
   "source": [
    "# Call the function to predict and plot\n",
    "df_results_train, mae_train, mse_train, rmse_train, r2_train = predict_and_plot(model, train_loader, train_dataset, target_scaler=scaler_target, show_plot=True, save_html=True, title=\"train\", scaler_type=SCALER_TYPE)\n",
    "df_results, mae, mse, rmse, r2 = predict_and_plot(model, test_loader, test_dataset, target_scaler=scaler_target, show_plot=True, save_html=True, title=\"test\", scaler_type=SCALER_TYPE)\n",
    "\n",
    "\n",
    "results = {}\n",
    "results[\"lstm\"] = {\n",
    "        'R2': r2,\n",
    "        'R2_train': r2_train,\n",
    "        'MAE': mae,\n",
    "        'MAE_train': mae_train,\n",
    "        'MSE': mse,\n",
    "        'MSE_train': mse_train,\n",
    "        'RMSE': rmse,\n",
    "        'RMSE_train': rmse_train,\n",
    "        'dataset': dataset_name\n",
    "    }\n",
    "\n",
    "results_df = pd.DataFrame(results).T\n",
    "if not os.path.exists('tables/results'):\n",
    "    os.makedirs('tables/results', exist_ok=True)\n",
    "    results_df.to_csv('tables/results/model_results.csv', index=True, header=True)\n",
    "results_df.to_csv(\"tables/results/model_results.csv\", mode='a', header=False, index=True)"
   ]
  }
 ],
 "metadata": {
  "kernelspec": {
   "display_name": "datascience",
   "language": "python",
   "name": "python3"
  },
  "language_info": {
   "codemirror_mode": {
    "name": "ipython",
    "version": 3
   },
   "file_extension": ".py",
   "mimetype": "text/x-python",
   "name": "python",
   "nbconvert_exporter": "python",
   "pygments_lexer": "ipython3",
   "version": "3.10.16"
  }
 },
 "nbformat": 4,
 "nbformat_minor": 2
}
