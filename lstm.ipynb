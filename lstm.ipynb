{
 "cells": [
  {
   "cell_type": "markdown",
   "metadata": {},
   "source": [
    "# MODELING"
   ]
  },
  {
   "cell_type": "code",
   "execution_count": 90,
   "metadata": {},
   "outputs": [],
   "source": [
    "import numpy as np\n",
    "import matplotlib.pyplot as plt\n",
    "import scipy.stats as stats\n",
    "import seaborn as sns\n",
    "import pandas as pd\n",
    "import os\n",
    "import plotly.graph_objects as go\n",
    "from plotly.subplots import make_subplots\n",
    "import itertools\n",
    "\n",
    "import torch\n",
    "from torch.utils.data import DataLoader, Dataset\n",
    "from sklearn.model_selection import train_test_split\n",
    "from sklearn.preprocessing import StandardScaler, MinMaxScaler\n",
    "from torch import nn\n",
    "import torch.optim as optim\n",
    "import time"
   ]
  },
  {
   "cell_type": "markdown",
   "metadata": {},
   "source": [
    "#### Add Mac acceleration"
   ]
  },
  {
   "cell_type": "code",
   "execution_count": 91,
   "metadata": {},
   "outputs": [
    {
     "name": "stdout",
     "output_type": "stream",
     "text": [
      "tensor([1.], device='mps:0')\n"
     ]
    }
   ],
   "source": [
    "if torch.backends.mps.is_available():\n",
    "    mps_device = torch.device(\"mps\")\n",
    "    x = torch.ones(1, device=mps_device)\n",
    "    print (x)\n",
    "else:\n",
    "    print (\"MPS device not found.\")"
   ]
  },
  {
   "cell_type": "markdown",
   "metadata": {},
   "source": [
    "### Dataset class"
   ]
  },
  {
   "cell_type": "code",
   "execution_count": 92,
   "metadata": {},
   "outputs": [],
   "source": [
    "class MultiParticipantDataset(Dataset):\n",
    "    def __init__(self, df, seq_length, target_col='mood', id_col='id_num', include_target_in_features=True):\n",
    "        \"\"\"\n",
    "        df: pandas DataFrame sorted by time.\n",
    "        seq_length: number of time steps in each sample.\n",
    "        target_col: the column we want to predict.\n",
    "        \"\"\"\n",
    "        df = df.drop(columns=[\"next_day\", \"next_day_mood\", \"date\"])\n",
    "        \n",
    "        self.seq_length = seq_length\n",
    "        self.target_col = target_col\n",
    "        self.id_col = id_col\n",
    "        \n",
    "        df.sort_values(by=[id_col, 'day'], inplace=True)\n",
    "        self.data = df.reset_index(drop=True)\n",
    "\n",
    "        if include_target_in_features:\n",
    "            self.features = [col for col in self.data.columns if col not in [target_col, \"day\"]]\n",
    "        else:\n",
    "            self.features = [col for col in self.data.columns if col not in [target_col, id_col, \"day\"]]\n",
    "\n",
    "        # Precompute valid indices where the sequence is within the same participant.\n",
    "        self.valid_indices = []\n",
    "        for i in range(len(self.data) - self.seq_length):\n",
    "            participant_id = self.data.iloc[i][self.id_col]\n",
    "            if all(self.data.iloc[i:i+self.seq_length][self.id_col] == participant_id):\n",
    "                self.valid_indices.append(i)\n",
    "\n",
    "    def __len__(self):\n",
    "        return len(self.valid_indices)\n",
    "\n",
    "    def __getitem__(self, idx):\n",
    "        # Use precomputed valid index.\n",
    "        real_idx = self.valid_indices[idx]\n",
    "        row = self.data.iloc[real_idx]\n",
    "        participant_id = row[self.id_col]\n",
    "        \n",
    "        x_features = self.data.iloc[real_idx:real_idx+self.seq_length][self.features].values.astype(np.float32)\n",
    "        x_id = np.array([participant_id] * self.seq_length, dtype=np.int64)\n",
    "        \n",
    "        # The target is the next time step's mood\n",
    "        y = self.data.iloc[real_idx+self.seq_length][self.target_col]\n",
    "        \n",
    "        return torch.tensor(x_features),torch.tensor(x_id), torch.tensor(y).float()\n"
   ]
  },
  {
   "cell_type": "markdown",
   "metadata": {},
   "source": [
    "### Load df"
   ]
  },
  {
   "cell_type": "code",
   "execution_count": 109,
   "metadata": {},
   "outputs": [],
   "source": [
    "# df = pd.read_csv(\"tables/preprocessed/df_drop_appCat.csv\")\n",
    "df = pd.read_csv(\"tables/preprocessed/df_interpolated.csv\")\n",
    "\n",
    "dataset_name = \"df_interpolated\"\n",
    "dropped_vars = [\"\"]\n",
    "imputation = \"linear interpolation\""
   ]
  },
  {
   "cell_type": "markdown",
   "metadata": {},
   "source": [
    "### Train test split"
   ]
  },
  {
   "cell_type": "code",
   "execution_count": 103,
   "metadata": {},
   "outputs": [
    {
     "name": "stdout",
     "output_type": "stream",
     "text": [
      "Train mood descriptives\n",
      "count    1024.000000\n",
      "mean        6.994181\n",
      "std         0.731078\n",
      "min         3.000000\n",
      "25%         6.600000\n",
      "50%         7.000000\n",
      "75%         7.500000\n",
      "max         9.333333\n",
      "Name: mood, dtype: float64\n",
      "Test mood descriptives\n",
      "count    272.000000\n",
      "mean       7.014920\n",
      "std        0.733379\n",
      "min        4.800000\n",
      "25%        6.666667\n",
      "50%        7.000000\n",
      "75%        7.500000\n",
      "max        9.000000\n",
      "Name: mood, dtype: float64\n"
     ]
    }
   ],
   "source": [
    "\n",
    "dfs_train = []\n",
    "dfs_test = []\n",
    "proportion_train = 0.8\n",
    "for participant, group in df.groupby('id_num'):\n",
    "    group = group.sort_values(by='day')\n",
    "    split_idx = int(len(group) * proportion_train)\n",
    "    dfs_train.append(group.iloc[:split_idx])\n",
    "    dfs_test.append(group.iloc[split_idx:])\n",
    "    \n",
    "train_df = pd.concat(dfs_train)\n",
    "test_df = pd.concat(dfs_test)\n",
    "\n",
    "# get mood descriptives\n",
    "print(\"Train mood descriptives\")\n",
    "print(train_df[\"mood\"].describe())\n",
    "print(\"Test mood descriptives\")\n",
    "print(test_df[\"mood\"].describe())\n",
    "\n",
    "# get the start end end dates per participant per df\n",
    "train_start_dates = train_df.groupby('id_num')['day'].min()\n",
    "train_end_dates = train_df.groupby('id_num')['day'].max()\n",
    "test_start_dates = test_df.groupby('id_num')['day'].min()\n",
    "test_end_dates = test_df.groupby('id_num')['day'].max()\n",
    "\n",
    "# put in a dataframe with participant train start end and test start end\n",
    "dates_df = pd.DataFrame({\n",
    "    \"participant\": train_start_dates.index,\n",
    "    \"train_start\": train_start_dates.values,\n",
    "    \"train_end\": train_end_dates.values,\n",
    "    \"test_start\": test_start_dates.values,\n",
    "    \"test_end\": test_end_dates.values,\n",
    "})\n",
    "\n",
    "dates_df.to_csv(\"tables/training_dates_split.csv\", index=False)"
   ]
  },
  {
   "cell_type": "markdown",
   "metadata": {},
   "source": [
    "### Normalize"
   ]
  },
  {
   "cell_type": "code",
   "execution_count": 104,
   "metadata": {},
   "outputs": [
    {
     "name": "stdout",
     "output_type": "stream",
     "text": [
      "scaler_target properties:\n",
      "[6.99418132]\n",
      "[0.73072144]\n",
      "Train shape: (1024, 29), Test shape: (272, 29)\n"
     ]
    }
   ],
   "source": [
    "def normalize(df, scaler=None, scaler_target=None, transform_target=False):\n",
    "    df = df.copy()\n",
    "    features = [col for col in df.columns if col not in ['id_num', 'day', \"date\", \"next_day_mood\", \"next_day\", \"mood\"]]\n",
    "    \n",
    "    if scaler is None:\n",
    "        scaler = StandardScaler()\n",
    "    \n",
    "    # Scale the features\n",
    "    df[features] = scaler.fit_transform(df[features])\n",
    "    \n",
    "    if transform_target:\n",
    "        if scaler_target is None:\n",
    "            scaler_target = StandardScaler()\n",
    "        # Scale only the target column \"mood\"\n",
    "        df[\"mood\"] = scaler_target.fit_transform(df[[\"mood\"]])\n",
    "\n",
    "        # print(\"scaler properties:\")\n",
    "        # print(scaler.mean_)\n",
    "        # print(scaler.scale_)\n",
    "        print(\"scaler_target properties:\")\n",
    "        print(scaler_target.mean_)\n",
    "        print(scaler_target.scale_)\n",
    "        \n",
    "        return df, scaler, scaler_target\n",
    "    else:\n",
    "        return df, scaler, None\n",
    "\n",
    "def denormalize(df, scaler, scaler_target=None):\n",
    "\n",
    "    features = [col for col in df.columns if col not in ['id_num', 'day', \"date\", \"next_day_mood\", \"next_day\", \"mood\"]]\n",
    "    \n",
    "    # Inverse transform the features\n",
    "    df[features] = scaler.inverse_transform(df[features])\n",
    "    \n",
    "    if scaler_target is not None:\n",
    "        # Inverse transform the target column \"mood\"\n",
    "        df[\"mood\"] = scaler_target.inverse_transform(df[[\"mood\"]])\n",
    "    \n",
    "    return df\n",
    "\n",
    "# Normalize the training and test data\n",
    "train_df_normalized, scaler, scaler_target = normalize(train_df, scaler=None, scaler_target=None, transform_target=True)\n",
    "test_df_normalized, _, _ = normalize(test_df, scaler=scaler, scaler_target=scaler_target)\n",
    "\n",
    "print(f\"Train shape: {train_df_normalized.shape}, Test shape: {test_df_normalized.shape}\") # Train shape: (1230, 24), Test shape: (307, 24)\n",
    "\n"
   ]
  },
  {
   "cell_type": "markdown",
   "metadata": {},
   "source": [
    "### Create dataset"
   ]
  },
  {
   "cell_type": "code",
   "execution_count": 106,
   "metadata": {},
   "outputs": [
    {
     "name": "stdout",
     "output_type": "stream",
     "text": [
      "Number of batches in train_loader: 32\n",
      "Number of batches in test_loader: 9\n",
      "x shape: torch.Size([32, 1, 24]), x_id shape: torch.Size([32, 1]), y shape: torch.Size([32])\n"
     ]
    }
   ],
   "source": [
    "\n",
    "# Create the dataset\n",
    "seq_length = 1\n",
    "batch_size = 32\n",
    "train_dataset = MultiParticipantDataset(train_df_normalized, seq_length=seq_length)\n",
    "test_dataset = MultiParticipantDataset(test_df_normalized, seq_length=seq_length)\n",
    "\n",
    "# Create DataLoader\n",
    "train_loader = DataLoader(train_dataset, batch_size=batch_size, shuffle=False)\n",
    "test_loader = DataLoader(test_dataset, batch_size=batch_size, shuffle=False)\n",
    "\n",
    "# Check the shape of the data\n",
    "print(f\"Number of batches in train_loader: {len(train_loader)}\")\n",
    "print(f\"Number of batches in test_loader: {len(test_loader)}\")\n",
    "for x, x_id, y in train_loader:\n",
    "    print(f\"x shape: {x.shape}, x_id shape: {x_id.shape}, y shape: {y.shape}\")\n",
    "    break\n",
    "# 32 sequences in a batch, each with 5 time steps and 24 features\n"
   ]
  },
  {
   "cell_type": "markdown",
   "metadata": {},
   "source": [
    "### define lstm model"
   ]
  },
  {
   "cell_type": "code",
   "execution_count": 97,
   "metadata": {},
   "outputs": [],
   "source": [
    "class LSTMModel(nn.Module):\n",
    "    def __init__(self, input_dim, hidden_dim, num_layers, output_dim):\n",
    "        super(LSTMModel, self).__init__()\n",
    "        self.hidden_dim = hidden_dim\n",
    "        self.num_layers = num_layers\n",
    "        \n",
    "        # LSTM layer; batch_first=True expects input shape: (batch, seq, feature)\n",
    "        self.lstm = nn.LSTM(input_dim, hidden_dim, num_layers, batch_first=True)\n",
    "        \n",
    "        # Fully-connected layer to output the final prediction\n",
    "        self.fc = nn.Linear(hidden_dim, output_dim)\n",
    "        \n",
    "    def forward(self, x):\n",
    "        # x: [batch_size, seq_length, input_dim]\n",
    "        # Initialize hidden and cell states with zeros\n",
    "        h0 = torch.zeros(self.num_layers, x.size(0), self.hidden_dim).to(x.device)\n",
    "        c0 = torch.zeros(self.num_layers, x.size(0), self.hidden_dim).to(x.device)\n",
    "        \n",
    "        # Forward propagate LSTM\n",
    "        out, _ = self.lstm(x, (h0, c0))\n",
    "        \n",
    "        # Use the last time step's output for prediction\n",
    "        out = self.fc(out[:, -1, :])\n",
    "        return out"
   ]
  },
  {
   "cell_type": "markdown",
   "metadata": {},
   "source": [
    "### Train loop"
   ]
  },
  {
   "cell_type": "code",
   "execution_count": 108,
   "metadata": {},
   "outputs": [
    {
     "name": "stdout",
     "output_type": "stream",
     "text": [
      "Epoch [1/20], Train Loss: 1.0210, Eval Loss: 49.5387\n",
      "Epoch [2/20], Train Loss: 0.9956, Eval Loss: 49.1739\n",
      "Epoch [3/20], Train Loss: 0.9790, Eval Loss: 49.0603\n",
      "Epoch [4/20], Train Loss: 0.9443, Eval Loss: 48.9571\n",
      "Epoch [5/20], Train Loss: 0.9005, Eval Loss: 49.2625\n",
      "Epoch [6/20], Train Loss: 0.8692, Eval Loss: 49.5633\n",
      "Epoch [7/20], Train Loss: 0.8507, Eval Loss: 49.4978\n",
      "Epoch [8/20], Train Loss: 0.8365, Eval Loss: 49.4569\n",
      "Epoch [9/20], Train Loss: 0.8228, Eval Loss: 49.4218\n",
      "Epoch [10/20], Train Loss: 0.8085, Eval Loss: 49.3652\n",
      "Epoch [11/20], Train Loss: 0.7932, Eval Loss: 49.2905\n",
      "Epoch [12/20], Train Loss: 0.7772, Eval Loss: 49.2167\n",
      "Epoch [13/20], Train Loss: 0.7612, Eval Loss: 49.1533\n",
      "Epoch [14/20], Train Loss: 0.7458, Eval Loss: 49.1024\n",
      "Epoch [15/20], Train Loss: 0.7310, Eval Loss: 49.0612\n",
      "Epoch [16/20], Train Loss: 0.7168, Eval Loss: 49.0168\n",
      "Epoch [17/20], Train Loss: 0.7032, Eval Loss: 48.9535\n",
      "Epoch [18/20], Train Loss: 0.6903, Eval Loss: 48.8624\n",
      "Epoch [19/20], Train Loss: 0.6780, Eval Loss: 48.7458\n",
      "Epoch [20/20], Train Loss: 0.6665, Eval Loss: 48.6155\n"
     ]
    },
    {
     "data": {
      "image/png": "[encoded data removed]",
      "text/plain": [
       "<Figure size 1200x600 with 1 Axes>"
      ]
     },
     "metadata": {},
     "output_type": "display_data"
    },
    {
     "data": {
      "image/png": "[encoded data removed]",
      "text/plain": [
       "<Figure size 1200x600 with 1 Axes>"
      ]
     },
     "metadata": {},
     "output_type": "display_data"
    },
    {
     "name": "stdout",
     "output_type": "stream",
     "text": [
      "{'dataset': 'df_interpolated', 'dropped_vars': [''], 'imputation': 'linear interpolation', 'model': 'LSTM', 'sequence_length': 1, 'scaler': 'StandardScaler', 'scaler_target': 'None', 'batch_size': 32, 'input_dim': 24, 'hidden_dim': 64, 'num_layers': 2, 'output_dim': 1, 'num_epochs': 20, 'learning_rate': 0.001, 'train_loss': 0.6664740247651935, 'eval_loss': 48.61550733778212, 'Features': ['id_num', 'screen', 'activity', 'activity_max', 'circumplex.valence', 'circumplex.valence_min', 'circumplex.valence_max', 'circumplex.arousal', 'circumplex.arousal_min', 'circumplex.arousal_max', 'call', 'sms', 'appCat.builtin', 'appCat.communication', 'appCat.entertainment', 'appCat.finance', 'appCat.game', 'appCat.office', 'appCat.other', 'appCat.social', 'appCat.travel', 'appCat.unknown', 'appCat.utilities', 'appCat.weather'], 'timestamp': '2025-04-05 16:51:51'}\n"
     ]
    }
   ],
   "source": [
    "# Hyperparameters\n",
    "input_dim = len(train_dataset.features)  # e.g., 24\n",
    "hidden_dim = 64             # Number of LSTM units\n",
    "num_layers = 2\n",
    "output_dim = 1                   # For regression (predicting a single value)\n",
    "num_epochs = 20\n",
    "learning_rate = 0.001\n",
    "\n",
    "# Initialize model, loss function, and optimizer\n",
    "model = LSTMModel(input_dim, hidden_dim, num_layers, output_dim)\n",
    "criterion = nn.MSELoss()\n",
    "optimizer = optim.Adam(model.parameters(), lr=learning_rate)\n",
    "\n",
    "# Prepare lists to store loss values for plotting\n",
    "train_epoch_losses = []\n",
    "eval_epoch_losses = []\n",
    "batch_losses = []\n",
    "\n",
    "# Training and evaluation loop\n",
    "for epoch in range(num_epochs):\n",
    "    model.train()\n",
    "    train_loss_epoch = 0.0\n",
    "\n",
    "    # --- Training ---\n",
    "    for batch in train_loader:\n",
    "        x_features, x_id, y = batch  # x_features: [batch, seq_length, input_dim]\n",
    "        \n",
    "        # Forward pass\n",
    "        outputs = model(x_features)  # outputs shape: [batch, output_dim]\n",
    "        loss = criterion(outputs.squeeze(), y)\n",
    "\n",
    "        batch_losses.append(loss.item())\n",
    "        \n",
    "        # Backprop and optimization\n",
    "        optimizer.zero_grad()\n",
    "        loss.backward()\n",
    "        optimizer.step()\n",
    "        \n",
    "        train_loss_epoch += loss.item()\n",
    "    \n",
    "    avg_train_loss = train_loss_epoch / len(train_loader)\n",
    "    train_epoch_losses.append(avg_train_loss)\n",
    "    \n",
    "    # --- Evaluation ---\n",
    "    model.eval()\n",
    "    eval_loss_epoch = 0.0\n",
    "    with torch.no_grad():\n",
    "        for batch in test_loader:\n",
    "            x_features, x_id, y = batch\n",
    "            outputs = model(x_features)\n",
    "            loss = criterion(outputs.squeeze(), y)\n",
    "            eval_loss_epoch += loss.item()\n",
    "    \n",
    "    avg_eval_loss = eval_loss_epoch / len(test_loader)\n",
    "    eval_epoch_losses.append(avg_eval_loss)\n",
    "    \n",
    "    print(f\"Epoch [{epoch+1}/{num_epochs}], Train Loss: {avg_train_loss:.4f}, Eval Loss: {avg_eval_loss:.4f}\")\n",
    "\n",
    "# Plot the training and evaluation loss curves\n",
    "sns.set(style=\"whitegrid\")\n",
    "plt.figure(figsize=(12, 6))\n",
    "plt.plot(range(1, num_epochs+1), train_epoch_losses, label='Train Loss', marker='o')\n",
    "plt.plot(range(1, num_epochs+1), eval_epoch_losses, label='Eval Loss', marker='o')\n",
    "plt.xlabel(\"Epoch\")\n",
    "plt.ylabel(\"Loss (MSE)\")\n",
    "plt.title(\"Training and Evaluation Loss Over Epochs\")\n",
    "plt.legend()\n",
    "plt.show()\n",
    "\n",
    "# plot batch losses\n",
    "plt.figure(figsize=(12, 6))\n",
    "plt.plot(batch_losses, label='Batch Loss')\n",
    "plt.xlabel(\"Batch\")\n",
    "plt.ylabel(\"Loss (MSE)\")\n",
    "plt.title(\"Batch Loss Over Training\")\n",
    "plt.legend()\n",
    "plt.show()\n",
    "\n",
    "\n",
    "\n",
    "# append the csv with hyperparameters and losses\n",
    "hyperparameters = {\n",
    "    \"dataset\": dataset_name,\n",
    "    \"dropped_vars\": dropped_vars,\n",
    "    \"imputation\": imputation,\n",
    "    \"model\": \"LSTM\",\n",
    "    \"sequence_length\": seq_length,\n",
    "    \"scaler\": \"StandardScaler\",\n",
    "    \"scaler_target\": \"None\",\n",
    "    \"batch_size\": batch_size,\n",
    "    \"input_dim\": input_dim,\n",
    "    \"hidden_dim\": hidden_dim,\n",
    "    \"num_layers\": num_layers,\n",
    "    \"output_dim\": output_dim,\n",
    "    \"num_epochs\": num_epochs,\n",
    "    \"learning_rate\": learning_rate,\n",
    "    \"train_loss\": train_epoch_losses[-1],\n",
    "    \"eval_loss\": eval_epoch_losses[-1],\n",
    "    \"Features\": train_dataset.features,\n",
    "    \"timestamp\": time.strftime(\"%Y-%m-%d %H:%M:%S\"),\n",
    "}\n",
    "print(hyperparameters)\n",
    "hyperparameters_df = pd.DataFrame([hyperparameters])\n",
    "if not os.path.exists(\"tables/hyperparameters.csv\"):\n",
    "    # create the csv with the hyperparameters\n",
    "    hyperparameters_df.to_csv(\"tables/hyperparameters.csv\", index=False)\n",
    "hyperparameters_df = pd.DataFrame([hyperparameters])\n",
    "hyperparameters_df.to_csv(\"tables/hyperparameters.csv\", mode='a', header=False, index=False)\n"
   ]
  },
  {
   "cell_type": "markdown",
   "metadata": {},
   "source": [
    "### Predict and plot function"
   ]
  },
  {
   "cell_type": "code",
   "execution_count": 99,
   "metadata": {},
   "outputs": [],
   "source": [
    "\n",
    "def predict_and_plot(model, data_loader, test_dataset, target_scaler=None, show_plot=True, save_html=True, title=\"predictions\"):\n",
    "    \"\"\"\n",
    "    Runs predictions on the data_loader using model, builds a results DataFrame using the\n",
    "    test_dataset's original data (which includes the 'day' and 'id_num' columns), and then plots\n",
    "    real vs predicted values with Plotly using the 'day' column for the x-axis and a dropdown\n",
    "    to select different participants.\n",
    "\n",
    "    Parameters:\n",
    "        model: Trained PyTorch model.\n",
    "        data_loader: DataLoader for the dataset to predict on.\n",
    "        test_dataset: The dataset instance (e.g., MultiParticipantDataset) used to create data_loader.\n",
    "                      It must have a 'data' attribute containing the original DataFrame with a 'day' column.\n",
    "        target_scaler: (Optional) Scaler used to normalize the target data.\n",
    "    \"\"\"\n",
    "    model.eval()\n",
    "    all_predictions = []\n",
    "    all_targets = []\n",
    "    \n",
    "    # Run model predictions over the data_loader\n",
    "    with torch.no_grad():\n",
    "        for batch in data_loader:\n",
    "            x_features, x_id, y = batch\n",
    "            outputs = model(x_features)\n",
    "            all_predictions.append(outputs.cpu().numpy())\n",
    "            all_targets.append(y.cpu().numpy())\n",
    "    \n",
    "    # Concatenate all predictions and targets into arrays.\n",
    "    all_predictions = np.concatenate(all_predictions)\n",
    "    all_targets = np.concatenate(all_targets)\n",
    "\n",
    "    \n",
    "    # Inverse transform if a target scaler is provided.\n",
    "    if target_scaler is not None:\n",
    "        print(\"Target scaler mean:\", target_scaler.mean_)\n",
    "        print(\"Target scaler scale:\", target_scaler.scale_)\n",
    "        all_predictions = target_scaler.inverse_transform(all_predictions)\n",
    "        all_targets = target_scaler.inverse_transform(all_targets.reshape(-1, 1))\n",
    "    \n",
    "\n",
    "    # Compute the correct slice of the original DataFrame.\n",
    "    # The i-th prediction corresponds to data row at index (i + seq_length)\n",
    "    start_idx = test_dataset.seq_length\n",
    "    end_idx = start_idx + len(test_dataset)\n",
    "    df_results = test_dataset.data.iloc[start_idx:end_idx].copy().reset_index(drop=True)\n",
    "\n",
    "    # Add prediction and target columns to the results DataFrame.\n",
    "    df_results['Real'] = all_targets.reshape(-1)\n",
    "    df_results['Predicted'] = all_predictions.reshape(-1)\n",
    "    \n",
    "    # Get unique participant IDs from the results DataFrame.\n",
    "    participant_col = test_dataset.id_col  # e.g., 'id_num'\n",
    "    participants = df_results[participant_col].unique()\n",
    "    \n",
    "    # Build Plotly traces for each participant: two traces (real & predicted) per participant.\n",
    "    traces = []\n",
    "    for p in participants:\n",
    "        df_p = df_results[df_results[participant_col] == p]\n",
    "        traces.append(go.Scatter(\n",
    "            x=df_p['day'],\n",
    "            y=df_p['Real'],\n",
    "            mode='lines',\n",
    "            name=f'Real ({p})',\n",
    "            visible=False  # We'll control visibility via the dropdown.\n",
    "        ))\n",
    "        traces.append(go.Scatter(\n",
    "            x=df_p['day'],\n",
    "            y=df_p['Predicted'],\n",
    "            mode='lines',\n",
    "            name=f'Predicted ({p})',\n",
    "            visible=False\n",
    "        ))\n",
    "    \n",
    "    total_traces = len(traces)  # Should be 2 * number of participants.\n",
    "    \n",
    "    # Create dropdown buttons. Each button sets visibility so that only the two traces for one participant are shown.\n",
    "    dropdown_buttons = []\n",
    "    for i, p in enumerate(participants):\n",
    "        visibility = [False] * total_traces\n",
    "        # For participant p, set traces at indices 2*i and 2*i+1 to True.\n",
    "        visibility[2*i] = True\n",
    "        visibility[2*i+1] = True\n",
    "        button = dict(\n",
    "            label=str(p),\n",
    "            method=\"update\",\n",
    "            args=[{\"visible\": visibility},\n",
    "                  {\"title\": f\"Real vs Predicted Mood Values for Participant {p}\",\n",
    "                   \"xaxis\": {\"title\": \"Day\"},\n",
    "                   \"yaxis\": {\"title\": \"Mood Value\"}}]\n",
    "        )\n",
    "        dropdown_buttons.append(button)\n",
    "    \n",
    "    # Set the initial visibility: show the first participant.\n",
    "    initial_visibility = [False] * total_traces\n",
    "    initial_visibility[0] = True\n",
    "    initial_visibility[1] = True\n",
    "    for i in range(total_traces):\n",
    "        traces[i].visible = initial_visibility[i]\n",
    "    \n",
    "    # Build the figure with all traces and add the dropdown menu.\n",
    "    fig = go.Figure(data=traces)\n",
    "    fig.update_layout(\n",
    "        updatemenus=[\n",
    "            dict(\n",
    "                active=0,\n",
    "                buttons=dropdown_buttons,\n",
    "                x=1.1,\n",
    "                y=1.0,\n",
    "                showactive=True\n",
    "            )\n",
    "        ],\n",
    "        title=f\"Real vs Predicted Mood Values for Participant {participants[0]}\",\n",
    "        xaxis_title=\"Day\",\n",
    "        yaxis_title=\"Mood Value\"\n",
    "    )\n",
    "    \n",
    "    if show_plot:\n",
    "        fig.show()\n",
    "    if save_html:\n",
    "        outdir = \"figures/plotly/predictions\"\n",
    "        os.makedirs(outdir, exist_ok=True)\n",
    "        fig.write_html(os.path.join(outdir, f\"predictions_{title}.html\"))\n",
    "\n"
   ]
  },
  {
   "cell_type": "markdown",
   "metadata": {},
   "source": [
    "### Plot predictions"
   ]
  },
  {
   "cell_type": "code",
   "execution_count": 102,
   "metadata": {},
   "outputs": [
    {
     "name": "stdout",
     "output_type": "stream",
     "text": [
      "Target scaler mean: [6.99418132]\n",
      "Target scaler scale: [0.73072144]\n"
     ]
    },
    {
     "data": {
      "application/vnd.plotly.v1+json": {
       "config": {
        "plotlyServerURL": "https://plot.ly"
       },
       "data": [
        {
         "mode": "lines",
         "name": "Real (1)",
         "type": "scatter",
         "visible": true,
         "x": [
          "2014-03-26",
          "2014-03-27",
          "2014-03-28",
          "2014-03-29",
          "2014-03-30",
          "2014-03-31",
          "2014-04-01",
          "2014-04-02",
          "2014-04-03",
          "2014-04-04",
          "2014-04-05",
          "2014-04-06",
          "2014-04-07",
          "2014-04-08",
          "2014-04-09",
          "2014-04-10",
          "2014-04-11",
          "2014-04-12",
          "2014-04-13",
          "2014-04-14",
          "2014-04-15",
          "2014-04-16",
          "2014-04-17",
          "2014-04-18",
          "2014-04-19",
          "2014-04-20",
          "2014-04-21",
          "2014-04-22",
          "2014-04-23",
          "2014-04-24",
          "2014-04-25"
         ],
         "y": [
          6.599999904632568,
          7,
          6.400000095367432,
          8,
          7.5,
          7.400000095367432,
          6,
          6.5,
          6.400000095367432,
          6.199999809265137,
          6.800000190734863,
          6.5,
          6.5,
          6.599999904632568,
          7.400000095367432,
          7.400000095367432,
          7,
          7.25,
          8,
          7.199999809265137,
          6.400000095367432,
          7.199999809265137,
          6.599999904632568,
          6.800000190734863,
          7.800000190734863,
          7.25,
          7.599999904632568,
          7.400000095367432,
          7.599999904632568,
          7.599999904632568,
          7.199999809265137
         ]
        },
        {
         "mode": "lines",
         "name": "Predicted (1)",
         "type": "scatter",
         "visible": true,
         "x": [
          "2014-03-26",
          "2014-03-27",
          "2014-03-28",
          "2014-03-29",
          "2014-03-30",
          "2014-03-31",
          "2014-04-01",
          "2014-04-02",
          "2014-04-03",
          "2014-04-04",
          "2014-04-05",
          "2014-04-06",
          "2014-04-07",
          "2014-04-08",
          "2014-04-09",
          "2014-04-10",
          "2014-04-11",
          "2014-04-12",
          "2014-04-13",
          "2014-04-14",
          "2014-04-15",
          "2014-04-16",
          "2014-04-17",
          "2014-04-18",
          "2014-04-19",
          "2014-04-20",
          "2014-04-21",
          "2014-04-22",
          "2014-04-23",
          "2014-04-24",
          "2014-04-25"
         ],
         "y": [
          6.537972450256348,
          6.809780120849609,
          7.139167785644531,
          7.529097080230713,
          7.496206283569336,
          7.168306827545166,
          6.720662593841553,
          6.297608852386475,
          6.424584865570068,
          6.348811626434326,
          6.522672176361084,
          6.763493061065674,
          6.8672871589660645,
          6.614145755767822,
          6.715755462646484,
          6.981325149536133,
          7.189209938049316,
          7.346102714538574,
          7.377921104431152,
          7.307985782623291,
          7.124709129333496,
          6.928203582763672,
          6.980095863342285,
          6.98628044128418,
          7.189866065979004,
          7.108994483947754,
          7.222792625427246,
          7.32511043548584,
          7.195250034332275,
          7.089308261871338,
          6.9770612716674805
         ]
        },
        {
         "mode": "lines",
         "name": "Real (2)",
         "type": "scatter",
         "visible": false,
         "x": [
          "2014-03-16",
          "2014-03-17",
          "2014-03-18",
          "2014-03-19",
          "2014-03-20",
          "2014-03-21",
          "2014-03-22",
          "2014-03-23",
          "2014-03-24",
          "2014-03-25",
          "2014-03-26",
          "2014-03-27",
          "2014-03-28",
          "2014-03-29",
          "2014-03-30",
          "2014-03-31",
          "2014-04-01",
          "2014-04-02",
          "2014-04-03",
          "2014-04-04",
          "2014-04-05",
          "2014-04-06",
          "2014-04-07",
          "2014-04-08",
          "2014-04-09",
          "2014-04-10",
          "2014-04-11",
          "2014-04-12",
          "2014-04-13",
          "2014-04-14",
          "2014-04-15",
          "2014-04-16"
         ],
         "y": [
          6.333333492279053,
          7.5,
          6.5,
          6.25,
          6.400000095367432,
          7.75,
          7.199999809265137,
          7.25,
          6.800000190734863,
          7.25,
          7,
          7.199999809265137,
          7.400000095367432,
          6.400000095367432,
          5.75,
          6.400000095367432,
          7.400000095367432,
          4.5,
          6.800000190734863,
          6.25,
          7.25,
          7.25,
          6.5,
          6,
          7.199999809265137,
          8,
          7.25,
          6.666666507720947,
          9,
          8.25,
          7.75,
          8
         ]
        },
        {
         "mode": "lines",
         "name": "Predicted (2)",
         "type": "scatter",
         "visible": false,
         "x": [
          "2014-03-16",
          "2014-03-17",
          "2014-03-18",
          "2014-03-19",
          "2014-03-20",
          "2014-03-21",
          "2014-03-22",
          "2014-03-23",
          "2014-03-24",
          "2014-03-25",
          "2014-03-26",
          "2014-03-27",
          "2014-03-28",
          "2014-03-29",
          "2014-03-30",
          "2014-03-31",
          "2014-04-01",
          "2014-04-02",
          "2014-04-03",
          "2014-04-04",
          "2014-04-05",
          "2014-04-06",
          "2014-04-07",
          "2014-04-08",
          "2014-04-09",
          "2014-04-10",
          "2014-04-11",
          "2014-04-12",
          "2014-04-13",
          "2014-04-14",
          "2014-04-15",
          "2014-04-16"
         ],
         "y": [
          7.010048866271973,
          6.724148273468018,
          6.345608234405518,
          6.28703498840332,
          6.709484577178955,
          7.262763977050781,
          7.304136276245117,
          7.322093486785889,
          7.172046661376953,
          7.241767883300781,
          7.139614582061768,
          7.05152702331543,
          6.711163520812988,
          6.647500991821289,
          6.3876423835754395,
          6.794985771179199,
          6.732456207275391,
          6.299384593963623,
          6.866462230682373,
          6.918411731719971,
          7.025477409362793,
          6.970135688781738,
          7.086045742034912,
          6.7418646812438965,
          6.81198263168335,
          6.957242012023926,
          6.9876251220703125,
          7.4449262619018555,
          7.680200576782227,
          7.723595142364502,
          7.76842737197876,
          7.945055961608887
         ]
        },
        {
         "mode": "lines",
         "name": "Real (3)",
         "type": "scatter",
         "visible": false,
         "x": [
          "2014-03-21",
          "2014-03-22",
          "2014-03-23",
          "2014-03-24",
          "2014-03-25",
          "2014-03-26",
          "2014-03-27",
          "2014-03-28",
          "2014-03-29",
          "2014-03-30",
          "2014-03-31",
          "2014-04-01",
          "2014-04-02",
          "2014-04-03",
          "2014-04-04",
          "2014-04-05",
          "2014-04-06",
          "2014-04-07",
          "2014-04-08",
          "2014-04-09",
          "2014-04-10",
          "2014-04-11",
          "2014-04-12",
          "2014-04-13",
          "2014-04-14",
          "2014-04-15",
          "2014-04-16",
          "2014-04-17",
          "2014-04-18",
          "2014-04-19",
          "2014-04-20",
          "2014-04-21",
          "2014-04-22",
          "2014-04-23",
          "2014-04-24",
          "2014-04-25",
          "2014-04-26",
          "2014-04-27"
         ],
         "y": [
          8.600000381469727,
          8.399999618530273,
          7.400000095367432,
          7.599999904632568,
          7.400000095367432,
          7.800000190734863,
          7.800000190734863,
          7.599999904632568,
          6.800000190734863,
          7.400000095367432,
          7.400000095367432,
          7.800000190734863,
          7.400000095367432,
          7.599999904632568,
          7.666666507720947,
          7.400000095367432,
          7,
          7.599999904632568,
          8,
          7.25,
          7.5,
          7.800000190734863,
          7.5,
          7.400000095367432,
          7.599999904632568,
          7,
          7.400000095367432,
          7.5,
          7.5,
          7.599999904632568,
          8,
          6.75,
          7.199999809265137,
          7.25,
          3.750000238418579,
          4.400000095367432,
          3.750000238418579,
          5.333333492279053
         ]
        },
        {
         "mode": "lines",
         "name": "Predicted (3)",
         "type": "scatter",
         "visible": false,
         "x": [
          "2014-03-21",
          "2014-03-22",
          "2014-03-23",
          "2014-03-24",
          "2014-03-25",
          "2014-03-26",
          "2014-03-27",
          "2014-03-28",
          "2014-03-29",
          "2014-03-30",
          "2014-03-31",
          "2014-04-01",
          "2014-04-02",
          "2014-04-03",
          "2014-04-04",
          "2014-04-05",
          "2014-04-06",
          "2014-04-07",
          "2014-04-08",
          "2014-04-09",
          "2014-04-10",
          "2014-04-11",
          "2014-04-12",
          "2014-04-13",
          "2014-04-14",
          "2014-04-15",
          "2014-04-16",
          "2014-04-17",
          "2014-04-18",
          "2014-04-19",
          "2014-04-20",
          "2014-04-21",
          "2014-04-22",
          "2014-04-23",
          "2014-04-24",
          "2014-04-25",
          "2014-04-26",
          "2014-04-27"
         ],
         "y": [
          8.019505500793457,
          7.926272869110107,
          7.64689302444458,
          7.4961724281311035,
          7.5006279945373535,
          7.4106926918029785,
          7.272582054138184,
          7.049398899078369,
          7.135261535644531,
          7.247323989868164,
          7.254548072814941,
          7.52128267288208,
          7.307590961456299,
          7.330356121063232,
          7.272862434387207,
          7.348538398742676,
          7.249351501464844,
          7.271640777587891,
          7.373741626739502,
          7.262258052825928,
          7.280585765838623,
          7.189415454864502,
          7.130688190460205,
          7.210244178771973,
          7.228529930114746,
          7.11979341506958,
          7.125046253204346,
          7.314525127410889,
          7.379079818725586,
          7.454573631286621,
          7.674248218536377,
          6.864181995391846,
          7.1105637550354,
          6.913302898406982,
          6.0131754875183105,
          4.678696632385254,
          3.6524786949157715,
          4.865614891052246
         ]
        },
        {
         "mode": "lines",
         "name": "Real (5)",
         "type": "scatter",
         "visible": false,
         "x": [
          "2014-03-14",
          "2014-03-15",
          "2014-03-16",
          "2014-03-17",
          "2014-03-18",
          "2014-03-19",
          "2014-03-20",
          "2014-03-21",
          "2014-03-22",
          "2014-03-23",
          "2014-03-24",
          "2014-03-25",
          "2014-03-26",
          "2014-03-27",
          "2014-03-28",
          "2014-03-29",
          "2014-03-30",
          "2014-03-31",
          "2014-04-01",
          "2014-04-02",
          "2014-04-03",
          "2014-04-04",
          "2014-04-05",
          "2014-04-06",
          "2014-04-07",
          "2014-04-08",
          "2014-04-09",
          "2014-04-10",
          "2014-04-11",
          "2014-04-12",
          "2014-04-13",
          "2014-04-14",
          "2014-04-15",
          "2014-04-16",
          "2014-04-17",
          "2014-04-18",
          "2014-04-19",
          "2014-04-20",
          "2014-04-21",
          "2014-04-22",
          "2014-04-23",
          "2014-04-24"
         ],
         "y": [
          5.5,
          5.800000190734863,
          6.199999809265137,
          6.400000095367432,
          6.199999809265137,
          6.800000190734863,
          7,
          7,
          7.199999809265137,
          7,
          7.5,
          6.800000190734863,
          6.75,
          6.75,
          7,
          7.199999809265137,
          7,
          7,
          7.5,
          6.400000095367432,
          7,
          7.199999809265137,
          6.599999904632568,
          7.5,
          7.199999809265137,
          7.199999809265137,
          7.199999809265137,
          7.199999809265137,
          7.199999809265137,
          7.199999809265137,
          7,
          7.800000190734863,
          7.800000190734863,
          7,
          7.75,
          6.800000190734863,
          7.199999809265137,
          7,
          7,
          7,
          6.199999809265137,
          6.599999904632568
         ]
        },
        {
         "mode": "lines",
         "name": "Predicted (5)",
         "type": "scatter",
         "visible": false,
         "x": [
          "2014-03-14",
          "2014-03-15",
          "2014-03-16",
          "2014-03-17",
          "2014-03-18",
          "2014-03-19",
          "2014-03-20",
          "2014-03-21",
          "2014-03-22",
          "2014-03-23",
          "2014-03-24",
          "2014-03-25",
          "2014-03-26",
          "2014-03-27",
          "2014-03-28",
          "2014-03-29",
          "2014-03-30",
          "2014-03-31",
          "2014-04-01",
          "2014-04-02",
          "2014-04-03",
          "2014-04-04",
          "2014-04-05",
          "2014-04-06",
          "2014-04-07",
          "2014-04-08",
          "2014-04-09",
          "2014-04-10",
          "2014-04-11",
          "2014-04-12",
          "2014-04-13",
          "2014-04-14",
          "2014-04-15",
          "2014-04-16",
          "2014-04-17",
          "2014-04-18",
          "2014-04-19",
          "2014-04-20",
          "2014-04-21",
          "2014-04-22",
          "2014-04-23",
          "2014-04-24"
         ],
         "y": [
          5.420057773590088,
          5.4522905349731445,
          5.312236309051514,
          5.417937278747559,
          6.235098361968994,
          6.388665199279785,
          6.998081207275391,
          7.102807998657227,
          7.080257415771484,
          6.961709499359131,
          6.866018295288086,
          6.826869010925293,
          6.999206066131592,
          6.97770881652832,
          6.898865222930908,
          6.8733696937561035,
          6.850333213806152,
          6.874159812927246,
          6.382515907287598,
          6.607021331787109,
          6.950235843658447,
          6.877993583679199,
          6.974094390869141,
          6.861556529998779,
          6.930506229400635,
          6.665249824523926,
          6.579128742218018,
          6.761417865753174,
          6.909639835357666,
          6.946169853210449,
          6.877898216247559,
          7.29706335067749,
          7.381600856781006,
          6.929224014282227,
          7.111519813537598,
          7.246217250823975,
          7.098206996917725,
          7.123837471008301,
          6.887813568115234,
          7.109862327575684,
          6.534215927124023,
          6.1289591789245605
         ]
        },
        {
         "mode": "lines",
         "name": "Real (6)",
         "type": "scatter",
         "visible": false,
         "x": [
          "2014-03-24",
          "2014-03-25",
          "2014-03-26",
          "2014-03-27",
          "2014-03-28",
          "2014-03-29",
          "2014-03-30",
          "2014-03-31",
          "2014-04-01",
          "2014-04-02",
          "2014-04-03",
          "2014-04-04",
          "2014-04-05",
          "2014-04-06",
          "2014-04-07",
          "2014-04-08",
          "2014-04-09",
          "2014-04-10",
          "2014-04-11",
          "2014-04-12",
          "2014-04-13",
          "2014-04-14",
          "2014-04-15",
          "2014-04-16",
          "2014-04-17",
          "2014-04-18",
          "2014-04-19",
          "2014-04-20",
          "2014-04-21",
          "2014-04-22",
          "2014-04-23",
          "2014-04-24",
          "2014-04-25",
          "2014-04-26",
          "2014-04-27",
          "2014-04-28"
         ],
         "y": [
          7.400000095367432,
          7.599999904632568,
          7.800000190734863,
          8.199999809265137,
          6.5,
          7.25,
          7,
          7.599999904632568,
          6.800000190734863,
          6.25,
          6.800000190734863,
          8.199999809265137,
          7,
          6.599999904632568,
          7,
          7.75,
          6.400000095367432,
          7.5,
          7.199999809265137,
          6.75,
          6.800000190734863,
          8,
          7.666666507720947,
          6.599999904632568,
          6.800000190734863,
          8.25,
          7,
          6.199999809265137,
          4.3333330154418945,
          6.599999904632568,
          5.5,
          6.199999809265137,
          6.5,
          6,
          6.75,
          5.400000095367432
         ]
        },
        {
         "mode": "lines",
         "name": "Predicted (6)",
         "type": "scatter",
         "visible": false,
         "x": [
          "2014-03-24",
          "2014-03-25",
          "2014-03-26",
          "2014-03-27",
          "2014-03-28",
          "2014-03-29",
          "2014-03-30",
          "2014-03-31",
          "2014-04-01",
          "2014-04-02",
          "2014-04-03",
          "2014-04-04",
          "2014-04-05",
          "2014-04-06",
          "2014-04-07",
          "2014-04-08",
          "2014-04-09",
          "2014-04-10",
          "2014-04-11",
          "2014-04-12",
          "2014-04-13",
          "2014-04-14",
          "2014-04-15",
          "2014-04-16",
          "2014-04-17",
          "2014-04-18",
          "2014-04-19",
          "2014-04-20",
          "2014-04-21",
          "2014-04-22",
          "2014-04-23",
          "2014-04-24",
          "2014-04-25",
          "2014-04-26",
          "2014-04-27",
          "2014-04-28"
         ],
         "y": [
          6.415696144104004,
          7.077356338500977,
          7.200807094573975,
          7.1695051193237305,
          7.152897834777832,
          6.880733966827393,
          6.914089679718018,
          7.294466972351074,
          6.547446250915527,
          6.505577087402344,
          6.822037220001221,
          7.106959819793701,
          6.780953407287598,
          6.4432291984558105,
          6.562647342681885,
          7.113678455352783,
          7.229185104370117,
          6.992316246032715,
          7.048015117645264,
          6.796665191650391,
          6.579653739929199,
          6.975849151611328,
          6.535705089569092,
          6.740697860717773,
          6.6459832191467285,
          6.916929721832275,
          6.452967643737793,
          6.394496440887451,
          5.0575385093688965,
          4.971219539642334,
          5.334187030792236,
          4.910497665405273,
          5.83919620513916,
          5.352148056030273,
          5.246764659881592,
          6.246090888977051
         ]
        },
        {
         "mode": "lines",
         "name": "Real (7)",
         "type": "scatter",
         "visible": false,
         "x": [
          "2014-03-19",
          "2014-03-20",
          "2014-03-21",
          "2014-03-22",
          "2014-03-23",
          "2014-03-24",
          "2014-03-25",
          "2014-03-26",
          "2014-03-27",
          "2014-03-28",
          "2014-03-29",
          "2014-03-30",
          "2014-03-31",
          "2014-04-01",
          "2014-04-02",
          "2014-04-03",
          "2014-04-04",
          "2014-04-05",
          "2014-04-06",
          "2014-04-07",
          "2014-04-08",
          "2014-04-09",
          "2014-04-10",
          "2014-04-11",
          "2014-04-12",
          "2014-04-13",
          "2014-04-14",
          "2014-04-15",
          "2014-04-16",
          "2014-04-17",
          "2014-04-18",
          "2014-04-19",
          "2014-04-20",
          "2014-04-21",
          "2014-04-22",
          "2014-04-23",
          "2014-04-24",
          "2014-04-25"
         ],
         "y": [
          6.800000190734863,
          6.400000095367432,
          6.199999809265137,
          3.5,
          6.400000095367432,
          6.5,
          6.199999809265137,
          6,
          4.75,
          3.8000001907348633,
          5.199999809265137,
          7,
          3.000000238418579,
          6.599999904632568,
          6,
          6,
          5.599999904632568,
          3.3333334922790527,
          6.333333492279053,
          6.800000190734863,
          6.599999904632568,
          7,
          6.599999904632568,
          7.400000095367432,
          6.400000095367432,
          7,
          5.400000095367432,
          6.400000095367432,
          7,
          6.400000095367432,
          6.599999904632568,
          6.400000095367432,
          7.199999809265137,
          6.800000190734863,
          7.199999809265137,
          6.5,
          6.333333492279053,
          6.25
         ]
        },
        {
         "mode": "lines",
         "name": "Predicted (7)",
         "type": "scatter",
         "visible": false,
         "x": [
          "2014-03-19",
          "2014-03-20",
          "2014-03-21",
          "2014-03-22",
          "2014-03-23",
          "2014-03-24",
          "2014-03-25",
          "2014-03-26",
          "2014-03-27",
          "2014-03-28",
          "2014-03-29",
          "2014-03-30",
          "2014-03-31",
          "2014-04-01",
          "2014-04-02",
          "2014-04-03",
          "2014-04-04",
          "2014-04-05",
          "2014-04-06",
          "2014-04-07",
          "2014-04-08",
          "2014-04-09",
          "2014-04-10",
          "2014-04-11",
          "2014-04-12",
          "2014-04-13",
          "2014-04-14",
          "2014-04-15",
          "2014-04-16",
          "2014-04-17",
          "2014-04-18",
          "2014-04-19",
          "2014-04-20",
          "2014-04-21",
          "2014-04-22",
          "2014-04-23",
          "2014-04-24",
          "2014-04-25"
         ],
         "y": [
          6.251743793487549,
          5.9658613204956055,
          5.100358009338379,
          4.557051658630371,
          5.718654632568359,
          6.093677043914795,
          6.2042236328125,
          5.184036731719971,
          4.632314682006836,
          4.006020545959473,
          5.114593029022217,
          5.216109275817871,
          4.639400959014893,
          5.946475028991699,
          5.186506271362305,
          5.59021520614624,
          5.033276557922363,
          4.3157854080200195,
          5.7213287353515625,
          6.726318359375,
          6.394896984100342,
          6.5482916831970215,
          6.839893341064453,
          6.662352085113525,
          6.508651256561279,
          6.585669994354248,
          5.944146633148193,
          5.907944679260254,
          6.40418815612793,
          6.766243934631348,
          6.836559772491455,
          6.513547420501709,
          6.620523929595947,
          6.569819927215576,
          6.862746715545654,
          6.668396472930908,
          6.519903182983398,
          6.529135704040527
         ]
        },
        {
         "mode": "lines",
         "name": "Real (8)",
         "type": "scatter",
         "visible": false,
         "x": [
          "2014-03-05",
          "2014-03-06",
          "2014-03-07",
          "2014-03-08",
          "2014-03-09",
          "2014-03-10",
          "2014-03-11",
          "2014-03-12",
          "2014-03-13",
          "2014-03-14",
          "2014-03-15",
          "2014-03-16",
          "2014-03-17",
          "2014-03-18",
          "2014-03-19",
          "2014-03-20",
          "2014-03-21",
          "2014-03-22",
          "2014-03-23",
          "2014-03-24",
          "2014-03-25",
          "2014-03-26",
          "2014-03-27",
          "2014-03-28",
          "2014-03-29",
          "2014-03-30",
          "2014-03-31",
          "2014-04-01",
          "2014-04-02",
          "2014-04-03",
          "2014-04-04",
          "2014-04-05",
          "2014-04-06",
          "2014-04-07",
          "2014-04-08",
          "2014-04-09",
          "2014-04-10",
          "2014-04-11",
          "2014-04-12",
          "2014-04-13",
          "2014-04-14",
          "2014-04-15",
          "2014-04-16",
          "2014-04-17",
          "2014-04-18",
          "2014-04-19",
          "2014-04-20",
          "2014-04-21",
          "2014-04-22"
         ],
         "y": [
          7.166666507720947,
          6.800000190734863,
          7.599999904632568,
          7.199999809265137,
          6.599999904632568,
          7,
          7.5,
          7.400000095367432,
          7.599999904632568,
          7,
          6.5,
          6.25,
          7.599999904632568,
          7.599999904632568,
          7,
          7.599999904632568,
          6.599999904632568,
          6.400000095367432,
          6.599999904632568,
          6.199999809265137,
          6,
          7.800000190734863,
          6.400000095367432,
          6.400000095367432,
          6,
          7,
          7.75,
          7.800000190734863,
          8.25,
          8,
          7.75,
          7,
          7.599999904632568,
          6.199999809265137,
          7.599999904632568,
          7.25,
          7.5,
          6.800000190734863,
          6.199999809265137,
          7.199999809265137,
          6.5,
          6,
          6.800000190734863,
          7,
          6,
          5.800000190734863,
          6,
          5.5,
          7
         ]
        },
        {
         "mode": "lines",
         "name": "Predicted (8)",
         "type": "scatter",
         "visible": false,
         "x": [
          "2014-03-05",
          "2014-03-06",
          "2014-03-07",
          "2014-03-08",
          "2014-03-09",
          "2014-03-10",
          "2014-03-11",
          "2014-03-12",
          "2014-03-13",
          "2014-03-14",
          "2014-03-15",
          "2014-03-16",
          "2014-03-17",
          "2014-03-18",
          "2014-03-19",
          "2014-03-20",
          "2014-03-21",
          "2014-03-22",
          "2014-03-23",
          "2014-03-24",
          "2014-03-25",
          "2014-03-26",
          "2014-03-27",
          "2014-03-28",
          "2014-03-29",
          "2014-03-30",
          "2014-03-31",
          "2014-04-01",
          "2014-04-02",
          "2014-04-03",
          "2014-04-04",
          "2014-04-05",
          "2014-04-06",
          "2014-04-07",
          "2014-04-08",
          "2014-04-09",
          "2014-04-10",
          "2014-04-11",
          "2014-04-12",
          "2014-04-13",
          "2014-04-14",
          "2014-04-15",
          "2014-04-16",
          "2014-04-17",
          "2014-04-18",
          "2014-04-19",
          "2014-04-20",
          "2014-04-21",
          "2014-04-22"
         ],
         "y": [
          6.401932239532471,
          6.54163122177124,
          6.865227699279785,
          6.727621078491211,
          6.707747936248779,
          6.727417945861816,
          6.935253143310547,
          7.065281867980957,
          7.156914234161377,
          6.980294227600098,
          6.7864203453063965,
          6.618196964263916,
          6.418369770050049,
          6.937473297119141,
          7.010468482971191,
          6.742104530334473,
          6.418370723724365,
          6.390660285949707,
          6.430556297302246,
          6.319668769836426,
          6.4973859786987305,
          6.6130690574646,
          6.752519130706787,
          6.411287784576416,
          5.948207378387451,
          6.233121395111084,
          7.477436542510986,
          7.65723991394043,
          7.6973876953125,
          7.0732808113098145,
          7.211043834686279,
          7.178633689880371,
          7.0241804122924805,
          6.704468727111816,
          6.894510269165039,
          6.888038635253906,
          6.689289569854736,
          6.573712348937988,
          5.92322301864624,
          6.439334869384766,
          6.802122592926025,
          6.385284900665283,
          6.322761535644531,
          6.20617151260376,
          6.299959659576416,
          5.975987434387207,
          5.1919026374816895,
          5.162845134735107,
          6.365593433380127
         ]
        },
        {
         "mode": "lines",
         "name": "Real (9)",
         "type": "scatter",
         "visible": false,
         "x": [
          "2014-03-21",
          "2014-03-22",
          "2014-03-23",
          "2014-03-24",
          "2014-03-25",
          "2014-03-26",
          "2014-03-27",
          "2014-03-28",
          "2014-03-29",
          "2014-03-30",
          "2014-03-31",
          "2014-04-01",
          "2014-04-02",
          "2014-04-03",
          "2014-04-04",
          "2014-04-05",
          "2014-04-06",
          "2014-04-07",
          "2014-04-08",
          "2014-04-09",
          "2014-04-10",
          "2014-04-11",
          "2014-04-12",
          "2014-04-13",
          "2014-04-14",
          "2014-04-15",
          "2014-04-16",
          "2014-04-17",
          "2014-04-18",
          "2014-04-19",
          "2014-04-20",
          "2014-04-21",
          "2014-04-22",
          "2014-04-23",
          "2014-04-24",
          "2014-04-25"
         ],
         "y": [
          6.599999904632568,
          8,
          6.25,
          6.5,
          6.599999904632568,
          6.333333492279053,
          7.199999809265137,
          7.25,
          7,
          6.400000095367432,
          6,
          5.400000095367432,
          6.5,
          6.199999809265137,
          6.25,
          6.400000095367432,
          6.25,
          5.25,
          6.400000095367432,
          6.599999904632568,
          6.800000190734863,
          5.599999904632568,
          6.599999904632568,
          6.800000190734863,
          7,
          6.800000190734863,
          6.599999904632568,
          5.800000190734863,
          6.400000095367432,
          6,
          6.5,
          5.800000190734863,
          6.599999904632568,
          5.599999904632568,
          7,
          6
         ]
        },
        {
         "mode": "lines",
         "name": "Predicted (9)",
         "type": "scatter",
         "visible": false,
         "x": [
          "2014-03-21",
          "2014-03-22",
          "2014-03-23",
          "2014-03-24",
          "2014-03-25",
          "2014-03-26",
          "2014-03-27",
          "2014-03-28",
          "2014-03-29",
          "2014-03-30",
          "2014-03-31",
          "2014-04-01",
          "2014-04-02",
          "2014-04-03",
          "2014-04-04",
          "2014-04-05",
          "2014-04-06",
          "2014-04-07",
          "2014-04-08",
          "2014-04-09",
          "2014-04-10",
          "2014-04-11",
          "2014-04-12",
          "2014-04-13",
          "2014-04-14",
          "2014-04-15",
          "2014-04-16",
          "2014-04-17",
          "2014-04-18",
          "2014-04-19",
          "2014-04-20",
          "2014-04-21",
          "2014-04-22",
          "2014-04-23",
          "2014-04-24",
          "2014-04-25"
         ],
         "y": [
          6.27947473526001,
          6.642873287200928,
          6.871591091156006,
          6.814138412475586,
          6.383789539337158,
          6.4645676612854,
          6.8159379959106445,
          6.956861972808838,
          7.036959171295166,
          6.2375383377075195,
          6.0649638175964355,
          5.7373738288879395,
          6.140836715698242,
          6.6164093017578125,
          6.521822929382324,
          6.067475318908691,
          5.641241073608398,
          5.11294412612915,
          5.977137088775635,
          6.34730863571167,
          6.132785320281982,
          6.097807884216309,
          6.229790210723877,
          6.161901473999023,
          6.160454273223877,
          6.503113269805908,
          6.501131057739258,
          6.375248432159424,
          6.437017917633057,
          6.2683868408203125,
          6.114388465881348,
          6.198798656463623,
          6.266339302062988,
          6.052253246307373,
          6.3734450340271,
          6.378476619720459
         ]
        },
        {
         "mode": "lines",
         "name": "Real (12)",
         "type": "scatter",
         "visible": false,
         "x": [
          "2014-03-27",
          "2014-03-28",
          "2014-03-29",
          "2014-03-30",
          "2014-03-31",
          "2014-04-01",
          "2014-04-02",
          "2014-04-03",
          "2014-04-04",
          "2014-04-05",
          "2014-04-06",
          "2014-04-07",
          "2014-04-08",
          "2014-04-09",
          "2014-04-10",
          "2014-04-11",
          "2014-04-12",
          "2014-04-13",
          "2014-04-14",
          "2014-04-15",
          "2014-04-16",
          "2014-04-17",
          "2014-04-18",
          "2014-04-19",
          "2014-04-20",
          "2014-04-21",
          "2014-04-22",
          "2014-04-23",
          "2014-04-24",
          "2014-04-25",
          "2014-04-26",
          "2014-04-27"
         ],
         "y": [
          7,
          7,
          7.800000190734863,
          6.400000095367432,
          6.400000095367432,
          8.399999618530273,
          7.400000095367432,
          8.800000190734863,
          7.599999904632568,
          8.399999618530273,
          7.400000095367432,
          7.599999904632568,
          7.199999809265137,
          6.199999809265137,
          7,
          7.5,
          7.400000095367432,
          7.599999904632568,
          7.800000190734863,
          6.800000190734863,
          6.25,
          7.400000095367432,
          8.199999809265137,
          7.800000190734863,
          7.599999904632568,
          6.800000190734863,
          6.800000190734863,
          6.599999904632568,
          6.800000190734863,
          6,
          6,
          6.400000095367432
         ]
        },
        {
         "mode": "lines",
         "name": "Predicted (12)",
         "type": "scatter",
         "visible": false,
         "x": [
          "2014-03-27",
          "2014-03-28",
          "2014-03-29",
          "2014-03-30",
          "2014-03-31",
          "2014-04-01",
          "2014-04-02",
          "2014-04-03",
          "2014-04-04",
          "2014-04-05",
          "2014-04-06",
          "2014-04-07",
          "2014-04-08",
          "2014-04-09",
          "2014-04-10",
          "2014-04-11",
          "2014-04-12",
          "2014-04-13",
          "2014-04-14",
          "2014-04-15",
          "2014-04-16",
          "2014-04-17",
          "2014-04-18",
          "2014-04-19",
          "2014-04-20",
          "2014-04-21",
          "2014-04-22",
          "2014-04-23",
          "2014-04-24",
          "2014-04-25",
          "2014-04-26",
          "2014-04-27"
         ],
         "y": [
          6.937010765075684,
          6.648914813995361,
          6.997068405151367,
          6.500173091888428,
          7.175844192504883,
          7.766356945037842,
          7.909780025482178,
          7.899736404418945,
          7.598082065582275,
          7.699771404266357,
          7.430940628051758,
          6.843985080718994,
          7.350869655609131,
          7.10915470123291,
          6.8517656326293945,
          7.083166599273682,
          7.130395889282227,
          7.110744953155518,
          7.210464954376221,
          6.836860656738281,
          6.811389923095703,
          7.260412216186523,
          7.125920295715332,
          7.3151373863220215,
          7.390989780426025,
          7.16851282119751,
          7.229836940765381,
          6.700451850891113,
          6.301696300506592,
          6.164268493652344,
          6.086604118347168,
          6.308997631072998
         ]
        },
        {
         "mode": "lines",
         "name": "Real (13)",
         "type": "scatter",
         "visible": false,
         "x": [
          "2014-03-13",
          "2014-03-14",
          "2014-03-15",
          "2014-03-16",
          "2014-03-17",
          "2014-03-18",
          "2014-03-19",
          "2014-03-20",
          "2014-03-21",
          "2014-03-22",
          "2014-03-23",
          "2014-03-24",
          "2014-03-25",
          "2014-03-26",
          "2014-03-27",
          "2014-03-28",
          "2014-03-29",
          "2014-03-30",
          "2014-03-31",
          "2014-04-01",
          "2014-04-02",
          "2014-04-03",
          "2014-04-04",
          "2014-04-05",
          "2014-04-06",
          "2014-04-07",
          "2014-04-08",
          "2014-04-09",
          "2014-04-10",
          "2014-04-11",
          "2014-04-12",
          "2014-04-13",
          "2014-04-14",
          "2014-04-15",
          "2014-04-16",
          "2014-04-17",
          "2014-04-18",
          "2014-04-19",
          "2014-04-20",
          "2014-04-21",
          "2014-04-22",
          "2014-04-23"
         ],
         "y": [
          3.5,
          7.199999809265137,
          6.599999904632568,
          7.400000095367432,
          5.75,
          7.400000095367432,
          7,
          5.75,
          7,
          6.599999904632568,
          6.199999809265137,
          8,
          6.5,
          6.75,
          6.199999809265137,
          7,
          7.333333492279053,
          7.5,
          7.400000095367432,
          7.400000095367432,
          7,
          6.800000190734863,
          8,
          6.666666507720947,
          7.75,
          7.5,
          7.5,
          7.5,
          6,
          6,
          6.199999809265137,
          6.5,
          6.75,
          7.5,
          7,
          7,
          7,
          7.333333492279053,
          8,
          6.5,
          7.400000095367432,
          7
         ]
        },
        {
         "mode": "lines",
         "name": "Predicted (13)",
         "type": "scatter",
         "visible": false,
         "x": [
          "2014-03-13",
          "2014-03-14",
          "2014-03-15",
          "2014-03-16",
          "2014-03-17",
          "2014-03-18",
          "2014-03-19",
          "2014-03-20",
          "2014-03-21",
          "2014-03-22",
          "2014-03-23",
          "2014-03-24",
          "2014-03-25",
          "2014-03-26",
          "2014-03-27",
          "2014-03-28",
          "2014-03-29",
          "2014-03-30",
          "2014-03-31",
          "2014-04-01",
          "2014-04-02",
          "2014-04-03",
          "2014-04-04",
          "2014-04-05",
          "2014-04-06",
          "2014-04-07",
          "2014-04-08",
          "2014-04-09",
          "2014-04-10",
          "2014-04-11",
          "2014-04-12",
          "2014-04-13",
          "2014-04-14",
          "2014-04-15",
          "2014-04-16",
          "2014-04-17",
          "2014-04-18",
          "2014-04-19",
          "2014-04-20",
          "2014-04-21",
          "2014-04-22",
          "2014-04-23"
         ],
         "y": [
          5.668643951416016,
          6.517453670501709,
          6.524982452392578,
          6.675583839416504,
          6.111151218414307,
          6.585132122039795,
          7.068233966827393,
          5.553162574768066,
          6.529182434082031,
          6.502620220184326,
          6.470622539520264,
          6.85845422744751,
          6.914151191711426,
          6.7405524253845215,
          6.629350185394287,
          6.7807793617248535,
          6.828027725219727,
          6.816424369812012,
          6.754183292388916,
          6.698809623718262,
          6.788252353668213,
          6.855802536010742,
          6.998420238494873,
          6.8419084548950195,
          6.882101535797119,
          6.916880130767822,
          6.903921604156494,
          6.713916301727295,
          6.51992654800415,
          6.558017730712891,
          6.624404430389404,
          6.667235851287842,
          6.736062526702881,
          6.7912445068359375,
          6.86287784576416,
          6.873336315155029,
          6.802292823791504,
          6.749143600463867,
          6.892021179199219,
          6.970480918884277,
          6.835631370544434,
          6.989970684051514
         ]
        },
        {
         "mode": "lines",
         "name": "Real (14)",
         "type": "scatter",
         "visible": false,
         "x": [
          "2014-03-20",
          "2014-03-21",
          "2014-03-22",
          "2014-03-23",
          "2014-03-24",
          "2014-03-25",
          "2014-03-26",
          "2014-03-27",
          "2014-03-28",
          "2014-03-29",
          "2014-03-30",
          "2014-03-31",
          "2014-04-01",
          "2014-04-02",
          "2014-04-03",
          "2014-04-04",
          "2014-04-05",
          "2014-04-06",
          "2014-04-07",
          "2014-04-08",
          "2014-04-09",
          "2014-04-10",
          "2014-04-11",
          "2014-04-12",
          "2014-04-13",
          "2014-04-14",
          "2014-04-15",
          "2014-04-16",
          "2014-04-17",
          "2014-04-18",
          "2014-04-19",
          "2014-04-20",
          "2014-04-21",
          "2014-04-22",
          "2014-04-23",
          "2014-04-24",
          "2014-04-25"
         ],
         "y": [
          7,
          7,
          7,
          7,
          7,
          7.199999809265137,
          7,
          7.199999809265137,
          7,
          7.400000095367432,
          7.199999809265137,
          7.199999809265137,
          7.199999809265137,
          7.199999809265137,
          7.199999809265137,
          7.800000190734863,
          6.199999809265137,
          6.800000190734863,
          6.800000190734863,
          7,
          7.199999809265137,
          7,
          7.400000095367432,
          7,
          7,
          7,
          7,
          6.400000095367432,
          6,
          7,
          7,
          7.199999809265137,
          7,
          7,
          7,
          7,
          6.199999809265137
         ]
        },
        {
         "mode": "lines",
         "name": "Predicted (14)",
         "type": "scatter",
         "visible": false,
         "x": [
          "2014-03-20",
          "2014-03-21",
          "2014-03-22",
          "2014-03-23",
          "2014-03-24",
          "2014-03-25",
          "2014-03-26",
          "2014-03-27",
          "2014-03-28",
          "2014-03-29",
          "2014-03-30",
          "2014-03-31",
          "2014-04-01",
          "2014-04-02",
          "2014-04-03",
          "2014-04-04",
          "2014-04-05",
          "2014-04-06",
          "2014-04-07",
          "2014-04-08",
          "2014-04-09",
          "2014-04-10",
          "2014-04-11",
          "2014-04-12",
          "2014-04-13",
          "2014-04-14",
          "2014-04-15",
          "2014-04-16",
          "2014-04-17",
          "2014-04-18",
          "2014-04-19",
          "2014-04-20",
          "2014-04-21",
          "2014-04-22",
          "2014-04-23",
          "2014-04-24",
          "2014-04-25"
         ],
         "y": [
          6.777225971221924,
          6.7805891036987305,
          6.633142948150635,
          6.6476945877075195,
          6.773463726043701,
          6.865262985229492,
          6.90147590637207,
          6.982697010040283,
          6.985288143157959,
          6.854104995727539,
          6.540389060974121,
          6.522407531738281,
          6.885578632354736,
          6.943976879119873,
          6.863154411315918,
          6.864434719085693,
          6.745398998260498,
          6.403825759887695,
          6.505410671234131,
          6.513197422027588,
          6.72425651550293,
          6.852066993713379,
          6.731415271759033,
          6.81533670425415,
          6.926314353942871,
          7.0975141525268555,
          6.775254726409912,
          6.54949426651001,
          6.157508373260498,
          6.427913665771484,
          6.496579170227051,
          6.805816650390625,
          6.773878574371338,
          6.8139448165893555,
          6.934742450714111,
          6.884031772613525,
          6.916021823883057
         ]
        },
        {
         "mode": "lines",
         "name": "Real (15)",
         "type": "scatter",
         "visible": false,
         "x": [
          "2014-03-14",
          "2014-03-15",
          "2014-03-16",
          "2014-03-17",
          "2014-03-18",
          "2014-03-19",
          "2014-03-20",
          "2014-03-21",
          "2014-03-22",
          "2014-03-23",
          "2014-03-24",
          "2014-03-25",
          "2014-03-26",
          "2014-03-27",
          "2014-03-28",
          "2014-03-29",
          "2014-03-30",
          "2014-03-31",
          "2014-04-01",
          "2014-04-02",
          "2014-04-03",
          "2014-04-04",
          "2014-04-05",
          "2014-04-06",
          "2014-04-07",
          "2014-04-08",
          "2014-04-09",
          "2014-04-10",
          "2014-04-11",
          "2014-04-12",
          "2014-04-13",
          "2014-04-14",
          "2014-04-15",
          "2014-04-16",
          "2014-04-17",
          "2014-04-18",
          "2014-04-19",
          "2014-04-20",
          "2014-04-21",
          "2014-04-22",
          "2014-04-23",
          "2014-04-24",
          "2014-04-25",
          "2014-04-26"
         ],
         "y": [
          8,
          6.599999904632568,
          6.400000095367432,
          5.666666507720947,
          6.800000190734863,
          6.5,
          7,
          6.400000095367432,
          6,
          5.599999904632568,
          6,
          6.5,
          6,
          5.400000095367432,
          6,
          5.800000190734863,
          6.400000095367432,
          6.25,
          6.199999809265137,
          7,
          6.75,
          7,
          6.400000095367432,
          7.199999809265137,
          6.599999904632568,
          7,
          7,
          6.400000095367432,
          7,
          6.599999904632568,
          7.25,
          7,
          6.800000190734863,
          7.199999809265137,
          7,
          7.25,
          6.599999904632568,
          7.25,
          5.400000095367432,
          7,
          7.199999809265137,
          7.333333492279053,
          6.199999809265137,
          6.400000095367432
         ]
        },
        {
         "mode": "lines",
         "name": "Predicted (15)",
         "type": "scatter",
         "visible": false,
         "x": [
          "2014-03-14",
          "2014-03-15",
          "2014-03-16",
          "2014-03-17",
          "2014-03-18",
          "2014-03-19",
          "2014-03-20",
          "2014-03-21",
          "2014-03-22",
          "2014-03-23",
          "2014-03-24",
          "2014-03-25",
          "2014-03-26",
          "2014-03-27",
          "2014-03-28",
          "2014-03-29",
          "2014-03-30",
          "2014-03-31",
          "2014-04-01",
          "2014-04-02",
          "2014-04-03",
          "2014-04-04",
          "2014-04-05",
          "2014-04-06",
          "2014-04-07",
          "2014-04-08",
          "2014-04-09",
          "2014-04-10",
          "2014-04-11",
          "2014-04-12",
          "2014-04-13",
          "2014-04-14",
          "2014-04-15",
          "2014-04-16",
          "2014-04-17",
          "2014-04-18",
          "2014-04-19",
          "2014-04-20",
          "2014-04-21",
          "2014-04-22",
          "2014-04-23",
          "2014-04-24",
          "2014-04-25",
          "2014-04-26"
         ],
         "y": [
          6.725803375244141,
          6.473364353179932,
          6.556490421295166,
          6.54284143447876,
          6.377954483032227,
          6.875789165496826,
          6.572376728057861,
          6.209991455078125,
          6.026185989379883,
          6.089258193969727,
          6.063071250915527,
          5.806879043579102,
          5.730293273925781,
          5.29213809967041,
          5.837185859680176,
          5.482112884521484,
          6.228271961212158,
          5.946115970611572,
          6.122435569763184,
          6.372657775878906,
          6.754929065704346,
          6.687558174133301,
          6.357120990753174,
          6.347737789154053,
          6.838706016540527,
          6.707766532897949,
          6.739560604095459,
          6.817131519317627,
          6.704692363739014,
          6.672758102416992,
          6.6641387939453125,
          6.713444232940674,
          6.4867353439331055,
          6.345643043518066,
          6.752999782562256,
          6.836367607116699,
          6.829141616821289,
          6.675576210021973,
          6.468865871429443,
          6.452273845672607,
          6.850280284881592,
          6.849196434020996,
          6.860171794891357,
          6.736924648284912
         ]
        },
        {
         "mode": "lines",
         "name": "Real (16)",
         "type": "scatter",
         "visible": false,
         "x": [
          "2014-03-13",
          "2014-03-14",
          "2014-03-15",
          "2014-03-16",
          "2014-03-17",
          "2014-03-18",
          "2014-03-19",
          "2014-03-20",
          "2014-03-21",
          "2014-03-22",
          "2014-03-23",
          "2014-03-24",
          "2014-03-25",
          "2014-03-26",
          "2014-03-27",
          "2014-03-28",
          "2014-03-29",
          "2014-03-30",
          "2014-03-31",
          "2014-04-01",
          "2014-04-02",
          "2014-04-03",
          "2014-04-04",
          "2014-04-05",
          "2014-04-06",
          "2014-04-07",
          "2014-04-08",
          "2014-04-09",
          "2014-04-10",
          "2014-04-11",
          "2014-04-12",
          "2014-04-13",
          "2014-04-14",
          "2014-04-15",
          "2014-04-16",
          "2014-04-17",
          "2014-04-18",
          "2014-04-19",
          "2014-04-20",
          "2014-04-21",
          "2014-04-22",
          "2014-04-23",
          "2014-04-24"
         ],
         "y": [
          7.25,
          8,
          7.914285659790039,
          7.828571319580078,
          7.742856979370117,
          7.657142639160156,
          7.5714287757873535,
          7.485714435577393,
          7.400000095367432,
          7.400000095367432,
          7.400000095367432,
          7,
          7.5,
          7.199999809265137,
          7.199999809265137,
          7.199999809265137,
          6.800000190734863,
          8,
          7.25,
          7.400000095367432,
          7.5,
          7.199999809265137,
          7,
          7,
          7.25,
          7,
          7,
          7,
          6.75,
          7.199999809265137,
          7.199999809265137,
          7.199999809265137,
          7,
          7,
          7.199999809265137,
          7,
          7,
          7,
          7.199999809265137,
          7.400000095367432,
          6.599999904632568,
          4.666666507720947,
          6
         ]
        },
        {
         "mode": "lines",
         "name": "Predicted (16)",
         "type": "scatter",
         "visible": false,
         "x": [
          "2014-03-13",
          "2014-03-14",
          "2014-03-15",
          "2014-03-16",
          "2014-03-17",
          "2014-03-18",
          "2014-03-19",
          "2014-03-20",
          "2014-03-21",
          "2014-03-22",
          "2014-03-23",
          "2014-03-24",
          "2014-03-25",
          "2014-03-26",
          "2014-03-27",
          "2014-03-28",
          "2014-03-29",
          "2014-03-30",
          "2014-03-31",
          "2014-04-01",
          "2014-04-02",
          "2014-04-03",
          "2014-04-04",
          "2014-04-05",
          "2014-04-06",
          "2014-04-07",
          "2014-04-08",
          "2014-04-09",
          "2014-04-10",
          "2014-04-11",
          "2014-04-12",
          "2014-04-13",
          "2014-04-14",
          "2014-04-15",
          "2014-04-16",
          "2014-04-17",
          "2014-04-18",
          "2014-04-19",
          "2014-04-20",
          "2014-04-21",
          "2014-04-22",
          "2014-04-23",
          "2014-04-24"
         ],
         "y": [
          6.704046249389648,
          6.796395301818848,
          6.942349910736084,
          6.969939231872559,
          6.951701641082764,
          6.924645900726318,
          6.9097795486450195,
          6.939916133880615,
          6.89219856262207,
          7.059030055999756,
          7.038405895233154,
          7.096766471862793,
          6.985644817352295,
          6.72909688949585,
          6.61210823059082,
          6.677347660064697,
          6.868381977081299,
          7.159477233886719,
          6.726672649383545,
          7.245790481567383,
          7.51741886138916,
          7.180802822113037,
          7.015781402587891,
          6.6899871826171875,
          6.657795429229736,
          6.683876991271973,
          6.554508686065674,
          6.688396453857422,
          7.087079048156738,
          7.233706951141357,
          7.155679702758789,
          6.885445594787598,
          6.568543434143066,
          6.484170436859131,
          6.486701965332031,
          6.767125606536865,
          6.820540428161621,
          6.939879417419434,
          6.91525411605835,
          6.90607213973999,
          6.602751731872559,
          6.253590106964111,
          6.515069007873535
         ]
        },
        {
         "mode": "lines",
         "name": "Real (17)",
         "type": "scatter",
         "visible": false,
         "x": [
          "2014-03-04",
          "2014-03-05",
          "2014-03-06",
          "2014-03-07",
          "2014-03-08",
          "2014-03-09",
          "2014-03-10",
          "2014-03-11",
          "2014-03-12",
          "2014-03-13",
          "2014-03-14",
          "2014-03-15",
          "2014-03-16",
          "2014-03-17",
          "2014-03-18",
          "2014-03-19",
          "2014-03-20",
          "2014-03-21",
          "2014-03-22",
          "2014-03-23",
          "2014-03-24",
          "2014-03-25",
          "2014-03-26",
          "2014-03-27",
          "2014-03-28",
          "2014-03-29",
          "2014-03-30",
          "2014-03-31",
          "2014-04-01",
          "2014-04-02",
          "2014-04-03",
          "2014-04-04",
          "2014-04-05",
          "2014-04-06",
          "2014-04-07",
          "2014-04-08",
          "2014-04-09",
          "2014-04-10",
          "2014-04-11",
          "2014-04-12",
          "2014-04-13",
          "2014-04-14",
          "2014-04-15",
          "2014-04-16",
          "2014-04-17",
          "2014-04-18",
          "2014-04-19",
          "2014-04-20",
          "2014-04-21",
          "2014-04-22"
         ],
         "y": [
          6.599999904632568,
          6.599999904632568,
          7.400000095367432,
          7,
          7.199999809265137,
          6.400000095367432,
          7.599999904632568,
          6.599999904632568,
          7,
          8,
          7.25,
          6.599999904632568,
          6.800000190734863,
          7.199999809265137,
          6.75,
          6.800000190734863,
          7.199999809265137,
          7.199999809265137,
          7,
          6.400000095367432,
          6.800000190734863,
          6.800000190734863,
          6.800000190734863,
          6.800000190734863,
          7.599999904632568,
          6.400000095367432,
          6.800000190734863,
          6,
          6.599999904632568,
          7.25,
          7,
          6,
          6.800000190734863,
          7,
          6.25,
          7.400000095367432,
          7.5,
          7,
          6.25,
          6.5,
          6.666666507720947,
          7,
          7,
          7,
          6.800000190734863,
          7.25,
          7.75,
          7,
          7.5,
          6.800000190734863
         ]
        },
        {
         "mode": "lines",
         "name": "Predicted (17)",
         "type": "scatter",
         "visible": false,
         "x": [
          "2014-03-04",
          "2014-03-05",
          "2014-03-06",
          "2014-03-07",
          "2014-03-08",
          "2014-03-09",
          "2014-03-10",
          "2014-03-11",
          "2014-03-12",
          "2014-03-13",
          "2014-03-14",
          "2014-03-15",
          "2014-03-16",
          "2014-03-17",
          "2014-03-18",
          "2014-03-19",
          "2014-03-20",
          "2014-03-21",
          "2014-03-22",
          "2014-03-23",
          "2014-03-24",
          "2014-03-25",
          "2014-03-26",
          "2014-03-27",
          "2014-03-28",
          "2014-03-29",
          "2014-03-30",
          "2014-03-31",
          "2014-04-01",
          "2014-04-02",
          "2014-04-03",
          "2014-04-04",
          "2014-04-05",
          "2014-04-06",
          "2014-04-07",
          "2014-04-08",
          "2014-04-09",
          "2014-04-10",
          "2014-04-11",
          "2014-04-12",
          "2014-04-13",
          "2014-04-14",
          "2014-04-15",
          "2014-04-16",
          "2014-04-17",
          "2014-04-18",
          "2014-04-19",
          "2014-04-20",
          "2014-04-21",
          "2014-04-22"
         ],
         "y": [
          6.811128616333008,
          6.930807113647461,
          6.864101409912109,
          6.89789342880249,
          6.760402679443359,
          6.671069622039795,
          6.860145568847656,
          6.761090278625488,
          6.790544033050537,
          6.65116024017334,
          6.8258161544799805,
          6.736643314361572,
          6.692257881164551,
          6.869856834411621,
          6.8229875564575195,
          6.78255558013916,
          6.7440595626831055,
          6.851076602935791,
          6.890058517456055,
          6.851305961608887,
          6.834903717041016,
          6.724489212036133,
          6.660276889801025,
          6.555459499359131,
          6.921360492706299,
          7.032458782196045,
          6.716609477996826,
          6.307159423828125,
          6.587436676025391,
          6.807877063751221,
          6.782717704772949,
          6.6110663414001465,
          6.4330902099609375,
          6.5919294357299805,
          6.8422112464904785,
          6.82474946975708,
          6.993269920349121,
          6.979764938354492,
          6.871910095214844,
          6.650130271911621,
          6.716719150543213,
          6.834500312805176,
          6.8416748046875,
          6.992861270904541,
          6.891971111297607,
          6.91425895690918,
          6.911786079406738,
          6.941912651062012,
          6.896413803100586,
          6.921729564666748
         ]
        },
        {
         "mode": "lines",
         "name": "Real (19)",
         "type": "scatter",
         "visible": false,
         "x": [
          "2014-03-21",
          "2014-03-22",
          "2014-03-23",
          "2014-03-24",
          "2014-03-25",
          "2014-03-26",
          "2014-03-27",
          "2014-03-28",
          "2014-03-29",
          "2014-03-30",
          "2014-03-31",
          "2014-04-01",
          "2014-04-02",
          "2014-04-03",
          "2014-04-04",
          "2014-04-05",
          "2014-04-06",
          "2014-04-07",
          "2014-04-08",
          "2014-04-09",
          "2014-04-10",
          "2014-04-11",
          "2014-04-12",
          "2014-04-13",
          "2014-04-14",
          "2014-04-15",
          "2014-04-16",
          "2014-04-17",
          "2014-04-18",
          "2014-04-19",
          "2014-04-20",
          "2014-04-21",
          "2014-04-22",
          "2014-04-23",
          "2014-04-24",
          "2014-04-25"
         ],
         "y": [
          6.800000190734863,
          6.800000190734863,
          6.800000190734863,
          7.199999809265137,
          6.400000095367432,
          6.75,
          7.5,
          7.599999904632568,
          7.400000095367432,
          6.400000095367432,
          7,
          7,
          7,
          7,
          7,
          7,
          7.25,
          7,
          7.5,
          7.5,
          7,
          7,
          7,
          6.5,
          7,
          5.75,
          6.599999904632568,
          7.199999809265137,
          7,
          7,
          7.75,
          7.199999809265137,
          7.224999904632568,
          7.25,
          7.400000095367432,
          7.400000095367432
         ]
        },
        {
         "mode": "lines",
         "name": "Predicted (19)",
         "type": "scatter",
         "visible": false,
         "x": [
          "2014-03-21",
          "2014-03-22",
          "2014-03-23",
          "2014-03-24",
          "2014-03-25",
          "2014-03-26",
          "2014-03-27",
          "2014-03-28",
          "2014-03-29",
          "2014-03-30",
          "2014-03-31",
          "2014-04-01",
          "2014-04-02",
          "2014-04-03",
          "2014-04-04",
          "2014-04-05",
          "2014-04-06",
          "2014-04-07",
          "2014-04-08",
          "2014-04-09",
          "2014-04-10",
          "2014-04-11",
          "2014-04-12",
          "2014-04-13",
          "2014-04-14",
          "2014-04-15",
          "2014-04-16",
          "2014-04-17",
          "2014-04-18",
          "2014-04-19",
          "2014-04-20",
          "2014-04-21",
          "2014-04-22",
          "2014-04-23",
          "2014-04-24",
          "2014-04-25"
         ],
         "y": [
          6.718214511871338,
          6.840367317199707,
          6.799471855163574,
          6.814023017883301,
          6.77384090423584,
          6.6982741355896,
          6.825333118438721,
          6.86127233505249,
          6.897716522216797,
          6.867239952087402,
          6.616633415222168,
          6.639434337615967,
          6.658116817474365,
          6.81290864944458,
          6.9851274490356445,
          6.984311580657959,
          7.173207759857178,
          7.003927230834961,
          7.2069525718688965,
          7.219142436981201,
          7.274743556976318,
          7.284159183502197,
          7.01286506652832,
          6.961461544036865,
          6.764673709869385,
          6.281436920166016,
          6.732863903045654,
          6.6412482261657715,
          6.791945934295654,
          6.786884784698486,
          7.654043674468994,
          7.302015781402588,
          7.2152509689331055,
          6.969988822937012,
          7.343462944030762,
          7.612854480743408
         ]
        },
        {
         "mode": "lines",
         "name": "Real (20)",
         "type": "scatter",
         "visible": false,
         "x": [
          "2014-03-20",
          "2014-03-21",
          "2014-03-22",
          "2014-03-23",
          "2014-03-24",
          "2014-03-25",
          "2014-03-26",
          "2014-03-27",
          "2014-03-28",
          "2014-03-29",
          "2014-03-30",
          "2014-03-31",
          "2014-04-01",
          "2014-04-02",
          "2014-04-03",
          "2014-04-04",
          "2014-04-05",
          "2014-04-06",
          "2014-04-07",
          "2014-04-08",
          "2014-04-09",
          "2014-04-10",
          "2014-04-11",
          "2014-04-12",
          "2014-04-13",
          "2014-04-14",
          "2014-04-15",
          "2014-04-16",
          "2014-04-17",
          "2014-04-18",
          "2014-04-19",
          "2014-04-20",
          "2014-04-21",
          "2014-04-22",
          "2014-04-23",
          "2014-04-24",
          "2014-04-25"
         ],
         "y": [
          7.599999904632568,
          7.75,
          7.75,
          7.199999809265137,
          6.199999809265137,
          8,
          7.25,
          7.800000190734863,
          7.5,
          7.199999809265137,
          7.5,
          6.800000190734863,
          6.199999809265137,
          7.599999904632568,
          7,
          6.800000190734863,
          6,
          6.333333492279053,
          7.400000095367432,
          7,
          6.833333492279053,
          7.5,
          6,
          6.5,
          7,
          7,
          7.400000095367432,
          7,
          7.25,
          7,
          7.5,
          5.199999809265137,
          6.400000095367432,
          7,
          7.599999904632568,
          7.199999809265137,
          7.400000095367432
         ]
        },
        {
         "mode": "lines",
         "name": "Predicted (20)",
         "type": "scatter",
         "visible": false,
         "x": [
          "2014-03-20",
          "2014-03-21",
          "2014-03-22",
          "2014-03-23",
          "2014-03-24",
          "2014-03-25",
          "2014-03-26",
          "2014-03-27",
          "2014-03-28",
          "2014-03-29",
          "2014-03-30",
          "2014-03-31",
          "2014-04-01",
          "2014-04-02",
          "2014-04-03",
          "2014-04-04",
          "2014-04-05",
          "2014-04-06",
          "2014-04-07",
          "2014-04-08",
          "2014-04-09",
          "2014-04-10",
          "2014-04-11",
          "2014-04-12",
          "2014-04-13",
          "2014-04-14",
          "2014-04-15",
          "2014-04-16",
          "2014-04-17",
          "2014-04-18",
          "2014-04-19",
          "2014-04-20",
          "2014-04-21",
          "2014-04-22",
          "2014-04-23",
          "2014-04-24",
          "2014-04-25"
         ],
         "y": [
          7.617259979248047,
          7.512135028839111,
          7.205336570739746,
          7.124589920043945,
          6.764460563659668,
          7.006012439727783,
          6.940983295440674,
          7.101959705352783,
          6.897881984710693,
          6.800940990447998,
          6.696567535400391,
          6.811779975891113,
          6.6035237312316895,
          6.961807727813721,
          7.292514801025391,
          6.8117356300354,
          6.400455474853516,
          6.5011491775512695,
          6.678353309631348,
          6.9611687660217285,
          6.715042591094971,
          6.7150983810424805,
          6.788969039916992,
          6.805224895477295,
          6.913451671600342,
          6.859364032745361,
          6.895089626312256,
          6.897808074951172,
          6.862517356872559,
          6.908337116241455,
          6.7277913093566895,
          6.892852306365967,
          6.463695526123047,
          6.876701354980469,
          6.996285915374756,
          6.814090728759766,
          6.74300479888916
         ]
        },
        {
         "mode": "lines",
         "name": "Real (23)",
         "type": "scatter",
         "visible": false,
         "x": [
          "2014-03-22",
          "2014-03-23",
          "2014-03-24",
          "2014-03-25",
          "2014-03-26",
          "2014-03-27",
          "2014-03-28",
          "2014-03-29",
          "2014-03-30",
          "2014-03-31",
          "2014-04-01",
          "2014-04-02",
          "2014-04-03",
          "2014-04-04",
          "2014-04-05",
          "2014-04-06",
          "2014-04-07",
          "2014-04-08",
          "2014-04-09",
          "2014-04-10",
          "2014-04-11",
          "2014-04-12",
          "2014-04-13",
          "2014-04-14",
          "2014-04-15",
          "2014-04-16",
          "2014-04-17",
          "2014-04-18",
          "2014-04-19",
          "2014-04-20",
          "2014-04-21",
          "2014-04-22"
         ],
         "y": [
          7,
          6.199999809265137,
          6.599999904632568,
          6.800000190734863,
          7.199999809265137,
          7,
          7,
          6.199999809265137,
          8,
          6.599999904632568,
          6.400000095367432,
          6.5,
          7.199999809265137,
          6.5,
          6.25,
          7.5,
          6.800000190734863,
          7.400000095367432,
          8.25,
          6.5,
          6,
          6.25,
          7,
          7.400000095367432,
          7.199999809265137,
          6,
          6.199999809265137,
          7,
          7.5,
          8,
          8.199999809265137,
          7.199999809265137
         ]
        },
        {
         "mode": "lines",
         "name": "Predicted (23)",
         "type": "scatter",
         "visible": false,
         "x": [
          "2014-03-22",
          "2014-03-23",
          "2014-03-24",
          "2014-03-25",
          "2014-03-26",
          "2014-03-27",
          "2014-03-28",
          "2014-03-29",
          "2014-03-30",
          "2014-03-31",
          "2014-04-01",
          "2014-04-02",
          "2014-04-03",
          "2014-04-04",
          "2014-04-05",
          "2014-04-06",
          "2014-04-07",
          "2014-04-08",
          "2014-04-09",
          "2014-04-10",
          "2014-04-11",
          "2014-04-12",
          "2014-04-13",
          "2014-04-14",
          "2014-04-15",
          "2014-04-16",
          "2014-04-17",
          "2014-04-18",
          "2014-04-19",
          "2014-04-20",
          "2014-04-21",
          "2014-04-22"
         ],
         "y": [
          6.8682637214660645,
          6.97048282623291,
          6.998145580291748,
          7.004112720489502,
          6.842404842376709,
          6.847801685333252,
          6.882809638977051,
          6.964753150939941,
          6.890746116638184,
          6.788166522979736,
          6.965851306915283,
          7.093631744384766,
          7.022976398468018,
          7.0521626472473145,
          6.7923712730407715,
          6.984649658203125,
          6.3942999839782715,
          7.266846656799316,
          7.641896724700928,
          6.925071716308594,
          6.213134765625,
          6.462395191192627,
          7.427647113800049,
          7.350205421447754,
          6.709751605987549,
          6.523292541503906,
          6.623667240142822,
          6.919869422912598,
          7.034822463989258,
          6.920864582061768,
          7.029261112213135,
          6.97371768951416
         ]
        },
        {
         "mode": "lines",
         "name": "Real (24)",
         "type": "scatter",
         "visible": false,
         "x": [
          "2014-04-14",
          "2014-04-15",
          "2014-04-16",
          "2014-04-17",
          "2014-04-18",
          "2014-04-19",
          "2014-04-20",
          "2014-04-21",
          "2014-04-22",
          "2014-04-23",
          "2014-04-24",
          "2014-04-25",
          "2014-04-26",
          "2014-04-27",
          "2014-04-28",
          "2014-04-29",
          "2014-04-30",
          "2014-05-01",
          "2014-05-02",
          "2014-05-03",
          "2014-05-04",
          "2014-05-05",
          "2014-05-06",
          "2014-05-07",
          "2014-05-08",
          "2014-05-09",
          "2014-05-10",
          "2014-05-11",
          "2014-05-12",
          "2014-05-13",
          "2014-05-14",
          "2014-05-15",
          "2014-05-16",
          "2014-05-17",
          "2014-05-18",
          "2014-05-19",
          "2014-05-20",
          "2014-05-21",
          "2014-05-22",
          "2014-05-23",
          "2014-05-24",
          "2014-05-25",
          "2014-05-26",
          "2014-05-27"
         ],
         "y": [
          7,
          6.599999904632568,
          6.400000095367432,
          6.800000190734863,
          6.75,
          8,
          6.75,
          6.75,
          6.400000095367432,
          6.400000095367432,
          6.599999904632568,
          6.599999904632568,
          7.75,
          7,
          7.400000095367432,
          6.800000190734863,
          6.800000190734863,
          6,
          7.199999809265137,
          8,
          8,
          6.400000095367432,
          7.25,
          6.199999809265137,
          5.800000190734863,
          6.599999904632568,
          8,
          7.800000190734863,
          8,
          6.599999904632568,
          6.199999809265137,
          6.800000190734863,
          7.199999809265137,
          7.800000190734863,
          7.400000095367432,
          6.5,
          6.650000095367432,
          6.800000190734863,
          6.599999904632568,
          6.800000190734863,
          8,
          6.199999809265137,
          6.400000095367432,
          7
         ]
        },
        {
         "mode": "lines",
         "name": "Predicted (24)",
         "type": "scatter",
         "visible": false,
         "x": [
          "2014-04-14",
          "2014-04-15",
          "2014-04-16",
          "2014-04-17",
          "2014-04-18",
          "2014-04-19",
          "2014-04-20",
          "2014-04-21",
          "2014-04-22",
          "2014-04-23",
          "2014-04-24",
          "2014-04-25",
          "2014-04-26",
          "2014-04-27",
          "2014-04-28",
          "2014-04-29",
          "2014-04-30",
          "2014-05-01",
          "2014-05-02",
          "2014-05-03",
          "2014-05-04",
          "2014-05-05",
          "2014-05-06",
          "2014-05-07",
          "2014-05-08",
          "2014-05-09",
          "2014-05-10",
          "2014-05-11",
          "2014-05-12",
          "2014-05-13",
          "2014-05-14",
          "2014-05-15",
          "2014-05-16",
          "2014-05-17",
          "2014-05-18",
          "2014-05-19",
          "2014-05-20",
          "2014-05-21",
          "2014-05-22",
          "2014-05-23",
          "2014-05-24",
          "2014-05-25",
          "2014-05-26",
          "2014-05-27"
         ],
         "y": [
          6.848142147064209,
          6.865514755249023,
          6.738117218017578,
          6.793680667877197,
          6.95334529876709,
          7.0130205154418945,
          7.096983909606934,
          6.896981239318848,
          6.846813201904297,
          6.782762050628662,
          6.790976047515869,
          6.905855655670166,
          6.901938438415527,
          7.072628974914551,
          6.707841396331787,
          7.048958778381348,
          6.738525867462158,
          6.6010918617248535,
          6.557546615600586,
          7.19097900390625,
          7.194607257843018,
          6.661080360412598,
          6.395011901855469,
          6.765293121337891,
          6.591197967529297,
          6.496711730957031,
          7.552143096923828,
          7.283899307250977,
          7.291271686553955,
          7.001189231872559,
          7.1313796043396,
          6.537820339202881,
          6.830666542053223,
          7.0893778800964355,
          6.995296955108643,
          6.454169273376465,
          6.580089092254639,
          6.55750846862793,
          6.670998573303223,
          6.929406642913818,
          7.127096176147461,
          6.976666450500488,
          6.723085403442383,
          6.375288009643555
         ]
        },
        {
         "mode": "lines",
         "name": "Real (25)",
         "type": "scatter",
         "visible": false,
         "x": [
          "2014-04-08",
          "2014-04-09",
          "2014-04-10",
          "2014-04-11",
          "2014-04-12",
          "2014-04-13",
          "2014-04-14",
          "2014-04-15",
          "2014-04-16",
          "2014-04-17",
          "2014-04-18",
          "2014-04-19",
          "2014-04-20",
          "2014-04-21",
          "2014-04-22",
          "2014-04-23",
          "2014-04-24",
          "2014-04-25",
          "2014-04-26",
          "2014-04-27",
          "2014-04-28",
          "2014-04-29",
          "2014-04-30",
          "2014-05-01"
         ],
         "y": [
          6,
          6.400000095367432,
          7.400000095367432,
          7.400000095367432,
          7.599999904632568,
          7,
          7.400000095367432,
          5.800000190734863,
          7,
          8.75,
          7.599999904632568,
          7.199999809265137,
          7.800000190734863,
          7.599999904632568,
          8.600000381469727,
          7.5,
          7.199999809265137,
          6.800000190734863,
          7.800000190734863,
          8,
          7.599999904632568,
          7.599999904632568,
          9.333333015441895,
          8
         ]
        },
        {
         "mode": "lines",
         "name": "Predicted (25)",
         "type": "scatter",
         "visible": false,
         "x": [
          "2014-04-08",
          "2014-04-09",
          "2014-04-10",
          "2014-04-11",
          "2014-04-12",
          "2014-04-13",
          "2014-04-14",
          "2014-04-15",
          "2014-04-16",
          "2014-04-17",
          "2014-04-18",
          "2014-04-19",
          "2014-04-20",
          "2014-04-21",
          "2014-04-22",
          "2014-04-23",
          "2014-04-24",
          "2014-04-25",
          "2014-04-26",
          "2014-04-27",
          "2014-04-28",
          "2014-04-29",
          "2014-04-30",
          "2014-05-01"
         ],
         "y": [
          6.881582260131836,
          6.830500602722168,
          7.155106067657471,
          7.2857666015625,
          7.558543682098389,
          7.1692280769348145,
          7.349643707275391,
          7.3248114585876465,
          7.097945690155029,
          7.355939865112305,
          7.595573425292969,
          7.142035007476807,
          7.094294548034668,
          7.887321949005127,
          8.231742858886719,
          7.804134845733643,
          7.065333366394043,
          7.232461452484131,
          7.67191219329834,
          7.360878944396973,
          7.366510391235352,
          7.360683917999268,
          7.726070404052734,
          7.8146071434021
         ]
        },
        {
         "mode": "lines",
         "name": "Real (26)",
         "type": "scatter",
         "visible": false,
         "x": [
          "2014-03-23",
          "2014-03-24",
          "2014-03-25",
          "2014-03-26",
          "2014-03-27",
          "2014-03-28",
          "2014-03-29",
          "2014-03-30",
          "2014-03-31",
          "2014-04-01",
          "2014-04-02",
          "2014-04-03",
          "2014-04-04",
          "2014-04-05",
          "2014-04-06",
          "2014-04-07",
          "2014-04-08",
          "2014-04-09",
          "2014-04-10",
          "2014-04-11",
          "2014-04-12",
          "2014-04-13",
          "2014-04-14",
          "2014-04-15",
          "2014-04-16",
          "2014-04-17",
          "2014-04-18",
          "2014-04-19",
          "2014-04-20",
          "2014-04-21",
          "2014-04-22",
          "2014-04-23",
          "2014-04-24",
          "2014-04-25",
          "2014-04-26",
          "2014-04-27",
          "2014-04-28",
          "2014-04-29",
          "2014-04-30",
          "2014-05-01",
          "2014-05-02",
          "2014-05-03",
          "2014-05-04",
          "2014-05-05",
          "2014-05-06",
          "2014-05-07",
          "2014-05-08",
          "2014-05-09",
          "2014-05-10",
          "2014-05-11",
          "2014-05-12",
          "2014-05-13",
          "2014-05-14",
          "2014-05-15",
          "2014-05-16"
         ],
         "y": [
          7.800000190734863,
          7.199999809265137,
          6.599999904632568,
          7.599999904632568,
          7.199999809265137,
          6.400000095367432,
          7.400000095367432,
          7.666666507720947,
          7.733333110809326,
          6.5,
          7.599999904632568,
          7.199999809265137,
          8,
          7.800000190734863,
          7,
          7,
          7.400000095367432,
          7.800000190734863,
          7.199999809265137,
          6.800000190734863,
          6.800000190734863,
          6.199999809265137,
          7.800000190734863,
          5.800000190734863,
          6.75,
          7.800000190734863,
          8,
          7.25,
          7,
          8,
          7,
          8,
          7.25,
          7.5,
          7,
          6.199999809265137,
          8.5,
          7.199999809265137,
          7.800000190734863,
          7.599999904632568,
          8.600000381469727,
          7.199999809265137,
          8.25,
          8.199999809265137,
          8,
          8.25,
          7.800000190734863,
          7.599999904632568,
          8,
          7,
          7.5,
          7.199999809265137,
          6.400000095367432,
          7.599999904632568,
          7.800000190734863
         ]
        },
        {
         "mode": "lines",
         "name": "Predicted (26)",
         "type": "scatter",
         "visible": false,
         "x": [
          "2014-03-23",
          "2014-03-24",
          "2014-03-25",
          "2014-03-26",
          "2014-03-27",
          "2014-03-28",
          "2014-03-29",
          "2014-03-30",
          "2014-03-31",
          "2014-04-01",
          "2014-04-02",
          "2014-04-03",
          "2014-04-04",
          "2014-04-05",
          "2014-04-06",
          "2014-04-07",
          "2014-04-08",
          "2014-04-09",
          "2014-04-10",
          "2014-04-11",
          "2014-04-12",
          "2014-04-13",
          "2014-04-14",
          "2014-04-15",
          "2014-04-16",
          "2014-04-17",
          "2014-04-18",
          "2014-04-19",
          "2014-04-20",
          "2014-04-21",
          "2014-04-22",
          "2014-04-23",
          "2014-04-24",
          "2014-04-25",
          "2014-04-26",
          "2014-04-27",
          "2014-04-28",
          "2014-04-29",
          "2014-04-30",
          "2014-05-01",
          "2014-05-02",
          "2014-05-03",
          "2014-05-04",
          "2014-05-05",
          "2014-05-06",
          "2014-05-07",
          "2014-05-08",
          "2014-05-09",
          "2014-05-10",
          "2014-05-11",
          "2014-05-12",
          "2014-05-13",
          "2014-05-14",
          "2014-05-15",
          "2014-05-16"
         ],
         "y": [
          7.411746501922607,
          7.066103458404541,
          6.619500637054443,
          6.947012424468994,
          7.428966999053955,
          6.953825950622559,
          7.5605621337890625,
          7.248947620391846,
          7.258626937866211,
          7.333863735198975,
          7.353954792022705,
          7.028043270111084,
          7.168982982635498,
          7.938933372497559,
          7.586852073669434,
          7.007098197937012,
          7.607046127319336,
          7.808019638061523,
          7.180268287658691,
          7.099232196807861,
          6.984344005584717,
          6.839986801147461,
          7.402008533477783,
          6.635244369506836,
          7.035435199737549,
          7.593166828155518,
          7.501995086669922,
          7.497040748596191,
          7.638987064361572,
          7.615562438964844,
          7.414321422576904,
          7.499393939971924,
          7.409750938415527,
          7.694704532623291,
          7.176164150238037,
          6.934762001037598,
          7.045729160308838,
          7.657583236694336,
          7.086831569671631,
          7.632327079772949,
          7.668315410614014,
          7.766843795776367,
          7.490754127502441,
          7.822118759155273,
          7.46340799331665,
          7.734377861022949,
          7.774712562561035,
          7.663946628570557,
          7.750706195831299,
          7.694574356079102,
          7.910328388214111,
          7.280829906463623,
          7.059419631958008,
          7.834236145019531,
          7.921009540557861
         ]
        },
        {
         "mode": "lines",
         "name": "Real (27)",
         "type": "scatter",
         "visible": false,
         "x": [
          "2014-04-03",
          "2014-04-04",
          "2014-04-05",
          "2014-04-06",
          "2014-04-07",
          "2014-04-08",
          "2014-04-09",
          "2014-04-10",
          "2014-04-11",
          "2014-04-12",
          "2014-04-13",
          "2014-04-14",
          "2014-04-15",
          "2014-04-16",
          "2014-04-17",
          "2014-04-18",
          "2014-04-19",
          "2014-04-20",
          "2014-04-21",
          "2014-04-22",
          "2014-04-23",
          "2014-04-24",
          "2014-04-25",
          "2014-04-26",
          "2014-04-27",
          "2014-04-28",
          "2014-04-29",
          "2014-04-30",
          "2014-05-01",
          "2014-05-02",
          "2014-05-03",
          "2014-05-04",
          "2014-05-05",
          "2014-05-06"
         ],
         "y": [
          7.5,
          6,
          6.5,
          7,
          7.599999904632568,
          7.800000190734863,
          7.599999904632568,
          7.800000190734863,
          8,
          8,
          7.333333492279053,
          7.566666603088379,
          7,
          8,
          6.800000190734863,
          7.75,
          7.800000190734863,
          8.399999618530273,
          7.599999904632568,
          7.599999904632568,
          7.800000190734863,
          7.599999904632568,
          8,
          7.800000190734863,
          8,
          8,
          7.599999904632568,
          7.800000190734863,
          7.75,
          8.199999809265137,
          7.666666507720947,
          7.800000190734863,
          7.199999809265137,
          7.75
         ]
        },
        {
         "mode": "lines",
         "name": "Predicted (27)",
         "type": "scatter",
         "visible": false,
         "x": [
          "2014-04-03",
          "2014-04-04",
          "2014-04-05",
          "2014-04-06",
          "2014-04-07",
          "2014-04-08",
          "2014-04-09",
          "2014-04-10",
          "2014-04-11",
          "2014-04-12",
          "2014-04-13",
          "2014-04-14",
          "2014-04-15",
          "2014-04-16",
          "2014-04-17",
          "2014-04-18",
          "2014-04-19",
          "2014-04-20",
          "2014-04-21",
          "2014-04-22",
          "2014-04-23",
          "2014-04-24",
          "2014-04-25",
          "2014-04-26",
          "2014-04-27",
          "2014-04-28",
          "2014-04-29",
          "2014-04-30",
          "2014-05-01",
          "2014-05-02",
          "2014-05-03",
          "2014-05-04",
          "2014-05-05",
          "2014-05-06"
         ],
         "y": [
          7.740553379058838,
          7.1062235832214355,
          7.125943183898926,
          6.980693817138672,
          7.583221435546875,
          7.994255542755127,
          7.22224235534668,
          7.647094249725342,
          7.888562202453613,
          7.8844828605651855,
          7.750260353088379,
          7.648519992828369,
          7.1328864097595215,
          7.854982852935791,
          7.417606830596924,
          7.722067356109619,
          7.871776580810547,
          7.975378036499023,
          7.651581287384033,
          7.599006175994873,
          7.7381591796875,
          7.882392406463623,
          7.813320636749268,
          7.683523178100586,
          7.794593811035156,
          7.698342323303223,
          7.687771320343018,
          7.945352077484131,
          7.828024864196777,
          7.7709879875183105,
          7.821214199066162,
          7.837563991546631,
          7.694879531860352,
          7.63697624206543
         ]
        },
        {
         "mode": "lines",
         "name": "Real (28)",
         "type": "scatter",
         "visible": false,
         "x": [
          "2014-03-31",
          "2014-04-01",
          "2014-04-02",
          "2014-04-03",
          "2014-04-04",
          "2014-04-05",
          "2014-04-06",
          "2014-04-07",
          "2014-04-08",
          "2014-04-09",
          "2014-04-10",
          "2014-04-11",
          "2014-04-12",
          "2014-04-13",
          "2014-04-14",
          "2014-04-15",
          "2014-04-16",
          "2014-04-17",
          "2014-04-18",
          "2014-04-19",
          "2014-04-20",
          "2014-04-21",
          "2014-04-22",
          "2014-04-23",
          "2014-04-24",
          "2014-04-25",
          "2014-04-26",
          "2014-04-27",
          "2014-04-28",
          "2014-04-29",
          "2014-04-30"
         ],
         "y": [
          7.599999904632568,
          8.399999618530273,
          7.599999904632568,
          7.400000095367432,
          7.800000190734863,
          7.75,
          7.800000190734863,
          8,
          7.599999904632568,
          8.199999809265137,
          7.5,
          6.666666507720947,
          6.599999904632568,
          7,
          7,
          7.199999809265137,
          7.800000190734863,
          7,
          6.800000190734863,
          6.199999809265137,
          7,
          6.75,
          7,
          6.800000190734863,
          7.800000190734863,
          8,
          6.400000095367432,
          7,
          7,
          6.5,
          7
         ]
        },
        {
         "mode": "lines",
         "name": "Predicted (28)",
         "type": "scatter",
         "visible": false,
         "x": [
          "2014-03-31",
          "2014-04-01",
          "2014-04-02",
          "2014-04-03",
          "2014-04-04",
          "2014-04-05",
          "2014-04-06",
          "2014-04-07",
          "2014-04-08",
          "2014-04-09",
          "2014-04-10",
          "2014-04-11",
          "2014-04-12",
          "2014-04-13",
          "2014-04-14",
          "2014-04-15",
          "2014-04-16",
          "2014-04-17",
          "2014-04-18",
          "2014-04-19",
          "2014-04-20",
          "2014-04-21",
          "2014-04-22",
          "2014-04-23",
          "2014-04-24",
          "2014-04-25",
          "2014-04-26",
          "2014-04-27",
          "2014-04-28",
          "2014-04-29",
          "2014-04-30"
         ],
         "y": [
          7.918692588806152,
          7.9934773445129395,
          7.798561096191406,
          7.82708215713501,
          7.930864334106445,
          7.737526893615723,
          7.69926118850708,
          7.76007080078125,
          7.8705267906188965,
          7.63563346862793,
          7.614738464355469,
          7.499433994293213,
          6.767816066741943,
          6.968667984008789,
          7.17985725402832,
          7.266598701477051,
          7.469987869262695,
          7.327767848968506,
          6.96677827835083,
          6.703445911407471,
          6.4127655029296875,
          6.848024368286133,
          6.993868827819824,
          7.119724750518799,
          7.372236728668213,
          7.452341079711914,
          7.316229820251465,
          6.832513332366943,
          6.708728313446045,
          6.830219268798828,
          6.942744731903076
         ]
        },
        {
         "mode": "lines",
         "name": "Real (29)",
         "type": "scatter",
         "visible": false,
         "x": [
          "2014-04-02",
          "2014-04-03",
          "2014-04-04",
          "2014-04-05",
          "2014-04-06",
          "2014-04-07",
          "2014-04-08",
          "2014-04-09",
          "2014-04-10",
          "2014-04-11",
          "2014-04-12",
          "2014-04-13",
          "2014-04-14",
          "2014-04-15",
          "2014-04-16",
          "2014-04-17",
          "2014-04-18",
          "2014-04-19",
          "2014-04-20",
          "2014-04-21",
          "2014-04-22",
          "2014-04-23",
          "2014-04-24",
          "2014-04-25",
          "2014-04-26",
          "2014-04-27",
          "2014-04-28",
          "2014-04-29",
          "2014-04-30",
          "2014-05-01",
          "2014-05-02",
          "2014-05-03",
          "2014-05-04",
          "2014-05-05",
          "2014-05-06"
         ],
         "y": [
          7,
          7.400000095367432,
          6.800000190734863,
          7,
          7,
          7,
          7,
          7.400000095367432,
          7.199999809265137,
          7,
          6.875,
          8,
          7.599999904632568,
          7,
          7.800000190734863,
          7.333333492279053,
          8.25,
          7.666666507720947,
          8.600000381469727,
          8,
          7.5,
          8,
          8.5,
          8.5,
          7,
          7,
          7,
          7,
          7,
          7,
          8,
          8,
          7.5,
          7,
          7.5
         ]
        },
        {
         "mode": "lines",
         "name": "Predicted (29)",
         "type": "scatter",
         "visible": false,
         "x": [
          "2014-04-02",
          "2014-04-03",
          "2014-04-04",
          "2014-04-05",
          "2014-04-06",
          "2014-04-07",
          "2014-04-08",
          "2014-04-09",
          "2014-04-10",
          "2014-04-11",
          "2014-04-12",
          "2014-04-13",
          "2014-04-14",
          "2014-04-15",
          "2014-04-16",
          "2014-04-17",
          "2014-04-18",
          "2014-04-19",
          "2014-04-20",
          "2014-04-21",
          "2014-04-22",
          "2014-04-23",
          "2014-04-24",
          "2014-04-25",
          "2014-04-26",
          "2014-04-27",
          "2014-04-28",
          "2014-04-29",
          "2014-04-30",
          "2014-05-01",
          "2014-05-02",
          "2014-05-03",
          "2014-05-04",
          "2014-05-05",
          "2014-05-06"
         ],
         "y": [
          7.1963019371032715,
          6.955881118774414,
          6.9271464347839355,
          6.7371039390563965,
          6.706467151641846,
          6.957442283630371,
          7.37636137008667,
          7.305818557739258,
          7.171879291534424,
          7.010615825653076,
          6.904555797576904,
          6.907010078430176,
          7.687509536743164,
          6.8702192306518555,
          7.488043785095215,
          7.521240234375,
          7.549710273742676,
          7.521014213562012,
          7.418878078460693,
          7.350561141967773,
          6.995113849639893,
          7.530415058135986,
          7.432825088500977,
          7.617407321929932,
          7.465422630310059,
          7.22406005859375,
          7.2233567237854,
          7.283970832824707,
          7.150154113769531,
          7.389141082763672,
          7.57834005355835,
          7.716306209564209,
          7.47471284866333,
          7.385662078857422,
          7.153241157531738
         ]
        },
        {
         "mode": "lines",
         "name": "Real (30)",
         "type": "scatter",
         "visible": false,
         "x": [
          "2014-03-20",
          "2014-03-21",
          "2014-03-22",
          "2014-03-23",
          "2014-03-24",
          "2014-03-25",
          "2014-03-26",
          "2014-03-27",
          "2014-03-28",
          "2014-03-29",
          "2014-03-30",
          "2014-03-31",
          "2014-04-01",
          "2014-04-02",
          "2014-04-03",
          "2014-04-04",
          "2014-04-05",
          "2014-04-06",
          "2014-04-07",
          "2014-04-08",
          "2014-04-09",
          "2014-04-10",
          "2014-04-11",
          "2014-04-12",
          "2014-04-13",
          "2014-04-14",
          "2014-04-15",
          "2014-04-16",
          "2014-04-17",
          "2014-04-18",
          "2014-04-19",
          "2014-04-20",
          "2014-04-21",
          "2014-04-22",
          "2014-04-23",
          "2014-04-24",
          "2014-04-25"
         ],
         "y": [
          8,
          7,
          7,
          7.25,
          7.5,
          7,
          7.199999809265137,
          6.199999809265137,
          5.199999809265137,
          7,
          8.399999618530273,
          7.599999904632568,
          6.199999809265137,
          6.75,
          6.199999809265137,
          6.400000095367432,
          7,
          7.44444465637207,
          7.888888835906982,
          8.333333015441895,
          7.25,
          6.125,
          5,
          6.599999904632568,
          4.799999713897705,
          7.599999904632568,
          6,
          6,
          5,
          6.833333492279053,
          6,
          7,
          6,
          6,
          6.199999809265137,
          6.25,
          6
         ]
        },
        {
         "mode": "lines",
         "name": "Predicted (30)",
         "type": "scatter",
         "visible": false,
         "x": [
          "2014-03-20",
          "2014-03-21",
          "2014-03-22",
          "2014-03-23",
          "2014-03-24",
          "2014-03-25",
          "2014-03-26",
          "2014-03-27",
          "2014-03-28",
          "2014-03-29",
          "2014-03-30",
          "2014-03-31",
          "2014-04-01",
          "2014-04-02",
          "2014-04-03",
          "2014-04-04",
          "2014-04-05",
          "2014-04-06",
          "2014-04-07",
          "2014-04-08",
          "2014-04-09",
          "2014-04-10",
          "2014-04-11",
          "2014-04-12",
          "2014-04-13",
          "2014-04-14",
          "2014-04-15",
          "2014-04-16",
          "2014-04-17",
          "2014-04-18",
          "2014-04-19",
          "2014-04-20",
          "2014-04-21",
          "2014-04-22",
          "2014-04-23",
          "2014-04-24",
          "2014-04-25"
         ],
         "y": [
          7.470262050628662,
          7.302423477172852,
          7.190088748931885,
          7.008112907409668,
          7.336727142333984,
          7.391557216644287,
          6.704438209533691,
          6.3443284034729,
          5.710263252258301,
          6.161885738372803,
          6.711690902709961,
          6.710245609283447,
          6.65928316116333,
          5.960742950439453,
          5.711732864379883,
          6.089346408843994,
          5.9933576583862305,
          6.3033905029296875,
          7.31014347076416,
          7.538336277008057,
          7.28254508972168,
          6.023688316345215,
          5.626441955566406,
          6.166438579559326,
          5.9906535148620605,
          6.372371673583984,
          6.355807781219482,
          6.409662246704102,
          5.903097629547119,
          6.50870418548584,
          6.358067512512207,
          6.271774768829346,
          6.740746021270752,
          6.398921012878418,
          5.9060959815979,
          6.1202545166015625,
          6.18285608291626
         ]
        }
       ],
       "layout": {
        "template": {
         "data": {
          "bar": [
           {
            "error_x": {
             "color": "#2a3f5f"
            },
            "error_y": {
             "color": "#2a3f5f"
            },
            "marker": {
             "line": {
              "color": "#E5ECF6",
              "width": 0.5
             },
             "pattern": {
              "fillmode": "overlay",
              "size": 10,
              "solidity": 0.2
             }
            },
            "type": "bar"
           }
          ],
          "barpolar": [
           {
            "marker": {
             "line": {
              "color": "#E5ECF6",
              "width": 0.5
             },
             "pattern": {
              "fillmode": "overlay",
              "size": 10,
              "solidity": 0.2
             }
            },
            "type": "barpolar"
           }
          ],
          "carpet": [
           {
            "aaxis": {
             "endlinecolor": "#2a3f5f",
             "gridcolor": "white",
             "linecolor": "white",
             "minorgridcolor": "white",
             "startlinecolor": "#2a3f5f"
            },
            "baxis": {
             "endlinecolor": "#2a3f5f",
             "gridcolor": "white",
             "linecolor": "white",
             "minorgridcolor": "white",
             "startlinecolor": "#2a3f5f"
            },
            "type": "carpet"
           }
          ],
          "choropleth": [
           {
            "colorbar": {
             "outlinewidth": 0,
             "ticks": ""
            },
            "type": "choropleth"
           }
          ],
          "contour": [
           {
            "colorbar": {
             "outlinewidth": 0,
             "ticks": ""
            },
            "colorscale": [
             [
              0,
              "#0d0887"
             ],
             [
              0.1111111111111111,
              "#46039f"
             ],
             [
              0.2222222222222222,
              "#7201a8"
             ],
             [
              0.3333333333333333,
              "#9c179e"
             ],
             [
              0.4444444444444444,
              "#bd3786"
             ],
             [
              0.5555555555555556,
              "#d8576b"
             ],
             [
              0.6666666666666666,
              "#ed7953"
             ],
             [
              0.7777777777777778,
              "#fb9f3a"
             ],
             [
              0.8888888888888888,
              "#fdca26"
             ],
             [
              1,
              "#f0f921"
             ]
            ],
            "type": "contour"
           }
          ],
          "contourcarpet": [
           {
            "colorbar": {
             "outlinewidth": 0,
             "ticks": ""
            },
            "type": "contourcarpet"
           }
          ],
          "heatmap": [
           {
            "colorbar": {
             "outlinewidth": 0,
             "ticks": ""
            },
            "colorscale": [
             [
              0,
              "#0d0887"
             ],
             [
              0.1111111111111111,
              "#46039f"
             ],
             [
              0.2222222222222222,
              "#7201a8"
             ],
             [
              0.3333333333333333,
              "#9c179e"
             ],
             [
              0.4444444444444444,
              "#bd3786"
             ],
             [
              0.5555555555555556,
              "#d8576b"
             ],
             [
              0.6666666666666666,
              "#ed7953"
             ],
             [
              0.7777777777777778,
              "#fb9f3a"
             ],
             [
              0.8888888888888888,
              "#fdca26"
             ],
             [
              1,
              "#f0f921"
             ]
            ],
            "type": "heatmap"
           }
          ],
          "heatmapgl": [
           {
            "colorbar": {
             "outlinewidth": 0,
             "ticks": ""
            },
            "colorscale": [
             [
              0,
              "#0d0887"
             ],
             [
              0.1111111111111111,
              "#46039f"
             ],
             [
              0.2222222222222222,
              "#7201a8"
             ],
             [
              0.3333333333333333,
              "#9c179e"
             ],
             [
              0.4444444444444444,
              "#bd3786"
             ],
             [
              0.5555555555555556,
              "#d8576b"
             ],
             [
              0.6666666666666666,
              "#ed7953"
             ],
             [
              0.7777777777777778,
              "#fb9f3a"
             ],
             [
              0.8888888888888888,
              "#fdca26"
             ],
             [
              1,
              "#f0f921"
             ]
            ],
            "type": "heatmapgl"
           }
          ],
          "histogram": [
           {
            "marker": {
             "pattern": {
              "fillmode": "overlay",
              "size": 10,
              "solidity": 0.2
             }
            },
            "type": "histogram"
           }
          ],
          "histogram2d": [
           {
            "colorbar": {
             "outlinewidth": 0,
             "ticks": ""
            },
            "colorscale": [
             [
              0,
              "#0d0887"
             ],
             [
              0.1111111111111111,
              "#46039f"
             ],
             [
              0.2222222222222222,
              "#7201a8"
             ],
             [
              0.3333333333333333,
              "#9c179e"
             ],
             [
              0.4444444444444444,
              "#bd3786"
             ],
             [
              0.5555555555555556,
              "#d8576b"
             ],
             [
              0.6666666666666666,
              "#ed7953"
             ],
             [
              0.7777777777777778,
              "#fb9f3a"
             ],
             [
              0.8888888888888888,
              "#fdca26"
             ],
             [
              1,
              "#f0f921"
             ]
            ],
            "type": "histogram2d"
           }
          ],
          "histogram2dcontour": [
           {
            "colorbar": {
             "outlinewidth": 0,
             "ticks": ""
            },
            "colorscale": [
             [
              0,
              "#0d0887"
             ],
             [
              0.1111111111111111,
              "#46039f"
             ],
             [
              0.2222222222222222,
              "#7201a8"
             ],
             [
              0.3333333333333333,
              "#9c179e"
             ],
             [
              0.4444444444444444,
              "#bd3786"
             ],
             [
              0.5555555555555556,
              "#d8576b"
             ],
             [
              0.6666666666666666,
              "#ed7953"
             ],
             [
              0.7777777777777778,
              "#fb9f3a"
             ],
             [
              0.8888888888888888,
              "#fdca26"
             ],
             [
              1,
              "#f0f921"
             ]
            ],
            "type": "histogram2dcontour"
           }
          ],
          "mesh3d": [
           {
            "colorbar": {
             "outlinewidth": 0,
             "ticks": ""
            },
            "type": "mesh3d"
           }
          ],
          "parcoords": [
           {
            "line": {
             "colorbar": {
              "outlinewidth": 0,
              "ticks": ""
             }
            },
            "type": "parcoords"
           }
          ],
          "pie": [
           {
            "automargin": true,
            "type": "pie"
           }
          ],
          "scatter": [
           {
            "fillpattern": {
             "fillmode": "overlay",
             "size": 10,
             "solidity": 0.2
            },
            "type": "scatter"
           }
          ],
          "scatter3d": [
           {
            "line": {
             "colorbar": {
              "outlinewidth": 0,
              "ticks": ""
             }
            },
            "marker": {
             "colorbar": {
              "outlinewidth": 0,
              "ticks": ""
             }
            },
            "type": "scatter3d"
           }
          ],
          "scattercarpet": [
           {
            "marker": {
             "colorbar": {
              "outlinewidth": 0,
              "ticks": ""
             }
            },
            "type": "scattercarpet"
           }
          ],
          "scattergeo": [
           {
            "marker": {
             "colorbar": {
              "outlinewidth": 0,
              "ticks": ""
             }
            },
            "type": "scattergeo"
           }
          ],
          "scattergl": [
           {
            "marker": {
             "colorbar": {
              "outlinewidth": 0,
              "ticks": ""
             }
            },
            "type": "scattergl"
           }
          ],
          "scattermapbox": [
           {
            "marker": {
             "colorbar": {
              "outlinewidth": 0,
              "ticks": ""
             }
            },
            "type": "scattermapbox"
           }
          ],
          "scatterpolar": [
           {
            "marker": {
             "colorbar": {
              "outlinewidth": 0,
              "ticks": ""
             }
            },
            "type": "scatterpolar"
           }
          ],
          "scatterpolargl": [
           {
            "marker": {
             "colorbar": {
              "outlinewidth": 0,
              "ticks": ""
             }
            },
            "type": "scatterpolargl"
           }
          ],
          "scatterternary": [
           {
            "marker": {
             "colorbar": {
              "outlinewidth": 0,
              "ticks": ""
             }
            },
            "type": "scatterternary"
           }
          ],
          "surface": [
           {
            "colorbar": {
             "outlinewidth": 0,
             "ticks": ""
            },
            "colorscale": [
             [
              0,
              "#0d0887"
             ],
             [
              0.1111111111111111,
              "#46039f"
             ],
             [
              0.2222222222222222,
              "#7201a8"
             ],
             [
              0.3333333333333333,
              "#9c179e"
             ],
             [
              0.4444444444444444,
              "#bd3786"
             ],
             [
              0.5555555555555556,
              "#d8576b"
             ],
             [
              0.6666666666666666,
              "#ed7953"
             ],
             [
              0.7777777777777778,
              "#fb9f3a"
             ],
             [
              0.8888888888888888,
              "#fdca26"
             ],
             [
              1,
              "#f0f921"
             ]
            ],
            "type": "surface"
           }
          ],
          "table": [
           {
            "cells": {
             "fill": {
              "color": "#EBF0F8"
             },
             "line": {
              "color": "white"
             }
            },
            "header": {
             "fill": {
              "color": "#C8D4E3"
             },
             "line": {
              "color": "white"
             }
            },
            "type": "table"
           }
          ]
         },
         "layout": {
          "annotationdefaults": {
           "arrowcolor": "#2a3f5f",
           "arrowhead": 0,
           "arrowwidth": 1
          },
          "autotypenumbers": "strict",
          "coloraxis": {
           "colorbar": {
            "outlinewidth": 0,
            "ticks": ""
           }
          },
          "colorscale": {
           "diverging": [
            [
             0,
             "#8e0152"
            ],
            [
             0.1,
             "#c51b7d"
            ],
            [
             0.2,
             "#de77ae"
            ],
            [
             0.3,
             "#f1b6da"
            ],
            [
             0.4,
             "#fde0ef"
            ],
            [
             0.5,
             "#f7f7f7"
            ],
            [
             0.6,
             "#e6f5d0"
            ],
            [
             0.7,
             "#b8e186"
            ],
            [
             0.8,
             "#7fbc41"
            ],
            [
             0.9,
             "#4d9221"
            ],
            [
             1,
             "#276419"
            ]
           ],
           "sequential": [
            [
             0,
             "#0d0887"
            ],
            [
             0.1111111111111111,
             "#46039f"
            ],
            [
             0.2222222222222222,
             "#7201a8"
            ],
            [
             0.3333333333333333,
             "#9c179e"
            ],
            [
             0.4444444444444444,
             "#bd3786"
            ],
            [
             0.5555555555555556,
             "#d8576b"
            ],
            [
             0.6666666666666666,
             "#ed7953"
            ],
            [
             0.7777777777777778,
             "#fb9f3a"
            ],
            [
             0.8888888888888888,
             "#fdca26"
            ],
            [
             1,
             "#f0f921"
            ]
           ],
           "sequentialminus": [
            [
             0,
             "#0d0887"
            ],
            [
             0.1111111111111111,
             "#46039f"
            ],
            [
             0.2222222222222222,
             "#7201a8"
            ],
            [
             0.3333333333333333,
             "#9c179e"
            ],
            [
             0.4444444444444444,
             "#bd3786"
            ],
            [
             0.5555555555555556,
             "#d8576b"
            ],
            [
             0.6666666666666666,
             "#ed7953"
            ],
            [
             0.7777777777777778,
             "#fb9f3a"
            ],
            [
             0.8888888888888888,
             "#fdca26"
            ],
            [
             1,
             "#f0f921"
            ]
           ]
          },
          "colorway": [
           "#636efa",
           "#EF553B",
           "#00cc96",
           "#ab63fa",
           "#FFA15A",
           "#19d3f3",
           "#FF6692",
           "#B6E880",
           "#FF97FF",
           "#FECB52"
          ],
          "font": {
           "color": "#2a3f5f"
          },
          "geo": {
           "bgcolor": "white",
           "lakecolor": "white",
           "landcolor": "#E5ECF6",
           "showlakes": true,
           "showland": true,
           "subunitcolor": "white"
          },
          "hoverlabel": {
           "align": "left"
          },
          "hovermode": "closest",
          "mapbox": {
           "style": "light"
          },
          "paper_bgcolor": "white",
          "plot_bgcolor": "#E5ECF6",
          "polar": {
           "angularaxis": {
            "gridcolor": "white",
            "linecolor": "white",
            "ticks": ""
           },
           "bgcolor": "#E5ECF6",
           "radialaxis": {
            "gridcolor": "white",
            "linecolor": "white",
            "ticks": ""
           }
          },
          "scene": {
           "xaxis": {
            "backgroundcolor": "#E5ECF6",
            "gridcolor": "white",
            "gridwidth": 2,
            "linecolor": "white",
            "showbackground": true,
            "ticks": "",
            "zerolinecolor": "white"
           },
           "yaxis": {
            "backgroundcolor": "#E5ECF6",
            "gridcolor": "white",
            "gridwidth": 2,
            "linecolor": "white",
            "showbackground": true,
            "ticks": "",
            "zerolinecolor": "white"
           },
           "zaxis": {
            "backgroundcolor": "#E5ECF6",
            "gridcolor": "white",
            "gridwidth": 2,
            "linecolor": "white",
            "showbackground": true,
            "ticks": "",
            "zerolinecolor": "white"
           }
          },
          "shapedefaults": {
           "line": {
            "color": "#2a3f5f"
           }
          },
          "ternary": {
           "aaxis": {
            "gridcolor": "white",
            "linecolor": "white",
            "ticks": ""
           },
           "baxis": {
            "gridcolor": "white",
            "linecolor": "white",
            "ticks": ""
           },
           "bgcolor": "#E5ECF6",
           "caxis": {
            "gridcolor": "white",
            "linecolor": "white",
            "ticks": ""
           }
          },
          "title": {
           "x": 0.05
          },
          "xaxis": {
           "automargin": true,
           "gridcolor": "white",
           "linecolor": "white",
           "ticks": "",
           "title": {
            "standoff": 15
           },
           "zerolinecolor": "white",
           "zerolinewidth": 2
          },
          "yaxis": {
           "automargin": true,
           "gridcolor": "white",
           "linecolor": "white",
           "ticks": "",
           "title": {
            "standoff": 15
           },
           "zerolinecolor": "white",
           "zerolinewidth": 2
          }
         }
        },
        "title": {
         "text": "Real vs Predicted Mood Values for Participant 1"
        },
        "updatemenus": [
         {
          "active": 0,
          "buttons": [
           {
            "args": [
             {
              "visible": [
               true,
               true,
               false,
               false,
               false,
               false,
               false,
               false,
               false,
               false,
               false,
               false,
               false,
               false,
               false,
               false,
               false,
               false,
               false,
               false,
               false,
               false,
               false,
               false,
               false,
               false,
               false,
               false,
               false,
               false,
               false,
               false,
               false,
               false,
               false,
               false,
               false,
               false,
               false,
               false,
               false,
               false,
               false,
               false,
               false,
               false,
               false,
               false
              ]
             },
             {
              "title": "Real vs Predicted Mood Values for Participant 1",
              "xaxis": {
               "title": "Day"
              },
              "yaxis": {
               "title": "Mood Value"
              }
             }
            ],
            "label": "1",
            "method": "update"
           },
           {
            "args": [
             {
              "visible": [
               false,
               false,
               true,
               true,
               false,
               false,
               false,
               false,
               false,
               false,
               false,
               false,
               false,
               false,
               false,
               false,
               false,
               false,
               false,
               false,
               false,
               false,
               false,
               false,
               false,
               false,
               false,
               false,
               false,
               false,
               false,
               false,
               false,
               false,
               false,
               false,
               false,
               false,
               false,
               false,
               false,
               false,
               false,
               false,
               false,
               false,
               false,
               false
              ]
             },
             {
              "title": "Real vs Predicted Mood Values for Participant 2",
              "xaxis": {
               "title": "Day"
              },
              "yaxis": {
               "title": "Mood Value"
              }
             }
            ],
            "label": "2",
            "method": "update"
           },
           {
            "args": [
             {
              "visible": [
               false,
               false,
               false,
               false,
               true,
               true,
               false,
               false,
               false,
               false,
               false,
               false,
               false,
               false,
               false,
               false,
               false,
               false,
               false,
               false,
               false,
               false,
               false,
               false,
               false,
               false,
               false,
               false,
               false,
               false,
               false,
               false,
               false,
               false,
               false,
               false,
               false,
               false,
               false,
               false,
               false,
               false,
               false,
               false,
               false,
               false,
               false,
               false
              ]
             },
             {
              "title": "Real vs Predicted Mood Values for Participant 3",
              "xaxis": {
               "title": "Day"
              },
              "yaxis": {
               "title": "Mood Value"
              }
             }
            ],
            "label": "3",
            "method": "update"
           },
           {
            "args": [
             {
              "visible": [
               false,
               false,
               false,
               false,
               false,
               false,
               true,
               true,
               false,
               false,
               false,
               false,
               false,
               false,
               false,
               false,
               false,
               false,
               false,
               false,
               false,
               false,
               false,
               false,
               false,
               false,
               false,
               false,
               false,
               false,
               false,
               false,
               false,
               false,
               false,
               false,
               false,
               false,
               false,
               false,
               false,
               false,
               false,
               false,
               false,
               false,
               false,
               false
              ]
             },
             {
              "title": "Real vs Predicted Mood Values for Participant 5",
              "xaxis": {
               "title": "Day"
              },
              "yaxis": {
               "title": "Mood Value"
              }
             }
            ],
            "label": "5",
            "method": "update"
           },
           {
            "args": [
             {
              "visible": [
               false,
               false,
               false,
               false,
               false,
               false,
               false,
               false,
               true,
               true,
               false,
               false,
               false,
               false,
               false,
               false,
               false,
               false,
               false,
               false,
               false,
               false,
               false,
               false,
               false,
               false,
               false,
               false,
               false,
               false,
               false,
               false,
               false,
               false,
               false,
               false,
               false,
               false,
               false,
               false,
               false,
               false,
               false,
               false,
               false,
               false,
               false,
               false
              ]
             },
             {
              "title": "Real vs Predicted Mood Values for Participant 6",
              "xaxis": {
               "title": "Day"
              },
              "yaxis": {
               "title": "Mood Value"
              }
             }
            ],
            "label": "6",
            "method": "update"
           },
           {
            "args": [
             {
              "visible": [
               false,
               false,
               false,
               false,
               false,
               false,
               false,
               false,
               false,
               false,
               true,
               true,
               false,
               false,
               false,
               false,
               false,
               false,
               false,
               false,
               false,
               false,
               false,
               false,
               false,
               false,
               false,
               false,
               false,
               false,
               false,
               false,
               false,
               false,
               false,
               false,
               false,
               false,
               false,
               false,
               false,
               false,
               false,
               false,
               false,
               false,
               false,
               false
              ]
             },
             {
              "title": "Real vs Predicted Mood Values for Participant 7",
              "xaxis": {
               "title": "Day"
              },
              "yaxis": {
               "title": "Mood Value"
              }
             }
            ],
            "label": "7",
            "method": "update"
           },
           {
            "args": [
             {
              "visible": [
               false,
               false,
               false,
               false,
               false,
               false,
               false,
               false,
               false,
               false,
               false,
               false,
               true,
               true,
               false,
               false,
               false,
               false,
               false,
               false,
               false,
               false,
               false,
               false,
               false,
               false,
               false,
               false,
               false,
               false,
               false,
               false,
               false,
               false,
               false,
               false,
               false,
               false,
               false,
               false,
               false,
               false,
               false,
               false,
               false,
               false,
               false,
               false
              ]
             },
             {
              "title": "Real vs Predicted Mood Values for Participant 8",
              "xaxis": {
               "title": "Day"
              },
              "yaxis": {
               "title": "Mood Value"
              }
             }
            ],
            "label": "8",
            "method": "update"
           },
           {
            "args": [
             {
              "visible": [
               false,
               false,
               false,
               false,
               false,
               false,
               false,
               false,
               false,
               false,
               false,
               false,
               false,
               false,
               true,
               true,
               false,
               false,
               false,
               false,
               false,
               false,
               false,
               false,
               false,
               false,
               false,
               false,
               false,
               false,
               false,
               false,
               false,
               false,
               false,
               false,
               false,
               false,
               false,
               false,
               false,
               false,
               false,
               false,
               false,
               false,
               false,
               false
              ]
             },
             {
              "title": "Real vs Predicted Mood Values for Participant 9",
              "xaxis": {
               "title": "Day"
              },
              "yaxis": {
               "title": "Mood Value"
              }
             }
            ],
            "label": "9",
            "method": "update"
           },
           {
            "args": [
             {
              "visible": [
               false,
               false,
               false,
               false,
               false,
               false,
               false,
               false,
               false,
               false,
               false,
               false,
               false,
               false,
               false,
               false,
               true,
               true,
               false,
               false,
               false,
               false,
               false,
               false,
               false,
               false,
               false,
               false,
               false,
               false,
               false,
               false,
               false,
               false,
               false,
               false,
               false,
               false,
               false,
               false,
               false,
               false,
               false,
               false,
               false,
               false,
               false,
               false
              ]
             },
             {
              "title": "Real vs Predicted Mood Values for Participant 12",
              "xaxis": {
               "title": "Day"
              },
              "yaxis": {
               "title": "Mood Value"
              }
             }
            ],
            "label": "12",
            "method": "update"
           },
           {
            "args": [
             {
              "visible": [
               false,
               false,
               false,
               false,
               false,
               false,
               false,
               false,
               false,
               false,
               false,
               false,
               false,
               false,
               false,
               false,
               false,
               false,
               true,
               true,
               false,
               false,
               false,
               false,
               false,
               false,
               false,
               false,
               false,
               false,
               false,
               false,
               false,
               false,
               false,
               false,
               false,
               false,
               false,
               false,
               false,
               false,
               false,
               false,
               false,
               false,
               false,
               false
              ]
             },
             {
              "title": "Real vs Predicted Mood Values for Participant 13",
              "xaxis": {
               "title": "Day"
              },
              "yaxis": {
               "title": "Mood Value"
              }
             }
            ],
            "label": "13",
            "method": "update"
           },
           {
            "args": [
             {
              "visible": [
               false,
               false,
               false,
               false,
               false,
               false,
               false,
               false,
               false,
               false,
               false,
               false,
               false,
               false,
               false,
               false,
               false,
               false,
               false,
               false,
               true,
               true,
               false,
               false,
               false,
               false,
               false,
               false,
               false,
               false,
               false,
               false,
               false,
               false,
               false,
               false,
               false,
               false,
               false,
               false,
               false,
               false,
               false,
               false,
               false,
               false,
               false,
               false
              ]
             },
             {
              "title": "Real vs Predicted Mood Values for Participant 14",
              "xaxis": {
               "title": "Day"
              },
              "yaxis": {
               "title": "Mood Value"
              }
             }
            ],
            "label": "14",
            "method": "update"
           },
           {
            "args": [
             {
              "visible": [
               false,
               false,
               false,
               false,
               false,
               false,
               false,
               false,
               false,
               false,
               false,
               false,
               false,
               false,
               false,
               false,
               false,
               false,
               false,
               false,
               false,
               false,
               true,
               true,
               false,
               false,
               false,
               false,
               false,
               false,
               false,
               false,
               false,
               false,
               false,
               false,
               false,
               false,
               false,
               false,
               false,
               false,
               false,
               false,
               false,
               false,
               false,
               false
              ]
             },
             {
              "title": "Real vs Predicted Mood Values for Participant 15",
              "xaxis": {
               "title": "Day"
              },
              "yaxis": {
               "title": "Mood Value"
              }
             }
            ],
            "label": "15",
            "method": "update"
           },
           {
            "args": [
             {
              "visible": [
               false,
               false,
               false,
               false,
               false,
               false,
               false,
               false,
               false,
               false,
               false,
               false,
               false,
               false,
               false,
               false,
               false,
               false,
               false,
               false,
               false,
               false,
               false,
               false,
               true,
               true,
               false,
               false,
               false,
               false,
               false,
               false,
               false,
               false,
               false,
               false,
               false,
               false,
               false,
               false,
               false,
               false,
               false,
               false,
               false,
               false,
               false,
               false
              ]
             },
             {
              "title": "Real vs Predicted Mood Values for Participant 16",
              "xaxis": {
               "title": "Day"
              },
              "yaxis": {
               "title": "Mood Value"
              }
             }
            ],
            "label": "16",
            "method": "update"
           },
           {
            "args": [
             {
              "visible": [
               false,
               false,
               false,
               false,
               false,
               false,
               false,
               false,
               false,
               false,
               false,
               false,
               false,
               false,
               false,
               false,
               false,
               false,
               false,
               false,
               false,
               false,
               false,
               false,
               false,
               false,
               true,
               true,
               false,
               false,
               false,
               false,
               false,
               false,
               false,
               false,
               false,
               false,
               false,
               false,
               false,
               false,
               false,
               false,
               false,
               false,
               false,
               false
              ]
             },
             {
              "title": "Real vs Predicted Mood Values for Participant 17",
              "xaxis": {
               "title": "Day"
              },
              "yaxis": {
               "title": "Mood Value"
              }
             }
            ],
            "label": "17",
            "method": "update"
           },
           {
            "args": [
             {
              "visible": [
               false,
               false,
               false,
               false,
               false,
               false,
               false,
               false,
               false,
               false,
               false,
               false,
               false,
               false,
               false,
               false,
               false,
               false,
               false,
               false,
               false,
               false,
               false,
               false,
               false,
               false,
               false,
               false,
               true,
               true,
               false,
               false,
               false,
               false,
               false,
               false,
               false,
               false,
               false,
               false,
               false,
               false,
               false,
               false,
               false,
               false,
               false,
               false
              ]
             },
             {
              "title": "Real vs Predicted Mood Values for Participant 19",
              "xaxis": {
               "title": "Day"
              },
              "yaxis": {
               "title": "Mood Value"
              }
             }
            ],
            "label": "19",
            "method": "update"
           },
           {
            "args": [
             {
              "visible": [
               false,
               false,
               false,
               false,
               false,
               false,
               false,
               false,
               false,
               false,
               false,
               false,
               false,
               false,
               false,
               false,
               false,
               false,
               false,
               false,
               false,
               false,
               false,
               false,
               false,
               false,
               false,
               false,
               false,
               false,
               true,
               true,
               false,
               false,
               false,
               false,
               false,
               false,
               false,
               false,
               false,
               false,
               false,
               false,
               false,
               false,
               false,
               false
              ]
             },
             {
              "title": "Real vs Predicted Mood Values for Participant 20",
              "xaxis": {
               "title": "Day"
              },
              "yaxis": {
               "title": "Mood Value"
              }
             }
            ],
            "label": "20",
            "method": "update"
           },
           {
            "args": [
             {
              "visible": [
               false,
               false,
               false,
               false,
               false,
               false,
               false,
               false,
               false,
               false,
               false,
               false,
               false,
               false,
               false,
               false,
               false,
               false,
               false,
               false,
               false,
               false,
               false,
               false,
               false,
               false,
               false,
               false,
               false,
               false,
               false,
               false,
               true,
               true,
               false,
               false,
               false,
               false,
               false,
               false,
               false,
               false,
               false,
               false,
               false,
               false,
               false,
               false
              ]
             },
             {
              "title": "Real vs Predicted Mood Values for Participant 23",
              "xaxis": {
               "title": "Day"
              },
              "yaxis": {
               "title": "Mood Value"
              }
             }
            ],
            "label": "23",
            "method": "update"
           },
           {
            "args": [
             {
              "visible": [
               false,
               false,
               false,
               false,
               false,
               false,
               false,
               false,
               false,
               false,
               false,
               false,
               false,
               false,
               false,
               false,
               false,
               false,
               false,
               false,
               false,
               false,
               false,
               false,
               false,
               false,
               false,
               false,
               false,
               false,
               false,
               false,
               false,
               false,
               true,
               true,
               false,
               false,
               false,
               false,
               false,
               false,
               false,
               false,
               false,
               false,
               false,
               false
              ]
             },
             {
              "title": "Real vs Predicted Mood Values for Participant 24",
              "xaxis": {
               "title": "Day"
              },
              "yaxis": {
               "title": "Mood Value"
              }
             }
            ],
            "label": "24",
            "method": "update"
           },
           {
            "args": [
             {
              "visible": [
               false,
               false,
               false,
               false,
               false,
               false,
               false,
               false,
               false,
               false,
               false,
               false,
               false,
               false,
               false,
               false,
               false,
               false,
               false,
               false,
               false,
               false,
               false,
               false,
               false,
               false,
               false,
               false,
               false,
               false,
               false,
               false,
               false,
               false,
               false,
               false,
               true,
               true,
               false,
               false,
               false,
               false,
               false,
               false,
               false,
               false,
               false,
               false
              ]
             },
             {
              "title": "Real vs Predicted Mood Values for Participant 25",
              "xaxis": {
               "title": "Day"
              },
              "yaxis": {
               "title": "Mood Value"
              }
             }
            ],
            "label": "25",
            "method": "update"
           },
           {
            "args": [
             {
              "visible": [
               false,
               false,
               false,
               false,
               false,
               false,
               false,
               false,
               false,
               false,
               false,
               false,
               false,
               false,
               false,
               false,
               false,
               false,
               false,
               false,
               false,
               false,
               false,
               false,
               false,
               false,
               false,
               false,
               false,
               false,
               false,
               false,
               false,
               false,
               false,
               false,
               false,
               false,
               true,
               true,
               false,
               false,
               false,
               false,
               false,
               false,
               false,
               false
              ]
             },
             {
              "title": "Real vs Predicted Mood Values for Participant 26",
              "xaxis": {
               "title": "Day"
              },
              "yaxis": {
               "title": "Mood Value"
              }
             }
            ],
            "label": "26",
            "method": "update"
           },
           {
            "args": [
             {
              "visible": [
               false,
               false,
               false,
               false,
               false,
               false,
               false,
               false,
               false,
               false,
               false,
               false,
               false,
               false,
               false,
               false,
               false,
               false,
               false,
               false,
               false,
               false,
               false,
               false,
               false,
               false,
               false,
               false,
               false,
               false,
               false,
               false,
               false,
               false,
               false,
               false,
               false,
               false,
               false,
               false,
               true,
               true,
               false,
               false,
               false,
               false,
               false,
               false
              ]
             },
             {
              "title": "Real vs Predicted Mood Values for Participant 27",
              "xaxis": {
               "title": "Day"
              },
              "yaxis": {
               "title": "Mood Value"
              }
             }
            ],
            "label": "27",
            "method": "update"
           },
           {
            "args": [
             {
              "visible": [
               false,
               false,
               false,
               false,
               false,
               false,
               false,
               false,
               false,
               false,
               false,
               false,
               false,
               false,
               false,
               false,
               false,
               false,
               false,
               false,
               false,
               false,
               false,
               false,
               false,
               false,
               false,
               false,
               false,
               false,
               false,
               false,
               false,
               false,
               false,
               false,
               false,
               false,
               false,
               false,
               false,
               false,
               true,
               true,
               false,
               false,
               false,
               false
              ]
             },
             {
              "title": "Real vs Predicted Mood Values for Participant 28",
              "xaxis": {
               "title": "Day"
              },
              "yaxis": {
               "title": "Mood Value"
              }
             }
            ],
            "label": "28",
            "method": "update"
           },
           {
            "args": [
             {
              "visible": [
               false,
               false,
               false,
               false,
               false,
               false,
               false,
               false,
               false,
               false,
               false,
               false,
               false,
               false,
               false,
               false,
               false,
               false,
               false,
               false,
               false,
               false,
               false,
               false,
               false,
               false,
               false,
               false,
               false,
               false,
               false,
               false,
               false,
               false,
               false,
               false,
               false,
               false,
               false,
               false,
               false,
               false,
               false,
               false,
               true,
               true,
               false,
               false
              ]
             },
             {
              "title": "Real vs Predicted Mood Values for Participant 29",
              "xaxis": {
               "title": "Day"
              },
              "yaxis": {
               "title": "Mood Value"
              }
             }
            ],
            "label": "29",
            "method": "update"
           },
           {
            "args": [
             {
              "visible": [
               false,
               false,
               false,
               false,
               false,
               false,
               false,
               false,
               false,
               false,
               false,
               false,
               false,
               false,
               false,
               false,
               false,
               false,
               false,
               false,
               false,
               false,
               false,
               false,
               false,
               false,
               false,
               false,
               false,
               false,
               false,
               false,
               false,
               false,
               false,
               false,
               false,
               false,
               false,
               false,
               false,
               false,
               false,
               false,
               false,
               false,
               true,
               true
              ]
             },
             {
              "title": "Real vs Predicted Mood Values for Participant 30",
              "xaxis": {
               "title": "Day"
              },
              "yaxis": {
               "title": "Mood Value"
              }
             }
            ],
            "label": "30",
            "method": "update"
           }
          ],
          "showactive": true,
          "x": 1.1,
          "y": 1
         }
        ],
        "xaxis": {
         "title": {
          "text": "Day"
         }
        },
        "yaxis": {
         "title": {
          "text": "Mood Value"
         }
        }
       }
      }
     },
     "metadata": {},
     "output_type": "display_data"
    },
    {
     "name": "stdout",
     "output_type": "stream",
     "text": [
      "Target scaler mean: [6.99418132]\n",
      "Target scaler scale: [0.73072144]\n"
     ]
    },
    {
     "data": {
      "application/vnd.plotly.v1+json": {
       "config": {
        "plotlyServerURL": "https://plot.ly"
       },
       "data": [
        {
         "mode": "lines",
         "name": "Real (1)",
         "type": "scatter",
         "visible": true,
         "x": [
          "2014-05-01",
          "2014-05-02",
          "2014-05-03",
          "2014-05-04"
         ],
         "y": [
          12.83995246887207,
          12.547664642333984,
          12.83995246887207,
          12.83995246887207
         ]
        },
        {
         "mode": "lines",
         "name": "Predicted (1)",
         "type": "scatter",
         "visible": true,
         "x": [
          "2014-05-01",
          "2014-05-02",
          "2014-05-03",
          "2014-05-04"
         ],
         "y": [
          7.059650897979736,
          6.702620029449463,
          6.61799955368042,
          6.952486038208008
         ]
        },
        {
         "mode": "lines",
         "name": "Real (2)",
         "type": "scatter",
         "visible": false,
         "x": [
          "2014-04-17",
          "2014-04-18",
          "2014-04-19",
          "2014-04-20",
          "2014-04-21",
          "2014-04-22",
          "2014-04-23",
          "2014-04-24",
          "2014-04-25"
         ],
         "y": [
          11.743870735168457,
          11.134936332702637,
          11.01314926147461,
          12.109230995178223,
          13.570673942565918,
          12.109230995178223,
          12.657272338867188,
          12.401519775390625,
          12.291912078857422
         ]
        },
        {
         "mode": "lines",
         "name": "Predicted (2)",
         "type": "scatter",
         "visible": false,
         "x": [
          "2014-04-17",
          "2014-04-18",
          "2014-04-19",
          "2014-04-20",
          "2014-04-21",
          "2014-04-22",
          "2014-04-23",
          "2014-04-24",
          "2014-04-25"
         ],
         "y": [
          7.2160258293151855,
          6.240492343902588,
          6.796596527099609,
          7.103416919708252,
          7.397916316986084,
          7.190415859222412,
          7.793585777282715,
          7.678445816040039,
          7.651744842529297
         ]
        },
        {
         "mode": "lines",
         "name": "Real (3)",
         "type": "scatter",
         "visible": false,
         "x": [
          "2014-04-28",
          "2014-04-29",
          "2014-04-30",
          "2014-05-01",
          "2014-05-02",
          "2014-05-03",
          "2014-05-04",
          "2014-05-05",
          "2014-05-06",
          "2014-05-07"
         ],
         "y": [
          12.444145202636719,
          12.596379280090332,
          12.255375862121582,
          12.109230995178223,
          11.96308708190918,
          12.109230995178223,
          11.92655086517334,
          12.109230995178223,
          11.62208366394043,
          12.291912078857422
         ]
        },
        {
         "mode": "lines",
         "name": "Predicted (3)",
         "type": "scatter",
         "visible": false,
         "x": [
          "2014-04-28",
          "2014-04-29",
          "2014-04-30",
          "2014-05-01",
          "2014-05-02",
          "2014-05-03",
          "2014-05-04",
          "2014-05-05",
          "2014-05-06",
          "2014-05-07"
         ],
         "y": [
          7.6269025802612305,
          7.507379531860352,
          7.326419830322266,
          6.939738750457764,
          6.864951133728027,
          6.72445011138916,
          6.182439804077148,
          6.338030815124512,
          6.9103169441223145,
          6.555649280548096
         ]
        },
        {
         "mode": "lines",
         "name": "Real (5)",
         "type": "scatter",
         "visible": false,
         "x": [
          "2014-04-25",
          "2014-04-26",
          "2014-04-27",
          "2014-04-28",
          "2014-04-29",
          "2014-04-30",
          "2014-05-01",
          "2014-05-02",
          "2014-05-03",
          "2014-05-04",
          "2014-05-05"
         ],
         "y": [
          12.547664642333984,
          12.109230995178223,
          12.017890930175781,
          11.92655086517334,
          12.109230995178223,
          10.94007682800293,
          10.647788047790527,
          11.524654388427734,
          11.134936332702637,
          12.83995246887207,
          11.01314926147461
         ]
        },
        {
         "mode": "lines",
         "name": "Predicted (5)",
         "type": "scatter",
         "visible": false,
         "x": [
          "2014-04-25",
          "2014-04-26",
          "2014-04-27",
          "2014-04-28",
          "2014-04-29",
          "2014-04-30",
          "2014-05-01",
          "2014-05-02",
          "2014-05-03",
          "2014-05-04",
          "2014-05-05"
         ],
         "y": [
          6.938459873199463,
          6.666378021240234,
          6.597846508026123,
          6.7336344718933105,
          6.478032112121582,
          6.343259811401367,
          6.309683322906494,
          6.010948181152344,
          5.103861331939697,
          4.655984401702881,
          5.6341962814331055
         ]
        },
        {
         "mode": "lines",
         "name": "Real (6)",
         "type": "scatter",
         "visible": false,
         "x": [
          "2014-04-29",
          "2014-04-30",
          "2014-05-01",
          "2014-05-02",
          "2014-05-03",
          "2014-05-04",
          "2014-05-05",
          "2014-05-06",
          "2014-05-07",
          "2014-05-08"
         ],
         "y": [
          11.086221694946289,
          11.232365608215332,
          11.195829391479492,
          11.865657806396484,
          12.109230995178223,
          12.255375862121582,
          12.401519775390625,
          11.96308708190918,
          11.865657806396484,
          12.83995246887207
         ]
        },
        {
         "mode": "lines",
         "name": "Predicted (6)",
         "type": "scatter",
         "visible": false,
         "x": [
          "2014-04-29",
          "2014-04-30",
          "2014-05-01",
          "2014-05-02",
          "2014-05-03",
          "2014-05-04",
          "2014-05-05",
          "2014-05-06",
          "2014-05-07",
          "2014-05-08"
         ],
         "y": [
          6.30080509185791,
          5.8735737800598145,
          5.95606803894043,
          6.365337371826172,
          6.651381015777588,
          7.183830738067627,
          7.136340618133545,
          7.026640892028809,
          6.739039897918701,
          6.165905475616455
         ]
        },
        {
         "mode": "lines",
         "name": "Real (7)",
         "type": "scatter",
         "visible": false,
         "x": [
          "2014-04-26",
          "2014-04-27",
          "2014-04-28",
          "2014-04-29",
          "2014-04-30",
          "2014-05-01",
          "2014-05-02",
          "2014-05-03",
          "2014-05-04",
          "2014-05-05"
         ],
         "y": [
          12.474592208862305,
          12.547664642333984,
          12.657272338867188,
          11.816943168640137,
          11.378510475158691,
          11.816943168640137,
          11.086221694946289,
          10.501644134521484,
          11.378510475158691,
          12.596379280090332
         ]
        },
        {
         "mode": "lines",
         "name": "Predicted (7)",
         "type": "scatter",
         "visible": false,
         "x": [
          "2014-04-26",
          "2014-04-27",
          "2014-04-28",
          "2014-04-29",
          "2014-04-30",
          "2014-05-01",
          "2014-05-02",
          "2014-05-03",
          "2014-05-04",
          "2014-05-05"
         ],
         "y": [
          6.11358118057251,
          6.114566802978516,
          5.952691078186035,
          6.104531288146973,
          6.160180568695068,
          6.013725757598877,
          5.899019718170166,
          5.973429203033447,
          5.521824836730957,
          5.531582832336426
         ]
        },
        {
         "mode": "lines",
         "name": "Real (8)",
         "type": "scatter",
         "visible": false,
         "x": [
          "2014-04-23",
          "2014-04-24",
          "2014-04-25",
          "2014-04-26",
          "2014-04-27",
          "2014-04-28",
          "2014-04-29",
          "2014-04-30",
          "2014-05-01",
          "2014-05-02",
          "2014-05-03",
          "2014-05-04",
          "2014-05-05"
         ],
         "y": [
          13.205313682556152,
          12.71816635131836,
          13.083526611328125,
          12.83995246887207,
          12.291912078857422,
          12.83995246887207,
          12.83995246887207,
          11.378510475158691,
          11.865657806396484,
          11.96308708190918,
          11.96308708190918,
          12.109230995178223,
          12.109230995178223
         ]
        },
        {
         "mode": "lines",
         "name": "Predicted (8)",
         "type": "scatter",
         "visible": false,
         "x": [
          "2014-04-23",
          "2014-04-24",
          "2014-04-25",
          "2014-04-26",
          "2014-04-27",
          "2014-04-28",
          "2014-04-29",
          "2014-04-30",
          "2014-05-01",
          "2014-05-02",
          "2014-05-03",
          "2014-05-04",
          "2014-05-05"
         ],
         "y": [
          7.147026538848877,
          7.606581687927246,
          7.558903694152832,
          7.450434684753418,
          7.342191696166992,
          7.311746597290039,
          7.051314830780029,
          6.958281993865967,
          6.871386528015137,
          6.76218843460083,
          6.713029384613037,
          6.646474361419678,
          6.650383949279785
         ]
        },
        {
         "mode": "lines",
         "name": "Real (9)",
         "type": "scatter",
         "visible": false,
         "x": [
          "2014-04-26",
          "2014-04-27",
          "2014-04-28",
          "2014-04-29",
          "2014-04-30",
          "2014-05-01",
          "2014-05-02",
          "2014-05-03",
          "2014-05-04",
          "2014-05-05"
         ],
         "y": [
          12.109230995178223,
          11.96308708190918,
          12.109230995178223,
          12.109230995178223,
          12.109230995178223,
          12.109230995178223,
          12.109230995178223,
          12.255375862121582,
          12.109230995178223,
          12.109230995178223
         ]
        },
        {
         "mode": "lines",
         "name": "Predicted (9)",
         "type": "scatter",
         "visible": false,
         "x": [
          "2014-04-26",
          "2014-04-27",
          "2014-04-28",
          "2014-04-29",
          "2014-04-30",
          "2014-05-01",
          "2014-05-02",
          "2014-05-03",
          "2014-05-04",
          "2014-05-05"
         ],
         "y": [
          6.219278335571289,
          6.385989189147949,
          6.7364678382873535,
          6.8600616455078125,
          6.836620807647705,
          7.0687713623046875,
          6.722874164581299,
          6.649449348449707,
          6.484943389892578,
          6.7516913414001465
         ]
        },
        {
         "mode": "lines",
         "name": "Real (12)",
         "type": "scatter",
         "visible": false,
         "x": [
          "2014-04-28",
          "2014-04-29",
          "2014-04-30",
          "2014-05-01",
          "2014-05-02",
          "2014-05-03",
          "2014-05-04",
          "2014-05-05"
         ],
         "y": [
          12.83995246887207,
          12.474592208862305,
          12.109230995178223,
          12.352805137634277,
          12.291912078857422,
          11.92655086517334,
          12.109230995178223,
          12.109230995178223
         ]
        },
        {
         "mode": "lines",
         "name": "Predicted (12)",
         "type": "scatter",
         "visible": false,
         "x": [
          "2014-04-28",
          "2014-04-29",
          "2014-04-30",
          "2014-05-01",
          "2014-05-02",
          "2014-05-03",
          "2014-05-04",
          "2014-05-05"
         ],
         "y": [
          6.747640609741211,
          6.926283359527588,
          6.9532036781311035,
          6.736760139465332,
          6.820295810699463,
          6.8186354637146,
          6.488001823425293,
          6.507412433624268
         ]
        },
        {
         "mode": "lines",
         "name": "Real (13)",
         "type": "scatter",
         "visible": false,
         "x": [
          "2014-04-24",
          "2014-04-25",
          "2014-04-26",
          "2014-04-27",
          "2014-04-28",
          "2014-04-29",
          "2014-04-30",
          "2014-05-01",
          "2014-05-02",
          "2014-05-03",
          "2014-05-04"
         ],
         "y": [
          12.83995246887207,
          12.109230995178223,
          12.291912078857422,
          12.383252143859863,
          12.474592208862305,
          12.657272338867188,
          11.96308708190918,
          12.693808555603027,
          12.401519775390625,
          11.816943168640137,
          12.109230995178223
         ]
        },
        {
         "mode": "lines",
         "name": "Predicted (13)",
         "type": "scatter",
         "visible": false,
         "x": [
          "2014-04-24",
          "2014-04-25",
          "2014-04-26",
          "2014-04-27",
          "2014-04-28",
          "2014-04-29",
          "2014-04-30",
          "2014-05-01",
          "2014-05-02",
          "2014-05-03",
          "2014-05-04"
         ],
         "y": [
          6.777555465698242,
          6.638655662536621,
          7.113214492797852,
          7.308859825134277,
          6.856346607208252,
          6.688793182373047,
          6.702768802642822,
          6.972170829772949,
          6.966518878936768,
          6.759398937225342,
          6.515539169311523
         ]
        },
        {
         "mode": "lines",
         "name": "Real (14)",
         "type": "scatter",
         "visible": false,
         "x": [
          "2014-04-26",
          "2014-04-27",
          "2014-04-28",
          "2014-04-29",
          "2014-04-30",
          "2014-05-01",
          "2014-05-02",
          "2014-05-03",
          "2014-05-04",
          "2014-05-05"
         ],
         "y": [
          12.109230995178223,
          12.109230995178223,
          12.255375862121582,
          11.92655086517334,
          12.352805137634277,
          12.109230995178223,
          12.109230995178223,
          12.547664642333984,
          12.401519775390625,
          13.570673942565918
         ]
        },
        {
         "mode": "lines",
         "name": "Predicted (14)",
         "type": "scatter",
         "visible": false,
         "x": [
          "2014-04-26",
          "2014-04-27",
          "2014-04-28",
          "2014-04-29",
          "2014-04-30",
          "2014-05-01",
          "2014-05-02",
          "2014-05-03",
          "2014-05-04",
          "2014-05-05"
         ],
         "y": [
          6.4525651931762695,
          6.770813465118408,
          6.682474136352539,
          6.602109909057617,
          6.624064922332764,
          6.770724773406982,
          6.695988178253174,
          7.456861972808838,
          7.865363121032715,
          7.893995761871338
         ]
        },
        {
         "mode": "lines",
         "name": "Real (15)",
         "type": "scatter",
         "visible": false,
         "x": [
          "2014-04-27",
          "2014-04-28",
          "2014-04-29",
          "2014-04-30",
          "2014-05-01",
          "2014-05-02",
          "2014-05-03",
          "2014-05-04",
          "2014-05-05",
          "2014-05-06",
          "2014-05-07",
          "2014-05-08"
         ],
         "y": [
          11.816943168640137,
          11.92655086517334,
          12.693808555603027,
          12.109230995178223,
          12.109230995178223,
          12.474592208862305,
          12.83995246887207,
          11.743870735168457,
          11.743870735168457,
          11.96308708190918,
          12.109230995178223,
          12.401519775390625
         ]
        },
        {
         "mode": "lines",
         "name": "Predicted (15)",
         "type": "scatter",
         "visible": false,
         "x": [
          "2014-04-27",
          "2014-04-28",
          "2014-04-29",
          "2014-04-30",
          "2014-05-01",
          "2014-05-02",
          "2014-05-03",
          "2014-05-04",
          "2014-05-05",
          "2014-05-06",
          "2014-05-07",
          "2014-05-08"
         ],
         "y": [
          7.56553316116333,
          6.675825119018555,
          6.8211350440979,
          6.9612040519714355,
          6.962674140930176,
          7.03373908996582,
          6.996120452880859,
          6.673669815063477,
          6.525976181030273,
          6.609873294830322,
          7.002395153045654,
          7.415652275085449
         ]
        },
        {
         "mode": "lines",
         "name": "Real (16)",
         "type": "scatter",
         "visible": false,
         "x": [
          "2014-04-25",
          "2014-04-26",
          "2014-04-27",
          "2014-04-28",
          "2014-04-29",
          "2014-04-30",
          "2014-05-01",
          "2014-05-02",
          "2014-05-03",
          "2014-05-04",
          "2014-05-05"
         ],
         "y": [
          11.816943168640137,
          11.524654388427734,
          12.547664642333984,
          12.83995246887207,
          12.255375862121582,
          11.232365608215332,
          10.94007682800293,
          12.401519775390625,
          11.670798301696777,
          12.693808555603027,
          12.693808555603027
         ]
        },
        {
         "mode": "lines",
         "name": "Predicted (16)",
         "type": "scatter",
         "visible": false,
         "x": [
          "2014-04-25",
          "2014-04-26",
          "2014-04-27",
          "2014-04-28",
          "2014-04-29",
          "2014-04-30",
          "2014-05-01",
          "2014-05-02",
          "2014-05-03",
          "2014-05-04",
          "2014-05-05"
         ],
         "y": [
          6.408886909484863,
          6.419674396514893,
          6.592296123504639,
          6.789002418518066,
          7.0821027755737305,
          7.4460978507995605,
          7.134517669677734,
          7.372882843017578,
          6.47845458984375,
          6.337460041046143,
          7.960803031921387
         ]
        },
        {
         "mode": "lines",
         "name": "Real (17)",
         "type": "scatter",
         "visible": false,
         "x": [
          "2014-04-23",
          "2014-04-24",
          "2014-04-25",
          "2014-04-26",
          "2014-04-27",
          "2014-04-28",
          "2014-04-29",
          "2014-04-30",
          "2014-05-01",
          "2014-05-02",
          "2014-05-03",
          "2014-05-04",
          "2014-05-05"
         ],
         "y": [
          11.96308708190918,
          12.474592208862305,
          12.109230995178223,
          11.670798301696777,
          11.865657806396484,
          11.62208366394043,
          11.743870735168457,
          12.693808555603027,
          12.547664642333984,
          12.98609733581543,
          12.547664642333984,
          11.378510475158691,
          12.693808555603027
         ]
        },
        {
         "mode": "lines",
         "name": "Predicted (17)",
         "type": "scatter",
         "visible": false,
         "x": [
          "2014-04-23",
          "2014-04-24",
          "2014-04-25",
          "2014-04-26",
          "2014-04-27",
          "2014-04-28",
          "2014-04-29",
          "2014-04-30",
          "2014-05-01",
          "2014-05-02",
          "2014-05-03",
          "2014-05-04",
          "2014-05-05"
         ],
         "y": [
          7.225602626800537,
          6.809858322143555,
          7.059722900390625,
          7.215946197509766,
          7.5617828369140625,
          7.320530414581299,
          6.696208477020264,
          6.827437877655029,
          7.686816692352295,
          7.914326190948486,
          7.974339962005615,
          7.430682182312012,
          6.701778411865234
         ]
        },
        {
         "mode": "lines",
         "name": "Real (19)",
         "type": "scatter",
         "visible": false,
         "x": [
          "2014-04-26",
          "2014-04-27",
          "2014-04-28",
          "2014-04-29",
          "2014-04-30",
          "2014-05-01",
          "2014-05-02",
          "2014-05-03",
          "2014-05-04",
          "2014-05-05"
         ],
         "y": [
          12.98609733581543,
          12.83995246887207,
          12.693808555603027,
          12.693808555603027,
          12.83995246887207,
          11.92655086517334,
          12.109230995178223,
          12.109230995178223,
          12.109230995178223,
          12.109230995178223
         ]
        },
        {
         "mode": "lines",
         "name": "Predicted (19)",
         "type": "scatter",
         "visible": false,
         "x": [
          "2014-04-26",
          "2014-04-27",
          "2014-04-28",
          "2014-04-29",
          "2014-04-30",
          "2014-05-01",
          "2014-05-02",
          "2014-05-03",
          "2014-05-04",
          "2014-05-05"
         ],
         "y": [
          7.7594380378723145,
          7.873092174530029,
          7.8651123046875,
          7.887946605682373,
          7.823512554168701,
          7.673458099365234,
          7.191283702850342,
          7.2447428703308105,
          7.279461860656738,
          7.288422584533691
         ]
        },
        {
         "mode": "lines",
         "name": "Real (20)",
         "type": "scatter",
         "visible": false,
         "x": [
          "2014-04-26",
          "2014-04-27",
          "2014-04-28",
          "2014-04-29",
          "2014-04-30",
          "2014-05-01",
          "2014-05-02",
          "2014-05-03",
          "2014-05-04",
          "2014-05-05"
         ],
         "y": [
          13.32710075378418,
          12.657272338867188,
          12.291912078857422,
          12.255375862121582,
          12.255375862121582,
          11.195829391479492,
          11.524654388427734,
          12.98609733581543,
          12.109230995178223,
          11.96308708190918
         ]
        },
        {
         "mode": "lines",
         "name": "Predicted (20)",
         "type": "scatter",
         "visible": false,
         "x": [
          "2014-04-26",
          "2014-04-27",
          "2014-04-28",
          "2014-04-29",
          "2014-04-30",
          "2014-05-01",
          "2014-05-02",
          "2014-05-03",
          "2014-05-04",
          "2014-05-05"
         ],
         "y": [
          7.267035961151123,
          7.2629313468933105,
          7.722604274749756,
          7.794445514678955,
          7.420025825500488,
          7.128857612609863,
          6.082688331604004,
          6.3783369064331055,
          6.602273464202881,
          6.5685648918151855
         ]
        },
        {
         "mode": "lines",
         "name": "Real (23)",
         "type": "scatter",
         "visible": false,
         "x": [
          "2014-04-23"
         ],
         "y": [
          12.109230995178223
         ]
        },
        {
         "mode": "lines",
         "name": "Predicted (23)",
         "type": "scatter",
         "visible": false,
         "x": [
          "2014-04-23"
         ],
         "y": [
          6.830245494842529
         ]
        }
       ],
       "layout": {
        "template": {
         "data": {
          "bar": [
           {
            "error_x": {
             "color": "#2a3f5f"
            },
            "error_y": {
             "color": "#2a3f5f"
            },
            "marker": {
             "line": {
              "color": "#E5ECF6",
              "width": 0.5
             },
             "pattern": {
              "fillmode": "overlay",
              "size": 10,
              "solidity": 0.2
             }
            },
            "type": "bar"
           }
          ],
          "barpolar": [
           {
            "marker": {
             "line": {
              "color": "#E5ECF6",
              "width": 0.5
             },
             "pattern": {
              "fillmode": "overlay",
              "size": 10,
              "solidity": 0.2
             }
            },
            "type": "barpolar"
           }
          ],
          "carpet": [
           {
            "aaxis": {
             "endlinecolor": "#2a3f5f",
             "gridcolor": "white",
             "linecolor": "white",
             "minorgridcolor": "white",
             "startlinecolor": "#2a3f5f"
            },
            "baxis": {
             "endlinecolor": "#2a3f5f",
             "gridcolor": "white",
             "linecolor": "white",
             "minorgridcolor": "white",
             "startlinecolor": "#2a3f5f"
            },
            "type": "carpet"
           }
          ],
          "choropleth": [
           {
            "colorbar": {
             "outlinewidth": 0,
             "ticks": ""
            },
            "type": "choropleth"
           }
          ],
          "contour": [
           {
            "colorbar": {
             "outlinewidth": 0,
             "ticks": ""
            },
            "colorscale": [
             [
              0,
              "#0d0887"
             ],
             [
              0.1111111111111111,
              "#46039f"
             ],
             [
              0.2222222222222222,
              "#7201a8"
             ],
             [
              0.3333333333333333,
              "#9c179e"
             ],
             [
              0.4444444444444444,
              "#bd3786"
             ],
             [
              0.5555555555555556,
              "#d8576b"
             ],
             [
              0.6666666666666666,
              "#ed7953"
             ],
             [
              0.7777777777777778,
              "#fb9f3a"
             ],
             [
              0.8888888888888888,
              "#fdca26"
             ],
             [
              1,
              "#f0f921"
             ]
            ],
            "type": "contour"
           }
          ],
          "contourcarpet": [
           {
            "colorbar": {
             "outlinewidth": 0,
             "ticks": ""
            },
            "type": "contourcarpet"
           }
          ],
          "heatmap": [
           {
            "colorbar": {
             "outlinewidth": 0,
             "ticks": ""
            },
            "colorscale": [
             [
              0,
              "#0d0887"
             ],
             [
              0.1111111111111111,
              "#46039f"
             ],
             [
              0.2222222222222222,
              "#7201a8"
             ],
             [
              0.3333333333333333,
              "#9c179e"
             ],
             [
              0.4444444444444444,
              "#bd3786"
             ],
             [
              0.5555555555555556,
              "#d8576b"
             ],
             [
              0.6666666666666666,
              "#ed7953"
             ],
             [
              0.7777777777777778,
              "#fb9f3a"
             ],
             [
              0.8888888888888888,
              "#fdca26"
             ],
             [
              1,
              "#f0f921"
             ]
            ],
            "type": "heatmap"
           }
          ],
          "heatmapgl": [
           {
            "colorbar": {
             "outlinewidth": 0,
             "ticks": ""
            },
            "colorscale": [
             [
              0,
              "#0d0887"
             ],
             [
              0.1111111111111111,
              "#46039f"
             ],
             [
              0.2222222222222222,
              "#7201a8"
             ],
             [
              0.3333333333333333,
              "#9c179e"
             ],
             [
              0.4444444444444444,
              "#bd3786"
             ],
             [
              0.5555555555555556,
              "#d8576b"
             ],
             [
              0.6666666666666666,
              "#ed7953"
             ],
             [
              0.7777777777777778,
              "#fb9f3a"
             ],
             [
              0.8888888888888888,
              "#fdca26"
             ],
             [
              1,
              "#f0f921"
             ]
            ],
            "type": "heatmapgl"
           }
          ],
          "histogram": [
           {
            "marker": {
             "pattern": {
              "fillmode": "overlay",
              "size": 10,
              "solidity": 0.2
             }
            },
            "type": "histogram"
           }
          ],
          "histogram2d": [
           {
            "colorbar": {
             "outlinewidth": 0,
             "ticks": ""
            },
            "colorscale": [
             [
              0,
              "#0d0887"
             ],
             [
              0.1111111111111111,
              "#46039f"
             ],
             [
              0.2222222222222222,
              "#7201a8"
             ],
             [
              0.3333333333333333,
              "#9c179e"
             ],
             [
              0.4444444444444444,
              "#bd3786"
             ],
             [
              0.5555555555555556,
              "#d8576b"
             ],
             [
              0.6666666666666666,
              "#ed7953"
             ],
             [
              0.7777777777777778,
              "#fb9f3a"
             ],
             [
              0.8888888888888888,
              "#fdca26"
             ],
             [
              1,
              "#f0f921"
             ]
            ],
            "type": "histogram2d"
           }
          ],
          "histogram2dcontour": [
           {
            "colorbar": {
             "outlinewidth": 0,
             "ticks": ""
            },
            "colorscale": [
             [
              0,
              "#0d0887"
             ],
             [
              0.1111111111111111,
              "#46039f"
             ],
             [
              0.2222222222222222,
              "#7201a8"
             ],
             [
              0.3333333333333333,
              "#9c179e"
             ],
             [
              0.4444444444444444,
              "#bd3786"
             ],
             [
              0.5555555555555556,
              "#d8576b"
             ],
             [
              0.6666666666666666,
              "#ed7953"
             ],
             [
              0.7777777777777778,
              "#fb9f3a"
             ],
             [
              0.8888888888888888,
              "#fdca26"
             ],
             [
              1,
              "#f0f921"
             ]
            ],
            "type": "histogram2dcontour"
           }
          ],
          "mesh3d": [
           {
            "colorbar": {
             "outlinewidth": 0,
             "ticks": ""
            },
            "type": "mesh3d"
           }
          ],
          "parcoords": [
           {
            "line": {
             "colorbar": {
              "outlinewidth": 0,
              "ticks": ""
             }
            },
            "type": "parcoords"
           }
          ],
          "pie": [
           {
            "automargin": true,
            "type": "pie"
           }
          ],
          "scatter": [
           {
            "fillpattern": {
             "fillmode": "overlay",
             "size": 10,
             "solidity": 0.2
            },
            "type": "scatter"
           }
          ],
          "scatter3d": [
           {
            "line": {
             "colorbar": {
              "outlinewidth": 0,
              "ticks": ""
             }
            },
            "marker": {
             "colorbar": {
              "outlinewidth": 0,
              "ticks": ""
             }
            },
            "type": "scatter3d"
           }
          ],
          "scattercarpet": [
           {
            "marker": {
             "colorbar": {
              "outlinewidth": 0,
              "ticks": ""
             }
            },
            "type": "scattercarpet"
           }
          ],
          "scattergeo": [
           {
            "marker": {
             "colorbar": {
              "outlinewidth": 0,
              "ticks": ""
             }
            },
            "type": "scattergeo"
           }
          ],
          "scattergl": [
           {
            "marker": {
             "colorbar": {
              "outlinewidth": 0,
              "ticks": ""
             }
            },
            "type": "scattergl"
           }
          ],
          "scattermapbox": [
           {
            "marker": {
             "colorbar": {
              "outlinewidth": 0,
              "ticks": ""
             }
            },
            "type": "scattermapbox"
           }
          ],
          "scatterpolar": [
           {
            "marker": {
             "colorbar": {
              "outlinewidth": 0,
              "ticks": ""
             }
            },
            "type": "scatterpolar"
           }
          ],
          "scatterpolargl": [
           {
            "marker": {
             "colorbar": {
              "outlinewidth": 0,
              "ticks": ""
             }
            },
            "type": "scatterpolargl"
           }
          ],
          "scatterternary": [
           {
            "marker": {
             "colorbar": {
              "outlinewidth": 0,
              "ticks": ""
             }
            },
            "type": "scatterternary"
           }
          ],
          "surface": [
           {
            "colorbar": {
             "outlinewidth": 0,
             "ticks": ""
            },
            "colorscale": [
             [
              0,
              "#0d0887"
             ],
             [
              0.1111111111111111,
              "#46039f"
             ],
             [
              0.2222222222222222,
              "#7201a8"
             ],
             [
              0.3333333333333333,
              "#9c179e"
             ],
             [
              0.4444444444444444,
              "#bd3786"
             ],
             [
              0.5555555555555556,
              "#d8576b"
             ],
             [
              0.6666666666666666,
              "#ed7953"
             ],
             [
              0.7777777777777778,
              "#fb9f3a"
             ],
             [
              0.8888888888888888,
              "#fdca26"
             ],
             [
              1,
              "#f0f921"
             ]
            ],
            "type": "surface"
           }
          ],
          "table": [
           {
            "cells": {
             "fill": {
              "color": "#EBF0F8"
             },
             "line": {
              "color": "white"
             }
            },
            "header": {
             "fill": {
              "color": "#C8D4E3"
             },
             "line": {
              "color": "white"
             }
            },
            "type": "table"
           }
          ]
         },
         "layout": {
          "annotationdefaults": {
           "arrowcolor": "#2a3f5f",
           "arrowhead": 0,
           "arrowwidth": 1
          },
          "autotypenumbers": "strict",
          "coloraxis": {
           "colorbar": {
            "outlinewidth": 0,
            "ticks": ""
           }
          },
          "colorscale": {
           "diverging": [
            [
             0,
             "#8e0152"
            ],
            [
             0.1,
             "#c51b7d"
            ],
            [
             0.2,
             "#de77ae"
            ],
            [
             0.3,
             "#f1b6da"
            ],
            [
             0.4,
             "#fde0ef"
            ],
            [
             0.5,
             "#f7f7f7"
            ],
            [
             0.6,
             "#e6f5d0"
            ],
            [
             0.7,
             "#b8e186"
            ],
            [
             0.8,
             "#7fbc41"
            ],
            [
             0.9,
             "#4d9221"
            ],
            [
             1,
             "#276419"
            ]
           ],
           "sequential": [
            [
             0,
             "#0d0887"
            ],
            [
             0.1111111111111111,
             "#46039f"
            ],
            [
             0.2222222222222222,
             "#7201a8"
            ],
            [
             0.3333333333333333,
             "#9c179e"
            ],
            [
             0.4444444444444444,
             "#bd3786"
            ],
            [
             0.5555555555555556,
             "#d8576b"
            ],
            [
             0.6666666666666666,
             "#ed7953"
            ],
            [
             0.7777777777777778,
             "#fb9f3a"
            ],
            [
             0.8888888888888888,
             "#fdca26"
            ],
            [
             1,
             "#f0f921"
            ]
           ],
           "sequentialminus": [
            [
             0,
             "#0d0887"
            ],
            [
             0.1111111111111111,
             "#46039f"
            ],
            [
             0.2222222222222222,
             "#7201a8"
            ],
            [
             0.3333333333333333,
             "#9c179e"
            ],
            [
             0.4444444444444444,
             "#bd3786"
            ],
            [
             0.5555555555555556,
             "#d8576b"
            ],
            [
             0.6666666666666666,
             "#ed7953"
            ],
            [
             0.7777777777777778,
             "#fb9f3a"
            ],
            [
             0.8888888888888888,
             "#fdca26"
            ],
            [
             1,
             "#f0f921"
            ]
           ]
          },
          "colorway": [
           "#636efa",
           "#EF553B",
           "#00cc96",
           "#ab63fa",
           "#FFA15A",
           "#19d3f3",
           "#FF6692",
           "#B6E880",
           "#FF97FF",
           "#FECB52"
          ],
          "font": {
           "color": "#2a3f5f"
          },
          "geo": {
           "bgcolor": "white",
           "lakecolor": "white",
           "landcolor": "#E5ECF6",
           "showlakes": true,
           "showland": true,
           "subunitcolor": "white"
          },
          "hoverlabel": {
           "align": "left"
          },
          "hovermode": "closest",
          "mapbox": {
           "style": "light"
          },
          "paper_bgcolor": "white",
          "plot_bgcolor": "#E5ECF6",
          "polar": {
           "angularaxis": {
            "gridcolor": "white",
            "linecolor": "white",
            "ticks": ""
           },
           "bgcolor": "#E5ECF6",
           "radialaxis": {
            "gridcolor": "white",
            "linecolor": "white",
            "ticks": ""
           }
          },
          "scene": {
           "xaxis": {
            "backgroundcolor": "#E5ECF6",
            "gridcolor": "white",
            "gridwidth": 2,
            "linecolor": "white",
            "showbackground": true,
            "ticks": "",
            "zerolinecolor": "white"
           },
           "yaxis": {
            "backgroundcolor": "#E5ECF6",
            "gridcolor": "white",
            "gridwidth": 2,
            "linecolor": "white",
            "showbackground": true,
            "ticks": "",
            "zerolinecolor": "white"
           },
           "zaxis": {
            "backgroundcolor": "#E5ECF6",
            "gridcolor": "white",
            "gridwidth": 2,
            "linecolor": "white",
            "showbackground": true,
            "ticks": "",
            "zerolinecolor": "white"
           }
          },
          "shapedefaults": {
           "line": {
            "color": "#2a3f5f"
           }
          },
          "ternary": {
           "aaxis": {
            "gridcolor": "white",
            "linecolor": "white",
            "ticks": ""
           },
           "baxis": {
            "gridcolor": "white",
            "linecolor": "white",
            "ticks": ""
           },
           "bgcolor": "#E5ECF6",
           "caxis": {
            "gridcolor": "white",
            "linecolor": "white",
            "ticks": ""
           }
          },
          "title": {
           "x": 0.05
          },
          "xaxis": {
           "automargin": true,
           "gridcolor": "white",
           "linecolor": "white",
           "ticks": "",
           "title": {
            "standoff": 15
           },
           "zerolinecolor": "white",
           "zerolinewidth": 2
          },
          "yaxis": {
           "automargin": true,
           "gridcolor": "white",
           "linecolor": "white",
           "ticks": "",
           "title": {
            "standoff": 15
           },
           "zerolinecolor": "white",
           "zerolinewidth": 2
          }
         }
        },
        "title": {
         "text": "Real vs Predicted Mood Values for Participant 1"
        },
        "updatemenus": [
         {
          "active": 0,
          "buttons": [
           {
            "args": [
             {
              "visible": [
               true,
               true,
               false,
               false,
               false,
               false,
               false,
               false,
               false,
               false,
               false,
               false,
               false,
               false,
               false,
               false,
               false,
               false,
               false,
               false,
               false,
               false,
               false,
               false,
               false,
               false,
               false,
               false,
               false,
               false,
               false,
               false,
               false,
               false
              ]
             },
             {
              "title": "Real vs Predicted Mood Values for Participant 1",
              "xaxis": {
               "title": "Day"
              },
              "yaxis": {
               "title": "Mood Value"
              }
             }
            ],
            "label": "1",
            "method": "update"
           },
           {
            "args": [
             {
              "visible": [
               false,
               false,
               true,
               true,
               false,
               false,
               false,
               false,
               false,
               false,
               false,
               false,
               false,
               false,
               false,
               false,
               false,
               false,
               false,
               false,
               false,
               false,
               false,
               false,
               false,
               false,
               false,
               false,
               false,
               false,
               false,
               false,
               false,
               false
              ]
             },
             {
              "title": "Real vs Predicted Mood Values for Participant 2",
              "xaxis": {
               "title": "Day"
              },
              "yaxis": {
               "title": "Mood Value"
              }
             }
            ],
            "label": "2",
            "method": "update"
           },
           {
            "args": [
             {
              "visible": [
               false,
               false,
               false,
               false,
               true,
               true,
               false,
               false,
               false,
               false,
               false,
               false,
               false,
               false,
               false,
               false,
               false,
               false,
               false,
               false,
               false,
               false,
               false,
               false,
               false,
               false,
               false,
               false,
               false,
               false,
               false,
               false,
               false,
               false
              ]
             },
             {
              "title": "Real vs Predicted Mood Values for Participant 3",
              "xaxis": {
               "title": "Day"
              },
              "yaxis": {
               "title": "Mood Value"
              }
             }
            ],
            "label": "3",
            "method": "update"
           },
           {
            "args": [
             {
              "visible": [
               false,
               false,
               false,
               false,
               false,
               false,
               true,
               true,
               false,
               false,
               false,
               false,
               false,
               false,
               false,
               false,
               false,
               false,
               false,
               false,
               false,
               false,
               false,
               false,
               false,
               false,
               false,
               false,
               false,
               false,
               false,
               false,
               false,
               false
              ]
             },
             {
              "title": "Real vs Predicted Mood Values for Participant 5",
              "xaxis": {
               "title": "Day"
              },
              "yaxis": {
               "title": "Mood Value"
              }
             }
            ],
            "label": "5",
            "method": "update"
           },
           {
            "args": [
             {
              "visible": [
               false,
               false,
               false,
               false,
               false,
               false,
               false,
               false,
               true,
               true,
               false,
               false,
               false,
               false,
               false,
               false,
               false,
               false,
               false,
               false,
               false,
               false,
               false,
               false,
               false,
               false,
               false,
               false,
               false,
               false,
               false,
               false,
               false,
               false
              ]
             },
             {
              "title": "Real vs Predicted Mood Values for Participant 6",
              "xaxis": {
               "title": "Day"
              },
              "yaxis": {
               "title": "Mood Value"
              }
             }
            ],
            "label": "6",
            "method": "update"
           },
           {
            "args": [
             {
              "visible": [
               false,
               false,
               false,
               false,
               false,
               false,
               false,
               false,
               false,
               false,
               true,
               true,
               false,
               false,
               false,
               false,
               false,
               false,
               false,
               false,
               false,
               false,
               false,
               false,
               false,
               false,
               false,
               false,
               false,
               false,
               false,
               false,
               false,
               false
              ]
             },
             {
              "title": "Real vs Predicted Mood Values for Participant 7",
              "xaxis": {
               "title": "Day"
              },
              "yaxis": {
               "title": "Mood Value"
              }
             }
            ],
            "label": "7",
            "method": "update"
           },
           {
            "args": [
             {
              "visible": [
               false,
               false,
               false,
               false,
               false,
               false,
               false,
               false,
               false,
               false,
               false,
               false,
               true,
               true,
               false,
               false,
               false,
               false,
               false,
               false,
               false,
               false,
               false,
               false,
               false,
               false,
               false,
               false,
               false,
               false,
               false,
               false,
               false,
               false
              ]
             },
             {
              "title": "Real vs Predicted Mood Values for Participant 8",
              "xaxis": {
               "title": "Day"
              },
              "yaxis": {
               "title": "Mood Value"
              }
             }
            ],
            "label": "8",
            "method": "update"
           },
           {
            "args": [
             {
              "visible": [
               false,
               false,
               false,
               false,
               false,
               false,
               false,
               false,
               false,
               false,
               false,
               false,
               false,
               false,
               true,
               true,
               false,
               false,
               false,
               false,
               false,
               false,
               false,
               false,
               false,
               false,
               false,
               false,
               false,
               false,
               false,
               false,
               false,
               false
              ]
             },
             {
              "title": "Real vs Predicted Mood Values for Participant 9",
              "xaxis": {
               "title": "Day"
              },
              "yaxis": {
               "title": "Mood Value"
              }
             }
            ],
            "label": "9",
            "method": "update"
           },
           {
            "args": [
             {
              "visible": [
               false,
               false,
               false,
               false,
               false,
               false,
               false,
               false,
               false,
               false,
               false,
               false,
               false,
               false,
               false,
               false,
               true,
               true,
               false,
               false,
               false,
               false,
               false,
               false,
               false,
               false,
               false,
               false,
               false,
               false,
               false,
               false,
               false,
               false
              ]
             },
             {
              "title": "Real vs Predicted Mood Values for Participant 12",
              "xaxis": {
               "title": "Day"
              },
              "yaxis": {
               "title": "Mood Value"
              }
             }
            ],
            "label": "12",
            "method": "update"
           },
           {
            "args": [
             {
              "visible": [
               false,
               false,
               false,
               false,
               false,
               false,
               false,
               false,
               false,
               false,
               false,
               false,
               false,
               false,
               false,
               false,
               false,
               false,
               true,
               true,
               false,
               false,
               false,
               false,
               false,
               false,
               false,
               false,
               false,
               false,
               false,
               false,
               false,
               false
              ]
             },
             {
              "title": "Real vs Predicted Mood Values for Participant 13",
              "xaxis": {
               "title": "Day"
              },
              "yaxis": {
               "title": "Mood Value"
              }
             }
            ],
            "label": "13",
            "method": "update"
           },
           {
            "args": [
             {
              "visible": [
               false,
               false,
               false,
               false,
               false,
               false,
               false,
               false,
               false,
               false,
               false,
               false,
               false,
               false,
               false,
               false,
               false,
               false,
               false,
               false,
               true,
               true,
               false,
               false,
               false,
               false,
               false,
               false,
               false,
               false,
               false,
               false,
               false,
               false
              ]
             },
             {
              "title": "Real vs Predicted Mood Values for Participant 14",
              "xaxis": {
               "title": "Day"
              },
              "yaxis": {
               "title": "Mood Value"
              }
             }
            ],
            "label": "14",
            "method": "update"
           },
           {
            "args": [
             {
              "visible": [
               false,
               false,
               false,
               false,
               false,
               false,
               false,
               false,
               false,
               false,
               false,
               false,
               false,
               false,
               false,
               false,
               false,
               false,
               false,
               false,
               false,
               false,
               true,
               true,
               false,
               false,
               false,
               false,
               false,
               false,
               false,
               false,
               false,
               false
              ]
             },
             {
              "title": "Real vs Predicted Mood Values for Participant 15",
              "xaxis": {
               "title": "Day"
              },
              "yaxis": {
               "title": "Mood Value"
              }
             }
            ],
            "label": "15",
            "method": "update"
           },
           {
            "args": [
             {
              "visible": [
               false,
               false,
               false,
               false,
               false,
               false,
               false,
               false,
               false,
               false,
               false,
               false,
               false,
               false,
               false,
               false,
               false,
               false,
               false,
               false,
               false,
               false,
               false,
               false,
               true,
               true,
               false,
               false,
               false,
               false,
               false,
               false,
               false,
               false
              ]
             },
             {
              "title": "Real vs Predicted Mood Values for Participant 16",
              "xaxis": {
               "title": "Day"
              },
              "yaxis": {
               "title": "Mood Value"
              }
             }
            ],
            "label": "16",
            "method": "update"
           },
           {
            "args": [
             {
              "visible": [
               false,
               false,
               false,
               false,
               false,
               false,
               false,
               false,
               false,
               false,
               false,
               false,
               false,
               false,
               false,
               false,
               false,
               false,
               false,
               false,
               false,
               false,
               false,
               false,
               false,
               false,
               true,
               true,
               false,
               false,
               false,
               false,
               false,
               false
              ]
             },
             {
              "title": "Real vs Predicted Mood Values for Participant 17",
              "xaxis": {
               "title": "Day"
              },
              "yaxis": {
               "title": "Mood Value"
              }
             }
            ],
            "label": "17",
            "method": "update"
           },
           {
            "args": [
             {
              "visible": [
               false,
               false,
               false,
               false,
               false,
               false,
               false,
               false,
               false,
               false,
               false,
               false,
               false,
               false,
               false,
               false,
               false,
               false,
               false,
               false,
               false,
               false,
               false,
               false,
               false,
               false,
               false,
               false,
               true,
               true,
               false,
               false,
               false,
               false
              ]
             },
             {
              "title": "Real vs Predicted Mood Values for Participant 19",
              "xaxis": {
               "title": "Day"
              },
              "yaxis": {
               "title": "Mood Value"
              }
             }
            ],
            "label": "19",
            "method": "update"
           },
           {
            "args": [
             {
              "visible": [
               false,
               false,
               false,
               false,
               false,
               false,
               false,
               false,
               false,
               false,
               false,
               false,
               false,
               false,
               false,
               false,
               false,
               false,
               false,
               false,
               false,
               false,
               false,
               false,
               false,
               false,
               false,
               false,
               false,
               false,
               true,
               true,
               false,
               false
              ]
             },
             {
              "title": "Real vs Predicted Mood Values for Participant 20",
              "xaxis": {
               "title": "Day"
              },
              "yaxis": {
               "title": "Mood Value"
              }
             }
            ],
            "label": "20",
            "method": "update"
           },
           {
            "args": [
             {
              "visible": [
               false,
               false,
               false,
               false,
               false,
               false,
               false,
               false,
               false,
               false,
               false,
               false,
               false,
               false,
               false,
               false,
               false,
               false,
               false,
               false,
               false,
               false,
               false,
               false,
               false,
               false,
               false,
               false,
               false,
               false,
               false,
               false,
               true,
               true
              ]
             },
             {
              "title": "Real vs Predicted Mood Values for Participant 23",
              "xaxis": {
               "title": "Day"
              },
              "yaxis": {
               "title": "Mood Value"
              }
             }
            ],
            "label": "23",
            "method": "update"
           }
          ],
          "showactive": true,
          "x": 1.1,
          "y": 1
         }
        ],
        "xaxis": {
         "title": {
          "text": "Day"
         }
        },
        "yaxis": {
         "title": {
          "text": "Mood Value"
         }
        }
       }
      }
     },
     "metadata": {},
     "output_type": "display_data"
    }
   ],
   "source": [
    "# Call the function to predict and plot\n",
    "predict_and_plot(model, train_loader, train_dataset, target_scaler=scaler_target, show_plot=True, save_html=True, title=\"train\")\n",
    "predict_and_plot(model, test_loader, test_dataset, target_scaler=scaler_target, show_plot=True, save_html=True, title=\"test\")"
   ]
  },
  {
   "cell_type": "code",
   "execution_count": null,
   "metadata": {},
   "outputs": [],
   "source": []
  }
 ],
 "metadata": {
  "kernelspec": {
   "display_name": "datascience",
   "language": "python",
   "name": "python3"
  },
  "language_info": {
   "codemirror_mode": {
    "name": "ipython",
    "version": 3
   },
   "file_extension": ".py",
   "mimetype": "text/x-python",
   "name": "python",
   "nbconvert_exporter": "python",
   "pygments_lexer": "ipython3",
   "version": "3.10.16"
  }
 },
 "nbformat": 4,
 "nbformat_minor": 2
}
