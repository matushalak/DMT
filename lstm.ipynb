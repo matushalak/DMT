{
 "cells": [
  {
   "cell_type": "markdown",
   "metadata": {},
   "source": [
    "# MODELING"
   ]
  },
  {
   "cell_type": "code",
   "execution_count": 2,
   "metadata": {},
   "outputs": [],
   "source": [
    "import numpy as np\n",
    "import matplotlib.pyplot as plt\n",
    "import scipy.stats as stats\n",
    "import seaborn as sns\n",
    "import pandas as pd\n",
    "import os\n",
    "import plotly.graph_objects as go\n",
    "from plotly.subplots import make_subplots\n",
    "import itertools\n",
    "\n",
    "import torch\n",
    "from torch.utils.data import DataLoader, Dataset\n",
    "from sklearn.model_selection import train_test_split\n",
    "from sklearn.preprocessing import StandardScaler, MinMaxScaler\n",
    "from torch import nn\n",
    "import torch.optim as optim"
   ]
  },
  {
   "cell_type": "markdown",
   "metadata": {},
   "source": [
    "#### Add Mac acceleration"
   ]
  },
  {
   "cell_type": "code",
   "execution_count": 3,
   "metadata": {},
   "outputs": [
    {
     "name": "stdout",
     "output_type": "stream",
     "text": [
      "tensor([1.], device='mps:0')\n"
     ]
    }
   ],
   "source": [
    "if torch.backends.mps.is_available():\n",
    "    mps_device = torch.device(\"mps\")\n",
    "    x = torch.ones(1, device=mps_device)\n",
    "    print (x)\n",
    "else:\n",
    "    print (\"MPS device not found.\")"
   ]
  },
  {
   "cell_type": "markdown",
   "metadata": {},
   "source": [
    "### Dataset class"
   ]
  },
  {
   "cell_type": "code",
   "execution_count": 4,
   "metadata": {},
   "outputs": [],
   "source": [
    "class MultiParticipantDataset(Dataset):\n",
    "    def __init__(self, df, seq_length, target_col='mood', id_col='id_num', include_target_in_features=True):\n",
    "        \"\"\"\n",
    "        df: pandas DataFrame sorted by time.\n",
    "        seq_length: number of time steps in each sample.\n",
    "        target_col: the column we want to predict.\n",
    "        \"\"\"\n",
    "        df = df.drop(columns=[\"next_day\", \"next_day_mood\", \"date\"])\n",
    "        \n",
    "        self.seq_length = seq_length\n",
    "        self.target_col = target_col\n",
    "        self.id_col = id_col\n",
    "        \n",
    "        df.sort_values(by=[id_col, 'day'], inplace=True)\n",
    "        self.data = df.reset_index(drop=True)\n",
    "\n",
    "        if include_target_in_features:\n",
    "            self.features = [col for col in self.data.columns if col not in [target_col, \"day\"]]\n",
    "        else:\n",
    "            self.features = [col for col in self.data.columns if col not in [target_col, id_col, \"day\"]]\n",
    "\n",
    "        # Precompute valid indices where the sequence is within the same participant.\n",
    "        self.valid_indices = []\n",
    "        for i in range(len(self.data) - self.seq_length):\n",
    "            participant_id = self.data.iloc[i][self.id_col]\n",
    "            if all(self.data.iloc[i:i+self.seq_length][self.id_col] == participant_id):\n",
    "                self.valid_indices.append(i)\n",
    "\n",
    "    def __len__(self):\n",
    "        return len(self.valid_indices)\n",
    "\n",
    "    def __getitem__(self, idx):\n",
    "        # Use precomputed valid index.\n",
    "        real_idx = self.valid_indices[idx]\n",
    "        row = self.data.iloc[real_idx]\n",
    "        participant_id = row[self.id_col]\n",
    "        \n",
    "        x_features = self.data.iloc[real_idx:real_idx+self.seq_length][self.features].values.astype(np.float32)\n",
    "        x_id = np.array([participant_id] * self.seq_length, dtype=np.int64)\n",
    "        \n",
    "        # The target is the next time step's mood\n",
    "        y = self.data.iloc[real_idx+self.seq_length][self.target_col]\n",
    "        \n",
    "        return torch.tensor(x_features),torch.tensor(x_id), torch.tensor(y).float()\n"
   ]
  },
  {
   "cell_type": "markdown",
   "metadata": {},
   "source": [
    "### Load df"
   ]
  },
  {
   "cell_type": "code",
   "execution_count": 5,
   "metadata": {},
   "outputs": [],
   "source": [
    "df_interpolated = pd.read_csv(\"tables/preprocessed/df_interpolated.csv\")"
   ]
  },
  {
   "cell_type": "markdown",
   "metadata": {},
   "source": [
    "### Train test split"
   ]
  },
  {
   "cell_type": "code",
   "execution_count": 6,
   "metadata": {},
   "outputs": [
    {
     "name": "stdout",
     "output_type": "stream",
     "text": [
      "Train mood descriptives\n",
      "count    1024.000000\n",
      "mean        6.994181\n",
      "std         0.731078\n",
      "min         3.000000\n",
      "25%         6.600000\n",
      "50%         7.000000\n",
      "75%         7.500000\n",
      "max         9.333333\n",
      "Name: mood, dtype: float64\n",
      "Test mood descriptives\n",
      "count    272.000000\n",
      "mean       7.014920\n",
      "std        0.733379\n",
      "min        4.800000\n",
      "25%        6.666667\n",
      "50%        7.000000\n",
      "75%        7.500000\n",
      "max        9.000000\n",
      "Name: mood, dtype: float64\n"
     ]
    }
   ],
   "source": [
    "\n",
    "\n",
    "\n",
    "dfs_train = []\n",
    "dfs_test = []\n",
    "proportion_train = 0.8\n",
    "for participant, group in df_interpolated.groupby('id_num'):\n",
    "    group = group.sort_values(by='day')\n",
    "    split_idx = int(len(group) * proportion_train)\n",
    "    dfs_train.append(group.iloc[:split_idx])\n",
    "    dfs_test.append(group.iloc[split_idx:])\n",
    "    \n",
    "train_df = pd.concat(dfs_train)\n",
    "test_df = pd.concat(dfs_test)\n",
    "\n",
    "# get mood descriptives\n",
    "print(\"Train mood descriptives\")\n",
    "print(train_df[\"mood\"].describe())\n",
    "print(\"Test mood descriptives\")\n",
    "print(test_df[\"mood\"].describe())\n",
    "\n",
    "# get the start end end dates per participant per df\n",
    "train_start_dates = train_df.groupby('id_num')['day'].min()\n",
    "train_end_dates = train_df.groupby('id_num')['day'].max()\n",
    "test_start_dates = test_df.groupby('id_num')['day'].min()\n",
    "test_end_dates = test_df.groupby('id_num')['day'].max()\n",
    "\n",
    "# put in a dataframe with participant train start end and test start end\n",
    "dates_df = pd.DataFrame({\n",
    "    \"participant\": train_start_dates.index,\n",
    "    \"train_start\": train_start_dates.values,\n",
    "    \"train_end\": train_end_dates.values,\n",
    "    \"test_start\": test_start_dates.values,\n",
    "    \"test_end\": test_end_dates.values,\n",
    "})\n",
    "\n",
    "dates_df.to_csv(\"tables/training_dates_split.csv\", index=False)"
   ]
  },
  {
   "cell_type": "markdown",
   "metadata": {},
   "source": [
    "### Normalize"
   ]
  },
  {
   "cell_type": "code",
   "execution_count": 32,
   "metadata": {},
   "outputs": [
    {
     "name": "stdout",
     "output_type": "stream",
     "text": [
      "Train shape: (1024, 29), Test shape: (272, 29)\n"
     ]
    }
   ],
   "source": [
    "def normalize(df, scaler=None, scaler_target=None, transform_target=False):\n",
    "\n",
    "    df = df.copy()\n",
    "    features = [col for col in df.columns if col not in ['id_num', 'day', \"date\", \"next_day_mood\", \"next_day\", \"mood\"]]\n",
    "    \n",
    "    if scaler is None:\n",
    "        scaler = StandardScaler()\n",
    "    \n",
    "    # Scale the features\n",
    "    df[features] = scaler.fit_transform(df[features])\n",
    "    \n",
    "    if transform_target:\n",
    "        if scaler_target is None:\n",
    "            scaler_target = StandardScaler()\n",
    "        # Scale only the target column \"mood\"\n",
    "        df[\"mood\"] = scaler_target.fit_transform(df[[\"mood\"]])\n",
    "\n",
    "        # print(\"scaler properties:\")\n",
    "        # print(scaler.mean_)\n",
    "        # print(scaler.scale_)\n",
    "        print(\"scaler_target properties:\")\n",
    "        print(scaler_target.mean_)\n",
    "        print(scaler_target.scale_)\n",
    "        \n",
    "        return df, scaler, scaler_target\n",
    "    else:\n",
    "        return df, scaler, None\n",
    "\n",
    "def denormalize(df, scaler, scaler_target=None):\n",
    "\n",
    "    features = [col for col in df.columns if col not in ['id_num', 'day', \"date\", \"next_day_mood\", \"next_day\", \"mood\"]]\n",
    "    \n",
    "    # Inverse transform the features\n",
    "    df[features] = scaler.inverse_transform(df[features])\n",
    "    \n",
    "    if scaler_target is not None:\n",
    "        # Inverse transform the target column \"mood\"\n",
    "        df[\"mood\"] = scaler_target.inverse_transform(df[[\"mood\"]])\n",
    "    \n",
    "    return df\n",
    "\n",
    "# Normalize the training and test data\n",
    "train_df_normalized, scaler, scaler_target = normalize(train_df, scaler=None, scaler_target=None, transform_target=False)\n",
    "test_df_normalized, _, _ = normalize(test_df, scaler=scaler, scaler_target=scaler_target) \n",
    "\n",
    "print(f\"Train shape: {train_df_normalized.shape}, Test shape: {test_df_normalized.shape}\") # Train shape: (1230, 24), Test shape: (307, 24)\n",
    "\n"
   ]
  },
  {
   "cell_type": "markdown",
   "metadata": {},
   "source": [
    "### Create dataset"
   ]
  },
  {
   "cell_type": "code",
   "execution_count": 33,
   "metadata": {},
   "outputs": [
    {
     "name": "stdout",
     "output_type": "stream",
     "text": [
      "Number of batches in train_loader: 32\n",
      "Number of batches in test_loader: 9\n",
      "x shape: torch.Size([32, 1, 24]), x_id shape: torch.Size([32, 1]), y shape: torch.Size([32])\n"
     ]
    }
   ],
   "source": [
    "\n",
    "# Create the dataset\n",
    "seq_length = 1\n",
    "batch_size = 32\n",
    "train_dataset = MultiParticipantDataset(train_df_normalized, seq_length=seq_length)\n",
    "test_dataset = MultiParticipantDataset(test_df_normalized, seq_length=seq_length)\n",
    "\n",
    "# Create DataLoader\n",
    "train_loader = DataLoader(train_dataset, batch_size=batch_size, shuffle=False)\n",
    "test_loader = DataLoader(test_dataset, batch_size=batch_size, shuffle=False)\n",
    "\n",
    "# Check the shape of the data\n",
    "print(f\"Number of batches in train_loader: {len(train_loader)}\")\n",
    "print(f\"Number of batches in test_loader: {len(test_loader)}\")\n",
    "for x, x_id, y in train_loader:\n",
    "    print(f\"x shape: {x.shape}, x_id shape: {x_id.shape}, y shape: {y.shape}\")\n",
    "    break\n",
    "# 32 sequences in a batch, each with 5 time steps and 24 features\n"
   ]
  },
  {
   "cell_type": "markdown",
   "metadata": {},
   "source": [
    "### define lstm model"
   ]
  },
  {
   "cell_type": "code",
   "execution_count": 9,
   "metadata": {},
   "outputs": [],
   "source": [
    "class LSTMModel(nn.Module):\n",
    "    def __init__(self, input_dim, hidden_dim, num_layers, output_dim):\n",
    "        super(LSTMModel, self).__init__()\n",
    "        self.hidden_dim = hidden_dim\n",
    "        self.num_layers = num_layers\n",
    "        \n",
    "        # LSTM layer; batch_first=True expects input shape: (batch, seq, feature)\n",
    "        self.lstm = nn.LSTM(input_dim, hidden_dim, num_layers, batch_first=True)\n",
    "        \n",
    "        # Fully-connected layer to output the final prediction\n",
    "        self.fc = nn.Linear(hidden_dim, output_dim)\n",
    "        \n",
    "    def forward(self, x):\n",
    "        # x: [batch_size, seq_length, input_dim]\n",
    "        # Initialize hidden and cell states with zeros\n",
    "        h0 = torch.zeros(self.num_layers, x.size(0), self.hidden_dim).to(x.device)\n",
    "        c0 = torch.zeros(self.num_layers, x.size(0), self.hidden_dim).to(x.device)\n",
    "        \n",
    "        # Forward propagate LSTM\n",
    "        out, _ = self.lstm(x, (h0, c0))\n",
    "        \n",
    "        # Use the last time step's output for prediction\n",
    "        out = self.fc(out[:, -1, :])\n",
    "        return out"
   ]
  },
  {
   "cell_type": "markdown",
   "metadata": {},
   "source": [
    "### Train loop"
   ]
  },
  {
   "cell_type": "code",
   "execution_count": 36,
   "metadata": {},
   "outputs": [
    {
     "name": "stdout",
     "output_type": "stream",
     "text": [
      "Epoch [1/40], Train Loss: 48.2736, Eval Loss: 45.8951\n",
      "Epoch [2/40], Train Loss: 40.9791, Eval Loss: 34.2766\n",
      "Epoch [3/40], Train Loss: 25.5605, Eval Loss: 16.8861\n",
      "Epoch [4/40], Train Loss: 11.6092, Eval Loss: 6.5837\n",
      "Epoch [5/40], Train Loss: 4.7987, Eval Loss: 2.7025\n",
      "Epoch [6/40], Train Loss: 2.2212, Eval Loss: 1.4146\n",
      "Epoch [7/40], Train Loss: 1.3140, Eval Loss: 0.9972\n",
      "Epoch [8/40], Train Loss: 0.9926, Eval Loss: 0.8541\n",
      "Epoch [9/40], Train Loss: 0.8650, Eval Loss: 0.7930\n",
      "Epoch [10/40], Train Loss: 0.8013, Eval Loss: 0.7571\n",
      "Epoch [11/40], Train Loss: 0.7609, Eval Loss: 0.7307\n",
      "Epoch [12/40], Train Loss: 0.7311, Eval Loss: 0.7094\n",
      "Epoch [13/40], Train Loss: 0.7074, Eval Loss: 0.6917\n",
      "Epoch [14/40], Train Loss: 0.6879, Eval Loss: 0.6766\n",
      "Epoch [15/40], Train Loss: 0.6714, Eval Loss: 0.6637\n",
      "Epoch [16/40], Train Loss: 0.6572, Eval Loss: 0.6525\n",
      "Epoch [17/40], Train Loss: 0.6450, Eval Loss: 0.6427\n",
      "Epoch [18/40], Train Loss: 0.6343, Eval Loss: 0.6340\n",
      "Epoch [19/40], Train Loss: 0.6249, Eval Loss: 0.6264\n",
      "Epoch [20/40], Train Loss: 0.6165, Eval Loss: 0.6195\n",
      "Epoch [21/40], Train Loss: 0.6091, Eval Loss: 0.6134\n",
      "Epoch [22/40], Train Loss: 0.6025, Eval Loss: 0.6079\n",
      "Epoch [23/40], Train Loss: 0.5965, Eval Loss: 0.6030\n",
      "Epoch [24/40], Train Loss: 0.5911, Eval Loss: 0.5985\n",
      "Epoch [25/40], Train Loss: 0.5862, Eval Loss: 0.5944\n",
      "Epoch [26/40], Train Loss: 0.5817, Eval Loss: 0.5907\n",
      "Epoch [27/40], Train Loss: 0.5776, Eval Loss: 0.5873\n",
      "Epoch [28/40], Train Loss: 0.5738, Eval Loss: 0.5841\n",
      "Epoch [29/40], Train Loss: 0.5703, Eval Loss: 0.5812\n",
      "Epoch [30/40], Train Loss: 0.5671, Eval Loss: 0.5785\n",
      "Epoch [31/40], Train Loss: 0.5641, Eval Loss: 0.5761\n",
      "Epoch [32/40], Train Loss: 0.5613, Eval Loss: 0.5738\n",
      "Epoch [33/40], Train Loss: 0.5587, Eval Loss: 0.5716\n",
      "Epoch [34/40], Train Loss: 0.5563, Eval Loss: 0.5696\n",
      "Epoch [35/40], Train Loss: 0.5540, Eval Loss: 0.5677\n",
      "Epoch [36/40], Train Loss: 0.5518, Eval Loss: 0.5660\n",
      "Epoch [37/40], Train Loss: 0.5498, Eval Loss: 0.5643\n",
      "Epoch [38/40], Train Loss: 0.5478, Eval Loss: 0.5627\n",
      "Epoch [39/40], Train Loss: 0.5460, Eval Loss: 0.5612\n",
      "Epoch [40/40], Train Loss: 0.5442, Eval Loss: 0.5597\n"
     ]
    },
    {
     "data": {
      "image/png": "[encoded data removed]",
      "text/plain": [
       "<Figure size 1200x600 with 1 Axes>"
      ]
     },
     "metadata": {},
     "output_type": "display_data"
    },
    {
     "data": {
      "image/png": "[encoded data removed]",
      "text/plain": [
       "<Figure size 1200x600 with 1 Axes>"
      ]
     },
     "metadata": {},
     "output_type": "display_data"
    }
   ],
   "source": [
    "# Hyperparameters\n",
    "input_dim = len(train_dataset.features)  # e.g., 24\n",
    "hidden_dim = 32             # Number of LSTM units\n",
    "num_layers = 2\n",
    "output_dim = 1                   # For regression (predicting a single value)\n",
    "num_epochs = 40\n",
    "learning_rate = 0.001\n",
    "\n",
    "# Initialize model, loss function, and optimizer\n",
    "model = LSTMModel(input_dim, hidden_dim, num_layers, output_dim)\n",
    "criterion = nn.MSELoss()\n",
    "optimizer = optim.Adam(model.parameters(), lr=learning_rate)\n",
    "\n",
    "# Prepare lists to store loss values for plotting\n",
    "train_epoch_losses = []\n",
    "eval_epoch_losses = []\n",
    "batch_losses = []\n",
    "\n",
    "# Training and evaluation loop\n",
    "for epoch in range(num_epochs):\n",
    "    model.train()\n",
    "    train_loss_epoch = 0.0\n",
    "\n",
    "    # --- Training ---\n",
    "    for batch in train_loader:\n",
    "        x_features, x_id, y = batch  # x_features: [batch, seq_length, input_dim]\n",
    "        \n",
    "        # Forward pass\n",
    "        outputs = model(x_features)  # outputs shape: [batch, output_dim]\n",
    "        loss = criterion(outputs.squeeze(), y)\n",
    "\n",
    "        batch_losses.append(loss.item())\n",
    "        \n",
    "        # Backprop and optimization\n",
    "        optimizer.zero_grad()\n",
    "        loss.backward()\n",
    "        optimizer.step()\n",
    "        \n",
    "        train_loss_epoch += loss.item()\n",
    "    \n",
    "    avg_train_loss = train_loss_epoch / len(train_loader)\n",
    "    train_epoch_losses.append(avg_train_loss)\n",
    "    \n",
    "    # --- Evaluation ---\n",
    "    model.eval()\n",
    "    eval_loss_epoch = 0.0\n",
    "    with torch.no_grad():\n",
    "        for batch in test_loader:\n",
    "            x_features, x_id, y = batch\n",
    "            outputs = model(x_features)\n",
    "            loss = criterion(outputs.squeeze(), y)\n",
    "            eval_loss_epoch += loss.item()\n",
    "    \n",
    "    avg_eval_loss = eval_loss_epoch / len(test_loader)\n",
    "    eval_epoch_losses.append(avg_eval_loss)\n",
    "    \n",
    "    print(f\"Epoch [{epoch+1}/{num_epochs}], Train Loss: {avg_train_loss:.4f}, Eval Loss: {avg_eval_loss:.4f}\")\n",
    "\n",
    "# Plot the training and evaluation loss curves\n",
    "sns.set(style=\"whitegrid\")\n",
    "plt.figure(figsize=(12, 6))\n",
    "plt.plot(range(1, num_epochs+1), train_epoch_losses, label='Train Loss', marker='o')\n",
    "plt.plot(range(1, num_epochs+1), eval_epoch_losses, label='Eval Loss', marker='o')\n",
    "plt.xlabel(\"Epoch\")\n",
    "plt.ylabel(\"Loss (MSE)\")\n",
    "plt.title(\"Training and Evaluation Loss Over Epochs\")\n",
    "plt.legend()\n",
    "plt.show()\n",
    "\n",
    "# plot batch losses\n",
    "plt.figure(figsize=(12, 6))\n",
    "plt.plot(batch_losses, label='Batch Loss')\n",
    "plt.xlabel(\"Batch\")\n",
    "plt.ylabel(\"Loss (MSE)\")\n",
    "plt.title(\"Batch Loss Over Training\")\n",
    "plt.legend()\n",
    "plt.show()\n"
   ]
  },
  {
   "cell_type": "markdown",
   "metadata": {},
   "source": [
    "### Predict and plot function"
   ]
  },
  {
   "cell_type": "code",
   "execution_count": 15,
   "metadata": {},
   "outputs": [],
   "source": [
    "\n",
    "def predict_and_plot(model, data_loader, test_dataset, target_scaler=None, show_plot=True, save_html=True, title=\"predictions\"):\n",
    "    \"\"\"\n",
    "    Runs predictions on the data_loader using model, builds a results DataFrame using the\n",
    "    test_dataset's original data (which includes the 'day' and 'id_num' columns), and then plots\n",
    "    real vs predicted values with Plotly using the 'day' column for the x-axis and a dropdown\n",
    "    to select different participants.\n",
    "\n",
    "    Parameters:\n",
    "        model: Trained PyTorch model.\n",
    "        data_loader: DataLoader for the dataset to predict on.\n",
    "        test_dataset: The dataset instance (e.g., MultiParticipantDataset) used to create data_loader.\n",
    "                      It must have a 'data' attribute containing the original DataFrame with a 'day' column.\n",
    "        target_scaler: (Optional) Scaler used to normalize the target data.\n",
    "    \"\"\"\n",
    "    model.eval()\n",
    "    all_predictions = []\n",
    "    all_targets = []\n",
    "    \n",
    "    # Run model predictions over the data_loader\n",
    "    with torch.no_grad():\n",
    "        for batch in data_loader:\n",
    "            x_features, x_id, y = batch\n",
    "            outputs = model(x_features)\n",
    "            all_predictions.append(outputs.cpu().numpy())\n",
    "            all_targets.append(y.cpu().numpy())\n",
    "    \n",
    "    # Concatenate all predictions and targets into arrays.\n",
    "    all_predictions = np.concatenate(all_predictions)\n",
    "    all_targets = np.concatenate(all_targets)\n",
    "\n",
    "    \n",
    "    # Inverse transform if a target scaler is provided.\n",
    "    if target_scaler is not None:\n",
    "        print(\"Target scaler mean:\", target_scaler.mean_)\n",
    "        print(\"Target scaler scale:\", target_scaler.scale_)\n",
    "        all_predictions = target_scaler.inverse_transform(all_predictions)\n",
    "        all_targets = target_scaler.inverse_transform(all_targets.reshape(-1, 1))\n",
    "    \n",
    "\n",
    "    # Compute the correct slice of the original DataFrame.\n",
    "    # The i-th prediction corresponds to data row at index (i + seq_length)\n",
    "    start_idx = test_dataset.seq_length\n",
    "    end_idx = start_idx + len(test_dataset)\n",
    "    df_results = test_dataset.data.iloc[start_idx:end_idx].copy().reset_index(drop=True)\n",
    "\n",
    "    # Add prediction and target columns to the results DataFrame.\n",
    "    df_results['Real'] = all_targets.reshape(-1)\n",
    "    df_results['Predicted'] = all_predictions.reshape(-1)\n",
    "    \n",
    "    # Get unique participant IDs from the results DataFrame.\n",
    "    participant_col = test_dataset.id_col  # e.g., 'id_num'\n",
    "    participants = df_results[participant_col].unique()\n",
    "    \n",
    "    # Build Plotly traces for each participant: two traces (real & predicted) per participant.\n",
    "    traces = []\n",
    "    for p in participants:\n",
    "        df_p = df_results[df_results[participant_col] == p]\n",
    "        traces.append(go.Scatter(\n",
    "            x=df_p['day'],\n",
    "            y=df_p['Real'],\n",
    "            mode='lines',\n",
    "            name=f'Real ({p})',\n",
    "            visible=False  # We'll control visibility via the dropdown.\n",
    "        ))\n",
    "        traces.append(go.Scatter(\n",
    "            x=df_p['day'],\n",
    "            y=df_p['Predicted'],\n",
    "            mode='lines',\n",
    "            name=f'Predicted ({p})',\n",
    "            visible=False\n",
    "        ))\n",
    "    \n",
    "    total_traces = len(traces)  # Should be 2 * number of participants.\n",
    "    \n",
    "    # Create dropdown buttons. Each button sets visibility so that only the two traces for one participant are shown.\n",
    "    dropdown_buttons = []\n",
    "    for i, p in enumerate(participants):\n",
    "        visibility = [False] * total_traces\n",
    "        # For participant p, set traces at indices 2*i and 2*i+1 to True.\n",
    "        visibility[2*i] = True\n",
    "        visibility[2*i+1] = True\n",
    "        button = dict(\n",
    "            label=str(p),\n",
    "            method=\"update\",\n",
    "            args=[{\"visible\": visibility},\n",
    "                  {\"title\": f\"Real vs Predicted Mood Values for Participant {p}\",\n",
    "                   \"xaxis\": {\"title\": \"Day\"},\n",
    "                   \"yaxis\": {\"title\": \"Mood Value\"}}]\n",
    "        )\n",
    "        dropdown_buttons.append(button)\n",
    "    \n",
    "    # Set the initial visibility: show the first participant.\n",
    "    initial_visibility = [False] * total_traces\n",
    "    initial_visibility[0] = True\n",
    "    initial_visibility[1] = True\n",
    "    for i in range(total_traces):\n",
    "        traces[i].visible = initial_visibility[i]\n",
    "    \n",
    "    # Build the figure with all traces and add the dropdown menu.\n",
    "    fig = go.Figure(data=traces)\n",
    "    fig.update_layout(\n",
    "        updatemenus=[\n",
    "            dict(\n",
    "                active=0,\n",
    "                buttons=dropdown_buttons,\n",
    "                x=1.1,\n",
    "                y=1.0,\n",
    "                showactive=True\n",
    "            )\n",
    "        ],\n",
    "        title=f\"Real vs Predicted Mood Values for Participant {participants[0]}\",\n",
    "        xaxis_title=\"Day\",\n",
    "        yaxis_title=\"Mood Value\"\n",
    "    )\n",
    "    \n",
    "    if show_plot:\n",
    "        fig.show()\n",
    "    if save_html:\n",
    "        outdir = \"figures/plotly/predictions\"\n",
    "        os.makedirs(outdir, exist_ok=True)\n",
    "        fig.write_html(os.path.join(outdir, f\"predictions_{title}.html\"))\n",
    "\n"
   ]
  },
  {
   "cell_type": "markdown",
   "metadata": {},
   "source": [
    "### Plot predictions"
   ]
  },
  {
   "cell_type": "code",
   "execution_count": 37,
   "metadata": {},
   "outputs": [
    {
     "data": {
      "application/vnd.plotly.v1+json": {
       "config": {
        "plotlyServerURL": "https://plot.ly"
       },
       "data": [
        {
         "mode": "lines",
         "name": "Real (1)",
         "type": "scatter",
         "visible": true,
         "x": [
          "2014-04-27",
          "2014-04-28",
          "2014-04-29",
          "2014-04-30",
          "2014-05-01",
          "2014-05-02",
          "2014-05-03",
          "2014-05-04"
         ],
         "y": [
          7.5,
          7.599999904632568,
          7,
          7.800000190734863,
          8,
          7.599999904632568,
          8,
          8
         ]
        },
        {
         "mode": "lines",
         "name": "Predicted (1)",
         "type": "scatter",
         "visible": true,
         "x": [
          "2014-04-27",
          "2014-04-28",
          "2014-04-29",
          "2014-04-30",
          "2014-05-01",
          "2014-05-02",
          "2014-05-03",
          "2014-05-04"
         ],
         "y": [
          6.332912921905518,
          6.175729274749756,
          6.727721691131592,
          6.686489105224609,
          6.716805458068848,
          6.675017833709717,
          6.7649922370910645,
          6.748003005981445
         ]
        },
        {
         "mode": "lines",
         "name": "Real (2)",
         "type": "scatter",
         "visible": false,
         "x": [
          "2014-04-17",
          "2014-04-18",
          "2014-04-19",
          "2014-04-20",
          "2014-04-21",
          "2014-04-22",
          "2014-04-23",
          "2014-04-24",
          "2014-04-25"
         ],
         "y": [
          6.5,
          6.5,
          5.666666507720947,
          5,
          5.5,
          5.666666507720947,
          5.5,
          7,
          9
         ]
        },
        {
         "mode": "lines",
         "name": "Predicted (2)",
         "type": "scatter",
         "visible": false,
         "x": [
          "2014-04-17",
          "2014-04-18",
          "2014-04-19",
          "2014-04-20",
          "2014-04-21",
          "2014-04-22",
          "2014-04-23",
          "2014-04-24",
          "2014-04-25"
         ],
         "y": [
          6.425018310546875,
          5.022057056427002,
          5.78262186050415,
          5.253811359405518,
          5.2140116691589355,
          5.306236743927002,
          5.7317633628845215,
          6.10084867477417,
          4.72187614440918
         ]
        },
        {
         "mode": "lines",
         "name": "Real (3)",
         "type": "scatter",
         "visible": false,
         "x": [
          "2014-04-28",
          "2014-04-29",
          "2014-04-30",
          "2014-05-01",
          "2014-05-02",
          "2014-05-03",
          "2014-05-04",
          "2014-05-05",
          "2014-05-06",
          "2014-05-07"
         ],
         "y": [
          7,
          7.199999809265137,
          7,
          7.199999809265137,
          7.599999904632568,
          7.75,
          7.400000095367432,
          7.25,
          7.458333492279053,
          7.666666507720947
         ]
        },
        {
         "mode": "lines",
         "name": "Predicted (3)",
         "type": "scatter",
         "visible": false,
         "x": [
          "2014-04-28",
          "2014-04-29",
          "2014-04-30",
          "2014-05-01",
          "2014-05-02",
          "2014-05-03",
          "2014-05-04",
          "2014-05-05",
          "2014-05-06",
          "2014-05-07"
         ],
         "y": [
          6.071112632751465,
          6.889514923095703,
          6.873178958892822,
          6.784988880157471,
          6.892379283905029,
          7.011131763458252,
          6.953619003295898,
          6.808615207672119,
          6.762417316436768,
          6.682420253753662
         ]
        },
        {
         "mode": "lines",
         "name": "Real (5)",
         "type": "scatter",
         "visible": false,
         "x": [
          "2014-04-25",
          "2014-04-26",
          "2014-04-27",
          "2014-04-28",
          "2014-04-29",
          "2014-04-30",
          "2014-05-01",
          "2014-05-02",
          "2014-05-03",
          "2014-05-04",
          "2014-05-05"
         ],
         "y": [
          7.199999809265137,
          7.800000190734863,
          7.400000095367432,
          7,
          6.800000190734863,
          7,
          6.800000190734863,
          7,
          6.75,
          7,
          6.333333492279053
         ]
        },
        {
         "mode": "lines",
         "name": "Predicted (5)",
         "type": "scatter",
         "visible": false,
         "x": [
          "2014-04-25",
          "2014-04-26",
          "2014-04-27",
          "2014-04-28",
          "2014-04-29",
          "2014-04-30",
          "2014-05-01",
          "2014-05-02",
          "2014-05-03",
          "2014-05-04",
          "2014-05-05"
         ],
         "y": [
          6.773012638092041,
          6.858591556549072,
          6.960305690765381,
          6.835592269897461,
          6.817975044250488,
          6.794945240020752,
          6.853770732879639,
          6.847400665283203,
          6.567010402679443,
          6.6208176612854,
          6.946987628936768
         ]
        },
        {
         "mode": "lines",
         "name": "Real (6)",
         "type": "scatter",
         "visible": false,
         "x": [
          "2014-04-29",
          "2014-04-30",
          "2014-05-01",
          "2014-05-02",
          "2014-05-03",
          "2014-05-04",
          "2014-05-05",
          "2014-05-06",
          "2014-05-07",
          "2014-05-08"
         ],
         "y": [
          7.25,
          6.800000190734863,
          8,
          7.199999809265137,
          6.25,
          7.599999904632568,
          7,
          6.875,
          6.75,
          7
         ]
        },
        {
         "mode": "lines",
         "name": "Predicted (6)",
         "type": "scatter",
         "visible": false,
         "x": [
          "2014-04-29",
          "2014-04-30",
          "2014-05-01",
          "2014-05-02",
          "2014-05-03",
          "2014-05-04",
          "2014-05-05",
          "2014-05-06",
          "2014-05-07",
          "2014-05-08"
         ],
         "y": [
          6.665832042694092,
          6.987468242645264,
          6.929954528808594,
          7.002721309661865,
          6.946766376495361,
          6.830383777618408,
          6.876433372497559,
          6.846008777618408,
          6.883893966674805,
          6.82563591003418
         ]
        },
        {
         "mode": "lines",
         "name": "Real (7)",
         "type": "scatter",
         "visible": false,
         "x": [
          "2014-04-26",
          "2014-04-27",
          "2014-04-28",
          "2014-04-29",
          "2014-04-30",
          "2014-05-01",
          "2014-05-02",
          "2014-05-03",
          "2014-05-04",
          "2014-05-05"
         ],
         "y": [
          5.400000095367432,
          6,
          6.75,
          5,
          5,
          5,
          6.199999809265137,
          5.666666507720947,
          8,
          5.5
         ]
        },
        {
         "mode": "lines",
         "name": "Predicted (7)",
         "type": "scatter",
         "visible": false,
         "x": [
          "2014-04-26",
          "2014-04-27",
          "2014-04-28",
          "2014-04-29",
          "2014-04-30",
          "2014-05-01",
          "2014-05-02",
          "2014-05-03",
          "2014-05-04",
          "2014-05-05"
         ],
         "y": [
          6.752880573272705,
          6.748446464538574,
          6.797383785247803,
          7.009141445159912,
          6.379480838775635,
          6.636778354644775,
          6.653963565826416,
          6.914334774017334,
          6.783003330230713,
          6.898423671722412
         ]
        },
        {
         "mode": "lines",
         "name": "Real (8)",
         "type": "scatter",
         "visible": false,
         "x": [
          "2014-04-23",
          "2014-04-24",
          "2014-04-25",
          "2014-04-26",
          "2014-04-27",
          "2014-04-28",
          "2014-04-29",
          "2014-04-30",
          "2014-05-01",
          "2014-05-02",
          "2014-05-03",
          "2014-05-04",
          "2014-05-05"
         ],
         "y": [
          5.599999904632568,
          6.666666507720947,
          6.333333492279053,
          6,
          6,
          5.800000190734863,
          5.75,
          6.666666507720947,
          7,
          7.199999809265137,
          7.400000095367432,
          6.800000190734863,
          6.666666507720947
         ]
        },
        {
         "mode": "lines",
         "name": "Predicted (8)",
         "type": "scatter",
         "visible": false,
         "x": [
          "2014-04-23",
          "2014-04-24",
          "2014-04-25",
          "2014-04-26",
          "2014-04-27",
          "2014-04-28",
          "2014-04-29",
          "2014-04-30",
          "2014-05-01",
          "2014-05-02",
          "2014-05-03",
          "2014-05-04",
          "2014-05-05"
         ],
         "y": [
          6.751510143280029,
          6.970397472381592,
          7.041444778442383,
          7.016894817352295,
          6.864429950714111,
          6.769697666168213,
          6.893147945404053,
          6.845975399017334,
          7.004884719848633,
          7.070349216461182,
          7.00029993057251,
          7.035576820373535,
          6.968291759490967
         ]
        },
        {
         "mode": "lines",
         "name": "Real (9)",
         "type": "scatter",
         "visible": false,
         "x": [
          "2014-04-26",
          "2014-04-27",
          "2014-04-28",
          "2014-04-29",
          "2014-04-30",
          "2014-05-01",
          "2014-05-02",
          "2014-05-03",
          "2014-05-04",
          "2014-05-05"
         ],
         "y": [
          8,
          6.25,
          6.599999904632568,
          6.75,
          7,
          7.5,
          7.599999904632568,
          7.75,
          6.599999904632568,
          6
         ]
        },
        {
         "mode": "lines",
         "name": "Predicted (9)",
         "type": "scatter",
         "visible": false,
         "x": [
          "2014-04-26",
          "2014-04-27",
          "2014-04-28",
          "2014-04-29",
          "2014-04-30",
          "2014-05-01",
          "2014-05-02",
          "2014-05-03",
          "2014-05-04",
          "2014-05-05"
         ],
         "y": [
          6.859010696411133,
          7.0413336753845215,
          6.92153263092041,
          6.973577976226807,
          6.955999374389648,
          6.969449520111084,
          6.977721691131592,
          6.978424549102783,
          6.992222309112549,
          6.982761383056641
         ]
        },
        {
         "mode": "lines",
         "name": "Real (12)",
         "type": "scatter",
         "visible": false,
         "x": [
          "2014-04-28",
          "2014-04-29",
          "2014-04-30",
          "2014-05-01",
          "2014-05-02",
          "2014-05-03",
          "2014-05-04",
          "2014-05-05"
         ],
         "y": [
          6.599999904632568,
          6,
          6.25,
          6.199999809265137,
          5.5,
          5.599999904632568,
          4.800000190734863,
          6
         ]
        },
        {
         "mode": "lines",
         "name": "Predicted (12)",
         "type": "scatter",
         "visible": false,
         "x": [
          "2014-04-28",
          "2014-04-29",
          "2014-04-30",
          "2014-05-01",
          "2014-05-02",
          "2014-05-03",
          "2014-05-04",
          "2014-05-05"
         ],
         "y": [
          6.923874378204346,
          6.936679363250732,
          7.032938480377197,
          7.047236919403076,
          7.003410816192627,
          7.047149181365967,
          6.97368860244751,
          6.9490275382995605
         ]
        },
        {
         "mode": "lines",
         "name": "Real (13)",
         "type": "scatter",
         "visible": false,
         "x": [
          "2014-04-24",
          "2014-04-25",
          "2014-04-26",
          "2014-04-27",
          "2014-04-28",
          "2014-04-29",
          "2014-04-30",
          "2014-05-01",
          "2014-05-02",
          "2014-05-03",
          "2014-05-04"
         ],
         "y": [
          7.666666507720947,
          7.75,
          8.800000190734863,
          8,
          8.166666984558105,
          8.5,
          7.833333492279053,
          8.333333015441895,
          8,
          7.25,
          8
         ]
        },
        {
         "mode": "lines",
         "name": "Predicted (13)",
         "type": "scatter",
         "visible": false,
         "x": [
          "2014-04-24",
          "2014-04-25",
          "2014-04-26",
          "2014-04-27",
          "2014-04-28",
          "2014-04-29",
          "2014-04-30",
          "2014-05-01",
          "2014-05-02",
          "2014-05-03",
          "2014-05-04"
         ],
         "y": [
          6.991361141204834,
          7.086334228515625,
          7.099752902984619,
          7.07354211807251,
          7.097886562347412,
          7.057505130767822,
          7.08263635635376,
          7.0606255531311035,
          7.0828070640563965,
          7.06254243850708,
          7.063615798950195
         ]
        },
        {
         "mode": "lines",
         "name": "Real (14)",
         "type": "scatter",
         "visible": false,
         "x": [
          "2014-04-26",
          "2014-04-27",
          "2014-04-28",
          "2014-04-29",
          "2014-04-30",
          "2014-05-01",
          "2014-05-02",
          "2014-05-03",
          "2014-05-04",
          "2014-05-05"
         ],
         "y": [
          8,
          7.666666507720947,
          7.44444465637207,
          7.222222328186035,
          7,
          6,
          6.666666507720947,
          6.800000190734863,
          6.800000190734863,
          7
         ]
        },
        {
         "mode": "lines",
         "name": "Predicted (14)",
         "type": "scatter",
         "visible": false,
         "x": [
          "2014-04-26",
          "2014-04-27",
          "2014-04-28",
          "2014-04-29",
          "2014-04-30",
          "2014-05-01",
          "2014-05-02",
          "2014-05-03",
          "2014-05-04",
          "2014-05-05"
         ],
         "y": [
          7.040502548217773,
          7.045464038848877,
          7.029050350189209,
          7.03849458694458,
          7.04691743850708,
          7.073012351989746,
          7.0377516746521,
          7.042511940002441,
          7.031612873077393,
          7.009439945220947
         ]
        },
        {
         "mode": "lines",
         "name": "Real (15)",
         "type": "scatter",
         "visible": false,
         "x": [
          "2014-04-27",
          "2014-04-28",
          "2014-04-29",
          "2014-04-30",
          "2014-05-01",
          "2014-05-02",
          "2014-05-03",
          "2014-05-04",
          "2014-05-05",
          "2014-05-06",
          "2014-05-07",
          "2014-05-08"
         ],
         "y": [
          7,
          7,
          7,
          6,
          6.599999904632568,
          7,
          6.800000190734863,
          7,
          7,
          7,
          7,
          7
         ]
        },
        {
         "mode": "lines",
         "name": "Predicted (15)",
         "type": "scatter",
         "visible": false,
         "x": [
          "2014-04-27",
          "2014-04-28",
          "2014-04-29",
          "2014-04-30",
          "2014-05-01",
          "2014-05-02",
          "2014-05-03",
          "2014-05-04",
          "2014-05-05",
          "2014-05-06",
          "2014-05-07",
          "2014-05-08"
         ],
         "y": [
          7.000685214996338,
          7.041787624359131,
          7.061870098114014,
          7.0412821769714355,
          6.989412307739258,
          6.9158806800842285,
          7.017090797424316,
          7.018468379974365,
          7.0049147605896,
          7.067193031311035,
          7.073580265045166,
          7.009437084197998
         ]
        },
        {
         "mode": "lines",
         "name": "Real (16)",
         "type": "scatter",
         "visible": false,
         "x": [
          "2014-04-25",
          "2014-04-26",
          "2014-04-27",
          "2014-04-28",
          "2014-04-29",
          "2014-04-30",
          "2014-05-01",
          "2014-05-02",
          "2014-05-03",
          "2014-05-04",
          "2014-05-05"
         ],
         "y": [
          7.199999809265137,
          6.75,
          7.199999809265137,
          8,
          7,
          7,
          7,
          8,
          7.5,
          7,
          7.333333492279053
         ]
        },
        {
         "mode": "lines",
         "name": "Predicted (16)",
         "type": "scatter",
         "visible": false,
         "x": [
          "2014-04-25",
          "2014-04-26",
          "2014-04-27",
          "2014-04-28",
          "2014-04-29",
          "2014-04-30",
          "2014-05-01",
          "2014-05-02",
          "2014-05-03",
          "2014-05-04",
          "2014-05-05"
         ],
         "y": [
          7.0496625900268555,
          6.965068340301514,
          7.073067665100098,
          7.066171169281006,
          7.081916332244873,
          7.046644687652588,
          7.068201541900635,
          7.057671070098877,
          7.094857692718506,
          7.081151962280273,
          7.057231426239014
         ]
        },
        {
         "mode": "lines",
         "name": "Real (17)",
         "type": "scatter",
         "visible": false,
         "x": [
          "2014-04-23",
          "2014-04-24",
          "2014-04-25",
          "2014-04-26",
          "2014-04-27",
          "2014-04-28",
          "2014-04-29",
          "2014-04-30",
          "2014-05-01",
          "2014-05-02",
          "2014-05-03",
          "2014-05-04",
          "2014-05-05"
         ],
         "y": [
          7.25,
          7.199999809265137,
          7.199999809265137,
          8,
          7.199999809265137,
          6.75,
          7,
          7,
          8,
          7,
          7.25,
          7.375,
          7.5
         ]
        },
        {
         "mode": "lines",
         "name": "Predicted (17)",
         "type": "scatter",
         "visible": false,
         "x": [
          "2014-04-23",
          "2014-04-24",
          "2014-04-25",
          "2014-04-26",
          "2014-04-27",
          "2014-04-28",
          "2014-04-29",
          "2014-04-30",
          "2014-05-01",
          "2014-05-02",
          "2014-05-03",
          "2014-05-04",
          "2014-05-05"
         ],
         "y": [
          7.083048343658447,
          7.106968879699707,
          7.063981533050537,
          7.105086803436279,
          7.105670928955078,
          7.105139255523682,
          7.074458122253418,
          7.099987506866455,
          7.110787868499756,
          6.923006057739258,
          7.110810279846191,
          7.006520748138428,
          7.062289714813232
         ]
        },
        {
         "mode": "lines",
         "name": "Real (19)",
         "type": "scatter",
         "visible": false,
         "x": [
          "2014-04-26",
          "2014-04-27",
          "2014-04-28",
          "2014-04-29",
          "2014-04-30",
          "2014-05-01",
          "2014-05-02",
          "2014-05-03",
          "2014-05-04",
          "2014-05-05"
         ],
         "y": [
          7.75,
          6.333333492279053,
          6.400000095367432,
          7.199999809265137,
          7,
          6.800000190734863,
          7.800000190734863,
          7.400000095367432,
          6.599999904632568,
          7
         ]
        },
        {
         "mode": "lines",
         "name": "Predicted (19)",
         "type": "scatter",
         "visible": false,
         "x": [
          "2014-04-26",
          "2014-04-27",
          "2014-04-28",
          "2014-04-29",
          "2014-04-30",
          "2014-05-01",
          "2014-05-02",
          "2014-05-03",
          "2014-05-04",
          "2014-05-05"
         ],
         "y": [
          7.1007399559021,
          7.1217169761657715,
          7.037062168121338,
          7.089146614074707,
          7.0659966468811035,
          7.096765041351318,
          7.092369556427002,
          7.119050025939941,
          7.10835599899292,
          7.0719075202941895
         ]
        },
        {
         "mode": "lines",
         "name": "Real (20)",
         "type": "scatter",
         "visible": false,
         "x": [
          "2014-04-26",
          "2014-04-27",
          "2014-04-28",
          "2014-04-29",
          "2014-04-30",
          "2014-05-01",
          "2014-05-02",
          "2014-05-03",
          "2014-05-04",
          "2014-05-05"
         ],
         "y": [
          7,
          6.800000190734863,
          6.800000190734863,
          7.25,
          7,
          7,
          7.199999809265137,
          6.75,
          7.333333492279053,
          7
         ]
        },
        {
         "mode": "lines",
         "name": "Predicted (20)",
         "type": "scatter",
         "visible": false,
         "x": [
          "2014-04-26",
          "2014-04-27",
          "2014-04-28",
          "2014-04-29",
          "2014-04-30",
          "2014-05-01",
          "2014-05-02",
          "2014-05-03",
          "2014-05-04",
          "2014-05-05"
         ],
         "y": [
          7.061543941497803,
          7.075084686279297,
          7.017372131347656,
          7.051281452178955,
          7.05405855178833,
          7.052222728729248,
          7.04964017868042,
          7.037192344665527,
          7.049306869506836,
          7.064661502838135
         ]
        },
        {
         "mode": "lines",
         "name": "Real (23)",
         "type": "scatter",
         "visible": false,
         "x": [
          "2014-04-23",
          "2014-04-24",
          "2014-04-25",
          "2014-04-26",
          "2014-04-27",
          "2014-04-28",
          "2014-04-29",
          "2014-04-30"
         ],
         "y": [
          7,
          7.400000095367432,
          7.800000190734863,
          7.5,
          7,
          7.599999904632568,
          7.400000095367432,
          9
         ]
        },
        {
         "mode": "lines",
         "name": "Predicted (23)",
         "type": "scatter",
         "visible": false,
         "x": [
          "2014-04-23",
          "2014-04-24",
          "2014-04-25",
          "2014-04-26",
          "2014-04-27",
          "2014-04-28",
          "2014-04-29",
          "2014-04-30"
         ],
         "y": [
          7.017836093902588,
          7.09133768081665,
          7.101578235626221,
          7.113845348358154,
          7.119090557098389,
          7.119088172912598,
          7.002922534942627,
          7.1279497146606445
         ]
        },
        {
         "mode": "lines",
         "name": "Real (24)",
         "type": "scatter",
         "visible": false,
         "x": [
          "2014-05-28",
          "2014-05-29",
          "2014-05-30",
          "2014-05-31",
          "2014-06-01",
          "2014-06-02",
          "2014-06-03",
          "2014-06-04",
          "2014-06-05",
          "2014-06-06",
          "2014-06-07",
          "2014-06-08"
         ],
         "y": [
          6.599999904632568,
          7,
          7.400000095367432,
          7,
          6.833333492279053,
          6.75,
          7.800000190734863,
          7,
          7,
          7.5,
          8,
          6.5
         ]
        },
        {
         "mode": "lines",
         "name": "Predicted (24)",
         "type": "scatter",
         "visible": false,
         "x": [
          "2014-05-28",
          "2014-05-29",
          "2014-05-30",
          "2014-05-31",
          "2014-06-01",
          "2014-06-02",
          "2014-06-03",
          "2014-06-04",
          "2014-06-05",
          "2014-06-06",
          "2014-06-07",
          "2014-06-08"
         ],
         "y": [
          7.114373683929443,
          7.089570045471191,
          7.075953960418701,
          7.116902828216553,
          7.118578910827637,
          7.072378158569336,
          7.103359699249268,
          7.087204456329346,
          7.10902738571167,
          7.111913204193115,
          7.121129512786865,
          7.080764293670654
         ]
        },
        {
         "mode": "lines",
         "name": "Real (25)",
         "type": "scatter",
         "visible": false,
         "x": [
          "2014-05-02",
          "2014-05-03",
          "2014-05-04",
          "2014-05-05",
          "2014-05-06",
          "2014-05-07",
          "2014-05-08"
         ],
         "y": [
          6.5,
          6.400000095367432,
          7.199999809265137,
          6.666666507720947,
          6.733333110809326,
          6.800000190734863,
          7
         ]
        },
        {
         "mode": "lines",
         "name": "Predicted (25)",
         "type": "scatter",
         "visible": false,
         "x": [
          "2014-05-02",
          "2014-05-03",
          "2014-05-04",
          "2014-05-05",
          "2014-05-06",
          "2014-05-07",
          "2014-05-08"
         ],
         "y": [
          7.051695346832275,
          7.0732293128967285,
          7.056457996368408,
          7.118350982666016,
          7.045071601867676,
          6.977353572845459,
          7.03280782699585
         ]
        },
        {
         "mode": "lines",
         "name": "Real (26)",
         "type": "scatter",
         "visible": false,
         "x": [
          "2014-05-17",
          "2014-05-18",
          "2014-05-19",
          "2014-05-20",
          "2014-05-21",
          "2014-05-22",
          "2014-05-23",
          "2014-05-24",
          "2014-05-25",
          "2014-05-26",
          "2014-05-27",
          "2014-05-28",
          "2014-05-29",
          "2014-05-30"
         ],
         "y": [
          7.400000095367432,
          7.199999809265137,
          7.400000095367432,
          7.599999904632568,
          7,
          6.599999904632568,
          6.199999809265137,
          7.599999904632568,
          8,
          7.199999809265137,
          5.800000190734863,
          5.400000095367432,
          7.400000095367432,
          6.400000095367432
         ]
        },
        {
         "mode": "lines",
         "name": "Predicted (26)",
         "type": "scatter",
         "visible": false,
         "x": [
          "2014-05-17",
          "2014-05-18",
          "2014-05-19",
          "2014-05-20",
          "2014-05-21",
          "2014-05-22",
          "2014-05-23",
          "2014-05-24",
          "2014-05-25",
          "2014-05-26",
          "2014-05-27",
          "2014-05-28",
          "2014-05-29",
          "2014-05-30"
         ],
         "y": [
          7.08315896987915,
          7.105956554412842,
          7.083759784698486,
          7.098384857177734,
          7.079779624938965,
          7.105910778045654,
          7.088374614715576,
          7.086852550506592,
          7.108096599578857,
          7.102591037750244,
          7.09727144241333,
          6.999149799346924,
          7.033662796020508,
          7.0797319412231445
         ]
        },
        {
         "mode": "lines",
         "name": "Real (27)",
         "type": "scatter",
         "visible": false,
         "x": [
          "2014-05-07",
          "2014-05-08",
          "2014-05-09",
          "2014-05-10",
          "2014-05-11",
          "2014-05-12",
          "2014-05-13",
          "2014-05-14",
          "2014-05-15"
         ],
         "y": [
          7.800000190734863,
          7,
          6.400000095367432,
          6.599999904632568,
          7,
          7.800000190734863,
          6.800000190734863,
          7.5,
          7
         ]
        },
        {
         "mode": "lines",
         "name": "Predicted (27)",
         "type": "scatter",
         "visible": false,
         "x": [
          "2014-05-07",
          "2014-05-08",
          "2014-05-09",
          "2014-05-10",
          "2014-05-11",
          "2014-05-12",
          "2014-05-13",
          "2014-05-14",
          "2014-05-15"
         ],
         "y": [
          7.036859035491943,
          7.09927225112915,
          7.095290660858154,
          7.0922675132751465,
          7.087623119354248,
          7.078521251678467,
          7.10567569732666,
          7.087558269500732,
          7.104822158813477
         ]
        },
        {
         "mode": "lines",
         "name": "Real (28)",
         "type": "scatter",
         "visible": false,
         "x": [
          "2014-05-01",
          "2014-05-02",
          "2014-05-03",
          "2014-05-04",
          "2014-05-05",
          "2014-05-06",
          "2014-05-07",
          "2014-05-08"
         ],
         "y": [
          6.400000095367432,
          6.800000190734863,
          7.400000095367432,
          6.800000190734863,
          7,
          6.666666507720947,
          6.333333492279053,
          6.5
         ]
        },
        {
         "mode": "lines",
         "name": "Predicted (28)",
         "type": "scatter",
         "visible": false,
         "x": [
          "2014-05-01",
          "2014-05-02",
          "2014-05-03",
          "2014-05-04",
          "2014-05-05",
          "2014-05-06",
          "2014-05-07",
          "2014-05-08"
         ],
         "y": [
          7.104563236236572,
          7.065994739532471,
          7.09037971496582,
          7.099890232086182,
          7.082961559295654,
          7.113661766052246,
          7.088022708892822,
          7.012934684753418
         ]
        },
        {
         "mode": "lines",
         "name": "Real (29)",
         "type": "scatter",
         "visible": false,
         "x": [
          "2014-05-07",
          "2014-05-08",
          "2014-05-09",
          "2014-05-10",
          "2014-05-11",
          "2014-05-12",
          "2014-05-13",
          "2014-05-14",
          "2014-05-15"
         ],
         "y": [
          7.800000190734863,
          7.800000190734863,
          7.400000095367432,
          7,
          7,
          7.599999904632568,
          8.199999809265137,
          7.599999904632568,
          6
         ]
        },
        {
         "mode": "lines",
         "name": "Predicted (29)",
         "type": "scatter",
         "visible": false,
         "x": [
          "2014-05-07",
          "2014-05-08",
          "2014-05-09",
          "2014-05-10",
          "2014-05-11",
          "2014-05-12",
          "2014-05-13",
          "2014-05-14",
          "2014-05-15"
         ],
         "y": [
          7.079800128936768,
          7.090122699737549,
          7.094754695892334,
          7.10042142868042,
          7.075393199920654,
          7.0502519607543945,
          7.081008434295654,
          7.0900678634643555,
          7.088606357574463
         ]
        },
        {
         "mode": "lines",
         "name": "Real (30)",
         "type": "scatter",
         "visible": false,
         "x": [
          "2014-04-26",
          "2014-04-27",
          "2014-04-28",
          "2014-04-29",
          "2014-04-30",
          "2014-05-01",
          "2014-05-02",
          "2014-05-03",
          "2014-05-04",
          "2014-05-05"
         ],
         "y": [
          7.800000190734863,
          7.800000190734863,
          8,
          8,
          7.800000190734863,
          8.199999809265137,
          8,
          7.800000190734863,
          7.800000190734863,
          8
         ]
        },
        {
         "mode": "lines",
         "name": "Predicted (30)",
         "type": "scatter",
         "visible": false,
         "x": [
          "2014-04-26",
          "2014-04-27",
          "2014-04-28",
          "2014-04-29",
          "2014-04-30",
          "2014-05-01",
          "2014-05-02",
          "2014-05-03",
          "2014-05-04",
          "2014-05-05"
         ],
         "y": [
          7.0390191078186035,
          7.121414661407471,
          7.119307994842529,
          7.114202976226807,
          7.1158952713012695,
          7.1118340492248535,
          7.114979267120361,
          7.125853538513184,
          7.108301639556885,
          7.1022467613220215
         ]
        },
        {
         "mode": "lines",
         "name": "Real (31)",
         "type": "scatter",
         "visible": false,
         "x": [
          "2014-05-07",
          "2014-05-08",
          "2014-05-09",
          "2014-05-10",
          "2014-05-11",
          "2014-05-12",
          "2014-05-13",
          "2014-05-14",
          "2014-05-15"
         ],
         "y": [
          6.75,
          7,
          7,
          7.333333492279053,
          7,
          7,
          7,
          7,
          7
         ]
        },
        {
         "mode": "lines",
         "name": "Predicted (31)",
         "type": "scatter",
         "visible": false,
         "x": [
          "2014-05-07",
          "2014-05-08",
          "2014-05-09",
          "2014-05-10",
          "2014-05-11",
          "2014-05-12",
          "2014-05-13",
          "2014-05-14",
          "2014-05-15"
         ],
         "y": [
          7.102384090423584,
          7.102405548095703,
          7.113401889801025,
          7.1103363037109375,
          7.116173267364502,
          7.108460426330566,
          7.118668079376221,
          7.119815349578857,
          7.1208977699279785
         ]
        },
        {
         "mode": "lines",
         "name": "Real (32)",
         "type": "scatter",
         "visible": false,
         "x": [
          "2014-05-04",
          "2014-05-05",
          "2014-05-06",
          "2014-05-07",
          "2014-05-08",
          "2014-05-09",
          "2014-05-10",
          "2014-05-11",
          "2014-05-12"
         ],
         "y": [
          8.666666984558105,
          7,
          6.5,
          6,
          6,
          7.75,
          7.25,
          7.199999809265137,
          7.199999809265137
         ]
        },
        {
         "mode": "lines",
         "name": "Predicted (32)",
         "type": "scatter",
         "visible": false,
         "x": [
          "2014-05-04",
          "2014-05-05",
          "2014-05-06",
          "2014-05-07",
          "2014-05-08",
          "2014-05-09",
          "2014-05-10",
          "2014-05-11",
          "2014-05-12"
         ],
         "y": [
          7.117828845977783,
          7.121829032897949,
          7.102189540863037,
          7.090083599090576,
          7.051992416381836,
          7.0610833168029785,
          7.113805770874023,
          7.111182689666748,
          7.098477840423584
         ]
        },
        {
         "mode": "lines",
         "name": "Real (33)",
         "type": "scatter",
         "visible": false,
         "x": [
          "2014-05-22",
          "2014-05-23",
          "2014-05-24",
          "2014-05-25",
          "2014-05-26",
          "2014-05-27",
          "2014-05-28",
          "2014-05-29",
          "2014-05-30",
          "2014-05-31"
         ],
         "y": [
          5.75,
          5.833333492279053,
          6.400000095367432,
          6.25,
          5.400000095367432,
          6.199999809265137,
          8.199999809265137,
          7,
          6.800000190734863,
          7
         ]
        },
        {
         "mode": "lines",
         "name": "Predicted (33)",
         "type": "scatter",
         "visible": false,
         "x": [
          "2014-05-22",
          "2014-05-23",
          "2014-05-24",
          "2014-05-25",
          "2014-05-26",
          "2014-05-27",
          "2014-05-28",
          "2014-05-29",
          "2014-05-30",
          "2014-05-31"
         ],
         "y": [
          7.090957164764404,
          7.094024181365967,
          7.050708293914795,
          7.060762882232666,
          7.104123115539551,
          7.0595526695251465,
          7.067239761352539,
          7.112411975860596,
          7.0990800857543945,
          7.089941501617432
         ]
        }
       ],
       "layout": {
        "template": {
         "data": {
          "bar": [
           {
            "error_x": {
             "color": "#2a3f5f"
            },
            "error_y": {
             "color": "#2a3f5f"
            },
            "marker": {
             "line": {
              "color": "#E5ECF6",
              "width": 0.5
             },
             "pattern": {
              "fillmode": "overlay",
              "size": 10,
              "solidity": 0.2
             }
            },
            "type": "bar"
           }
          ],
          "barpolar": [
           {
            "marker": {
             "line": {
              "color": "#E5ECF6",
              "width": 0.5
             },
             "pattern": {
              "fillmode": "overlay",
              "size": 10,
              "solidity": 0.2
             }
            },
            "type": "barpolar"
           }
          ],
          "carpet": [
           {
            "aaxis": {
             "endlinecolor": "#2a3f5f",
             "gridcolor": "white",
             "linecolor": "white",
             "minorgridcolor": "white",
             "startlinecolor": "#2a3f5f"
            },
            "baxis": {
             "endlinecolor": "#2a3f5f",
             "gridcolor": "white",
             "linecolor": "white",
             "minorgridcolor": "white",
             "startlinecolor": "#2a3f5f"
            },
            "type": "carpet"
           }
          ],
          "choropleth": [
           {
            "colorbar": {
             "outlinewidth": 0,
             "ticks": ""
            },
            "type": "choropleth"
           }
          ],
          "contour": [
           {
            "colorbar": {
             "outlinewidth": 0,
             "ticks": ""
            },
            "colorscale": [
             [
              0,
              "#0d0887"
             ],
             [
              0.1111111111111111,
              "#46039f"
             ],
             [
              0.2222222222222222,
              "#7201a8"
             ],
             [
              0.3333333333333333,
              "#9c179e"
             ],
             [
              0.4444444444444444,
              "#bd3786"
             ],
             [
              0.5555555555555556,
              "#d8576b"
             ],
             [
              0.6666666666666666,
              "#ed7953"
             ],
             [
              0.7777777777777778,
              "#fb9f3a"
             ],
             [
              0.8888888888888888,
              "#fdca26"
             ],
             [
              1,
              "#f0f921"
             ]
            ],
            "type": "contour"
           }
          ],
          "contourcarpet": [
           {
            "colorbar": {
             "outlinewidth": 0,
             "ticks": ""
            },
            "type": "contourcarpet"
           }
          ],
          "heatmap": [
           {
            "colorbar": {
             "outlinewidth": 0,
             "ticks": ""
            },
            "colorscale": [
             [
              0,
              "#0d0887"
             ],
             [
              0.1111111111111111,
              "#46039f"
             ],
             [
              0.2222222222222222,
              "#7201a8"
             ],
             [
              0.3333333333333333,
              "#9c179e"
             ],
             [
              0.4444444444444444,
              "#bd3786"
             ],
             [
              0.5555555555555556,
              "#d8576b"
             ],
             [
              0.6666666666666666,
              "#ed7953"
             ],
             [
              0.7777777777777778,
              "#fb9f3a"
             ],
             [
              0.8888888888888888,
              "#fdca26"
             ],
             [
              1,
              "#f0f921"
             ]
            ],
            "type": "heatmap"
           }
          ],
          "heatmapgl": [
           {
            "colorbar": {
             "outlinewidth": 0,
             "ticks": ""
            },
            "colorscale": [
             [
              0,
              "#0d0887"
             ],
             [
              0.1111111111111111,
              "#46039f"
             ],
             [
              0.2222222222222222,
              "#7201a8"
             ],
             [
              0.3333333333333333,
              "#9c179e"
             ],
             [
              0.4444444444444444,
              "#bd3786"
             ],
             [
              0.5555555555555556,
              "#d8576b"
             ],
             [
              0.6666666666666666,
              "#ed7953"
             ],
             [
              0.7777777777777778,
              "#fb9f3a"
             ],
             [
              0.8888888888888888,
              "#fdca26"
             ],
             [
              1,
              "#f0f921"
             ]
            ],
            "type": "heatmapgl"
           }
          ],
          "histogram": [
           {
            "marker": {
             "pattern": {
              "fillmode": "overlay",
              "size": 10,
              "solidity": 0.2
             }
            },
            "type": "histogram"
           }
          ],
          "histogram2d": [
           {
            "colorbar": {
             "outlinewidth": 0,
             "ticks": ""
            },
            "colorscale": [
             [
              0,
              "#0d0887"
             ],
             [
              0.1111111111111111,
              "#46039f"
             ],
             [
              0.2222222222222222,
              "#7201a8"
             ],
             [
              0.3333333333333333,
              "#9c179e"
             ],
             [
              0.4444444444444444,
              "#bd3786"
             ],
             [
              0.5555555555555556,
              "#d8576b"
             ],
             [
              0.6666666666666666,
              "#ed7953"
             ],
             [
              0.7777777777777778,
              "#fb9f3a"
             ],
             [
              0.8888888888888888,
              "#fdca26"
             ],
             [
              1,
              "#f0f921"
             ]
            ],
            "type": "histogram2d"
           }
          ],
          "histogram2dcontour": [
           {
            "colorbar": {
             "outlinewidth": 0,
             "ticks": ""
            },
            "colorscale": [
             [
              0,
              "#0d0887"
             ],
             [
              0.1111111111111111,
              "#46039f"
             ],
             [
              0.2222222222222222,
              "#7201a8"
             ],
             [
              0.3333333333333333,
              "#9c179e"
             ],
             [
              0.4444444444444444,
              "#bd3786"
             ],
             [
              0.5555555555555556,
              "#d8576b"
             ],
             [
              0.6666666666666666,
              "#ed7953"
             ],
             [
              0.7777777777777778,
              "#fb9f3a"
             ],
             [
              0.8888888888888888,
              "#fdca26"
             ],
             [
              1,
              "#f0f921"
             ]
            ],
            "type": "histogram2dcontour"
           }
          ],
          "mesh3d": [
           {
            "colorbar": {
             "outlinewidth": 0,
             "ticks": ""
            },
            "type": "mesh3d"
           }
          ],
          "parcoords": [
           {
            "line": {
             "colorbar": {
              "outlinewidth": 0,
              "ticks": ""
             }
            },
            "type": "parcoords"
           }
          ],
          "pie": [
           {
            "automargin": true,
            "type": "pie"
           }
          ],
          "scatter": [
           {
            "fillpattern": {
             "fillmode": "overlay",
             "size": 10,
             "solidity": 0.2
            },
            "type": "scatter"
           }
          ],
          "scatter3d": [
           {
            "line": {
             "colorbar": {
              "outlinewidth": 0,
              "ticks": ""
             }
            },
            "marker": {
             "colorbar": {
              "outlinewidth": 0,
              "ticks": ""
             }
            },
            "type": "scatter3d"
           }
          ],
          "scattercarpet": [
           {
            "marker": {
             "colorbar": {
              "outlinewidth": 0,
              "ticks": ""
             }
            },
            "type": "scattercarpet"
           }
          ],
          "scattergeo": [
           {
            "marker": {
             "colorbar": {
              "outlinewidth": 0,
              "ticks": ""
             }
            },
            "type": "scattergeo"
           }
          ],
          "scattergl": [
           {
            "marker": {
             "colorbar": {
              "outlinewidth": 0,
              "ticks": ""
             }
            },
            "type": "scattergl"
           }
          ],
          "scattermapbox": [
           {
            "marker": {
             "colorbar": {
              "outlinewidth": 0,
              "ticks": ""
             }
            },
            "type": "scattermapbox"
           }
          ],
          "scatterpolar": [
           {
            "marker": {
             "colorbar": {
              "outlinewidth": 0,
              "ticks": ""
             }
            },
            "type": "scatterpolar"
           }
          ],
          "scatterpolargl": [
           {
            "marker": {
             "colorbar": {
              "outlinewidth": 0,
              "ticks": ""
             }
            },
            "type": "scatterpolargl"
           }
          ],
          "scatterternary": [
           {
            "marker": {
             "colorbar": {
              "outlinewidth": 0,
              "ticks": ""
             }
            },
            "type": "scatterternary"
           }
          ],
          "surface": [
           {
            "colorbar": {
             "outlinewidth": 0,
             "ticks": ""
            },
            "colorscale": [
             [
              0,
              "#0d0887"
             ],
             [
              0.1111111111111111,
              "#46039f"
             ],
             [
              0.2222222222222222,
              "#7201a8"
             ],
             [
              0.3333333333333333,
              "#9c179e"
             ],
             [
              0.4444444444444444,
              "#bd3786"
             ],
             [
              0.5555555555555556,
              "#d8576b"
             ],
             [
              0.6666666666666666,
              "#ed7953"
             ],
             [
              0.7777777777777778,
              "#fb9f3a"
             ],
             [
              0.8888888888888888,
              "#fdca26"
             ],
             [
              1,
              "#f0f921"
             ]
            ],
            "type": "surface"
           }
          ],
          "table": [
           {
            "cells": {
             "fill": {
              "color": "#EBF0F8"
             },
             "line": {
              "color": "white"
             }
            },
            "header": {
             "fill": {
              "color": "#C8D4E3"
             },
             "line": {
              "color": "white"
             }
            },
            "type": "table"
           }
          ]
         },
         "layout": {
          "annotationdefaults": {
           "arrowcolor": "#2a3f5f",
           "arrowhead": 0,
           "arrowwidth": 1
          },
          "autotypenumbers": "strict",
          "coloraxis": {
           "colorbar": {
            "outlinewidth": 0,
            "ticks": ""
           }
          },
          "colorscale": {
           "diverging": [
            [
             0,
             "#8e0152"
            ],
            [
             0.1,
             "#c51b7d"
            ],
            [
             0.2,
             "#de77ae"
            ],
            [
             0.3,
             "#f1b6da"
            ],
            [
             0.4,
             "#fde0ef"
            ],
            [
             0.5,
             "#f7f7f7"
            ],
            [
             0.6,
             "#e6f5d0"
            ],
            [
             0.7,
             "#b8e186"
            ],
            [
             0.8,
             "#7fbc41"
            ],
            [
             0.9,
             "#4d9221"
            ],
            [
             1,
             "#276419"
            ]
           ],
           "sequential": [
            [
             0,
             "#0d0887"
            ],
            [
             0.1111111111111111,
             "#46039f"
            ],
            [
             0.2222222222222222,
             "#7201a8"
            ],
            [
             0.3333333333333333,
             "#9c179e"
            ],
            [
             0.4444444444444444,
             "#bd3786"
            ],
            [
             0.5555555555555556,
             "#d8576b"
            ],
            [
             0.6666666666666666,
             "#ed7953"
            ],
            [
             0.7777777777777778,
             "#fb9f3a"
            ],
            [
             0.8888888888888888,
             "#fdca26"
            ],
            [
             1,
             "#f0f921"
            ]
           ],
           "sequentialminus": [
            [
             0,
             "#0d0887"
            ],
            [
             0.1111111111111111,
             "#46039f"
            ],
            [
             0.2222222222222222,
             "#7201a8"
            ],
            [
             0.3333333333333333,
             "#9c179e"
            ],
            [
             0.4444444444444444,
             "#bd3786"
            ],
            [
             0.5555555555555556,
             "#d8576b"
            ],
            [
             0.6666666666666666,
             "#ed7953"
            ],
            [
             0.7777777777777778,
             "#fb9f3a"
            ],
            [
             0.8888888888888888,
             "#fdca26"
            ],
            [
             1,
             "#f0f921"
            ]
           ]
          },
          "colorway": [
           "#636efa",
           "#EF553B",
           "#00cc96",
           "#ab63fa",
           "#FFA15A",
           "#19d3f3",
           "#FF6692",
           "#B6E880",
           "#FF97FF",
           "#FECB52"
          ],
          "font": {
           "color": "#2a3f5f"
          },
          "geo": {
           "bgcolor": "white",
           "lakecolor": "white",
           "landcolor": "#E5ECF6",
           "showlakes": true,
           "showland": true,
           "subunitcolor": "white"
          },
          "hoverlabel": {
           "align": "left"
          },
          "hovermode": "closest",
          "mapbox": {
           "style": "light"
          },
          "paper_bgcolor": "white",
          "plot_bgcolor": "#E5ECF6",
          "polar": {
           "angularaxis": {
            "gridcolor": "white",
            "linecolor": "white",
            "ticks": ""
           },
           "bgcolor": "#E5ECF6",
           "radialaxis": {
            "gridcolor": "white",
            "linecolor": "white",
            "ticks": ""
           }
          },
          "scene": {
           "xaxis": {
            "backgroundcolor": "#E5ECF6",
            "gridcolor": "white",
            "gridwidth": 2,
            "linecolor": "white",
            "showbackground": true,
            "ticks": "",
            "zerolinecolor": "white"
           },
           "yaxis": {
            "backgroundcolor": "#E5ECF6",
            "gridcolor": "white",
            "gridwidth": 2,
            "linecolor": "white",
            "showbackground": true,
            "ticks": "",
            "zerolinecolor": "white"
           },
           "zaxis": {
            "backgroundcolor": "#E5ECF6",
            "gridcolor": "white",
            "gridwidth": 2,
            "linecolor": "white",
            "showbackground": true,
            "ticks": "",
            "zerolinecolor": "white"
           }
          },
          "shapedefaults": {
           "line": {
            "color": "#2a3f5f"
           }
          },
          "ternary": {
           "aaxis": {
            "gridcolor": "white",
            "linecolor": "white",
            "ticks": ""
           },
           "baxis": {
            "gridcolor": "white",
            "linecolor": "white",
            "ticks": ""
           },
           "bgcolor": "#E5ECF6",
           "caxis": {
            "gridcolor": "white",
            "linecolor": "white",
            "ticks": ""
           }
          },
          "title": {
           "x": 0.05
          },
          "xaxis": {
           "automargin": true,
           "gridcolor": "white",
           "linecolor": "white",
           "ticks": "",
           "title": {
            "standoff": 15
           },
           "zerolinecolor": "white",
           "zerolinewidth": 2
          },
          "yaxis": {
           "automargin": true,
           "gridcolor": "white",
           "linecolor": "white",
           "ticks": "",
           "title": {
            "standoff": 15
           },
           "zerolinecolor": "white",
           "zerolinewidth": 2
          }
         }
        },
        "title": {
         "text": "Real vs Predicted Mood Values for Participant 1"
        },
        "updatemenus": [
         {
          "active": 0,
          "buttons": [
           {
            "args": [
             {
              "visible": [
               true,
               true,
               false,
               false,
               false,
               false,
               false,
               false,
               false,
               false,
               false,
               false,
               false,
               false,
               false,
               false,
               false,
               false,
               false,
               false,
               false,
               false,
               false,
               false,
               false,
               false,
               false,
               false,
               false,
               false,
               false,
               false,
               false,
               false,
               false,
               false,
               false,
               false,
               false,
               false,
               false,
               false,
               false,
               false,
               false,
               false,
               false,
               false,
               false,
               false,
               false,
               false,
               false,
               false
              ]
             },
             {
              "title": "Real vs Predicted Mood Values for Participant 1",
              "xaxis": {
               "title": "Day"
              },
              "yaxis": {
               "title": "Mood Value"
              }
             }
            ],
            "label": "1",
            "method": "update"
           },
           {
            "args": [
             {
              "visible": [
               false,
               false,
               true,
               true,
               false,
               false,
               false,
               false,
               false,
               false,
               false,
               false,
               false,
               false,
               false,
               false,
               false,
               false,
               false,
               false,
               false,
               false,
               false,
               false,
               false,
               false,
               false,
               false,
               false,
               false,
               false,
               false,
               false,
               false,
               false,
               false,
               false,
               false,
               false,
               false,
               false,
               false,
               false,
               false,
               false,
               false,
               false,
               false,
               false,
               false,
               false,
               false,
               false,
               false
              ]
             },
             {
              "title": "Real vs Predicted Mood Values for Participant 2",
              "xaxis": {
               "title": "Day"
              },
              "yaxis": {
               "title": "Mood Value"
              }
             }
            ],
            "label": "2",
            "method": "update"
           },
           {
            "args": [
             {
              "visible": [
               false,
               false,
               false,
               false,
               true,
               true,
               false,
               false,
               false,
               false,
               false,
               false,
               false,
               false,
               false,
               false,
               false,
               false,
               false,
               false,
               false,
               false,
               false,
               false,
               false,
               false,
               false,
               false,
               false,
               false,
               false,
               false,
               false,
               false,
               false,
               false,
               false,
               false,
               false,
               false,
               false,
               false,
               false,
               false,
               false,
               false,
               false,
               false,
               false,
               false,
               false,
               false,
               false,
               false
              ]
             },
             {
              "title": "Real vs Predicted Mood Values for Participant 3",
              "xaxis": {
               "title": "Day"
              },
              "yaxis": {
               "title": "Mood Value"
              }
             }
            ],
            "label": "3",
            "method": "update"
           },
           {
            "args": [
             {
              "visible": [
               false,
               false,
               false,
               false,
               false,
               false,
               true,
               true,
               false,
               false,
               false,
               false,
               false,
               false,
               false,
               false,
               false,
               false,
               false,
               false,
               false,
               false,
               false,
               false,
               false,
               false,
               false,
               false,
               false,
               false,
               false,
               false,
               false,
               false,
               false,
               false,
               false,
               false,
               false,
               false,
               false,
               false,
               false,
               false,
               false,
               false,
               false,
               false,
               false,
               false,
               false,
               false,
               false,
               false
              ]
             },
             {
              "title": "Real vs Predicted Mood Values for Participant 5",
              "xaxis": {
               "title": "Day"
              },
              "yaxis": {
               "title": "Mood Value"
              }
             }
            ],
            "label": "5",
            "method": "update"
           },
           {
            "args": [
             {
              "visible": [
               false,
               false,
               false,
               false,
               false,
               false,
               false,
               false,
               true,
               true,
               false,
               false,
               false,
               false,
               false,
               false,
               false,
               false,
               false,
               false,
               false,
               false,
               false,
               false,
               false,
               false,
               false,
               false,
               false,
               false,
               false,
               false,
               false,
               false,
               false,
               false,
               false,
               false,
               false,
               false,
               false,
               false,
               false,
               false,
               false,
               false,
               false,
               false,
               false,
               false,
               false,
               false,
               false,
               false
              ]
             },
             {
              "title": "Real vs Predicted Mood Values for Participant 6",
              "xaxis": {
               "title": "Day"
              },
              "yaxis": {
               "title": "Mood Value"
              }
             }
            ],
            "label": "6",
            "method": "update"
           },
           {
            "args": [
             {
              "visible": [
               false,
               false,
               false,
               false,
               false,
               false,
               false,
               false,
               false,
               false,
               true,
               true,
               false,
               false,
               false,
               false,
               false,
               false,
               false,
               false,
               false,
               false,
               false,
               false,
               false,
               false,
               false,
               false,
               false,
               false,
               false,
               false,
               false,
               false,
               false,
               false,
               false,
               false,
               false,
               false,
               false,
               false,
               false,
               false,
               false,
               false,
               false,
               false,
               false,
               false,
               false,
               false,
               false,
               false
              ]
             },
             {
              "title": "Real vs Predicted Mood Values for Participant 7",
              "xaxis": {
               "title": "Day"
              },
              "yaxis": {
               "title": "Mood Value"
              }
             }
            ],
            "label": "7",
            "method": "update"
           },
           {
            "args": [
             {
              "visible": [
               false,
               false,
               false,
               false,
               false,
               false,
               false,
               false,
               false,
               false,
               false,
               false,
               true,
               true,
               false,
               false,
               false,
               false,
               false,
               false,
               false,
               false,
               false,
               false,
               false,
               false,
               false,
               false,
               false,
               false,
               false,
               false,
               false,
               false,
               false,
               false,
               false,
               false,
               false,
               false,
               false,
               false,
               false,
               false,
               false,
               false,
               false,
               false,
               false,
               false,
               false,
               false,
               false,
               false
              ]
             },
             {
              "title": "Real vs Predicted Mood Values for Participant 8",
              "xaxis": {
               "title": "Day"
              },
              "yaxis": {
               "title": "Mood Value"
              }
             }
            ],
            "label": "8",
            "method": "update"
           },
           {
            "args": [
             {
              "visible": [
               false,
               false,
               false,
               false,
               false,
               false,
               false,
               false,
               false,
               false,
               false,
               false,
               false,
               false,
               true,
               true,
               false,
               false,
               false,
               false,
               false,
               false,
               false,
               false,
               false,
               false,
               false,
               false,
               false,
               false,
               false,
               false,
               false,
               false,
               false,
               false,
               false,
               false,
               false,
               false,
               false,
               false,
               false,
               false,
               false,
               false,
               false,
               false,
               false,
               false,
               false,
               false,
               false,
               false
              ]
             },
             {
              "title": "Real vs Predicted Mood Values for Participant 9",
              "xaxis": {
               "title": "Day"
              },
              "yaxis": {
               "title": "Mood Value"
              }
             }
            ],
            "label": "9",
            "method": "update"
           },
           {
            "args": [
             {
              "visible": [
               false,
               false,
               false,
               false,
               false,
               false,
               false,
               false,
               false,
               false,
               false,
               false,
               false,
               false,
               false,
               false,
               true,
               true,
               false,
               false,
               false,
               false,
               false,
               false,
               false,
               false,
               false,
               false,
               false,
               false,
               false,
               false,
               false,
               false,
               false,
               false,
               false,
               false,
               false,
               false,
               false,
               false,
               false,
               false,
               false,
               false,
               false,
               false,
               false,
               false,
               false,
               false,
               false,
               false
              ]
             },
             {
              "title": "Real vs Predicted Mood Values for Participant 12",
              "xaxis": {
               "title": "Day"
              },
              "yaxis": {
               "title": "Mood Value"
              }
             }
            ],
            "label": "12",
            "method": "update"
           },
           {
            "args": [
             {
              "visible": [
               false,
               false,
               false,
               false,
               false,
               false,
               false,
               false,
               false,
               false,
               false,
               false,
               false,
               false,
               false,
               false,
               false,
               false,
               true,
               true,
               false,
               false,
               false,
               false,
               false,
               false,
               false,
               false,
               false,
               false,
               false,
               false,
               false,
               false,
               false,
               false,
               false,
               false,
               false,
               false,
               false,
               false,
               false,
               false,
               false,
               false,
               false,
               false,
               false,
               false,
               false,
               false,
               false,
               false
              ]
             },
             {
              "title": "Real vs Predicted Mood Values for Participant 13",
              "xaxis": {
               "title": "Day"
              },
              "yaxis": {
               "title": "Mood Value"
              }
             }
            ],
            "label": "13",
            "method": "update"
           },
           {
            "args": [
             {
              "visible": [
               false,
               false,
               false,
               false,
               false,
               false,
               false,
               false,
               false,
               false,
               false,
               false,
               false,
               false,
               false,
               false,
               false,
               false,
               false,
               false,
               true,
               true,
               false,
               false,
               false,
               false,
               false,
               false,
               false,
               false,
               false,
               false,
               false,
               false,
               false,
               false,
               false,
               false,
               false,
               false,
               false,
               false,
               false,
               false,
               false,
               false,
               false,
               false,
               false,
               false,
               false,
               false,
               false,
               false
              ]
             },
             {
              "title": "Real vs Predicted Mood Values for Participant 14",
              "xaxis": {
               "title": "Day"
              },
              "yaxis": {
               "title": "Mood Value"
              }
             }
            ],
            "label": "14",
            "method": "update"
           },
           {
            "args": [
             {
              "visible": [
               false,
               false,
               false,
               false,
               false,
               false,
               false,
               false,
               false,
               false,
               false,
               false,
               false,
               false,
               false,
               false,
               false,
               false,
               false,
               false,
               false,
               false,
               true,
               true,
               false,
               false,
               false,
               false,
               false,
               false,
               false,
               false,
               false,
               false,
               false,
               false,
               false,
               false,
               false,
               false,
               false,
               false,
               false,
               false,
               false,
               false,
               false,
               false,
               false,
               false,
               false,
               false,
               false,
               false
              ]
             },
             {
              "title": "Real vs Predicted Mood Values for Participant 15",
              "xaxis": {
               "title": "Day"
              },
              "yaxis": {
               "title": "Mood Value"
              }
             }
            ],
            "label": "15",
            "method": "update"
           },
           {
            "args": [
             {
              "visible": [
               false,
               false,
               false,
               false,
               false,
               false,
               false,
               false,
               false,
               false,
               false,
               false,
               false,
               false,
               false,
               false,
               false,
               false,
               false,
               false,
               false,
               false,
               false,
               false,
               true,
               true,
               false,
               false,
               false,
               false,
               false,
               false,
               false,
               false,
               false,
               false,
               false,
               false,
               false,
               false,
               false,
               false,
               false,
               false,
               false,
               false,
               false,
               false,
               false,
               false,
               false,
               false,
               false,
               false
              ]
             },
             {
              "title": "Real vs Predicted Mood Values for Participant 16",
              "xaxis": {
               "title": "Day"
              },
              "yaxis": {
               "title": "Mood Value"
              }
             }
            ],
            "label": "16",
            "method": "update"
           },
           {
            "args": [
             {
              "visible": [
               false,
               false,
               false,
               false,
               false,
               false,
               false,
               false,
               false,
               false,
               false,
               false,
               false,
               false,
               false,
               false,
               false,
               false,
               false,
               false,
               false,
               false,
               false,
               false,
               false,
               false,
               true,
               true,
               false,
               false,
               false,
               false,
               false,
               false,
               false,
               false,
               false,
               false,
               false,
               false,
               false,
               false,
               false,
               false,
               false,
               false,
               false,
               false,
               false,
               false,
               false,
               false,
               false,
               false
              ]
             },
             {
              "title": "Real vs Predicted Mood Values for Participant 17",
              "xaxis": {
               "title": "Day"
              },
              "yaxis": {
               "title": "Mood Value"
              }
             }
            ],
            "label": "17",
            "method": "update"
           },
           {
            "args": [
             {
              "visible": [
               false,
               false,
               false,
               false,
               false,
               false,
               false,
               false,
               false,
               false,
               false,
               false,
               false,
               false,
               false,
               false,
               false,
               false,
               false,
               false,
               false,
               false,
               false,
               false,
               false,
               false,
               false,
               false,
               true,
               true,
               false,
               false,
               false,
               false,
               false,
               false,
               false,
               false,
               false,
               false,
               false,
               false,
               false,
               false,
               false,
               false,
               false,
               false,
               false,
               false,
               false,
               false,
               false,
               false
              ]
             },
             {
              "title": "Real vs Predicted Mood Values for Participant 19",
              "xaxis": {
               "title": "Day"
              },
              "yaxis": {
               "title": "Mood Value"
              }
             }
            ],
            "label": "19",
            "method": "update"
           },
           {
            "args": [
             {
              "visible": [
               false,
               false,
               false,
               false,
               false,
               false,
               false,
               false,
               false,
               false,
               false,
               false,
               false,
               false,
               false,
               false,
               false,
               false,
               false,
               false,
               false,
               false,
               false,
               false,
               false,
               false,
               false,
               false,
               false,
               false,
               true,
               true,
               false,
               false,
               false,
               false,
               false,
               false,
               false,
               false,
               false,
               false,
               false,
               false,
               false,
               false,
               false,
               false,
               false,
               false,
               false,
               false,
               false,
               false
              ]
             },
             {
              "title": "Real vs Predicted Mood Values for Participant 20",
              "xaxis": {
               "title": "Day"
              },
              "yaxis": {
               "title": "Mood Value"
              }
             }
            ],
            "label": "20",
            "method": "update"
           },
           {
            "args": [
             {
              "visible": [
               false,
               false,
               false,
               false,
               false,
               false,
               false,
               false,
               false,
               false,
               false,
               false,
               false,
               false,
               false,
               false,
               false,
               false,
               false,
               false,
               false,
               false,
               false,
               false,
               false,
               false,
               false,
               false,
               false,
               false,
               false,
               false,
               true,
               true,
               false,
               false,
               false,
               false,
               false,
               false,
               false,
               false,
               false,
               false,
               false,
               false,
               false,
               false,
               false,
               false,
               false,
               false,
               false,
               false
              ]
             },
             {
              "title": "Real vs Predicted Mood Values for Participant 23",
              "xaxis": {
               "title": "Day"
              },
              "yaxis": {
               "title": "Mood Value"
              }
             }
            ],
            "label": "23",
            "method": "update"
           },
           {
            "args": [
             {
              "visible": [
               false,
               false,
               false,
               false,
               false,
               false,
               false,
               false,
               false,
               false,
               false,
               false,
               false,
               false,
               false,
               false,
               false,
               false,
               false,
               false,
               false,
               false,
               false,
               false,
               false,
               false,
               false,
               false,
               false,
               false,
               false,
               false,
               false,
               false,
               true,
               true,
               false,
               false,
               false,
               false,
               false,
               false,
               false,
               false,
               false,
               false,
               false,
               false,
               false,
               false,
               false,
               false,
               false,
               false
              ]
             },
             {
              "title": "Real vs Predicted Mood Values for Participant 24",
              "xaxis": {
               "title": "Day"
              },
              "yaxis": {
               "title": "Mood Value"
              }
             }
            ],
            "label": "24",
            "method": "update"
           },
           {
            "args": [
             {
              "visible": [
               false,
               false,
               false,
               false,
               false,
               false,
               false,
               false,
               false,
               false,
               false,
               false,
               false,
               false,
               false,
               false,
               false,
               false,
               false,
               false,
               false,
               false,
               false,
               false,
               false,
               false,
               false,
               false,
               false,
               false,
               false,
               false,
               false,
               false,
               false,
               false,
               true,
               true,
               false,
               false,
               false,
               false,
               false,
               false,
               false,
               false,
               false,
               false,
               false,
               false,
               false,
               false,
               false,
               false
              ]
             },
             {
              "title": "Real vs Predicted Mood Values for Participant 25",
              "xaxis": {
               "title": "Day"
              },
              "yaxis": {
               "title": "Mood Value"
              }
             }
            ],
            "label": "25",
            "method": "update"
           },
           {
            "args": [
             {
              "visible": [
               false,
               false,
               false,
               false,
               false,
               false,
               false,
               false,
               false,
               false,
               false,
               false,
               false,
               false,
               false,
               false,
               false,
               false,
               false,
               false,
               false,
               false,
               false,
               false,
               false,
               false,
               false,
               false,
               false,
               false,
               false,
               false,
               false,
               false,
               false,
               false,
               false,
               false,
               true,
               true,
               false,
               false,
               false,
               false,
               false,
               false,
               false,
               false,
               false,
               false,
               false,
               false,
               false,
               false
              ]
             },
             {
              "title": "Real vs Predicted Mood Values for Participant 26",
              "xaxis": {
               "title": "Day"
              },
              "yaxis": {
               "title": "Mood Value"
              }
             }
            ],
            "label": "26",
            "method": "update"
           },
           {
            "args": [
             {
              "visible": [
               false,
               false,
               false,
               false,
               false,
               false,
               false,
               false,
               false,
               false,
               false,
               false,
               false,
               false,
               false,
               false,
               false,
               false,
               false,
               false,
               false,
               false,
               false,
               false,
               false,
               false,
               false,
               false,
               false,
               false,
               false,
               false,
               false,
               false,
               false,
               false,
               false,
               false,
               false,
               false,
               true,
               true,
               false,
               false,
               false,
               false,
               false,
               false,
               false,
               false,
               false,
               false,
               false,
               false
              ]
             },
             {
              "title": "Real vs Predicted Mood Values for Participant 27",
              "xaxis": {
               "title": "Day"
              },
              "yaxis": {
               "title": "Mood Value"
              }
             }
            ],
            "label": "27",
            "method": "update"
           },
           {
            "args": [
             {
              "visible": [
               false,
               false,
               false,
               false,
               false,
               false,
               false,
               false,
               false,
               false,
               false,
               false,
               false,
               false,
               false,
               false,
               false,
               false,
               false,
               false,
               false,
               false,
               false,
               false,
               false,
               false,
               false,
               false,
               false,
               false,
               false,
               false,
               false,
               false,
               false,
               false,
               false,
               false,
               false,
               false,
               false,
               false,
               true,
               true,
               false,
               false,
               false,
               false,
               false,
               false,
               false,
               false,
               false,
               false
              ]
             },
             {
              "title": "Real vs Predicted Mood Values for Participant 28",
              "xaxis": {
               "title": "Day"
              },
              "yaxis": {
               "title": "Mood Value"
              }
             }
            ],
            "label": "28",
            "method": "update"
           },
           {
            "args": [
             {
              "visible": [
               false,
               false,
               false,
               false,
               false,
               false,
               false,
               false,
               false,
               false,
               false,
               false,
               false,
               false,
               false,
               false,
               false,
               false,
               false,
               false,
               false,
               false,
               false,
               false,
               false,
               false,
               false,
               false,
               false,
               false,
               false,
               false,
               false,
               false,
               false,
               false,
               false,
               false,
               false,
               false,
               false,
               false,
               false,
               false,
               true,
               true,
               false,
               false,
               false,
               false,
               false,
               false,
               false,
               false
              ]
             },
             {
              "title": "Real vs Predicted Mood Values for Participant 29",
              "xaxis": {
               "title": "Day"
              },
              "yaxis": {
               "title": "Mood Value"
              }
             }
            ],
            "label": "29",
            "method": "update"
           },
           {
            "args": [
             {
              "visible": [
               false,
               false,
               false,
               false,
               false,
               false,
               false,
               false,
               false,
               false,
               false,
               false,
               false,
               false,
               false,
               false,
               false,
               false,
               false,
               false,
               false,
               false,
               false,
               false,
               false,
               false,
               false,
               false,
               false,
               false,
               false,
               false,
               false,
               false,
               false,
               false,
               false,
               false,
               false,
               false,
               false,
               false,
               false,
               false,
               false,
               false,
               true,
               true,
               false,
               false,
               false,
               false,
               false,
               false
              ]
             },
             {
              "title": "Real vs Predicted Mood Values for Participant 30",
              "xaxis": {
               "title": "Day"
              },
              "yaxis": {
               "title": "Mood Value"
              }
             }
            ],
            "label": "30",
            "method": "update"
           },
           {
            "args": [
             {
              "visible": [
               false,
               false,
               false,
               false,
               false,
               false,
               false,
               false,
               false,
               false,
               false,
               false,
               false,
               false,
               false,
               false,
               false,
               false,
               false,
               false,
               false,
               false,
               false,
               false,
               false,
               false,
               false,
               false,
               false,
               false,
               false,
               false,
               false,
               false,
               false,
               false,
               false,
               false,
               false,
               false,
               false,
               false,
               false,
               false,
               false,
               false,
               false,
               false,
               true,
               true,
               false,
               false,
               false,
               false
              ]
             },
             {
              "title": "Real vs Predicted Mood Values for Participant 31",
              "xaxis": {
               "title": "Day"
              },
              "yaxis": {
               "title": "Mood Value"
              }
             }
            ],
            "label": "31",
            "method": "update"
           },
           {
            "args": [
             {
              "visible": [
               false,
               false,
               false,
               false,
               false,
               false,
               false,
               false,
               false,
               false,
               false,
               false,
               false,
               false,
               false,
               false,
               false,
               false,
               false,
               false,
               false,
               false,
               false,
               false,
               false,
               false,
               false,
               false,
               false,
               false,
               false,
               false,
               false,
               false,
               false,
               false,
               false,
               false,
               false,
               false,
               false,
               false,
               false,
               false,
               false,
               false,
               false,
               false,
               false,
               false,
               true,
               true,
               false,
               false
              ]
             },
             {
              "title": "Real vs Predicted Mood Values for Participant 32",
              "xaxis": {
               "title": "Day"
              },
              "yaxis": {
               "title": "Mood Value"
              }
             }
            ],
            "label": "32",
            "method": "update"
           },
           {
            "args": [
             {
              "visible": [
               false,
               false,
               false,
               false,
               false,
               false,
               false,
               false,
               false,
               false,
               false,
               false,
               false,
               false,
               false,
               false,
               false,
               false,
               false,
               false,
               false,
               false,
               false,
               false,
               false,
               false,
               false,
               false,
               false,
               false,
               false,
               false,
               false,
               false,
               false,
               false,
               false,
               false,
               false,
               false,
               false,
               false,
               false,
               false,
               false,
               false,
               false,
               false,
               false,
               false,
               false,
               false,
               true,
               true
              ]
             },
             {
              "title": "Real vs Predicted Mood Values for Participant 33",
              "xaxis": {
               "title": "Day"
              },
              "yaxis": {
               "title": "Mood Value"
              }
             }
            ],
            "label": "33",
            "method": "update"
           }
          ],
          "showactive": true,
          "x": 1.1,
          "y": 1
         }
        ],
        "xaxis": {
         "title": {
          "text": "Day"
         }
        },
        "yaxis": {
         "title": {
          "text": "Mood Value"
         }
        }
       }
      }
     },
     "metadata": {},
     "output_type": "display_data"
    }
   ],
   "source": [
    "# Call the function to predict and plot\n",
    "# predict_and_plot(model, train_loader, train_dataset, target_scaler=scaler_target, show_plot=True, save_html=True, title=\"train\")\n",
    "predict_and_plot(model, test_loader, test_dataset, target_scaler=scaler_target, show_plot=True, save_html=True, title=\"test\")"
   ]
  },
  {
   "cell_type": "code",
   "execution_count": null,
   "metadata": {},
   "outputs": [],
   "source": []
  }
 ],
 "metadata": {
  "kernelspec": {
   "display_name": "datascience",
   "language": "python",
   "name": "python3"
  },
  "language_info": {
   "codemirror_mode": {
    "name": "ipython",
    "version": 3
   },
   "file_extension": ".py",
   "mimetype": "text/x-python",
   "name": "python",
   "nbconvert_exporter": "python",
   "pygments_lexer": "ipython3",
   "version": "3.10.16"
  }
 },
 "nbformat": 4,
 "nbformat_minor": 2
}
