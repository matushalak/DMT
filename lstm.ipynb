{
 "cells": [
  {
   "cell_type": "markdown",
   "metadata": {},
   "source": [
    "# MODELING"
   ]
  },
  {
   "cell_type": "code",
   "execution_count": 180,
   "metadata": {},
   "outputs": [],
   "source": [
    "import numpy as np\n",
    "import matplotlib.pyplot as plt\n",
    "import scipy.stats as stats\n",
    "import seaborn as sns\n",
    "import pandas as pd\n",
    "import os\n",
    "import plotly.graph_objects as go\n",
    "from plotly.subplots import make_subplots\n",
    "import itertools\n",
    "\n",
    "import torch\n",
    "from torch.utils.data import DataLoader, Dataset\n",
    "from sklearn.model_selection import train_test_split\n",
    "from sklearn.preprocessing import StandardScaler, MinMaxScaler\n",
    "from torch import nn\n",
    "import torch.optim as optim\n",
    "import time"
   ]
  },
  {
   "cell_type": "markdown",
   "metadata": {},
   "source": [
    "#### Add Mac acceleration"
   ]
  },
  {
   "cell_type": "code",
   "execution_count": 181,
   "metadata": {},
   "outputs": [
    {
     "name": "stdout",
     "output_type": "stream",
     "text": [
      "tensor([1.], device='mps:0')\n"
     ]
    }
   ],
   "source": [
    "if torch.backends.mps.is_available():\n",
    "    mps_device = torch.device(\"mps\")\n",
    "    x = torch.ones(1, device=mps_device)\n",
    "    print (x)\n",
    "else:\n",
    "    print (\"MPS device not found.\")"
   ]
  },
  {
   "cell_type": "markdown",
   "metadata": {},
   "source": [
    "### Dataset class"
   ]
  },
  {
   "cell_type": "code",
   "execution_count": 182,
   "metadata": {},
   "outputs": [],
   "source": [
    "class MultiParticipantDataset(Dataset):\n",
    "    def __init__(self, df, seq_length, target_col='mood', id_col='id_num', include_target_in_features=True):\n",
    "        \"\"\"\n",
    "        df: pandas DataFrame sorted by time.\n",
    "        seq_length: number of time steps in each sample.\n",
    "        target_col: the column we want to predict.\n",
    "        \"\"\"\n",
    "        df = df.drop(columns=[\"next_day\", \"next_day_mood\", \"date\"])\n",
    "        \n",
    "        self.seq_length = seq_length\n",
    "        self.target_col = target_col\n",
    "        self.id_col = id_col\n",
    "        \n",
    "        df.sort_values(by=[id_col, 'day'], inplace=True)\n",
    "        self.data = df.reset_index(drop=True)\n",
    "\n",
    "        if include_target_in_features:\n",
    "            self.features = [col for col in self.data.columns if col not in [target_col, \"day\"]]\n",
    "        else:\n",
    "            self.features = [col for col in self.data.columns if col not in [target_col, id_col, \"day\"]]\n",
    "\n",
    "        # Precompute valid indices where the sequence is within the same participant.\n",
    "        self.valid_indices = []\n",
    "        for i in range(len(self.data) - self.seq_length):\n",
    "            participant_id = self.data.iloc[i][self.id_col]\n",
    "            if all(self.data.iloc[i:i+self.seq_length][self.id_col] == participant_id):\n",
    "                self.valid_indices.append(i)\n",
    "\n",
    "    def __len__(self):\n",
    "        return len(self.valid_indices)\n",
    "\n",
    "    def __getitem__(self, idx):\n",
    "        # Use precomputed valid index.\n",
    "        real_idx = self.valid_indices[idx]\n",
    "        row = self.data.iloc[real_idx]\n",
    "        participant_id = row[self.id_col]\n",
    "        \n",
    "        x_features = self.data.iloc[real_idx:real_idx+self.seq_length][self.features].values.astype(np.float32)\n",
    "        x_id = np.array([participant_id] * self.seq_length, dtype=np.int64)\n",
    "        \n",
    "        # The target is the next time step's mood\n",
    "        y = self.data.iloc[real_idx+self.seq_length][self.target_col]\n",
    "        \n",
    "        return torch.tensor(x_features),torch.tensor(x_id), torch.tensor(y).float()\n"
   ]
  },
  {
   "cell_type": "markdown",
   "metadata": {},
   "source": [
    "### Load df"
   ]
  },
  {
   "cell_type": "code",
   "execution_count": 183,
   "metadata": {},
   "outputs": [],
   "source": [
    "# df = pd.read_csv(\"tables/preprocessed/df_drop_appCat.csv\")\n",
    "df = pd.read_csv(\"tables/preprocessed/df_interpolated.csv\")\n",
    "\n",
    "dataset_name = \"df_interpolated\"\n",
    "dropped_vars = [\"\"]\n",
    "imputation = \"linear interpolation\""
   ]
  },
  {
   "cell_type": "markdown",
   "metadata": {},
   "source": [
    "### Train test split"
   ]
  },
  {
   "cell_type": "code",
   "execution_count": 184,
   "metadata": {},
   "outputs": [
    {
     "name": "stdout",
     "output_type": "stream",
     "text": [
      "Train mood descriptives\n",
      "count    1024.000000\n",
      "mean        6.994181\n",
      "std         0.731078\n",
      "min         3.000000\n",
      "25%         6.600000\n",
      "50%         7.000000\n",
      "75%         7.500000\n",
      "max         9.333333\n",
      "Name: mood, dtype: float64\n",
      "Test mood descriptives\n",
      "count    272.000000\n",
      "mean       7.014920\n",
      "std        0.733379\n",
      "min        4.800000\n",
      "25%        6.666667\n",
      "50%        7.000000\n",
      "75%        7.500000\n",
      "max        9.000000\n",
      "Name: mood, dtype: float64\n"
     ]
    }
   ],
   "source": [
    "\n",
    "dfs_train = []\n",
    "dfs_test = []\n",
    "proportion_train = 0.8\n",
    "for participant, group in df.groupby('id_num'):\n",
    "    group = group.sort_values(by='day')\n",
    "    split_idx = int(len(group) * proportion_train)\n",
    "    dfs_train.append(group.iloc[:split_idx])\n",
    "    dfs_test.append(group.iloc[split_idx:])\n",
    "    \n",
    "train_df = pd.concat(dfs_train)\n",
    "test_df = pd.concat(dfs_test)\n",
    "\n",
    "# get mood descriptives\n",
    "print(\"Train mood descriptives\")\n",
    "print(train_df[\"mood\"].describe())\n",
    "print(\"Test mood descriptives\")\n",
    "print(test_df[\"mood\"].describe())\n",
    "\n",
    "# get the start end end dates per participant per df\n",
    "train_start_dates = train_df.groupby('id_num')['day'].min()\n",
    "train_end_dates = train_df.groupby('id_num')['day'].max()\n",
    "test_start_dates = test_df.groupby('id_num')['day'].min()\n",
    "test_end_dates = test_df.groupby('id_num')['day'].max()\n",
    "\n",
    "# put in a dataframe with participant train start end and test start end\n",
    "dates_df = pd.DataFrame({\n",
    "    \"participant\": train_start_dates.index,\n",
    "    \"train_start\": train_start_dates.values,\n",
    "    \"train_end\": train_end_dates.values,\n",
    "    \"test_start\": test_start_dates.values,\n",
    "    \"test_end\": test_end_dates.values,\n",
    "})\n",
    "\n",
    "dates_df.to_csv(\"tables/training_dates_split.csv\", index=False)"
   ]
  },
  {
   "cell_type": "markdown",
   "metadata": {},
   "source": [
    "### Normalize"
   ]
  },
  {
   "cell_type": "code",
   "execution_count": 185,
   "metadata": {},
   "outputs": [
    {
     "name": "stdout",
     "output_type": "stream",
     "text": [
      "Train shape: (1024, 29), Test shape: (272, 29)\n"
     ]
    }
   ],
   "source": [
    "def normalize(df, scaler=None, scaler_target=None, transform_target=False, scaler_type=\"StandardScaler\"):\n",
    "    df = df.copy()\n",
    "    features = [col for col in df.columns if col not in ['id_num', 'day', \"date\", \"next_day_mood\", \"next_day\", \"mood\"]]\n",
    "    \n",
    "    if scaler is None:\n",
    "        if scaler_type == \"StandardScaler\":\n",
    "            scaler = StandardScaler()\n",
    "        elif scaler_type == \"MinMaxScaler\":\n",
    "            scaler = MinMaxScaler()\n",
    "    \n",
    "    # Scale the features\n",
    "    df[features] = scaler.fit_transform(df[features])\n",
    "    \n",
    "    if transform_target:\n",
    "        if scaler_target is None:\n",
    "            if scaler_type == \"StandardScaler\":\n",
    "                scaler_target = StandardScaler()\n",
    "            elif scaler_type == \"MinMaxScaler\":\n",
    "                scaler_target = MinMaxScaler()\n",
    "\n",
    "        # Scale only the target column \"mood\"\n",
    "        df[\"mood\"] = scaler_target.fit_transform(df[[\"mood\"]])\n",
    "\n",
    "        # print(\"scaler properties:\")\n",
    "        # print(scaler.mean_)\n",
    "        # print(scaler.scale_)\n",
    "        if scaler_type == \"StandardScaler\":\n",
    "            print(\"scaler properties:\")\n",
    "            print(scaler.mean_)\n",
    "            print(scaler.scale_)\n",
    "        \n",
    "        return df, scaler, scaler_target\n",
    "    else:\n",
    "        return df, scaler, None\n",
    "\n",
    "# def denormalize(df, scaler, scaler_target=None):\n",
    "\n",
    "#     features = [col for col in df.columns if col not in ['id_num', 'day', \"date\", \"next_day_mood\", \"next_day\", \"mood\"]]\n",
    "    \n",
    "#     # Inverse transform the features\n",
    "#     df[features] = scaler.inverse_transform(df[features])\n",
    "    \n",
    "#     if scaler_target is not None:\n",
    "#         # Inverse transform the target column \"mood\"\n",
    "#         df[\"mood\"] = scaler_target.inverse_transform(df[[\"mood\"]])\n",
    "    \n",
    "    # return df\n",
    "\n",
    "TRANSFORM_TARGET = True\n",
    "SCALER_TYPE = \"MinMaxScaler\"\n",
    "# Normalize the training and test data\n",
    "train_df_normalized, scaler, scaler_target = normalize(train_df, scaler=None, scaler_target=None, transform_target=TRANSFORM_TARGET, scaler_type=SCALER_TYPE)\n",
    "test_df_normalized, _, _ = normalize(test_df, scaler=scaler, scaler_target=scaler_target, transform_target=TRANSFORM_TARGET, scaler_type=SCALER_TYPE)\n",
    "\n",
    "print(f\"Train shape: {train_df_normalized.shape}, Test shape: {test_df_normalized.shape}\") # Train shape: (1230, 24), Test shape: (307, 24)\n",
    "\n"
   ]
  },
  {
   "cell_type": "markdown",
   "metadata": {},
   "source": [
    "### Create dataset"
   ]
  },
  {
   "cell_type": "code",
   "execution_count": 186,
   "metadata": {},
   "outputs": [
    {
     "name": "stdout",
     "output_type": "stream",
     "text": [
      "Number of batches in train_loader: 27\n",
      "Number of batches in test_loader: 3\n",
      "x shape: torch.Size([32, 8, 24]), x_id shape: torch.Size([32, 8]), y shape: torch.Size([32])\n"
     ]
    }
   ],
   "source": [
    "\n",
    "# Create the dataset\n",
    "seq_length = 8\n",
    "batch_size = 32\n",
    "train_dataset = MultiParticipantDataset(train_df_normalized, seq_length=seq_length)\n",
    "test_dataset = MultiParticipantDataset(test_df_normalized, seq_length=seq_length)\n",
    "\n",
    "# Create DataLoader\n",
    "train_loader = DataLoader(train_dataset, batch_size=batch_size, shuffle=False)\n",
    "test_loader = DataLoader(test_dataset, batch_size=batch_size, shuffle=False)\n",
    "\n",
    "# Check the shape of the data\n",
    "print(f\"Number of batches in train_loader: {len(train_loader)}\")\n",
    "print(f\"Number of batches in test_loader: {len(test_loader)}\")\n",
    "for x, x_id, y in train_loader:\n",
    "    print(f\"x shape: {x.shape}, x_id shape: {x_id.shape}, y shape: {y.shape}\")\n",
    "    break\n",
    "# 32 sequences in a batch, each with 5 time steps and 24 features\n"
   ]
  },
  {
   "cell_type": "markdown",
   "metadata": {},
   "source": [
    "### define lstm model"
   ]
  },
  {
   "cell_type": "code",
   "execution_count": 187,
   "metadata": {},
   "outputs": [],
   "source": [
    "class LSTMModel(nn.Module):\n",
    "    def __init__(self, input_dim, hidden_dim, num_layers, output_dim):\n",
    "        super(LSTMModel, self).__init__()\n",
    "        self.hidden_dim = hidden_dim\n",
    "        self.num_layers = num_layers\n",
    "        \n",
    "        # LSTM layer; batch_first=True expects input shape: (batch, seq, feature)\n",
    "        self.lstm = nn.LSTM(input_dim, hidden_dim, num_layers, batch_first=True)\n",
    "        \n",
    "        # Fully-connected layer to output the final prediction\n",
    "        self.fc = nn.Linear(hidden_dim, output_dim)\n",
    "        \n",
    "    def forward(self, x):\n",
    "        # x: [batch_size, seq_length, input_dim]\n",
    "        # Initialize hidden and cell states with zeros\n",
    "        h0 = torch.zeros(self.num_layers, x.size(0), self.hidden_dim).to(x.device)\n",
    "        c0 = torch.zeros(self.num_layers, x.size(0), self.hidden_dim).to(x.device)\n",
    "        \n",
    "        # Forward propagate LSTM\n",
    "        out, _ = self.lstm(x, (h0, c0))\n",
    "        \n",
    "        # Use the last time step's output for prediction\n",
    "        out = self.fc(out[:, -1, :])\n",
    "        return out"
   ]
  },
  {
   "cell_type": "markdown",
   "metadata": {},
   "source": [
    "### Train loop"
   ]
  },
  {
   "cell_type": "code",
   "execution_count": 193,
   "metadata": {},
   "outputs": [
    {
     "name": "stdout",
     "output_type": "stream",
     "text": [
      "Epoch [1/50], Train Loss: 0.0482, Eval Loss: 0.0615\n",
      "Epoch [2/50], Train Loss: 0.0192, Eval Loss: 0.0570\n",
      "Epoch [3/50], Train Loss: 0.0178, Eval Loss: 0.0531\n",
      "Epoch [4/50], Train Loss: 0.0169, Eval Loss: 0.0454\n",
      "Epoch [5/50], Train Loss: 0.0157, Eval Loss: 0.0397\n",
      "Epoch [6/50], Train Loss: 0.0142, Eval Loss: 0.0376\n",
      "Epoch [7/50], Train Loss: 0.0135, Eval Loss: 0.0398\n",
      "Epoch [8/50], Train Loss: 0.0138, Eval Loss: 0.0448\n",
      "Epoch [9/50], Train Loss: 0.0143, Eval Loss: 0.0485\n",
      "Epoch [10/50], Train Loss: 0.0144, Eval Loss: 0.0462\n",
      "Epoch [11/50], Train Loss: 0.0142, Eval Loss: 0.0419\n",
      "Epoch [12/50], Train Loss: 0.0136, Eval Loss: 0.0378\n",
      "Epoch [13/50], Train Loss: 0.0137, Eval Loss: 0.0372\n",
      "Epoch [14/50], Train Loss: 0.0131, Eval Loss: 0.0378\n",
      "Epoch [15/50], Train Loss: 0.0132, Eval Loss: 0.0399\n",
      "Epoch [16/50], Train Loss: 0.0132, Eval Loss: 0.0414\n",
      "Epoch [17/50], Train Loss: 0.0134, Eval Loss: 0.0420\n",
      "Epoch [18/50], Train Loss: 0.0132, Eval Loss: 0.0396\n",
      "Epoch [19/50], Train Loss: 0.0132, Eval Loss: 0.0382\n",
      "Epoch [20/50], Train Loss: 0.0134, Eval Loss: 0.0375\n",
      "Epoch [21/50], Train Loss: 0.0129, Eval Loss: 0.0358\n",
      "Epoch [22/50], Train Loss: 0.0130, Eval Loss: 0.0388\n",
      "Epoch [23/50], Train Loss: 0.0136, Eval Loss: 0.0392\n",
      "Epoch [24/50], Train Loss: 0.0152, Eval Loss: 0.0431\n",
      "Epoch [25/50], Train Loss: 0.0130, Eval Loss: 0.0372\n",
      "Epoch [26/50], Train Loss: 0.0131, Eval Loss: 0.0366\n",
      "Epoch [27/50], Train Loss: 0.0140, Eval Loss: 0.0369\n",
      "Epoch [28/50], Train Loss: 0.0135, Eval Loss: 0.0401\n",
      "Epoch [29/50], Train Loss: 0.0129, Eval Loss: 0.0373\n",
      "Epoch [30/50], Train Loss: 0.0127, Eval Loss: 0.0357\n",
      "Epoch [31/50], Train Loss: 0.0130, Eval Loss: 0.0354\n",
      "Epoch [32/50], Train Loss: 0.0125, Eval Loss: 0.0364\n",
      "Epoch [33/50], Train Loss: 0.0125, Eval Loss: 0.0380\n",
      "Epoch [34/50], Train Loss: 0.0125, Eval Loss: 0.0384\n",
      "Epoch [35/50], Train Loss: 0.0126, Eval Loss: 0.0379\n",
      "Epoch [36/50], Train Loss: 0.0126, Eval Loss: 0.0369\n",
      "Epoch [37/50], Train Loss: 0.0130, Eval Loss: 0.0356\n",
      "Epoch [38/50], Train Loss: 0.0124, Eval Loss: 0.0338\n",
      "Epoch [39/50], Train Loss: 0.0125, Eval Loss: 0.0354\n",
      "Epoch [40/50], Train Loss: 0.0136, Eval Loss: 0.0380\n",
      "Epoch [41/50], Train Loss: 0.0140, Eval Loss: 0.0426\n",
      "Epoch [42/50], Train Loss: 0.0134, Eval Loss: 0.0404\n",
      "Epoch [43/50], Train Loss: 0.0124, Eval Loss: 0.0358\n",
      "Epoch [44/50], Train Loss: 0.0128, Eval Loss: 0.0360\n",
      "Epoch [45/50], Train Loss: 0.0136, Eval Loss: 0.0340\n",
      "Epoch [46/50], Train Loss: 0.0124, Eval Loss: 0.0366\n",
      "Epoch [47/50], Train Loss: 0.0120, Eval Loss: 0.0360\n",
      "Epoch [48/50], Train Loss: 0.0119, Eval Loss: 0.0347\n",
      "Epoch [49/50], Train Loss: 0.0120, Eval Loss: 0.0342\n",
      "Epoch [50/50], Train Loss: 0.0122, Eval Loss: 0.0333\n"
     ]
    },
    {
     "data": {
      "image/png": "[encoded data removed]",
      "text/plain": [
       "<Figure size 1200x600 with 1 Axes>"
      ]
     },
     "metadata": {},
     "output_type": "display_data"
    },
    {
     "data": {
      "image/png": "[encoded data removed]",
      "text/plain": [
       "<Figure size 1200x600 with 1 Axes>"
      ]
     },
     "metadata": {},
     "output_type": "display_data"
    },
    {
     "name": "stdout",
     "output_type": "stream",
     "text": [
      "{'dataset': 'df_interpolated', 'dropped_vars': [''], 'imputation': 'linear interpolation', 'model': 'LSTM', 'sequence_length': 8, 'scaler': 'MinMaxScaler', 'scaler_target': True, 'batch_size': 32, 'input_dim': 24, 'hidden_dim': 64, 'num_layers': 2, 'output_dim': 1, 'num_epochs': 50, 'learning_rate': 0.001, 'train_loss': 0.012162570798493645, 'eval_loss': 0.033314694029589496, 'Features': ['id_num', 'screen', 'activity', 'activity_max', 'circumplex.valence', 'circumplex.valence_min', 'circumplex.valence_max', 'circumplex.arousal', 'circumplex.arousal_min', 'circumplex.arousal_max', 'call', 'sms', 'appCat.builtin', 'appCat.communication', 'appCat.entertainment', 'appCat.finance', 'appCat.game', 'appCat.office', 'appCat.other', 'appCat.social', 'appCat.travel', 'appCat.unknown', 'appCat.utilities', 'appCat.weather'], 'timestamp': '2025-04-05 17:22:07'}\n"
     ]
    }
   ],
   "source": [
    "# Hyperparameters\n",
    "input_dim = len(train_dataset.features)  # e.g., 24\n",
    "hidden_dim = 64             # Number of LSTM units\n",
    "num_layers = 2\n",
    "output_dim = 1                   # For regression (predicting a single value)\n",
    "num_epochs = 50\n",
    "learning_rate = 0.001\n",
    "\n",
    "# Initialize model, loss function, and optimizer\n",
    "model = LSTMModel(input_dim, hidden_dim, num_layers, output_dim)\n",
    "criterion = nn.MSELoss()\n",
    "optimizer = optim.Adam(model.parameters(), lr=learning_rate, weight_decay=1e-5)\n",
    "\n",
    "# Prepare lists to store loss values for plotting\n",
    "train_epoch_losses = []\n",
    "eval_epoch_losses = []\n",
    "batch_losses = []\n",
    "\n",
    "# Training and evaluation loop\n",
    "for epoch in range(num_epochs):\n",
    "    model.train()\n",
    "    train_loss_epoch = 0.0\n",
    "\n",
    "    # --- Training ---\n",
    "    for batch in train_loader:\n",
    "        x_features, x_id, y = batch  # x_features: [batch, seq_length, input_dim]\n",
    "        \n",
    "        # Forward pass\n",
    "        outputs = model(x_features)  # outputs shape: [batch, output_dim]\n",
    "        loss = criterion(outputs.squeeze(), y)\n",
    "\n",
    "        batch_losses.append(loss.item())\n",
    "        \n",
    "        # Backprop and optimization\n",
    "        optimizer.zero_grad()\n",
    "        loss.backward()\n",
    "        optimizer.step()\n",
    "        \n",
    "        train_loss_epoch += loss.item()\n",
    "    \n",
    "    avg_train_loss = train_loss_epoch / len(train_loader)\n",
    "    train_epoch_losses.append(avg_train_loss)\n",
    "    \n",
    "    # --- Evaluation ---\n",
    "    model.eval()\n",
    "    eval_loss_epoch = 0.0\n",
    "    with torch.no_grad():\n",
    "        for batch in test_loader:\n",
    "            x_features, x_id, y = batch\n",
    "            outputs = model(x_features)\n",
    "            loss = criterion(outputs.squeeze(), y)\n",
    "            eval_loss_epoch += loss.item()\n",
    "    \n",
    "    avg_eval_loss = eval_loss_epoch / len(test_loader)\n",
    "    eval_epoch_losses.append(avg_eval_loss)\n",
    "    \n",
    "    print(f\"Epoch [{epoch+1}/{num_epochs}], Train Loss: {avg_train_loss:.4f}, Eval Loss: {avg_eval_loss:.4f}\")\n",
    "\n",
    "# Plot the training and evaluation loss curves\n",
    "sns.set(style=\"whitegrid\")\n",
    "plt.figure(figsize=(12, 6))\n",
    "plt.plot(range(1, num_epochs+1), train_epoch_losses, label='Train Loss', marker='o')\n",
    "plt.plot(range(1, num_epochs+1), eval_epoch_losses, label='Eval Loss', marker='o')\n",
    "plt.xlabel(\"Epoch\")\n",
    "plt.ylabel(\"Loss (MSE)\")\n",
    "plt.title(\"Training and Evaluation Loss Over Epochs\")\n",
    "plt.legend()\n",
    "plt.show()\n",
    "\n",
    "# plot batch losses\n",
    "plt.figure(figsize=(12, 6))\n",
    "plt.plot(batch_losses, label='Batch Loss')\n",
    "plt.xlabel(\"Batch\")\n",
    "plt.ylabel(\"Loss (MSE)\")\n",
    "plt.title(\"Batch Loss Over Training\")\n",
    "plt.legend()\n",
    "plt.show()\n",
    "\n",
    "\n",
    "\n",
    "# append the csv with hyperparameters and losses\n",
    "hyperparameters = {\n",
    "    \"dataset\": dataset_name,\n",
    "    \"dropped_vars\": dropped_vars,\n",
    "    \"imputation\": imputation,\n",
    "    \"model\": \"LSTM\",\n",
    "    \"sequence_length\": seq_length,\n",
    "    \"scaler\": SCALER_TYPE,\n",
    "    \"scaler_target\": TRANSFORM_TARGET,\n",
    "    \"batch_size\": batch_size,\n",
    "    \"input_dim\": input_dim,\n",
    "    \"hidden_dim\": hidden_dim,\n",
    "    \"num_layers\": num_layers,\n",
    "    \"output_dim\": output_dim,\n",
    "    \"num_epochs\": num_epochs,\n",
    "    \"learning_rate\": learning_rate,\n",
    "    \"train_loss\": train_epoch_losses[-1],\n",
    "    \"eval_loss\": eval_epoch_losses[-1],\n",
    "    \"Features\": train_dataset.features,\n",
    "    \"timestamp\": time.strftime(\"%Y-%m-%d %H:%M:%S\"),\n",
    "}\n",
    "print(hyperparameters)\n",
    "hyperparameters_df = pd.DataFrame([hyperparameters])\n",
    "if not os.path.exists(\"tables/hyperparameters.csv\"):\n",
    "    # create the csv with the hyperparameters\n",
    "    hyperparameters_df.to_csv(\"tables/hyperparameters.csv\", index=False)\n",
    "hyperparameters_df = pd.DataFrame([hyperparameters])\n",
    "hyperparameters_df.to_csv(\"tables/hyperparameters.csv\", mode='a', header=False, index=False)\n"
   ]
  },
  {
   "cell_type": "markdown",
   "metadata": {},
   "source": [
    "### Predict and plot function"
   ]
  },
  {
   "cell_type": "code",
   "execution_count": 191,
   "metadata": {},
   "outputs": [],
   "source": [
    "\n",
    "def predict_and_plot(model, data_loader, test_dataset, target_scaler=None, show_plot=True, save_html=True, title=\"predictions\", scaler_type=SCALER_TYPE):\n",
    "    \"\"\"\n",
    "    Runs predictions on the data_loader using model, builds a results DataFrame using the\n",
    "    test_dataset's original data (which includes the 'day' and 'id_num' columns), and then plots\n",
    "    real vs predicted values with Plotly using the 'day' column for the x-axis and a dropdown\n",
    "    to select different participants.\n",
    "\n",
    "    Parameters:\n",
    "        model: Trained PyTorch model.\n",
    "        data_loader: DataLoader for the dataset to predict on.\n",
    "        test_dataset: The dataset instance (e.g., MultiParticipantDataset) used to create data_loader.\n",
    "                      It must have a 'data' attribute containing the original DataFrame with a 'day' column.\n",
    "        target_scaler: (Optional) Scaler used to normalize the target data.\n",
    "    \"\"\"\n",
    "    model.eval()\n",
    "    all_predictions = []\n",
    "    all_targets = []\n",
    "    \n",
    "    # Run model predictions over the data_loader\n",
    "    with torch.no_grad():\n",
    "        for batch in data_loader:\n",
    "            x_features, x_id, y = batch\n",
    "            outputs = model(x_features)\n",
    "            all_predictions.append(outputs.cpu().numpy())\n",
    "            all_targets.append(y.cpu().numpy())\n",
    "    \n",
    "    # Concatenate all predictions and targets into arrays.\n",
    "    all_predictions = np.concatenate(all_predictions)\n",
    "    all_targets = np.concatenate(all_targets)\n",
    "\n",
    "    \n",
    "    # Inverse transform if a target scaler is provided.\n",
    "    if target_scaler is not None:\n",
    "        if scaler_type == \"StandardScaler\":\n",
    "            print(\"Target scaler mean:\", target_scaler.mean_)\n",
    "            print(\"Target scaler scale:\", target_scaler.scale_)\n",
    "        all_predictions = target_scaler.inverse_transform(all_predictions)\n",
    "        all_targets = target_scaler.inverse_transform(all_targets.reshape(-1, 1))\n",
    "    \n",
    "\n",
    "    # Compute the correct slice of the original DataFrame.\n",
    "    # The i-th prediction corresponds to data row at index (i + seq_length)\n",
    "    start_idx = test_dataset.seq_length\n",
    "    end_idx = start_idx + len(test_dataset)\n",
    "    df_results = test_dataset.data.iloc[start_idx:end_idx].copy().reset_index(drop=True)\n",
    "\n",
    "    # Add prediction and target columns to the results DataFrame.\n",
    "    df_results['Real'] = all_targets.reshape(-1)\n",
    "    df_results['Predicted'] = all_predictions.reshape(-1)\n",
    "    \n",
    "    # Get unique participant IDs from the results DataFrame.\n",
    "    participant_col = test_dataset.id_col  # e.g., 'id_num'\n",
    "    participants = df_results[participant_col].unique()\n",
    "    \n",
    "    # Build Plotly traces for each participant: two traces (real & predicted) per participant.\n",
    "    traces = []\n",
    "    for p in participants:\n",
    "        df_p = df_results[df_results[participant_col] == p]\n",
    "        traces.append(go.Scatter(\n",
    "            x=df_p['day'],\n",
    "            y=df_p['Real'],\n",
    "            mode='lines',\n",
    "            name=f'Real ({p})',\n",
    "            visible=False  # We'll control visibility via the dropdown.\n",
    "        ))\n",
    "        traces.append(go.Scatter(\n",
    "            x=df_p['day'],\n",
    "            y=df_p['Predicted'],\n",
    "            mode='lines',\n",
    "            name=f'Predicted ({p})',\n",
    "            visible=False\n",
    "        ))\n",
    "    \n",
    "    total_traces = len(traces)  # Should be 2 * number of participants.\n",
    "    \n",
    "    # Create dropdown buttons. Each button sets visibility so that only the two traces for one participant are shown.\n",
    "    dropdown_buttons = []\n",
    "    for i, p in enumerate(participants):\n",
    "        visibility = [False] * total_traces\n",
    "        # For participant p, set traces at indices 2*i and 2*i+1 to True.\n",
    "        visibility[2*i] = True\n",
    "        visibility[2*i+1] = True\n",
    "        button = dict(\n",
    "            label=str(p),\n",
    "            method=\"update\",\n",
    "            args=[{\"visible\": visibility},\n",
    "                  {\"title\": f\"Real vs Predicted Mood Values for Participant {p}\",\n",
    "                   \"xaxis\": {\"title\": \"Day\"},\n",
    "                   \"yaxis\": {\"title\": \"Mood Value\"}}]\n",
    "        )\n",
    "        dropdown_buttons.append(button)\n",
    "    \n",
    "    # Set the initial visibility: show the first participant.\n",
    "    initial_visibility = [False] * total_traces\n",
    "    initial_visibility[0] = True\n",
    "    initial_visibility[1] = True\n",
    "    for i in range(total_traces):\n",
    "        traces[i].visible = initial_visibility[i]\n",
    "    \n",
    "    # Build the figure with all traces and add the dropdown menu.\n",
    "    fig = go.Figure(data=traces)\n",
    "    fig.update_layout(\n",
    "        updatemenus=[\n",
    "            dict(\n",
    "                active=0,\n",
    "                buttons=dropdown_buttons,\n",
    "                x=1.1,\n",
    "                y=1.0,\n",
    "                showactive=True\n",
    "            )\n",
    "        ],\n",
    "        title=f\"Real vs Predicted Mood Values for Participant {participants[0]}\",\n",
    "        xaxis_title=\"Day\",\n",
    "        yaxis_title=\"Mood Value\"\n",
    "    )\n",
    "    \n",
    "    if show_plot:\n",
    "        fig.show()\n",
    "    if save_html:\n",
    "        outdir = \"figures/plotly/predictions\"\n",
    "        os.makedirs(outdir, exist_ok=True)\n",
    "        fig.write_html(os.path.join(outdir, f\"predictions_{title}.html\"))\n",
    "\n"
   ]
  },
  {
   "cell_type": "markdown",
   "metadata": {},
   "source": [
    "### Plot predictions"
   ]
  },
  {
   "cell_type": "code",
   "execution_count": 192,
   "metadata": {},
   "outputs": [
    {
     "data": {
      "application/vnd.plotly.v1+json": {
       "config": {
        "plotlyServerURL": "https://plot.ly"
       },
       "data": [
        {
         "mode": "lines",
         "name": "Real (1)",
         "type": "scatter",
         "visible": true,
         "x": [
          "2014-03-29",
          "2014-03-30",
          "2014-03-31",
          "2014-04-01",
          "2014-04-02",
          "2014-04-03",
          "2014-04-04",
          "2014-04-05",
          "2014-04-06",
          "2014-04-07",
          "2014-04-08",
          "2014-04-09",
          "2014-04-10",
          "2014-04-11",
          "2014-04-12",
          "2014-04-13",
          "2014-04-14",
          "2014-04-15",
          "2014-04-16",
          "2014-04-17",
          "2014-04-18",
          "2014-04-19",
          "2014-04-20",
          "2014-04-21",
          "2014-04-22",
          "2014-04-23",
          "2014-04-24",
          "2014-04-25"
         ],
         "y": [
          8.115789413452148,
          7.784210205078125,
          7.717895030975342,
          6.789474010467529,
          7.1210527420043945,
          7.054737091064453,
          6.922105312347412,
          7.320000171661377,
          7.1210527420043945,
          7.1210527420043945,
          7.187368392944336,
          7.717895030975342,
          7.717895030975342,
          7.45263147354126,
          7.6184210777282715,
          8.115789413452148,
          7.585263252258301,
          7.054737091064453,
          7.585263252258301,
          7.187368392944336,
          7.320000171661377,
          7.983158111572266,
          7.6184210777282715,
          7.850526332855225,
          7.717895030975342,
          7.850526332855225,
          7.850526332855225,
          7.585263252258301
         ]
        },
        {
         "mode": "lines",
         "name": "Predicted (1)",
         "type": "scatter",
         "visible": true,
         "x": [
          "2014-03-29",
          "2014-03-30",
          "2014-03-31",
          "2014-04-01",
          "2014-04-02",
          "2014-04-03",
          "2014-04-04",
          "2014-04-05",
          "2014-04-06",
          "2014-04-07",
          "2014-04-08",
          "2014-04-09",
          "2014-04-10",
          "2014-04-11",
          "2014-04-12",
          "2014-04-13",
          "2014-04-14",
          "2014-04-15",
          "2014-04-16",
          "2014-04-17",
          "2014-04-18",
          "2014-04-19",
          "2014-04-20",
          "2014-04-21",
          "2014-04-22",
          "2014-04-23",
          "2014-04-24",
          "2014-04-25"
         ],
         "y": [
          7.462074279785156,
          7.491796493530273,
          7.4432373046875,
          7.446832180023193,
          7.444813251495361,
          7.4550042152404785,
          7.327459335327148,
          7.39251184463501,
          7.416871547698975,
          7.409981727600098,
          7.391895771026611,
          7.3597187995910645,
          7.42560338973999,
          7.404634475708008,
          7.3612236976623535,
          7.359196186065674,
          7.334747314453125,
          7.3140692710876465,
          7.360171794891357,
          7.4343976974487305,
          7.3805766105651855,
          7.362493515014648,
          7.42457914352417,
          7.416934967041016,
          7.466526985168457,
          7.494446754455566,
          7.498247146606445,
          7.492498397827148
         ]
        },
        {
         "mode": "lines",
         "name": "Real (2)",
         "type": "scatter",
         "visible": false,
         "x": [
          "2014-03-16",
          "2014-03-17",
          "2014-03-18",
          "2014-03-19",
          "2014-03-20",
          "2014-03-21",
          "2014-03-22",
          "2014-03-23",
          "2014-03-24",
          "2014-03-25",
          "2014-03-26",
          "2014-03-27",
          "2014-03-28",
          "2014-03-29",
          "2014-03-30",
          "2014-03-31",
          "2014-04-01",
          "2014-04-02",
          "2014-04-03",
          "2014-04-04",
          "2014-04-05",
          "2014-04-06",
          "2014-04-07",
          "2014-04-08",
          "2014-04-09",
          "2014-04-10",
          "2014-04-11",
          "2014-04-12",
          "2014-04-13",
          "2014-04-14",
          "2014-04-15",
          "2014-04-16"
         ],
         "y": [
          7.010526657104492,
          7.054737091064453,
          7.950000286102295,
          7.585263252258301,
          7.6184210777282715,
          7.320000171661377,
          7.6184210777282715,
          7.45263147354126,
          7.585263252258301,
          7.717895030975342,
          7.054737091064453,
          6.623684406280518,
          7.054737091064453,
          7.717895030975342,
          5.794736862182617,
          7.320000171661377,
          6.955263137817383,
          7.6184210777282715,
          7.6184210777282715,
          7.1210527420043945,
          6.789474010467529,
          7.585263252258301,
          8.115789413452148,
          7.6184210777282715,
          7.231578826904297,
          8.778947830200195,
          8.513684272766113,
          8.38105297088623,
          7.717895030975342,
          7.850526332855225,
          7.717895030975342,
          7.983158111572266
         ]
        },
        {
         "mode": "lines",
         "name": "Predicted (2)",
         "type": "scatter",
         "visible": false,
         "x": [
          "2014-03-16",
          "2014-03-17",
          "2014-03-18",
          "2014-03-19",
          "2014-03-20",
          "2014-03-21",
          "2014-03-22",
          "2014-03-23",
          "2014-03-24",
          "2014-03-25",
          "2014-03-26",
          "2014-03-27",
          "2014-03-28",
          "2014-03-29",
          "2014-03-30",
          "2014-03-31",
          "2014-04-01",
          "2014-04-02",
          "2014-04-03",
          "2014-04-04",
          "2014-04-05",
          "2014-04-06",
          "2014-04-07",
          "2014-04-08",
          "2014-04-09",
          "2014-04-10",
          "2014-04-11",
          "2014-04-12",
          "2014-04-13",
          "2014-04-14",
          "2014-04-15",
          "2014-04-16"
         ],
         "y": [
          7.464711666107178,
          7.384090423583984,
          7.381246089935303,
          7.369850158691406,
          7.345855712890625,
          7.390851020812988,
          7.4006452560424805,
          7.404199600219727,
          7.410326957702637,
          7.332427501678467,
          7.413959503173828,
          7.417922496795654,
          7.425578594207764,
          7.367115497589111,
          7.378313064575195,
          7.232896327972412,
          7.326784133911133,
          7.397273540496826,
          7.388765335083008,
          7.486619472503662,
          7.491941928863525,
          7.3030619621276855,
          7.327628135681152,
          7.437415599822998,
          7.3880109786987305,
          7.360742092132568,
          7.587928295135498,
          7.603119373321533,
          7.575811862945557,
          7.509289741516113,
          7.480406761169434,
          7.486138343811035
         ]
        },
        {
         "mode": "lines",
         "name": "Real (3)",
         "type": "scatter",
         "visible": false,
         "x": [
          "2014-03-21",
          "2014-03-22",
          "2014-03-23",
          "2014-03-24",
          "2014-03-25",
          "2014-03-26",
          "2014-03-27",
          "2014-03-28",
          "2014-03-29",
          "2014-03-30",
          "2014-03-31",
          "2014-04-01",
          "2014-04-02",
          "2014-04-03",
          "2014-04-04",
          "2014-04-05",
          "2014-04-06",
          "2014-04-07",
          "2014-04-08",
          "2014-04-09",
          "2014-04-10",
          "2014-04-11",
          "2014-04-12",
          "2014-04-13",
          "2014-04-14",
          "2014-04-15",
          "2014-04-16",
          "2014-04-17",
          "2014-04-18",
          "2014-04-19",
          "2014-04-20",
          "2014-04-21",
          "2014-04-22",
          "2014-04-23",
          "2014-04-24",
          "2014-04-25",
          "2014-04-26",
          "2014-04-27"
         ],
         "y": [
          7.983158111572266,
          7.850526332855225,
          7.320000171661377,
          7.717895030975342,
          7.717895030975342,
          7.983158111572266,
          7.717895030975342,
          7.850526332855225,
          7.8947367668151855,
          7.717895030975342,
          7.45263147354126,
          7.850526332855225,
          8.115789413452148,
          7.6184210777282715,
          7.784210205078125,
          7.983158111572266,
          7.784210205078125,
          7.717895030975342,
          7.850526332855225,
          7.45263147354126,
          7.717895030975342,
          7.784210205078125,
          7.784210205078125,
          7.850526332855225,
          8.115789413452148,
          5.297368049621582,
          5.728420734405518,
          5.297368049621582,
          6.347368240356445,
          6.457894802093506,
          6.65684175491333,
          6.922105312347412,
          7.054737091064453,
          6.922105312347412,
          7.320000171661377,
          7.45263147354126,
          7.45263147354126,
          7.585263252258301
         ]
        },
        {
         "mode": "lines",
         "name": "Predicted (3)",
         "type": "scatter",
         "visible": false,
         "x": [
          "2014-03-21",
          "2014-03-22",
          "2014-03-23",
          "2014-03-24",
          "2014-03-25",
          "2014-03-26",
          "2014-03-27",
          "2014-03-28",
          "2014-03-29",
          "2014-03-30",
          "2014-03-31",
          "2014-04-01",
          "2014-04-02",
          "2014-04-03",
          "2014-04-04",
          "2014-04-05",
          "2014-04-06",
          "2014-04-07",
          "2014-04-08",
          "2014-04-09",
          "2014-04-10",
          "2014-04-11",
          "2014-04-12",
          "2014-04-13",
          "2014-04-14",
          "2014-04-15",
          "2014-04-16",
          "2014-04-17",
          "2014-04-18",
          "2014-04-19",
          "2014-04-20",
          "2014-04-21",
          "2014-04-22",
          "2014-04-23",
          "2014-04-24",
          "2014-04-25",
          "2014-04-26",
          "2014-04-27"
         ],
         "y": [
          7.521722793579102,
          7.576147079467773,
          7.620149612426758,
          7.623177528381348,
          7.641215801239014,
          7.660569667816162,
          7.656590938568115,
          7.6853790283203125,
          7.66547966003418,
          7.696659564971924,
          7.721056938171387,
          7.647961139678955,
          7.631531715393066,
          7.657690048217773,
          7.621591567993164,
          7.610073566436768,
          7.608194828033447,
          7.610881328582764,
          7.625586032867432,
          7.604008674621582,
          7.597029685974121,
          7.597743034362793,
          7.538044452667236,
          7.518016815185547,
          7.507744312286377,
          7.434683322906494,
          7.150269031524658,
          7.020232677459717,
          6.906914234161377,
          7.044131755828857,
          7.1073126792907715,
          7.172008991241455,
          7.239465713500977,
          7.2834014892578125,
          7.326580047607422,
          7.40194845199585,
          7.446656227111816,
          7.428055763244629
         ]
        },
        {
         "mode": "lines",
         "name": "Real (5)",
         "type": "scatter",
         "visible": false,
         "x": [
          "2014-03-14",
          "2014-03-15",
          "2014-03-16",
          "2014-03-17",
          "2014-03-18",
          "2014-03-19",
          "2014-03-20",
          "2014-03-21",
          "2014-03-22",
          "2014-03-23",
          "2014-03-24",
          "2014-03-25",
          "2014-03-26",
          "2014-03-27",
          "2014-03-28",
          "2014-03-29",
          "2014-03-30",
          "2014-03-31",
          "2014-04-01",
          "2014-04-02",
          "2014-04-03",
          "2014-04-04",
          "2014-04-05",
          "2014-04-06",
          "2014-04-07",
          "2014-04-08",
          "2014-04-09",
          "2014-04-10",
          "2014-04-11",
          "2014-04-12",
          "2014-04-13",
          "2014-04-14",
          "2014-04-15",
          "2014-04-16",
          "2014-04-17",
          "2014-04-18",
          "2014-04-19",
          "2014-04-20",
          "2014-04-21",
          "2014-04-22",
          "2014-04-23",
          "2014-04-24"
         ],
         "y": [
          7.45263147354126,
          7.784210205078125,
          7.320000171661377,
          7.286842346191406,
          7.286842346191406,
          7.45263147354126,
          7.585263252258301,
          7.45263147354126,
          7.45263147354126,
          7.784210205078125,
          7.054737091064453,
          7.45263147354126,
          7.585263252258301,
          7.187368392944336,
          7.784210205078125,
          7.585263252258301,
          7.585263252258301,
          7.585263252258301,
          7.585263252258301,
          7.585263252258301,
          7.585263252258301,
          7.45263147354126,
          7.950000286102295,
          7.320000171661377,
          7.585263252258301,
          7.45263147354126,
          7.45263147354126,
          7.45263147354126,
          6.922105312347412,
          7.187368392944336,
          7.717895030975342,
          7.850526332855225,
          7.983158111572266,
          8.248420715332031,
          7.1210527420043945,
          7.6184210777282715,
          7.45263147354126,
          7.850526332855225,
          7.320000171661377,
          6.955263137817383,
          7.320000171661377,
          8.248420715332031
         ]
        },
        {
         "mode": "lines",
         "name": "Predicted (5)",
         "type": "scatter",
         "visible": false,
         "x": [
          "2014-03-14",
          "2014-03-15",
          "2014-03-16",
          "2014-03-17",
          "2014-03-18",
          "2014-03-19",
          "2014-03-20",
          "2014-03-21",
          "2014-03-22",
          "2014-03-23",
          "2014-03-24",
          "2014-03-25",
          "2014-03-26",
          "2014-03-27",
          "2014-03-28",
          "2014-03-29",
          "2014-03-30",
          "2014-03-31",
          "2014-04-01",
          "2014-04-02",
          "2014-04-03",
          "2014-04-04",
          "2014-04-05",
          "2014-04-06",
          "2014-04-07",
          "2014-04-08",
          "2014-04-09",
          "2014-04-10",
          "2014-04-11",
          "2014-04-12",
          "2014-04-13",
          "2014-04-14",
          "2014-04-15",
          "2014-04-16",
          "2014-04-17",
          "2014-04-18",
          "2014-04-19",
          "2014-04-20",
          "2014-04-21",
          "2014-04-22",
          "2014-04-23",
          "2014-04-24"
         ],
         "y": [
          7.367610931396484,
          7.376385688781738,
          7.4094061851501465,
          7.420289039611816,
          7.417321681976318,
          7.394108772277832,
          7.440577983856201,
          7.5336012840271,
          7.464627742767334,
          7.374200820922852,
          7.4653449058532715,
          7.3602681159973145,
          7.384067058563232,
          7.391292095184326,
          7.384651184082031,
          7.458496570587158,
          7.37637186050415,
          7.346886157989502,
          7.403533458709717,
          7.405372142791748,
          7.387458801269531,
          7.3819732666015625,
          7.428901672363281,
          7.473728179931641,
          7.381466865539551,
          7.432425498962402,
          7.391903400421143,
          7.431304454803467,
          7.303351879119873,
          7.305274963378906,
          7.3135986328125,
          7.381370544433594,
          7.392337322235107,
          7.439047336578369,
          7.511989593505859,
          7.371277332305908,
          7.4028401374816895,
          7.387306213378906,
          7.353935718536377,
          7.397170066833496,
          7.348706245422363,
          7.360033988952637
         ]
        },
        {
         "mode": "lines",
         "name": "Real (6)",
         "type": "scatter",
         "visible": false,
         "x": [
          "2014-03-24",
          "2014-03-25",
          "2014-03-26",
          "2014-03-27",
          "2014-03-28",
          "2014-03-29",
          "2014-03-30",
          "2014-03-31",
          "2014-04-01",
          "2014-04-02",
          "2014-04-03",
          "2014-04-04",
          "2014-04-05",
          "2014-04-06",
          "2014-04-07",
          "2014-04-08",
          "2014-04-09",
          "2014-04-10",
          "2014-04-11",
          "2014-04-12",
          "2014-04-13",
          "2014-04-14",
          "2014-04-15",
          "2014-04-16",
          "2014-04-17",
          "2014-04-18",
          "2014-04-19",
          "2014-04-20",
          "2014-04-21",
          "2014-04-22",
          "2014-04-23",
          "2014-04-24",
          "2014-04-25",
          "2014-04-26",
          "2014-04-27",
          "2014-04-28"
         ],
         "y": [
          7.45263147354126,
          7.187368392944336,
          7.45263147354126,
          7.950000286102295,
          7.054737091064453,
          7.784210205078125,
          7.585263252258301,
          7.286842346191406,
          7.320000171661377,
          7.320000171661377,
          8.28157901763916,
          7.45263147354126,
          6.922105312347412,
          5.684210300445557,
          7.187368392944336,
          6.457894802093506,
          6.922105312347412,
          7.1210527420043945,
          6.789474010467529,
          7.286842346191406,
          6.3915791511535645,
          7.320000171661377,
          7.054737091064453,
          6.922105312347412,
          5.1315789222717285,
          7.054737091064453,
          7.1210527420043945,
          6.922105312347412,
          6.789474010467529,
          5.960525989532471,
          5.330526351928711,
          6.258947372436523,
          7.45263147354126,
          4.800000190734863,
          7.187368392944336,
          6.789474010467529
         ]
        },
        {
         "mode": "lines",
         "name": "Predicted (6)",
         "type": "scatter",
         "visible": false,
         "x": [
          "2014-03-24",
          "2014-03-25",
          "2014-03-26",
          "2014-03-27",
          "2014-03-28",
          "2014-03-29",
          "2014-03-30",
          "2014-03-31",
          "2014-04-01",
          "2014-04-02",
          "2014-04-03",
          "2014-04-04",
          "2014-04-05",
          "2014-04-06",
          "2014-04-07",
          "2014-04-08",
          "2014-04-09",
          "2014-04-10",
          "2014-04-11",
          "2014-04-12",
          "2014-04-13",
          "2014-04-14",
          "2014-04-15",
          "2014-04-16",
          "2014-04-17",
          "2014-04-18",
          "2014-04-19",
          "2014-04-20",
          "2014-04-21",
          "2014-04-22",
          "2014-04-23",
          "2014-04-24",
          "2014-04-25",
          "2014-04-26",
          "2014-04-27",
          "2014-04-28"
         ],
         "y": [
          7.352589130401611,
          7.327540397644043,
          7.361923694610596,
          7.409854888916016,
          7.430988788604736,
          7.3674635887146,
          7.465217590332031,
          7.423834323883057,
          7.372514724731445,
          7.371060848236084,
          7.240137100219727,
          7.421365261077881,
          7.343430995941162,
          7.29437255859375,
          7.230489253997803,
          7.194357872009277,
          7.158812046051025,
          7.228389263153076,
          7.176291465759277,
          7.31467866897583,
          7.276844501495361,
          7.218167304992676,
          7.247970104217529,
          7.229168891906738,
          7.26589298248291,
          7.239154815673828,
          7.29060697555542,
          7.322572231292725,
          7.233242511749268,
          7.195417881011963,
          7.115408897399902,
          7.131009101867676,
          7.076758861541748,
          7.201831340789795,
          7.0698347091674805,
          7.207523822784424
         ]
        },
        {
         "mode": "lines",
         "name": "Real (7)",
         "type": "scatter",
         "visible": false,
         "x": [
          "2014-03-19",
          "2014-03-20",
          "2014-03-21",
          "2014-03-22",
          "2014-03-23",
          "2014-03-24",
          "2014-03-25",
          "2014-03-26",
          "2014-03-27",
          "2014-03-28",
          "2014-03-29",
          "2014-03-30",
          "2014-03-31",
          "2014-04-01",
          "2014-04-02",
          "2014-04-03",
          "2014-04-04",
          "2014-04-05",
          "2014-04-06",
          "2014-04-07",
          "2014-04-08",
          "2014-04-09",
          "2014-04-10",
          "2014-04-11",
          "2014-04-12",
          "2014-04-13",
          "2014-04-14",
          "2014-04-15",
          "2014-04-16",
          "2014-04-17",
          "2014-04-18",
          "2014-04-19",
          "2014-04-20",
          "2014-04-21",
          "2014-04-22",
          "2014-04-23",
          "2014-04-24",
          "2014-04-25"
         ],
         "y": [
          6.789474010467529,
          6.524210453033447,
          5.021052360534668,
          7.010526657104492,
          7.187368392944336,
          7.717895030975342,
          7.054737091064453,
          7.45263147354126,
          6.3915791511535645,
          7.054737091064453,
          7.45263147354126,
          7.054737091064453,
          7.187368392944336,
          7.054737091064453,
          7.585263252258301,
          7.320000171661377,
          7.585263252258301,
          7.1210527420043945,
          7.010526657104492,
          6.955263137817383,
          7.56315803527832,
          7.320000171661377,
          7.850526332855225,
          7.585263252258301,
          7.187368392944336,
          7.45263147354126,
          7.784210205078125,
          7.717895030975342,
          7.850526332855225,
          7.45263147354126,
          7.1210527420043945,
          6.955263137817383,
          7.850526332855225,
          7.850526332855225,
          7.45263147354126,
          7.850526332855225,
          7.187368392944336,
          7.054737091064453
         ]
        },
        {
         "mode": "lines",
         "name": "Predicted (7)",
         "type": "scatter",
         "visible": false,
         "x": [
          "2014-03-19",
          "2014-03-20",
          "2014-03-21",
          "2014-03-22",
          "2014-03-23",
          "2014-03-24",
          "2014-03-25",
          "2014-03-26",
          "2014-03-27",
          "2014-03-28",
          "2014-03-29",
          "2014-03-30",
          "2014-03-31",
          "2014-04-01",
          "2014-04-02",
          "2014-04-03",
          "2014-04-04",
          "2014-04-05",
          "2014-04-06",
          "2014-04-07",
          "2014-04-08",
          "2014-04-09",
          "2014-04-10",
          "2014-04-11",
          "2014-04-12",
          "2014-04-13",
          "2014-04-14",
          "2014-04-15",
          "2014-04-16",
          "2014-04-17",
          "2014-04-18",
          "2014-04-19",
          "2014-04-20",
          "2014-04-21",
          "2014-04-22",
          "2014-04-23",
          "2014-04-24",
          "2014-04-25"
         ],
         "y": [
          7.284401893615723,
          7.232918739318848,
          7.259292125701904,
          7.290513038635254,
          7.323172092437744,
          7.215360641479492,
          7.264756679534912,
          7.2441630363464355,
          7.275418281555176,
          7.248220920562744,
          7.3122334480285645,
          7.394563674926758,
          7.384861469268799,
          7.282042026519775,
          7.321166515350342,
          7.466823101043701,
          7.448545932769775,
          7.373058795928955,
          7.36828088760376,
          7.346933841705322,
          7.194801330566406,
          7.24494743347168,
          7.338668346405029,
          7.445798397064209,
          7.407631874084473,
          7.36578893661499,
          7.463390350341797,
          7.4964799880981445,
          7.561534404754639,
          7.508335590362549,
          7.45132303237915,
          7.395559310913086,
          7.462907791137695,
          7.607205390930176,
          7.575723648071289,
          7.471524715423584,
          7.4202680587768555,
          7.42149543762207
         ]
        },
        {
         "mode": "lines",
         "name": "Real (8)",
         "type": "scatter",
         "visible": false,
         "x": [
          "2014-03-05",
          "2014-03-06",
          "2014-03-07",
          "2014-03-08",
          "2014-03-09",
          "2014-03-10",
          "2014-03-11",
          "2014-03-12",
          "2014-03-13",
          "2014-03-14",
          "2014-03-15",
          "2014-03-16",
          "2014-03-17",
          "2014-03-18",
          "2014-03-19",
          "2014-03-20",
          "2014-03-21",
          "2014-03-22",
          "2014-03-23",
          "2014-03-24",
          "2014-03-25",
          "2014-03-26",
          "2014-03-27",
          "2014-03-28",
          "2014-03-29",
          "2014-03-30",
          "2014-03-31",
          "2014-04-01",
          "2014-04-02",
          "2014-04-03",
          "2014-04-04",
          "2014-04-05",
          "2014-04-06",
          "2014-04-07",
          "2014-04-08",
          "2014-04-09",
          "2014-04-10",
          "2014-04-11",
          "2014-04-12",
          "2014-04-13",
          "2014-04-14",
          "2014-04-15",
          "2014-04-16",
          "2014-04-17",
          "2014-04-18",
          "2014-04-19",
          "2014-04-20",
          "2014-04-21",
          "2014-04-22"
         ],
         "y": [
          7.187368392944336,
          6.922105312347412,
          6.789474010467529,
          7.983158111572266,
          7.054737091064453,
          7.054737091064453,
          6.789474010467529,
          7.45263147354126,
          8.115789413452148,
          7.950000286102295,
          7.45263147354126,
          7.850526332855225,
          6.922105312347412,
          7.850526332855225,
          7.6184210777282715,
          7.784210205078125,
          7.320000171661377,
          6.922105312347412,
          7.585263252258301,
          7.1210527420043945,
          6.789474010467529,
          7.320000171661377,
          7.45263147354126,
          6.789474010467529,
          6.65684175491333,
          6.789474010467529,
          6.457894802093506,
          7.45263147354126,
          7.187368392944336,
          8.115789413452148,
          6.955263137817383,
          7.1210527420043945,
          7.187368392944336,
          7.010526657104492,
          7.585263252258301,
          7.6184210777282715,
          7.45263147354126,
          7.1210527420043945,
          6.922105312347412,
          6.955263137817383,
          7.054737091064453,
          6.955263137817383,
          6.292105197906494,
          7.054737091064453,
          7.187368392944336,
          7.320000171661377,
          6.524210453033447,
          7.187368392944336,
          7.320000171661377
         ]
        },
        {
         "mode": "lines",
         "name": "Predicted (8)",
         "type": "scatter",
         "visible": false,
         "x": [
          "2014-03-05",
          "2014-03-06",
          "2014-03-07",
          "2014-03-08",
          "2014-03-09",
          "2014-03-10",
          "2014-03-11",
          "2014-03-12",
          "2014-03-13",
          "2014-03-14",
          "2014-03-15",
          "2014-03-16",
          "2014-03-17",
          "2014-03-18",
          "2014-03-19",
          "2014-03-20",
          "2014-03-21",
          "2014-03-22",
          "2014-03-23",
          "2014-03-24",
          "2014-03-25",
          "2014-03-26",
          "2014-03-27",
          "2014-03-28",
          "2014-03-29",
          "2014-03-30",
          "2014-03-31",
          "2014-04-01",
          "2014-04-02",
          "2014-04-03",
          "2014-04-04",
          "2014-04-05",
          "2014-04-06",
          "2014-04-07",
          "2014-04-08",
          "2014-04-09",
          "2014-04-10",
          "2014-04-11",
          "2014-04-12",
          "2014-04-13",
          "2014-04-14",
          "2014-04-15",
          "2014-04-16",
          "2014-04-17",
          "2014-04-18",
          "2014-04-19",
          "2014-04-20",
          "2014-04-21",
          "2014-04-22"
         ],
         "y": [
          7.350541114807129,
          7.334446907043457,
          7.322932243347168,
          7.3494486808776855,
          7.471089839935303,
          7.297512531280518,
          7.277187347412109,
          7.2751145362854,
          7.469868183135986,
          7.430618762969971,
          7.433918476104736,
          7.418919563293457,
          7.400251388549805,
          7.322086334228516,
          7.39078950881958,
          7.338944435119629,
          7.361286163330078,
          7.420780658721924,
          7.422049522399902,
          7.452934741973877,
          7.398987770080566,
          7.390804290771484,
          7.397322177886963,
          7.364748954772949,
          7.272514820098877,
          7.183911323547363,
          7.250789642333984,
          7.155335903167725,
          7.324925422668457,
          7.293649196624756,
          7.455538749694824,
          7.390804767608643,
          7.301479339599609,
          7.347934722900391,
          7.286702632904053,
          7.386453628540039,
          7.5053510665893555,
          7.457955360412598,
          7.531028747558594,
          7.4731879234313965,
          7.477374076843262,
          7.555364608764648,
          7.49007511138916,
          7.44570779800415,
          7.497635364532471,
          7.449841022491455,
          7.46174955368042,
          7.4764180183410645,
          7.456784248352051
         ]
        },
        {
         "mode": "lines",
         "name": "Real (9)",
         "type": "scatter",
         "visible": false,
         "x": [
          "2014-03-21",
          "2014-03-22",
          "2014-03-23",
          "2014-03-24",
          "2014-03-25",
          "2014-03-26",
          "2014-03-27",
          "2014-03-28",
          "2014-03-29",
          "2014-03-30",
          "2014-03-31",
          "2014-04-01",
          "2014-04-02",
          "2014-04-03",
          "2014-04-04",
          "2014-04-05",
          "2014-04-06",
          "2014-04-07",
          "2014-04-08",
          "2014-04-09",
          "2014-04-10",
          "2014-04-11",
          "2014-04-12",
          "2014-04-13",
          "2014-04-14",
          "2014-04-15",
          "2014-04-16",
          "2014-04-17",
          "2014-04-18",
          "2014-04-19",
          "2014-04-20",
          "2014-04-21",
          "2014-04-22",
          "2014-04-23",
          "2014-04-24",
          "2014-04-25"
         ],
         "y": [
          7.45263147354126,
          7.320000171661377,
          7.187368392944336,
          6.65684175491333,
          7.054737091064453,
          6.789474010467529,
          7.1210527420043945,
          6.65684175491333,
          7.187368392944336,
          6.524210453033447,
          7.45263147354126,
          6.789474010467529,
          7.45263147354126,
          7.054737091064453,
          8.38105297088623,
          7.717895030975342,
          8.646316528320312,
          7.850526332855225,
          8.38105297088623,
          7.717895030975342,
          7.850526332855225,
          7.585263252258301,
          6.922105312347412,
          7.45263147354126,
          7.784210205078125,
          7.717895030975342,
          7.850526332855225,
          7.983158111572266,
          7.320000171661377,
          6.955263137817383,
          7.717895030975342,
          8.248420715332031,
          7.983158111572266,
          7.850526332855225,
          7.320000171661377,
          7.320000171661377
         ]
        },
        {
         "mode": "lines",
         "name": "Predicted (9)",
         "type": "scatter",
         "visible": false,
         "x": [
          "2014-03-21",
          "2014-03-22",
          "2014-03-23",
          "2014-03-24",
          "2014-03-25",
          "2014-03-26",
          "2014-03-27",
          "2014-03-28",
          "2014-03-29",
          "2014-03-30",
          "2014-03-31",
          "2014-04-01",
          "2014-04-02",
          "2014-04-03",
          "2014-04-04",
          "2014-04-05",
          "2014-04-06",
          "2014-04-07",
          "2014-04-08",
          "2014-04-09",
          "2014-04-10",
          "2014-04-11",
          "2014-04-12",
          "2014-04-13",
          "2014-04-14",
          "2014-04-15",
          "2014-04-16",
          "2014-04-17",
          "2014-04-18",
          "2014-04-19",
          "2014-04-20",
          "2014-04-21",
          "2014-04-22",
          "2014-04-23",
          "2014-04-24",
          "2014-04-25"
         ],
         "y": [
          7.507582664489746,
          7.559770107269287,
          7.49509859085083,
          7.4147725105285645,
          7.472655296325684,
          7.5575852394104,
          7.470763683319092,
          7.556777477264404,
          7.52481746673584,
          7.465481281280518,
          7.476629257202148,
          7.618514060974121,
          7.624741554260254,
          7.586212635040283,
          7.519620418548584,
          7.6829352378845215,
          7.707762241363525,
          7.707706928253174,
          7.726156711578369,
          7.620343208312988,
          7.514239311218262,
          7.571033954620361,
          7.531668186187744,
          7.506428241729736,
          7.483412742614746,
          7.488042831420898,
          7.555011749267578,
          7.547494888305664,
          7.5330586433410645,
          7.536698818206787,
          7.57704496383667,
          7.631618022918701,
          7.681232452392578,
          7.68231201171875,
          7.666515827178955,
          7.677633762359619
         ]
        },
        {
         "mode": "lines",
         "name": "Real (12)",
         "type": "scatter",
         "visible": false,
         "x": [
          "2014-03-27",
          "2014-03-28",
          "2014-03-29",
          "2014-03-30",
          "2014-03-31",
          "2014-04-01",
          "2014-04-02",
          "2014-04-03",
          "2014-04-04",
          "2014-04-05",
          "2014-04-06",
          "2014-04-07",
          "2014-04-08",
          "2014-04-09",
          "2014-04-10",
          "2014-04-11",
          "2014-04-12",
          "2014-04-13",
          "2014-04-14",
          "2014-04-15",
          "2014-04-16",
          "2014-04-17",
          "2014-04-18",
          "2014-04-19",
          "2014-04-20",
          "2014-04-21",
          "2014-04-22",
          "2014-04-23",
          "2014-04-24",
          "2014-04-25",
          "2014-04-26",
          "2014-04-27"
         ],
         "y": [
          7.187368392944336,
          7.320000171661377,
          6.789474010467529,
          6.789474010467529,
          7.054737091064453,
          5.1315789222717285,
          7.585263252258301,
          7.187368392944336,
          7.717895030975342,
          6.623684406280518,
          7.717895030975342,
          7.45263147354126,
          6.922105312347412,
          8.115789413452148,
          7.1210527420043945,
          7.286842346191406,
          6.922105312347412,
          7.45263147354126,
          7.673684597015381,
          7.784210205078125,
          7.717895030975342,
          7.717895030975342,
          7.45263147354126,
          7.320000171661377,
          8.115789413452148,
          7.231578826904297,
          7.950000286102295,
          7.784210205078125,
          7.784210205078125,
          7.784210205078125,
          6.789474010467529,
          6.789474010467529
         ]
        },
        {
         "mode": "lines",
         "name": "Predicted (12)",
         "type": "scatter",
         "visible": false,
         "x": [
          "2014-03-27",
          "2014-03-28",
          "2014-03-29",
          "2014-03-30",
          "2014-03-31",
          "2014-04-01",
          "2014-04-02",
          "2014-04-03",
          "2014-04-04",
          "2014-04-05",
          "2014-04-06",
          "2014-04-07",
          "2014-04-08",
          "2014-04-09",
          "2014-04-10",
          "2014-04-11",
          "2014-04-12",
          "2014-04-13",
          "2014-04-14",
          "2014-04-15",
          "2014-04-16",
          "2014-04-17",
          "2014-04-18",
          "2014-04-19",
          "2014-04-20",
          "2014-04-21",
          "2014-04-22",
          "2014-04-23",
          "2014-04-24",
          "2014-04-25",
          "2014-04-26",
          "2014-04-27"
         ],
         "y": [
          7.552811145782471,
          7.475605010986328,
          7.568053722381592,
          7.5359416007995605,
          7.577517509460449,
          7.496649742126465,
          7.352556228637695,
          7.517659664154053,
          7.449030876159668,
          7.542372703552246,
          7.49333381652832,
          7.573732852935791,
          7.552129745483398,
          7.548305034637451,
          7.594142913818359,
          7.531357765197754,
          7.517395496368408,
          7.491319179534912,
          7.5212531089782715,
          7.5176682472229,
          7.497722625732422,
          7.376734733581543,
          7.502862453460693,
          7.51793909072876,
          7.528153896331787,
          7.589104652404785,
          7.570759296417236,
          7.650379657745361,
          7.607994556427002,
          7.549928665161133,
          7.6149678230285645,
          7.4880242347717285
         ]
        },
        {
         "mode": "lines",
         "name": "Real (13)",
         "type": "scatter",
         "visible": false,
         "x": [
          "2014-03-13",
          "2014-03-14",
          "2014-03-15",
          "2014-03-16",
          "2014-03-17",
          "2014-03-18",
          "2014-03-19",
          "2014-03-20",
          "2014-03-21",
          "2014-03-22",
          "2014-03-23",
          "2014-03-24",
          "2014-03-25",
          "2014-03-26",
          "2014-03-27",
          "2014-03-28",
          "2014-03-29",
          "2014-03-30",
          "2014-03-31",
          "2014-04-01",
          "2014-04-02",
          "2014-04-03",
          "2014-04-04",
          "2014-04-05",
          "2014-04-06",
          "2014-04-07",
          "2014-04-08",
          "2014-04-09",
          "2014-04-10",
          "2014-04-11",
          "2014-04-12",
          "2014-04-13",
          "2014-04-14",
          "2014-04-15",
          "2014-04-16",
          "2014-04-17",
          "2014-04-18",
          "2014-04-19",
          "2014-04-20",
          "2014-04-21",
          "2014-04-22",
          "2014-04-23"
         ],
         "y": [
          6.922105312347412,
          7.1210527420043945,
          7.286842346191406,
          7.784210205078125,
          7.45263147354126,
          7.45263147354126,
          7.45263147354126,
          7.673684597015381,
          8.115789413452148,
          7.1210527420043945,
          7.45263147354126,
          7.45263147354126,
          7.45263147354126,
          7.45263147354126,
          7.585263252258301,
          7.45263147354126,
          7.585263252258301,
          7.45263147354126,
          7.717895030975342,
          7.585263252258301,
          7.585263252258301,
          7.585263252258301,
          7.585263252258301,
          7.585263252258301,
          7.983158111572266,
          6.922105312347412,
          7.320000171661377,
          7.320000171661377,
          7.45263147354126,
          7.585263252258301,
          7.45263147354126,
          7.717895030975342,
          7.45263147354126,
          7.45263147354126,
          7.45263147354126,
          7.45263147354126,
          7.054737091064453,
          6.789474010467529,
          7.45263147354126,
          7.45263147354126,
          7.585263252258301,
          7.45263147354126
         ]
        },
        {
         "mode": "lines",
         "name": "Predicted (13)",
         "type": "scatter",
         "visible": false,
         "x": [
          "2014-03-13",
          "2014-03-14",
          "2014-03-15",
          "2014-03-16",
          "2014-03-17",
          "2014-03-18",
          "2014-03-19",
          "2014-03-20",
          "2014-03-21",
          "2014-03-22",
          "2014-03-23",
          "2014-03-24",
          "2014-03-25",
          "2014-03-26",
          "2014-03-27",
          "2014-03-28",
          "2014-03-29",
          "2014-03-30",
          "2014-03-31",
          "2014-04-01",
          "2014-04-02",
          "2014-04-03",
          "2014-04-04",
          "2014-04-05",
          "2014-04-06",
          "2014-04-07",
          "2014-04-08",
          "2014-04-09",
          "2014-04-10",
          "2014-04-11",
          "2014-04-12",
          "2014-04-13",
          "2014-04-14",
          "2014-04-15",
          "2014-04-16",
          "2014-04-17",
          "2014-04-18",
          "2014-04-19",
          "2014-04-20",
          "2014-04-21",
          "2014-04-22",
          "2014-04-23"
         ],
         "y": [
          7.484306335449219,
          7.504941463470459,
          7.434907913208008,
          7.501516342163086,
          7.448897838592529,
          7.538135051727295,
          7.485911846160889,
          7.470331192016602,
          7.591817378997803,
          7.637917995452881,
          7.564005374908447,
          7.5299391746521,
          7.582348823547363,
          7.62516450881958,
          7.62908935546875,
          7.679330825805664,
          7.678806304931641,
          7.659384250640869,
          7.551486015319824,
          7.537893295288086,
          7.50062894821167,
          7.609107971191406,
          7.648244857788086,
          7.624989986419678,
          7.679376125335693,
          7.640740394592285,
          7.483823299407959,
          7.521335601806641,
          7.45106315612793,
          7.524135589599609,
          7.556352138519287,
          7.4886698722839355,
          7.655850887298584,
          7.713568687438965,
          7.710220813751221,
          7.590716361999512,
          7.602227687835693,
          7.472538471221924,
          7.47754430770874,
          7.520101547241211,
          7.554328441619873,
          7.603496551513672
         ]
        },
        {
         "mode": "lines",
         "name": "Real (14)",
         "type": "scatter",
         "visible": false,
         "x": [
          "2014-03-20",
          "2014-03-21",
          "2014-03-22",
          "2014-03-23",
          "2014-03-24",
          "2014-03-25",
          "2014-03-26",
          "2014-03-27",
          "2014-03-28",
          "2014-03-29",
          "2014-03-30",
          "2014-03-31",
          "2014-04-01",
          "2014-04-02",
          "2014-04-03",
          "2014-04-04",
          "2014-04-05",
          "2014-04-06",
          "2014-04-07",
          "2014-04-08",
          "2014-04-09",
          "2014-04-10",
          "2014-04-11",
          "2014-04-12",
          "2014-04-13",
          "2014-04-14",
          "2014-04-15",
          "2014-04-16",
          "2014-04-17",
          "2014-04-18",
          "2014-04-19",
          "2014-04-20",
          "2014-04-21",
          "2014-04-22",
          "2014-04-23",
          "2014-04-24",
          "2014-04-25"
         ],
         "y": [
          7.45263147354126,
          7.45263147354126,
          7.45263147354126,
          6.922105312347412,
          8.115789413452148,
          7.320000171661377,
          7.1210527420043945,
          7.45263147354126,
          7.054737091064453,
          6.789474010467529,
          6.524210453033447,
          6.789474010467529,
          7.1210527420043945,
          6.789474010467529,
          6.3915791511535645,
          6.789474010467529,
          6.65684175491333,
          7.054737091064453,
          6.955263137817383,
          6.922105312347412,
          7.45263147354126,
          7.286842346191406,
          7.45263147354126,
          7.054737091064453,
          7.585263252258301,
          7.187368392944336,
          7.45263147354126,
          7.45263147354126,
          7.054737091064453,
          7.45263147354126,
          7.187368392944336,
          7.6184210777282715,
          7.45263147354126,
          7.320000171661377,
          7.585263252258301,
          7.45263147354126,
          7.6184210777282715
         ]
        },
        {
         "mode": "lines",
         "name": "Predicted (14)",
         "type": "scatter",
         "visible": false,
         "x": [
          "2014-03-20",
          "2014-03-21",
          "2014-03-22",
          "2014-03-23",
          "2014-03-24",
          "2014-03-25",
          "2014-03-26",
          "2014-03-27",
          "2014-03-28",
          "2014-03-29",
          "2014-03-30",
          "2014-03-31",
          "2014-04-01",
          "2014-04-02",
          "2014-04-03",
          "2014-04-04",
          "2014-04-05",
          "2014-04-06",
          "2014-04-07",
          "2014-04-08",
          "2014-04-09",
          "2014-04-10",
          "2014-04-11",
          "2014-04-12",
          "2014-04-13",
          "2014-04-14",
          "2014-04-15",
          "2014-04-16",
          "2014-04-17",
          "2014-04-18",
          "2014-04-19",
          "2014-04-20",
          "2014-04-21",
          "2014-04-22",
          "2014-04-23",
          "2014-04-24",
          "2014-04-25"
         ],
         "y": [
          7.601386070251465,
          7.699368476867676,
          7.643061637878418,
          7.644673824310303,
          7.448060989379883,
          7.49943733215332,
          7.646083831787109,
          7.572869300842285,
          7.553945064544678,
          7.5172505378723145,
          7.550848007202148,
          7.554381847381592,
          7.447308540344238,
          7.4835429191589355,
          7.565826892852783,
          7.579135894775391,
          7.493519306182861,
          7.54262638092041,
          7.563587665557861,
          7.497352600097656,
          7.5750627517700195,
          7.627349853515625,
          7.618399620056152,
          7.61409330368042,
          7.574460029602051,
          7.647892475128174,
          7.64405632019043,
          7.629289627075195,
          7.694008827209473,
          7.553691387176514,
          7.597620487213135,
          7.536737442016602,
          7.62113618850708,
          7.596035957336426,
          7.565309047698975,
          7.712649822235107,
          7.7078938484191895
         ]
        },
        {
         "mode": "lines",
         "name": "Real (15)",
         "type": "scatter",
         "visible": false,
         "x": [
          "2014-03-14",
          "2014-03-15",
          "2014-03-16",
          "2014-03-17",
          "2014-03-18",
          "2014-03-19",
          "2014-03-20",
          "2014-03-21",
          "2014-03-22",
          "2014-03-23",
          "2014-03-24",
          "2014-03-25",
          "2014-03-26",
          "2014-03-27",
          "2014-03-28",
          "2014-03-29",
          "2014-03-30",
          "2014-03-31",
          "2014-04-01",
          "2014-04-02",
          "2014-04-03",
          "2014-04-04",
          "2014-04-05",
          "2014-04-06",
          "2014-04-07",
          "2014-04-08",
          "2014-04-09",
          "2014-04-10",
          "2014-04-11",
          "2014-04-12",
          "2014-04-13",
          "2014-04-14",
          "2014-04-15",
          "2014-04-16",
          "2014-04-17",
          "2014-04-18",
          "2014-04-19",
          "2014-04-20",
          "2014-04-21",
          "2014-04-22",
          "2014-04-23",
          "2014-04-24",
          "2014-04-25",
          "2014-04-26"
         ],
         "y": [
          7.187368392944336,
          7.6184210777282715,
          6.3915791511535645,
          7.45263147354126,
          7.054737091064453,
          7.6184210777282715,
          8.115789413452148,
          8.058947563171387,
          8.002105712890625,
          7.945263385772705,
          7.888421058654785,
          7.831579208374023,
          7.7747368812561035,
          7.717895030975342,
          7.717895030975342,
          7.717895030975342,
          7.45263147354126,
          7.784210205078125,
          7.585263252258301,
          7.585263252258301,
          7.585263252258301,
          7.320000171661377,
          8.115789413452148,
          7.6184210777282715,
          7.717895030975342,
          7.784210205078125,
          7.585263252258301,
          7.45263147354126,
          7.45263147354126,
          7.6184210777282715,
          7.45263147354126,
          7.45263147354126,
          7.45263147354126,
          7.286842346191406,
          7.585263252258301,
          7.585263252258301,
          7.585263252258301,
          7.45263147354126,
          7.45263147354126,
          7.585263252258301,
          7.45263147354126,
          7.45263147354126,
          7.45263147354126,
          7.585263252258301
         ]
        },
        {
         "mode": "lines",
         "name": "Predicted (15)",
         "type": "scatter",
         "visible": false,
         "x": [
          "2014-03-14",
          "2014-03-15",
          "2014-03-16",
          "2014-03-17",
          "2014-03-18",
          "2014-03-19",
          "2014-03-20",
          "2014-03-21",
          "2014-03-22",
          "2014-03-23",
          "2014-03-24",
          "2014-03-25",
          "2014-03-26",
          "2014-03-27",
          "2014-03-28",
          "2014-03-29",
          "2014-03-30",
          "2014-03-31",
          "2014-04-01",
          "2014-04-02",
          "2014-04-03",
          "2014-04-04",
          "2014-04-05",
          "2014-04-06",
          "2014-04-07",
          "2014-04-08",
          "2014-04-09",
          "2014-04-10",
          "2014-04-11",
          "2014-04-12",
          "2014-04-13",
          "2014-04-14",
          "2014-04-15",
          "2014-04-16",
          "2014-04-17",
          "2014-04-18",
          "2014-04-19",
          "2014-04-20",
          "2014-04-21",
          "2014-04-22",
          "2014-04-23",
          "2014-04-24",
          "2014-04-25",
          "2014-04-26"
         ],
         "y": [
          7.644434452056885,
          7.5839128494262695,
          7.63055419921875,
          7.478463649749756,
          7.612631797790527,
          7.611068248748779,
          7.617903709411621,
          7.705019474029541,
          7.715488433837891,
          7.717234134674072,
          7.705605983734131,
          7.700927734375,
          7.693456649780273,
          7.6878132820129395,
          7.745546340942383,
          7.744104385375977,
          7.696926116943359,
          7.70709228515625,
          7.713713645935059,
          7.684297561645508,
          7.688982963562012,
          7.762861251831055,
          7.689292907714844,
          7.717315196990967,
          7.781144142150879,
          7.74772310256958,
          7.645358562469482,
          7.667672634124756,
          7.599013328552246,
          7.624689102172852,
          7.645759105682373,
          7.722306251525879,
          7.6606950759887695,
          7.724086761474609,
          7.759531021118164,
          7.694357395172119,
          7.661276340484619,
          7.638998031616211,
          7.699474334716797,
          7.687858581542969,
          7.716361045837402,
          7.647580146789551,
          7.762934684753418,
          7.786146640777588
         ]
        },
        {
         "mode": "lines",
         "name": "Real (16)",
         "type": "scatter",
         "visible": false,
         "x": [
          "2014-03-13",
          "2014-03-14",
          "2014-03-15",
          "2014-03-16",
          "2014-03-17",
          "2014-03-18",
          "2014-03-19",
          "2014-03-20",
          "2014-03-21",
          "2014-03-22",
          "2014-03-23",
          "2014-03-24",
          "2014-03-25",
          "2014-03-26",
          "2014-03-27",
          "2014-03-28",
          "2014-03-29",
          "2014-03-30",
          "2014-03-31",
          "2014-04-01",
          "2014-04-02",
          "2014-04-03",
          "2014-04-04",
          "2014-04-05",
          "2014-04-06",
          "2014-04-07",
          "2014-04-08",
          "2014-04-09",
          "2014-04-10",
          "2014-04-11",
          "2014-04-12",
          "2014-04-13",
          "2014-04-14",
          "2014-04-15",
          "2014-04-16",
          "2014-04-17",
          "2014-04-18",
          "2014-04-19",
          "2014-04-20",
          "2014-04-21",
          "2014-04-22",
          "2014-04-23",
          "2014-04-24"
         ],
         "y": [
          7.717895030975342,
          7.187368392944336,
          5.9052629470825195,
          7.717895030975342,
          7.45263147354126,
          7.585263252258301,
          7.054737091064453,
          7.850526332855225,
          7.187368392944336,
          7.45263147354126,
          8.115789413452148,
          7.6184210777282715,
          7.187368392944336,
          7.320000171661377,
          7.585263252258301,
          7.286842346191406,
          7.320000171661377,
          7.585263252258301,
          7.585263252258301,
          7.45263147354126,
          7.054737091064453,
          7.320000171661377,
          7.320000171661377,
          7.320000171661377,
          7.320000171661377,
          7.850526332855225,
          7.054737091064453,
          7.320000171661377,
          6.789474010467529,
          7.187368392944336,
          7.6184210777282715,
          7.45263147354126,
          6.955263137817383,
          7.717895030975342,
          7.784210205078125,
          7.45263147354126,
          6.955263137817383,
          7.1210527420043945,
          7.231578826904297,
          7.45263147354126,
          7.45263147354126,
          7.45263147354126,
          7.320000171661377
         ]
        },
        {
         "mode": "lines",
         "name": "Predicted (16)",
         "type": "scatter",
         "visible": false,
         "x": [
          "2014-03-13",
          "2014-03-14",
          "2014-03-15",
          "2014-03-16",
          "2014-03-17",
          "2014-03-18",
          "2014-03-19",
          "2014-03-20",
          "2014-03-21",
          "2014-03-22",
          "2014-03-23",
          "2014-03-24",
          "2014-03-25",
          "2014-03-26",
          "2014-03-27",
          "2014-03-28",
          "2014-03-29",
          "2014-03-30",
          "2014-03-31",
          "2014-04-01",
          "2014-04-02",
          "2014-04-03",
          "2014-04-04",
          "2014-04-05",
          "2014-04-06",
          "2014-04-07",
          "2014-04-08",
          "2014-04-09",
          "2014-04-10",
          "2014-04-11",
          "2014-04-12",
          "2014-04-13",
          "2014-04-14",
          "2014-04-15",
          "2014-04-16",
          "2014-04-17",
          "2014-04-18",
          "2014-04-19",
          "2014-04-20",
          "2014-04-21",
          "2014-04-22",
          "2014-04-23",
          "2014-04-24"
         ],
         "y": [
          7.691580772399902,
          7.708688735961914,
          7.6641974449157715,
          7.695814609527588,
          7.760854721069336,
          7.683500289916992,
          7.703683376312256,
          7.698036193847656,
          7.669835090637207,
          7.682188034057617,
          7.6643171310424805,
          7.685427188873291,
          7.632294654846191,
          7.644123554229736,
          7.6952033042907715,
          7.636476516723633,
          7.653019905090332,
          7.69441032409668,
          7.675723075866699,
          7.706174850463867,
          7.721709251403809,
          7.6937055587768555,
          7.68563175201416,
          7.677415370941162,
          7.648767471313477,
          7.672062397003174,
          7.74803352355957,
          7.572824478149414,
          7.762940406799316,
          7.710192680358887,
          7.691050052642822,
          7.624969482421875,
          7.703740119934082,
          7.6697235107421875,
          7.801522254943848,
          7.852021217346191,
          7.722761154174805,
          7.631036281585693,
          7.6628499031066895,
          7.695064067840576,
          7.698192596435547,
          7.746533393859863,
          7.688076972961426
         ]
        },
        {
         "mode": "lines",
         "name": "Real (17)",
         "type": "scatter",
         "visible": false,
         "x": [
          "2014-03-04",
          "2014-03-05",
          "2014-03-06",
          "2014-03-07",
          "2014-03-08",
          "2014-03-09",
          "2014-03-10",
          "2014-03-11",
          "2014-03-12",
          "2014-03-13",
          "2014-03-14",
          "2014-03-15",
          "2014-03-16",
          "2014-03-17",
          "2014-03-18",
          "2014-03-19",
          "2014-03-20",
          "2014-03-21",
          "2014-03-22",
          "2014-03-23",
          "2014-03-24",
          "2014-03-25",
          "2014-03-26",
          "2014-03-27",
          "2014-03-28",
          "2014-03-29",
          "2014-03-30",
          "2014-03-31",
          "2014-04-01",
          "2014-04-02",
          "2014-04-03",
          "2014-04-04",
          "2014-04-05",
          "2014-04-06",
          "2014-04-07",
          "2014-04-08",
          "2014-04-09",
          "2014-04-10",
          "2014-04-11",
          "2014-04-12",
          "2014-04-13",
          "2014-04-14",
          "2014-04-15",
          "2014-04-16",
          "2014-04-17",
          "2014-04-18",
          "2014-04-19",
          "2014-04-20",
          "2014-04-21",
          "2014-04-22"
         ],
         "y": [
          7.6184210777282715,
          7.950000286102295,
          7.45263147354126,
          7.784210205078125,
          7.320000171661377,
          7.320000171661377,
          7.320000171661377,
          7.320000171661377,
          7.585263252258301,
          7.054737091064453,
          7.286842346191406,
          7.784210205078125,
          7.850526332855225,
          7.717895030975342,
          7.054737091064453,
          7.45263147354126,
          7.45263147354126,
          7.45263147354126,
          7.45263147354126,
          7.45263147354126,
          7.784210205078125,
          7.784210205078125,
          7.45263147354126,
          7.45263147354126,
          7.45263147354126,
          7.1210527420043945,
          7.45263147354126,
          6.623684406280518,
          7.187368392944336,
          7.585263252258301,
          7.45263147354126,
          7.45263147354126,
          7.950000286102295,
          7.585263252258301,
          7.601841926574707,
          7.6184210777282715,
          7.717895030975342,
          7.717895030975342,
          7.850526332855225,
          7.950000286102295,
          7.950000286102295,
          7.585263252258301,
          6.922105312347412,
          8.115789413452148,
          7.585263252258301,
          7.784210205078125,
          7.320000171661377,
          6.922105312347412,
          7.850526332855225,
          7.45263147354126
         ]
        },
        {
         "mode": "lines",
         "name": "Predicted (17)",
         "type": "scatter",
         "visible": false,
         "x": [
          "2014-03-04",
          "2014-03-05",
          "2014-03-06",
          "2014-03-07",
          "2014-03-08",
          "2014-03-09",
          "2014-03-10",
          "2014-03-11",
          "2014-03-12",
          "2014-03-13",
          "2014-03-14",
          "2014-03-15",
          "2014-03-16",
          "2014-03-17",
          "2014-03-18",
          "2014-03-19",
          "2014-03-20",
          "2014-03-21",
          "2014-03-22",
          "2014-03-23",
          "2014-03-24",
          "2014-03-25",
          "2014-03-26",
          "2014-03-27",
          "2014-03-28",
          "2014-03-29",
          "2014-03-30",
          "2014-03-31",
          "2014-04-01",
          "2014-04-02",
          "2014-04-03",
          "2014-04-04",
          "2014-04-05",
          "2014-04-06",
          "2014-04-07",
          "2014-04-08",
          "2014-04-09",
          "2014-04-10",
          "2014-04-11",
          "2014-04-12",
          "2014-04-13",
          "2014-04-14",
          "2014-04-15",
          "2014-04-16",
          "2014-04-17",
          "2014-04-18",
          "2014-04-19",
          "2014-04-20",
          "2014-04-21",
          "2014-04-22"
         ],
         "y": [
          7.728185653686523,
          7.693364143371582,
          7.726000785827637,
          7.69378137588501,
          7.707299709320068,
          7.66531229019165,
          7.6698760986328125,
          7.581220626831055,
          7.659413814544678,
          7.634161949157715,
          7.617733001708984,
          7.624029636383057,
          7.679400444030762,
          7.698649883270264,
          7.683950901031494,
          7.59857702255249,
          7.622583389282227,
          7.605865001678467,
          7.686403274536133,
          7.918537616729736,
          7.9147467613220215,
          7.885129451751709,
          7.9322381019592285,
          7.927436828613281,
          7.922285079956055,
          7.940165996551514,
          7.912862777709961,
          7.81650447845459,
          7.781630039215088,
          7.829676628112793,
          7.835975646972656,
          7.913765907287598,
          7.931323051452637,
          7.872356414794922,
          7.879833698272705,
          7.904353618621826,
          7.882755279541016,
          7.861247539520264,
          7.9511566162109375,
          7.898581504821777,
          7.8667521476745605,
          7.8815531730651855,
          7.838291645050049,
          7.800804138183594,
          7.769030570983887,
          7.747212886810303,
          7.72281551361084,
          7.71911096572876,
          7.747781753540039,
          7.858551979064941
         ]
        },
        {
         "mode": "lines",
         "name": "Real (19)",
         "type": "scatter",
         "visible": false,
         "x": [
          "2014-03-21",
          "2014-03-22",
          "2014-03-23",
          "2014-03-24",
          "2014-03-25",
          "2014-03-26",
          "2014-03-27",
          "2014-03-28",
          "2014-03-29",
          "2014-03-30",
          "2014-03-31",
          "2014-04-01",
          "2014-04-02",
          "2014-04-03",
          "2014-04-04",
          "2014-04-05",
          "2014-04-06",
          "2014-04-07",
          "2014-04-08",
          "2014-04-09",
          "2014-04-10",
          "2014-04-11",
          "2014-04-12",
          "2014-04-13",
          "2014-04-14",
          "2014-04-15",
          "2014-04-16",
          "2014-04-17",
          "2014-04-18",
          "2014-04-19",
          "2014-04-20",
          "2014-04-21",
          "2014-04-22",
          "2014-04-23",
          "2014-04-24",
          "2014-04-25"
         ],
         "y": [
          7.320000171661377,
          6.789474010467529,
          7.010526657104492,
          7.717895030975342,
          7.45263147354126,
          7.342105388641357,
          7.784210205078125,
          6.789474010467529,
          7.1210527420043945,
          7.45263147354126,
          7.45263147354126,
          7.717895030975342,
          7.45263147354126,
          7.6184210777282715,
          7.45263147354126,
          7.784210205078125,
          6.258947372436523,
          7.054737091064453,
          7.45263147354126,
          7.850526332855225,
          7.585263252258301,
          7.717895030975342,
          7.45263147354126,
          6.922105312347412,
          7.187368392944336,
          7.320000171661377,
          7.585263252258301,
          7.45263147354126,
          7.45263147354126,
          6.922105312347412,
          8.115789413452148,
          7.585263252258301,
          7.1210527420043945,
          6.955263137817383,
          7.784210205078125,
          7.320000171661377
         ]
        },
        {
         "mode": "lines",
         "name": "Predicted (19)",
         "type": "scatter",
         "visible": false,
         "x": [
          "2014-03-21",
          "2014-03-22",
          "2014-03-23",
          "2014-03-24",
          "2014-03-25",
          "2014-03-26",
          "2014-03-27",
          "2014-03-28",
          "2014-03-29",
          "2014-03-30",
          "2014-03-31",
          "2014-04-01",
          "2014-04-02",
          "2014-04-03",
          "2014-04-04",
          "2014-04-05",
          "2014-04-06",
          "2014-04-07",
          "2014-04-08",
          "2014-04-09",
          "2014-04-10",
          "2014-04-11",
          "2014-04-12",
          "2014-04-13",
          "2014-04-14",
          "2014-04-15",
          "2014-04-16",
          "2014-04-17",
          "2014-04-18",
          "2014-04-19",
          "2014-04-20",
          "2014-04-21",
          "2014-04-22",
          "2014-04-23",
          "2014-04-24",
          "2014-04-25"
         ],
         "y": [
          7.733086585998535,
          7.751065731048584,
          7.756446361541748,
          7.7426300048828125,
          7.756491184234619,
          7.730032920837402,
          7.705484390258789,
          7.772148132324219,
          7.72680139541626,
          7.796502590179443,
          7.789646148681641,
          7.800052165985107,
          7.745872497558594,
          7.796634197235107,
          7.71255350112915,
          7.690391540527344,
          7.7294230461120605,
          7.597112655639648,
          7.706107139587402,
          7.727128028869629,
          7.752816200256348,
          7.731696605682373,
          7.740755081176758,
          7.792247295379639,
          7.746161937713623,
          7.772363185882568,
          7.700041770935059,
          7.688700199127197,
          7.74199914932251,
          7.785194396972656,
          7.7138447761535645,
          7.735538482666016,
          7.741871356964111,
          7.682673454284668,
          7.648094654083252,
          7.644972324371338
         ]
        },
        {
         "mode": "lines",
         "name": "Real (20)",
         "type": "scatter",
         "visible": false,
         "x": [
          "2014-03-20",
          "2014-03-21",
          "2014-03-22",
          "2014-03-23",
          "2014-03-24",
          "2014-03-25",
          "2014-03-26",
          "2014-03-27",
          "2014-03-28",
          "2014-03-29",
          "2014-03-30",
          "2014-03-31",
          "2014-04-01",
          "2014-04-02",
          "2014-04-03",
          "2014-04-04",
          "2014-04-05",
          "2014-04-06",
          "2014-04-07",
          "2014-04-08",
          "2014-04-09",
          "2014-04-10",
          "2014-04-11",
          "2014-04-12",
          "2014-04-13",
          "2014-04-14",
          "2014-04-15",
          "2014-04-16",
          "2014-04-17",
          "2014-04-18",
          "2014-04-19",
          "2014-04-20",
          "2014-04-21",
          "2014-04-22",
          "2014-04-23",
          "2014-04-24",
          "2014-04-25"
         ],
         "y": [
          7.717895030975342,
          8.28157901763916,
          7.1210527420043945,
          6.789474010467529,
          6.955263137817383,
          7.45263147354126,
          7.717895030975342,
          7.585263252258301,
          6.789474010467529,
          6.922105312347412,
          7.45263147354126,
          7.784210205078125,
          7.45263147354126,
          7.187368392944336,
          7.054737091064453,
          7.320000171661377,
          7.286842346191406,
          8.115789413452148,
          7.286842346191406,
          7.286842346191406,
          7.054737091064453,
          7.054737091064453,
          7.187368392944336,
          7.187368392944336,
          7.950000286102295,
          7.45263147354126,
          7.717895030975342,
          7.320000171661377,
          7.320000171661377,
          6.789474010467529,
          7.585263252258301,
          8.115789413452148,
          8.115789413452148,
          7.054737091064453,
          7.6184210777282715,
          6.922105312347412,
          6.65684175491333
         ]
        },
        {
         "mode": "lines",
         "name": "Predicted (20)",
         "type": "scatter",
         "visible": false,
         "x": [
          "2014-03-20",
          "2014-03-21",
          "2014-03-22",
          "2014-03-23",
          "2014-03-24",
          "2014-03-25",
          "2014-03-26",
          "2014-03-27",
          "2014-03-28",
          "2014-03-29",
          "2014-03-30",
          "2014-03-31",
          "2014-04-01",
          "2014-04-02",
          "2014-04-03",
          "2014-04-04",
          "2014-04-05",
          "2014-04-06",
          "2014-04-07",
          "2014-04-08",
          "2014-04-09",
          "2014-04-10",
          "2014-04-11",
          "2014-04-12",
          "2014-04-13",
          "2014-04-14",
          "2014-04-15",
          "2014-04-16",
          "2014-04-17",
          "2014-04-18",
          "2014-04-19",
          "2014-04-20",
          "2014-04-21",
          "2014-04-22",
          "2014-04-23",
          "2014-04-24",
          "2014-04-25"
         ],
         "y": [
          7.722481727600098,
          7.7403106689453125,
          7.833269119262695,
          7.67081880569458,
          7.667934894561768,
          7.73178243637085,
          7.859372138977051,
          7.787291526794434,
          7.814301490783691,
          7.635731220245361,
          7.711765289306641,
          7.692255973815918,
          7.733157634735107,
          7.772274494171143,
          7.711485862731934,
          7.711498737335205,
          7.706711769104004,
          7.733386516571045,
          7.836570739746094,
          7.748170852661133,
          7.720792293548584,
          7.675370693206787,
          7.700259685516357,
          7.690093994140625,
          7.718365669250488,
          7.831252098083496,
          7.680816650390625,
          7.78795862197876,
          7.7614521980285645,
          7.77733850479126,
          7.672433376312256,
          7.681016445159912,
          7.889598369598389,
          7.774990558624268,
          7.70621395111084,
          7.8189616203308105,
          7.764955043792725
         ]
        },
        {
         "mode": "lines",
         "name": "Real (23)",
         "type": "scatter",
         "visible": false,
         "x": [
          "2014-03-22",
          "2014-03-23",
          "2014-03-24",
          "2014-03-25",
          "2014-03-26",
          "2014-03-27",
          "2014-03-28",
          "2014-03-29",
          "2014-03-30",
          "2014-03-31",
          "2014-04-01",
          "2014-04-02",
          "2014-04-03",
          "2014-04-04",
          "2014-04-05",
          "2014-04-06",
          "2014-04-07",
          "2014-04-08",
          "2014-04-09",
          "2014-04-10",
          "2014-04-11",
          "2014-04-12",
          "2014-04-13",
          "2014-04-14",
          "2014-04-15",
          "2014-04-16",
          "2014-04-17",
          "2014-04-18",
          "2014-04-19",
          "2014-04-20",
          "2014-04-21",
          "2014-04-22"
         ],
         "y": [
          7.187368392944336,
          8.115789413452148,
          7.983158111572266,
          8.115789413452148,
          7.187368392944336,
          6.922105312347412,
          7.320000171661377,
          7.585263252258301,
          7.983158111572266,
          7.717895030975342,
          7.1210527420043945,
          7.220526218414307,
          7.320000171661377,
          7.187368392944336,
          7.320000171661377,
          8.115789413452148,
          6.922105312347412,
          7.054737091064453,
          7.45263147354126,
          6.789474010467529,
          7.054737091064453,
          7.717895030975342,
          7.717895030975342,
          6.65684175491333,
          7.45263147354126,
          8.613158226013184,
          7.850526332855225,
          7.585263252258301,
          7.983158111572266,
          7.850526332855225,
          8.513684272766113,
          7.784210205078125
         ]
        },
        {
         "mode": "lines",
         "name": "Predicted (23)",
         "type": "scatter",
         "visible": false,
         "x": [
          "2014-03-22",
          "2014-03-23",
          "2014-03-24",
          "2014-03-25",
          "2014-03-26",
          "2014-03-27",
          "2014-03-28",
          "2014-03-29",
          "2014-03-30",
          "2014-03-31",
          "2014-04-01",
          "2014-04-02",
          "2014-04-03",
          "2014-04-04",
          "2014-04-05",
          "2014-04-06",
          "2014-04-07",
          "2014-04-08",
          "2014-04-09",
          "2014-04-10",
          "2014-04-11",
          "2014-04-12",
          "2014-04-13",
          "2014-04-14",
          "2014-04-15",
          "2014-04-16",
          "2014-04-17",
          "2014-04-18",
          "2014-04-19",
          "2014-04-20",
          "2014-04-21",
          "2014-04-22"
         ],
         "y": [
          7.706153392791748,
          7.824975967407227,
          7.926669120788574,
          7.8604736328125,
          7.898490905761719,
          7.848649024963379,
          7.7533721923828125,
          7.743007183074951,
          7.789302825927734,
          7.728911876678467,
          7.635621070861816,
          7.743476867675781,
          7.72280740737915,
          7.732223033905029,
          7.81995153427124,
          7.796548843383789,
          7.826465129852295,
          7.790474891662598,
          7.739104747772217,
          7.79769229888916,
          7.7515153884887695,
          7.811601161956787,
          7.803959369659424,
          7.765868663787842,
          7.696229934692383,
          7.705441474914551,
          7.810374736785889,
          7.778848171234131,
          7.731161594390869,
          7.753879070281982,
          7.824016571044922,
          7.847322940826416
         ]
        },
        {
         "mode": "lines",
         "name": "Real (24)",
         "type": "scatter",
         "visible": false,
         "x": [
          "2014-04-14",
          "2014-04-15",
          "2014-04-16",
          "2014-04-17",
          "2014-04-18",
          "2014-04-19",
          "2014-04-20",
          "2014-04-21",
          "2014-04-22",
          "2014-04-23",
          "2014-04-24",
          "2014-04-25",
          "2014-04-26",
          "2014-04-27",
          "2014-04-28",
          "2014-04-29",
          "2014-04-30",
          "2014-05-01",
          "2014-05-02",
          "2014-05-03",
          "2014-05-04",
          "2014-05-05",
          "2014-05-06",
          "2014-05-07",
          "2014-05-08",
          "2014-05-09",
          "2014-05-10",
          "2014-05-11",
          "2014-05-12",
          "2014-05-13",
          "2014-05-14",
          "2014-05-15",
          "2014-05-16",
          "2014-05-17",
          "2014-05-18",
          "2014-05-19",
          "2014-05-20",
          "2014-05-21",
          "2014-05-22",
          "2014-05-23",
          "2014-05-24",
          "2014-05-25",
          "2014-05-26",
          "2014-05-27"
         ],
         "y": [
          7.585263252258301,
          7.320000171661377,
          7.983158111572266,
          8.115789413452148,
          7.850526332855225,
          7.850526332855225,
          9,
          8.115789413452148,
          7.983158111572266,
          7.585263252258301,
          7.187368392944336,
          7.850526332855225,
          7.585263252258301,
          7.054737091064453,
          7.717895030975342,
          7.8947367668151855,
          7.9389472007751465,
          7.1210527420043945,
          7.983158111572266,
          7.45263147354126,
          7.45263147354126,
          7.717895030975342,
          7.983158111572266,
          7.585263252258301,
          7.320000171661377,
          7.320000171661377,
          6.922105312347412,
          7.983158111572266,
          6.65684175491333,
          7.286842346191406,
          7.983158111572266,
          8.115789413452148,
          7.6184210777282715,
          7.45263147354126,
          8.115789413452148,
          7.45263147354126,
          8.115789413452148,
          7.6184210777282715,
          7.784210205078125,
          7.45263147354126,
          6.922105312347412,
          8.447368621826172,
          8.513684272766113,
          7.585263252258301
         ]
        },
        {
         "mode": "lines",
         "name": "Predicted (24)",
         "type": "scatter",
         "visible": false,
         "x": [
          "2014-04-14",
          "2014-04-15",
          "2014-04-16",
          "2014-04-17",
          "2014-04-18",
          "2014-04-19",
          "2014-04-20",
          "2014-04-21",
          "2014-04-22",
          "2014-04-23",
          "2014-04-24",
          "2014-04-25",
          "2014-04-26",
          "2014-04-27",
          "2014-04-28",
          "2014-04-29",
          "2014-04-30",
          "2014-05-01",
          "2014-05-02",
          "2014-05-03",
          "2014-05-04",
          "2014-05-05",
          "2014-05-06",
          "2014-05-07",
          "2014-05-08",
          "2014-05-09",
          "2014-05-10",
          "2014-05-11",
          "2014-05-12",
          "2014-05-13",
          "2014-05-14",
          "2014-05-15",
          "2014-05-16",
          "2014-05-17",
          "2014-05-18",
          "2014-05-19",
          "2014-05-20",
          "2014-05-21",
          "2014-05-22",
          "2014-05-23",
          "2014-05-24",
          "2014-05-25",
          "2014-05-26",
          "2014-05-27"
         ],
         "y": [
          7.7738237380981445,
          7.741726398468018,
          7.771243095397949,
          7.706493377685547,
          7.723918914794922,
          7.72098445892334,
          7.904634475708008,
          7.948418617248535,
          7.791937351226807,
          7.75727653503418,
          7.695393085479736,
          7.773582458496094,
          7.8216094970703125,
          7.742006301879883,
          7.830874443054199,
          7.738888263702393,
          7.744623184204102,
          7.758940696716309,
          7.895578384399414,
          7.881768703460693,
          7.844562530517578,
          7.788634300231934,
          7.748229026794434,
          7.761107444763184,
          7.748138427734375,
          7.7400898933410645,
          7.793837547302246,
          7.765503406524658,
          7.7751240730285645,
          7.767315864562988,
          7.694642543792725,
          7.748795509338379,
          7.8196234703063965,
          7.826602458953857,
          7.8481268882751465,
          7.9130024909973145,
          7.881485462188721,
          7.879943370819092,
          7.901447296142578,
          7.824854373931885,
          7.712897300720215,
          7.643306255340576,
          7.725796699523926,
          7.784590244293213
         ]
        },
        {
         "mode": "lines",
         "name": "Real (25)",
         "type": "scatter",
         "visible": false,
         "x": [
          "2014-04-08",
          "2014-04-09",
          "2014-04-10",
          "2014-04-11",
          "2014-04-12",
          "2014-04-13",
          "2014-04-14",
          "2014-04-15",
          "2014-04-16",
          "2014-04-17",
          "2014-04-18",
          "2014-04-19",
          "2014-04-20",
          "2014-04-21",
          "2014-04-22",
          "2014-04-23",
          "2014-04-24",
          "2014-04-25",
          "2014-04-26",
          "2014-04-27",
          "2014-04-28",
          "2014-04-29",
          "2014-04-30",
          "2014-05-01"
         ],
         "y": [
          8.28157901763916,
          8.248420715332031,
          8.115789413452148,
          8.28157901763916,
          7.983158111572266,
          7.850526332855225,
          8.115789413452148,
          7.45263147354126,
          7.784210205078125,
          7.585263252258301,
          7.054737091064453,
          7.850526332855225,
          7.983158111572266,
          7.784210205078125,
          6.789474010467529,
          7.1210527420043945,
          7.45263147354126,
          7.850526332855225,
          7.983158111572266,
          7.850526332855225,
          7.983158111572266,
          8.115789413452148,
          8.115789413452148,
          7.673684597015381
         ]
        },
        {
         "mode": "lines",
         "name": "Predicted (25)",
         "type": "scatter",
         "visible": false,
         "x": [
          "2014-04-08",
          "2014-04-09",
          "2014-04-10",
          "2014-04-11",
          "2014-04-12",
          "2014-04-13",
          "2014-04-14",
          "2014-04-15",
          "2014-04-16",
          "2014-04-17",
          "2014-04-18",
          "2014-04-19",
          "2014-04-20",
          "2014-04-21",
          "2014-04-22",
          "2014-04-23",
          "2014-04-24",
          "2014-04-25",
          "2014-04-26",
          "2014-04-27",
          "2014-04-28",
          "2014-04-29",
          "2014-04-30",
          "2014-05-01"
         ],
         "y": [
          7.737582206726074,
          7.7892231941223145,
          7.6937432289123535,
          7.737298011779785,
          7.759824752807617,
          7.729233741760254,
          7.780680179595947,
          7.7216081619262695,
          7.843966007232666,
          7.682156085968018,
          7.7247114181518555,
          7.7324934005737305,
          7.760756492614746,
          7.808537006378174,
          7.783480644226074,
          7.773846626281738,
          7.618864059448242,
          7.704308986663818,
          7.830626487731934,
          7.767414093017578,
          7.814166069030762,
          7.881129741668701,
          7.950807571411133,
          7.894053936004639
         ]
        },
        {
         "mode": "lines",
         "name": "Real (26)",
         "type": "scatter",
         "visible": false,
         "x": [
          "2014-03-23",
          "2014-03-24",
          "2014-03-25",
          "2014-03-26",
          "2014-03-27",
          "2014-03-28",
          "2014-03-29",
          "2014-03-30",
          "2014-03-31",
          "2014-04-01",
          "2014-04-02",
          "2014-04-03",
          "2014-04-04",
          "2014-04-05",
          "2014-04-06",
          "2014-04-07",
          "2014-04-08",
          "2014-04-09",
          "2014-04-10",
          "2014-04-11",
          "2014-04-12",
          "2014-04-13",
          "2014-04-14",
          "2014-04-15",
          "2014-04-16",
          "2014-04-17",
          "2014-04-18",
          "2014-04-19",
          "2014-04-20",
          "2014-04-21",
          "2014-04-22",
          "2014-04-23",
          "2014-04-24",
          "2014-04-25",
          "2014-04-26",
          "2014-04-27",
          "2014-04-28",
          "2014-04-29",
          "2014-04-30",
          "2014-05-01",
          "2014-05-02",
          "2014-05-03",
          "2014-05-04",
          "2014-05-05",
          "2014-05-06",
          "2014-05-07",
          "2014-05-08",
          "2014-05-09",
          "2014-05-10",
          "2014-05-11",
          "2014-05-12",
          "2014-05-13",
          "2014-05-14",
          "2014-05-15",
          "2014-05-16"
         ],
         "y": [
          7.828421115875244,
          7.45263147354126,
          7.983158111572266,
          8.38105297088623,
          7.850526332855225,
          7.850526332855225,
          7.983158111572266,
          7.850526332855225,
          8.115789413452148,
          7.983158111572266,
          8.115789413452148,
          8.115789413452148,
          7.850526332855225,
          7.983158111572266,
          7.950000286102295,
          8.248420715332031,
          7.8947367668151855,
          7.983158111572266,
          7.585263252258301,
          7.950000286102295,
          7.850526332855225,
          8.38105297088623,
          7.850526332855225,
          7.717895030975342,
          7.983158111572266,
          7.950000286102295,
          7.983158111572266,
          8.115789413452148,
          7.850526332855225,
          8.248420715332031,
          7.784210205078125,
          7.231578826904297,
          7.585263252258301,
          7.983158111572266,
          7.45263147354126,
          7.320000171661377,
          6.922105312347412,
          7.45263147354126,
          7.286842346191406,
          7.45263147354126,
          7.320000171661377,
          7.983158111572266,
          8.115789413452148,
          7.054737091064453,
          7.45263147354126,
          7.45263147354126,
          7.1210527420043945,
          7.45263147354126,
          7.45263147354126,
          7.717895030975342,
          7.320000171661377,
          7.45263147354126,
          7.45263147354126,
          7.45263147354126,
          7.45263147354126
         ]
        },
        {
         "mode": "lines",
         "name": "Predicted (26)",
         "type": "scatter",
         "visible": false,
         "x": [
          "2014-03-23",
          "2014-03-24",
          "2014-03-25",
          "2014-03-26",
          "2014-03-27",
          "2014-03-28",
          "2014-03-29",
          "2014-03-30",
          "2014-03-31",
          "2014-04-01",
          "2014-04-02",
          "2014-04-03",
          "2014-04-04",
          "2014-04-05",
          "2014-04-06",
          "2014-04-07",
          "2014-04-08",
          "2014-04-09",
          "2014-04-10",
          "2014-04-11",
          "2014-04-12",
          "2014-04-13",
          "2014-04-14",
          "2014-04-15",
          "2014-04-16",
          "2014-04-17",
          "2014-04-18",
          "2014-04-19",
          "2014-04-20",
          "2014-04-21",
          "2014-04-22",
          "2014-04-23",
          "2014-04-24",
          "2014-04-25",
          "2014-04-26",
          "2014-04-27",
          "2014-04-28",
          "2014-04-29",
          "2014-04-30",
          "2014-05-01",
          "2014-05-02",
          "2014-05-03",
          "2014-05-04",
          "2014-05-05",
          "2014-05-06",
          "2014-05-07",
          "2014-05-08",
          "2014-05-09",
          "2014-05-10",
          "2014-05-11",
          "2014-05-12",
          "2014-05-13",
          "2014-05-14",
          "2014-05-15",
          "2014-05-16"
         ],
         "y": [
          7.741678714752197,
          7.715214729309082,
          7.812679290771484,
          7.8700270652771,
          7.7766194343566895,
          7.7579827308654785,
          7.862969398498535,
          7.828437805175781,
          7.7840256690979,
          7.827062129974365,
          7.78912353515625,
          7.764366626739502,
          7.809613227844238,
          7.898007869720459,
          7.888070106506348,
          7.884255409240723,
          7.863420009613037,
          7.861244201660156,
          7.805075645446777,
          7.7565155029296875,
          7.786198616027832,
          7.853586673736572,
          7.872508525848389,
          7.851279258728027,
          7.7859416007995605,
          7.766214847564697,
          7.755176067352295,
          7.803110122680664,
          7.851613998413086,
          7.754123210906982,
          7.771258354187012,
          7.813876152038574,
          7.824188232421875,
          7.814138889312744,
          7.890491485595703,
          7.867676734924316,
          7.844022274017334,
          7.721219539642334,
          7.783243656158447,
          7.783030986785889,
          7.852713584899902,
          7.798893451690674,
          7.902189254760742,
          7.989523410797119,
          7.833785533905029,
          7.816399574279785,
          7.872220993041992,
          7.817956924438477,
          7.92725133895874,
          7.930354595184326,
          7.905879974365234,
          7.873684406280518,
          7.8573455810546875,
          7.825446605682373,
          7.81783390045166
         ]
        },
        {
         "mode": "lines",
         "name": "Real (27)",
         "type": "scatter",
         "visible": false,
         "x": [
          "2014-04-03",
          "2014-04-04",
          "2014-04-05",
          "2014-04-06",
          "2014-04-07",
          "2014-04-08",
          "2014-04-09",
          "2014-04-10",
          "2014-04-11",
          "2014-04-12",
          "2014-04-13",
          "2014-04-14",
          "2014-04-15",
          "2014-04-16",
          "2014-04-17",
          "2014-04-18",
          "2014-04-19",
          "2014-04-20",
          "2014-04-21",
          "2014-04-22",
          "2014-04-23",
          "2014-04-24",
          "2014-04-25",
          "2014-04-26",
          "2014-04-27",
          "2014-04-28",
          "2014-04-29",
          "2014-04-30",
          "2014-05-01",
          "2014-05-02",
          "2014-05-03",
          "2014-05-04",
          "2014-05-05",
          "2014-05-06"
         ],
         "y": [
          7.717895030975342,
          7.585263252258301,
          7.45263147354126,
          7.369736671447754,
          8.115789413452148,
          7.673684597015381,
          8.28157901763916,
          7.8947367668151855,
          8.513684272766113,
          8.115789413452148,
          7.784210205078125,
          8.115789413452148,
          8.447368621826172,
          8.447368621826172,
          7.45263147354126,
          7.45263147354126,
          7.45263147354126,
          7.45263147354126,
          7.45263147354126,
          7.45263147354126,
          8.115789413452148,
          8.115789413452148,
          7.784210205078125,
          7.45263147354126,
          7.784210205078125,
          8.115789413452148,
          7.45263147354126,
          7.45263147354126,
          7.6184210777282715,
          7.784210205078125,
          7.45263147354126,
          7.45263147354126,
          8.38105297088623,
          7.850526332855225
         ]
        },
        {
         "mode": "lines",
         "name": "Predicted (27)",
         "type": "scatter",
         "visible": false,
         "x": [
          "2014-04-03",
          "2014-04-04",
          "2014-04-05",
          "2014-04-06",
          "2014-04-07",
          "2014-04-08",
          "2014-04-09",
          "2014-04-10",
          "2014-04-11",
          "2014-04-12",
          "2014-04-13",
          "2014-04-14",
          "2014-04-15",
          "2014-04-16",
          "2014-04-17",
          "2014-04-18",
          "2014-04-19",
          "2014-04-20",
          "2014-04-21",
          "2014-04-22",
          "2014-04-23",
          "2014-04-24",
          "2014-04-25",
          "2014-04-26",
          "2014-04-27",
          "2014-04-28",
          "2014-04-29",
          "2014-04-30",
          "2014-05-01",
          "2014-05-02",
          "2014-05-03",
          "2014-05-04",
          "2014-05-05",
          "2014-05-06"
         ],
         "y": [
          7.90079402923584,
          7.92601203918457,
          7.824896812438965,
          7.778125286102295,
          7.747443675994873,
          7.691939830780029,
          7.751485824584961,
          7.739660739898682,
          7.718064308166504,
          7.683600425720215,
          7.6287078857421875,
          7.736343860626221,
          7.774021148681641,
          7.799310207366943,
          7.787919521331787,
          7.757903575897217,
          7.676939487457275,
          7.622015476226807,
          7.506880760192871,
          7.575922966003418,
          7.670208930969238,
          7.716975212097168,
          7.842619895935059,
          7.83699893951416,
          7.699673175811768,
          7.737575054168701,
          7.824834823608398,
          7.776712417602539,
          7.676657676696777,
          7.657475471496582,
          7.659580707550049,
          7.380277156829834,
          7.5734148025512695,
          7.703285217285156
         ]
        },
        {
         "mode": "lines",
         "name": "Real (28)",
         "type": "scatter",
         "visible": false,
         "x": [
          "2014-03-31",
          "2014-04-01",
          "2014-04-02",
          "2014-04-03",
          "2014-04-04",
          "2014-04-05",
          "2014-04-06",
          "2014-04-07",
          "2014-04-08",
          "2014-04-09",
          "2014-04-10",
          "2014-04-11",
          "2014-04-12",
          "2014-04-13",
          "2014-04-14",
          "2014-04-15",
          "2014-04-16",
          "2014-04-17",
          "2014-04-18",
          "2014-04-19",
          "2014-04-20",
          "2014-04-21",
          "2014-04-22",
          "2014-04-23",
          "2014-04-24"
         ],
         "y": [
          6.922105312347412,
          7.286842346191406,
          6.922105312347412,
          7.054737091064453,
          7.45263147354126,
          7.747368335723877,
          8.042104721069336,
          8.33684253692627,
          7.6184210777282715,
          6.872368335723877,
          6.126316070556641,
          7.187368392944336,
          5.9936842918396,
          7.850526332855225,
          6.789474010467529,
          6.789474010467529,
          6.126316070556641,
          7.342105388641357,
          6.789474010467529,
          7.45263147354126,
          6.789474010467529,
          6.789474010467529,
          6.922105312347412,
          6.955263137817383,
          6.789474010467529
         ]
        },
        {
         "mode": "lines",
         "name": "Predicted (28)",
         "type": "scatter",
         "visible": false,
         "x": [
          "2014-03-31",
          "2014-04-01",
          "2014-04-02",
          "2014-04-03",
          "2014-04-04",
          "2014-04-05",
          "2014-04-06",
          "2014-04-07",
          "2014-04-08",
          "2014-04-09",
          "2014-04-10",
          "2014-04-11",
          "2014-04-12",
          "2014-04-13",
          "2014-04-14",
          "2014-04-15",
          "2014-04-16",
          "2014-04-17",
          "2014-04-18",
          "2014-04-19",
          "2014-04-20",
          "2014-04-21",
          "2014-04-22",
          "2014-04-23",
          "2014-04-24"
         ],
         "y": [
          7.777839660644531,
          7.581563472747803,
          7.512566566467285,
          7.530202388763428,
          7.416976451873779,
          7.55867862701416,
          7.699121475219727,
          7.784667015075684,
          7.8273162841796875,
          7.60515832901001,
          7.518355846405029,
          7.415482997894287,
          7.488766670227051,
          7.476945877075195,
          7.610868453979492,
          7.582099914550781,
          7.527754783630371,
          7.707991123199463,
          7.579967498779297,
          7.662882328033447,
          7.7641377449035645,
          7.6801557540893555,
          7.4678778648376465,
          7.434642791748047,
          7.445573806762695
         ]
        }
       ],
       "layout": {
        "template": {
         "data": {
          "bar": [
           {
            "error_x": {
             "color": "#2a3f5f"
            },
            "error_y": {
             "color": "#2a3f5f"
            },
            "marker": {
             "line": {
              "color": "#E5ECF6",
              "width": 0.5
             },
             "pattern": {
              "fillmode": "overlay",
              "size": 10,
              "solidity": 0.2
             }
            },
            "type": "bar"
           }
          ],
          "barpolar": [
           {
            "marker": {
             "line": {
              "color": "#E5ECF6",
              "width": 0.5
             },
             "pattern": {
              "fillmode": "overlay",
              "size": 10,
              "solidity": 0.2
             }
            },
            "type": "barpolar"
           }
          ],
          "carpet": [
           {
            "aaxis": {
             "endlinecolor": "#2a3f5f",
             "gridcolor": "white",
             "linecolor": "white",
             "minorgridcolor": "white",
             "startlinecolor": "#2a3f5f"
            },
            "baxis": {
             "endlinecolor": "#2a3f5f",
             "gridcolor": "white",
             "linecolor": "white",
             "minorgridcolor": "white",
             "startlinecolor": "#2a3f5f"
            },
            "type": "carpet"
           }
          ],
          "choropleth": [
           {
            "colorbar": {
             "outlinewidth": 0,
             "ticks": ""
            },
            "type": "choropleth"
           }
          ],
          "contour": [
           {
            "colorbar": {
             "outlinewidth": 0,
             "ticks": ""
            },
            "colorscale": [
             [
              0,
              "#0d0887"
             ],
             [
              0.1111111111111111,
              "#46039f"
             ],
             [
              0.2222222222222222,
              "#7201a8"
             ],
             [
              0.3333333333333333,
              "#9c179e"
             ],
             [
              0.4444444444444444,
              "#bd3786"
             ],
             [
              0.5555555555555556,
              "#d8576b"
             ],
             [
              0.6666666666666666,
              "#ed7953"
             ],
             [
              0.7777777777777778,
              "#fb9f3a"
             ],
             [
              0.8888888888888888,
              "#fdca26"
             ],
             [
              1,
              "#f0f921"
             ]
            ],
            "type": "contour"
           }
          ],
          "contourcarpet": [
           {
            "colorbar": {
             "outlinewidth": 0,
             "ticks": ""
            },
            "type": "contourcarpet"
           }
          ],
          "heatmap": [
           {
            "colorbar": {
             "outlinewidth": 0,
             "ticks": ""
            },
            "colorscale": [
             [
              0,
              "#0d0887"
             ],
             [
              0.1111111111111111,
              "#46039f"
             ],
             [
              0.2222222222222222,
              "#7201a8"
             ],
             [
              0.3333333333333333,
              "#9c179e"
             ],
             [
              0.4444444444444444,
              "#bd3786"
             ],
             [
              0.5555555555555556,
              "#d8576b"
             ],
             [
              0.6666666666666666,
              "#ed7953"
             ],
             [
              0.7777777777777778,
              "#fb9f3a"
             ],
             [
              0.8888888888888888,
              "#fdca26"
             ],
             [
              1,
              "#f0f921"
             ]
            ],
            "type": "heatmap"
           }
          ],
          "heatmapgl": [
           {
            "colorbar": {
             "outlinewidth": 0,
             "ticks": ""
            },
            "colorscale": [
             [
              0,
              "#0d0887"
             ],
             [
              0.1111111111111111,
              "#46039f"
             ],
             [
              0.2222222222222222,
              "#7201a8"
             ],
             [
              0.3333333333333333,
              "#9c179e"
             ],
             [
              0.4444444444444444,
              "#bd3786"
             ],
             [
              0.5555555555555556,
              "#d8576b"
             ],
             [
              0.6666666666666666,
              "#ed7953"
             ],
             [
              0.7777777777777778,
              "#fb9f3a"
             ],
             [
              0.8888888888888888,
              "#fdca26"
             ],
             [
              1,
              "#f0f921"
             ]
            ],
            "type": "heatmapgl"
           }
          ],
          "histogram": [
           {
            "marker": {
             "pattern": {
              "fillmode": "overlay",
              "size": 10,
              "solidity": 0.2
             }
            },
            "type": "histogram"
           }
          ],
          "histogram2d": [
           {
            "colorbar": {
             "outlinewidth": 0,
             "ticks": ""
            },
            "colorscale": [
             [
              0,
              "#0d0887"
             ],
             [
              0.1111111111111111,
              "#46039f"
             ],
             [
              0.2222222222222222,
              "#7201a8"
             ],
             [
              0.3333333333333333,
              "#9c179e"
             ],
             [
              0.4444444444444444,
              "#bd3786"
             ],
             [
              0.5555555555555556,
              "#d8576b"
             ],
             [
              0.6666666666666666,
              "#ed7953"
             ],
             [
              0.7777777777777778,
              "#fb9f3a"
             ],
             [
              0.8888888888888888,
              "#fdca26"
             ],
             [
              1,
              "#f0f921"
             ]
            ],
            "type": "histogram2d"
           }
          ],
          "histogram2dcontour": [
           {
            "colorbar": {
             "outlinewidth": 0,
             "ticks": ""
            },
            "colorscale": [
             [
              0,
              "#0d0887"
             ],
             [
              0.1111111111111111,
              "#46039f"
             ],
             [
              0.2222222222222222,
              "#7201a8"
             ],
             [
              0.3333333333333333,
              "#9c179e"
             ],
             [
              0.4444444444444444,
              "#bd3786"
             ],
             [
              0.5555555555555556,
              "#d8576b"
             ],
             [
              0.6666666666666666,
              "#ed7953"
             ],
             [
              0.7777777777777778,
              "#fb9f3a"
             ],
             [
              0.8888888888888888,
              "#fdca26"
             ],
             [
              1,
              "#f0f921"
             ]
            ],
            "type": "histogram2dcontour"
           }
          ],
          "mesh3d": [
           {
            "colorbar": {
             "outlinewidth": 0,
             "ticks": ""
            },
            "type": "mesh3d"
           }
          ],
          "parcoords": [
           {
            "line": {
             "colorbar": {
              "outlinewidth": 0,
              "ticks": ""
             }
            },
            "type": "parcoords"
           }
          ],
          "pie": [
           {
            "automargin": true,
            "type": "pie"
           }
          ],
          "scatter": [
           {
            "fillpattern": {
             "fillmode": "overlay",
             "size": 10,
             "solidity": 0.2
            },
            "type": "scatter"
           }
          ],
          "scatter3d": [
           {
            "line": {
             "colorbar": {
              "outlinewidth": 0,
              "ticks": ""
             }
            },
            "marker": {
             "colorbar": {
              "outlinewidth": 0,
              "ticks": ""
             }
            },
            "type": "scatter3d"
           }
          ],
          "scattercarpet": [
           {
            "marker": {
             "colorbar": {
              "outlinewidth": 0,
              "ticks": ""
             }
            },
            "type": "scattercarpet"
           }
          ],
          "scattergeo": [
           {
            "marker": {
             "colorbar": {
              "outlinewidth": 0,
              "ticks": ""
             }
            },
            "type": "scattergeo"
           }
          ],
          "scattergl": [
           {
            "marker": {
             "colorbar": {
              "outlinewidth": 0,
              "ticks": ""
             }
            },
            "type": "scattergl"
           }
          ],
          "scattermapbox": [
           {
            "marker": {
             "colorbar": {
              "outlinewidth": 0,
              "ticks": ""
             }
            },
            "type": "scattermapbox"
           }
          ],
          "scatterpolar": [
           {
            "marker": {
             "colorbar": {
              "outlinewidth": 0,
              "ticks": ""
             }
            },
            "type": "scatterpolar"
           }
          ],
          "scatterpolargl": [
           {
            "marker": {
             "colorbar": {
              "outlinewidth": 0,
              "ticks": ""
             }
            },
            "type": "scatterpolargl"
           }
          ],
          "scatterternary": [
           {
            "marker": {
             "colorbar": {
              "outlinewidth": 0,
              "ticks": ""
             }
            },
            "type": "scatterternary"
           }
          ],
          "surface": [
           {
            "colorbar": {
             "outlinewidth": 0,
             "ticks": ""
            },
            "colorscale": [
             [
              0,
              "#0d0887"
             ],
             [
              0.1111111111111111,
              "#46039f"
             ],
             [
              0.2222222222222222,
              "#7201a8"
             ],
             [
              0.3333333333333333,
              "#9c179e"
             ],
             [
              0.4444444444444444,
              "#bd3786"
             ],
             [
              0.5555555555555556,
              "#d8576b"
             ],
             [
              0.6666666666666666,
              "#ed7953"
             ],
             [
              0.7777777777777778,
              "#fb9f3a"
             ],
             [
              0.8888888888888888,
              "#fdca26"
             ],
             [
              1,
              "#f0f921"
             ]
            ],
            "type": "surface"
           }
          ],
          "table": [
           {
            "cells": {
             "fill": {
              "color": "#EBF0F8"
             },
             "line": {
              "color": "white"
             }
            },
            "header": {
             "fill": {
              "color": "#C8D4E3"
             },
             "line": {
              "color": "white"
             }
            },
            "type": "table"
           }
          ]
         },
         "layout": {
          "annotationdefaults": {
           "arrowcolor": "#2a3f5f",
           "arrowhead": 0,
           "arrowwidth": 1
          },
          "autotypenumbers": "strict",
          "coloraxis": {
           "colorbar": {
            "outlinewidth": 0,
            "ticks": ""
           }
          },
          "colorscale": {
           "diverging": [
            [
             0,
             "#8e0152"
            ],
            [
             0.1,
             "#c51b7d"
            ],
            [
             0.2,
             "#de77ae"
            ],
            [
             0.3,
             "#f1b6da"
            ],
            [
             0.4,
             "#fde0ef"
            ],
            [
             0.5,
             "#f7f7f7"
            ],
            [
             0.6,
             "#e6f5d0"
            ],
            [
             0.7,
             "#b8e186"
            ],
            [
             0.8,
             "#7fbc41"
            ],
            [
             0.9,
             "#4d9221"
            ],
            [
             1,
             "#276419"
            ]
           ],
           "sequential": [
            [
             0,
             "#0d0887"
            ],
            [
             0.1111111111111111,
             "#46039f"
            ],
            [
             0.2222222222222222,
             "#7201a8"
            ],
            [
             0.3333333333333333,
             "#9c179e"
            ],
            [
             0.4444444444444444,
             "#bd3786"
            ],
            [
             0.5555555555555556,
             "#d8576b"
            ],
            [
             0.6666666666666666,
             "#ed7953"
            ],
            [
             0.7777777777777778,
             "#fb9f3a"
            ],
            [
             0.8888888888888888,
             "#fdca26"
            ],
            [
             1,
             "#f0f921"
            ]
           ],
           "sequentialminus": [
            [
             0,
             "#0d0887"
            ],
            [
             0.1111111111111111,
             "#46039f"
            ],
            [
             0.2222222222222222,
             "#7201a8"
            ],
            [
             0.3333333333333333,
             "#9c179e"
            ],
            [
             0.4444444444444444,
             "#bd3786"
            ],
            [
             0.5555555555555556,
             "#d8576b"
            ],
            [
             0.6666666666666666,
             "#ed7953"
            ],
            [
             0.7777777777777778,
             "#fb9f3a"
            ],
            [
             0.8888888888888888,
             "#fdca26"
            ],
            [
             1,
             "#f0f921"
            ]
           ]
          },
          "colorway": [
           "#636efa",
           "#EF553B",
           "#00cc96",
           "#ab63fa",
           "#FFA15A",
           "#19d3f3",
           "#FF6692",
           "#B6E880",
           "#FF97FF",
           "#FECB52"
          ],
          "font": {
           "color": "#2a3f5f"
          },
          "geo": {
           "bgcolor": "white",
           "lakecolor": "white",
           "landcolor": "#E5ECF6",
           "showlakes": true,
           "showland": true,
           "subunitcolor": "white"
          },
          "hoverlabel": {
           "align": "left"
          },
          "hovermode": "closest",
          "mapbox": {
           "style": "light"
          },
          "paper_bgcolor": "white",
          "plot_bgcolor": "#E5ECF6",
          "polar": {
           "angularaxis": {
            "gridcolor": "white",
            "linecolor": "white",
            "ticks": ""
           },
           "bgcolor": "#E5ECF6",
           "radialaxis": {
            "gridcolor": "white",
            "linecolor": "white",
            "ticks": ""
           }
          },
          "scene": {
           "xaxis": {
            "backgroundcolor": "#E5ECF6",
            "gridcolor": "white",
            "gridwidth": 2,
            "linecolor": "white",
            "showbackground": true,
            "ticks": "",
            "zerolinecolor": "white"
           },
           "yaxis": {
            "backgroundcolor": "#E5ECF6",
            "gridcolor": "white",
            "gridwidth": 2,
            "linecolor": "white",
            "showbackground": true,
            "ticks": "",
            "zerolinecolor": "white"
           },
           "zaxis": {
            "backgroundcolor": "#E5ECF6",
            "gridcolor": "white",
            "gridwidth": 2,
            "linecolor": "white",
            "showbackground": true,
            "ticks": "",
            "zerolinecolor": "white"
           }
          },
          "shapedefaults": {
           "line": {
            "color": "#2a3f5f"
           }
          },
          "ternary": {
           "aaxis": {
            "gridcolor": "white",
            "linecolor": "white",
            "ticks": ""
           },
           "baxis": {
            "gridcolor": "white",
            "linecolor": "white",
            "ticks": ""
           },
           "bgcolor": "#E5ECF6",
           "caxis": {
            "gridcolor": "white",
            "linecolor": "white",
            "ticks": ""
           }
          },
          "title": {
           "x": 0.05
          },
          "xaxis": {
           "automargin": true,
           "gridcolor": "white",
           "linecolor": "white",
           "ticks": "",
           "title": {
            "standoff": 15
           },
           "zerolinecolor": "white",
           "zerolinewidth": 2
          },
          "yaxis": {
           "automargin": true,
           "gridcolor": "white",
           "linecolor": "white",
           "ticks": "",
           "title": {
            "standoff": 15
           },
           "zerolinecolor": "white",
           "zerolinewidth": 2
          }
         }
        },
        "title": {
         "text": "Real vs Predicted Mood Values for Participant 1"
        },
        "updatemenus": [
         {
          "active": 0,
          "buttons": [
           {
            "args": [
             {
              "visible": [
               true,
               true,
               false,
               false,
               false,
               false,
               false,
               false,
               false,
               false,
               false,
               false,
               false,
               false,
               false,
               false,
               false,
               false,
               false,
               false,
               false,
               false,
               false,
               false,
               false,
               false,
               false,
               false,
               false,
               false,
               false,
               false,
               false,
               false,
               false,
               false,
               false,
               false,
               false,
               false,
               false,
               false,
               false,
               false
              ]
             },
             {
              "title": "Real vs Predicted Mood Values for Participant 1",
              "xaxis": {
               "title": "Day"
              },
              "yaxis": {
               "title": "Mood Value"
              }
             }
            ],
            "label": "1",
            "method": "update"
           },
           {
            "args": [
             {
              "visible": [
               false,
               false,
               true,
               true,
               false,
               false,
               false,
               false,
               false,
               false,
               false,
               false,
               false,
               false,
               false,
               false,
               false,
               false,
               false,
               false,
               false,
               false,
               false,
               false,
               false,
               false,
               false,
               false,
               false,
               false,
               false,
               false,
               false,
               false,
               false,
               false,
               false,
               false,
               false,
               false,
               false,
               false,
               false,
               false
              ]
             },
             {
              "title": "Real vs Predicted Mood Values for Participant 2",
              "xaxis": {
               "title": "Day"
              },
              "yaxis": {
               "title": "Mood Value"
              }
             }
            ],
            "label": "2",
            "method": "update"
           },
           {
            "args": [
             {
              "visible": [
               false,
               false,
               false,
               false,
               true,
               true,
               false,
               false,
               false,
               false,
               false,
               false,
               false,
               false,
               false,
               false,
               false,
               false,
               false,
               false,
               false,
               false,
               false,
               false,
               false,
               false,
               false,
               false,
               false,
               false,
               false,
               false,
               false,
               false,
               false,
               false,
               false,
               false,
               false,
               false,
               false,
               false,
               false,
               false
              ]
             },
             {
              "title": "Real vs Predicted Mood Values for Participant 3",
              "xaxis": {
               "title": "Day"
              },
              "yaxis": {
               "title": "Mood Value"
              }
             }
            ],
            "label": "3",
            "method": "update"
           },
           {
            "args": [
             {
              "visible": [
               false,
               false,
               false,
               false,
               false,
               false,
               true,
               true,
               false,
               false,
               false,
               false,
               false,
               false,
               false,
               false,
               false,
               false,
               false,
               false,
               false,
               false,
               false,
               false,
               false,
               false,
               false,
               false,
               false,
               false,
               false,
               false,
               false,
               false,
               false,
               false,
               false,
               false,
               false,
               false,
               false,
               false,
               false,
               false
              ]
             },
             {
              "title": "Real vs Predicted Mood Values for Participant 5",
              "xaxis": {
               "title": "Day"
              },
              "yaxis": {
               "title": "Mood Value"
              }
             }
            ],
            "label": "5",
            "method": "update"
           },
           {
            "args": [
             {
              "visible": [
               false,
               false,
               false,
               false,
               false,
               false,
               false,
               false,
               true,
               true,
               false,
               false,
               false,
               false,
               false,
               false,
               false,
               false,
               false,
               false,
               false,
               false,
               false,
               false,
               false,
               false,
               false,
               false,
               false,
               false,
               false,
               false,
               false,
               false,
               false,
               false,
               false,
               false,
               false,
               false,
               false,
               false,
               false,
               false
              ]
             },
             {
              "title": "Real vs Predicted Mood Values for Participant 6",
              "xaxis": {
               "title": "Day"
              },
              "yaxis": {
               "title": "Mood Value"
              }
             }
            ],
            "label": "6",
            "method": "update"
           },
           {
            "args": [
             {
              "visible": [
               false,
               false,
               false,
               false,
               false,
               false,
               false,
               false,
               false,
               false,
               true,
               true,
               false,
               false,
               false,
               false,
               false,
               false,
               false,
               false,
               false,
               false,
               false,
               false,
               false,
               false,
               false,
               false,
               false,
               false,
               false,
               false,
               false,
               false,
               false,
               false,
               false,
               false,
               false,
               false,
               false,
               false,
               false,
               false
              ]
             },
             {
              "title": "Real vs Predicted Mood Values for Participant 7",
              "xaxis": {
               "title": "Day"
              },
              "yaxis": {
               "title": "Mood Value"
              }
             }
            ],
            "label": "7",
            "method": "update"
           },
           {
            "args": [
             {
              "visible": [
               false,
               false,
               false,
               false,
               false,
               false,
               false,
               false,
               false,
               false,
               false,
               false,
               true,
               true,
               false,
               false,
               false,
               false,
               false,
               false,
               false,
               false,
               false,
               false,
               false,
               false,
               false,
               false,
               false,
               false,
               false,
               false,
               false,
               false,
               false,
               false,
               false,
               false,
               false,
               false,
               false,
               false,
               false,
               false
              ]
             },
             {
              "title": "Real vs Predicted Mood Values for Participant 8",
              "xaxis": {
               "title": "Day"
              },
              "yaxis": {
               "title": "Mood Value"
              }
             }
            ],
            "label": "8",
            "method": "update"
           },
           {
            "args": [
             {
              "visible": [
               false,
               false,
               false,
               false,
               false,
               false,
               false,
               false,
               false,
               false,
               false,
               false,
               false,
               false,
               true,
               true,
               false,
               false,
               false,
               false,
               false,
               false,
               false,
               false,
               false,
               false,
               false,
               false,
               false,
               false,
               false,
               false,
               false,
               false,
               false,
               false,
               false,
               false,
               false,
               false,
               false,
               false,
               false,
               false
              ]
             },
             {
              "title": "Real vs Predicted Mood Values for Participant 9",
              "xaxis": {
               "title": "Day"
              },
              "yaxis": {
               "title": "Mood Value"
              }
             }
            ],
            "label": "9",
            "method": "update"
           },
           {
            "args": [
             {
              "visible": [
               false,
               false,
               false,
               false,
               false,
               false,
               false,
               false,
               false,
               false,
               false,
               false,
               false,
               false,
               false,
               false,
               true,
               true,
               false,
               false,
               false,
               false,
               false,
               false,
               false,
               false,
               false,
               false,
               false,
               false,
               false,
               false,
               false,
               false,
               false,
               false,
               false,
               false,
               false,
               false,
               false,
               false,
               false,
               false
              ]
             },
             {
              "title": "Real vs Predicted Mood Values for Participant 12",
              "xaxis": {
               "title": "Day"
              },
              "yaxis": {
               "title": "Mood Value"
              }
             }
            ],
            "label": "12",
            "method": "update"
           },
           {
            "args": [
             {
              "visible": [
               false,
               false,
               false,
               false,
               false,
               false,
               false,
               false,
               false,
               false,
               false,
               false,
               false,
               false,
               false,
               false,
               false,
               false,
               true,
               true,
               false,
               false,
               false,
               false,
               false,
               false,
               false,
               false,
               false,
               false,
               false,
               false,
               false,
               false,
               false,
               false,
               false,
               false,
               false,
               false,
               false,
               false,
               false,
               false
              ]
             },
             {
              "title": "Real vs Predicted Mood Values for Participant 13",
              "xaxis": {
               "title": "Day"
              },
              "yaxis": {
               "title": "Mood Value"
              }
             }
            ],
            "label": "13",
            "method": "update"
           },
           {
            "args": [
             {
              "visible": [
               false,
               false,
               false,
               false,
               false,
               false,
               false,
               false,
               false,
               false,
               false,
               false,
               false,
               false,
               false,
               false,
               false,
               false,
               false,
               false,
               true,
               true,
               false,
               false,
               false,
               false,
               false,
               false,
               false,
               false,
               false,
               false,
               false,
               false,
               false,
               false,
               false,
               false,
               false,
               false,
               false,
               false,
               false,
               false
              ]
             },
             {
              "title": "Real vs Predicted Mood Values for Participant 14",
              "xaxis": {
               "title": "Day"
              },
              "yaxis": {
               "title": "Mood Value"
              }
             }
            ],
            "label": "14",
            "method": "update"
           },
           {
            "args": [
             {
              "visible": [
               false,
               false,
               false,
               false,
               false,
               false,
               false,
               false,
               false,
               false,
               false,
               false,
               false,
               false,
               false,
               false,
               false,
               false,
               false,
               false,
               false,
               false,
               true,
               true,
               false,
               false,
               false,
               false,
               false,
               false,
               false,
               false,
               false,
               false,
               false,
               false,
               false,
               false,
               false,
               false,
               false,
               false,
               false,
               false
              ]
             },
             {
              "title": "Real vs Predicted Mood Values for Participant 15",
              "xaxis": {
               "title": "Day"
              },
              "yaxis": {
               "title": "Mood Value"
              }
             }
            ],
            "label": "15",
            "method": "update"
           },
           {
            "args": [
             {
              "visible": [
               false,
               false,
               false,
               false,
               false,
               false,
               false,
               false,
               false,
               false,
               false,
               false,
               false,
               false,
               false,
               false,
               false,
               false,
               false,
               false,
               false,
               false,
               false,
               false,
               true,
               true,
               false,
               false,
               false,
               false,
               false,
               false,
               false,
               false,
               false,
               false,
               false,
               false,
               false,
               false,
               false,
               false,
               false,
               false
              ]
             },
             {
              "title": "Real vs Predicted Mood Values for Participant 16",
              "xaxis": {
               "title": "Day"
              },
              "yaxis": {
               "title": "Mood Value"
              }
             }
            ],
            "label": "16",
            "method": "update"
           },
           {
            "args": [
             {
              "visible": [
               false,
               false,
               false,
               false,
               false,
               false,
               false,
               false,
               false,
               false,
               false,
               false,
               false,
               false,
               false,
               false,
               false,
               false,
               false,
               false,
               false,
               false,
               false,
               false,
               false,
               false,
               true,
               true,
               false,
               false,
               false,
               false,
               false,
               false,
               false,
               false,
               false,
               false,
               false,
               false,
               false,
               false,
               false,
               false
              ]
             },
             {
              "title": "Real vs Predicted Mood Values for Participant 17",
              "xaxis": {
               "title": "Day"
              },
              "yaxis": {
               "title": "Mood Value"
              }
             }
            ],
            "label": "17",
            "method": "update"
           },
           {
            "args": [
             {
              "visible": [
               false,
               false,
               false,
               false,
               false,
               false,
               false,
               false,
               false,
               false,
               false,
               false,
               false,
               false,
               false,
               false,
               false,
               false,
               false,
               false,
               false,
               false,
               false,
               false,
               false,
               false,
               false,
               false,
               true,
               true,
               false,
               false,
               false,
               false,
               false,
               false,
               false,
               false,
               false,
               false,
               false,
               false,
               false,
               false
              ]
             },
             {
              "title": "Real vs Predicted Mood Values for Participant 19",
              "xaxis": {
               "title": "Day"
              },
              "yaxis": {
               "title": "Mood Value"
              }
             }
            ],
            "label": "19",
            "method": "update"
           },
           {
            "args": [
             {
              "visible": [
               false,
               false,
               false,
               false,
               false,
               false,
               false,
               false,
               false,
               false,
               false,
               false,
               false,
               false,
               false,
               false,
               false,
               false,
               false,
               false,
               false,
               false,
               false,
               false,
               false,
               false,
               false,
               false,
               false,
               false,
               true,
               true,
               false,
               false,
               false,
               false,
               false,
               false,
               false,
               false,
               false,
               false,
               false,
               false
              ]
             },
             {
              "title": "Real vs Predicted Mood Values for Participant 20",
              "xaxis": {
               "title": "Day"
              },
              "yaxis": {
               "title": "Mood Value"
              }
             }
            ],
            "label": "20",
            "method": "update"
           },
           {
            "args": [
             {
              "visible": [
               false,
               false,
               false,
               false,
               false,
               false,
               false,
               false,
               false,
               false,
               false,
               false,
               false,
               false,
               false,
               false,
               false,
               false,
               false,
               false,
               false,
               false,
               false,
               false,
               false,
               false,
               false,
               false,
               false,
               false,
               false,
               false,
               true,
               true,
               false,
               false,
               false,
               false,
               false,
               false,
               false,
               false,
               false,
               false
              ]
             },
             {
              "title": "Real vs Predicted Mood Values for Participant 23",
              "xaxis": {
               "title": "Day"
              },
              "yaxis": {
               "title": "Mood Value"
              }
             }
            ],
            "label": "23",
            "method": "update"
           },
           {
            "args": [
             {
              "visible": [
               false,
               false,
               false,
               false,
               false,
               false,
               false,
               false,
               false,
               false,
               false,
               false,
               false,
               false,
               false,
               false,
               false,
               false,
               false,
               false,
               false,
               false,
               false,
               false,
               false,
               false,
               false,
               false,
               false,
               false,
               false,
               false,
               false,
               false,
               true,
               true,
               false,
               false,
               false,
               false,
               false,
               false,
               false,
               false
              ]
             },
             {
              "title": "Real vs Predicted Mood Values for Participant 24",
              "xaxis": {
               "title": "Day"
              },
              "yaxis": {
               "title": "Mood Value"
              }
             }
            ],
            "label": "24",
            "method": "update"
           },
           {
            "args": [
             {
              "visible": [
               false,
               false,
               false,
               false,
               false,
               false,
               false,
               false,
               false,
               false,
               false,
               false,
               false,
               false,
               false,
               false,
               false,
               false,
               false,
               false,
               false,
               false,
               false,
               false,
               false,
               false,
               false,
               false,
               false,
               false,
               false,
               false,
               false,
               false,
               false,
               false,
               true,
               true,
               false,
               false,
               false,
               false,
               false,
               false
              ]
             },
             {
              "title": "Real vs Predicted Mood Values for Participant 25",
              "xaxis": {
               "title": "Day"
              },
              "yaxis": {
               "title": "Mood Value"
              }
             }
            ],
            "label": "25",
            "method": "update"
           },
           {
            "args": [
             {
              "visible": [
               false,
               false,
               false,
               false,
               false,
               false,
               false,
               false,
               false,
               false,
               false,
               false,
               false,
               false,
               false,
               false,
               false,
               false,
               false,
               false,
               false,
               false,
               false,
               false,
               false,
               false,
               false,
               false,
               false,
               false,
               false,
               false,
               false,
               false,
               false,
               false,
               false,
               false,
               true,
               true,
               false,
               false,
               false,
               false
              ]
             },
             {
              "title": "Real vs Predicted Mood Values for Participant 26",
              "xaxis": {
               "title": "Day"
              },
              "yaxis": {
               "title": "Mood Value"
              }
             }
            ],
            "label": "26",
            "method": "update"
           },
           {
            "args": [
             {
              "visible": [
               false,
               false,
               false,
               false,
               false,
               false,
               false,
               false,
               false,
               false,
               false,
               false,
               false,
               false,
               false,
               false,
               false,
               false,
               false,
               false,
               false,
               false,
               false,
               false,
               false,
               false,
               false,
               false,
               false,
               false,
               false,
               false,
               false,
               false,
               false,
               false,
               false,
               false,
               false,
               false,
               true,
               true,
               false,
               false
              ]
             },
             {
              "title": "Real vs Predicted Mood Values for Participant 27",
              "xaxis": {
               "title": "Day"
              },
              "yaxis": {
               "title": "Mood Value"
              }
             }
            ],
            "label": "27",
            "method": "update"
           },
           {
            "args": [
             {
              "visible": [
               false,
               false,
               false,
               false,
               false,
               false,
               false,
               false,
               false,
               false,
               false,
               false,
               false,
               false,
               false,
               false,
               false,
               false,
               false,
               false,
               false,
               false,
               false,
               false,
               false,
               false,
               false,
               false,
               false,
               false,
               false,
               false,
               false,
               false,
               false,
               false,
               false,
               false,
               false,
               false,
               false,
               false,
               true,
               true
              ]
             },
             {
              "title": "Real vs Predicted Mood Values for Participant 28",
              "xaxis": {
               "title": "Day"
              },
              "yaxis": {
               "title": "Mood Value"
              }
             }
            ],
            "label": "28",
            "method": "update"
           }
          ],
          "showactive": true,
          "x": 1.1,
          "y": 1
         }
        ],
        "xaxis": {
         "title": {
          "text": "Day"
         }
        },
        "yaxis": {
         "title": {
          "text": "Mood Value"
         }
        }
       }
      }
     },
     "metadata": {},
     "output_type": "display_data"
    },
    {
     "data": {
      "application/vnd.plotly.v1+json": {
       "config": {
        "plotlyServerURL": "https://plot.ly"
       },
       "data": [
        {
         "mode": "lines",
         "name": "Real (1)",
         "type": "scatter",
         "visible": true,
         "x": [
          "2014-05-04"
         ],
         "y": [
          8
         ]
        },
        {
         "mode": "lines",
         "name": "Predicted (1)",
         "type": "scatter",
         "visible": true,
         "x": [
          "2014-05-04"
         ],
         "y": [
          7.445338726043701
         ]
        },
        {
         "mode": "lines",
         "name": "Real (2)",
         "type": "scatter",
         "visible": false,
         "x": [
          "2014-04-17",
          "2014-04-18",
          "2014-04-19",
          "2014-04-20",
          "2014-04-21",
          "2014-04-22",
          "2014-04-23",
          "2014-04-24",
          "2014-04-25"
         ],
         "y": [
          6.5,
          9,
          7.000000476837158,
          7.458333492279053,
          7.6666669845581055,
          7.200000286102295,
          6.75,
          7.000000476837158,
          6.3333330154418945
         ]
        },
        {
         "mode": "lines",
         "name": "Predicted (2)",
         "type": "scatter",
         "visible": false,
         "x": [
          "2014-04-17",
          "2014-04-18",
          "2014-04-19",
          "2014-04-20",
          "2014-04-21",
          "2014-04-22",
          "2014-04-23",
          "2014-04-24",
          "2014-04-25"
         ],
         "y": [
          7.464138031005859,
          6.959201812744141,
          7.080531120300293,
          7.40380334854126,
          7.402857780456543,
          7.446468830108643,
          7.261496067047119,
          7.281820297241211,
          7.380681991577148
         ]
        },
        {
         "mode": "lines",
         "name": "Real (3)",
         "type": "scatter",
         "visible": false,
         "x": [
          "2014-04-28",
          "2014-04-29",
          "2014-04-30",
          "2014-05-01",
          "2014-05-02",
          "2014-05-03",
          "2014-05-04",
          "2014-05-05",
          "2014-05-06",
          "2014-05-07"
         ],
         "y": [
          7.25,
          6.75,
          7.000000476837158,
          5.400000095367432,
          8,
          5.5,
          5.600000381469727,
          7.000000476837158,
          7.200000286102295,
          7.400000095367432
         ]
        },
        {
         "mode": "lines",
         "name": "Predicted (3)",
         "type": "scatter",
         "visible": false,
         "x": [
          "2014-04-28",
          "2014-04-29",
          "2014-04-30",
          "2014-05-01",
          "2014-05-02",
          "2014-05-03",
          "2014-05-04",
          "2014-05-05",
          "2014-05-06",
          "2014-05-07"
         ],
         "y": [
          7.308924198150635,
          7.257426738739014,
          7.247560977935791,
          7.228874206542969,
          7.1255879402160645,
          7.220896244049072,
          7.148251056671143,
          7.306197166442871,
          7.385384559631348,
          7.416363716125488
         ]
        },
        {
         "mode": "lines",
         "name": "Real (5)",
         "type": "scatter",
         "visible": false,
         "x": [
          "2014-04-25",
          "2014-04-26",
          "2014-04-27",
          "2014-04-28",
          "2014-04-29",
          "2014-04-30",
          "2014-05-01",
          "2014-05-02",
          "2014-05-03",
          "2014-05-04",
          "2014-05-05"
         ],
         "y": [
          6.800000190734863,
          6.6666669845581055,
          8,
          6.599999904632568,
          6,
          6.599999904632568,
          7.6666669845581055,
          8,
          7.25,
          8,
          8
         ]
        },
        {
         "mode": "lines",
         "name": "Predicted (5)",
         "type": "scatter",
         "visible": false,
         "x": [
          "2014-04-25",
          "2014-04-26",
          "2014-04-27",
          "2014-04-28",
          "2014-04-29",
          "2014-04-30",
          "2014-05-01",
          "2014-05-02",
          "2014-05-03",
          "2014-05-04",
          "2014-05-05"
         ],
         "y": [
          7.46828031539917,
          7.433811664581299,
          7.310486316680908,
          7.333723545074463,
          7.372827529907227,
          7.313956260681152,
          7.335708141326904,
          7.6090874671936035,
          7.523332118988037,
          7.5191969871521,
          7.517248630523682
         ]
        },
        {
         "mode": "lines",
         "name": "Real (6)",
         "type": "scatter",
         "visible": false,
         "x": [
          "2014-04-29",
          "2014-04-30",
          "2014-05-01",
          "2014-05-02",
          "2014-05-03",
          "2014-05-04",
          "2014-05-05",
          "2014-05-06",
          "2014-05-07",
          "2014-05-08"
         ],
         "y": [
          6.800000190734863,
          7.000000476837158,
          7.000000476837158,
          7.000000476837158,
          7.000000476837158,
          7.000000476837158,
          7.000000476837158,
          7.200000286102295,
          7.5,
          7.000000476837158
         ]
        },
        {
         "mode": "lines",
         "name": "Predicted (6)",
         "type": "scatter",
         "visible": false,
         "x": [
          "2014-04-29",
          "2014-04-30",
          "2014-05-01",
          "2014-05-02",
          "2014-05-03",
          "2014-05-04",
          "2014-05-05",
          "2014-05-06",
          "2014-05-07",
          "2014-05-08"
         ],
         "y": [
          7.518821716308594,
          7.466914653778076,
          7.46432638168335,
          7.4669694900512695,
          7.563831806182861,
          7.591601371765137,
          7.494312763214111,
          7.55714225769043,
          7.705573558807373,
          7.664381980895996
         ]
        },
        {
         "mode": "lines",
         "name": "Real (7)",
         "type": "scatter",
         "visible": false,
         "x": [
          "2014-04-26",
          "2014-04-27",
          "2014-04-28",
          "2014-04-29",
          "2014-04-30",
          "2014-05-01",
          "2014-05-02",
          "2014-05-03",
          "2014-05-04",
          "2014-05-05"
         ],
         "y": [
          7.333333492279053,
          7.25,
          8,
          7.000000476837158,
          7.25,
          7.375,
          7.5,
          7.75,
          6.599999904632568,
          7.000000476837158
         ]
        },
        {
         "mode": "lines",
         "name": "Predicted (7)",
         "type": "scatter",
         "visible": false,
         "x": [
          "2014-04-26",
          "2014-04-27",
          "2014-04-28",
          "2014-04-29",
          "2014-04-30",
          "2014-05-01",
          "2014-05-02",
          "2014-05-03",
          "2014-05-04",
          "2014-05-05"
         ],
         "y": [
          7.599252700805664,
          7.668654441833496,
          7.7581586837768555,
          7.820948600769043,
          7.808905601501465,
          7.728233337402344,
          7.632969856262207,
          7.719199180603027,
          7.74479341506958,
          7.663904190063477
         ]
        },
        {
         "mode": "lines",
         "name": "Real (8)",
         "type": "scatter",
         "visible": false,
         "x": [
          "2014-04-23",
          "2014-04-24",
          "2014-04-25",
          "2014-04-26",
          "2014-04-27",
          "2014-04-28",
          "2014-04-29",
          "2014-04-30",
          "2014-05-01",
          "2014-05-02",
          "2014-05-03",
          "2014-05-04",
          "2014-05-05"
         ],
         "y": [
          7.000000476837158,
          7.333333492279053,
          7.000000476837158,
          7.000000476837158,
          6.599999904632568,
          7.000000476837158,
          7.5,
          8,
          6.5,
          6.5,
          8,
          7.200000286102295,
          5.799999713897705
         ]
        },
        {
         "mode": "lines",
         "name": "Predicted (8)",
         "type": "scatter",
         "visible": false,
         "x": [
          "2014-04-23",
          "2014-04-24",
          "2014-04-25",
          "2014-04-26",
          "2014-04-27",
          "2014-04-28",
          "2014-04-29",
          "2014-04-30",
          "2014-05-01",
          "2014-05-02",
          "2014-05-03",
          "2014-05-04",
          "2014-05-05"
         ],
         "y": [
          7.633103847503662,
          7.610995292663574,
          7.65755558013916,
          7.591999530792236,
          7.883243083953857,
          7.81781530380249,
          7.807111740112305,
          7.8108930587768555,
          7.750640869140625,
          7.6481828689575195,
          7.768455505371094,
          7.750590801239014,
          7.818129062652588
         ]
        },
        {
         "mode": "lines",
         "name": "Real (9)",
         "type": "scatter",
         "visible": false,
         "x": [
          "2014-04-26",
          "2014-04-27",
          "2014-04-28",
          "2014-04-29",
          "2014-04-30",
          "2014-05-01",
          "2014-05-02",
          "2014-05-03",
          "2014-05-04",
          "2014-05-05"
         ],
         "y": [
          5.400000095367432,
          7.400000095367432,
          6.400000095367432,
          7.800000190734863,
          7.000000476837158,
          6.400000095367432,
          7.800000190734863,
          6,
          7.800000190734863,
          7.800000190734863
         ]
        },
        {
         "mode": "lines",
         "name": "Predicted (9)",
         "type": "scatter",
         "visible": false,
         "x": [
          "2014-04-26",
          "2014-04-27",
          "2014-04-28",
          "2014-04-29",
          "2014-04-30",
          "2014-05-01",
          "2014-05-02",
          "2014-05-03",
          "2014-05-04",
          "2014-05-05"
         ],
         "y": [
          7.669992923736572,
          7.754054069519043,
          7.701114654541016,
          7.641216278076172,
          7.747189044952393,
          7.800286769866943,
          7.665713310241699,
          7.707192897796631,
          7.610584259033203,
          7.82731819152832
         ]
        },
        {
         "mode": "lines",
         "name": "Real (12)",
         "type": "scatter",
         "visible": false,
         "x": [
          "2014-04-28",
          "2014-04-29",
          "2014-04-30",
          "2014-05-01",
          "2014-05-02",
          "2014-05-03",
          "2014-05-04",
          "2014-05-05"
         ],
         "y": [
          8,
          6.75,
          7.000000476837158,
          8.666666984558105,
          7.200000286102295,
          5.75,
          6.800000190734863,
          7.000000476837158
         ]
        },
        {
         "mode": "lines",
         "name": "Predicted (12)",
         "type": "scatter",
         "visible": false,
         "x": [
          "2014-04-28",
          "2014-04-29",
          "2014-04-30",
          "2014-05-01",
          "2014-05-02",
          "2014-05-03",
          "2014-05-04",
          "2014-05-05"
         ],
         "y": [
          7.7977471351623535,
          7.795894622802734,
          7.8556694984436035,
          7.83241605758667,
          7.695821762084961,
          7.69313383102417,
          7.600401401519775,
          7.575657367706299
         ]
        }
       ],
       "layout": {
        "template": {
         "data": {
          "bar": [
           {
            "error_x": {
             "color": "#2a3f5f"
            },
            "error_y": {
             "color": "#2a3f5f"
            },
            "marker": {
             "line": {
              "color": "#E5ECF6",
              "width": 0.5
             },
             "pattern": {
              "fillmode": "overlay",
              "size": 10,
              "solidity": 0.2
             }
            },
            "type": "bar"
           }
          ],
          "barpolar": [
           {
            "marker": {
             "line": {
              "color": "#E5ECF6",
              "width": 0.5
             },
             "pattern": {
              "fillmode": "overlay",
              "size": 10,
              "solidity": 0.2
             }
            },
            "type": "barpolar"
           }
          ],
          "carpet": [
           {
            "aaxis": {
             "endlinecolor": "#2a3f5f",
             "gridcolor": "white",
             "linecolor": "white",
             "minorgridcolor": "white",
             "startlinecolor": "#2a3f5f"
            },
            "baxis": {
             "endlinecolor": "#2a3f5f",
             "gridcolor": "white",
             "linecolor": "white",
             "minorgridcolor": "white",
             "startlinecolor": "#2a3f5f"
            },
            "type": "carpet"
           }
          ],
          "choropleth": [
           {
            "colorbar": {
             "outlinewidth": 0,
             "ticks": ""
            },
            "type": "choropleth"
           }
          ],
          "contour": [
           {
            "colorbar": {
             "outlinewidth": 0,
             "ticks": ""
            },
            "colorscale": [
             [
              0,
              "#0d0887"
             ],
             [
              0.1111111111111111,
              "#46039f"
             ],
             [
              0.2222222222222222,
              "#7201a8"
             ],
             [
              0.3333333333333333,
              "#9c179e"
             ],
             [
              0.4444444444444444,
              "#bd3786"
             ],
             [
              0.5555555555555556,
              "#d8576b"
             ],
             [
              0.6666666666666666,
              "#ed7953"
             ],
             [
              0.7777777777777778,
              "#fb9f3a"
             ],
             [
              0.8888888888888888,
              "#fdca26"
             ],
             [
              1,
              "#f0f921"
             ]
            ],
            "type": "contour"
           }
          ],
          "contourcarpet": [
           {
            "colorbar": {
             "outlinewidth": 0,
             "ticks": ""
            },
            "type": "contourcarpet"
           }
          ],
          "heatmap": [
           {
            "colorbar": {
             "outlinewidth": 0,
             "ticks": ""
            },
            "colorscale": [
             [
              0,
              "#0d0887"
             ],
             [
              0.1111111111111111,
              "#46039f"
             ],
             [
              0.2222222222222222,
              "#7201a8"
             ],
             [
              0.3333333333333333,
              "#9c179e"
             ],
             [
              0.4444444444444444,
              "#bd3786"
             ],
             [
              0.5555555555555556,
              "#d8576b"
             ],
             [
              0.6666666666666666,
              "#ed7953"
             ],
             [
              0.7777777777777778,
              "#fb9f3a"
             ],
             [
              0.8888888888888888,
              "#fdca26"
             ],
             [
              1,
              "#f0f921"
             ]
            ],
            "type": "heatmap"
           }
          ],
          "heatmapgl": [
           {
            "colorbar": {
             "outlinewidth": 0,
             "ticks": ""
            },
            "colorscale": [
             [
              0,
              "#0d0887"
             ],
             [
              0.1111111111111111,
              "#46039f"
             ],
             [
              0.2222222222222222,
              "#7201a8"
             ],
             [
              0.3333333333333333,
              "#9c179e"
             ],
             [
              0.4444444444444444,
              "#bd3786"
             ],
             [
              0.5555555555555556,
              "#d8576b"
             ],
             [
              0.6666666666666666,
              "#ed7953"
             ],
             [
              0.7777777777777778,
              "#fb9f3a"
             ],
             [
              0.8888888888888888,
              "#fdca26"
             ],
             [
              1,
              "#f0f921"
             ]
            ],
            "type": "heatmapgl"
           }
          ],
          "histogram": [
           {
            "marker": {
             "pattern": {
              "fillmode": "overlay",
              "size": 10,
              "solidity": 0.2
             }
            },
            "type": "histogram"
           }
          ],
          "histogram2d": [
           {
            "colorbar": {
             "outlinewidth": 0,
             "ticks": ""
            },
            "colorscale": [
             [
              0,
              "#0d0887"
             ],
             [
              0.1111111111111111,
              "#46039f"
             ],
             [
              0.2222222222222222,
              "#7201a8"
             ],
             [
              0.3333333333333333,
              "#9c179e"
             ],
             [
              0.4444444444444444,
              "#bd3786"
             ],
             [
              0.5555555555555556,
              "#d8576b"
             ],
             [
              0.6666666666666666,
              "#ed7953"
             ],
             [
              0.7777777777777778,
              "#fb9f3a"
             ],
             [
              0.8888888888888888,
              "#fdca26"
             ],
             [
              1,
              "#f0f921"
             ]
            ],
            "type": "histogram2d"
           }
          ],
          "histogram2dcontour": [
           {
            "colorbar": {
             "outlinewidth": 0,
             "ticks": ""
            },
            "colorscale": [
             [
              0,
              "#0d0887"
             ],
             [
              0.1111111111111111,
              "#46039f"
             ],
             [
              0.2222222222222222,
              "#7201a8"
             ],
             [
              0.3333333333333333,
              "#9c179e"
             ],
             [
              0.4444444444444444,
              "#bd3786"
             ],
             [
              0.5555555555555556,
              "#d8576b"
             ],
             [
              0.6666666666666666,
              "#ed7953"
             ],
             [
              0.7777777777777778,
              "#fb9f3a"
             ],
             [
              0.8888888888888888,
              "#fdca26"
             ],
             [
              1,
              "#f0f921"
             ]
            ],
            "type": "histogram2dcontour"
           }
          ],
          "mesh3d": [
           {
            "colorbar": {
             "outlinewidth": 0,
             "ticks": ""
            },
            "type": "mesh3d"
           }
          ],
          "parcoords": [
           {
            "line": {
             "colorbar": {
              "outlinewidth": 0,
              "ticks": ""
             }
            },
            "type": "parcoords"
           }
          ],
          "pie": [
           {
            "automargin": true,
            "type": "pie"
           }
          ],
          "scatter": [
           {
            "fillpattern": {
             "fillmode": "overlay",
             "size": 10,
             "solidity": 0.2
            },
            "type": "scatter"
           }
          ],
          "scatter3d": [
           {
            "line": {
             "colorbar": {
              "outlinewidth": 0,
              "ticks": ""
             }
            },
            "marker": {
             "colorbar": {
              "outlinewidth": 0,
              "ticks": ""
             }
            },
            "type": "scatter3d"
           }
          ],
          "scattercarpet": [
           {
            "marker": {
             "colorbar": {
              "outlinewidth": 0,
              "ticks": ""
             }
            },
            "type": "scattercarpet"
           }
          ],
          "scattergeo": [
           {
            "marker": {
             "colorbar": {
              "outlinewidth": 0,
              "ticks": ""
             }
            },
            "type": "scattergeo"
           }
          ],
          "scattergl": [
           {
            "marker": {
             "colorbar": {
              "outlinewidth": 0,
              "ticks": ""
             }
            },
            "type": "scattergl"
           }
          ],
          "scattermapbox": [
           {
            "marker": {
             "colorbar": {
              "outlinewidth": 0,
              "ticks": ""
             }
            },
            "type": "scattermapbox"
           }
          ],
          "scatterpolar": [
           {
            "marker": {
             "colorbar": {
              "outlinewidth": 0,
              "ticks": ""
             }
            },
            "type": "scatterpolar"
           }
          ],
          "scatterpolargl": [
           {
            "marker": {
             "colorbar": {
              "outlinewidth": 0,
              "ticks": ""
             }
            },
            "type": "scatterpolargl"
           }
          ],
          "scatterternary": [
           {
            "marker": {
             "colorbar": {
              "outlinewidth": 0,
              "ticks": ""
             }
            },
            "type": "scatterternary"
           }
          ],
          "surface": [
           {
            "colorbar": {
             "outlinewidth": 0,
             "ticks": ""
            },
            "colorscale": [
             [
              0,
              "#0d0887"
             ],
             [
              0.1111111111111111,
              "#46039f"
             ],
             [
              0.2222222222222222,
              "#7201a8"
             ],
             [
              0.3333333333333333,
              "#9c179e"
             ],
             [
              0.4444444444444444,
              "#bd3786"
             ],
             [
              0.5555555555555556,
              "#d8576b"
             ],
             [
              0.6666666666666666,
              "#ed7953"
             ],
             [
              0.7777777777777778,
              "#fb9f3a"
             ],
             [
              0.8888888888888888,
              "#fdca26"
             ],
             [
              1,
              "#f0f921"
             ]
            ],
            "type": "surface"
           }
          ],
          "table": [
           {
            "cells": {
             "fill": {
              "color": "#EBF0F8"
             },
             "line": {
              "color": "white"
             }
            },
            "header": {
             "fill": {
              "color": "#C8D4E3"
             },
             "line": {
              "color": "white"
             }
            },
            "type": "table"
           }
          ]
         },
         "layout": {
          "annotationdefaults": {
           "arrowcolor": "#2a3f5f",
           "arrowhead": 0,
           "arrowwidth": 1
          },
          "autotypenumbers": "strict",
          "coloraxis": {
           "colorbar": {
            "outlinewidth": 0,
            "ticks": ""
           }
          },
          "colorscale": {
           "diverging": [
            [
             0,
             "#8e0152"
            ],
            [
             0.1,
             "#c51b7d"
            ],
            [
             0.2,
             "#de77ae"
            ],
            [
             0.3,
             "#f1b6da"
            ],
            [
             0.4,
             "#fde0ef"
            ],
            [
             0.5,
             "#f7f7f7"
            ],
            [
             0.6,
             "#e6f5d0"
            ],
            [
             0.7,
             "#b8e186"
            ],
            [
             0.8,
             "#7fbc41"
            ],
            [
             0.9,
             "#4d9221"
            ],
            [
             1,
             "#276419"
            ]
           ],
           "sequential": [
            [
             0,
             "#0d0887"
            ],
            [
             0.1111111111111111,
             "#46039f"
            ],
            [
             0.2222222222222222,
             "#7201a8"
            ],
            [
             0.3333333333333333,
             "#9c179e"
            ],
            [
             0.4444444444444444,
             "#bd3786"
            ],
            [
             0.5555555555555556,
             "#d8576b"
            ],
            [
             0.6666666666666666,
             "#ed7953"
            ],
            [
             0.7777777777777778,
             "#fb9f3a"
            ],
            [
             0.8888888888888888,
             "#fdca26"
            ],
            [
             1,
             "#f0f921"
            ]
           ],
           "sequentialminus": [
            [
             0,
             "#0d0887"
            ],
            [
             0.1111111111111111,
             "#46039f"
            ],
            [
             0.2222222222222222,
             "#7201a8"
            ],
            [
             0.3333333333333333,
             "#9c179e"
            ],
            [
             0.4444444444444444,
             "#bd3786"
            ],
            [
             0.5555555555555556,
             "#d8576b"
            ],
            [
             0.6666666666666666,
             "#ed7953"
            ],
            [
             0.7777777777777778,
             "#fb9f3a"
            ],
            [
             0.8888888888888888,
             "#fdca26"
            ],
            [
             1,
             "#f0f921"
            ]
           ]
          },
          "colorway": [
           "#636efa",
           "#EF553B",
           "#00cc96",
           "#ab63fa",
           "#FFA15A",
           "#19d3f3",
           "#FF6692",
           "#B6E880",
           "#FF97FF",
           "#FECB52"
          ],
          "font": {
           "color": "#2a3f5f"
          },
          "geo": {
           "bgcolor": "white",
           "lakecolor": "white",
           "landcolor": "#E5ECF6",
           "showlakes": true,
           "showland": true,
           "subunitcolor": "white"
          },
          "hoverlabel": {
           "align": "left"
          },
          "hovermode": "closest",
          "mapbox": {
           "style": "light"
          },
          "paper_bgcolor": "white",
          "plot_bgcolor": "#E5ECF6",
          "polar": {
           "angularaxis": {
            "gridcolor": "white",
            "linecolor": "white",
            "ticks": ""
           },
           "bgcolor": "#E5ECF6",
           "radialaxis": {
            "gridcolor": "white",
            "linecolor": "white",
            "ticks": ""
           }
          },
          "scene": {
           "xaxis": {
            "backgroundcolor": "#E5ECF6",
            "gridcolor": "white",
            "gridwidth": 2,
            "linecolor": "white",
            "showbackground": true,
            "ticks": "",
            "zerolinecolor": "white"
           },
           "yaxis": {
            "backgroundcolor": "#E5ECF6",
            "gridcolor": "white",
            "gridwidth": 2,
            "linecolor": "white",
            "showbackground": true,
            "ticks": "",
            "zerolinecolor": "white"
           },
           "zaxis": {
            "backgroundcolor": "#E5ECF6",
            "gridcolor": "white",
            "gridwidth": 2,
            "linecolor": "white",
            "showbackground": true,
            "ticks": "",
            "zerolinecolor": "white"
           }
          },
          "shapedefaults": {
           "line": {
            "color": "#2a3f5f"
           }
          },
          "ternary": {
           "aaxis": {
            "gridcolor": "white",
            "linecolor": "white",
            "ticks": ""
           },
           "baxis": {
            "gridcolor": "white",
            "linecolor": "white",
            "ticks": ""
           },
           "bgcolor": "#E5ECF6",
           "caxis": {
            "gridcolor": "white",
            "linecolor": "white",
            "ticks": ""
           }
          },
          "title": {
           "x": 0.05
          },
          "xaxis": {
           "automargin": true,
           "gridcolor": "white",
           "linecolor": "white",
           "ticks": "",
           "title": {
            "standoff": 15
           },
           "zerolinecolor": "white",
           "zerolinewidth": 2
          },
          "yaxis": {
           "automargin": true,
           "gridcolor": "white",
           "linecolor": "white",
           "ticks": "",
           "title": {
            "standoff": 15
           },
           "zerolinecolor": "white",
           "zerolinewidth": 2
          }
         }
        },
        "title": {
         "text": "Real vs Predicted Mood Values for Participant 1"
        },
        "updatemenus": [
         {
          "active": 0,
          "buttons": [
           {
            "args": [
             {
              "visible": [
               true,
               true,
               false,
               false,
               false,
               false,
               false,
               false,
               false,
               false,
               false,
               false,
               false,
               false,
               false,
               false,
               false,
               false
              ]
             },
             {
              "title": "Real vs Predicted Mood Values for Participant 1",
              "xaxis": {
               "title": "Day"
              },
              "yaxis": {
               "title": "Mood Value"
              }
             }
            ],
            "label": "1",
            "method": "update"
           },
           {
            "args": [
             {
              "visible": [
               false,
               false,
               true,
               true,
               false,
               false,
               false,
               false,
               false,
               false,
               false,
               false,
               false,
               false,
               false,
               false,
               false,
               false
              ]
             },
             {
              "title": "Real vs Predicted Mood Values for Participant 2",
              "xaxis": {
               "title": "Day"
              },
              "yaxis": {
               "title": "Mood Value"
              }
             }
            ],
            "label": "2",
            "method": "update"
           },
           {
            "args": [
             {
              "visible": [
               false,
               false,
               false,
               false,
               true,
               true,
               false,
               false,
               false,
               false,
               false,
               false,
               false,
               false,
               false,
               false,
               false,
               false
              ]
             },
             {
              "title": "Real vs Predicted Mood Values for Participant 3",
              "xaxis": {
               "title": "Day"
              },
              "yaxis": {
               "title": "Mood Value"
              }
             }
            ],
            "label": "3",
            "method": "update"
           },
           {
            "args": [
             {
              "visible": [
               false,
               false,
               false,
               false,
               false,
               false,
               true,
               true,
               false,
               false,
               false,
               false,
               false,
               false,
               false,
               false,
               false,
               false
              ]
             },
             {
              "title": "Real vs Predicted Mood Values for Participant 5",
              "xaxis": {
               "title": "Day"
              },
              "yaxis": {
               "title": "Mood Value"
              }
             }
            ],
            "label": "5",
            "method": "update"
           },
           {
            "args": [
             {
              "visible": [
               false,
               false,
               false,
               false,
               false,
               false,
               false,
               false,
               true,
               true,
               false,
               false,
               false,
               false,
               false,
               false,
               false,
               false
              ]
             },
             {
              "title": "Real vs Predicted Mood Values for Participant 6",
              "xaxis": {
               "title": "Day"
              },
              "yaxis": {
               "title": "Mood Value"
              }
             }
            ],
            "label": "6",
            "method": "update"
           },
           {
            "args": [
             {
              "visible": [
               false,
               false,
               false,
               false,
               false,
               false,
               false,
               false,
               false,
               false,
               true,
               true,
               false,
               false,
               false,
               false,
               false,
               false
              ]
             },
             {
              "title": "Real vs Predicted Mood Values for Participant 7",
              "xaxis": {
               "title": "Day"
              },
              "yaxis": {
               "title": "Mood Value"
              }
             }
            ],
            "label": "7",
            "method": "update"
           },
           {
            "args": [
             {
              "visible": [
               false,
               false,
               false,
               false,
               false,
               false,
               false,
               false,
               false,
               false,
               false,
               false,
               true,
               true,
               false,
               false,
               false,
               false
              ]
             },
             {
              "title": "Real vs Predicted Mood Values for Participant 8",
              "xaxis": {
               "title": "Day"
              },
              "yaxis": {
               "title": "Mood Value"
              }
             }
            ],
            "label": "8",
            "method": "update"
           },
           {
            "args": [
             {
              "visible": [
               false,
               false,
               false,
               false,
               false,
               false,
               false,
               false,
               false,
               false,
               false,
               false,
               false,
               false,
               true,
               true,
               false,
               false
              ]
             },
             {
              "title": "Real vs Predicted Mood Values for Participant 9",
              "xaxis": {
               "title": "Day"
              },
              "yaxis": {
               "title": "Mood Value"
              }
             }
            ],
            "label": "9",
            "method": "update"
           },
           {
            "args": [
             {
              "visible": [
               false,
               false,
               false,
               false,
               false,
               false,
               false,
               false,
               false,
               false,
               false,
               false,
               false,
               false,
               false,
               false,
               true,
               true
              ]
             },
             {
              "title": "Real vs Predicted Mood Values for Participant 12",
              "xaxis": {
               "title": "Day"
              },
              "yaxis": {
               "title": "Mood Value"
              }
             }
            ],
            "label": "12",
            "method": "update"
           }
          ],
          "showactive": true,
          "x": 1.1,
          "y": 1
         }
        ],
        "xaxis": {
         "title": {
          "text": "Day"
         }
        },
        "yaxis": {
         "title": {
          "text": "Mood Value"
         }
        }
       }
      }
     },
     "metadata": {},
     "output_type": "display_data"
    }
   ],
   "source": [
    "# Call the function to predict and plot\n",
    "predict_and_plot(model, train_loader, train_dataset, target_scaler=scaler_target, show_plot=True, save_html=True, title=\"train\", scaler_type=SCALER_TYPE)\n",
    "predict_and_plot(model, test_loader, test_dataset, target_scaler=scaler_target, show_plot=True, save_html=True, title=\"test\", scaler_type=SCALER_TYPE)"
   ]
  },
  {
   "cell_type": "code",
   "execution_count": null,
   "metadata": {},
   "outputs": [],
   "source": []
  }
 ],
 "metadata": {
  "kernelspec": {
   "display_name": "datascience",
   "language": "python",
   "name": "python3"
  },
  "language_info": {
   "codemirror_mode": {
    "name": "ipython",
    "version": 3
   },
   "file_extension": ".py",
   "mimetype": "text/x-python",
   "name": "python",
   "nbconvert_exporter": "python",
   "pygments_lexer": "ipython3",
   "version": "3.10.16"
  }
 },
 "nbformat": 4,
 "nbformat_minor": 2
}
